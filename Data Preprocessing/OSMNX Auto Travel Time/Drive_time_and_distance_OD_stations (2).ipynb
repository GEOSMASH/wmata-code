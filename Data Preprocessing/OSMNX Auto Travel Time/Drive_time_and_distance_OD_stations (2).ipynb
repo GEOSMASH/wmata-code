{
 "cells": [
  {
   "cell_type": "code",
   "execution_count": null,
   "id": "0a1ec166",
   "metadata": {
    "id": "0a1ec166"
   },
   "outputs": [],
   "source": [
    "import pandas as pd\n",
    "import geopandas as gpd\n",
    "import matplotlib.pyplot as plt\n",
    "import networkx as nx\n",
    "import osmnx as ox\n",
    "import itertools\n",
    "import random\n",
    "from tqdm import tqdm\n",
    "from shapely.geometry import LineString, Point, MultiPoint, Polygon"
   ]
  },
  {
   "cell_type": "markdown",
   "id": "528728d2-5eb3-4b73-98da-df5ff57e572d",
   "metadata": {},
   "source": [
    "#### Read in Datasets and Files"
   ]
  },
  {
   "cell_type": "markdown",
   "id": "83c702c4-8156-49bf-a622-71e98a2f78fa",
   "metadata": {},
   "source": [
    "* entrances contains a shapefile of all of the entrances to metro stations"
   ]
  },
  {
   "cell_type": "code",
   "execution_count": null,
   "id": "ccbff013",
   "metadata": {
    "id": "ccbff013"
   },
   "outputs": [],
   "source": [
    "entrances = gpd.read_file(\"../../Data/RailStationEntrances2023.zip\")"
   ]
  },
  {
   "cell_type": "markdown",
   "id": "b4f45e9f-1d1a-4048-b6d6-99324253bdb4",
   "metadata": {},
   "source": [
    "#### Preprocessing\n"
   ]
  },
  {
   "cell_type": "markdown",
   "id": "c93f55f0-6e5b-4c4f-afa7-92be1b1d96db",
   "metadata": {},
   "source": [
    "* dissolve the metro entrances into multipoints of stations based on the station name\n",
    "* Make the geometry of the multipoint the centroid\n",
    "* Change the CRS "
   ]
  },
  {
   "cell_type": "code",
   "execution_count": null,
   "id": "68c736fb",
   "metadata": {
    "colab": {
     "base_uri": "https://localhost:8080/",
     "height": 1000
    },
    "id": "68c736fb",
    "outputId": "5e10b85a-1516-4d71-dda4-7906f839f321"
   },
   "outputs": [],
   "source": [
    "stations = entrances.dissolve(by='STATIONNM')\n",
    "stations['geometry'] = stations.centroid\n",
    "stations=stations.to_crs(\"EPSG:4326\")\n",
    "stations.head(2)"
   ]
  },
  {
   "cell_type": "markdown",
   "id": "7895f68f-086b-4f83-b144-568a8144ba45",
   "metadata": {},
   "source": [
    "* Create an OSMNX graph of the network that contains all of the stops in the DC metro system and reproject the graph into the coordinate system that matches the metro ststions\n",
    "* Get the nearest nodes on the network to the metro station\n",
    "* Create all of the possible combinations of station pairs"
   ]
  },
  {
   "cell_type": "code",
   "execution_count": null,
   "id": "BEF5-UIYdXV9",
   "metadata": {
    "id": "BEF5-UIYdXV9"
   },
   "outputs": [],
   "source": [
    "graph = ox.graph_from_bbox(39.2, 38.5, -76.7, -77.6 ,network_type=\"drive\")\n",
    "graph = ox.projection.project_graph(graph, to_crs='4326')"
   ]
  },
  {
   "cell_type": "code",
   "execution_count": null,
   "id": "f608f889",
   "metadata": {
    "colab": {
     "base_uri": "https://localhost:8080/"
    },
    "id": "f608f889",
    "outputId": "7dfad92e-7157-407e-a71d-a87e005d01db"
   },
   "outputs": [],
   "source": [
    "stations['nearest_node'] = ox.distance.nearest_nodes(graph, stations.geometry.x, stations.geometry.y)\n",
    "stations['nearest_node'].head(2)"
   ]
  },
  {
   "cell_type": "code",
   "execution_count": null,
   "id": "2a803def",
   "metadata": {
    "id": "2a803def"
   },
   "outputs": [],
   "source": [
    "od_pairs = gpd.GeoDataFrame(list(itertools.combinations(stations.iterrows(), 2)), columns=['a', 'b'])\n",
    "od_pairs['geometry_a'] = od_pairs['a'].apply(lambda x: x[1]['geometry'])\n",
    "od_pairs['geometry_b'] = od_pairs['b'].apply(lambda x: x[1]['geometry'])"
   ]
  },
  {
   "cell_type": "markdown",
   "id": "8f828ee9-c0f3-4915-bf50-5f2a09a02b8d",
   "metadata": {},
   "source": [
    "* Using the OD pairs, get the x and y coordinates at the origin (a) and destination (b) stations\n",
    "* Using the x and y values, find the nearest node on the OSMNX graph"
   ]
  },
  {
   "cell_type": "code",
   "execution_count": null,
   "id": "KaQWAvZyKIUN",
   "metadata": {
    "id": "KaQWAvZyKIUN"
   },
   "outputs": [],
   "source": [
    "x_coordsa = []\n",
    "y_coordsa = []\n",
    "x_coordsb = []\n",
    "y_coordsb = []\n",
    "\n",
    "for i in range(len(od_pairs)):\n",
    "  x_coorda = od_pairs.geometry_a[i].x\n",
    "  y_coorda = od_pairs.geometry_a[i].y\n",
    "  x_coordsa.append(x_coorda)\n",
    "  y_coordsa.append(y_coorda)\n",
    "  x_coordb = od_pairs.geometry_b[i].x\n",
    "  y_coordb = od_pairs.geometry_b[i].y\n",
    "  x_coordsb.append(x_coordb)\n",
    "  y_coordsb.append(y_coordb)\n",
    "\n",
    "od_pairs['xa'] = x_coordsa\n",
    "od_pairs['ya'] = y_coordsa\n",
    "od_pairs['xb'] = x_coordsb\n",
    "od_pairs['yb'] = y_coordsb"
   ]
  },
  {
   "cell_type": "code",
   "execution_count": null,
   "id": "G_nYoREcJ660",
   "metadata": {
    "id": "G_nYoREcJ660"
   },
   "outputs": [],
   "source": [
    "od_pairs['node_a'] = ox.distance.nearest_nodes(graph, od_pairs.xa, od_pairs.ya)\n",
    "od_pairs['node_b'] = ox.distance.nearest_nodes(graph, od_pairs.xb, od_pairs.yb)\n",
    "od_pairs.rename(columns={'a':'origins', 'b':'destinations'}, inplace=True)\n",
    "od_pairs.head(2)"
   ]
  },
  {
   "cell_type": "markdown",
   "id": "661d9284-5096-4920-9d44-c691a04d0a44",
   "metadata": {},
   "source": [
    "* Make a copy of the dataframe and change the column names so that the origins are now the destinatinons (to get the travel times in the opposite direction)\n",
    "* Organize the columns in the same order as in the original dataframe\n",
    "* Concatenate od_pairs and od_pairs2 and reset the index"
   ]
  },
  {
   "cell_type": "code",
   "execution_count": null,
   "id": "RtWc0NCWV0o5",
   "metadata": {
    "colab": {
     "base_uri": "https://localhost:8080/",
     "height": 762
    },
    "id": "RtWc0NCWV0o5",
    "outputId": "84d1892b-7071-434b-83f2-f018cd8a08c0"
   },
   "outputs": [],
   "source": [
    "od_pairs2 = od_pairs.copy()\n",
    "od_pairs2.rename(columns={'origins':'destinations2', 'destinations':'origins2', 'node_a': 'node_c', 'node_b': 'node_d' }, inplace=True)\n",
    "od_pairs2.rename(columns={'destinations2':'destinations', 'origins2':'origins', 'node_c':'node_b', 'node_d':'node_a'}, inplace=True)\n",
    "od_pairs2.head(2)"
   ]
  },
  {
   "cell_type": "code",
   "execution_count": null,
   "id": "yeuycLAOy4LR",
   "metadata": {
    "id": "yeuycLAOy4LR"
   },
   "outputs": [],
   "source": [
    "cols = od_pairs.columns.to_list()\n",
    "od_pairs2 = od_pairs2[cols]"
   ]
  },
  {
   "cell_type": "code",
   "execution_count": null,
   "id": "m3kBjTsTbCWX",
   "metadata": {
    "colab": {
     "base_uri": "https://localhost:8080/",
     "height": 814
    },
    "id": "m3kBjTsTbCWX",
    "outputId": "c38a4f75-a627-4d6a-9a5a-c965df67b9a3"
   },
   "outputs": [],
   "source": [
    "od_pairs3 = pd.concat([od_pairs2, od_pairs], sort=False)\n",
    "od_pairs3 = od_pairs3.reset_index()\n",
    "od_pairs3.head(2)"
   ]
  },
  {
   "cell_type": "markdown",
   "id": "34574bbd-cd6d-4a6f-8921-8b4b5a8592b7",
   "metadata": {},
   "source": [
    "* Clean Up the names of the stations\n",
    "* There are issues with the Herndon, VA station. Create a network graph for Herndon\n",
    "* Replace Herndon's old node with the new node\n",
    "* Check to make sure there are two records per 2 stations"
   ]
  },
  {
   "cell_type": "code",
   "execution_count": null,
   "id": "Ajlpef98Dbun",
   "metadata": {
    "id": "Ajlpef98Dbun"
   },
   "outputs": [],
   "source": [
    "#get names of stations\n",
    "origins = []\n",
    "destinations = []\n",
    "for i in range(len(od_pairs3)):\n",
    "  og = od_pairs3['origins'][i][0]\n",
    "  dest = od_pairs3['destinations'][i][0]\n",
    "  origins.append(og)\n",
    "  destinations.append(dest)\n",
    "od_pairs3['origins'] = origins\n",
    "od_pairs3['destinations'] = destinations"
   ]
  },
  {
   "cell_type": "code",
   "execution_count": null,
   "id": "PlEbyaI2g70f",
   "metadata": {
    "id": "PlEbyaI2g70f"
   },
   "outputs": [],
   "source": [
    "herndon = ox.graph.graph_from_place(\"Herndon, Virginia\", network_type='drive')"
   ]
  },
  {
   "cell_type": "code",
   "execution_count": null,
   "id": "rdmN_4REb4Pv",
   "metadata": {
    "colab": {
     "base_uri": "https://localhost:8080/",
     "height": 1000
    },
    "id": "rdmN_4REb4Pv",
    "outputId": "50f9b944-c722-4f37-efea-f8fa2ed3e99c"
   },
   "outputs": [],
   "source": [
    "for i in range(len(od_pairs3)):\n",
    "  if od_pairs3['destinations'].iloc[i] == 'HERNDON':\n",
    "    od_pairs3['node_b'].iloc[i] = ox.distance.nearest_nodes(herndon, -77.3847417, 38.9524369)\n",
    "  else:\n",
    "    od_pairs3['node_b'].iloc[i] = od_pairs3['node_b'].iloc[i]\n",
    "for i in range(len(od_pairs3)):\n",
    "  if od_pairs3['origins'].iloc[i] == 'HERNDON':\n",
    "    od_pairs3['node_a'].iloc[i] = ox.distance.nearest_nodes(herndon, -77.3847417, 38.9524369)\n",
    "  else:\n",
    "    od_pairs3['node_a'].iloc[i] = od_pairs3['node_a'].iloc[i]\n",
    "\n",
    "od_pairs3.head(2)"
   ]
  },
  {
   "cell_type": "code",
   "execution_count": null,
   "id": "6dkpzGwvgvqL",
   "metadata": {
    "colab": {
     "base_uri": "https://localhost:8080/",
     "height": 191
    },
    "id": "6dkpzGwvgvqL",
    "outputId": "fb698389-6526-4025-ebe1-0d67c7f30024",
    "scrolled": true
   },
   "outputs": [],
   "source": [
    "od_pairs3[(od_pairs3['origins']== 'HERNDON'\t) & (od_pairs3['destinations']== 'ANACOSTIA') | (od_pairs3['origins']== 'ANACOSTIA') & (od_pairs3['destinations']== 'HERNDON')]"
   ]
  },
  {
   "cell_type": "markdown",
   "id": "7603b025-cb61-483c-a320-e4e305dc4b45",
   "metadata": {},
   "source": [
    "# Calculate the travel distance and time for each OD pair"
   ]
  },
  {
   "cell_type": "markdown",
   "id": "53193553-e2eb-4bad-b2c3-24e759d3d3b4",
   "metadata": {},
   "source": [
    "* Create a list of random numbers between 25 and 35 to represent average speeds\n",
    "* For every record in the od_pairs dataframe calculate the shortest path between origin and destination\n",
    "* Calculate the total distance for the route in miles\n",
    "* Calculate the travel time for the route based on your average speed\n",
    "* Add the distance and travel time to the OD pairs GeoDataFrame"
   ]
  },
  {
   "cell_type": "code",
   "execution_count": null,
   "id": "feBaAKqQWSOc",
   "metadata": {
    "colab": {
     "base_uri": "https://localhost:8080/",
     "height": 435
    },
    "id": "feBaAKqQWSOc",
    "outputId": "1c9a7bc2-f4b4-4fdc-886e-b76a83a6c03f"
   },
   "outputs": [],
   "source": [
    "random.seed(0)\n",
    "random_numbers = [random.uniform(25, 35) for _ in range(9312)]\n",
    "\n",
    "distances = []\n",
    "travel_times = []\n",
    "\n",
    "for i in tqdm(range(len(od_pairs3))):\n",
    "  # Calculate the shortest path between origin and destination\n",
    "    route = ox.shortest_path(graph, od_pairs3['node_a'].iloc[i],od_pairs3['node_b'].iloc[i], weight='length')\n",
    "\n",
    "    if route is not None:\n",
    "        # Calculate the total distance for the route\n",
    "        distance = ox.utils_graph.route_to_gdf(graph, route, 'length')\n",
    "        distance = distance['length']\n",
    "        distance = sum(distance)/1609\n",
    "\n",
    "        # Calculate the travel time for the route based on your average speed\n",
    "        travel_time = distance / random_numbers[i]  # average speed based on random numbers\n",
    "\n",
    "        distances.append(distance)\n",
    "        travel_times.append(travel_time)\n",
    "    else:\n",
    "        distances.append(None)\n",
    "        travel_times.append(None)\n",
    "\n",
    "# Add the distance and travel time to the OD pairs GeoDataFrame\n",
    "od_pairs3['distance'] = distances\n",
    "od_pairs3['total_travel_time_hrs'] = travel_times\n",
    "od_pairs3['speed_mph'] = random_numbers\n",
    "od_pairs3.head()\n"
   ]
  },
  {
   "cell_type": "markdown",
   "id": "ba688bb0-d69a-4a53-9543-137e61f1e006",
   "metadata": {},
   "source": [
    "* Filter wanted columns\n",
    "* Divide total travel time by 60 to get the travel time in minutes\n",
    "* Divide travel time in minutes by thr route distance to get travel minutes per mile\n",
    "* Export\n"
   ]
  },
  {
   "cell_type": "code",
   "execution_count": null,
   "id": "z9PoBtcF-0a_",
   "metadata": {
    "colab": {
     "base_uri": "https://localhost:8080/",
     "height": 423
    },
    "id": "z9PoBtcF-0a_",
    "outputId": "f8332005-21bb-41a4-df52-cdde3ff092a0"
   },
   "outputs": [],
   "source": [
    "# filter wanted columns\n",
    "od_pairs3 = od_pairs3[['origins', 'destinations', 'speed_mph', 'distance', 'total_travel_time']]\n",
    "od_pairs3.head(2)"
   ]
  },
  {
   "cell_type": "code",
   "execution_count": null,
   "id": "1bb49ae4",
   "metadata": {},
   "outputs": [],
   "source": [
    "od_pairs3['total_travel_time_min'] = od_pairs3['total_travel_time_hrs'] * 60"
   ]
  },
  {
   "cell_type": "code",
   "execution_count": null,
   "id": "KGHMVfsJooiT",
   "metadata": {
    "id": "KGHMVfsJooiT"
   },
   "outputs": [],
   "source": [
    "od_pairs3['min_p_mile'] = od_pairs3['total_travel_time_min'] / od_pairs3['distance']"
   ]
  },
  {
   "cell_type": "code",
   "execution_count": null,
   "id": "f6b1fb17",
   "metadata": {
    "id": "f6b1fb17"
   },
   "outputs": [],
   "source": [
    "od_pairs3.to_excel(\"output/25_35_drive_times_distances.xlsx\")"
   ]
  },
  {
   "cell_type": "code",
   "execution_count": null,
   "id": "txuzskklj304",
   "metadata": {
    "id": "txuzskklj304"
   },
   "outputs": [],
   "source": []
  },
  {
   "cell_type": "code",
   "execution_count": null,
   "id": "N3-54yp7j389",
   "metadata": {
    "id": "N3-54yp7j389"
   },
   "outputs": [],
   "source": []
  },
  {
   "cell_type": "code",
   "execution_count": null,
   "id": "35cVosRSj3_i",
   "metadata": {
    "id": "35cVosRSj3_i"
   },
   "outputs": [],
   "source": []
  },
  {
   "cell_type": "code",
   "execution_count": null,
   "id": "Ex1AqsHBj4Bf",
   "metadata": {
    "id": "Ex1AqsHBj4Bf"
   },
   "outputs": [],
   "source": []
  },
  {
   "cell_type": "code",
   "execution_count": null,
   "id": "JsfJY8RQj4EG",
   "metadata": {
    "id": "JsfJY8RQj4EG"
   },
   "outputs": [],
   "source": []
  },
  {
   "cell_type": "code",
   "execution_count": null,
   "id": "iHMY3UM3j4Gc",
   "metadata": {
    "id": "iHMY3UM3j4Gc"
   },
   "outputs": [],
   "source": []
  },
  {
   "cell_type": "code",
   "execution_count": null,
   "id": "Ib3mwUdfj4K8",
   "metadata": {
    "id": "Ib3mwUdfj4K8"
   },
   "outputs": [],
   "source": []
  },
  {
   "cell_type": "code",
   "execution_count": null,
   "id": "blQ1YzEIj4Nj",
   "metadata": {
    "id": "blQ1YzEIj4Nj"
   },
   "outputs": [],
   "source": []
  },
  {
   "cell_type": "code",
   "execution_count": null,
   "id": "XJ-e6GMfj4RF",
   "metadata": {
    "id": "XJ-e6GMfj4RF"
   },
   "outputs": [],
   "source": []
  }
 ],
 "metadata": {
  "colab": {
   "provenance": []
  },
  "kernelspec": {
   "display_name": "Python 3 (ipykernel)",
   "language": "python",
   "name": "python3"
  },
  "language_info": {
   "codemirror_mode": {
    "name": "ipython",
    "version": 3
   },
   "file_extension": ".py",
   "mimetype": "text/x-python",
   "name": "python",
   "nbconvert_exporter": "python",
   "pygments_lexer": "ipython3",
   "version": "3.12.0"
  }
 },
 "nbformat": 4,
 "nbformat_minor": 5
}
