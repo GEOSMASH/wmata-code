{
 "cells": [
  {
   "cell_type": "code",
   "execution_count": 1,
   "id": "4f53e226-a80c-45d9-8e60-c5d3823739ef",
   "metadata": {},
   "outputs": [],
   "source": [
    "import os\n",
    "os.makedirs('output', exist_ok=True)\n",
    "\n",
    "import sys\n",
    "sys.path.append('../')\n",
    "\n",
    "from utils import load_walksheds, overlay_wks\n",
    "\n",
    "import pandas as pd\n",
    "import numpy as np\n",
    "import matplotlib.pyplot as plt\n",
    "import geopandas as gpd\n",
    "import warnings\n",
    "warnings.filterwarnings(\"ignore\")"
   ]
  },
  {
   "cell_type": "markdown",
   "id": "f99baf3a-d653-4e45-b950-bf8c80511852",
   "metadata": {},
   "source": [
    "* wksp5, wksp75 contain the .5 and .75 walkshed boundaries, respectively\n",
    "* sop contains the SoP indices and the bikelanes variable\n",
    "* mstns contains the MSTN station IDs"
   ]
  },
  {
   "cell_type": "code",
   "execution_count": 2,
   "id": "56463472-ea9e-4d4d-85ab-a412ea5711bc",
   "metadata": {},
   "outputs": [],
   "source": [
    "wksp5, wksp75 = load_walksheds()"
   ]
  },
  {
   "cell_type": "code",
   "execution_count": 3,
   "id": "b975b3a1-74f9-4c53-aeab-9950cacf4be8",
   "metadata": {},
   "outputs": [],
   "source": [
    "sop = gpd.read_file(\"../../Data/SoP_BikeLanes_Feb_2024.geojson\")\n",
    "mstns = pd.read_excel(\"../../Data/mstn_id_to_stn_name.xlsx\")"
   ]
  },
  {
   "cell_type": "markdown",
   "id": "4c626b56-470b-4780-b82f-71c8a949b2d0",
   "metadata": {},
   "source": [
    "* Sort and and create a new column of station names for easy merging\n",
    "* Merge the walksheds and SoP\n",
    "* Group by the station name and sum the bike lanes, take the mean of the SoP NORMALIZED indices\n",
    "* Merge in the station IDs and keep only relevant columns\n",
    "* Export"
   ]
  },
  {
   "cell_type": "code",
   "execution_count": 4,
   "id": "d00d0a65-be25-4136-8cc0-20329c631c46",
   "metadata": {},
   "outputs": [],
   "source": [
    "mstns.sort_values(by = 'PRIMARY_NAME_FY23',inplace=True)\n",
    "mstns['walkshed_filename'] = ['ADDISON ROAD-SEAT PLEASANT','ANACOSTIA','ARCHIVES-NAVY MEMORIAL-PENN QUARTER','ARLINGTON CEMETERY','Ashburn','BALLSTON-MU',\n",
    "                              'BENNING ROAD','BETHESDA','BRADDOCK ROAD','BRANCH AVE','BROOKLAND-CUA','CAPITOL HEIGHTS','CAPITOL SOUTH','CHEVERLY',\n",
    "                              'CLARENDON','CLEVELAND PARK','COLLEGE PARK-U OF MD','COLUMBIA HEIGHTS','CONGRESS HEIGHTS','COURT HOUSE','CRYSTAL CITY',\n",
    "                              'DEANWOOD','LARGO TOWN CENTER','Washington Dulles International Airport', 'DUNN LORING-MERRIFIELD','DUPONT CIRCLE','EAST FALLS CHURCH','EASTERN MARKET','EISENHOWER AVENUE','FARRAGUT NORTH',\n",
    "                              'FARRAGUT WEST','FEDERAL CENTER SW','FEDERAL TRIANGLE','FOGGY BOTTOM-GWU','FOREST GLEN','FORT TOTTEN','FRANCONIA-SPRINGFIELD',\n",
    "                              'FRIENDSHIP HEIGHTS','GALLERY PL-CHINATOWN','GEORGIA AVE-PETWORTH','GLENMONT','GREENBELT','GREENSBORO','GROSVENOR-STRATHMORE',\n",
    "                              'Herndon','HUNTINGTON',\"PRINCE GEORGE'S PLAZA\",'Innovation Center','JUDICIARY SQUARE','KING ST-OLD TOWN',\"L'ENFANT PLAZA\",'LANDOVER',\n",
    "                              'Loudoun Gateway','MCLEAN','MCPHERSON SQUARE','MEDICAL CENTER','METRO CENTER','MINNESOTA AVE','MORGAN BOULEVARD',\n",
    "                              'MT VERNON SQ 7TH ST-CONVENTION CENTER','NAVY YARD-BALLPARK','NAYLOR ROAD','NEW CARROLLTON','NOMA-GALLAUDET','WHITE FLINT','PENTAGON',\n",
    "                              'PENTAGON CITY','POTOMAC AVE', \"\",'Reston Town Center','RHODE ISLAND AVE-BRENTWOOD','ROCKVILLE','RONALD REAGAN WASHINGTON NATIONAL AIRPORT',\n",
    "                              'ROSSLYN','SHADY GROVE','SHAW-HOWARD U','SILVER SPRING','SMITHSONIAN','SOUTHERN AVENUE','SPRING HILL',\n",
    "                              'STADIUM-ARMORY','SUITLAND','TAKOMA','TENLEYTOWN-AU','TWINBROOK','TYSONS CORNER','U STREET/AFRICAN-AMER CIVIL WAR MEMORIAL/CARDOZO',\n",
    "                              'UNION STATION','VAN DORN STREET','VAN NESS-UDC','VIENNA/FAIRFAX-GMU','VIRGINIA SQUARE-GMU','WATERFRONT','WEST FALLS CHURCH-VT/UVA',\n",
    "                              'WEST HYATTSVILLE','WHEATON','WIEHLE-RESTON EAST','WOODLEY PARK-ZOO/ADAMS MORGAN',]"
   ]
  },
  {
   "cell_type": "code",
   "execution_count": 5,
   "id": "0cb82ed9-7d50-465d-8397-ac548f11a08d",
   "metadata": {},
   "outputs": [],
   "source": [
    "walksheds_sop50 = gpd.sjoin(wksp5, sop, how='left')\n",
    "walksheds_sop75 = gpd.sjoin(wksp75, sop, how='left')"
   ]
  },
  {
   "cell_type": "code",
   "execution_count": 6,
   "id": "56101224-ef56-465d-8750-65c6cfb2e1bb",
   "metadata": {},
   "outputs": [],
   "source": [
    "walksheds_sop50 = walksheds_sop50.groupby('Name_1').agg({'bikelane': 'sum', 'form3norm' : 'mean', 'dens2norm': 'mean', 'prox3norm': 'mean',\n",
    "       'conn6norm': 'mean', 'parks2norm': 'mean', 'peds4norm': 'mean', 'safenorm': 'mean', 'traffic5norm': 'mean',\n",
    "       'aesttot3norm': 'mean', 'paf2norm': 'mean', 'sop7norm': 'mean'})\n",
    "walksheds_sop50.reset_index(inplace=True)\n",
    "\n",
    "walksheds_sop75 = walksheds_sop75.groupby('Name_1').agg({'bikelane': 'sum', 'form3norm' : 'mean', 'dens2norm': 'mean', 'prox3norm': 'mean',\n",
    "       'conn6norm': 'mean', 'parks2norm': 'mean', 'peds4norm': 'mean', 'safenorm': 'mean', 'traffic5norm': 'mean',\n",
    "       'aesttot3norm': 'mean', 'paf2norm': 'mean', 'sop7norm': 'mean'})\n",
    "walksheds_sop75.reset_index(inplace=True)"
   ]
  },
  {
   "cell_type": "code",
   "execution_count": 7,
   "id": "160f6f13-7d47-482c-ab7f-b9de1fa12137",
   "metadata": {},
   "outputs": [],
   "source": [
    "walksheds_sop50_2 = mstns.merge(walksheds_sop50, left_on = 'walkshed_filename', right_on= 'Name_1')\n",
    "walksheds_sop50_2 = walksheds_sop50_2[['ID', 'Name_1', 'bikelane', 'form3norm',\n",
    "       'dens2norm', 'prox3norm', 'conn6norm', 'parks2norm', 'peds4norm',\n",
    "       'safenorm', 'traffic5norm', 'aesttot3norm', 'paf2norm', 'sop7norm']]\n",
    "\n",
    "walksheds_sop75_2 = mstns.merge(walksheds_sop75, left_on = 'walkshed_filename', right_on= 'Name_1')\n",
    "walksheds_sop75_2 = walksheds_sop75_2[['ID', 'Name_1', 'bikelane', 'form3norm',\n",
    "       'dens2norm', 'prox3norm', 'conn6norm', 'parks2norm', 'peds4norm',\n",
    "       'safenorm', 'traffic5norm', 'aesttot3norm', 'paf2norm', 'sop7norm']]\n",
    "\n"
   ]
  },
  {
   "cell_type": "code",
   "execution_count": 13,
   "id": "c27c0bd4-989b-48cf-bf16-f9e7d9a74c1d",
   "metadata": {},
   "outputs": [],
   "source": [
    "walksheds_sop50_2.to_csv('output/SoP_BikeLanes_p5.csv')\n",
    "walksheds_sop75_2.to_csv('output/SoP_BikeLanes_p75.csv')"
   ]
  }
 ],
 "metadata": {
  "kernelspec": {
   "display_name": "Python 3 (ipykernel)",
   "language": "python",
   "name": "python3"
  },
  "language_info": {
   "codemirror_mode": {
    "name": "ipython",
    "version": 3
   },
   "file_extension": ".py",
   "mimetype": "text/x-python",
   "name": "python",
   "nbconvert_exporter": "python",
   "pygments_lexer": "ipython3",
   "version": "3.11.4"
  }
 },
 "nbformat": 4,
 "nbformat_minor": 5
}
