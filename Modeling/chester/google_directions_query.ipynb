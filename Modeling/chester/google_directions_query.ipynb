{
 "cells": [
  {
   "cell_type": "code",
   "execution_count": 1,
   "id": "05c16877-dc99-44f6-ae80-e0369e1d073f",
   "metadata": {},
   "outputs": [],
   "source": [
    "import geopandas as gpd\n",
    "import pandas as pd\n",
    "from google_geocoding import *\n",
    "from feature_dev import *\n",
    "import utils\n",
    "\n",
    "%load_ext autoreload\n",
    "%autoreload 2\n",
    "\n",
    "# pd.set_option('display.max_rows', None)"
   ]
  },
  {
   "cell_type": "markdown",
   "id": "b4bf12e2-8e0e-48f7-b024-94ab40b08d53",
   "metadata": {},
   "source": [
    "# Driving Travel Times"
   ]
  },
  {
   "cell_type": "code",
   "execution_count": 2,
   "id": "18828e20-fa2e-4eb3-a9b9-7fd074b166a0",
   "metadata": {},
   "outputs": [],
   "source": [
    "gdf = load_station_points()\n",
    "df = construct_ods_for_routing(gdf)"
   ]
  },
  {
   "cell_type": "code",
   "execution_count": 3,
   "id": "4ad6682f-7aa6-4e67-b5d7-bcda8dafc0d7",
   "metadata": {},
   "outputs": [],
   "source": [
    "# modes = ['driving']\n",
    "# query_routes(df, modes)"
   ]
  },
  {
   "cell_type": "code",
   "execution_count": 4,
   "id": "e5414da9-b4cf-4c2f-b8db-1e2de1054284",
   "metadata": {},
   "outputs": [],
   "source": [
    "driving_summaries = construct_driving_summary(df)\n",
    "driving_summaries.to_csv('google_driving_summaries.csv')"
   ]
  },
  {
   "cell_type": "code",
   "execution_count": 5,
   "id": "40e37c9b-3bcb-422e-8766-430549c892d6",
   "metadata": {},
   "outputs": [
    {
     "data": {
      "text/html": [
       "<div>\n",
       "<style scoped>\n",
       "    .dataframe tbody tr th:only-of-type {\n",
       "        vertical-align: middle;\n",
       "    }\n",
       "\n",
       "    .dataframe tbody tr th {\n",
       "        vertical-align: top;\n",
       "    }\n",
       "\n",
       "    .dataframe thead th {\n",
       "        text-align: right;\n",
       "    }\n",
       "</style>\n",
       "<table border=\"1\" class=\"dataframe\">\n",
       "  <thead>\n",
       "    <tr style=\"text-align: right;\">\n",
       "      <th></th>\n",
       "      <th>station_name_o</th>\n",
       "      <th>lat_o</th>\n",
       "      <th>lon_o</th>\n",
       "      <th>station_name_d</th>\n",
       "      <th>lat_d</th>\n",
       "      <th>lon_d</th>\n",
       "      <th>google_driving_minutes</th>\n",
       "      <th>google_driving_miles</th>\n",
       "    </tr>\n",
       "  </thead>\n",
       "  <tbody>\n",
       "    <tr>\n",
       "      <th>0</th>\n",
       "      <td>Addison Road</td>\n",
       "      <td>38.88706</td>\n",
       "      <td>-76.89581</td>\n",
       "      <td>Anacostia</td>\n",
       "      <td>38.86278</td>\n",
       "      <td>-76.99563</td>\n",
       "      <td>20.05</td>\n",
       "      <td>9.35</td>\n",
       "    </tr>\n",
       "    <tr>\n",
       "      <th>193</th>\n",
       "      <td>Archives</td>\n",
       "      <td>38.89389</td>\n",
       "      <td>-77.02193</td>\n",
       "      <td>Anacostia</td>\n",
       "      <td>38.86278</td>\n",
       "      <td>-76.99563</td>\n",
       "      <td>8.98</td>\n",
       "      <td>4.58</td>\n",
       "    </tr>\n",
       "    <tr>\n",
       "      <th>289</th>\n",
       "      <td>Arlington Cemetery</td>\n",
       "      <td>38.88449</td>\n",
       "      <td>-77.06338</td>\n",
       "      <td>Anacostia</td>\n",
       "      <td>38.86278</td>\n",
       "      <td>-76.99563</td>\n",
       "      <td>12.92</td>\n",
       "      <td>6.10</td>\n",
       "    </tr>\n",
       "    <tr>\n",
       "      <th>385</th>\n",
       "      <td>Ashburn</td>\n",
       "      <td>39.00457</td>\n",
       "      <td>-77.49112</td>\n",
       "      <td>Anacostia</td>\n",
       "      <td>38.86278</td>\n",
       "      <td>-76.99563</td>\n",
       "      <td>39.27</td>\n",
       "      <td>35.45</td>\n",
       "    </tr>\n",
       "    <tr>\n",
       "      <th>481</th>\n",
       "      <td>Ballston-MU</td>\n",
       "      <td>38.88216</td>\n",
       "      <td>-77.11180</td>\n",
       "      <td>Anacostia</td>\n",
       "      <td>38.86278</td>\n",
       "      <td>-76.99563</td>\n",
       "      <td>18.97</td>\n",
       "      <td>9.63</td>\n",
       "    </tr>\n",
       "  </tbody>\n",
       "</table>\n",
       "</div>"
      ],
      "text/plain": [
       "         station_name_o     lat_o     lon_o station_name_d     lat_d  \\\n",
       "0          Addison Road  38.88706 -76.89581      Anacostia  38.86278   \n",
       "193            Archives  38.89389 -77.02193      Anacostia  38.86278   \n",
       "289  Arlington Cemetery  38.88449 -77.06338      Anacostia  38.86278   \n",
       "385             Ashburn  39.00457 -77.49112      Anacostia  38.86278   \n",
       "481         Ballston-MU  38.88216 -77.11180      Anacostia  38.86278   \n",
       "\n",
       "        lon_d  google_driving_minutes  google_driving_miles  \n",
       "0   -76.99563                   20.05                  9.35  \n",
       "193 -76.99563                    8.98                  4.58  \n",
       "289 -76.99563                   12.92                  6.10  \n",
       "385 -76.99563                   39.27                 35.45  \n",
       "481 -76.99563                   18.97                  9.63  "
      ]
     },
     "execution_count": 5,
     "metadata": {},
     "output_type": "execute_result"
    }
   ],
   "source": [
    "driving_summaries.head()"
   ]
  },
  {
   "cell_type": "code",
   "execution_count": 6,
   "id": "2da7e1c7-e8b7-4b93-beb4-ee305503fdbd",
   "metadata": {},
   "outputs": [
    {
     "data": {
      "text/plain": [
       "9312"
      ]
     },
     "execution_count": 6,
     "metadata": {},
     "output_type": "execute_result"
    }
   ],
   "source": [
    "len(driving_summaries)"
   ]
  },
  {
   "cell_type": "code",
   "execution_count": 7,
   "id": "efa6503e-4b1e-429f-a2c7-f928cbf5b9e4",
   "metadata": {},
   "outputs": [
    {
     "data": {
      "text/html": [
       "<div>\n",
       "<style scoped>\n",
       "    .dataframe tbody tr th:only-of-type {\n",
       "        vertical-align: middle;\n",
       "    }\n",
       "\n",
       "    .dataframe tbody tr th {\n",
       "        vertical-align: top;\n",
       "    }\n",
       "\n",
       "    .dataframe thead th {\n",
       "        text-align: right;\n",
       "    }\n",
       "</style>\n",
       "<table border=\"1\" class=\"dataframe\">\n",
       "  <thead>\n",
       "    <tr style=\"text-align: right;\">\n",
       "      <th></th>\n",
       "      <th>station_name_o</th>\n",
       "      <th>lat_o</th>\n",
       "      <th>lon_o</th>\n",
       "      <th>station_name_d</th>\n",
       "      <th>lat_d</th>\n",
       "      <th>lon_d</th>\n",
       "      <th>google_driving_minutes</th>\n",
       "      <th>google_driving_miles</th>\n",
       "    </tr>\n",
       "  </thead>\n",
       "  <tbody>\n",
       "  </tbody>\n",
       "</table>\n",
       "</div>"
      ],
      "text/plain": [
       "Empty DataFrame\n",
       "Columns: [station_name_o, lat_o, lon_o, station_name_d, lat_d, lon_d, google_driving_minutes, google_driving_miles]\n",
       "Index: []"
      ]
     },
     "execution_count": 7,
     "metadata": {},
     "output_type": "execute_result"
    }
   ],
   "source": [
    "driving_summaries[driving_summaries.duplicated(subset=['station_name_o','station_name_d'], keep=False)]"
   ]
  },
  {
   "cell_type": "markdown",
   "id": "4c1192d2-1912-44af-bf27-9b955e61002a",
   "metadata": {},
   "source": [
    "# Bus Travel Times"
   ]
  },
  {
   "cell_type": "code",
   "execution_count": 13,
   "id": "d289d6d9-641b-4d7b-a81c-bb16ee9bcd00",
   "metadata": {},
   "outputs": [],
   "source": [
    "# gdf = load_station_points()\n",
    "# dfs = construct_grouped_ods_for_routing(gdf)\n",
    "\n",
    "# # Pickle groups\n",
    "# with open('transit_group_dataframes.pickle', 'wb') as handle:\n",
    "#     pickle.dump(dfs, handle, protocol=pickle.HIGHEST_PROTOCOL)"
   ]
  },
  {
   "cell_type": "code",
   "execution_count": 14,
   "id": "804d85c1-df30-4547-a7c9-43cb2e07f7b1",
   "metadata": {},
   "outputs": [],
   "source": [
    "pickle_path = '2024 Data Collection/Google Travel Times/raw data/transit_group_dataframes.pickle'\n",
    "pickle_path = os.path.join(utils.configs.box_data_dir, pickle_path)\n",
    "with open(pickle_path, 'rb') as handle:\n",
    "    dfs = pickle.load(handle)"
   ]
  },
  {
   "cell_type": "code",
   "execution_count": 15,
   "id": "e0ae641c-e8d3-4c85-9717-f5259b598361",
   "metadata": {},
   "outputs": [],
   "source": [
    "# modes = [('transit','bus')]\n",
    "# query_grouped_routes(dfs, modes)"
   ]
  },
  {
   "cell_type": "code",
   "execution_count": 20,
   "id": "1668d2d5-9b06-4415-b014-1c598bf07aa9",
   "metadata": {},
   "outputs": [],
   "source": [
    "bus_summaries = construct_bus_transit_summary(dfs)\n",
    "bus_summaries.to_csv('google_transit_bus_summaries.csv')"
   ]
  },
  {
   "cell_type": "code",
   "execution_count": 21,
   "id": "04a23652-8c64-4273-957c-f63dab41ee7c",
   "metadata": {},
   "outputs": [
    {
     "data": {
      "text/html": [
       "<div>\n",
       "<style scoped>\n",
       "    .dataframe tbody tr th:only-of-type {\n",
       "        vertical-align: middle;\n",
       "    }\n",
       "\n",
       "    .dataframe tbody tr th {\n",
       "        vertical-align: top;\n",
       "    }\n",
       "\n",
       "    .dataframe thead th {\n",
       "        text-align: right;\n",
       "    }\n",
       "</style>\n",
       "<table border=\"1\" class=\"dataframe\">\n",
       "  <thead>\n",
       "    <tr style=\"text-align: right;\">\n",
       "      <th></th>\n",
       "      <th>station_name_o</th>\n",
       "      <th>lat_o</th>\n",
       "      <th>lon_o</th>\n",
       "      <th>station_name_d</th>\n",
       "      <th>lat_d</th>\n",
       "      <th>lon_d</th>\n",
       "      <th>google_transit_minutes</th>\n",
       "      <th>google_transit_bus_minutes</th>\n",
       "      <th>google_transit_heavy_rail_minutes</th>\n",
       "      <th>google_transit_subway_minutes</th>\n",
       "      <th>google_transit_tram_minutes</th>\n",
       "      <th>google_transit_walking_minutes</th>\n",
       "      <th>google_transit_waiting_minutes</th>\n",
       "    </tr>\n",
       "  </thead>\n",
       "  <tbody>\n",
       "    <tr>\n",
       "      <th>0</th>\n",
       "      <td>Addison Road</td>\n",
       "      <td>38.88672</td>\n",
       "      <td>-76.89575</td>\n",
       "      <td>Arlington Cemetery</td>\n",
       "      <td>38.88458</td>\n",
       "      <td>-77.06344</td>\n",
       "      <td>40.25</td>\n",
       "      <td>NaN</td>\n",
       "      <td>NaN</td>\n",
       "      <td>35.0</td>\n",
       "      <td>NaN</td>\n",
       "      <td>4.72</td>\n",
       "      <td>0.53</td>\n",
       "    </tr>\n",
       "    <tr>\n",
       "      <th>37</th>\n",
       "      <td>Archives</td>\n",
       "      <td>38.89408</td>\n",
       "      <td>-77.02230</td>\n",
       "      <td>Arlington Cemetery</td>\n",
       "      <td>38.88458</td>\n",
       "      <td>-77.06344</td>\n",
       "      <td>31.30</td>\n",
       "      <td>11.13</td>\n",
       "      <td>NaN</td>\n",
       "      <td>7.0</td>\n",
       "      <td>NaN</td>\n",
       "      <td>6.17</td>\n",
       "      <td>7.00</td>\n",
       "    </tr>\n",
       "    <tr>\n",
       "      <th>278</th>\n",
       "      <td>Eisenhower Ave</td>\n",
       "      <td>38.80052</td>\n",
       "      <td>-77.07094</td>\n",
       "      <td>Arlington Cemetery</td>\n",
       "      <td>38.88458</td>\n",
       "      <td>-77.06344</td>\n",
       "      <td>32.52</td>\n",
       "      <td>NaN</td>\n",
       "      <td>NaN</td>\n",
       "      <td>19.0</td>\n",
       "      <td>NaN</td>\n",
       "      <td>4.00</td>\n",
       "      <td>9.52</td>\n",
       "    </tr>\n",
       "    <tr>\n",
       "      <th>373</th>\n",
       "      <td>Friendship Heights</td>\n",
       "      <td>38.96041</td>\n",
       "      <td>-77.08568</td>\n",
       "      <td>Arlington Cemetery</td>\n",
       "      <td>38.88458</td>\n",
       "      <td>-77.06344</td>\n",
       "      <td>56.12</td>\n",
       "      <td>35.15</td>\n",
       "      <td>NaN</td>\n",
       "      <td>6.0</td>\n",
       "      <td>NaN</td>\n",
       "      <td>10.08</td>\n",
       "      <td>4.88</td>\n",
       "    </tr>\n",
       "    <tr>\n",
       "      <th>383</th>\n",
       "      <td>Gallery Place</td>\n",
       "      <td>38.89837</td>\n",
       "      <td>-77.02218</td>\n",
       "      <td>Arlington Cemetery</td>\n",
       "      <td>38.88458</td>\n",
       "      <td>-77.06344</td>\n",
       "      <td>23.67</td>\n",
       "      <td>NaN</td>\n",
       "      <td>NaN</td>\n",
       "      <td>11.0</td>\n",
       "      <td>NaN</td>\n",
       "      <td>11.87</td>\n",
       "      <td>0.80</td>\n",
       "    </tr>\n",
       "  </tbody>\n",
       "</table>\n",
       "</div>"
      ],
      "text/plain": [
       "         station_name_o     lat_o     lon_o      station_name_d     lat_d  \\\n",
       "0          Addison Road  38.88672 -76.89575  Arlington Cemetery  38.88458   \n",
       "37             Archives  38.89408 -77.02230  Arlington Cemetery  38.88458   \n",
       "278      Eisenhower Ave  38.80052 -77.07094  Arlington Cemetery  38.88458   \n",
       "373  Friendship Heights  38.96041 -77.08568  Arlington Cemetery  38.88458   \n",
       "383       Gallery Place  38.89837 -77.02218  Arlington Cemetery  38.88458   \n",
       "\n",
       "        lon_d  google_transit_minutes  google_transit_bus_minutes  \\\n",
       "0   -77.06344                   40.25                         NaN   \n",
       "37  -77.06344                   31.30                       11.13   \n",
       "278 -77.06344                   32.52                         NaN   \n",
       "373 -77.06344                   56.12                       35.15   \n",
       "383 -77.06344                   23.67                         NaN   \n",
       "\n",
       "     google_transit_heavy_rail_minutes  google_transit_subway_minutes  \\\n",
       "0                                  NaN                           35.0   \n",
       "37                                 NaN                            7.0   \n",
       "278                                NaN                           19.0   \n",
       "373                                NaN                            6.0   \n",
       "383                                NaN                           11.0   \n",
       "\n",
       "     google_transit_tram_minutes  google_transit_walking_minutes  \\\n",
       "0                            NaN                            4.72   \n",
       "37                           NaN                            6.17   \n",
       "278                          NaN                            4.00   \n",
       "373                          NaN                           10.08   \n",
       "383                          NaN                           11.87   \n",
       "\n",
       "     google_transit_waiting_minutes  \n",
       "0                              0.53  \n",
       "37                             7.00  \n",
       "278                            9.52  \n",
       "373                            4.88  \n",
       "383                            0.80  "
      ]
     },
     "execution_count": 21,
     "metadata": {},
     "output_type": "execute_result"
    }
   ],
   "source": [
    "bus_summaries.head()"
   ]
  },
  {
   "cell_type": "code",
   "execution_count": 23,
   "id": "f8fe629d-79e2-4512-aaf8-4d339e51307a",
   "metadata": {},
   "outputs": [
    {
     "data": {
      "text/plain": [
       "9303"
      ]
     },
     "execution_count": 23,
     "metadata": {},
     "output_type": "execute_result"
    }
   ],
   "source": [
    "len(bus_summaries)"
   ]
  },
  {
   "cell_type": "code",
   "execution_count": 24,
   "id": "ba5d586e-c138-442e-afd7-767997e962c8",
   "metadata": {},
   "outputs": [
    {
     "data": {
      "text/html": [
       "<div>\n",
       "<style scoped>\n",
       "    .dataframe tbody tr th:only-of-type {\n",
       "        vertical-align: middle;\n",
       "    }\n",
       "\n",
       "    .dataframe tbody tr th {\n",
       "        vertical-align: top;\n",
       "    }\n",
       "\n",
       "    .dataframe thead th {\n",
       "        text-align: right;\n",
       "    }\n",
       "</style>\n",
       "<table border=\"1\" class=\"dataframe\">\n",
       "  <thead>\n",
       "    <tr style=\"text-align: right;\">\n",
       "      <th></th>\n",
       "      <th>station_name_o</th>\n",
       "      <th>lat_o</th>\n",
       "      <th>lon_o</th>\n",
       "      <th>station_name_d</th>\n",
       "      <th>lat_d</th>\n",
       "      <th>lon_d</th>\n",
       "      <th>google_transit_minutes</th>\n",
       "      <th>google_transit_bus_minutes</th>\n",
       "      <th>google_transit_heavy_rail_minutes</th>\n",
       "      <th>google_transit_subway_minutes</th>\n",
       "      <th>google_transit_tram_minutes</th>\n",
       "      <th>google_transit_walking_minutes</th>\n",
       "      <th>google_transit_waiting_minutes</th>\n",
       "    </tr>\n",
       "  </thead>\n",
       "  <tbody>\n",
       "  </tbody>\n",
       "</table>\n",
       "</div>"
      ],
      "text/plain": [
       "Empty DataFrame\n",
       "Columns: [station_name_o, lat_o, lon_o, station_name_d, lat_d, lon_d, google_transit_minutes, google_transit_bus_minutes, google_transit_heavy_rail_minutes, google_transit_subway_minutes, google_transit_tram_minutes, google_transit_walking_minutes, google_transit_waiting_minutes]\n",
       "Index: []"
      ]
     },
     "execution_count": 24,
     "metadata": {},
     "output_type": "execute_result"
    }
   ],
   "source": [
    "bus_summaries[bus_summaries.duplicated(subset=['station_name_o','station_name_d'], keep=False)]\n"
   ]
  },
  {
   "cell_type": "markdown",
   "id": "e73ec7c9-7e04-4ab3-b1a3-c812f60edfcb",
   "metadata": {},
   "source": [
    "# Bus Competativeness with Metro"
   ]
  },
  {
   "cell_type": "code",
   "execution_count": null,
   "id": "74b16384-dbd4-406c-b4fb-2eb2d496e9f9",
   "metadata": {},
   "outputs": [],
   "source": [
    "metro_tt_path = '2024 Data Collection/WMATA Metro Travel Times/metro_travel_times.csv'\n",
    "metro_tt_path = os.path.join(utils.configs.box_data_dir, metro_tt_path)  \n",
    "metro_tt = pd.read_csv(metro_tt_path)\n",
    "df = calculate_bus_competativeness_index(metro_tt, bus_summaries)\n",
    "cols = {\n",
    "    'station_name_o':'station_name_o',\n",
    "    'station_name_d':'station_name_d',\n",
    "    'google_transit_minutes':'bus_transit_minutes',\n",
    "    'metro_minutes':'metro_transit_minutes',\n",
    "    'bus_competativeness_index':'bus_competativeness_index',\n",
    "}\n",
    "df = df[cols.keys()].rename(columns=cols)\n",
    "\n",
    "df.to_csv('bus_competativeness_index.csv')"
   ]
  },
  {
   "cell_type": "code",
   "execution_count": null,
   "id": "4d8743af-043c-4cdb-a4a4-5c6f3ef26e39",
   "metadata": {},
   "outputs": [],
   "source": [
    "df.sort_values('bus_competativeness_index', ascending=False)"
   ]
  },
  {
   "cell_type": "code",
   "execution_count": 29,
   "id": "f5295123-2d71-4652-8471-40e03f03850e",
   "metadata": {},
   "outputs": [
    {
     "data": {
      "text/html": [
       "<div>\n",
       "<style scoped>\n",
       "    .dataframe tbody tr th:only-of-type {\n",
       "        vertical-align: middle;\n",
       "    }\n",
       "\n",
       "    .dataframe tbody tr th {\n",
       "        vertical-align: top;\n",
       "    }\n",
       "\n",
       "    .dataframe thead th {\n",
       "        text-align: right;\n",
       "    }\n",
       "</style>\n",
       "<table border=\"1\" class=\"dataframe\">\n",
       "  <thead>\n",
       "    <tr style=\"text-align: right;\">\n",
       "      <th></th>\n",
       "      <th>station_name_o</th>\n",
       "      <th>station_name_d</th>\n",
       "      <th>bus_transit_minutes</th>\n",
       "      <th>metro_transit_minutes</th>\n",
       "      <th>bus_competativeness_index</th>\n",
       "    </tr>\n",
       "  </thead>\n",
       "  <tbody>\n",
       "  </tbody>\n",
       "</table>\n",
       "</div>"
      ],
      "text/plain": [
       "Empty DataFrame\n",
       "Columns: [station_name_o, station_name_d, bus_transit_minutes, metro_transit_minutes, bus_competativeness_index]\n",
       "Index: []"
      ]
     },
     "execution_count": 29,
     "metadata": {},
     "output_type": "execute_result"
    }
   ],
   "source": [
    "df[df.duplicated(subset=['station_name_o','station_name_d'], keep=False)]"
   ]
  },
  {
   "cell_type": "code",
   "execution_count": 30,
   "id": "a3c48009-d4c8-4d5c-b021-533eff915e31",
   "metadata": {},
   "outputs": [
    {
     "data": {
      "text/html": [
       "<div>\n",
       "<style scoped>\n",
       "    .dataframe tbody tr th:only-of-type {\n",
       "        vertical-align: middle;\n",
       "    }\n",
       "\n",
       "    .dataframe tbody tr th {\n",
       "        vertical-align: top;\n",
       "    }\n",
       "\n",
       "    .dataframe thead th {\n",
       "        text-align: right;\n",
       "    }\n",
       "</style>\n",
       "<table border=\"1\" class=\"dataframe\">\n",
       "  <thead>\n",
       "    <tr style=\"text-align: right;\">\n",
       "      <th></th>\n",
       "      <th>station_name_o</th>\n",
       "      <th>station_name_d</th>\n",
       "      <th>bus_transit_minutes</th>\n",
       "      <th>metro_transit_minutes</th>\n",
       "      <th>bus_competativeness_index</th>\n",
       "    </tr>\n",
       "  </thead>\n",
       "  <tbody>\n",
       "    <tr>\n",
       "      <th>0</th>\n",
       "      <td>Anacostia</td>\n",
       "      <td>Anacostia</td>\n",
       "      <td>NaN</td>\n",
       "      <td>0</td>\n",
       "      <td>1.000000</td>\n",
       "    </tr>\n",
       "    <tr>\n",
       "      <th>1</th>\n",
       "      <td>Anacostia</td>\n",
       "      <td>Archives</td>\n",
       "      <td>34.02</td>\n",
       "      <td>9</td>\n",
       "      <td>0.264550</td>\n",
       "    </tr>\n",
       "    <tr>\n",
       "      <th>2</th>\n",
       "      <td>Anacostia</td>\n",
       "      <td>Benning Road</td>\n",
       "      <td>54.20</td>\n",
       "      <td>26</td>\n",
       "      <td>0.479705</td>\n",
       "    </tr>\n",
       "    <tr>\n",
       "      <th>3</th>\n",
       "      <td>Anacostia</td>\n",
       "      <td>Brookland-CUA</td>\n",
       "      <td>65.25</td>\n",
       "      <td>27</td>\n",
       "      <td>0.413793</td>\n",
       "    </tr>\n",
       "    <tr>\n",
       "      <th>4</th>\n",
       "      <td>Anacostia</td>\n",
       "      <td>Capitol South</td>\n",
       "      <td>28.82</td>\n",
       "      <td>16</td>\n",
       "      <td>0.555170</td>\n",
       "    </tr>\n",
       "    <tr>\n",
       "      <th>...</th>\n",
       "      <td>...</td>\n",
       "      <td>...</td>\n",
       "      <td>...</td>\n",
       "      <td>...</td>\n",
       "      <td>...</td>\n",
       "    </tr>\n",
       "    <tr>\n",
       "      <th>9404</th>\n",
       "      <td>Ashburn</td>\n",
       "      <td>Herndon</td>\n",
       "      <td>20.85</td>\n",
       "      <td>17</td>\n",
       "      <td>0.815348</td>\n",
       "    </tr>\n",
       "    <tr>\n",
       "      <th>9405</th>\n",
       "      <td>Ashburn</td>\n",
       "      <td>Innovation Center</td>\n",
       "      <td>22.40</td>\n",
       "      <td>14</td>\n",
       "      <td>0.625000</td>\n",
       "    </tr>\n",
       "    <tr>\n",
       "      <th>9406</th>\n",
       "      <td>Ashburn</td>\n",
       "      <td>Dulles Airport</td>\n",
       "      <td>11.25</td>\n",
       "      <td>10</td>\n",
       "      <td>0.888889</td>\n",
       "    </tr>\n",
       "    <tr>\n",
       "      <th>9407</th>\n",
       "      <td>Ashburn</td>\n",
       "      <td>Loudoun Gateway</td>\n",
       "      <td>7.38</td>\n",
       "      <td>4</td>\n",
       "      <td>0.542005</td>\n",
       "    </tr>\n",
       "    <tr>\n",
       "      <th>9408</th>\n",
       "      <td>Ashburn</td>\n",
       "      <td>Ashburn</td>\n",
       "      <td>NaN</td>\n",
       "      <td>0</td>\n",
       "      <td>1.000000</td>\n",
       "    </tr>\n",
       "  </tbody>\n",
       "</table>\n",
       "<p>9409 rows × 5 columns</p>\n",
       "</div>"
      ],
      "text/plain": [
       "     station_name_o     station_name_d  bus_transit_minutes  \\\n",
       "0         Anacostia          Anacostia                  NaN   \n",
       "1         Anacostia           Archives                34.02   \n",
       "2         Anacostia       Benning Road                54.20   \n",
       "3         Anacostia      Brookland-CUA                65.25   \n",
       "4         Anacostia      Capitol South                28.82   \n",
       "...             ...                ...                  ...   \n",
       "9404        Ashburn            Herndon                20.85   \n",
       "9405        Ashburn  Innovation Center                22.40   \n",
       "9406        Ashburn     Dulles Airport                11.25   \n",
       "9407        Ashburn    Loudoun Gateway                 7.38   \n",
       "9408        Ashburn            Ashburn                  NaN   \n",
       "\n",
       "      metro_transit_minutes  bus_competativeness_index  \n",
       "0                         0                   1.000000  \n",
       "1                         9                   0.264550  \n",
       "2                        26                   0.479705  \n",
       "3                        27                   0.413793  \n",
       "4                        16                   0.555170  \n",
       "...                     ...                        ...  \n",
       "9404                     17                   0.815348  \n",
       "9405                     14                   0.625000  \n",
       "9406                     10                   0.888889  \n",
       "9407                      4                   0.542005  \n",
       "9408                      0                   1.000000  \n",
       "\n",
       "[9409 rows x 5 columns]"
      ]
     },
     "execution_count": 30,
     "metadata": {},
     "output_type": "execute_result"
    }
   ],
   "source": [
    "df"
   ]
  },
  {
   "cell_type": "code",
   "execution_count": null,
   "id": "c3b03b23-7549-43dc-a3b8-f17ebe2e951c",
   "metadata": {},
   "outputs": [],
   "source": []
  }
 ],
 "metadata": {
  "kernelspec": {
   "display_name": "Python 3 (ipykernel)",
   "language": "python",
   "name": "python3"
  },
  "language_info": {
   "codemirror_mode": {
    "name": "ipython",
    "version": 3
   },
   "file_extension": ".py",
   "mimetype": "text/x-python",
   "name": "python",
   "nbconvert_exporter": "python",
   "pygments_lexer": "ipython3",
   "version": "3.11.3"
  }
 },
 "nbformat": 4,
 "nbformat_minor": 5
}
