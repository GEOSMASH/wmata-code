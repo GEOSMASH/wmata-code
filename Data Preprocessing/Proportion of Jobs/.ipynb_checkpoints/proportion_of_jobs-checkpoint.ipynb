{
 "cells": [
  {
   "cell_type": "code",
   "execution_count": 1,
   "id": "880ed593",
   "metadata": {
    "colab": {
     "base_uri": "https://localhost:8080/"
    },
    "executionInfo": {
     "elapsed": 35124,
     "status": "ok",
     "timestamp": 1684385524974,
     "user": {
      "displayName": "Janna Chapman",
      "userId": "03316905486439216008"
     },
     "user_tz": 240
    },
    "id": "880ed593",
    "outputId": "be4ebda0-97be-4739-a242-1b5a304e9daa"
   },
   "outputs": [],
   "source": [
    "import os\n",
    "os.makedirs('output', exist_ok=True)\n",
    "\n",
    "import sys\n",
    "sys.path.append('../')\n",
    "\n",
    "from utils import load_walksheds, overlay_wks\n",
    "\n",
    "import geopandas as gpd\n",
    "from geopandas.tools import overlay\n",
    "import pandas as pd\n",
    "import matplotlib.pyplot as plt\n",
    "import openpyxl\n",
    "import warnings\n",
    "import os\n",
    "warnings.filterwarnings(\"ignore\")"
   ]
  },
  {
   "cell_type": "markdown",
   "id": "56950ea2-663e-44ec-9462-69df6936146c",
   "metadata": {},
   "source": [
    "#### Read in Datasets and Files"
   ]
  },
  {
   "cell_type": "markdown",
   "id": "712911d5-9f78-4bfb-86bd-1e01eb643b60",
   "metadata": {},
   "source": [
    "* walskhedbuffer is the Metro station walksheds with overlapping boundaries\n",
    "* all_boundaries All boundaries for census blocks in MD, DC and VA\n",
    "* Alljobs_MDDCVA contains information for all jobs in MD, DC and VA "
   ]
  },
  {
   "cell_type": "code",
   "execution_count": 2,
   "id": "6f2e49cf",
   "metadata": {
    "executionInfo": {
     "elapsed": 32320,
     "status": "ok",
     "timestamp": 1684385586655,
     "user": {
      "displayName": "Janna Chapman",
      "userId": "03316905486439216008"
     },
     "user_tz": 240
    },
    "id": "6f2e49cf",
    "tags": []
   },
   "outputs": [],
   "source": [
    "wksp5, wksp75 = load_walksheds()\n",
    "all_boundaries= gpd.read_file(\"../../Data/Block MD_DC_VA.zip\")\n",
    "Alljobs_MDDCVA = pd.read_excel(\"../../Data/AlljobMDDCVA.xlsx\")"
   ]
  },
  {
   "cell_type": "markdown",
   "id": "5eec7247-094a-470d-adfc-bec43075f843",
   "metadata": {},
   "source": [
    "#### Preprocessing\n"
   ]
  },
  {
   "cell_type": "markdown",
   "id": "7e1e440a-7f95-4eb4-8279-b9c21617c757",
   "metadata": {},
   "source": [
    "* Rename the w_geocode column from jobs table to GEOID20 to match the ID column name in the block shapefile of DC, MD, VA\n",
    "* Convert the GEOID20 column in the jobs table to strings "
   ]
  },
  {
   "cell_type": "code",
   "execution_count": 3,
   "id": "dc34c0c3",
   "metadata": {
    "executionInfo": {
     "elapsed": 132,
     "status": "ok",
     "timestamp": 1684385973705,
     "user": {
      "displayName": "Janna Chapman",
      "userId": "03316905486439216008"
     },
     "user_tz": 240
    },
    "id": "dc34c0c3"
   },
   "outputs": [],
   "source": [
    "Alljobs_MDDCVA.rename(columns = {'w_geocode':'GEOID20'}, inplace = True)\n",
    "Alljobs_MDDCVA[\"GEOID20\"]= Alljobs_MDDCVA[\"GEOID20\"].astype('str')"
   ]
  },
  {
   "cell_type": "markdown",
   "id": "320d8ee5-ffc3-4965-92dd-64744dce13c5",
   "metadata": {},
   "source": [
    "* Join jobs to all_boundaries. Keep boundaries where there are no jobs"
   ]
  },
  {
   "cell_type": "code",
   "execution_count": 4,
   "id": "b3405c3b",
   "metadata": {
    "executionInfo": {
     "elapsed": 198,
     "status": "ok",
     "timestamp": 1684385982655,
     "user": {
      "displayName": "Janna Chapman",
      "userId": "03316905486439216008"
     },
     "user_tz": 240
    },
    "id": "b3405c3b"
   },
   "outputs": [
    {
     "data": {
      "text/html": [
       "<div>\n",
       "<style scoped>\n",
       "    .dataframe tbody tr th:only-of-type {\n",
       "        vertical-align: middle;\n",
       "    }\n",
       "\n",
       "    .dataframe tbody tr th {\n",
       "        vertical-align: top;\n",
       "    }\n",
       "\n",
       "    .dataframe thead th {\n",
       "        text-align: right;\n",
       "    }\n",
       "</style>\n",
       "<table border=\"1\" class=\"dataframe\">\n",
       "  <thead>\n",
       "    <tr style=\"text-align: right;\">\n",
       "      <th></th>\n",
       "      <th>STATEFP20</th>\n",
       "      <th>COUNTYFP20</th>\n",
       "      <th>TRACTCE20</th>\n",
       "      <th>BLOCKCE20</th>\n",
       "      <th>GEOID20</th>\n",
       "      <th>NAME20</th>\n",
       "      <th>ALAND20</th>\n",
       "      <th>AWATER20</th>\n",
       "      <th>INTPTLAT20</th>\n",
       "      <th>INTPTLON20</th>\n",
       "      <th>...</th>\n",
       "      <th>CFA02</th>\n",
       "      <th>CFA03</th>\n",
       "      <th>CFA04</th>\n",
       "      <th>CFA05</th>\n",
       "      <th>CFS01</th>\n",
       "      <th>CFS02</th>\n",
       "      <th>CFS03</th>\n",
       "      <th>CFS04</th>\n",
       "      <th>CFS05</th>\n",
       "      <th>createdate</th>\n",
       "    </tr>\n",
       "  </thead>\n",
       "  <tbody>\n",
       "    <tr>\n",
       "      <th>0</th>\n",
       "      <td>24</td>\n",
       "      <td>031</td>\n",
       "      <td>700204</td>\n",
       "      <td>1016</td>\n",
       "      <td>240317002041016</td>\n",
       "      <td>Block 1016</td>\n",
       "      <td>2882692.0</td>\n",
       "      <td>10982.0</td>\n",
       "      <td>+39.3110468</td>\n",
       "      <td>-077.1894440</td>\n",
       "      <td>...</td>\n",
       "      <td>NaN</td>\n",
       "      <td>NaN</td>\n",
       "      <td>NaN</td>\n",
       "      <td>NaN</td>\n",
       "      <td>NaN</td>\n",
       "      <td>NaN</td>\n",
       "      <td>NaN</td>\n",
       "      <td>NaN</td>\n",
       "      <td>NaN</td>\n",
       "      <td>NaN</td>\n",
       "    </tr>\n",
       "    <tr>\n",
       "      <th>1</th>\n",
       "      <td>24</td>\n",
       "      <td>031</td>\n",
       "      <td>705902</td>\n",
       "      <td>1008</td>\n",
       "      <td>240317059021008</td>\n",
       "      <td>Block 1008</td>\n",
       "      <td>112639.0</td>\n",
       "      <td>502.0</td>\n",
       "      <td>+38.9700155</td>\n",
       "      <td>-077.1364633</td>\n",
       "      <td>...</td>\n",
       "      <td>0.0</td>\n",
       "      <td>0.0</td>\n",
       "      <td>0.0</td>\n",
       "      <td>0.0</td>\n",
       "      <td>0.0</td>\n",
       "      <td>0.0</td>\n",
       "      <td>0.0</td>\n",
       "      <td>0.0</td>\n",
       "      <td>0.0</td>\n",
       "      <td>20211018.0</td>\n",
       "    </tr>\n",
       "  </tbody>\n",
       "</table>\n",
       "<p>2 rows × 67 columns</p>\n",
       "</div>"
      ],
      "text/plain": [
       "  STATEFP20 COUNTYFP20 TRACTCE20 BLOCKCE20          GEOID20      NAME20  \\\n",
       "0        24        031    700204      1016  240317002041016  Block 1016   \n",
       "1        24        031    705902      1008  240317059021008  Block 1008   \n",
       "\n",
       "     ALAND20  AWATER20   INTPTLAT20    INTPTLON20  ...  CFA02  CFA03  CFA04  \\\n",
       "0  2882692.0   10982.0  +39.3110468  -077.1894440  ...    NaN    NaN    NaN   \n",
       "1   112639.0     502.0  +38.9700155  -077.1364633  ...    0.0    0.0    0.0   \n",
       "\n",
       "   CFA05 CFS01  CFS02  CFS03  CFS04  CFS05  createdate  \n",
       "0    NaN   NaN    NaN    NaN    NaN    NaN         NaN  \n",
       "1    0.0   0.0    0.0    0.0    0.0    0.0  20211018.0  \n",
       "\n",
       "[2 rows x 67 columns]"
      ]
     },
     "execution_count": 4,
     "metadata": {},
     "output_type": "execute_result"
    }
   ],
   "source": [
    "Join_Jobs_Boundaries=pd.merge(all_boundaries, Alljobs_MDDCVA, on=\"GEOID20\", how='left')\n",
    "Join_Jobs_Boundaries.head(2)"
   ]
  },
  {
   "cell_type": "markdown",
   "id": "c7bb18cd-d1cd-4a16-b330-f79079c8096b",
   "metadata": {},
   "source": [
    "* Change the CRS of the boundaries to match the walksheds\n",
    "* Create a column of the full area of the jobs"
   ]
  },
  {
   "cell_type": "code",
   "execution_count": 5,
   "id": "CoAlPHqax0ky",
   "metadata": {
    "colab": {
     "base_uri": "https://localhost:8080/"
    },
    "executionInfo": {
     "elapsed": 147,
     "status": "ok",
     "timestamp": 1684385989937,
     "user": {
      "displayName": "Janna Chapman",
      "userId": "03316905486439216008"
     },
     "user_tz": 240
    },
    "id": "CoAlPHqax0ky",
    "outputId": "64687c75-0fd7-49e1-ea8d-58cf3863df28"
   },
   "outputs": [],
   "source": [
    "Join_Jobs_Boundaries = Join_Jobs_Boundaries.to_crs('EPSG:4326')\n",
    "Join_Jobs_Boundaries['fullarea'] = Join_Jobs_Boundaries.area"
   ]
  },
  {
   "cell_type": "markdown",
   "id": "da2c2753-1e32-4e18-9ba7-99bebd500a2c",
   "metadata": {},
   "source": [
    "* Intersect the jobs with the walksheds\n",
    "* Create a partial area column to get the block area that is within a walkshed\n",
    "* Fix the names of the stations by removing extra numbers/characters at the end"
   ]
  },
  {
   "cell_type": "code",
   "execution_count": 6,
   "id": "f5f36638",
   "metadata": {
    "executionInfo": {
     "elapsed": 796,
     "status": "ok",
     "timestamp": 1684386498340,
     "user": {
      "displayName": "Janna Chapman",
      "userId": "03316905486439216008"
     },
     "user_tz": 240
    },
    "id": "f5f36638"
   },
   "outputs": [],
   "source": [
    "intp5, intp75 = overlay_wks(Join_Jobs_Boundaries)"
   ]
  },
  {
   "cell_type": "code",
   "execution_count": 7,
   "id": "UdgzWqEOQP7C",
   "metadata": {
    "colab": {
     "base_uri": "https://localhost:8080/"
    },
    "executionInfo": {
     "elapsed": 159,
     "status": "ok",
     "timestamp": 1684386499757,
     "user": {
      "displayName": "Janna Chapman",
      "userId": "03316905486439216008"
     },
     "user_tz": 240
    },
    "id": "UdgzWqEOQP7C",
    "outputId": "421c11b3-023b-43ca-ad72-cc167f001e50"
   },
   "outputs": [],
   "source": [
    "intp5['partialarea'] = intp5.area  # each block is within which specific walkshedbuffer of 0.5\n",
    "intp75['partialarea'] = intp75.area  # each block is within which specific walkshedbuffer of 0.75"
   ]
  },
  {
   "cell_type": "code",
   "execution_count": 8,
   "id": "c4f60a9e-d2ff-4532-b26b-b52249119a13",
   "metadata": {
    "tags": []
   },
   "outputs": [
    {
     "data": {
      "text/html": [
       "<div>\n",
       "<style scoped>\n",
       "    .dataframe tbody tr th:only-of-type {\n",
       "        vertical-align: middle;\n",
       "    }\n",
       "\n",
       "    .dataframe tbody tr th {\n",
       "        vertical-align: top;\n",
       "    }\n",
       "\n",
       "    .dataframe thead th {\n",
       "        text-align: right;\n",
       "    }\n",
       "</style>\n",
       "<table border=\"1\" class=\"dataframe\">\n",
       "  <thead>\n",
       "    <tr style=\"text-align: right;\">\n",
       "      <th></th>\n",
       "      <th>STATEFP20</th>\n",
       "      <th>COUNTYFP20</th>\n",
       "      <th>TRACTCE20</th>\n",
       "      <th>BLOCKCE20</th>\n",
       "      <th>GEOID20</th>\n",
       "      <th>NAME20</th>\n",
       "      <th>ALAND20</th>\n",
       "      <th>AWATER20</th>\n",
       "      <th>INTPTLAT20</th>\n",
       "      <th>INTPTLON20</th>\n",
       "      <th>...</th>\n",
       "      <th>CFS05</th>\n",
       "      <th>createdate</th>\n",
       "      <th>fullarea</th>\n",
       "      <th>Name_1</th>\n",
       "      <th>Acres</th>\n",
       "      <th>Shape_Leng_2</th>\n",
       "      <th>Shape_Area_2</th>\n",
       "      <th>StnCode</th>\n",
       "      <th>geometry</th>\n",
       "      <th>partialarea</th>\n",
       "    </tr>\n",
       "  </thead>\n",
       "  <tbody>\n",
       "    <tr>\n",
       "      <th>0</th>\n",
       "      <td>24</td>\n",
       "      <td>031</td>\n",
       "      <td>704404</td>\n",
       "      <td>1004</td>\n",
       "      <td>240317044041004</td>\n",
       "      <td>Block 1004</td>\n",
       "      <td>224514.0</td>\n",
       "      <td>415.0</td>\n",
       "      <td>+39.0066882</td>\n",
       "      <td>-077.0935600</td>\n",
       "      <td>...</td>\n",
       "      <td>0.0</td>\n",
       "      <td>20211018.0</td>\n",
       "      <td>0.000023</td>\n",
       "      <td>MEDICAL CENTER</td>\n",
       "      <td>379.404828</td>\n",
       "      <td>19251.879962</td>\n",
       "      <td>1.652681e+07</td>\n",
       "      <td>None</td>\n",
       "      <td>POLYGON ((-77.09737 39.00454, -77.09740 39.004...</td>\n",
       "      <td>0.000002</td>\n",
       "    </tr>\n",
       "    <tr>\n",
       "      <th>1</th>\n",
       "      <td>24</td>\n",
       "      <td>031</td>\n",
       "      <td>705000</td>\n",
       "      <td>4005</td>\n",
       "      <td>240317050004005</td>\n",
       "      <td>Block 4005</td>\n",
       "      <td>74301.0</td>\n",
       "      <td>579.0</td>\n",
       "      <td>+39.0020246</td>\n",
       "      <td>-077.0962632</td>\n",
       "      <td>...</td>\n",
       "      <td>0.0</td>\n",
       "      <td>20211018.0</td>\n",
       "      <td>0.000008</td>\n",
       "      <td>MEDICAL CENTER</td>\n",
       "      <td>379.404828</td>\n",
       "      <td>19251.879962</td>\n",
       "      <td>1.652681e+07</td>\n",
       "      <td>None</td>\n",
       "      <td>POLYGON ((-77.09535 39.00312, -77.09522 39.002...</td>\n",
       "      <td>0.000008</td>\n",
       "    </tr>\n",
       "  </tbody>\n",
       "</table>\n",
       "<p>2 rows × 74 columns</p>\n",
       "</div>"
      ],
      "text/plain": [
       "  STATEFP20 COUNTYFP20 TRACTCE20 BLOCKCE20          GEOID20      NAME20  \\\n",
       "0        24        031    704404      1004  240317044041004  Block 1004   \n",
       "1        24        031    705000      4005  240317050004005  Block 4005   \n",
       "\n",
       "    ALAND20  AWATER20   INTPTLAT20    INTPTLON20  ...  CFS05  createdate  \\\n",
       "0  224514.0     415.0  +39.0066882  -077.0935600  ...    0.0  20211018.0   \n",
       "1   74301.0     579.0  +39.0020246  -077.0962632  ...    0.0  20211018.0   \n",
       "\n",
       "   fullarea          Name_1       Acres  Shape_Leng_2  Shape_Area_2  StnCode  \\\n",
       "0  0.000023  MEDICAL CENTER  379.404828  19251.879962  1.652681e+07     None   \n",
       "1  0.000008  MEDICAL CENTER  379.404828  19251.879962  1.652681e+07     None   \n",
       "\n",
       "                                            geometry  partialarea  \n",
       "0  POLYGON ((-77.09737 39.00454, -77.09740 39.004...     0.000002  \n",
       "1  POLYGON ((-77.09535 39.00312, -77.09522 39.002...     0.000008  \n",
       "\n",
       "[2 rows x 74 columns]"
      ]
     },
     "execution_count": 8,
     "metadata": {},
     "output_type": "execute_result"
    }
   ],
   "source": [
    "intp5.head(2)"
   ]
  },
  {
   "cell_type": "markdown",
   "id": "1e6f3a11-768f-467d-843a-cdc9a2f591ed",
   "metadata": {},
   "source": [
    "* Sum all of the jobs within the buffer of each station\n",
    "* Rename the jobs column\n",
    "* For each station, calculate the percent area of blocks that are within each station walkshed\n",
    "* Multiply that percentage (multiplier) by the total number of jobs (Sum_job_bufstation) to get the proportional number of jobs\n",
    "* Export the proporional number of jobs"
   ]
  },
  {
   "cell_type": "code",
   "execution_count": 9,
   "id": "48a9175a",
   "metadata": {
    "executionInfo": {
     "elapsed": 101,
     "status": "ok",
     "timestamp": 1684386555206,
     "user": {
      "displayName": "Janna Chapman",
      "userId": "03316905486439216008"
     },
     "user_tz": 240
    },
    "id": "48a9175a"
   },
   "outputs": [
    {
     "data": {
      "text/html": [
       "<div>\n",
       "<style scoped>\n",
       "    .dataframe tbody tr th:only-of-type {\n",
       "        vertical-align: middle;\n",
       "    }\n",
       "\n",
       "    .dataframe tbody tr th {\n",
       "        vertical-align: top;\n",
       "    }\n",
       "\n",
       "    .dataframe thead th {\n",
       "        text-align: right;\n",
       "    }\n",
       "</style>\n",
       "<table border=\"1\" class=\"dataframe\">\n",
       "  <thead>\n",
       "    <tr style=\"text-align: right;\">\n",
       "      <th></th>\n",
       "      <th>All_Jobs_p5</th>\n",
       "    </tr>\n",
       "    <tr>\n",
       "      <th>Name_1</th>\n",
       "      <th></th>\n",
       "    </tr>\n",
       "  </thead>\n",
       "  <tbody>\n",
       "    <tr>\n",
       "      <th>ADDISON ROAD-SEAT PLEASANT</th>\n",
       "      <td>708.0</td>\n",
       "    </tr>\n",
       "    <tr>\n",
       "      <th>ANACOSTIA</th>\n",
       "      <td>5884.0</td>\n",
       "    </tr>\n",
       "    <tr>\n",
       "      <th>ARCHIVES-NAVY MEMORIAL-PENN QUARTER</th>\n",
       "      <td>0.0</td>\n",
       "    </tr>\n",
       "    <tr>\n",
       "      <th>ARLINGTON CEMETERY</th>\n",
       "      <td>488.0</td>\n",
       "    </tr>\n",
       "    <tr>\n",
       "      <th>Ashburn</th>\n",
       "      <td>6452.0</td>\n",
       "    </tr>\n",
       "  </tbody>\n",
       "</table>\n",
       "</div>"
      ],
      "text/plain": [
       "                                     All_Jobs_p5\n",
       "Name_1                                          \n",
       "ADDISON ROAD-SEAT PLEASANT                 708.0\n",
       "ANACOSTIA                                 5884.0\n",
       "ARCHIVES-NAVY MEMORIAL-PENN QUARTER          0.0\n",
       "ARLINGTON CEMETERY                         488.0\n",
       "Ashburn                                   6452.0"
      ]
     },
     "execution_count": 9,
     "metadata": {},
     "output_type": "execute_result"
    }
   ],
   "source": [
    "### summation all jobs for each intersection###\n",
    "Sum_job_bufstation_p5 = intp5.groupby(['Name_1'])[['C000']].apply(sum) \n",
    "Sum_job_bufstation_p5.rename(columns = {'C000':'All_Jobs_p5'}, inplace = True)\n",
    "\n",
    "Sum_job_bufstation_p75 = intp75.groupby(['Name_1'])[['C000']].apply(sum) \n",
    "Sum_job_bufstation_p75.rename(columns = {'C000':'All_Jobs_p75'}, inplace = True)\n",
    "Sum_job_bufstation_p5.head()"
   ]
  },
  {
   "cell_type": "code",
   "execution_count": 15,
   "id": "WzJtBK4nPC_E",
   "metadata": {
    "colab": {
     "base_uri": "https://localhost:8080/"
    },
    "executionInfo": {
     "elapsed": 264,
     "status": "ok",
     "timestamp": 1684386563963,
     "user": {
      "displayName": "Janna Chapman",
      "userId": "03316905486439216008"
     },
     "user_tz": 240
    },
    "id": "WzJtBK4nPC_E",
    "outputId": "7bc1397a-33de-4420-e35e-d637811623c0",
    "scrolled": true,
    "tags": []
   },
   "outputs": [],
   "source": [
    "totalarea_station = intersect_stations_Jobs.groupby(['Name_1'])[['fullarea']].apply(sum)\n",
    "partialarea_station = intersect_stations_Jobs.groupby(['Name_1'])[['partialarea']].apply(sum)\n",
    "multiplier = partialarea_station['partialarea']/totalarea_station['fullarea']"
   ]
  },
  {
   "cell_type": "code",
   "execution_count": 16,
   "id": "OEQiE-RQPJcH",
   "metadata": {
    "colab": {
     "base_uri": "https://localhost:8080/",
     "height": 1000
    },
    "executionInfo": {
     "elapsed": 110,
     "status": "ok",
     "timestamp": 1684386605037,
     "user": {
      "displayName": "Janna Chapman",
      "userId": "03316905486439216008"
     },
     "user_tz": 240
    },
    "id": "OEQiE-RQPJcH",
    "outputId": "9893425a-3ba7-48ef-b9d3-d406c22058ea",
    "tags": []
   },
   "outputs": [
    {
     "data": {
      "text/html": [
       "<div>\n",
       "<style scoped>\n",
       "    .dataframe tbody tr th:only-of-type {\n",
       "        vertical-align: middle;\n",
       "    }\n",
       "\n",
       "    .dataframe tbody tr th {\n",
       "        vertical-align: top;\n",
       "    }\n",
       "\n",
       "    .dataframe thead th {\n",
       "        text-align: right;\n",
       "    }\n",
       "</style>\n",
       "<table border=\"1\" class=\"dataframe\">\n",
       "  <thead>\n",
       "    <tr style=\"text-align: right;\">\n",
       "      <th></th>\n",
       "      <th>All_Jobs</th>\n",
       "    </tr>\n",
       "    <tr>\n",
       "      <th>Name_1</th>\n",
       "      <th></th>\n",
       "    </tr>\n",
       "  </thead>\n",
       "  <tbody>\n",
       "    <tr>\n",
       "      <th>ADDISON ROAD-SEAT PLEASANT</th>\n",
       "      <td>205.510841</td>\n",
       "    </tr>\n",
       "    <tr>\n",
       "      <th>ANACOSTIA</th>\n",
       "      <td>2332.575383</td>\n",
       "    </tr>\n",
       "  </tbody>\n",
       "</table>\n",
       "</div>"
      ],
      "text/plain": [
       "                               All_Jobs\n",
       "Name_1                                 \n",
       "ADDISON ROAD-SEAT PLEASANT   205.510841\n",
       "ANACOSTIA                   2332.575383"
      ]
     },
     "execution_count": 16,
     "metadata": {},
     "output_type": "execute_result"
    }
   ],
   "source": [
    "proportion_Jobs_walkstation = Sum_job_bufstation.multiply(multiplier, axis=\"index\")\n",
    "proportion_Jobs_walkstation.rename(columns={'All Jobs': 'Proportion Jobs'}, inplace=True)\n",
    "proportion_Jobs_walkstation.head(2)"
   ]
  },
  {
   "cell_type": "code",
   "execution_count": 17,
   "id": "e82a653c-212b-4050-8fe8-d4662a696eb2",
   "metadata": {},
   "outputs": [],
   "source": [
    "proportion_Jobs_walkstation.to_excel(\"output/proportional_jobs_stations.xlsx\", sheet_name='num of jobs_stations', index=True)"
   ]
  }
 ],
 "metadata": {
  "colab": {
   "provenance": []
  },
  "kernelspec": {
   "display_name": "Python 3 (ipykernel)",
   "language": "python",
   "name": "python3"
  },
  "language_info": {
   "codemirror_mode": {
    "name": "ipython",
    "version": 3
   },
   "file_extension": ".py",
   "mimetype": "text/x-python",
   "name": "python",
   "nbconvert_exporter": "python",
   "pygments_lexer": "ipython3",
   "version": "3.12.0"
  }
 },
 "nbformat": 4,
 "nbformat_minor": 5
}
