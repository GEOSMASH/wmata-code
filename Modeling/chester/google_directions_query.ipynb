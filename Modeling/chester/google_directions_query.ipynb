{
 "cells": [
  {
   "cell_type": "code",
   "execution_count": 1,
   "id": "05c16877-dc99-44f6-ae80-e0369e1d073f",
   "metadata": {},
   "outputs": [],
   "source": [
    "import geopandas as gpd\n",
    "import pandas as pd\n",
    "from google_geocoding import *\n",
    "from feature_dev import *\n",
    "from utils import *\n",
    "\n",
    "%load_ext autoreload\n",
    "%autoreload 2\n",
    "\n",
    "# pd.set_option('display.max_rows', None)"
   ]
  },
  {
   "cell_type": "markdown",
   "id": "b4bf12e2-8e0e-48f7-b024-94ab40b08d53",
   "metadata": {},
   "source": [
    "# Driving Travel Times"
   ]
  },
  {
   "cell_type": "code",
   "execution_count": 2,
   "id": "18828e20-fa2e-4eb3-a9b9-7fd074b166a0",
   "metadata": {},
   "outputs": [],
   "source": [
    "gdf = load_station_points()\n",
    "df = construct_ods_for_routing(gdf)"
   ]
  },
  {
   "cell_type": "code",
   "execution_count": 3,
   "id": "4ad6682f-7aa6-4e67-b5d7-bcda8dafc0d7",
   "metadata": {},
   "outputs": [],
   "source": [
    "# modes = ['driving']\n",
    "# query_routes(df, modes)"
   ]
  },
  {
   "cell_type": "code",
   "execution_count": 4,
   "id": "e5414da9-b4cf-4c2f-b8db-1e2de1054284",
   "metadata": {},
   "outputs": [],
   "source": [
    "construct_driving_summary(df).to_csv('google_driving_summaries.csv')"
   ]
  },
  {
   "cell_type": "markdown",
   "id": "4c1192d2-1912-44af-bf27-9b955e61002a",
   "metadata": {},
   "source": [
    "# Bus Travel Times"
   ]
  },
  {
   "cell_type": "code",
   "execution_count": null,
   "id": "d289d6d9-641b-4d7b-a81c-bb16ee9bcd00",
   "metadata": {},
   "outputs": [],
   "source": [
    "# gdf = load_station_points()\n",
    "# dfs = construct_grouped_ods_for_routing(gdf)\n",
    "\n",
    "# # Pickle groups\n",
    "# with open('transit_group_dataframes.pickle', 'wb') as handle:\n",
    "#     pickle.dump(dfs, handle, protocol=pickle.HIGHEST_PROTOCOL)"
   ]
  },
  {
   "cell_type": "code",
   "execution_count": 5,
   "id": "804d85c1-df30-4547-a7c9-43cb2e07f7b1",
   "metadata": {},
   "outputs": [],
   "source": [
    "with open('transit_group_dataframes.pickle', 'rb') as handle:\n",
    "    dfs = pickle.load(handle)"
   ]
  },
  {
   "cell_type": "code",
   "execution_count": null,
   "id": "e0ae641c-e8d3-4c85-9717-f5259b598361",
   "metadata": {},
   "outputs": [],
   "source": [
    "# modes = [('transit','bus')]\n",
    "# query_grouped_routes(dfs, modes)"
   ]
  },
  {
   "cell_type": "code",
   "execution_count": 10,
   "id": "1668d2d5-9b06-4415-b014-1c598bf07aa9",
   "metadata": {},
   "outputs": [],
   "source": [
    "bus_summaries = construct_bus_transit_summary(dfs)\n",
    "bus_summaries.to_csv('google_transit_bus_summaries.csv')"
   ]
  },
  {
   "cell_type": "markdown",
   "id": "e73ec7c9-7e04-4ab3-b1a3-c812f60edfcb",
   "metadata": {},
   "source": [
    "# Bus Competativeness with Metro"
   ]
  },
  {
   "cell_type": "code",
   "execution_count": 24,
   "id": "ac082ce3-1a6f-4462-badc-e63c85f83bf0",
   "metadata": {},
   "outputs": [
    {
     "data": {
      "text/html": [
       "<div>\n",
       "<style scoped>\n",
       "    .dataframe tbody tr th:only-of-type {\n",
       "        vertical-align: middle;\n",
       "    }\n",
       "\n",
       "    .dataframe tbody tr th {\n",
       "        vertical-align: top;\n",
       "    }\n",
       "\n",
       "    .dataframe thead th {\n",
       "        text-align: right;\n",
       "    }\n",
       "</style>\n",
       "<table border=\"1\" class=\"dataframe\">\n",
       "  <thead>\n",
       "    <tr style=\"text-align: right;\">\n",
       "      <th></th>\n",
       "      <th>station_name_o</th>\n",
       "      <th>station_name_d</th>\n",
       "      <th>bus_transit_minutes</th>\n",
       "      <th>metro_transit_minutes</th>\n",
       "      <th>bus_competativeness_index</th>\n",
       "    </tr>\n",
       "  </thead>\n",
       "  <tbody>\n",
       "    <tr>\n",
       "      <th>5263</th>\n",
       "      <td>Glenmont</td>\n",
       "      <td>White Flint</td>\n",
       "      <td>21.30</td>\n",
       "      <td>60</td>\n",
       "      <td>2.816901</td>\n",
       "    </tr>\n",
       "    <tr>\n",
       "      <th>5894</th>\n",
       "      <td>Medical Center</td>\n",
       "      <td>Wheaton</td>\n",
       "      <td>19.82</td>\n",
       "      <td>51</td>\n",
       "      <td>2.573158</td>\n",
       "    </tr>\n",
       "    <tr>\n",
       "      <th>6219</th>\n",
       "      <td>College Park-U of Md</td>\n",
       "      <td>New Carrollton</td>\n",
       "      <td>21.83</td>\n",
       "      <td>56</td>\n",
       "      <td>2.565277</td>\n",
       "    </tr>\n",
       "    <tr>\n",
       "      <th>5471</th>\n",
       "      <td>Wheaton</td>\n",
       "      <td>Twinbrook</td>\n",
       "      <td>23.85</td>\n",
       "      <td>60</td>\n",
       "      <td>2.515723</td>\n",
       "    </tr>\n",
       "    <tr>\n",
       "      <th>8535</th>\n",
       "      <td>Suitland</td>\n",
       "      <td>Addison Road</td>\n",
       "      <td>17.50</td>\n",
       "      <td>42</td>\n",
       "      <td>2.400000</td>\n",
       "    </tr>\n",
       "    <tr>\n",
       "      <th>...</th>\n",
       "      <td>...</td>\n",
       "      <td>...</td>\n",
       "      <td>...</td>\n",
       "      <td>...</td>\n",
       "      <td>...</td>\n",
       "    </tr>\n",
       "    <tr>\n",
       "      <th>2464</th>\n",
       "      <td>Judiciary Square</td>\n",
       "      <td>Deanwood</td>\n",
       "      <td>NaN</td>\n",
       "      <td>30</td>\n",
       "      <td>0.000000</td>\n",
       "    </tr>\n",
       "    <tr>\n",
       "      <th>1689</th>\n",
       "      <td>Federal Center SW</td>\n",
       "      <td>Forest Glen</td>\n",
       "      <td>NaN</td>\n",
       "      <td>37</td>\n",
       "      <td>0.000000</td>\n",
       "    </tr>\n",
       "    <tr>\n",
       "      <th>1690</th>\n",
       "      <td>Federal Center SW</td>\n",
       "      <td>Greenbelt</td>\n",
       "      <td>NaN</td>\n",
       "      <td>37</td>\n",
       "      <td>0.000000</td>\n",
       "    </tr>\n",
       "    <tr>\n",
       "      <th>1691</th>\n",
       "      <td>Federal Center SW</td>\n",
       "      <td>Medical Center</td>\n",
       "      <td>NaN</td>\n",
       "      <td>35</td>\n",
       "      <td>0.000000</td>\n",
       "    </tr>\n",
       "    <tr>\n",
       "      <th>1766</th>\n",
       "      <td>Federal Triangle</td>\n",
       "      <td>NoMa-Gallaudet U</td>\n",
       "      <td>NaN</td>\n",
       "      <td>14</td>\n",
       "      <td>0.000000</td>\n",
       "    </tr>\n",
       "  </tbody>\n",
       "</table>\n",
       "<p>10881 rows × 5 columns</p>\n",
       "</div>"
      ],
      "text/plain": [
       "            station_name_o    station_name_d  bus_transit_minutes  \\\n",
       "5263              Glenmont       White Flint                21.30   \n",
       "5894        Medical Center           Wheaton                19.82   \n",
       "6219  College Park-U of Md    New Carrollton                21.83   \n",
       "5471               Wheaton         Twinbrook                23.85   \n",
       "8535              Suitland      Addison Road                17.50   \n",
       "...                    ...               ...                  ...   \n",
       "2464      Judiciary Square          Deanwood                  NaN   \n",
       "1689     Federal Center SW       Forest Glen                  NaN   \n",
       "1690     Federal Center SW         Greenbelt                  NaN   \n",
       "1691     Federal Center SW    Medical Center                  NaN   \n",
       "1766      Federal Triangle  NoMa-Gallaudet U                  NaN   \n",
       "\n",
       "      metro_transit_minutes  bus_competativeness_index  \n",
       "5263                     60                   2.816901  \n",
       "5894                     51                   2.573158  \n",
       "6219                     56                   2.565277  \n",
       "5471                     60                   2.515723  \n",
       "8535                     42                   2.400000  \n",
       "...                     ...                        ...  \n",
       "2464                     30                   0.000000  \n",
       "1689                     37                   0.000000  \n",
       "1690                     37                   0.000000  \n",
       "1691                     35                   0.000000  \n",
       "1766                     14                   0.000000  \n",
       "\n",
       "[10881 rows x 5 columns]"
      ]
     },
     "execution_count": 24,
     "metadata": {},
     "output_type": "execute_result"
    }
   ],
   "source": [
    "metro_tt = pd.read_csv('metro_travel_times.csv')\n",
    "df = calculate_bus_competativeness_index(metro_tt, bus_summaries)\n",
    "cols = {\n",
    "    'station_name_o':'station_name_o',\n",
    "    'station_name_d':'station_name_d',\n",
    "    'google_transit_minutes':'bus_transit_minutes',\n",
    "    'metro_minutes':'metro_transit_minutes',\n",
    "    'bus_competativeness_index':'bus_competativeness_index',\n",
    "}\n",
    "df = df[cols.keys()].rename(columns=cols)\n",
    "\n",
    "df.to_csv('bus_competativeness_index.csv')\n",
    "\n",
    "df.sort_values('bus_competativeness_index', ascending=False)"
   ]
  },
  {
   "cell_type": "code",
   "execution_count": 25,
   "id": "f5295123-2d71-4652-8471-40e03f03850e",
   "metadata": {},
   "outputs": [
    {
     "data": {
      "text/plain": [
       "<Axes: >"
      ]
     },
     "execution_count": 25,
     "metadata": {},
     "output_type": "execute_result"
    },
    {
     "data": {
      "image/png": "[encoded data removed]",
      "text/plain": [
       "<Figure size 640x480 with 1 Axes>"
      ]
     },
     "metadata": {},
     "output_type": "display_data"
    }
   ],
   "source": [
    "df.bus_competativeness_index.hist()"
   ]
  },
  {
   "cell_type": "code",
   "execution_count": null,
   "id": "c3b03b23-7549-43dc-a3b8-f17ebe2e951c",
   "metadata": {},
   "outputs": [],
   "source": []
  }
 ],
 "metadata": {
  "kernelspec": {
   "display_name": "Python 3 (ipykernel)",
   "language": "python",
   "name": "python3"
  },
  "language_info": {
   "codemirror_mode": {
    "name": "ipython",
    "version": 3
   },
   "file_extension": ".py",
   "mimetype": "text/x-python",
   "name": "python",
   "nbconvert_exporter": "python",
   "pygments_lexer": "ipython3",
   "version": "3.11.3"
  }
 },
 "nbformat": 4,
 "nbformat_minor": 5
}
