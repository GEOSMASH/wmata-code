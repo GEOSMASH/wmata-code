{
 "cells": [
  {
   "cell_type": "code",
   "execution_count": 1,
   "id": "05c16877-dc99-44f6-ae80-e0369e1d073f",
   "metadata": {},
   "outputs": [],
   "source": [
    "import geopandas as gpd\n",
    "import pandas as pd\n",
    "from google_geocoding import *\n",
    "from feature_dev import *\n",
    "from utils import *\n",
    "\n",
    "%load_ext autoreload\n",
    "%autoreload 2\n",
    "\n",
    "pd.set_option('display.max_rows', None)\n",
    "\n",
    "# df = develop_features()"
   ]
  },
  {
   "cell_type": "code",
   "execution_count": 2,
   "id": "8dabdd4c-3af1-4ce9-8596-58ddb0acd8c5",
   "metadata": {},
   "outputs": [],
   "source": [
    "# # Get station points\n",
    "# gdf = load_station_points()\n",
    "\n",
    "# # Extract lats and lons\n",
    "# gdf['lat'] = gdf.geometry.y\n",
    "# gdf['lon'] = gdf.geometry.x\n",
    "\n",
    "# # Make cartesian product of stations (all OD pairs)\n",
    "# df = pd.merge(gdf[['station_name','lat','lon']], gdf[['station_name','lat','lon']], how='cross', suffixes=('_o', '_d'))\n",
    "\n",
    "# # Remove diagonal\n",
    "# df = df[df.station_name_o != df.station_name_d]\n",
    "\n",
    "# # Split into 10 randomly-assigned groups\n",
    "# df = assign_random_groups(df, 10)\n",
    "# dfs = split_dataframe_by_id(df, 'group')\n",
    "\n",
    "# # Pickle group dataframes\n",
    "# with open('group_dataframes.pickle', 'wb') as handle:\n",
    "#     pickle.dump(dfs, handle, protocol=pickle.HIGHEST_PROTOCOL)"
   ]
  },
  {
   "cell_type": "code",
   "execution_count": 3,
   "id": "76efe121-9cc7-4fbc-92cd-42f64bdd6db6",
   "metadata": {},
   "outputs": [],
   "source": [
    "# Load group dataframes\n",
    "with open('group_dataframes.pickle', 'rb') as handle:\n",
    "    dfs = pickle.load(handle)"
   ]
  },
  {
   "cell_type": "code",
   "execution_count": 5,
   "id": "0bddca74-95c1-4f1b-8d16-aff0ab32b03b",
   "metadata": {},
   "outputs": [
    {
     "name": "stdout",
     "output_type": "stream",
     "text": [
      "Completed 50 routes\n",
      "Completed 100 routes\n",
      "Completed 150 routes\n",
      "Completed 200 routes\n",
      "Completed 250 routes\n",
      "Completed 300 routes\n",
      "Completed 350 routes\n",
      "Completed 400 routes\n",
      "Completed 450 routes\n",
      "Completed 500 routes\n",
      "Completed 550 routes\n",
      "Completed 600 routes\n",
      "Completed 650 routes\n",
      "Completed 700 routes\n",
      "Completed 750 routes\n",
      "Completed 800 routes\n",
      "Completed 850 routes\n",
      "Completed 900 routes\n",
      "Completed 950 routes\n",
      "Completed 1000 routes\n"
     ]
    }
   ],
   "source": [
    "# modes = ['driving']\n",
    "# modes = [('transit','bus')]\n",
    "# modes = [('transit','subway')]\n",
    "\n",
    "modes = [('transit','bus'), ('transit','subway')]\n",
    "\n",
    "group = 1\n",
    "df = dfs[group]\n",
    "\n",
    "name = '_'.join(flatten(modes))\n",
    "name = f'{name}_group{group}'\n",
    "\n",
    "dict = query_routes(df, configs.google_api_key, pickle_path=f'{name}_routes.pickle', modes=modes)\n",
    "results_df = summarize_routes(dict)\n",
    "results_df.to_parquet(f'{name}_summaries.parquet')"
   ]
  },
  {
   "cell_type": "code",
   "execution_count": 8,
   "id": "7e4b8165-4b38-4e40-a5bd-b2f8a62cc066",
   "metadata": {},
   "outputs": [],
   "source": [
    "dt_df = pd.read_parquet('transit_bus_transit_subway_group0_summaries.parquet')"
   ]
  },
  {
   "cell_type": "code",
   "execution_count": 9,
   "id": "54cdcb86-4cf4-4331-923e-5776ad9e5b17",
   "metadata": {},
   "outputs": [
    {
     "data": {
      "text/plain": [
       "1001"
      ]
     },
     "execution_count": 9,
     "metadata": {},
     "output_type": "execute_result"
    }
   ],
   "source": [
    "len(dt_df)"
   ]
  },
  {
   "cell_type": "code",
   "execution_count": null,
   "id": "e3bb18bb-8bb4-4231-8b8a-e6d5053345c3",
   "metadata": {},
   "outputs": [],
   "source": [
    "df = pd.concat([df.reset_index(drop=True), dt_df[['google_driving_minutes','google_driving_miles']]], axis=1)"
   ]
  },
  {
   "cell_type": "code",
   "execution_count": null,
   "id": "b80c88cb-1969-41fa-bbad-a9622d9374a4",
   "metadata": {},
   "outputs": [],
   "source": [
    "df.to_csv('google_driving_summaries.csv')"
   ]
  },
  {
   "cell_type": "code",
   "execution_count": null,
   "id": "5474f295-3564-4507-97ce-451ba12548e9",
   "metadata": {},
   "outputs": [],
   "source": [
    "dict = get_route_info(\n",
    "    orig_lat=df.iloc[0].lat_o, \n",
    "    orig_lon=df.iloc[0].lon_o, \n",
    "    dest_lat=df.iloc[0].lat_d, \n",
    "    dest_lon=df.iloc[0].lon_d, \n",
    "    api_key=configs.google_api_key, \n",
    "    mode='transit', \n",
    "    transit_mode='bus'\n",
    ")"
   ]
  },
  {
   "cell_type": "code",
   "execution_count": null,
   "id": "4cdd8d45-10d7-4f5d-9c7c-8df0adefc187",
   "metadata": {},
   "outputs": [],
   "source": [
    "dict.headers"
   ]
  },
  {
   "cell_type": "code",
   "execution_count": null,
   "id": "191764fb-d54d-4403-843c-2543d300a827",
   "metadata": {},
   "outputs": [],
   "source": [
    "dir(dict)"
   ]
  },
  {
   "cell_type": "code",
   "execution_count": null,
   "id": "7953754b-1b66-4acd-8fdc-65cc883f156e",
   "metadata": {},
   "outputs": [],
   "source": []
  }
 ],
 "metadata": {
  "kernelspec": {
   "display_name": "Python 3 (ipykernel)",
   "language": "python",
   "name": "python3"
  },
  "language_info": {
   "codemirror_mode": {
    "name": "ipython",
    "version": 3
   },
   "file_extension": ".py",
   "mimetype": "text/x-python",
   "name": "python",
   "nbconvert_exporter": "python",
   "pygments_lexer": "ipython3",
   "version": "3.11.3"
  }
 },
 "nbformat": 4,
 "nbformat_minor": 5
}
