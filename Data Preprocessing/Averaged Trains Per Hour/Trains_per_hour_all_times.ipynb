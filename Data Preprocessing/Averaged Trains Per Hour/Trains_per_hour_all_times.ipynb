{
 "cells": [
  {
   "cell_type": "code",
   "execution_count": 1,
   "id": "df03fc28-3e31-4077-b948-4053efcb9f05",
   "metadata": {},
   "outputs": [],
   "source": [
    "import os\n",
    "import pandas as pd\n",
    "import numpy as np\n",
    "import openpyxl\n",
    "import warnings\n",
    "warnings.filterwarnings('ignore')"
   ]
  },
  {
   "cell_type": "markdown",
   "id": "5e55687e-ffb8-4d42-a415-67e18ac5e46f",
   "metadata": {},
   "source": [
    "* trains_per_hour2 contains the average number of trains per hour of day (0-23) per direction at each of the stations"
   ]
  },
  {
   "cell_type": "code",
   "execution_count": 2,
   "id": "9a76a6c1-3322-4a66-8dbc-c53a0f037beb",
   "metadata": {},
   "outputs": [
    {
     "data": {
      "text/html": [
       "<div>\n",
       "<style scoped>\n",
       "    .dataframe tbody tr th:only-of-type {\n",
       "        vertical-align: middle;\n",
       "    }\n",
       "\n",
       "    .dataframe tbody tr th {\n",
       "        vertical-align: top;\n",
       "    }\n",
       "\n",
       "    .dataframe thead th {\n",
       "        text-align: right;\n",
       "    }\n",
       "</style>\n",
       "<table border=\"1\" class=\"dataframe\">\n",
       "  <thead>\n",
       "    <tr style=\"text-align: right;\">\n",
       "      <th></th>\n",
       "      <th>STATION_ID</th>\n",
       "      <th>STOP_ID</th>\n",
       "      <th>DIR_ID</th>\n",
       "      <th>SERVICETYPE</th>\n",
       "      <th>HOURINT</th>\n",
       "      <th>AVG_TRAINS</th>\n",
       "    </tr>\n",
       "  </thead>\n",
       "  <tbody>\n",
       "    <tr>\n",
       "      <th>0</th>\n",
       "      <td>MSTN_001</td>\n",
       "      <td>F06</td>\n",
       "      <td>1</td>\n",
       "      <td>Saturday</td>\n",
       "      <td>0</td>\n",
       "      <td>4</td>\n",
       "    </tr>\n",
       "    <tr>\n",
       "      <th>1</th>\n",
       "      <td>MSTN_001</td>\n",
       "      <td>F06</td>\n",
       "      <td>2</td>\n",
       "      <td>Saturday</td>\n",
       "      <td>0</td>\n",
       "      <td>3</td>\n",
       "    </tr>\n",
       "    <tr>\n",
       "      <th>2</th>\n",
       "      <td>MSTN_001</td>\n",
       "      <td>F06</td>\n",
       "      <td>1</td>\n",
       "      <td>Saturday</td>\n",
       "      <td>1</td>\n",
       "      <td>1</td>\n",
       "    </tr>\n",
       "    <tr>\n",
       "      <th>3</th>\n",
       "      <td>MSTN_001</td>\n",
       "      <td>F06</td>\n",
       "      <td>2</td>\n",
       "      <td>Saturday</td>\n",
       "      <td>1</td>\n",
       "      <td>2</td>\n",
       "    </tr>\n",
       "    <tr>\n",
       "      <th>4</th>\n",
       "      <td>MSTN_001</td>\n",
       "      <td>F06</td>\n",
       "      <td>2</td>\n",
       "      <td>Saturday</td>\n",
       "      <td>2</td>\n",
       "      <td>1</td>\n",
       "    </tr>\n",
       "  </tbody>\n",
       "</table>\n",
       "</div>"
      ],
      "text/plain": [
       "  STATION_ID STOP_ID  DIR_ID SERVICETYPE  HOURINT  AVG_TRAINS\n",
       "0   MSTN_001     F06       1    Saturday        0           4\n",
       "1   MSTN_001     F06       2    Saturday        0           3\n",
       "2   MSTN_001     F06       1    Saturday        1           1\n",
       "3   MSTN_001     F06       2    Saturday        1           2\n",
       "4   MSTN_001     F06       2    Saturday        2           1"
      ]
     },
     "execution_count": 2,
     "metadata": {},
     "output_type": "execute_result"
    }
   ],
   "source": [
    "trains_per_hour2 = pd.read_excel(\"../../Data/avgTrainThroughput_byHour.xlsx\")\n",
    "trains_per_hour2.head()"
   ]
  },
  {
   "cell_type": "markdown",
   "id": "5d10afb5-016c-4631-85f2-a52ec0f971bd",
   "metadata": {},
   "source": [
    "* Filter the trains per hour for only weekday information\n",
    "* Categorize each of the time periods into peak, off peak and late night periods\n",
    "* Keep only the station ID and average trains columns\n",
    "* Group by the station IDs and average the AVG_TRAINS column\n",
    "* Export"
   ]
  },
  {
   "cell_type": "code",
   "execution_count": 3,
   "id": "4e1b1f8f-b03b-4194-8c52-9b4618653a2a",
   "metadata": {},
   "outputs": [],
   "source": [
    "trains_per_hour2 = trains_per_hour2[trains_per_hour2['SERVICETYPE']=='Weekday']"
   ]
  },
  {
   "cell_type": "code",
   "execution_count": 4,
   "id": "b1c33259-bb7e-4917-9ea4-4437b1d334b2",
   "metadata": {},
   "outputs": [],
   "source": [
    "def determine_period(row):\n",
    "    if  5 <= row['HOURINT'] <= 10:\n",
    "        return 'Peak'\n",
    "    elif 15 <= row['HOURINT'] <= 19:\n",
    "        return 'Peak'\n",
    "    elif 11 <= row['HOURINT'] <= 14:\n",
    "        return 'Off Peak'\n",
    "    elif 20 <= row['HOURINT'] <= 22:\n",
    "        return 'Off Peak'\n",
    "    elif 23 == row['HOURINT']:\n",
    "        return 'Late Night'\n",
    "    elif 0 <= row['HOURINT'] <= 4:\n",
    "        return 'Late Night'\n",
    "    else:\n",
    "        return 'Other'\n",
    "\n",
    "trains_per_hour2['period'] = trains_per_hour2.apply(determine_period, axis=1)\n"
   ]
  },
  {
   "cell_type": "code",
   "execution_count": 5,
   "id": "52e6e44c-b0cf-4f4e-bda5-4daaadb1a684",
   "metadata": {},
   "outputs": [
    {
     "data": {
      "text/html": [
       "<div>\n",
       "<style scoped>\n",
       "    .dataframe tbody tr th:only-of-type {\n",
       "        vertical-align: middle;\n",
       "    }\n",
       "\n",
       "    .dataframe tbody tr th {\n",
       "        vertical-align: top;\n",
       "    }\n",
       "\n",
       "    .dataframe thead th {\n",
       "        text-align: right;\n",
       "    }\n",
       "</style>\n",
       "<table border=\"1\" class=\"dataframe\">\n",
       "  <thead>\n",
       "    <tr style=\"text-align: right;\">\n",
       "      <th></th>\n",
       "      <th>STATION_ID</th>\n",
       "      <th>STOP_ID</th>\n",
       "      <th>DIR_ID</th>\n",
       "      <th>SERVICETYPE</th>\n",
       "      <th>HOURINT</th>\n",
       "      <th>AVG_TRAINS</th>\n",
       "      <th>period</th>\n",
       "    </tr>\n",
       "  </thead>\n",
       "  <tbody>\n",
       "    <tr>\n",
       "      <th>81</th>\n",
       "      <td>MSTN_001</td>\n",
       "      <td>F06</td>\n",
       "      <td>1</td>\n",
       "      <td>Weekday</td>\n",
       "      <td>0</td>\n",
       "      <td>3</td>\n",
       "      <td>Late Night</td>\n",
       "    </tr>\n",
       "    <tr>\n",
       "      <th>82</th>\n",
       "      <td>MSTN_001</td>\n",
       "      <td>F06</td>\n",
       "      <td>2</td>\n",
       "      <td>Weekday</td>\n",
       "      <td>0</td>\n",
       "      <td>2</td>\n",
       "      <td>Late Night</td>\n",
       "    </tr>\n",
       "    <tr>\n",
       "      <th>83</th>\n",
       "      <td>MSTN_001</td>\n",
       "      <td>F06</td>\n",
       "      <td>1</td>\n",
       "      <td>Weekday</td>\n",
       "      <td>1</td>\n",
       "      <td>1</td>\n",
       "      <td>Late Night</td>\n",
       "    </tr>\n",
       "    <tr>\n",
       "      <th>84</th>\n",
       "      <td>MSTN_001</td>\n",
       "      <td>F06</td>\n",
       "      <td>2</td>\n",
       "      <td>Weekday</td>\n",
       "      <td>1</td>\n",
       "      <td>2</td>\n",
       "      <td>Late Night</td>\n",
       "    </tr>\n",
       "    <tr>\n",
       "      <th>85</th>\n",
       "      <td>MSTN_001</td>\n",
       "      <td>F06</td>\n",
       "      <td>1</td>\n",
       "      <td>Weekday</td>\n",
       "      <td>3</td>\n",
       "      <td>1</td>\n",
       "      <td>Late Night</td>\n",
       "    </tr>\n",
       "  </tbody>\n",
       "</table>\n",
       "</div>"
      ],
      "text/plain": [
       "   STATION_ID STOP_ID  DIR_ID SERVICETYPE  HOURINT  AVG_TRAINS      period\n",
       "81   MSTN_001     F06       1     Weekday        0           3  Late Night\n",
       "82   MSTN_001     F06       2     Weekday        0           2  Late Night\n",
       "83   MSTN_001     F06       1     Weekday        1           1  Late Night\n",
       "84   MSTN_001     F06       2     Weekday        1           2  Late Night\n",
       "85   MSTN_001     F06       1     Weekday        3           1  Late Night"
      ]
     },
     "execution_count": 5,
     "metadata": {},
     "output_type": "execute_result"
    }
   ],
   "source": [
    "trains_per_hour2.head()"
   ]
  },
  {
   "cell_type": "code",
   "execution_count": 6,
   "id": "811f9867-a577-4cae-9a44-aff5ab82678b",
   "metadata": {},
   "outputs": [],
   "source": [
    "os.makedirs('output', exist_ok=True)"
   ]
  },
  {
   "cell_type": "code",
   "execution_count": 7,
   "id": "6cef13bb-6dbd-45b9-856e-807950f3081c",
   "metadata": {},
   "outputs": [],
   "source": [
    "trains_per_hour2 = trains_per_hour2[['STATION_ID', 'AVG_TRAINS']]\n",
    "final_trains_per_hour = trains_per_hour2.groupby(['STATION_ID']).mean().reset_index()\n",
    "final_trains_per_hour.to_csv(\"output/trains_per_hour_all_periods.csv\")"
   ]
  }
 ],
 "metadata": {
  "kernelspec": {
   "display_name": "Python 3 (ipykernel)",
   "language": "python",
   "name": "python3"
  },
  "language_info": {
   "codemirror_mode": {
    "name": "ipython",
    "version": 3
   },
   "file_extension": ".py",
   "mimetype": "text/x-python",
   "name": "python",
   "nbconvert_exporter": "python",
   "pygments_lexer": "ipython3",
   "version": "3.12.0"
  }
 },
 "nbformat": 4,
 "nbformat_minor": 5
}
