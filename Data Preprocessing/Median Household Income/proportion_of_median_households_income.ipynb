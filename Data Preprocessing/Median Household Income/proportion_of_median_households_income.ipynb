{
 "cells": [
  {
   "cell_type": "code",
   "execution_count": 1,
   "id": "Akizg-_nun-_",
   "metadata": {
    "colab": {
     "base_uri": "https://localhost:8080/"
    },
    "id": "Akizg-_nun-_",
    "outputId": "1ae3a650-0238-47a8-9e6d-d69fcb657f3b"
   },
   "outputs": [],
   "source": [
    "import os\n",
    "os.makedirs('output', exist_ok=True)\n",
    "\n",
    "import sys\n",
    "sys.path.append('../')\n",
    "\n",
    "from utils import load_walksheds, overlay_wks\n",
    "import numpy as np\n",
    "import pandas as pd\n",
    "import geopandas as gpd\n",
    "from geopandas.tools import overlay\n",
    "from shapely.geometry import Point, Polygon, LineString\n",
    "import matplotlib.pyplot as plt\n",
    "import fiona\n",
    "import warnings\n",
    "warnings.filterwarnings(\"ignore\")"
   ]
  },
  {
   "cell_type": "markdown",
   "id": "dab75085-ff23-4b15-89aa-9854e0dbbdb0",
   "metadata": {},
   "source": [
    "#### Read in Datasets and Files"
   ]
  },
  {
   "cell_type": "markdown",
   "id": "c837696c-d2d0-42d6-8ac1-e7da2460b27d",
   "metadata": {},
   "source": [
    "* walskhedbuffer is the Metro station walksheds with overlapping boundaries\n",
    "* all_boundaries All boundaries for census blocks in MD, DC and VA\n",
    "* gdb_MD_BG, gdb_DC_BG, gdb_VA_BG are the block group geodataframes for MD, DC, VA\n",
    "* ACS_income_MD, ACS_income_DC, ACS_income_VA are the ACS incomes for MD, DC, VA"
   ]
  },
  {
   "cell_type": "code",
   "execution_count": 2,
   "id": "0ad17894",
   "metadata": {
    "id": "0ad17894"
   },
   "outputs": [],
   "source": [
    "wksp5, wksp75 = load_walksheds()\n",
    "all_boundaries= gpd.read_file(\"../../Data/MD-DC-VA Boundaries.zip\")\n",
    "\n",
    "\n",
    "gdb_MD_BG = gpd.read_file(\"../../Data/tlgdb_2021_a_24_md.gdb\", driver='FileGDB', layer='Block_Group')\n",
    "gdb_DC_BG = gpd.read_file (\"../../Data/tlgdb_2021_a_11_dc.gdb\", driver='FileGDB', layer='Block_Group')\n",
    "gdb_VA_BG = gpd.read_file (\"../../Data/tlgdb_2021_a_51_va.gdb\", driver='FileGDB', layer='Block_Group')\n",
    "\n",
    "ACS_income_MD = gpd.read_file(\"../../Data/ACS_2020_5YR_BG_24_MARYLAND.gdb\", driver='FileGDB', layer=15)\n",
    "ACS_income_DC = gpd.read_file(\"../../Data/ACS_2020_5YR_BG_11_DISTRICT_OF_COLUMBIA.gdb\", driver='FileGDB', layer=15)\n",
    "ACS_income_VA = gpd.read_file(\"../../Data/ACS_2020_5YR_BG_51_VIRGINIA.gdb\",driver='FileGDB', layer=15)\n"
   ]
  },
  {
   "cell_type": "markdown",
   "id": "6d52ace0-dfbf-4e1d-b5b9-484e8476d714",
   "metadata": {},
   "source": [
    "#### Preprocessing\n"
   ]
  },
  {
   "cell_type": "markdown",
   "id": "016fc126-1bd6-49e6-8e68-78d3838ce961",
   "metadata": {},
   "source": [
    "* Remove \"15000US\" from values in the the GEOID column of the ACS dataframes\n",
    "* Merge the ACS data from all three locations to the block groups based on the GEOID column\n",
    "* Merging creates two geometry columns. Make the geometry_y column (from the block groups) the main geometry column and remove the geometry column from the ACS data"
   ]
  },
  {
   "cell_type": "code",
   "execution_count": 3,
   "id": "d870b736",
   "metadata": {
    "id": "d870b736"
   },
   "outputs": [],
   "source": [
    "ACS_income_MD['GEOID'] = ACS_income_MD['GEOID'].str.replace('15000US', '')\n",
    "ACS_income_DC['GEOID'] = ACS_income_DC['GEOID'].str.replace('15000US', '')\n",
    "ACS_income_VA['GEOID'] = ACS_income_VA['GEOID'].str.replace('15000US', '')"
   ]
  },
  {
   "cell_type": "code",
   "execution_count": 4,
   "id": "a6bb3e08",
   "metadata": {
    "id": "a6bb3e08"
   },
   "outputs": [],
   "source": [
    "ACS_Income_MD = pd.merge(ACS_income_MD, gdb_MD_BG, on='GEOID', how='outer')\n",
    "ACS_Income_DC = pd.merge(ACS_income_DC, gdb_DC_BG, on='GEOID', how='outer')\n",
    "ACS_Income_VA = pd.merge(ACS_income_VA, gdb_VA_BG, on='GEOID',how='outer')"
   ]
  },
  {
   "cell_type": "code",
   "execution_count": 5,
   "id": "c133543a",
   "metadata": {
    "id": "c133543a"
   },
   "outputs": [],
   "source": [
    "ACS_Income_VA.rename(columns = {'geometry_y':'geometry'}, inplace = True)\n",
    "ACS_Income_DC.rename(columns = {'geometry_y':'geometry'}, inplace = True)\n",
    "ACS_Income_MD.rename(columns = {'geometry_y':'geometry'}, inplace = True)\n",
    "\n",
    "ACS_Income_VA = ACS_Income_VA.drop(columns=['geometry_x'])\n",
    "ACS_Income_DC = ACS_Income_DC.drop(columns=['geometry_x'])\n",
    "ACS_Income_MD = ACS_Income_MD.drop(columns=['geometry_x'])"
   ]
  },
  {
   "cell_type": "code",
   "execution_count": 6,
   "id": "1becdc89",
   "metadata": {
    "colab": {
     "base_uri": "https://localhost:8080/",
     "height": 1000
    },
    "id": "1becdc89",
    "outputId": "b3023141-4f7d-4888-9fa9-3b16f8b025d7"
   },
   "outputs": [
    {
     "data": {
      "text/html": [
       "<div>\n",
       "<style scoped>\n",
       "    .dataframe tbody tr th:only-of-type {\n",
       "        vertical-align: middle;\n",
       "    }\n",
       "\n",
       "    .dataframe tbody tr th {\n",
       "        vertical-align: top;\n",
       "    }\n",
       "\n",
       "    .dataframe thead th {\n",
       "        text-align: right;\n",
       "    }\n",
       "</style>\n",
       "<table border=\"1\" class=\"dataframe\">\n",
       "  <thead>\n",
       "    <tr style=\"text-align: right;\">\n",
       "      <th></th>\n",
       "      <th>GEOID</th>\n",
       "      <th>B19001e1</th>\n",
       "      <th>B19001m1</th>\n",
       "      <th>B19001e2</th>\n",
       "      <th>B19001m2</th>\n",
       "      <th>B19001e3</th>\n",
       "      <th>B19001m3</th>\n",
       "      <th>B19001e4</th>\n",
       "      <th>B19001m4</th>\n",
       "      <th>B19001e5</th>\n",
       "      <th>...</th>\n",
       "      <th>B19313He1</th>\n",
       "      <th>B19313Hm1</th>\n",
       "      <th>B19313Ie1</th>\n",
       "      <th>B19313Im1</th>\n",
       "      <th>NAMELSAD</th>\n",
       "      <th>ALAND</th>\n",
       "      <th>AWATER</th>\n",
       "      <th>INTPTLAT</th>\n",
       "      <th>INTPTLON</th>\n",
       "      <th>geometry</th>\n",
       "    </tr>\n",
       "  </thead>\n",
       "  <tbody>\n",
       "    <tr>\n",
       "      <th>0</th>\n",
       "      <td>240010001001</td>\n",
       "      <td>370.0</td>\n",
       "      <td>104.0</td>\n",
       "      <td>3.0</td>\n",
       "      <td>7.0</td>\n",
       "      <td>0.0</td>\n",
       "      <td>13.0</td>\n",
       "      <td>19.0</td>\n",
       "      <td>22.0</td>\n",
       "      <td>54.0</td>\n",
       "      <td>...</td>\n",
       "      <td>20738500.0</td>\n",
       "      <td>7778983.0</td>\n",
       "      <td>NaN</td>\n",
       "      <td>NaN</td>\n",
       "      <td>Block Group 1</td>\n",
       "      <td>114609102.0</td>\n",
       "      <td>2207428.0</td>\n",
       "      <td>+39.6704707</td>\n",
       "      <td>-78.3878895</td>\n",
       "      <td>MULTIPOLYGON (((-78.49625 39.60436, -78.49612 ...</td>\n",
       "    </tr>\n",
       "    <tr>\n",
       "      <th>1</th>\n",
       "      <td>240010001002</td>\n",
       "      <td>793.0</td>\n",
       "      <td>140.0</td>\n",
       "      <td>63.0</td>\n",
       "      <td>43.0</td>\n",
       "      <td>71.0</td>\n",
       "      <td>61.0</td>\n",
       "      <td>10.0</td>\n",
       "      <td>16.0</td>\n",
       "      <td>0.0</td>\n",
       "      <td>...</td>\n",
       "      <td>49793100.0</td>\n",
       "      <td>12217270.0</td>\n",
       "      <td>NaN</td>\n",
       "      <td>NaN</td>\n",
       "      <td>Block Group 2</td>\n",
       "      <td>215159992.0</td>\n",
       "      <td>508136.0</td>\n",
       "      <td>+39.6796402</td>\n",
       "      <td>-78.5461225</td>\n",
       "      <td>MULTIPOLYGON (((-78.66648 39.64913, -78.66643 ...</td>\n",
       "    </tr>\n",
       "  </tbody>\n",
       "</table>\n",
       "<p>2 rows × 457 columns</p>\n",
       "</div>"
      ],
      "text/plain": [
       "          GEOID  B19001e1  B19001m1  B19001e2  B19001m2  B19001e3  B19001m3  \\\n",
       "0  240010001001     370.0     104.0       3.0       7.0       0.0      13.0   \n",
       "1  240010001002     793.0     140.0      63.0      43.0      71.0      61.0   \n",
       "\n",
       "   B19001e4  B19001m4  B19001e5  ...   B19313He1   B19313Hm1  B19313Ie1  \\\n",
       "0      19.0      22.0      54.0  ...  20738500.0   7778983.0        NaN   \n",
       "1      10.0      16.0       0.0  ...  49793100.0  12217270.0        NaN   \n",
       "\n",
       "   B19313Im1       NAMELSAD        ALAND     AWATER     INTPTLAT     INTPTLON  \\\n",
       "0        NaN  Block Group 1  114609102.0  2207428.0  +39.6704707  -78.3878895   \n",
       "1        NaN  Block Group 2  215159992.0   508136.0  +39.6796402  -78.5461225   \n",
       "\n",
       "                                            geometry  \n",
       "0  MULTIPOLYGON (((-78.49625 39.60436, -78.49612 ...  \n",
       "1  MULTIPOLYGON (((-78.66648 39.64913, -78.66643 ...  \n",
       "\n",
       "[2 rows x 457 columns]"
      ]
     },
     "execution_count": 6,
     "metadata": {},
     "output_type": "execute_result"
    }
   ],
   "source": [
    "ACS_Income_MD.head(2)"
   ]
  },
  {
   "cell_type": "markdown",
   "id": "e62540dd-f953-42c1-892c-ee8dbda8acb6",
   "metadata": {},
   "source": [
    "* Merge the income variables from all three locations together\n",
    "* Change the CRS of both the walksheds and the combined income variable\n",
    "* Intersect the incomes with the walksheds\n",
    "* Remove extra characters from the station names"
   ]
  },
  {
   "cell_type": "code",
   "execution_count": 7,
   "id": "8d64bb84",
   "metadata": {
    "id": "8d64bb84",
    "scrolled": true
   },
   "outputs": [],
   "source": [
    "## merge two ACE_income for MD, DC, VA ###\n",
    "ACS_Income1 = pd.concat([ACS_Income_MD, ACS_Income_DC])\n",
    "ACS_income = pd.concat([ACS_Income1, ACS_Income_VA])\n"
   ]
  },
  {
   "cell_type": "code",
   "execution_count": 8,
   "id": "4acd67ea",
   "metadata": {
    "id": "4acd67ea"
   },
   "outputs": [],
   "source": [
    "ACS_income = ACS_income.to_crs('EPSG:4326')"
   ]
  },
  {
   "cell_type": "code",
   "execution_count": 9,
   "id": "fc615d92",
   "metadata": {
    "id": "fc615d92"
   },
   "outputs": [],
   "source": [
    "intersect_income_stations_p5, intersect_income_stations_p75 = overlay_wks(ACS_income)"
   ]
  },
  {
   "cell_type": "markdown",
   "id": "0d15ca03-87c2-4923-8e8e-fb8d876756e1",
   "metadata": {},
   "source": [
    "* Rename the B19013e1 column to median household income\n",
    "* Group intersect_income_stations by the station names and summarize to get the median of the median household income\n",
    "* Export the new variable"
   ]
  },
  {
   "cell_type": "code",
   "execution_count": 10,
   "id": "b9b58ed9",
   "metadata": {
    "id": "b9b58ed9"
   },
   "outputs": [],
   "source": [
    "intersect_income_stations_p5.rename(columns = {'B19013e1':\"Median_household_income_p5\"}, inplace = True)\n",
    "intersect_income_stations_p75.rename(columns = {'B19013e1':\"Median_household_income_p75\"}, inplace = True)"
   ]
  },
  {
   "cell_type": "code",
   "execution_count": 11,
   "id": "e602ecca",
   "metadata": {
    "id": "e602ecca"
   },
   "outputs": [
    {
     "data": {
      "text/html": [
       "<div>\n",
       "<style scoped>\n",
       "    .dataframe tbody tr th:only-of-type {\n",
       "        vertical-align: middle;\n",
       "    }\n",
       "\n",
       "    .dataframe tbody tr th {\n",
       "        vertical-align: top;\n",
       "    }\n",
       "\n",
       "    .dataframe thead th {\n",
       "        text-align: right;\n",
       "    }\n",
       "</style>\n",
       "<table border=\"1\" class=\"dataframe\">\n",
       "  <thead>\n",
       "    <tr style=\"text-align: right;\">\n",
       "      <th></th>\n",
       "      <th>Name_1</th>\n",
       "      <th>Median_household_income_p5</th>\n",
       "    </tr>\n",
       "  </thead>\n",
       "  <tbody>\n",
       "    <tr>\n",
       "      <th>0</th>\n",
       "      <td>ADDISON ROAD-SEAT PLEASANT</td>\n",
       "      <td>77702.0</td>\n",
       "    </tr>\n",
       "    <tr>\n",
       "      <th>1</th>\n",
       "      <td>ANACOSTIA</td>\n",
       "      <td>36323.0</td>\n",
       "    </tr>\n",
       "  </tbody>\n",
       "</table>\n",
       "</div>"
      ],
      "text/plain": [
       "                       Name_1  Median_household_income_p5\n",
       "0  ADDISON ROAD-SEAT PLEASANT                     77702.0\n",
       "1                   ANACOSTIA                     36323.0"
      ]
     },
     "execution_count": 11,
     "metadata": {},
     "output_type": "execute_result"
    }
   ],
   "source": [
    "sum_income_stations_p5 = intersect_income_stations_p5.groupby([\"Name_1\"])[\"Median_household_income_p5\"].median().reset_index()\n",
    "sum_income_stations_p75 = intersect_income_stations_p75.groupby([\"Name_1\"])[\"Median_household_income_p75\"].median().reset_index()\n",
    "sum_income_stations_p5.head(2)"
   ]
  },
  {
   "cell_type": "code",
   "execution_count": 12,
   "id": "c7ec59b2",
   "metadata": {
    "id": "c7ec59b2"
   },
   "outputs": [],
   "source": [
    "sum_income_stations_p5.to_excel(\"output/proportional_walkshed_household_income_updated_p5.xlsx\", sheet_name=' Medianhouseholdincome', index=True)\n",
    "sum_income_stations_p75.to_excel(\"output/proportional_walkshed_household_income_updated_p75.xlsx\", sheet_name=' Medianhouseholdincome', index=True)\n"
   ]
  }
 ],
 "metadata": {
  "colab": {
   "provenance": []
  },
  "kernelspec": {
   "display_name": "Python 3 (ipykernel)",
   "language": "python",
   "name": "python3"
  },
  "language_info": {
   "codemirror_mode": {
    "name": "ipython",
    "version": 3
   },
   "file_extension": ".py",
   "mimetype": "text/x-python",
   "name": "python",
   "nbconvert_exporter": "python",
   "pygments_lexer": "ipython3",
   "version": "3.12.0"
  }
 },
 "nbformat": 4,
 "nbformat_minor": 5
}
