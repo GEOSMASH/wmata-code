{
 "cells": [
  {
   "cell_type": "code",
   "execution_count": 1,
   "id": "b42cbc5c-dd85-4f51-adad-186e96fe3f1d",
   "metadata": {},
   "outputs": [],
   "source": [
    "import os\n",
    "os.makedirs('output', exist_ok=True)\n",
    "\n",
    "import sys\n",
    "sys.path.append('../')\n",
    "\n",
    "from utils import load_walksheds, overlay_wks\n",
    "import pandas as pd\n",
    "import numpy as np\n",
    "import geopandas as gpd"
   ]
  },
  {
   "cell_type": "markdown",
   "id": "629383f1-a3e0-47cb-8e34-a190733bf0a2",
   "metadata": {},
   "source": [
    "* higherInst is data on colleges and universities in DC, MD, VA area\n",
    "* highSchool is data on elementary and secondary schools in the DC, MD, VA area\n",
    "* wksp5 & wksp75 is the Metro station walksheds with overlapping boundaries using 0.5 miles and 0.75 mile radius respectively\n",
    "* all_boundaries All boundaries for census blocks in MD, DC and VA"
   ]
  },
  {
   "cell_type": "code",
   "execution_count": 2,
   "id": "31ea5c5c-f6a2-40c8-8a51-871f1a649bc9",
   "metadata": {
    "scrolled": true
   },
   "outputs": [
    {
     "name": "stderr",
     "output_type": "stream",
     "text": [
      "IOStream.flush timed out\n",
      "IOStream.flush timed out\n",
      "IOStream.flush timed out\n"
     ]
    }
   ],
   "source": [
    "higherInst = gpd.read_file('../../Data/Colleges_and_Universities.geojson')\n",
    "highSchool = gpd.read_file('../../Data/Public_School_Characteristics_2020-21.geojson')"
   ]
  },
  {
   "cell_type": "code",
   "execution_count": 3,
   "id": "7dce3685-23e8-46d4-93af-419e2572b68b",
   "metadata": {
    "scrolled": true
   },
   "outputs": [],
   "source": [
    "wksp5, wksp75 = load_walksheds()\n",
    "walkshedbuffer = gpd.read_file('../../Data/unions/Union_walkshades.shp')\n",
    "all_boundaries= gpd.read_file('../../Data/Merge Boundaries/MD_DC_VA/Block MD_DC_VA.shp')"
   ]
  },
  {
   "cell_type": "markdown",
   "id": "4240481b-95fa-43b9-a715-96a5afb35e3c",
   "metadata": {},
   "source": [
    "* counties is external data that has the county fips code and county names. We use this data to obtain the county fips and geometry for data that otherwise has only county names. "
   ]
  },
  {
   "cell_type": "code",
   "execution_count": 4,
   "id": "26c66f7f-9c49-460a-8ab6-2e53f5909791",
   "metadata": {},
   "outputs": [],
   "source": [
    "counties = gpd.read_file('https://cdn.jsdelivr.net/npm/us-atlas@3/counties-10m.json')\\\n",
    "                                                                            .sort_values(by='id').reset_index(drop=True)\n",
    "\n",
    "empty = counties['geometry'].is_empty\n",
    "counties_non_empty = counties[~empty]"
   ]
  },
  {
   "cell_type": "code",
   "execution_count": 5,
   "id": "1aa2802e-8995-4e60-82a4-c9ad9ba2b704",
   "metadata": {},
   "outputs": [],
   "source": [
    "higherInst = higherInst[['COUNTYFIPS', 'NAME',\n",
    "                         'ADDRESS', 'TOT_ENROLL', 'geometry']].copy()"
   ]
  },
  {
   "cell_type": "code",
   "execution_count": 6,
   "id": "e71a5ded-ef82-4f3a-a73c-3cd0b434839b",
   "metadata": {},
   "outputs": [],
   "source": [
    "all_boundaries['COUNTYFIPS20'] = all_boundaries['STATEFP20'].astype('str') + all_boundaries['COUNTYFP20'].astype('str')"
   ]
  },
  {
   "cell_type": "code",
   "execution_count": 7,
   "id": "4c5b34d6-b60d-4785-a61f-d22e330bff37",
   "metadata": {
    "scrolled": true
   },
   "outputs": [
    {
     "data": {
      "text/html": [
       "<div>\n",
       "<style scoped>\n",
       "    .dataframe tbody tr th:only-of-type {\n",
       "        vertical-align: middle;\n",
       "    }\n",
       "\n",
       "    .dataframe tbody tr th {\n",
       "        vertical-align: top;\n",
       "    }\n",
       "\n",
       "    .dataframe thead th {\n",
       "        text-align: right;\n",
       "    }\n",
       "</style>\n",
       "<table border=\"1\" class=\"dataframe\">\n",
       "  <thead>\n",
       "    <tr style=\"text-align: right;\">\n",
       "      <th></th>\n",
       "      <th>STATEFP20</th>\n",
       "      <th>COUNTYFP20</th>\n",
       "      <th>TRACTCE20</th>\n",
       "      <th>BLOCKCE20</th>\n",
       "      <th>GEOID20</th>\n",
       "      <th>NAME20</th>\n",
       "      <th>ALAND20</th>\n",
       "      <th>AWATER20</th>\n",
       "      <th>INTPTLAT20</th>\n",
       "      <th>INTPTLON20</th>\n",
       "      <th>HOUSING20</th>\n",
       "      <th>POP20</th>\n",
       "      <th>Shape_Leng</th>\n",
       "      <th>Shape_Area</th>\n",
       "      <th>geometry</th>\n",
       "      <th>COUNTYFIPS20</th>\n",
       "    </tr>\n",
       "  </thead>\n",
       "  <tbody>\n",
       "    <tr>\n",
       "      <th>0</th>\n",
       "      <td>24</td>\n",
       "      <td>031</td>\n",
       "      <td>700204</td>\n",
       "      <td>1016</td>\n",
       "      <td>240317002041016</td>\n",
       "      <td>Block 1016</td>\n",
       "      <td>2882692.0</td>\n",
       "      <td>10982.0</td>\n",
       "      <td>+39.3110468</td>\n",
       "      <td>-077.1894440</td>\n",
       "      <td>110.0</td>\n",
       "      <td>289.0</td>\n",
       "      <td>0.077830</td>\n",
       "      <td>0.000302</td>\n",
       "      <td>POLYGON ((-77.17597 39.31191, -77.17622 39.311...</td>\n",
       "      <td>24031</td>\n",
       "    </tr>\n",
       "    <tr>\n",
       "      <th>1</th>\n",
       "      <td>24</td>\n",
       "      <td>031</td>\n",
       "      <td>705902</td>\n",
       "      <td>1008</td>\n",
       "      <td>240317059021008</td>\n",
       "      <td>Block 1008</td>\n",
       "      <td>112639.0</td>\n",
       "      <td>502.0</td>\n",
       "      <td>+38.9700155</td>\n",
       "      <td>-077.1364633</td>\n",
       "      <td>52.0</td>\n",
       "      <td>153.0</td>\n",
       "      <td>0.021442</td>\n",
       "      <td>0.000012</td>\n",
       "      <td>POLYGON ((-77.13358 38.97015, -77.13326 38.969...</td>\n",
       "      <td>24031</td>\n",
       "    </tr>\n",
       "  </tbody>\n",
       "</table>\n",
       "</div>"
      ],
      "text/plain": [
       "  STATEFP20 COUNTYFP20 TRACTCE20 BLOCKCE20          GEOID20      NAME20  \\\n",
       "0        24        031    700204      1016  240317002041016  Block 1016   \n",
       "1        24        031    705902      1008  240317059021008  Block 1008   \n",
       "\n",
       "     ALAND20  AWATER20   INTPTLAT20    INTPTLON20  HOUSING20  POP20  \\\n",
       "0  2882692.0   10982.0  +39.3110468  -077.1894440      110.0  289.0   \n",
       "1   112639.0     502.0  +38.9700155  -077.1364633       52.0  153.0   \n",
       "\n",
       "   Shape_Leng  Shape_Area                                           geometry  \\\n",
       "0    0.077830    0.000302  POLYGON ((-77.17597 39.31191, -77.17622 39.311...   \n",
       "1    0.021442    0.000012  POLYGON ((-77.13358 38.97015, -77.13326 38.969...   \n",
       "\n",
       "  COUNTYFIPS20  \n",
       "0        24031  \n",
       "1        24031  "
      ]
     },
     "execution_count": 7,
     "metadata": {},
     "output_type": "execute_result"
    }
   ],
   "source": [
    "all_boundaries.head(2)"
   ]
  },
  {
   "cell_type": "code",
   "execution_count": 8,
   "id": "c0c36b8e-9ddb-417b-baf3-59c6bc4f9179",
   "metadata": {},
   "outputs": [],
   "source": [
    "Join_higherInst = all_boundaries.merge(higherInst, \n",
    "                                       left_on=\"COUNTYFIPS20\", \n",
    "                                       right_on = \"COUNTYFIPS\",\n",
    "                                       how='inner')"
   ]
  },
  {
   "cell_type": "code",
   "execution_count": 9,
   "id": "aa36a267-4b2a-427c-8c88-e304b7b2d79a",
   "metadata": {},
   "outputs": [],
   "source": [
    "Join_higherInst['geometry'] = Join_higherInst['geometry_y']"
   ]
  },
  {
   "cell_type": "code",
   "execution_count": 10,
   "id": "2de3c7ef-cffb-4ad3-b4f8-9ad45f828baf",
   "metadata": {},
   "outputs": [],
   "source": [
    "Join_higherInst = gpd.GeoDataFrame(Join_higherInst, geometry='geometry', crs=higherInst.crs)"
   ]
  },
  {
   "cell_type": "code",
   "execution_count": 11,
   "id": "406e5cf0-500a-4b19-87ed-a2c629a0c001",
   "metadata": {
    "scrolled": true
   },
   "outputs": [],
   "source": [
    "Join_higherInst = Join_higherInst.drop_duplicates(subset='ADDRESS').reset_index(drop=True)"
   ]
  },
  {
   "cell_type": "code",
   "execution_count": 12,
   "id": "bfdd24eb-4cde-474b-bbac-20cc96082e4d",
   "metadata": {
    "scrolled": true
   },
   "outputs": [
    {
     "data": {
      "text/plain": [
       "<Axes: >"
      ]
     },
     "execution_count": 12,
     "metadata": {},
     "output_type": "execute_result"
    },
    {
     "data": {
      "image/png": "[encoded data removed]",
      "text/plain": [
       "<Figure size 640x480 with 1 Axes>"
      ]
     },
     "metadata": {},
     "output_type": "display_data"
    }
   ],
   "source": [
    "\n",
    "Join_higherInst.plot()"
   ]
  },
  {
   "cell_type": "code",
   "execution_count": 13,
   "id": "42dd0c7d-0930-4e7d-836f-7b3bdf410649",
   "metadata": {
    "scrolled": true
   },
   "outputs": [],
   "source": [
    "intp5, intp75 = overlay_wks(Join_higherInst)"
   ]
  },
  {
   "cell_type": "code",
   "execution_count": 14,
   "id": "c9c34b0b-fd01-42a9-8db6-a9a3f707c848",
   "metadata": {},
   "outputs": [],
   "source": [
    "intp5.loc[intp5['TOT_ENROLL'] < 0, 'TOT_ENROLL'] = np.nan\n",
    "intp75.loc[intp75['TOT_ENROLL'] < 0, 'TOT_ENROLL'] = np.nan"
   ]
  },
  {
   "cell_type": "code",
   "execution_count": 15,
   "id": "e9298fbe-bb78-4fc0-bac6-51a1a8e1d8c1",
   "metadata": {},
   "outputs": [],
   "source": [
    "intp5 = intp5[['Name_1', 'TOT_ENROLL']]\n",
    "intp75 = intp75[['Name_1', 'TOT_ENROLL']]"
   ]
  },
  {
   "cell_type": "code",
   "execution_count": 16,
   "id": "f636b8ba-1f7a-4cd2-a1bf-f2f40531153d",
   "metadata": {},
   "outputs": [],
   "source": [
    "intp5.groupby('Name_1')['TOT_ENROLL'].sum().reset_index().rename(columns={'TOT_ENROLL':'TOT_ENROLL_p5'}).to_csv('output/Enrollment_colleges_p5.csv', index=False)\n",
    "intp75.groupby('Name_1')['TOT_ENROLL'].sum().reset_index().rename(columns={'TOT_ENROLL':'TOT_ENROLL_p75'}).to_csv('output/Enrollment_colleges_p75.csv', index=False)"
   ]
  },
  {
   "cell_type": "markdown",
   "id": "63a38f25-898d-4f93-8ebb-6fc5890d7e88",
   "metadata": {},
   "source": [
    "### High School Preprocessing"
   ]
  },
  {
   "cell_type": "code",
   "execution_count": 17,
   "id": "928e88a9-c118-485f-a9c1-4bebb14ec4ad",
   "metadata": {},
   "outputs": [],
   "source": [
    "highSchool = highSchool[['NMCNTY', 'SCH_NAME', 'geometry', 'TOTAL']]\n",
    "highSchool['NMCNTY'] = highSchool['NMCNTY'].str.replace('County', '').str.strip()"
   ]
  },
  {
   "cell_type": "code",
   "execution_count": 18,
   "id": "a781e7bd-89c6-458d-9243-5b8cdd3a139b",
   "metadata": {
    "scrolled": true
   },
   "outputs": [
    {
     "data": {
      "text/html": [
       "<div>\n",
       "<style scoped>\n",
       "    .dataframe tbody tr th:only-of-type {\n",
       "        vertical-align: middle;\n",
       "    }\n",
       "\n",
       "    .dataframe tbody tr th {\n",
       "        vertical-align: top;\n",
       "    }\n",
       "\n",
       "    .dataframe thead th {\n",
       "        text-align: right;\n",
       "    }\n",
       "</style>\n",
       "<table border=\"1\" class=\"dataframe\">\n",
       "  <thead>\n",
       "    <tr style=\"text-align: right;\">\n",
       "      <th></th>\n",
       "      <th>NMCNTY</th>\n",
       "      <th>SCH_NAME</th>\n",
       "      <th>geometry</th>\n",
       "      <th>TOTAL</th>\n",
       "    </tr>\n",
       "  </thead>\n",
       "  <tbody>\n",
       "    <tr>\n",
       "      <th>0</th>\n",
       "      <td>Marshall</td>\n",
       "      <td>Albertville Middle School</td>\n",
       "      <td>POINT (-86.20620 34.26020)</td>\n",
       "      <td>908.0</td>\n",
       "    </tr>\n",
       "    <tr>\n",
       "      <th>1</th>\n",
       "      <td>Marshall</td>\n",
       "      <td>Albertville High School</td>\n",
       "      <td>POINT (-86.20490 34.26220)</td>\n",
       "      <td>1606.0</td>\n",
       "    </tr>\n",
       "    <tr>\n",
       "      <th>2</th>\n",
       "      <td>Marshall</td>\n",
       "      <td>Albertville Intermediate School</td>\n",
       "      <td>POINT (-86.22010 34.27330)</td>\n",
       "      <td>891.0</td>\n",
       "    </tr>\n",
       "    <tr>\n",
       "      <th>3</th>\n",
       "      <td>Marshall</td>\n",
       "      <td>Albertville Elementary School</td>\n",
       "      <td>POINT (-86.22181 34.25270)</td>\n",
       "      <td>908.0</td>\n",
       "    </tr>\n",
       "    <tr>\n",
       "      <th>4</th>\n",
       "      <td>Marshall</td>\n",
       "      <td>Albertville Kindergarten and PreK</td>\n",
       "      <td>POINT (-86.19330 34.28980)</td>\n",
       "      <td>556.0</td>\n",
       "    </tr>\n",
       "  </tbody>\n",
       "</table>\n",
       "</div>"
      ],
      "text/plain": [
       "     NMCNTY                           SCH_NAME                    geometry  \\\n",
       "0  Marshall          Albertville Middle School  POINT (-86.20620 34.26020)   \n",
       "1  Marshall            Albertville High School  POINT (-86.20490 34.26220)   \n",
       "2  Marshall    Albertville Intermediate School  POINT (-86.22010 34.27330)   \n",
       "3  Marshall      Albertville Elementary School  POINT (-86.22181 34.25270)   \n",
       "4  Marshall  Albertville Kindergarten and PreK  POINT (-86.19330 34.28980)   \n",
       "\n",
       "    TOTAL  \n",
       "0   908.0  \n",
       "1  1606.0  \n",
       "2   891.0  \n",
       "3   908.0  \n",
       "4   556.0  "
      ]
     },
     "execution_count": 18,
     "metadata": {},
     "output_type": "execute_result"
    }
   ],
   "source": [
    "highSchool.head()"
   ]
  },
  {
   "cell_type": "code",
   "execution_count": 19,
   "id": "10ff7e74-41f7-4b67-b771-db9e1807279b",
   "metadata": {
    "scrolled": true
   },
   "outputs": [],
   "source": [
    "highSchool = counties.merge(highSchool, left_on='name', right_on='NMCNTY')"
   ]
  },
  {
   "cell_type": "code",
   "execution_count": 20,
   "id": "a23b2243-7fe3-480b-937b-670b80db9b06",
   "metadata": {},
   "outputs": [],
   "source": [
    "boundary = all_boundaries[['COUNTYFIPS20', 'NAME20', 'geometry']]"
   ]
  },
  {
   "cell_type": "code",
   "execution_count": 21,
   "id": "f53270ce-a336-4c29-bcda-949e272c5224",
   "metadata": {},
   "outputs": [],
   "source": [
    "joinHighSchool = boundary.merge(highSchool, \n",
    "                                       left_on=\"COUNTYFIPS20\", \n",
    "                                       right_on = \"id\", how='inner'\n",
    "                                       )"
   ]
  },
  {
   "cell_type": "code",
   "execution_count": 22,
   "id": "12077348-326d-46ea-9473-feb9320687e4",
   "metadata": {},
   "outputs": [],
   "source": [
    "joinHighSchool.drop(['geometry', 'NAME20', 'name','geometry_x'], axis=1, inplace=True)\n",
    "joinHighSchool['geometry'] = joinHighSchool['geometry_y']"
   ]
  },
  {
   "cell_type": "code",
   "execution_count": 23,
   "id": "ba9dc72c-c966-4cae-a162-25454102268c",
   "metadata": {},
   "outputs": [],
   "source": [
    "joinHighSchool = joinHighSchool.drop_duplicates(subset='SCH_NAME').reset_index(drop=True)"
   ]
  },
  {
   "cell_type": "code",
   "execution_count": 24,
   "id": "518c6ad3-2554-4d50-91c7-d47b5cc50fa1",
   "metadata": {},
   "outputs": [],
   "source": [
    "intersect_HS_p5, intersect_HS_p75 = overlay_wks(joinHighSchool)"
   ]
  },
  {
   "cell_type": "code",
   "execution_count": 25,
   "id": "2cfaa82d-57b5-4b1f-83d2-28b813e9eb73",
   "metadata": {},
   "outputs": [],
   "source": [
    "intersect_HS_p5.loc[intersect_HS_p5['TOTAL']<0, 'TOTAL'] = np.nan\n",
    "intersect_HS_p75.loc[intersect_HS_p75['TOTAL']<0, 'TOTAL'] = np.nan"
   ]
  },
  {
   "cell_type": "code",
   "execution_count": 26,
   "id": "7160fabf-c14f-4f44-9d26-e4341ec207ff",
   "metadata": {},
   "outputs": [],
   "source": [
    "intersect_HS_p5 = intersect_HS_p5[['Name_1', 'TOTAL']]\n",
    "intersect_HS_p75 = intersect_HS_p75[['Name_1', 'TOTAL']]"
   ]
  },
  {
   "cell_type": "code",
   "execution_count": 27,
   "id": "85e1298e-b04d-495d-ace4-b97963a1823c",
   "metadata": {
    "scrolled": true
   },
   "outputs": [],
   "source": [
    "intersect_HS_p5.groupby('Name_1').sum().reset_index().rename(columns={'TOTAL':'TOTAL_p5'}).to_csv('output/Enrollment_highschool_p5.csv', index=False)\n",
    "intersect_HS_p75.groupby('Name_1').sum().reset_index().rename(columns={'TOTAL':'TOTAL_p75'}).to_csv('output/Enrollment_highschool_p75.csv', index=False)"
   ]
  },
  {
   "cell_type": "code",
   "execution_count": null,
   "id": "17a997e1-6f2c-44cb-9f4b-7b42c86485af",
   "metadata": {},
   "outputs": [],
   "source": []
  },
  {
   "cell_type": "code",
   "execution_count": null,
   "id": "6395106f-fab9-4ef1-9b05-84b5d22fe5f2",
   "metadata": {},
   "outputs": [],
   "source": []
  },
  {
   "cell_type": "code",
   "execution_count": null,
   "id": "a64d6d00-857c-425f-bf8a-70651ea5749b",
   "metadata": {},
   "outputs": [],
   "source": []
  },
  {
   "cell_type": "code",
   "execution_count": null,
   "id": "51c39a54-2dc6-4193-98f9-460de6648542",
   "metadata": {},
   "outputs": [],
   "source": []
  },
  {
   "cell_type": "code",
   "execution_count": null,
   "id": "66f8b17d-a843-4be9-b95f-25ac78cfe0d5",
   "metadata": {},
   "outputs": [],
   "source": []
  },
  {
   "cell_type": "code",
   "execution_count": null,
   "id": "9f413fcf-cb0c-4be3-8115-79fd4bbe421d",
   "metadata": {},
   "outputs": [],
   "source": []
  },
  {
   "cell_type": "code",
   "execution_count": null,
   "id": "688d5c9b-2e59-47f4-b221-84d7e720d413",
   "metadata": {},
   "outputs": [],
   "source": []
  }
 ],
 "metadata": {
  "kernelspec": {
   "display_name": "Python 3 (ipykernel)",
   "language": "python",
   "name": "python3"
  },
  "language_info": {
   "codemirror_mode": {
    "name": "ipython",
    "version": 3
   },
   "file_extension": ".py",
   "mimetype": "text/x-python",
   "name": "python",
   "nbconvert_exporter": "python",
   "pygments_lexer": "ipython3",
   "version": "3.12.0"
  }
 },
 "nbformat": 4,
 "nbformat_minor": 5
}
