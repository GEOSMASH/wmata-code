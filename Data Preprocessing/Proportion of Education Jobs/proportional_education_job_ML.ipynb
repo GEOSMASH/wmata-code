{
 "cells": [
  {
   "cell_type": "code",
   "execution_count": 1,
   "id": "b37f9834",
   "metadata": {
    "colab": {
     "base_uri": "https://localhost:8080/"
    },
    "executionInfo": {
     "elapsed": 20094,
     "status": "ok",
     "timestamp": 1684436634122,
     "user": {
      "displayName": "Janna Chapman",
      "userId": "03316905486439216008"
     },
     "user_tz": 240
    },
    "id": "b37f9834",
    "outputId": "693ff4ac-6589-4c96-c7b5-60e22a43ded8"
   },
   "outputs": [],
   "source": [
    "import os\n",
    "os.makedirs('output', exist_ok=True)\n",
    "\n",
    "import sys\n",
    "sys.path.append('../')\n",
    "\n",
    "from utils import load_walksheds, overlay_wks\n",
    "\n",
    "import geopandas as gpd\n",
    "import matplotlib.pyplot as plt\n",
    "import pandas as pd\n",
    "import numpy as np\n",
    "import openpyxl\n",
    "import warnings\n",
    "warnings.filterwarnings('ignore')\n",
    "from geopandas.tools import overlay"
   ]
  },
  {
   "cell_type": "markdown",
   "id": "5145bdef",
   "metadata": {},
   "source": [
    "#### Read in shapefiles\n"
   ]
  },
  {
   "cell_type": "markdown",
   "id": "a82099a3",
   "metadata": {},
   "source": [
    "- entrances is data on rail station entrances for the study area\n",
    "- walskhedbuffer is the Metro station walksheds with overlapping boundaries\n",
    "- all_boundaries is shapefile of counties that metro lines passed from them\n",
    "- read data of jobs for MD, DC, VA"
   ]
  },
  {
   "cell_type": "code",
   "execution_count": 2,
   "id": "daac9c5f",
   "metadata": {
    "executionInfo": {
     "elapsed": 39110,
     "status": "ok",
     "timestamp": 1684437361106,
     "user": {
      "displayName": "Janna Chapman",
      "userId": "03316905486439216008"
     },
     "user_tz": 240
    },
    "id": "daac9c5f"
   },
   "outputs": [],
   "source": [
    "entrances = gpd.read_file('../../Data/RailStationEntrances2023.zip')\n",
    "wksp5, wksp75 = load_walksheds()\n",
    "all_boundaries= gpd.read_file('../../Data/Merge Boundaries/MD_DC_VA/Block MD_DC_VA.shp')\n",
    "Alljobs_MDDCVA = pd.read_excel('../../Data/AlljobMDDCVA.xlsx')"
   ]
  },
  {
   "cell_type": "markdown",
   "id": "13a1afe1",
   "metadata": {},
   "source": [
    "#### Preprocessing"
   ]
  },
  {
   "cell_type": "markdown",
   "id": "78ed802b",
   "metadata": {},
   "source": [
    "- Bring the shapefiles into common cordinate system\n",
    "- rename w_geocode of job's table to GEOID20, ID name in block shapefile of DC, MD, VA\n",
    "- Join jobs to boundary of case study, use outer to keep stations if they have not any similarity on GeoID "
   ]
  },
  {
   "cell_type": "code",
   "execution_count": 3,
   "id": "0c4bd795",
   "metadata": {
    "executionInfo": {
     "elapsed": 222599,
     "status": "ok",
     "timestamp": 1684437585161,
     "user": {
      "displayName": "Janna Chapman",
      "userId": "03316905486439216008"
     },
     "user_tz": 240
    },
    "id": "0c4bd795"
   },
   "outputs": [],
   "source": [
    "entrances = entrances.to_crs(wksp5.crs)\n",
    "all_boundaries =all_boundaries.to_crs(wksp5.crs)"
   ]
  },
  {
   "cell_type": "code",
   "execution_count": 4,
   "id": "07d572bf",
   "metadata": {
    "executionInfo": {
     "elapsed": 27,
     "status": "ok",
     "timestamp": 1684437661912,
     "user": {
      "displayName": "Janna Chapman",
      "userId": "03316905486439216008"
     },
     "user_tz": 240
    },
    "id": "07d572bf"
   },
   "outputs": [],
   "source": [
    "Alljobs_MDDCVA.rename(columns = {'w_geocode':'GEOID20'}, inplace = True)\n",
    "Alljobs_MDDCVA.rename(columns = {'CNS15':'education_jobs'}, inplace = True)"
   ]
  },
  {
   "cell_type": "code",
   "execution_count": 5,
   "id": "8f02a971",
   "metadata": {
    "executionInfo": {
     "elapsed": 25,
     "status": "ok",
     "timestamp": 1684437661913,
     "user": {
      "displayName": "Janna Chapman",
      "userId": "03316905486439216008"
     },
     "user_tz": 240
    },
    "id": "8f02a971"
   },
   "outputs": [],
   "source": [
    "Alljobs_MDDCVA[\"GEOID20\"]= Alljobs_MDDCVA[\"GEOID20\"].astype('str')"
   ]
  },
  {
   "cell_type": "code",
   "execution_count": 6,
   "id": "bdb21602",
   "metadata": {
    "executionInfo": {
     "elapsed": 472,
     "status": "ok",
     "timestamp": 1684437919156,
     "user": {
      "displayName": "Janna Chapman",
      "userId": "03316905486439216008"
     },
     "user_tz": 240
    },
    "id": "bdb21602"
   },
   "outputs": [],
   "source": [
    "Join_Jobs_Boundaries=pd.merge(all_boundaries,Alljobs_MDDCVA, on=\"GEOID20\", how='left')"
   ]
  },
  {
   "cell_type": "code",
   "execution_count": 7,
   "id": "4efaa331",
   "metadata": {
    "colab": {
     "base_uri": "https://localhost:8080/"
    },
    "executionInfo": {
     "elapsed": 165,
     "status": "ok",
     "timestamp": 1684437931497,
     "user": {
      "displayName": "Janna Chapman",
      "userId": "03316905486439216008"
     },
     "user_tz": 240
    },
    "id": "4efaa331",
    "outputId": "84558d4d-a8c1-4fef-fbc5-ab71dc8d6117"
   },
   "outputs": [],
   "source": [
    "Join_Jobs_Boundaries['fullarea'] = Join_Jobs_Boundaries.area"
   ]
  },
  {
   "cell_type": "markdown",
   "id": "bf3985f7",
   "metadata": {},
   "source": [
    "- intersect buffer of metro stations 0.5 miles with job boundaries\n",
    "- find the partial area of the intersected boundaries to get the proportional area\n"
   ]
  },
  {
   "cell_type": "code",
   "execution_count": 8,
   "id": "da68068c",
   "metadata": {
    "executionInfo": {
     "elapsed": 1899,
     "status": "ok",
     "timestamp": 1684437939448,
     "user": {
      "displayName": "Janna Chapman",
      "userId": "03316905486439216008"
     },
     "user_tz": 240
    },
    "id": "da68068c"
   },
   "outputs": [],
   "source": [
    "intp5, intp75 = overlay_wks(Join_Jobs_Boundaries)"
   ]
  },
  {
   "cell_type": "code",
   "execution_count": 9,
   "id": "cx548Bv2UzRz",
   "metadata": {
    "colab": {
     "base_uri": "https://localhost:8080/"
    },
    "executionInfo": {
     "elapsed": 161,
     "status": "ok",
     "timestamp": 1684438054268,
     "user": {
      "displayName": "Janna Chapman",
      "userId": "03316905486439216008"
     },
     "user_tz": 240
    },
    "id": "cx548Bv2UzRz",
    "outputId": "f2d854e0-2f07-4678-f180-67d535672675"
   },
   "outputs": [],
   "source": [
    "intp5['partialarea'] = intp5.area\n",
    "intp75['partialarea'] = intp75.area"
   ]
  },
  {
   "cell_type": "code",
   "execution_count": 10,
   "id": "aa81c463",
   "metadata": {
    "executionInfo": {
     "elapsed": 136,
     "status": "ok",
     "timestamp": 1684438065464,
     "user": {
      "displayName": "Janna Chapman",
      "userId": "03316905486439216008"
     },
     "user_tz": 240
    },
    "id": "aa81c463"
   },
   "outputs": [],
   "source": [
    "### education job from LEHD WAC data in SLD tutorial: NAICS sector 61\n",
    "### these codes is CNS15\n",
    "\n",
    "sum_education_job_bufstation_p5 = intp5.groupby(['Name_1'])[['education_jobs']].apply(sum)\n",
    "sum_education_job_bufstation_p75 = intp75.groupby(['Name_1'])[['education_jobs']].apply(sum)   "
   ]
  },
  {
   "cell_type": "code",
   "execution_count": 11,
   "id": "kJ98f2_DVUNj",
   "metadata": {
    "colab": {
     "base_uri": "https://localhost:8080/"
    },
    "executionInfo": {
     "elapsed": 350,
     "status": "ok",
     "timestamp": 1684438254451,
     "user": {
      "displayName": "Janna Chapman",
      "userId": "03316905486439216008"
     },
     "user_tz": 240
    },
    "id": "kJ98f2_DVUNj",
    "outputId": "f6c75e10-898f-470a-833b-be75fd9f47e9"
   },
   "outputs": [],
   "source": [
    "totalarea_station_p5 = intp5.groupby(['Name_1'])[['fullarea']].apply(sum)\n",
    "totalarea_station_p75 = intp75.groupby(['Name_1'])[['fullarea']].apply(sum)\n",
    "\n",
    "partialarea_station_p5 = intp5.groupby(['Name_1'])[['partialarea']].apply(sum)\n",
    "partialarea_station_p75 = intp75.groupby(['Name_1'])[['partialarea']].apply(sum)\n",
    "\n",
    "multiplier_p5  = partialarea_station_p5['partialarea']/totalarea_station_p5['fullarea']\n",
    "multiplier_p75 = partialarea_station_p75['partialarea']/totalarea_station_p75['fullarea']"
   ]
  },
  {
   "cell_type": "code",
   "execution_count": 12,
   "id": "LwbLq6iOVslN",
   "metadata": {
    "colab": {
     "base_uri": "https://localhost:8080/",
     "height": 455
    },
    "executionInfo": {
     "elapsed": 13,
     "status": "ok",
     "timestamp": 1684438814112,
     "user": {
      "displayName": "Janna Chapman",
      "userId": "03316905486439216008"
     },
     "user_tz": 240
    },
    "id": "LwbLq6iOVslN",
    "outputId": "441a6a5a-f9d1-4c0a-d6b8-fb5602f5c1a2",
    "scrolled": true
   },
   "outputs": [],
   "source": [
    "proportion_jobs_walkstation_p5 = sum_education_job_bufstation_p5.multiply(multiplier_p5, axis=\"index\")\n",
    "proportion_jobs_walkstation_p75 = sum_education_job_bufstation_p75.multiply(multiplier_p75, axis=\"index\")\n",
    "\n",
    "proportion_jobs_walkstation_p5.rename(columns={'education_jobs': 'Proportion_education_jobs_p5'}, inplace=True)\n",
    "proportion_jobs_walkstation_p75.rename(columns={'education_jobs': 'Proportion_education_jobs_p75'}, inplace=True)\n",
    "\n",
    "\n",
    "proportion_jobs_walkstation_p5.to_excel(\"output/proportion_education_jobs_stations_p5.xlsx\", sheet_name='num of education_jobs_stations', index=True)\n",
    "proportion_jobs_walkstation_p75.to_excel(\"output/proportion_education_jobs_stations_p75.xlsx\", sheet_name='num of education_jobs_stations', index=True)\n",
    "\n"
   ]
  },
  {
   "cell_type": "code",
   "execution_count": null,
   "id": "c0412a42-f51d-4e14-9ae0-65ff09c0a2cf",
   "metadata": {},
   "outputs": [],
   "source": []
  }
 ],
 "metadata": {
  "colab": {
   "provenance": []
  },
  "kernelspec": {
   "display_name": "Python 3 (ipykernel)",
   "language": "python",
   "name": "python3"
  },
  "language_info": {
   "codemirror_mode": {
    "name": "ipython",
    "version": 3
   },
   "file_extension": ".py",
   "mimetype": "text/x-python",
   "name": "python",
   "nbconvert_exporter": "python",
   "pygments_lexer": "ipython3",
   "version": "3.12.0"
  }
 },
 "nbformat": 4,
 "nbformat_minor": 5
}
