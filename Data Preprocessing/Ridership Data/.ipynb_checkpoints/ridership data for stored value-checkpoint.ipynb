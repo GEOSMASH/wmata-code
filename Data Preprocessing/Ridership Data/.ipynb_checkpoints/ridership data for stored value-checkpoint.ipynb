{
 "cells": [
  {
   "cell_type": "code",
   "execution_count": 1,
   "id": "818c650a-36cf-4d96-a305-a5b7562f171e",
   "metadata": {},
   "outputs": [],
   "source": [
    "import pandas as pd"
   ]
  },
  {
   "cell_type": "markdown",
   "id": "52e71253-099c-43fe-a6d6-a405a07df6d9",
   "metadata": {},
   "source": [
    "#### Load Required Data"
   ]
  },
  {
   "cell_type": "markdown",
   "id": "26671e08-aeff-4046-b64d-f3396c709cdb",
   "metadata": {},
   "source": [
    "* ridership_data contains the OD trip information provided by WMATA"
   ]
  },
  {
   "cell_type": "code",
   "execution_count": 2,
   "id": "ada03dab-4780-4aaa-acb5-908b842cb457",
   "metadata": {},
   "outputs": [
    {
     "data": {
      "text/plain": [
       "(5863504, 13)"
      ]
     },
     "execution_count": 2,
     "metadata": {},
     "output_type": "execute_result"
    }
   ],
   "source": [
    "#ridership_data = pd.concat(pd.read_excel(\"../../Data/railTrips_Apr-May2022 _original.xlsx\", sheet_name=None), ignore_index=True)\n",
    "ridership_data = pd.concat(pd.read_excel(\"../../Data/railTrips-Apr-May2022.xlsx\", sheet_name=None), ignore_index=True)\n",
    "ridership_data.shape"
   ]
  },
  {
   "cell_type": "markdown",
   "id": "4eb57ddf-04a6-4cc7-9d65-0273f5213605",
   "metadata": {},
   "source": [
    "#### Data Preprocessing"
   ]
  },
  {
   "cell_type": "markdown",
   "id": "31743713-4529-482e-a714-705405c82d7a",
   "metadata": {},
   "source": [
    "* Rename station names with multiple entrances\n",
    "* Get the day of the week from the start time of each trip (Monday=0 ,... Sunday=6 ### Date =0, Monday / Date=4, Thursday)\n",
    "* Filter the ridership data for only weekdays (Date = 0-4)\n",
    "* Seprate times and dates from the start time and end times. Time is in timestamps and needs to be converted to 24 hours format; for example 4 pm converts to 16\n",
    "* Set start time as the index and assign AM, PM and Off-Peak Periods based on the start and end times of the trip\n",
    "* Set end time as the index and assign AM, PM and Off-Peak Periods based on the start and end times of the trip\n",
    "* Remove late night from period start and period end"
   ]
  },
  {
   "cell_type": "code",
   "execution_count": 3,
   "id": "fd09ed76-4fb3-4249-9221-7242f8243cd9",
   "metadata": {},
   "outputs": [],
   "source": [
    "ridership_data['START_PLACE_NAME'] = ridership_data['START_PLACE_NAME'].replace({'Anacostia, N': 'Anacostia', 'Anacostia, S':'Anacostia',\n",
    "                          'Dupont Circle, N':'Dupont Circle','Dupont Circle, S':'Dupont Circle',\n",
    "                          'Farragut North, NE':'Farragut North', 'Farragut North, NW':'Farragut North', 'Farragut North, SE':'Farragut North',\n",
    "                          'Farragut West, E':'Farragut West','Farragut West, W':'Farragut West',\n",
    "                          'Friendship Heights, N':'Friendship Heights','Friendship Heights, S':'Friendship Heights',\n",
    "                          'Gallery Place-Chinatown, E':'Gallery Place-Chinatown','Gallery Place-Chinatown, N':'Gallery Place-Chinatown','Gallery Place-Chinatown, W':'Gallery Place-Chinatown',\n",
    "                          'Huntington, N':'Huntington','Huntington, S':'Huntington',\n",
    "                          'Judiciary Square, E':'Judiciary Square','Judiciary Square, W':'Judiciary Square',\n",
    "                          'King Street, N':'King Street',\n",
    "                          \"L'Enfant Plaza, E\":\"L'Enfant Plaza\",\"L'Enfant Plaza, N\":\"L'Enfant Plaza\",\"L'Enfant Plaza, W\":\"L'Enfant Plaza\",\n",
    "                          \"McPherson Square, E\":\"McPherson Square\",\"McPherson Square, W\":\"McPherson Square\",\n",
    "                          \"Metro Center, E\":\"Metro Center\",\"Metro Center, W\":\"Metro Center\",\"Metro Center, S\":\"Metro Center\",\"Metro Center, N\":\"Metro Center\",\n",
    "                          \"Navy Yard, E\":\"Navy Yard\",\"Navy Yard, W\":\"Navy Yard\",\n",
    "                          \"New York Ave. E\":\"New York Ave\",\"New York Ave. W\":\"New York Ave\",\n",
    "                          \"Shaw-Howard University, N\":\"Shaw-Howard University\",\"Shaw-Howard University, S\":\"Shaw-Howard University\",\n",
    "                          \"Silver Spring, N\":\"Silver Spring\",\"Silver Spring, S\":\"Silver Spring\",\n",
    "                          \"Smithsonian, N\":\"Smithsonian\",\"Smithsonian, S\":\"Smithsonian\",\n",
    "                          \"Stadium-Armory, N\":\"Stadium-Armory\",\"Stadium-Armory, S\":\"Stadium-Armory\",\n",
    "                          \"U Street-Cardozo, E\":\"U Street-Cardozo\",\"U Street-Cardozo, W\":\"U Street-Cardozo\",\n",
    "                          \"Union Station, N\":\"Union Station\",\"Union Station, S\":\"Union Station\",\n",
    "                          \"Rosslyn East\":\"Rosslyn\",\n",
    "                          \"Farragut North\":\"Farragut\",\"Farragut West\":\"Farragut\",\n",
    "                           \"Reagan Washington National Airport, N\":\"Reagan Washington National Airport\",\"Reagan Washington National Airport, S\":\"Reagan Washington National Airport\"                                                     \n",
    "      })\n",
    "\n",
    "\n",
    "ridership_data['END_PLACE_NAME'] = ridership_data['END_PLACE_NAME'].replace({'Anacostia, N': 'Anacostia', 'Anacostia, S':'Anacostia',\n",
    "                          'Dupont Circle, N':'Dupont Circle','Dupont Circle, S':'Dupont Circle',\n",
    "                          'Farragut North, NE':'Farragut North', 'Farragut North, NW':'Farragut North', 'Farragut North, SE':'Farragut North',\n",
    "                          'Farragut West, E':'Farragut West','Farragut West, W':'Farragut West',\n",
    "                          'Friendship Heights, N':'Friendship Heights','Friendship Heights, S':'Friendship Heights',\n",
    "                          'Gallery Place-Chinatown, E':'Gallery Place-Chinatown','Gallery Place-Chinatown, N':'Gallery Place-Chinatown','Gallery Place-Chinatown, W':'Gallery Place-Chinatown',\n",
    "                          'Huntington, N':'Huntington','Huntington, S':'Huntington',\n",
    "                          'Judiciary Square, E':'Judiciary Square','Judiciary Square, W':'Judiciary Square',\n",
    "                          'King Street, N':'King Street',\n",
    "                          \"L'Enfant Plaza, E\":\"L'Enfant Plaza\",\"L'Enfant Plaza, N\":\"L'Enfant Plaza\",\"L'Enfant Plaza, W\":\"L'Enfant Plaza\",\n",
    "                          \"McPherson Square, E\":\"McPherson Square\",\"McPherson Square, W\":\"McPherson Square\",\n",
    "                          \"Metro Center, E\":\"Metro Center\",\"Metro Center, W\":\"Metro Center\",\"Metro Center, S\":\"Metro Center\",\"Metro Center, N\":\"Metro Center\",\n",
    "                          \"Navy Yard, E\":\"Navy Yard\",\"Navy Yard, W\":\"Navy Yard\",\n",
    "                          \"New York Ave. E\":\"New York Ave\",\"New York Ave. W\":\"New York Ave\",\n",
    "                          \"Shaw-Howard University, N\":\"Shaw-Howard University\",\"Shaw-Howard University, S\":\"Shaw-Howard University\",\n",
    "                          \"Silver Spring, N\":\"Silver Spring\",\"Silver Spring, S\":\"Silver Spring\",\n",
    "                          \"Smithsonian, N\":\"Smithsonian\",\"Smithsonian, S\":\"Smithsonian\",\n",
    "                          \"Stadium-Armory, N\":\"Stadium-Armory\",\"Stadium-Armory, S\":\"Stadium-Armory\",\n",
    "                          \"U Street-Cardozo, E\":\"U Street-Cardozo\",\"U Street-Cardozo, W\":\"U Street-Cardozo\",\n",
    "                          \"Union Station, N\":\"Union Station\",\"Union Station, S\":\"Union Station\",\n",
    "                           \"Rosslyn East\":\"Rosslyn\",\n",
    "                          \"Farragut North\":\"Farragut\",\"Farragut West\":\"Farragut\",\n",
    "                        \"Reagan Washington National Airport, N\":\"Reagan Washington National Airport\",\n",
    "                        \"Reagan Washington National Airport, S\":\"Reagan Washington National Airport\"\n",
    "                                                                            })"
   ]
  },
  {
   "cell_type": "code",
   "execution_count": 4,
   "id": "f526a110-b3d4-4872-b0bb-a8a94d673314",
   "metadata": {},
   "outputs": [],
   "source": [
    "ridership_data['Date'] = ridership_data['START_TIME'].dt.dayofweek"
   ]
  },
  {
   "cell_type": "code",
   "execution_count": 5,
   "id": "9025a66a-eecf-4ad1-937c-2088f0fd11a3",
   "metadata": {},
   "outputs": [
    {
     "data": {
      "text/html": [
       "<div>\n",
       "<style scoped>\n",
       "    .dataframe tbody tr th:only-of-type {\n",
       "        vertical-align: middle;\n",
       "    }\n",
       "\n",
       "    .dataframe tbody tr th {\n",
       "        vertical-align: top;\n",
       "    }\n",
       "\n",
       "    .dataframe thead th {\n",
       "        text-align: right;\n",
       "    }\n",
       "</style>\n",
       "<table border=\"1\" class=\"dataframe\">\n",
       "  <thead>\n",
       "    <tr style=\"text-align: right;\">\n",
       "      <th></th>\n",
       "      <th>SVC_DATE</th>\n",
       "      <th>SUBSYSTEM</th>\n",
       "      <th>START_PLACE_NAME</th>\n",
       "      <th>ID</th>\n",
       "      <th>START_TIME</th>\n",
       "      <th>END_PLACE_NAME</th>\n",
       "      <th>ID_1</th>\n",
       "      <th>END_TIME</th>\n",
       "      <th>FARE_INSTRUMENT_ID</th>\n",
       "      <th>DESCRIPTION</th>\n",
       "      <th>RIDER_CLASS</th>\n",
       "      <th>FUND_TYPE</th>\n",
       "      <th>FARE_CENTS</th>\n",
       "      <th>Date</th>\n",
       "    </tr>\n",
       "  </thead>\n",
       "  <tbody>\n",
       "    <tr>\n",
       "      <th>0</th>\n",
       "      <td>2022-04-15</td>\n",
       "      <td>Metrorail</td>\n",
       "      <td>Cheverly</td>\n",
       "      <td>MSTN_058</td>\n",
       "      <td>2022-04-15 03:32:01</td>\n",
       "      <td>Bethesda</td>\n",
       "      <td>MSTN_052</td>\n",
       "      <td>2022-04-15 04:06:34</td>\n",
       "      <td>65647</td>\n",
       "      <td>Metro Employee Pass, EMPLOYEE</td>\n",
       "      <td>Employee</td>\n",
       "      <td>Self Funded</td>\n",
       "      <td>0</td>\n",
       "      <td>4</td>\n",
       "    </tr>\n",
       "    <tr>\n",
       "      <th>1</th>\n",
       "      <td>2022-04-15</td>\n",
       "      <td>Metrorail</td>\n",
       "      <td>Prince George's Plaza</td>\n",
       "      <td>MSTN_054</td>\n",
       "      <td>2022-04-15 03:44:46</td>\n",
       "      <td>Farragut North</td>\n",
       "      <td>MSTN_012</td>\n",
       "      <td>2022-04-15 04:07:20</td>\n",
       "      <td>65647</td>\n",
       "      <td>Metro Employee Pass, EMPLOYEE</td>\n",
       "      <td>Employee</td>\n",
       "      <td>Self Funded</td>\n",
       "      <td>0</td>\n",
       "      <td>4</td>\n",
       "    </tr>\n",
       "    <tr>\n",
       "      <th>2</th>\n",
       "      <td>2022-04-15</td>\n",
       "      <td>Metrorail</td>\n",
       "      <td>Takoma</td>\n",
       "      <td>MSTN_034</td>\n",
       "      <td>2022-04-15 03:51:59</td>\n",
       "      <td>College Park-U of MD</td>\n",
       "      <td>MSTN_053</td>\n",
       "      <td>2022-04-15 04:12:43</td>\n",
       "      <td>65647</td>\n",
       "      <td>Metro Employee Pass, EMPLOYEE</td>\n",
       "      <td>Employee</td>\n",
       "      <td>Self Funded</td>\n",
       "      <td>0</td>\n",
       "      <td>4</td>\n",
       "    </tr>\n",
       "    <tr>\n",
       "      <th>3</th>\n",
       "      <td>2022-04-15</td>\n",
       "      <td>Metrorail</td>\n",
       "      <td>Takoma</td>\n",
       "      <td>MSTN_034</td>\n",
       "      <td>2022-04-15 03:52:13</td>\n",
       "      <td>College Park-U of MD</td>\n",
       "      <td>MSTN_053</td>\n",
       "      <td>2022-04-15 04:12:57</td>\n",
       "      <td>65647</td>\n",
       "      <td>Metro Employee Pass, EMPLOYEE</td>\n",
       "      <td>Employee</td>\n",
       "      <td>Self Funded</td>\n",
       "      <td>0</td>\n",
       "      <td>4</td>\n",
       "    </tr>\n",
       "    <tr>\n",
       "      <th>4</th>\n",
       "      <td>2022-04-15</td>\n",
       "      <td>Metrorail</td>\n",
       "      <td>West Falls Church</td>\n",
       "      <td>MSTN_059</td>\n",
       "      <td>2022-04-15 03:59:33</td>\n",
       "      <td>Dunn Loring</td>\n",
       "      <td>MSTN_067</td>\n",
       "      <td>2022-04-15 04:14:05</td>\n",
       "      <td>16512</td>\n",
       "      <td>Stored Value, EMPLOYEE</td>\n",
       "      <td>Employee</td>\n",
       "      <td>Self Funded</td>\n",
       "      <td>0</td>\n",
       "      <td>4</td>\n",
       "    </tr>\n",
       "  </tbody>\n",
       "</table>\n",
       "</div>"
      ],
      "text/plain": [
       "    SVC_DATE  SUBSYSTEM       START_PLACE_NAME        ID          START_TIME  \\\n",
       "0 2022-04-15  Metrorail               Cheverly  MSTN_058 2022-04-15 03:32:01   \n",
       "1 2022-04-15  Metrorail  Prince George's Plaza  MSTN_054 2022-04-15 03:44:46   \n",
       "2 2022-04-15  Metrorail                 Takoma  MSTN_034 2022-04-15 03:51:59   \n",
       "3 2022-04-15  Metrorail                 Takoma  MSTN_034 2022-04-15 03:52:13   \n",
       "4 2022-04-15  Metrorail      West Falls Church  MSTN_059 2022-04-15 03:59:33   \n",
       "\n",
       "         END_PLACE_NAME      ID_1            END_TIME  FARE_INSTRUMENT_ID  \\\n",
       "0              Bethesda  MSTN_052 2022-04-15 04:06:34               65647   \n",
       "1        Farragut North  MSTN_012 2022-04-15 04:07:20               65647   \n",
       "2  College Park-U of MD  MSTN_053 2022-04-15 04:12:43               65647   \n",
       "3  College Park-U of MD  MSTN_053 2022-04-15 04:12:57               65647   \n",
       "4           Dunn Loring  MSTN_067 2022-04-15 04:14:05               16512   \n",
       "\n",
       "                     DESCRIPTION RIDER_CLASS    FUND_TYPE  FARE_CENTS  Date  \n",
       "0  Metro Employee Pass, EMPLOYEE    Employee  Self Funded           0     4  \n",
       "1  Metro Employee Pass, EMPLOYEE    Employee  Self Funded           0     4  \n",
       "2  Metro Employee Pass, EMPLOYEE    Employee  Self Funded           0     4  \n",
       "3  Metro Employee Pass, EMPLOYEE    Employee  Self Funded           0     4  \n",
       "4         Stored Value, EMPLOYEE    Employee  Self Funded           0     4  "
      ]
     },
     "execution_count": 5,
     "metadata": {},
     "output_type": "execute_result"
    }
   ],
   "source": [
    "ridership_data = ridership_data[ridership_data['Date']<5]\n",
    "ridership_data.head()"
   ]
  },
  {
   "cell_type": "code",
   "execution_count": 6,
   "id": "cf286335-adc3-4a1f-82ae-61657c30a8af",
   "metadata": {},
   "outputs": [],
   "source": [
    "#ridership_data['Start_Time'] = pd.to_datetime(ridership_data['START_TIME'], format='%I:%M:%S %p').dt.strftime('%H:%M:%S')\n",
    "#ridership_data['End_Time'] = pd.to_datetime(ridership_data['END_TIME'], format='%I:%M:%S %p').dt.strftime('%H:%M:%S')"
   ]
  },
  {
   "cell_type": "code",
   "execution_count": 7,
   "id": "9c282afb-ad37-4ab7-9f02-aa4575d01646",
   "metadata": {},
   "outputs": [
    {
     "data": {
      "text/html": [
       "<div>\n",
       "<style scoped>\n",
       "    .dataframe tbody tr th:only-of-type {\n",
       "        vertical-align: middle;\n",
       "    }\n",
       "\n",
       "    .dataframe tbody tr th {\n",
       "        vertical-align: top;\n",
       "    }\n",
       "\n",
       "    .dataframe thead th {\n",
       "        text-align: right;\n",
       "    }\n",
       "</style>\n",
       "<table border=\"1\" class=\"dataframe\">\n",
       "  <thead>\n",
       "    <tr style=\"text-align: right;\">\n",
       "      <th></th>\n",
       "      <th>SVC_DATE</th>\n",
       "      <th>SUBSYSTEM</th>\n",
       "      <th>START_PLACE_NAME</th>\n",
       "      <th>ID</th>\n",
       "      <th>START_TIME</th>\n",
       "      <th>END_PLACE_NAME</th>\n",
       "      <th>ID_1</th>\n",
       "      <th>END_TIME</th>\n",
       "      <th>FARE_INSTRUMENT_ID</th>\n",
       "      <th>DESCRIPTION</th>\n",
       "      <th>RIDER_CLASS</th>\n",
       "      <th>FUND_TYPE</th>\n",
       "      <th>FARE_CENTS</th>\n",
       "      <th>Date</th>\n",
       "      <th>Start_date</th>\n",
       "      <th>Start_time</th>\n",
       "      <th>End_date</th>\n",
       "      <th>End_time</th>\n",
       "    </tr>\n",
       "  </thead>\n",
       "  <tbody>\n",
       "    <tr>\n",
       "      <th>0</th>\n",
       "      <td>2022-04-15</td>\n",
       "      <td>Metrorail</td>\n",
       "      <td>Cheverly</td>\n",
       "      <td>MSTN_058</td>\n",
       "      <td>2022-04-15 03:32:01</td>\n",
       "      <td>Bethesda</td>\n",
       "      <td>MSTN_052</td>\n",
       "      <td>2022-04-15 04:06:34</td>\n",
       "      <td>65647</td>\n",
       "      <td>Metro Employee Pass, EMPLOYEE</td>\n",
       "      <td>Employee</td>\n",
       "      <td>Self Funded</td>\n",
       "      <td>0</td>\n",
       "      <td>4</td>\n",
       "      <td>2022-04-15</td>\n",
       "      <td>03:32:01</td>\n",
       "      <td>2022-04-15</td>\n",
       "      <td>04:06:34</td>\n",
       "    </tr>\n",
       "    <tr>\n",
       "      <th>1</th>\n",
       "      <td>2022-04-15</td>\n",
       "      <td>Metrorail</td>\n",
       "      <td>Prince George's Plaza</td>\n",
       "      <td>MSTN_054</td>\n",
       "      <td>2022-04-15 03:44:46</td>\n",
       "      <td>Farragut North</td>\n",
       "      <td>MSTN_012</td>\n",
       "      <td>2022-04-15 04:07:20</td>\n",
       "      <td>65647</td>\n",
       "      <td>Metro Employee Pass, EMPLOYEE</td>\n",
       "      <td>Employee</td>\n",
       "      <td>Self Funded</td>\n",
       "      <td>0</td>\n",
       "      <td>4</td>\n",
       "      <td>2022-04-15</td>\n",
       "      <td>03:44:46</td>\n",
       "      <td>2022-04-15</td>\n",
       "      <td>04:07:20</td>\n",
       "    </tr>\n",
       "    <tr>\n",
       "      <th>2</th>\n",
       "      <td>2022-04-15</td>\n",
       "      <td>Metrorail</td>\n",
       "      <td>Takoma</td>\n",
       "      <td>MSTN_034</td>\n",
       "      <td>2022-04-15 03:51:59</td>\n",
       "      <td>College Park-U of MD</td>\n",
       "      <td>MSTN_053</td>\n",
       "      <td>2022-04-15 04:12:43</td>\n",
       "      <td>65647</td>\n",
       "      <td>Metro Employee Pass, EMPLOYEE</td>\n",
       "      <td>Employee</td>\n",
       "      <td>Self Funded</td>\n",
       "      <td>0</td>\n",
       "      <td>4</td>\n",
       "      <td>2022-04-15</td>\n",
       "      <td>03:51:59</td>\n",
       "      <td>2022-04-15</td>\n",
       "      <td>04:12:43</td>\n",
       "    </tr>\n",
       "    <tr>\n",
       "      <th>3</th>\n",
       "      <td>2022-04-15</td>\n",
       "      <td>Metrorail</td>\n",
       "      <td>Takoma</td>\n",
       "      <td>MSTN_034</td>\n",
       "      <td>2022-04-15 03:52:13</td>\n",
       "      <td>College Park-U of MD</td>\n",
       "      <td>MSTN_053</td>\n",
       "      <td>2022-04-15 04:12:57</td>\n",
       "      <td>65647</td>\n",
       "      <td>Metro Employee Pass, EMPLOYEE</td>\n",
       "      <td>Employee</td>\n",
       "      <td>Self Funded</td>\n",
       "      <td>0</td>\n",
       "      <td>4</td>\n",
       "      <td>2022-04-15</td>\n",
       "      <td>03:52:13</td>\n",
       "      <td>2022-04-15</td>\n",
       "      <td>04:12:57</td>\n",
       "    </tr>\n",
       "    <tr>\n",
       "      <th>4</th>\n",
       "      <td>2022-04-15</td>\n",
       "      <td>Metrorail</td>\n",
       "      <td>West Falls Church</td>\n",
       "      <td>MSTN_059</td>\n",
       "      <td>2022-04-15 03:59:33</td>\n",
       "      <td>Dunn Loring</td>\n",
       "      <td>MSTN_067</td>\n",
       "      <td>2022-04-15 04:14:05</td>\n",
       "      <td>16512</td>\n",
       "      <td>Stored Value, EMPLOYEE</td>\n",
       "      <td>Employee</td>\n",
       "      <td>Self Funded</td>\n",
       "      <td>0</td>\n",
       "      <td>4</td>\n",
       "      <td>2022-04-15</td>\n",
       "      <td>03:59:33</td>\n",
       "      <td>2022-04-15</td>\n",
       "      <td>04:14:05</td>\n",
       "    </tr>\n",
       "  </tbody>\n",
       "</table>\n",
       "</div>"
      ],
      "text/plain": [
       "    SVC_DATE  SUBSYSTEM       START_PLACE_NAME        ID          START_TIME  \\\n",
       "0 2022-04-15  Metrorail               Cheverly  MSTN_058 2022-04-15 03:32:01   \n",
       "1 2022-04-15  Metrorail  Prince George's Plaza  MSTN_054 2022-04-15 03:44:46   \n",
       "2 2022-04-15  Metrorail                 Takoma  MSTN_034 2022-04-15 03:51:59   \n",
       "3 2022-04-15  Metrorail                 Takoma  MSTN_034 2022-04-15 03:52:13   \n",
       "4 2022-04-15  Metrorail      West Falls Church  MSTN_059 2022-04-15 03:59:33   \n",
       "\n",
       "         END_PLACE_NAME      ID_1            END_TIME  FARE_INSTRUMENT_ID  \\\n",
       "0              Bethesda  MSTN_052 2022-04-15 04:06:34               65647   \n",
       "1        Farragut North  MSTN_012 2022-04-15 04:07:20               65647   \n",
       "2  College Park-U of MD  MSTN_053 2022-04-15 04:12:43               65647   \n",
       "3  College Park-U of MD  MSTN_053 2022-04-15 04:12:57               65647   \n",
       "4           Dunn Loring  MSTN_067 2022-04-15 04:14:05               16512   \n",
       "\n",
       "                     DESCRIPTION RIDER_CLASS    FUND_TYPE  FARE_CENTS  Date  \\\n",
       "0  Metro Employee Pass, EMPLOYEE    Employee  Self Funded           0     4   \n",
       "1  Metro Employee Pass, EMPLOYEE    Employee  Self Funded           0     4   \n",
       "2  Metro Employee Pass, EMPLOYEE    Employee  Self Funded           0     4   \n",
       "3  Metro Employee Pass, EMPLOYEE    Employee  Self Funded           0     4   \n",
       "4         Stored Value, EMPLOYEE    Employee  Self Funded           0     4   \n",
       "\n",
       "   Start_date Start_time    End_date  End_time  \n",
       "0  2022-04-15   03:32:01  2022-04-15  04:06:34  \n",
       "1  2022-04-15   03:44:46  2022-04-15  04:07:20  \n",
       "2  2022-04-15   03:51:59  2022-04-15  04:12:43  \n",
       "3  2022-04-15   03:52:13  2022-04-15  04:12:57  \n",
       "4  2022-04-15   03:59:33  2022-04-15  04:14:05  "
      ]
     },
     "execution_count": 7,
     "metadata": {},
     "output_type": "execute_result"
    }
   ],
   "source": [
    "ridership_data['Start_date'] = [d.date() for d in ridership_data['START_TIME']]\n",
    "ridership_data['Start_time'] = [d.time() for d in ridership_data['START_TIME']]\n",
    "ridership_data['End_date'] = [d.date() for d in ridership_data['END_TIME']]\n",
    "ridership_data['End_time'] = [d.time() for d in ridership_data['END_TIME']]\n",
    "ridership_data.head()"
   ]
  },
  {
   "cell_type": "code",
   "execution_count": 8,
   "id": "bbe47293-70a8-48f7-8bfa-a4ba0d3db9a9",
   "metadata": {
    "scrolled": true
   },
   "outputs": [],
   "source": [
    "ridership_data.set_index('START_TIME', inplace=True)\n",
    "ridership_data.loc[ridership_data.between_time('05:00:00','9:30:00').index,'Period_start']='AM Peak'\n",
    "ridership_data.loc[ridership_data.between_time('15:00:00','19:00:00').index,'Period_start']='PM Peak'\n",
    "ridership_data.loc[ridership_data.between_time('9:31:00','14:59:59').index,'Period_start']='Off Peak'\n",
    "ridership_data.loc[ridership_data.between_time('19:01:00','21:30:00').index,'Period_start']='Off Peak'\n",
    "ridership_data.loc[ridership_data.between_time('21:31:00','04:59:59').index,'Period_start'] ='late night'"
   ]
  },
  {
   "cell_type": "code",
   "execution_count": 9,
   "id": "70b4c70f-d852-4c02-ade5-896730695cff",
   "metadata": {},
   "outputs": [],
   "source": [
    "ridership_data.set_index('END_TIME', inplace=True)\n",
    "ridership_data.loc[ridership_data.between_time('05:00:00','9:30:00').index,'Period_end']='AM Peak'\n",
    "ridership_data.loc[ridership_data.between_time('15:00:00','19:00:00').index,'Period_end']='PM Peak'\n",
    "ridership_data.loc[ridership_data.between_time('9:31:00','14:59:59').index,'Period_end']='Off Peak'\n",
    "ridership_data.loc[ridership_data.between_time('19:01:00','21:30:00').index,'Period_end']='Off Peak'\n",
    "ridership_data.loc[ridership_data.between_time('21:31:00','04:59:59').index,'Period_end'] ='late night'"
   ]
  },
  {
   "cell_type": "code",
   "execution_count": 10,
   "id": "455a9e47-27d4-4310-9f8e-d0f7e54a1840",
   "metadata": {},
   "outputs": [],
   "source": [
    "ridership_data = ridership_data[ridership_data.Period_end!= 'late night']\n",
    "ridership_data = ridership_data[ridership_data.Period_start!= 'late night']"
   ]
  },
  {
   "cell_type": "markdown",
   "id": "fbcf21f4-7bd2-4a74-9d74-4485b7b40e2c",
   "metadata": {},
   "source": [
    "* Create and apply a function that categorizes each trip into AM Peak, PM Peak and Off Peak and Other based on the start and end periods\n",
    "* Create an integer key of the two type of funds which are smart benefits and self funded\n",
    "* Keep rows where the origin and destination stations are not same"
   ]
  },
  {
   "cell_type": "code",
   "execution_count": 11,
   "id": "d30e7bce-f835-4732-9f7c-3fe7f2f7bc3e",
   "metadata": {},
   "outputs": [],
   "source": [
    "def determine_period(row):\n",
    "    if row['Period_start'] == 'AM Peak' and row['Period_end'] in ['AM Peak', 'Off Peak']:\n",
    "        return 'AM Peak'\n",
    "    elif row['Period_start'] == 'PM Peak' and row['Period_end'] in ['PM Peak', 'Off Peak']:\n",
    "        return 'PM Peak'\n",
    "    elif row['Period_start'] == 'Off Peak' and row['Period_end'] in ['Off Peak', 'PM Peak']:\n",
    "        return 'Off Peak'\n",
    "    else:\n",
    "        return 'Other'\n",
    "\n",
    "ridership_data['period'] = ridership_data.apply(determine_period, axis=1)"
   ]
  },
  {
   "cell_type": "code",
   "execution_count": 12,
   "id": "65818282-5547-46e3-b8a3-86631121f9e0",
   "metadata": {},
   "outputs": [],
   "source": [
    "Value_fund = {'Self Funded': 1,\n",
    "            'SmartBenefits' : 2 }\n",
    "ridership_data['Transit_benefit'] = ridership_data['FUND_TYPE'].map(Value_fund)  "
   ]
  },
  {
   "cell_type": "code",
   "execution_count": 13,
   "id": "73f48e8d-ffeb-4d47-963f-2e84ff4cad83",
   "metadata": {},
   "outputs": [],
   "source": [
    "## keep rows while origin and destination stations are not same ####\n",
    "ridership_data = ridership_data[ridership_data['START_PLACE_NAME'] != ridership_data['END_PLACE_NAME']]\n",
    "\n"
   ]
  },
  {
   "cell_type": "markdown",
   "id": "44594ed6-e0b8-4548-8ae0-a724cebec6de",
   "metadata": {},
   "source": [
    "## Filter Specific Rider Classes"
   ]
  },
  {
   "cell_type": "code",
   "execution_count": 14,
   "id": "c0c765cf-5ed1-446d-8ae8-f568a93df22a",
   "metadata": {},
   "outputs": [
    {
     "data": {
      "text/plain": [
       "array(['Full Fare', 'Senior/Disabled', nan, 'Employee', 'Student'],\n",
       "      dtype=object)"
      ]
     },
     "execution_count": 14,
     "metadata": {},
     "output_type": "execute_result"
    }
   ],
   "source": [
    "ridership_data['RIDER_CLASS'].unique() "
   ]
  },
  {
   "cell_type": "code",
   "execution_count": 15,
   "id": "e922c676-49d4-4092-8652-094174e29115",
   "metadata": {},
   "outputs": [
    {
     "data": {
      "text/plain": [
       "array(['Stored Value, FULL_FARE', 'Bus Rail Unlimited Pass-$3.75 Level',\n",
       "       'Stored Value, Senior', 'SmartBenefits Transit Non-Rollover',\n",
       "       'Stored Value, Disabled', 'University Spring Pass',\n",
       "       'Stored Value, MAC Conditional',\n",
       "       'MTA Transit Link Card (TLC) Pass',\n",
       "       'SmartBenefits Transit Transfer', 'Stored Value, DC Student',\n",
       "       'Bus Rail Unlimited Pass-$6.00 Level',\n",
       "       'SmartBenefits Transit Rollover', 'Metro Employee Pass, EMPLOYEE',\n",
       "       '7-Day Rail Short Trip Pass FULL_FARE',\n",
       "       'Bus Rail Unlimited Pass-$2.50 Level',\n",
       "       'Bus Rail Unlimited Pass-$4.00 Level',\n",
       "       'Bus Rail Unlimited Pass-$4.50 Level',\n",
       "       'MetroAccess PCA Pass FULL_FARE', 'DC Student Pass Thru Pass',\n",
       "       'Bus Rail Unlimited Pass-$2.75 Level',\n",
       "       '7-Day Rail Fast Pass FULL_FARE',\n",
       "       'Bus Rail Unlimited Pass-$4.25 Level',\n",
       "       'MARC Transit Link Card (TLC) Pass',\n",
       "       'Bus Rail Unlimited Pass-$5.00 Level',\n",
       "       'Bus Rail Unlimited Pass-$3.00 Level', 'Stored Value, EMPLOYEE',\n",
       "       'SmartBenefits Transit Credit',\n",
       "       'Bus Rail Unlimited Pass-$2.25 Level',\n",
       "       'Bus Rail Unlimited Pass-$3.25 Level',\n",
       "       '1-Day Bus Rail Combo Pass FULL_FARE',\n",
       "       '3-Day Bus Rail Combo Pass FULL_FARE',\n",
       "       'Bus Rail Unlimited Pass-$5.25 Level',\n",
       "       'Bus Rail Unlimited Pass-$3.50 Level',\n",
       "       'Bus Rail Unlimited Pass-$2.00 Level',\n",
       "       'Bus Rail Unlimited Pass-$4.75 Level',\n",
       "       'Bus Rail Unlimited Pass-$5.75 Level', 'ART Student, Stored Value',\n",
       "       'Metro Access Pass Thru Pass', 'MCRO ST SV', 'Police Pass',\n",
       "       'Bus Rail Unlimited Pass-$5.50 Level',\n",
       "       'Rail and Bus Metro Select Pass (MSP)-$3.75 Level',\n",
       "       'VRE Transit Link Card (TLC) Pass',\n",
       "       'Personal Care Attendant Pass, FULL_FARE',\n",
       "       'Stored Value, WMATA Retiree', 'Unlimited Pass-365 Day',\n",
       "       'StoredValue, STATION_MGR', 'University Summer Pass'], dtype=object)"
      ]
     },
     "execution_count": 15,
     "metadata": {},
     "output_type": "execute_result"
    }
   ],
   "source": [
    "ridership_data['DESCRIPTION'].unique() "
   ]
  },
  {
   "cell_type": "markdown",
   "id": "627e6522-075d-4dd7-88b7-8e1000fa8eae",
   "metadata": {},
   "source": [
    "* Get full fare riders without transit benefits by filtering for when the Description column is \"Stored Value, FULL_FARE\"\n",
    "* Get full fare riders with transit benefits by filtering for when the transit benefit is 2 and the rider class is full fare\n",
    "* Get senior/disabled riders without transit benefits by filtering for where the rider class is senior/disabled and the transit benefit is 1\n",
    "* Get senior/disabled riders with transit benefits by filtering for where the rider class is senior/disabled and the transit benefit is 2\n",
    "* Get student riders with or without transit benefits by filtering for where the rider class is student\n",
    "* Get an \"all riders\" class by concatenating full fare riders without transit benefits, full-fare riders with transit benefits and senior/disabled riders without transit benefits"
   ]
  },
  {
   "cell_type": "code",
   "execution_count": 16,
   "id": "64b60028-f796-4409-88d2-6f9a9ea9e70d",
   "metadata": {
    "scrolled": true
   },
   "outputs": [],
   "source": [
    "#full fare riders without transit benefits\n",
    "full_fare = ridership_data[ridership_data['DESCRIPTION'] ==\"Stored Value, FULL_FARE\"]"
   ]
  },
  {
   "cell_type": "code",
   "execution_count": 17,
   "id": "a9e4521d-4010-4730-b50a-d2c7ee18c333",
   "metadata": {},
   "outputs": [],
   "source": [
    "#full fare riders with only transit benefits\n",
    "transit_only = ridership_data[(ridership_data['Transit_benefit'] == 2) & (ridership_data['RIDER_CLASS']=='Full Fare')]"
   ]
  },
  {
   "cell_type": "code",
   "execution_count": 18,
   "id": "65a0ed5d-b8ff-4d77-b6b3-44eb953d3394",
   "metadata": {
    "scrolled": true
   },
   "outputs": [],
   "source": [
    "#senior/disabled without transit benefits\n",
    "seniors = ridership_data[(ridership_data['RIDER_CLASS'] == 'Senior/Disabled') & (ridership_data['Transit_benefit'] == 1)]"
   ]
  },
  {
   "cell_type": "code",
   "execution_count": 19,
   "id": "a57bc458-7fe4-4e2d-85e7-b222851b6fe8",
   "metadata": {
    "scrolled": true
   },
   "outputs": [],
   "source": [
    "#senior/disabled with transit benefits\n",
    "senior_benefits = ridership_data[(ridership_data['RIDER_CLASS'] == 'Senior/Disabled') & (ridership_data['Transit_benefit'] == 2)]"
   ]
  },
  {
   "cell_type": "code",
   "execution_count": 20,
   "id": "6b9463bd-52ec-40ec-8d51-28f36c2bc94c",
   "metadata": {
    "scrolled": true
   },
   "outputs": [],
   "source": [
    "#students with or without transit benefits\n",
    "students = ridership_data[(ridership_data['RIDER_CLASS'] == 'Student')]"
   ]
  },
  {
   "cell_type": "code",
   "execution_count": 21,
   "id": "16635bdc-d2c8-4b01-b2aa-0cfa6969cc75",
   "metadata": {},
   "outputs": [],
   "source": [
    "#full fare, senior, transit benefits combined\n",
    "all_riders = pd.concat([full_fare, seniors, transit_only])"
   ]
  },
  {
   "cell_type": "markdown",
   "id": "df2c5d55-e535-4cdb-9e38-6bf39453563a",
   "metadata": {},
   "source": [
    "#### Group by, summarize and Export"
   ]
  },
  {
   "cell_type": "markdown",
   "id": "aee8e62c-9c81-450f-83e4-7345e7052b4d",
   "metadata": {},
   "source": [
    "* For each of 4 of the rider classes (full fare riders without transit benefits, full-fare riders with transit benefits and senior/disabled riders without transit benefits, all riders), groupby the start and end station names and IDs and the time period\n",
    "* Export"
   ]
  },
  {
   "cell_type": "code",
   "execution_count": 22,
   "id": "3729f0cd-b0e3-4bbc-b810-46278e198367",
   "metadata": {},
   "outputs": [],
   "source": [
    "full_fare=full_fare.groupby([\"ID\", \"ID_1\",\"START_PLACE_NAME\",\"END_PLACE_NAME\", \"period\"]).size().reset_index(name=\"COUNT\")\n",
    "full_fare.to_excel(\"output/full_fare_ridership.xlsx\")"
   ]
  },
  {
   "cell_type": "code",
   "execution_count": 23,
   "id": "a095167d-3479-4c93-a9a2-6e6c7ea50c97",
   "metadata": {},
   "outputs": [],
   "source": [
    "transit_only=transit_only.groupby([\"ID\", \"ID_1\",\"START_PLACE_NAME\",\"END_PLACE_NAME\", \"period\"]).size().reset_index(name=\"COUNT\")\n",
    "transit_only.to_excel(\"output/transit_only_ridership.xlsx\")"
   ]
  },
  {
   "cell_type": "code",
   "execution_count": 24,
   "id": "5e0cd556-5b59-4c93-8abc-c8e770cc922b",
   "metadata": {},
   "outputs": [],
   "source": [
    "seniors=seniors.groupby([\"ID\", \"ID_1\",\"START_PLACE_NAME\",\"END_PLACE_NAME\", \"period\"]).size().reset_index(name=\"COUNT\")\n",
    "seniors.to_excel(\"output/senior_only_ridership.xlsx\")"
   ]
  },
  {
   "cell_type": "code",
   "execution_count": 25,
   "id": "8807f7bb-9edc-4f59-8f96-c5922a7c090c",
   "metadata": {},
   "outputs": [],
   "source": [
    "all_riders=all_riders.groupby([\"ID\", \"ID_1\",\"START_PLACE_NAME\",\"END_PLACE_NAME\", \"period\"]).size().reset_index(name=\"COUNT\")\n",
    "all_riders.to_excel(\"output/all_ridership.xlsx\")"
   ]
  }
 ],
 "metadata": {
  "kernelspec": {
   "display_name": "Python 3 (ipykernel)",
   "language": "python",
   "name": "python3"
  },
  "language_info": {
   "codemirror_mode": {
    "name": "ipython",
    "version": 3
   },
   "file_extension": ".py",
   "mimetype": "text/x-python",
   "name": "python",
   "nbconvert_exporter": "python",
   "pygments_lexer": "ipython3",
   "version": "3.10.8"
  }
 },
 "nbformat": 4,
 "nbformat_minor": 5
}
