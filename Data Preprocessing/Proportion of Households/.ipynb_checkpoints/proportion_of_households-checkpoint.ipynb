{
 "cells": [
  {
   "cell_type": "code",
   "execution_count": 3,
   "id": "bdb4035b",
   "metadata": {
    "colab": {
     "base_uri": "https://localhost:8080/"
    },
    "executionInfo": {
     "elapsed": 145801,
     "status": "ok",
     "timestamp": 1684372599816,
     "user": {
      "displayName": "Janna Chapman",
      "userId": "03316905486439216008"
     },
     "user_tz": 240
    },
    "id": "bdb4035b",
    "outputId": "593e96df-f733-4cfe-e013-9a586b582fc2"
   },
   "outputs": [],
   "source": [
    "from functools import reduce\n",
    "import geopandas as gpd\n",
    "import matplotlib.pyplot as plt\n",
    "import pandas as pd\n",
    "from geopandas.tools import overlay\n",
    "import warnings\n",
    "warnings.filterwarnings('ignore')"
   ]
  },
  {
   "cell_type": "markdown",
   "id": "ce2ec2be",
   "metadata": {},
   "source": [
    "#### Read in dataset and shapefiles."
   ]
  },
  {
   "cell_type": "markdown",
   "id": "7121e88e",
   "metadata": {},
   "source": [
    "- Walkshedbuffer is data of buffer around the walksheds without overlapping <br/><br/>\n",
    "\n",
    "- Household_MD data on household in Maryland <br/><br/>\n",
    "- Household_DC data on household in DC <br/><br/>\n",
    "- Household_VA data on household in Virginia <br/><br/>\n",
    "- all_boundaries is shapefile of counties that metro lines passed from them"
   ]
  },
  {
   "cell_type": "code",
   "execution_count": 4,
   "id": "7c856480",
   "metadata": {
    "id": "7c856480"
   },
   "outputs": [],
   "source": [
    "walkshedbuffer = gpd.read_file(\"../../Data/walksheds_overlapping.zip\")\n",
    "Household_MD = pd.read_excel (\"../../Data/MD_DECENNIALPL2020.H1-Data.xlsx\")\n",
    "Household_DC = pd.read_excel (\"../../Data/DC_DECENNIALPL2020.H1-Data.xlsx\")\n",
    "Household_VA = pd.read_excel (\"../../Data/VA_DECENNIALPL2020.H1-Data.xlsx\")\n",
    "all_boundaries = gpd.read_file(\"../../Data/MD_DC_VA/Block MD_DC_VA.shp\")"
   ]
  },
  {
   "cell_type": "markdown",
   "id": "d86dd8f2",
   "metadata": {},
   "source": [
    "#### Preprocessing"
   ]
  },
  {
   "cell_type": "markdown",
   "id": "91f8da31",
   "metadata": {},
   "source": [
    " - merge the three Housholds MD, DC, and VA to one file"
   ]
  },
  {
   "cell_type": "code",
   "execution_count": 5,
   "id": "7e6cd90a",
   "metadata": {
    "id": "7e6cd90a"
   },
   "outputs": [],
   "source": [
    "dataframes = [Household_MD, Household_DC, Household_VA]\n",
    "\n",
    "Housholds_merge = reduce(lambda left, right: pd.merge(left, right, how='outer'), dataframes)"
   ]
  },
  {
   "cell_type": "markdown",
   "id": "d648fa86",
   "metadata": {},
   "source": [
    "- remove 1000000US from GEOID20 column\n",
    "- rename GEO_ID of household's table to GEOID20, ID name in block shapefile of DC, MD, VA\n",
    "- join household file to boundary "
   ]
  },
  {
   "cell_type": "code",
   "execution_count": 6,
   "id": "64264074",
   "metadata": {
    "id": "64264074"
   },
   "outputs": [],
   "source": [
    "Housholds_merge['GEO_ID'] = Housholds_merge['GEO_ID'].str.replace('1000000US', '')\n",
    "Housholds_merge.rename(columns = {'GEO_ID':'GEOID20'}, inplace = True)\n",
    "Housholds_merge.rename(columns = {'H1_001N':'Total Households'}, inplace = True)\n",
    "\n",
    "Join_household_Boundaries=Join_household_Boundaries=pd.merge(all_boundaries,Housholds_merge, on=\"GEOID20\", how='outer')"
   ]
  },
  {
   "cell_type": "code",
   "execution_count": 7,
   "id": "37bc066c",
   "metadata": {},
   "outputs": [
    {
     "data": {
      "text/html": [
       "<div>\n",
       "<style scoped>\n",
       "    .dataframe tbody tr th:only-of-type {\n",
       "        vertical-align: middle;\n",
       "    }\n",
       "\n",
       "    .dataframe tbody tr th {\n",
       "        vertical-align: top;\n",
       "    }\n",
       "\n",
       "    .dataframe thead th {\n",
       "        text-align: right;\n",
       "    }\n",
       "</style>\n",
       "<table border=\"1\" class=\"dataframe\">\n",
       "  <thead>\n",
       "    <tr style=\"text-align: right;\">\n",
       "      <th></th>\n",
       "      <th>STATEFP20</th>\n",
       "      <th>COUNTYFP20</th>\n",
       "      <th>TRACTCE20</th>\n",
       "      <th>BLOCKCE20</th>\n",
       "      <th>GEOID20</th>\n",
       "      <th>NAME20</th>\n",
       "      <th>ALAND20</th>\n",
       "      <th>AWATER20</th>\n",
       "      <th>INTPTLAT20</th>\n",
       "      <th>INTPTLON20</th>\n",
       "      <th>...</th>\n",
       "      <th>Shape_Leng</th>\n",
       "      <th>Shape_Area</th>\n",
       "      <th>geometry</th>\n",
       "      <th>NAME</th>\n",
       "      <th>Total Households</th>\n",
       "      <th>H1_001NA</th>\n",
       "      <th>H1_002N</th>\n",
       "      <th>H1_002NA</th>\n",
       "      <th>H1_003N</th>\n",
       "      <th>H1_003NA</th>\n",
       "    </tr>\n",
       "  </thead>\n",
       "  <tbody>\n",
       "    <tr>\n",
       "      <th>0</th>\n",
       "      <td>24</td>\n",
       "      <td>031</td>\n",
       "      <td>700204</td>\n",
       "      <td>1016</td>\n",
       "      <td>240317002041016</td>\n",
       "      <td>Block 1016</td>\n",
       "      <td>2882692.0</td>\n",
       "      <td>10982.0</td>\n",
       "      <td>+39.3110468</td>\n",
       "      <td>-077.1894440</td>\n",
       "      <td>...</td>\n",
       "      <td>0.077830</td>\n",
       "      <td>0.000302</td>\n",
       "      <td>POLYGON ((-77.17597 39.31191, -77.17622 39.311...</td>\n",
       "      <td>Block 1016, Block Group 1, Census Tract 7002.0...</td>\n",
       "      <td>110</td>\n",
       "      <td>NaN</td>\n",
       "      <td>103</td>\n",
       "      <td>NaN</td>\n",
       "      <td>7</td>\n",
       "      <td>NaN</td>\n",
       "    </tr>\n",
       "    <tr>\n",
       "      <th>1</th>\n",
       "      <td>24</td>\n",
       "      <td>031</td>\n",
       "      <td>705902</td>\n",
       "      <td>1008</td>\n",
       "      <td>240317059021008</td>\n",
       "      <td>Block 1008</td>\n",
       "      <td>112639.0</td>\n",
       "      <td>502.0</td>\n",
       "      <td>+38.9700155</td>\n",
       "      <td>-077.1364633</td>\n",
       "      <td>...</td>\n",
       "      <td>0.021442</td>\n",
       "      <td>0.000012</td>\n",
       "      <td>POLYGON ((-77.13358 38.97015, -77.13326 38.969...</td>\n",
       "      <td>Block 1008, Block Group 1, Census Tract 7059.0...</td>\n",
       "      <td>52</td>\n",
       "      <td>NaN</td>\n",
       "      <td>48</td>\n",
       "      <td>NaN</td>\n",
       "      <td>4</td>\n",
       "      <td>NaN</td>\n",
       "    </tr>\n",
       "  </tbody>\n",
       "</table>\n",
       "<p>2 rows × 22 columns</p>\n",
       "</div>"
      ],
      "text/plain": [
       "  STATEFP20 COUNTYFP20 TRACTCE20 BLOCKCE20          GEOID20      NAME20  \\\n",
       "0        24        031    700204      1016  240317002041016  Block 1016   \n",
       "1        24        031    705902      1008  240317059021008  Block 1008   \n",
       "\n",
       "     ALAND20  AWATER20   INTPTLAT20    INTPTLON20  ...  Shape_Leng  \\\n",
       "0  2882692.0   10982.0  +39.3110468  -077.1894440  ...    0.077830   \n",
       "1   112639.0     502.0  +38.9700155  -077.1364633  ...    0.021442   \n",
       "\n",
       "   Shape_Area                                           geometry  \\\n",
       "0    0.000302  POLYGON ((-77.17597 39.31191, -77.17622 39.311...   \n",
       "1    0.000012  POLYGON ((-77.13358 38.97015, -77.13326 38.969...   \n",
       "\n",
       "                                                NAME Total Households  \\\n",
       "0  Block 1016, Block Group 1, Census Tract 7002.0...              110   \n",
       "1  Block 1008, Block Group 1, Census Tract 7059.0...               52   \n",
       "\n",
       "  H1_001NA H1_002N H1_002NA H1_003N H1_003NA  \n",
       "0      NaN     103      NaN       7      NaN  \n",
       "1      NaN      48      NaN       4      NaN  \n",
       "\n",
       "[2 rows x 22 columns]"
      ]
     },
     "execution_count": 7,
     "metadata": {},
     "output_type": "execute_result"
    }
   ],
   "source": [
    "Join_household_Boundaries.head(2)"
   ]
  },
  {
   "cell_type": "markdown",
   "id": "e23af57a",
   "metadata": {},
   "source": [
    "- fix coordinate system of metro buffer and Join_household_Boundaries\n",
    "- find the full area of the boundaries before the intersection\n",
    "- intersect households within 0.5 miles of metro station\n",
    "- find the partial area of the intersected boundaries to get the proportional area\n",
    "- find proportion of houses within the walkshed\n",
    "\n"
   ]
  },
  {
   "cell_type": "code",
   "execution_count": 8,
   "id": "98fc3387",
   "metadata": {
    "id": "98fc3387"
   },
   "outputs": [],
   "source": [
    "walkshedbuffer= walkshedbuffer.to_crs ('EPSG:4326')\n",
    "Join_household_Boundaries = Join_household_Boundaries.to_crs ('EPSG:4326')"
   ]
  },
  {
   "cell_type": "code",
   "execution_count": 9,
   "id": "X2TWicAdIzhL",
   "metadata": {
    "colab": {
     "base_uri": "https://localhost:8080/"
    },
    "executionInfo": {
     "elapsed": 376,
     "status": "ok",
     "timestamp": 1684372998550,
     "user": {
      "displayName": "Janna Chapman",
      "userId": "03316905486439216008"
     },
     "user_tz": 240
    },
    "id": "X2TWicAdIzhL",
    "outputId": "2caf9d22-efef-4085-f3be-b1ab61153134",
    "scrolled": true
   },
   "outputs": [],
   "source": [
    "Join_household_Boundaries['fullarea'] = Join_household_Boundaries.area"
   ]
  },
  {
   "cell_type": "code",
   "execution_count": 10,
   "id": "8661524f",
   "metadata": {
    "id": "8661524f"
   },
   "outputs": [],
   "source": [
    "intersect_stations_households = walkshedbuffer.overlay(Join_household_Boundaries, how=\"intersection\")"
   ]
  },
  {
   "cell_type": "code",
   "execution_count": 11,
   "id": "UhnFAyyjKrLa",
   "metadata": {
    "colab": {
     "base_uri": "https://localhost:8080/"
    },
    "executionInfo": {
     "elapsed": 123,
     "status": "ok",
     "timestamp": 1684373071995,
     "user": {
      "displayName": "Janna Chapman",
      "userId": "03316905486439216008"
     },
     "user_tz": 240
    },
    "id": "UhnFAyyjKrLa",
    "outputId": "153b9556-b0ec-4f1b-bf02-c864e678d959"
   },
   "outputs": [],
   "source": [
    "intersect_stations_households['partialarea'] = intersect_stations_households.area"
   ]
  },
  {
   "cell_type": "code",
   "execution_count": 12,
   "id": "5d24f717",
   "metadata": {},
   "outputs": [],
   "source": [
    "intersect_stations_households['proportionarea'] = intersect_stations_households['partialarea'] / intersect_stations_households['fullarea']\n",
    "intersect_stations_households['proportionhouses'] = intersect_stations_households['proportionarea'] * intersect_stations_households['Total Households']"
   ]
  },
  {
   "cell_type": "code",
   "execution_count": 13,
   "id": "93cdcb28",
   "metadata": {
    "colab": {
     "base_uri": "https://localhost:8080/"
    },
    "executionInfo": {
     "elapsed": 127,
     "status": "ok",
     "timestamp": 1684373092792,
     "user": {
      "displayName": "Janna Chapman",
      "userId": "03316905486439216008"
     },
     "user_tz": 240
    },
    "id": "93cdcb28",
    "outputId": "7c4e8fb0-160d-4e67-e44b-543aecca969e",
    "scrolled": true
   },
   "outputs": [],
   "source": [
    "## 97 stations\n",
    "# intersect_stations_households['Name_1'].unique()\n"
   ]
  },
  {
   "cell_type": "code",
   "execution_count": 14,
   "id": "EaFOtOdAiYxQ",
   "metadata": {
    "colab": {
     "base_uri": "https://localhost:8080/"
    },
    "executionInfo": {
     "elapsed": 89,
     "status": "ok",
     "timestamp": 1684374533357,
     "user": {
      "displayName": "Janna Chapman",
      "userId": "03316905486439216008"
     },
     "user_tz": 240
    },
    "id": "EaFOtOdAiYxQ",
    "outputId": "e3cf8050-090f-4ba1-8c7a-072eea86af4e"
   },
   "outputs": [],
   "source": [
    "intersect_stations_households['Name_1']=intersect_stations_households['Name_1'].str.replace(' : 0 - 2640','') \n",
    "intersect_stations_households['Name_1']=intersect_stations_households['Name_1'].str.replace(' : 0 - 22.4525758392805','') \n",
    "# intersect_stations_households['Name_1']"
   ]
  },
  {
   "cell_type": "code",
   "execution_count": 15,
   "id": "f92acc50",
   "metadata": {
    "colab": {
     "base_uri": "https://localhost:8080/",
     "height": 455
    },
    "executionInfo": {
     "elapsed": 169,
     "status": "ok",
     "timestamp": 1684375284505,
     "user": {
      "displayName": "Janna Chapman",
      "userId": "03316905486439216008"
     },
     "user_tz": 240
    },
    "id": "f92acc50",
    "outputId": "deedeb3f-b291-432d-89c1-939901580c7c"
   },
   "outputs": [
    {
     "data": {
      "text/html": [
       "<div>\n",
       "<style scoped>\n",
       "    .dataframe tbody tr th:only-of-type {\n",
       "        vertical-align: middle;\n",
       "    }\n",
       "\n",
       "    .dataframe tbody tr th {\n",
       "        vertical-align: top;\n",
       "    }\n",
       "\n",
       "    .dataframe thead th {\n",
       "        text-align: right;\n",
       "    }\n",
       "</style>\n",
       "<table border=\"1\" class=\"dataframe\">\n",
       "  <thead>\n",
       "    <tr style=\"text-align: right;\">\n",
       "      <th></th>\n",
       "      <th>proportionhouses</th>\n",
       "    </tr>\n",
       "    <tr>\n",
       "      <th>Name_1</th>\n",
       "      <th></th>\n",
       "    </tr>\n",
       "  </thead>\n",
       "  <tbody>\n",
       "    <tr>\n",
       "      <th>ADDISON ROAD-SEAT PLEASANT</th>\n",
       "      <td>529.032225</td>\n",
       "    </tr>\n",
       "    <tr>\n",
       "      <th>ANACOSTIA</th>\n",
       "      <td>2076.692445</td>\n",
       "    </tr>\n",
       "    <tr>\n",
       "      <th>ARCHIVES-NAVY MEMORIAL-PENN QUARTER</th>\n",
       "      <td>2215.020592</td>\n",
       "    </tr>\n",
       "  </tbody>\n",
       "</table>\n",
       "</div>"
      ],
      "text/plain": [
       "                                     proportionhouses\n",
       "Name_1                                               \n",
       "ADDISON ROAD-SEAT PLEASANT                 529.032225\n",
       "ANACOSTIA                                 2076.692445\n",
       "ARCHIVES-NAVY MEMORIAL-PENN QUARTER       2215.020592"
      ]
     },
     "execution_count": 15,
     "metadata": {},
     "output_type": "execute_result"
    }
   ],
   "source": [
    "Sum_households_bufstation = intersect_stations_households.groupby(['Name_1'])[['proportionhouses']].apply(sum)\n",
    "Sum_households_bufstation.head(3)"
   ]
  },
  {
   "cell_type": "code",
   "execution_count": 16,
   "id": "8789cfc7-b2d2-471a-8770-a3768d29f926",
   "metadata": {},
   "outputs": [],
   "source": [
    "total_households_bufstation= intersect_stations_households.groupby(['Name_1'])[['Total Households']].apply(sum)\n",
    "Sum_households_bufstation['Total Households'] = total_households_bufstation['Total Households']"
   ]
  },
  {
   "cell_type": "code",
   "execution_count": 17,
   "id": "de36cc7d-2a99-417e-8e3b-3828dbc716ab",
   "metadata": {},
   "outputs": [],
   "source": [
    "Sum_households_bufstation.reset_index(inplace=True)\n",
    "Sum_households_bufstation['Name_1'] = Sum_households_bufstation['Name_1'].str.title()\n",
    "Sum_households_bufstation['Name_1'] = Sum_households_bufstation['Name_1'].replace({\"Addison Road-Seat Pleasant\": 'Addison Road', \"Archives-Navy Memorial-Penn Quarter\":\"Archives\", \"Ballston-Mu\": \"Ballston-MU\", \"Brookland-Cua\":\"Brookland-CUA\", \"Dunn Loring-Merrifield\": \"Dunn Loring\", \"Largo Town Center\":\"Downtown Largo\", \"Eisenhower Avenue\":\"Eisenhower Ave\", 'Federal Center Sw':'Federal Center SW', \"Foggy Bottom-Gwu\":\"Foggy Bottom-GWU\",\"Gallery Pl-Chinatown\":\"Gallery Place\", \"Mclean\":\"McLean\", \"Mcpherson Square\":\"McPherson Sq\", \"Mt Vernon Sq 7Th St-Convention Center\":\"Mt Vernon Sq\", \"Noma-Gallaudet\":\"NoMa-Gallaudet U\", \"Rhode Island Ave-Brentwood\":\"Rhode Island Ave\",  \"Prince George'S Plaza\":\"Hyattsville Crossing\", \"Tenleytown-Au\": \"Tenleytown-AU\", \"Tysons Corner\":\"Tysons\", \"U Street/African-Amer Civil War Memorial/Cardozo\": \"U Street\", \"Southern Avenue\": \"Southern Ave\", \"Van Ness-Udc\":\"Van Ness-UDC\", \"Virginia Square-Gmu\":\"Virginia Sq-GMU\", \"Vienna/Fairfax-Gmu\":\"Vienna\", \"Washington Dulles International Airport\":\"Dulles Airport\", \"West Falls Church-Vt/Uva\":\"West Falls Church\", \"Woodley Park-Zoo/Adams Morgan\":\"Woodley Park\", \"White Flint\":\"North Bethesda\", \"College Park-U Of Md\": 'College Park-U of Md' })\n",
    "# Sum_households_bufstation['Name_1'].unique()"
   ]
  },
  {
   "cell_type": "code",
   "execution_count": 18,
   "id": "c94b872d-41cb-4ec9-ae2c-8f65c8fb3fb5",
   "metadata": {},
   "outputs": [
    {
     "data": {
      "text/html": [
       "<div>\n",
       "<style scoped>\n",
       "    .dataframe tbody tr th:only-of-type {\n",
       "        vertical-align: middle;\n",
       "    }\n",
       "\n",
       "    .dataframe tbody tr th {\n",
       "        vertical-align: top;\n",
       "    }\n",
       "\n",
       "    .dataframe thead th {\n",
       "        text-align: right;\n",
       "    }\n",
       "</style>\n",
       "<table border=\"1\" class=\"dataframe\">\n",
       "  <thead>\n",
       "    <tr style=\"text-align: right;\">\n",
       "      <th></th>\n",
       "      <th>Name_1</th>\n",
       "      <th>proportionhouses</th>\n",
       "      <th>Total Households</th>\n",
       "      <th>ID</th>\n",
       "      <th>PRIMARY_NAME_FY23</th>\n",
       "    </tr>\n",
       "  </thead>\n",
       "  <tbody>\n",
       "    <tr>\n",
       "      <th>0</th>\n",
       "      <td>Addison Road</td>\n",
       "      <td>529.032225</td>\n",
       "      <td>1663</td>\n",
       "      <td>MSTN_062</td>\n",
       "      <td>Addison Road</td>\n",
       "    </tr>\n",
       "    <tr>\n",
       "      <th>1</th>\n",
       "      <td>Anacostia</td>\n",
       "      <td>2076.692445</td>\n",
       "      <td>3639</td>\n",
       "      <td>MSTN_001</td>\n",
       "      <td>Anacostia</td>\n",
       "    </tr>\n",
       "    <tr>\n",
       "      <th>2</th>\n",
       "      <td>Archives</td>\n",
       "      <td>2215.020592</td>\n",
       "      <td>3007</td>\n",
       "      <td>MSTN_002</td>\n",
       "      <td>Archives</td>\n",
       "    </tr>\n",
       "    <tr>\n",
       "      <th>3</th>\n",
       "      <td>Arlington Cemetery</td>\n",
       "      <td>0.003139</td>\n",
       "      <td>1</td>\n",
       "      <td>MSTN_065</td>\n",
       "      <td>Arlington Cemetery</td>\n",
       "    </tr>\n",
       "    <tr>\n",
       "      <th>4</th>\n",
       "      <td>Ashburn</td>\n",
       "      <td>555.616854</td>\n",
       "      <td>936</td>\n",
       "      <td>MSTN_097</td>\n",
       "      <td>Ashburn</td>\n",
       "    </tr>\n",
       "  </tbody>\n",
       "</table>\n",
       "</div>"
      ],
      "text/plain": [
       "               Name_1  proportionhouses  Total Households        ID  \\\n",
       "0        Addison Road        529.032225              1663  MSTN_062   \n",
       "1           Anacostia       2076.692445              3639  MSTN_001   \n",
       "2            Archives       2215.020592              3007  MSTN_002   \n",
       "3  Arlington Cemetery          0.003139                 1  MSTN_065   \n",
       "4             Ashburn        555.616854               936  MSTN_097   \n",
       "\n",
       "    PRIMARY_NAME_FY23  \n",
       "0        Addison Road  \n",
       "1           Anacostia  \n",
       "2            Archives  \n",
       "3  Arlington Cemetery  \n",
       "4             Ashburn  "
      ]
     },
     "execution_count": 18,
     "metadata": {},
     "output_type": "execute_result"
    }
   ],
   "source": [
    "mstns = pd.read_excel(\"../../Data/mstn_id_to_stn_name.xlsx\")\n",
    "Sum_households_bufstation = Sum_households_bufstation.merge(mstns, right_on = 'PRIMARY_NAME_FY23', left_on = 'Name_1')\n",
    "Sum_households_bufstation.head()"
   ]
  },
  {
   "cell_type": "code",
   "execution_count": 19,
   "id": "bba8aca4",
   "metadata": {
    "id": "bba8aca4"
   },
   "outputs": [],
   "source": [
    "Sum_households_bufstation.to_excel(\"output/walkshed_proportional_households_stations.xlsx\", sheet_name='num of households_stations', index=True)"
   ]
  }
 ],
 "metadata": {
  "colab": {
   "provenance": []
  },
  "kernelspec": {
   "display_name": "Python 3 (ipykernel)",
   "language": "python",
   "name": "python3"
  },
  "language_info": {
   "codemirror_mode": {
    "name": "ipython",
    "version": 3
   },
   "file_extension": ".py",
   "mimetype": "text/x-python",
   "name": "python",
   "nbconvert_exporter": "python",
   "pygments_lexer": "ipython3",
   "version": "3.10.8"
  }
 },
 "nbformat": 4,
 "nbformat_minor": 5
}
