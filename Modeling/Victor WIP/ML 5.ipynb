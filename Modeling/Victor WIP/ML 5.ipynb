{
 "cells": [
  {
   "cell_type": "markdown",
   "id": "d55c9aa0-37fe-4754-ba1b-8c8b55ba062f",
   "metadata": {},
   "source": [
    "### Max Depth GridSearch"
   ]
  },
  {
   "cell_type": "code",
   "execution_count": 100,
   "id": "e70fc67f-bf99-4f86-b2ce-efd657226a76",
   "metadata": {},
   "outputs": [],
   "source": [
    "import pandas as pd\n",
    "import numpy as np\n",
    "import matplotlib.pyplot as plt\n",
    "import seaborn as sns\n",
    "from tqdm import tqdm\n",
    "\n",
    "# machine learning\n",
    "import xgboost as xgb\n",
    "from sklearn.metrics import mean_squared_error, r2_score\n",
    "from xgboost import plot_importance, plot_tree\n",
    "from math import sqrt\n",
    "from sklearn.model_selection import train_test_split, KFold, cross_val_score ,RandomizedSearchCV, GridSearchCV\n",
    "from statsmodels.stats.outliers_influence import variance_inflation_factor\n",
    "from sklearn.ensemble import RandomForestRegressor\n",
    "from sklearn.impute import SimpleImputer, KNNImputer\n",
    "from sklearn.feature_selection import RFE\n",
    "from catboost import CatBoostRegressor\n",
    "\n",
    "import warnings\n",
    "warnings.filterwarnings('ignore')"
   ]
  },
  {
   "cell_type": "markdown",
   "id": "cad0b872-81fd-4af1-8d41-cdcf6a224c26",
   "metadata": {},
   "source": [
    "### Load and view data"
   ]
  },
  {
   "cell_type": "code",
   "execution_count": null,
   "id": "078b9a0a-9e8e-4d55-8b12-1f47f5142df9",
   "metadata": {},
   "outputs": [],
   "source": [
    "OD = pd.read_excel(\"../Updated Variable list github/gabe/Modeling/Outputs/all_riders_vars_dataframe.xlsx\").drop('Unnamed: 0', axis=1)"
   ]
  },
  {
   "cell_type": "markdown",
   "id": "ffb6ed84-f0a5-4bb7-899b-0f279523cc44",
   "metadata": {},
   "source": [
    "* Split the dataset into train, test, and val set"
   ]
  },
  {
   "cell_type": "code",
   "execution_count": 110,
   "id": "9ff7d3b7-0f70-423f-b2a6-5b5905dbe633",
   "metadata": {},
   "outputs": [],
   "source": [
    "pd.reset_option('all')\n",
    "# pd.set_option('display.max_rows', None)"
   ]
  },
  {
   "cell_type": "code",
   "execution_count": 111,
   "id": "5cc9e077-01c9-45b3-9b93-b12a019ebb42",
   "metadata": {},
   "outputs": [],
   "source": [
    "OD = OD.groupby('pairs').first().reset_index()"
   ]
  },
  {
   "cell_type": "code",
   "execution_count": 112,
   "id": "d9ff6c3d-5093-4f7a-91c4-262777f20b66",
   "metadata": {},
   "outputs": [],
   "source": [
    "OD.rename({'proportionhouses_O': 'proportion_of_households_O', \n",
    "           'proportionhouses_D': 'proportion_of_households_D'}, axis=1, inplace=True)"
   ]
  },
  {
   "cell_type": "code",
   "execution_count": 113,
   "id": "57384741-c392-4095-9a1c-0800c5a64fb4",
   "metadata": {},
   "outputs": [
    {
     "data": {
      "text/html": [
       "<div>\n",
       "<style scoped>\n",
       "    .dataframe tbody tr th:only-of-type {\n",
       "        vertical-align: middle;\n",
       "    }\n",
       "\n",
       "    .dataframe tbody tr th {\n",
       "        vertical-align: top;\n",
       "    }\n",
       "\n",
       "    .dataframe thead th {\n",
       "        text-align: right;\n",
       "    }\n",
       "</style>\n",
       "<table border=\"1\" class=\"dataframe\">\n",
       "  <thead>\n",
       "    <tr style=\"text-align: right;\">\n",
       "      <th></th>\n",
       "      <th>pairs</th>\n",
       "      <th>passengers</th>\n",
       "      <th>ID_D</th>\n",
       "      <th>PRIMARY_NAME_FY23_D</th>\n",
       "      <th>walkshed_filename_D</th>\n",
       "      <th>WMATA_filename_D</th>\n",
       "      <th>track_miles_names_D</th>\n",
       "      <th>auto_filename_D</th>\n",
       "      <th>ID_O</th>\n",
       "      <th>PRIMARY_NAME_FY23_O</th>\n",
       "      <th>...</th>\n",
       "      <th>prox3norm_O</th>\n",
       "      <th>conn6norm_O</th>\n",
       "      <th>parks2norm_O</th>\n",
       "      <th>peds4norm_O</th>\n",
       "      <th>safenorm_O</th>\n",
       "      <th>traffic5norm_O</th>\n",
       "      <th>aesttot3norm_O</th>\n",
       "      <th>paf2norm_O</th>\n",
       "      <th>sop7norm_O</th>\n",
       "      <th>urban_dummy_O</th>\n",
       "    </tr>\n",
       "  </thead>\n",
       "  <tbody>\n",
       "    <tr>\n",
       "      <th>0</th>\n",
       "      <td>MSTN_0010MSTN_002</td>\n",
       "      <td>1418</td>\n",
       "      <td>MSTN_002</td>\n",
       "      <td>Archives</td>\n",
       "      <td>ARCHIVES-NAVY MEMORIAL-PENN QUARTER</td>\n",
       "      <td>Archives-Navy Memorial</td>\n",
       "      <td>Archives</td>\n",
       "      <td>ARCHIVES-NAVY MEMORIAL-PENN QUARTER</td>\n",
       "      <td>MSTN_001</td>\n",
       "      <td>Anacostia</td>\n",
       "      <td>...</td>\n",
       "      <td>10.285137</td>\n",
       "      <td>75.577863</td>\n",
       "      <td>3.443532</td>\n",
       "      <td>31.693741</td>\n",
       "      <td>77.080763</td>\n",
       "      <td>54.616166</td>\n",
       "      <td>50.629299</td>\n",
       "      <td>0.34611</td>\n",
       "      <td>47.471791</td>\n",
       "      <td>0</td>\n",
       "    </tr>\n",
       "    <tr>\n",
       "      <th>1</th>\n",
       "      <td>MSTN_0010MSTN_003</td>\n",
       "      <td>156</td>\n",
       "      <td>MSTN_003</td>\n",
       "      <td>Benning Road</td>\n",
       "      <td>BENNING ROAD</td>\n",
       "      <td>Benning Road</td>\n",
       "      <td>Benning Road</td>\n",
       "      <td>BENNING ROAD</td>\n",
       "      <td>MSTN_001</td>\n",
       "      <td>Anacostia</td>\n",
       "      <td>...</td>\n",
       "      <td>10.285137</td>\n",
       "      <td>75.577863</td>\n",
       "      <td>3.443532</td>\n",
       "      <td>31.693741</td>\n",
       "      <td>77.080763</td>\n",
       "      <td>54.616166</td>\n",
       "      <td>50.629299</td>\n",
       "      <td>0.34611</td>\n",
       "      <td>47.471791</td>\n",
       "      <td>0</td>\n",
       "    </tr>\n",
       "    <tr>\n",
       "      <th>2</th>\n",
       "      <td>MSTN_0010MSTN_004</td>\n",
       "      <td>425</td>\n",
       "      <td>MSTN_004</td>\n",
       "      <td>Brookland-CUA</td>\n",
       "      <td>BROOKLAND-CUA</td>\n",
       "      <td>Brookland</td>\n",
       "      <td>Brookland-CUA</td>\n",
       "      <td>BROOKLAND-CUA</td>\n",
       "      <td>MSTN_001</td>\n",
       "      <td>Anacostia</td>\n",
       "      <td>...</td>\n",
       "      <td>10.285137</td>\n",
       "      <td>75.577863</td>\n",
       "      <td>3.443532</td>\n",
       "      <td>31.693741</td>\n",
       "      <td>77.080763</td>\n",
       "      <td>54.616166</td>\n",
       "      <td>50.629299</td>\n",
       "      <td>0.34611</td>\n",
       "      <td>47.471791</td>\n",
       "      <td>0</td>\n",
       "    </tr>\n",
       "    <tr>\n",
       "      <th>3</th>\n",
       "      <td>MSTN_0010MSTN_005</td>\n",
       "      <td>146</td>\n",
       "      <td>MSTN_005</td>\n",
       "      <td>Capitol South</td>\n",
       "      <td>CAPITOL SOUTH</td>\n",
       "      <td>Capitol South</td>\n",
       "      <td>Capitol South</td>\n",
       "      <td>CAPITOL SOUTH</td>\n",
       "      <td>MSTN_001</td>\n",
       "      <td>Anacostia</td>\n",
       "      <td>...</td>\n",
       "      <td>10.285137</td>\n",
       "      <td>75.577863</td>\n",
       "      <td>3.443532</td>\n",
       "      <td>31.693741</td>\n",
       "      <td>77.080763</td>\n",
       "      <td>54.616166</td>\n",
       "      <td>50.629299</td>\n",
       "      <td>0.34611</td>\n",
       "      <td>47.471791</td>\n",
       "      <td>0</td>\n",
       "    </tr>\n",
       "    <tr>\n",
       "      <th>4</th>\n",
       "      <td>MSTN_0010MSTN_006</td>\n",
       "      <td>124</td>\n",
       "      <td>MSTN_006</td>\n",
       "      <td>Cleveland Park</td>\n",
       "      <td>CLEVELAND PARK</td>\n",
       "      <td>Cleveland Park</td>\n",
       "      <td>Cleveland Park</td>\n",
       "      <td>CLEVELAND PARK</td>\n",
       "      <td>MSTN_001</td>\n",
       "      <td>Anacostia</td>\n",
       "      <td>...</td>\n",
       "      <td>10.285137</td>\n",
       "      <td>75.577863</td>\n",
       "      <td>3.443532</td>\n",
       "      <td>31.693741</td>\n",
       "      <td>77.080763</td>\n",
       "      <td>54.616166</td>\n",
       "      <td>50.629299</td>\n",
       "      <td>0.34611</td>\n",
       "      <td>47.471791</td>\n",
       "      <td>0</td>\n",
       "    </tr>\n",
       "  </tbody>\n",
       "</table>\n",
       "<p>5 rows × 148 columns</p>\n",
       "</div>"
      ],
      "text/plain": [
       "               pairs  passengers      ID_D PRIMARY_NAME_FY23_D  \\\n",
       "0  MSTN_0010MSTN_002        1418  MSTN_002            Archives   \n",
       "1  MSTN_0010MSTN_003         156  MSTN_003        Benning Road   \n",
       "2  MSTN_0010MSTN_004         425  MSTN_004       Brookland-CUA   \n",
       "3  MSTN_0010MSTN_005         146  MSTN_005       Capitol South   \n",
       "4  MSTN_0010MSTN_006         124  MSTN_006      Cleveland Park   \n",
       "\n",
       "                   walkshed_filename_D        WMATA_filename_D  \\\n",
       "0  ARCHIVES-NAVY MEMORIAL-PENN QUARTER  Archives-Navy Memorial   \n",
       "1                         BENNING ROAD            Benning Road   \n",
       "2                        BROOKLAND-CUA               Brookland   \n",
       "3                        CAPITOL SOUTH           Capitol South   \n",
       "4                       CLEVELAND PARK          Cleveland Park   \n",
       "\n",
       "  track_miles_names_D                      auto_filename_D      ID_O  \\\n",
       "0            Archives  ARCHIVES-NAVY MEMORIAL-PENN QUARTER  MSTN_001   \n",
       "1        Benning Road                         BENNING ROAD  MSTN_001   \n",
       "2       Brookland-CUA                        BROOKLAND-CUA  MSTN_001   \n",
       "3       Capitol South                        CAPITOL SOUTH  MSTN_001   \n",
       "4      Cleveland Park                       CLEVELAND PARK  MSTN_001   \n",
       "\n",
       "  PRIMARY_NAME_FY23_O  ... prox3norm_O conn6norm_O parks2norm_O peds4norm_O  \\\n",
       "0           Anacostia  ...   10.285137   75.577863     3.443532   31.693741   \n",
       "1           Anacostia  ...   10.285137   75.577863     3.443532   31.693741   \n",
       "2           Anacostia  ...   10.285137   75.577863     3.443532   31.693741   \n",
       "3           Anacostia  ...   10.285137   75.577863     3.443532   31.693741   \n",
       "4           Anacostia  ...   10.285137   75.577863     3.443532   31.693741   \n",
       "\n",
       "  safenorm_O traffic5norm_O  aesttot3norm_O  paf2norm_O  sop7norm_O  \\\n",
       "0  77.080763      54.616166       50.629299     0.34611   47.471791   \n",
       "1  77.080763      54.616166       50.629299     0.34611   47.471791   \n",
       "2  77.080763      54.616166       50.629299     0.34611   47.471791   \n",
       "3  77.080763      54.616166       50.629299     0.34611   47.471791   \n",
       "4  77.080763      54.616166       50.629299     0.34611   47.471791   \n",
       "\n",
       "   urban_dummy_O  \n",
       "0              0  \n",
       "1              0  \n",
       "2              0  \n",
       "3              0  \n",
       "4              0  \n",
       "\n",
       "[5 rows x 148 columns]"
      ]
     },
     "execution_count": 113,
     "metadata": {},
     "output_type": "execute_result"
    }
   ],
   "source": [
    "OD.head()"
   ]
  },
  {
   "cell_type": "code",
   "execution_count": 114,
   "id": "3bf9f2ef-f5ce-4b6a-bfff-c0dab2fc9694",
   "metadata": {},
   "outputs": [
    {
     "data": {
      "text/plain": [
       "(8187, 148)"
      ]
     },
     "execution_count": 114,
     "metadata": {},
     "output_type": "execute_result"
    }
   ],
   "source": [
    "OD.shape"
   ]
  },
  {
   "cell_type": "code",
   "execution_count": 115,
   "id": "dbd9dda3-123d-4019-980b-f05a3d8830a2",
   "metadata": {},
   "outputs": [
    {
     "data": {
      "text/plain": [
       "(8187, 99)"
      ]
     },
     "execution_count": 115,
     "metadata": {},
     "output_type": "execute_result"
    }
   ],
   "source": [
    "OD.drop(['pairs', 'ID_D', 'PRIMARY_NAME_FY23_D', 'walkshed_filename_D', 'WMATA_filename_D', \n",
    "           'track_miles_names_D', 'auto_filename_D', 'ID_O', 'PRIMARY_NAME_FY23_O', 'walkshed_filename_O', \n",
    "             'WMATA_filename_O', 'track_miles_names_O', 'auto_filename_O', 'O', 'D',\n",
    "             'MSTN_ID_D', 'STATION_ID_D', 'MSTN_D', 'MSTN_ID_O', 'STATION_ID_O', 'MSTN_O', \n",
    "              'Total Households_O', 'Total Households_D', 'COMP_MILE', 'track_miles', 'SD_FARE', 'TRAVEL_TIME', 'pub_admin_jobs_O', \n",
    "            'pub_admin_jobs_D', 'bus_tt_per_mile', 'am_parking_user', 'pm_parking_user', 'off_parking_user', 'peak_fare_per_mile2',\n",
    "            'off_peak_fare_per_mile', 'google_driving_miles', 'am_new_auto_tt_per_mile2', 'pm_new_auto_tt_per_mile2', 'off_new_auto_tt_per_mile2',\n",
    "             'OFF_PEAK_FARE', 'PEAK_FARE', 'HH_1_car_O', 'HH_1_car_D', 'HH_more1_car_O', 'HH_more1_car_D', 'Name_1_D_D', 'Name_1_O_D', \n",
    "             'Name_1_D_O', 'Name_1_O_O'\n",
    "          ], axis=1, inplace=True)  # Include in  O_MSTN_ID and D_MSTN_ID\n",
    "\n",
    "OD.shape"
   ]
  },
  {
   "cell_type": "markdown",
   "id": "0cfa313f-a4ad-464b-9148-a0b5c5c1794c",
   "metadata": {},
   "source": [
    "### Preprocessing"
   ]
  },
  {
   "cell_type": "code",
   "execution_count": 116,
   "id": "58dc697a-7274-418f-8380-ae2dc28717bd",
   "metadata": {
    "scrolled": true
   },
   "outputs": [],
   "source": [
    "X = OD.drop('passengers', axis=1)\n",
    "y = OD['passengers']"
   ]
  },
  {
   "cell_type": "code",
   "execution_count": 117,
   "id": "2c9851aa-740b-4ca8-94c2-2748b73af8df",
   "metadata": {},
   "outputs": [],
   "source": [
    "# pd.set_option('display.max_rows', None)\n",
    "# pd.set_option('display.max_columns', None)\n",
    "# pd.reset_option('all')"
   ]
  },
  {
   "cell_type": "code",
   "execution_count": 118,
   "id": "a189ed28-9332-48a4-8e01-5ccf7fcd8a5d",
   "metadata": {},
   "outputs": [
    {
     "data": {
      "text/plain": [
       "30"
      ]
     },
     "execution_count": 118,
     "metadata": {},
     "output_type": "execute_result"
    }
   ],
   "source": [
    "X.isna().any().sum()"
   ]
  },
  {
   "cell_type": "code",
   "execution_count": 119,
   "id": "778fa6ef-8227-48c1-abb3-934e6132ae7b",
   "metadata": {},
   "outputs": [
    {
     "data": {
      "text/plain": [
       "0"
      ]
     },
     "execution_count": 119,
     "metadata": {},
     "output_type": "execute_result"
    }
   ],
   "source": [
    "y.isna().any().sum()"
   ]
  },
  {
   "cell_type": "code",
   "execution_count": 120,
   "id": "03ff9197-b6b9-410e-aa48-4129e1a5e6df",
   "metadata": {},
   "outputs": [],
   "source": [
    "X = X.fillna(0.000001)"
   ]
  },
  {
   "cell_type": "markdown",
   "id": "200ef61f-5790-452d-b38d-f06a60e37b5a",
   "metadata": {},
   "source": [
    "### Remove highly collinear variables"
   ]
  },
  {
   "cell_type": "markdown",
   "id": "6e52f1ba-e046-4873-958c-25e483245fcc",
   "metadata": {},
   "source": [
    "* 16 of these variables were dropped and due to very high multicollinearity and risk of endogeneity problem"
   ]
  },
  {
   "cell_type": "code",
   "execution_count": 121,
   "id": "24e686fc-68f9-43a5-bbc0-89ab83c8e572",
   "metadata": {
    "scrolled": true
   },
   "outputs": [],
   "source": [
    "# Xcorr = X.corr()\n",
    "# plt.figure(figsize=(35, 30))\n",
    "# sns.heatmap(Xcorr, cmap='coolwarm')"
   ]
  },
  {
   "cell_type": "code",
   "execution_count": 124,
   "id": "3d527a9a-5a00-42be-9947-46626b0463b9",
   "metadata": {
    "scrolled": true
   },
   "outputs": [
    {
     "data": {
      "text/plain": [
       "(8187, 57)"
      ]
     },
     "execution_count": 124,
     "metadata": {},
     "output_type": "execute_result"
    }
   ],
   "source": [
    "# sorted(X1.columns.to_list())\n",
    "X1.shape"
   ]
  },
  {
   "cell_type": "code",
   "execution_count": 125,
   "id": "3a76771d-c601-41b6-b143-acdcbc440f05",
   "metadata": {},
   "outputs": [],
   "source": [
    "X1 = X.copy()\n",
    "\n",
    "X1 = X1.drop(['All_Jobs_O', 'All_Jobs_D', 'ctpp_jobs_O', 'ctpp_jobs_D', 'urban_dummy_O', 'urban_dummy_D', 'terminal_dummy_2023_O', \n",
    "              'terminal_dummy_2023_D', 'AM_AVG_TRAINS_O',  'AM_AVG_TRAINS_D', 'PM_AVG_TRAINS_O', 'PM_AVG_TRAINS_D', 'am_new_auto_tt2', \n",
    "              'pm_new_auto_tt2', 'off_new_auto_tt2','bus_transit_minutes', 'aesttot3norm_D', 'aesttot3norm_O', 'conn6norm_D', 'conn6norm_O',\n",
    "             'dens2norm_D', 'dens2norm_O', 'form3norm_D', 'form3norm_O', 'paf2norm_D', 'paf2norm_O', 'parks2norm_D', 'parks2norm_O', \n",
    "              'peds4norm_D', 'peds4norm_O', 'prox3norm_D', 'prox3norm_O', 'safenorm_D', 'safenorm_O', 'sop7norm_D', 'sop7norm_O', \n",
    "             'traffic5norm_D', 'traffic5norm_O', 'bikelane_D', 'bikelane_O', 'metro_transit_minutes' ], axis=1)\n"
   ]
  },
  {
   "cell_type": "code",
   "execution_count": null,
   "id": "6c88effe-2821-4fd5-8d2d-9c7bca18a6ee",
   "metadata": {},
   "outputs": [],
   "source": []
  },
  {
   "cell_type": "code",
   "execution_count": null,
   "id": "77abd9b3-5a2a-40d1-91b2-8282a8b4832c",
   "metadata": {
    "scrolled": true
   },
   "outputs": [],
   "source": [
    "# corr_matrix1 = X1.corr()\n",
    "# plt.figure(figsize=(35, 30))\n",
    "# mask1 = np.triu(np.ones_like(corr_matrix1, dtype=bool))\n",
    "# sns.heatmap(corr_matrix1, mask=mask1, annot=True, fmt='.1f', cmap='coolwarm', cbar=True)\n",
    "# plt.savefig('1corr_mat.png')\n",
    "# plt.show()"
   ]
  },
  {
   "cell_type": "code",
   "execution_count": null,
   "id": "de7169ae-f675-402e-a1da-a1f630df99bf",
   "metadata": {
    "scrolled": true
   },
   "outputs": [],
   "source": [
    "# mask1 = (corr_matrix1 > 0.6) & (corr_matrix1 < 1)\n",
    "# pairs1 = corr_matrix[mask1].stack().reset_index()\n",
    "# pairs1.columns = ['Variable1', 'Variable2', 'Correlation']\n",
    "# pairs1.sort_values(by='Correlation', ascending=False).reset_index(drop=True)"
   ]
  },
  {
   "cell_type": "code",
   "execution_count": null,
   "id": "dfd2b428-e820-425e-83f1-ec85dd7213bc",
   "metadata": {
    "scrolled": true
   },
   "outputs": [],
   "source": [
    "# vif_data1 = pd.DataFrame()\n",
    "# vif_data1[\"feature\"] = X1.columns\n",
    "\n",
    "# vif_data1[\"VIF\"] = [variance_inflation_factor(X1.values, i) for i in range(len(X1.columns))]\n",
    "\n",
    "# vif_data1[\"VIF\"] = vif_data1[\"VIF\"].astype('float')\n",
    "# vif_data1 = vif_data1.sort_values(by='VIF').reset_index(drop=True)\n",
    "# vif_data1[\"VIF\"] = vif_data1[\"VIF\"].astype('str')\n",
    "# vif_data1"
   ]
  },
  {
   "cell_type": "code",
   "execution_count": null,
   "id": "1c067867-5e01-46d8-a6ca-56336799d0d9",
   "metadata": {},
   "outputs": [],
   "source": []
  },
  {
   "cell_type": "markdown",
   "id": "a0c65993-f9ab-4ab6-b39f-ef9a1b230be1",
   "metadata": {},
   "source": [
    "### Modelling"
   ]
  },
  {
   "cell_type": "code",
   "execution_count": null,
   "id": "400a4e22-b5b8-4299-bf15-95400c3f753b",
   "metadata": {},
   "outputs": [],
   "source": [
    "pd.reset_option('all')"
   ]
  },
  {
   "cell_type": "code",
   "execution_count": null,
   "id": "ae67eb65-cd0d-433d-b00f-0af22ae24515",
   "metadata": {},
   "outputs": [],
   "source": [
    "X1.shape"
   ]
  },
  {
   "cell_type": "markdown",
   "id": "44d2399f-7d65-41b1-a50f-ec542de1c373",
   "metadata": {
    "jp-MarkdownHeadingCollapsed": true
   },
   "source": [
    "#### RFE feature set 30-55 : 5"
   ]
  },
  {
   "cell_type": "code",
   "execution_count": null,
   "id": "a6cc8e74-86c9-4b49-a879-5d0c964fd500",
   "metadata": {},
   "outputs": [],
   "source": [
    "feat_dic = {30: ['bus_tt', 'bike_traveltime', 'google_driving_minutes',\n",
    "                'metro_transit_minutes', 'bus_competativeness_index',\n",
    "                'ALLPERIODS_AVG_TRAINS_D', 'proportion_of_households_D',\n",
    "                'PARKING_CAPACITY_D', 'bus_line_count_D', 'distance_to_core_D',\n",
    "                'Proportion_night_weekend_jobs_D', 'Total_Nine_to_Five_workers_D',\n",
    "                'Proportion_education_jobs_D', 'bike_cap_D', 'hotelcount_D',\n",
    "                'restaurantcount_D', 'intercityhub_D', 'HH_0_car_D',\n",
    "                'ALLPERIODS_AVG_TRAINS_O', 'proportion_of_households_O',\n",
    "                'PARKING_CAPACITY_O', 'distance_to_core_O',\n",
    "                'Total_Nine_to_Five_workers_O', 'Median_household_income_O',\n",
    "                'bike_cap_O', 'hotelcount_O', 'restaurantcount_O', 'intercityhub_O',\n",
    "                'prop_str_dens_O', 'HH_0_car_O'], \n",
    "            40: ['bus_tt', 'bike_traveltime', 'google_driving_minutes',\n",
    "                'metro_transit_minutes', 'bus_competativeness_index',\n",
    "                'ALLPERIODS_AVG_TRAINS_D', 'proportion_of_households_D',\n",
    "                'PARKING_CAPACITY_D', 'bus_line_count_D', 'bus_stop_count_D',\n",
    "                'distance_to_core_D', 'Proportion_night_weekend_jobs_D',\n",
    "                'Total_Nine_to_Five_workers_D', 'Proportion_education_jobs_D',\n",
    "                'Median_household_income_D', 'bike_cap_D', 'hotelcount_D',\n",
    "                'restaurantcount_D', 'intercityhub_D', 'prop_str_dens_D', 'HH_0_car_D',\n",
    "                'housing_units_afford_D', 'ALLPERIODS_AVG_TRAINS_O',\n",
    "                'proportion_of_households_O', 'PARKING_CAPACITY_O', 'bus_line_count_O',\n",
    "                'distance_to_core_O', 'Proportion_night_weekend_jobs_O',\n",
    "                'Total_Nine_to_Five_workers_O', 'Proportion_education_jobs_O',\n",
    "                'Median_household_income_O', 'bike_cap_O', 'hotelcount_O',\n",
    "                'entertainmentcount_O', 'restaurantcount_O', 'intercityhub_O',\n",
    "                'prop_str_dens_O', 'Jobs_transit_O', 'HH_0_car_O',\n",
    "                'housing_units_afford_O'], \n",
    "            45: ['bus_tt', 'bike_traveltime', 'google_driving_minutes',\n",
    "                'metro_transit_minutes', 'bus_competativeness_index',\n",
    "                'ALLPERIODS_AVG_TRAINS_D', 'proportion_of_households_D',\n",
    "                'PARKING_CAPACITY_D', 'bus_line_count_D', 'bus_stop_count_D',\n",
    "                'distance_to_core_D', 'Proportion_night_weekend_jobs_D',\n",
    "                'Total_Nine_to_Five_workers_D', 'Proportion_education_jobs_D',\n",
    "                'Median_household_income_D', 'bike_cap_D', 'hotelcount_D',\n",
    "                'entertainmentcount_D', 'restaurantcount_D', 'intercityhub_D',\n",
    "                'prop_str_dens_D', 'Jobs_transit_D', 'highschoolenroll_D', 'HH_0_car_D',\n",
    "                'housing_units_afford_D', 'ALLPERIODS_AVG_TRAINS_O',\n",
    "                'proportion_of_households_O', 'PARKING_CAPACITY_O', 'bus_line_count_O',\n",
    "                'bus_stop_count_O', 'distance_to_core_O',\n",
    "                'Proportion_night_weekend_jobs_O', 'Total_Nine_to_Five_workers_O',\n",
    "                'Proportion_education_jobs_O', 'Median_household_income_O',\n",
    "                'bike_cap_O', 'HH_below_50k_O', 'hotelcount_O', 'entertainmentcount_O',\n",
    "                'restaurantcount_O', 'intercityhub_O', 'prop_str_dens_O',\n",
    "                'Jobs_transit_O', 'HH_0_car_O', 'housing_units_afford_O'], \n",
    "            50: ['bus_tt', 'bike_traveltime', 'google_driving_minutes',\n",
    "                'metro_transit_minutes', 'bus_competativeness_index',\n",
    "                'ALLPERIODS_AVG_TRAINS_D', 'proportion_of_households_D',\n",
    "                'PARKING_CAPACITY_D', 'bus_line_count_D', 'bus_stop_count_D',\n",
    "                'distance_to_core_D', 'Proportion_night_weekend_jobs_D',\n",
    "                'Total_Nine_to_Five_workers_D', 'Proportion_education_jobs_D',\n",
    "                'Median_household_income_D', 'bike_cap_D', 'HH_below_50k_D',\n",
    "                'hotelcount_D', 'entertainmentcount_D', 'restaurantcount_D',\n",
    "                'intercityhub_D', 'prop_str_dens_D', 'Jobs_transit_D',\n",
    "                'convenience_storecount_D', 'highschoolenroll_D', 'college_enroll_D',\n",
    "                'HH_0_car_D', 'housing_units_afford_D', 'ALLPERIODS_AVG_TRAINS_O',\n",
    "                'proportion_of_households_O', 'PARKING_CAPACITY_O', 'bus_line_count_O',\n",
    "                'bus_stop_count_O', 'distance_to_core_O',\n",
    "                'Proportion_night_weekend_jobs_O', 'Total_Nine_to_Five_workers_O',\n",
    "                'Proportion_education_jobs_O', 'Median_household_income_O',\n",
    "                'bike_cap_O', 'HH_below_50k_O', 'hotelcount_O', 'entertainmentcount_O',\n",
    "                'restaurantcount_O', 'intercityhub_O', 'prop_str_dens_O',\n",
    "                'Jobs_transit_O', 'highschoolenroll_O', 'college_enroll_O',\n",
    "                'HH_0_car_O', 'housing_units_afford_O'], \n",
    "            55: ['bus_tt', 'bike_traveltime', 'google_driving_minutes',\n",
    "                'metro_transit_minutes', 'bus_competativeness_index',\n",
    "                'ALLPERIODS_AVG_TRAINS_D', 'proportion_of_households_D',\n",
    "                'PARKING_CAPACITY_D', 'bus_line_count_D', 'bus_stop_count_D',\n",
    "                'distance_to_core_D', 'Proportion_night_weekend_jobs_D',\n",
    "                'Total_Nine_to_Five_workers_D', 'Proportion_education_jobs_D',\n",
    "                'Median_household_income_D', 'bike_cap_D', 'HH_below_50k_D',\n",
    "                'hotelcount_D', 'entertainmentcount_D', 'restaurantcount_D',\n",
    "                'intercityhub_D', 'prop_str_dens_D', 'Jobs_transit_D',\n",
    "                'convenience_storecount_D', 'highschoolenroll_D', 'college_enroll_D',\n",
    "                'High_School_hh_D', 'college_hh_D', 'HH_0_car_D',\n",
    "                'housing_units_afford_D', 'ALLPERIODS_AVG_TRAINS_O',\n",
    "                'proportion_of_households_O', 'PARKING_CAPACITY_O', 'bus_line_count_O',\n",
    "                'bus_stop_count_O', 'distance_to_core_O',\n",
    "                'Proportion_night_weekend_jobs_O', 'Total_Nine_to_Five_workers_O',\n",
    "                'Proportion_education_jobs_O', 'Median_household_income_O',\n",
    "                'bike_cap_O', 'HH_below_50k_O', 'hotelcount_O', 'entertainmentcount_O',\n",
    "                'restaurantcount_O', 'intercityhub_O', 'prop_str_dens_O',\n",
    "                'Jobs_transit_O', 'convenience_storecount_O', 'highschoolenroll_O',\n",
    "                'college_enroll_O', 'High_School_hh_O', 'college_hh_O', 'HH_0_car_O',\n",
    "                'housing_units_afford_O']\n",
    "                   \n",
    "           }\n",
    "\n"
   ]
  },
  {
   "cell_type": "markdown",
   "id": "abef45fb-66c2-4bb5-a7f0-45ef0f433c50",
   "metadata": {
    "jp-MarkdownHeadingCollapsed": true
   },
   "source": [
    "#### Varying max depth from 20 - 500"
   ]
  },
  {
   "cell_type": "code",
   "execution_count": null,
   "id": "cbeda9fe-91ab-4e66-af64-79b01dc44fa6",
   "metadata": {
    "scrolled": true
   },
   "outputs": [],
   "source": [
    "for k,v in feat_dic.items():\n",
    "    feat_dic[k] = X1[feat_dic[k]]"
   ]
  },
  {
   "cell_type": "code",
   "execution_count": null,
   "id": "6d7e4099-2d67-42a8-aba6-b6fccd3fd986",
   "metadata": {
    "scrolled": true
   },
   "outputs": [],
   "source": [
    "rmse, r2, bestparams = {}, {}, {}\n",
    "gridr2, gridrmse, test_r2, test_rmse = {}, {}, {}, {}\n",
    "\n",
    "param_grid = {\n",
    "    'max_depth': [None] + list(np.arange(20, 520, 20)),  # from 50 - 1500\n",
    "}\n",
    "\n",
    "for k, v in tqdm(feat_dic.items(), desc='Gridsearch Progress'):\n",
    "    # Initialize inner dictionaries\n",
    "    rmse[k], r2[k], gridrmse[k], gridr2[k], test_rmse[k], test_r2[k], bestparams[k] = {}, {}, {}, {}, {}, {}, {}\n",
    "\n",
    "    # Split the data\n",
    "    X_train_temp, X_test, y_train_temp, y_test = train_test_split(v, y, test_size=0.10, random_state=10)\n",
    "    X_train, X_val, y_train, y_val = train_test_split(X_train_temp, y_train_temp, test_size=0.15, random_state=10)\n",
    "\n",
    "    # Simple model training and validation\n",
    "    for max_d in param_grid['max_depth']:\n",
    "        simple_model = RandomForestRegressor(max_depth=max_d, random_state=10)\n",
    "        simple_model.fit(X_train, y_train)\n",
    "        y_pred_val = simple_model.predict(X_val)\n",
    "        rmse[k][max_d] = sqrt(mean_squared_error(y_val, y_pred_val))\n",
    "        r2[k][max_d] = np.round(r2_score(y_val, y_pred_val), 3)\n",
    "\n",
    "    # Grid search\n",
    "    regr_model = RandomForestRegressor(random_state=10)\n",
    "    grid_search = GridSearchCV(estimator=regr_model, param_grid=param_grid, scoring='r2', cv=5, verbose=2, n_jobs=-1)\n",
    "    grid_search.fit(X_train, y_train)\n",
    "\n",
    "    # Store best parameters and perform evaluation using them\n",
    "    best_max_depth = grid_search.best_params_['max_depth']\n",
    "    bestparams[k] = {'max_depth': best_max_depth}\n",
    "    \n",
    "    # Reevaluate on validation set with the best found parameters\n",
    "    y_pred_val = grid_search.predict(X_val)\n",
    "    gridrmse[k][best_max_depth] = sqrt(mean_squared_error(y_val, y_pred_val))\n",
    "    gridr2[k][best_max_depth] = np.round(r2_score(y_val, y_pred_val), 3)\n",
    "\n",
    "    # Evaluation on test set\n",
    "    y_pred_test = grid_search.predict(X_test)\n",
    "    test_rmse[k][best_max_depth] = sqrt(mean_squared_error(y_test, y_pred_test))\n",
    "    test_r2[k][best_max_depth] = np.round(r2_score(y_test, y_pred_test), 3)\n"
   ]
  },
  {
   "cell_type": "code",
   "execution_count": null,
   "id": "444a4e20-bc42-4496-a907-bac7fc56847b",
   "metadata": {
    "scrolled": true
   },
   "outputs": [],
   "source": [
    "r2"
   ]
  },
  {
   "cell_type": "code",
   "execution_count": null,
   "id": "c8b77200-d3d0-4867-adc1-410b5b2d2a33",
   "metadata": {},
   "outputs": [],
   "source": [
    "bestparams"
   ]
  },
  {
   "cell_type": "code",
   "execution_count": null,
   "id": "000506ea-0bad-4457-8f81-c01e43170a37",
   "metadata": {},
   "outputs": [],
   "source": [
    "sns.set_theme(style='darkgrid') \n",
    "sns.lineplot(x=r2[55].keys(), y=r2[55].values())\n",
    "plt.title('(55 Features) Max Depth vs R2')\n",
    "plt.xlabel('Tree Depth')\n",
    "plt.ylabel('R2')\n",
    "plt.savefig('Tuning/55depthR2.jpg')\n",
    "plt.show()\n",
    "# plt.xticks(np.arange(50, 1550, 100))"
   ]
  },
  {
   "cell_type": "code",
   "execution_count": 126,
   "id": "a9080980-1fdb-4399-9f99-d394f46ac584",
   "metadata": {},
   "outputs": [],
   "source": [
    "model_data = pd.concat([X1, y], axis=1)"
   ]
  },
  {
   "cell_type": "code",
   "execution_count": null,
   "id": "e277e4a5-afba-4bdd-92a7-eba464b18814",
   "metadata": {},
   "outputs": [],
   "source": []
  },
  {
   "cell_type": "code",
   "execution_count": 134,
   "id": "2de4d0ed-7a1d-4d81-9a2e-02c89056b454",
   "metadata": {},
   "outputs": [],
   "source": [
    "model_data.to_csv('model_data.csv', index=False)"
   ]
  },
  {
   "cell_type": "code",
   "execution_count": null,
   "id": "de63c64e-7bc8-4307-8ba1-957b37963e62",
   "metadata": {},
   "outputs": [],
   "source": [
    "X1.to_csv('features.csv', index=False), y.to_csv('label.csv', index=False)"
   ]
  },
  {
   "cell_type": "code",
   "execution_count": null,
   "id": "2396da50-ef63-4dd3-b0c2-6422d56e4fc0",
   "metadata": {},
   "outputs": [],
   "source": []
  },
  {
   "cell_type": "markdown",
   "id": "0fd5c89e-d1ed-4057-b0f7-9634fc2bed22",
   "metadata": {},
   "source": [
    "#### Training model with Empirical TT feature"
   ]
  },
  {
   "cell_type": "code",
   "execution_count": 75,
   "id": "6db198a9-679d-4998-9c95-ece63fef5630",
   "metadata": {},
   "outputs": [],
   "source": [
    "X_train_temp, X_test, y_train_temp, y_test = train_test_split(X1, y, test_size=0.10, random_state = 10)"
   ]
  },
  {
   "cell_type": "code",
   "execution_count": 76,
   "id": "b02284e2-2f9a-4abb-848a-617be2540fad",
   "metadata": {},
   "outputs": [],
   "source": [
    "X_train, X_val, y_train, y_val = train_test_split(X_train_temp, y_train_temp, test_size=0.15, random_state=10)"
   ]
  },
  {
   "cell_type": "code",
   "execution_count": 77,
   "id": "8f13301b-4bc8-447b-8608-b9e861d9de6b",
   "metadata": {},
   "outputs": [
    {
     "data": {
      "text/plain": [
       "((6262, 55), (1106, 55), (819, 55))"
      ]
     },
     "execution_count": 77,
     "metadata": {},
     "output_type": "execute_result"
    }
   ],
   "source": [
    "X_train.shape, X_val.shape, X_test.shape"
   ]
  },
  {
   "cell_type": "code",
   "execution_count": 86,
   "id": "122d8651-5508-48ae-943f-a8c2666d1c5d",
   "metadata": {},
   "outputs": [],
   "source": [
    "tf25 = ['ALLPERIODS_AVG_TRAINS_D','ALLPERIODS_AVG_TRAINS_O','HH_0_car_D','HH_0_car_O','PARKING_CAPACITY_D','PARKING_CAPACITY_O',\n",
    "        'Proportion_education_jobs_D','Total_Nine_to_Five_workers_D','Total_Nine_to_Five_workers_O','bike_cap_D','bike_cap_O'\n",
    "        ,'bike_traveltime','bus_competativeness_index','bus_tt','distance_to_core_D','distance_to_core_O','google_driving_minutes',\n",
    "        'intercityhub_D','intercityhub_O','trip_time_mins','prop_str_dens_O','proportion_of_households_D','proportion_of_households_O',\n",
    "        'restaurantcount_D','restaurantcount_O']"
   ]
  },
  {
   "cell_type": "code",
   "execution_count": 87,
   "id": "633e8e75-f213-4d6f-85f6-cb6ddd71c34d",
   "metadata": {},
   "outputs": [],
   "source": [
    "X_train = X_train[tf25]\n",
    "X_test = X_test[tf25]\n",
    "X_val = X_val[tf25]"
   ]
  },
  {
   "cell_type": "code",
   "execution_count": 88,
   "id": "72447c5b-440b-41ea-ac54-83a176978dba",
   "metadata": {},
   "outputs": [],
   "source": [
    "regr = RandomForestRegressor(random_state=10)"
   ]
  },
  {
   "cell_type": "code",
   "execution_count": 89,
   "id": "9acd92a3-b7bc-43fe-b717-ee67841f2cfc",
   "metadata": {},
   "outputs": [
    {
     "data": {
      "text/html": [
       "<style>#sk-container-id-3 {color: black;}#sk-container-id-3 pre{padding: 0;}#sk-container-id-3 div.sk-toggleable {background-color: white;}#sk-container-id-3 label.sk-toggleable__label {cursor: pointer;display: block;width: 100%;margin-bottom: 0;padding: 0.3em;box-sizing: border-box;text-align: center;}#sk-container-id-3 label.sk-toggleable__label-arrow:before {content: \"▸\";float: left;margin-right: 0.25em;color: #696969;}#sk-container-id-3 label.sk-toggleable__label-arrow:hover:before {color: black;}#sk-container-id-3 div.sk-estimator:hover label.sk-toggleable__label-arrow:before {color: black;}#sk-container-id-3 div.sk-toggleable__content {max-height: 0;max-width: 0;overflow: hidden;text-align: left;background-color: #f0f8ff;}#sk-container-id-3 div.sk-toggleable__content pre {margin: 0.2em;color: black;border-radius: 0.25em;background-color: #f0f8ff;}#sk-container-id-3 input.sk-toggleable__control:checked~div.sk-toggleable__content {max-height: 200px;max-width: 100%;overflow: auto;}#sk-container-id-3 input.sk-toggleable__control:checked~label.sk-toggleable__label-arrow:before {content: \"▾\";}#sk-container-id-3 div.sk-estimator input.sk-toggleable__control:checked~label.sk-toggleable__label {background-color: #d4ebff;}#sk-container-id-3 div.sk-label input.sk-toggleable__control:checked~label.sk-toggleable__label {background-color: #d4ebff;}#sk-container-id-3 input.sk-hidden--visually {border: 0;clip: rect(1px 1px 1px 1px);clip: rect(1px, 1px, 1px, 1px);height: 1px;margin: -1px;overflow: hidden;padding: 0;position: absolute;width: 1px;}#sk-container-id-3 div.sk-estimator {font-family: monospace;background-color: #f0f8ff;border: 1px dotted black;border-radius: 0.25em;box-sizing: border-box;margin-bottom: 0.5em;}#sk-container-id-3 div.sk-estimator:hover {background-color: #d4ebff;}#sk-container-id-3 div.sk-parallel-item::after {content: \"\";width: 100%;border-bottom: 1px solid gray;flex-grow: 1;}#sk-container-id-3 div.sk-label:hover label.sk-toggleable__label {background-color: #d4ebff;}#sk-container-id-3 div.sk-serial::before {content: \"\";position: absolute;border-left: 1px solid gray;box-sizing: border-box;top: 0;bottom: 0;left: 50%;z-index: 0;}#sk-container-id-3 div.sk-serial {display: flex;flex-direction: column;align-items: center;background-color: white;padding-right: 0.2em;padding-left: 0.2em;position: relative;}#sk-container-id-3 div.sk-item {position: relative;z-index: 1;}#sk-container-id-3 div.sk-parallel {display: flex;align-items: stretch;justify-content: center;background-color: white;position: relative;}#sk-container-id-3 div.sk-item::before, #sk-container-id-3 div.sk-parallel-item::before {content: \"\";position: absolute;border-left: 1px solid gray;box-sizing: border-box;top: 0;bottom: 0;left: 50%;z-index: -1;}#sk-container-id-3 div.sk-parallel-item {display: flex;flex-direction: column;z-index: 1;position: relative;background-color: white;}#sk-container-id-3 div.sk-parallel-item:first-child::after {align-self: flex-end;width: 50%;}#sk-container-id-3 div.sk-parallel-item:last-child::after {align-self: flex-start;width: 50%;}#sk-container-id-3 div.sk-parallel-item:only-child::after {width: 0;}#sk-container-id-3 div.sk-dashed-wrapped {border: 1px dashed gray;margin: 0 0.4em 0.5em 0.4em;box-sizing: border-box;padding-bottom: 0.4em;background-color: white;}#sk-container-id-3 div.sk-label label {font-family: monospace;font-weight: bold;display: inline-block;line-height: 1.2em;}#sk-container-id-3 div.sk-label-container {text-align: center;}#sk-container-id-3 div.sk-container {/* jupyter's `normalize.less` sets `[hidden] { display: none; }` but bootstrap.min.css set `[hidden] { display: none !important; }` so we also need the `!important` here to be able to override the default hidden behavior on the sphinx rendered scikit-learn.org. See: https://github.com/scikit-learn/scikit-learn/issues/21755 */display: inline-block !important;position: relative;}#sk-container-id-3 div.sk-text-repr-fallback {display: none;}</style><div id=\"sk-container-id-3\" class=\"sk-top-container\"><div class=\"sk-text-repr-fallback\"><pre>RandomForestRegressor(random_state=10)</pre><b>In a Jupyter environment, please rerun this cell to show the HTML representation or trust the notebook. <br />On GitHub, the HTML representation is unable to render, please try loading this page with nbviewer.org.</b></div><div class=\"sk-container\" hidden><div class=\"sk-item\"><div class=\"sk-estimator sk-toggleable\"><input class=\"sk-toggleable__control sk-hidden--visually\" id=\"sk-estimator-id-3\" type=\"checkbox\" checked><label for=\"sk-estimator-id-3\" class=\"sk-toggleable__label sk-toggleable__label-arrow\">RandomForestRegressor</label><div class=\"sk-toggleable__content\"><pre>RandomForestRegressor(random_state=10)</pre></div></div></div></div></div>"
      ],
      "text/plain": [
       "RandomForestRegressor(random_state=10)"
      ]
     },
     "execution_count": 89,
     "metadata": {},
     "output_type": "execute_result"
    }
   ],
   "source": [
    "regr.fit(X_train, y_train)\n"
   ]
  },
  {
   "cell_type": "code",
   "execution_count": 90,
   "id": "27dbcd9c-6911-48c9-a414-fad0887e9411",
   "metadata": {},
   "outputs": [],
   "source": [
    "y_pred = regr.predict(X_val)"
   ]
  },
  {
   "cell_type": "code",
   "execution_count": 91,
   "id": "cd9239f5-37c9-4bc4-852e-c17182dba134",
   "metadata": {},
   "outputs": [
    {
     "data": {
      "text/plain": [
       "652.099536619944"
      ]
     },
     "execution_count": 91,
     "metadata": {},
     "output_type": "execute_result"
    }
   ],
   "source": [
    "rmse = sqrt(mean_squared_error(y_val, y_pred))\n",
    "rmse"
   ]
  },
  {
   "cell_type": "code",
   "execution_count": 92,
   "id": "a91b38c9-12ad-448e-9ae5-004dfada7cdd",
   "metadata": {},
   "outputs": [
    {
     "data": {
      "text/plain": [
       "0.739"
      ]
     },
     "execution_count": 92,
     "metadata": {},
     "output_type": "execute_result"
    }
   ],
   "source": [
    "np.round(r2_score(y_val, y_pred), 3)"
   ]
  },
  {
   "cell_type": "code",
   "execution_count": 93,
   "id": "f65bec1b-3019-4387-af3d-26341700402c",
   "metadata": {},
   "outputs": [],
   "source": [
    "kfold = KFold(n_splits=5, shuffle=True, random_state=10)\n",
    "\n",
    "reg = RandomForestRegressor(random_state=10)\n",
    "\n",
    "scores = cross_val_score(reg, X1, y, cv=kfold, scoring='r2')\n"
   ]
  },
  {
   "cell_type": "code",
   "execution_count": 94,
   "id": "25889c57-b913-4e8a-8da7-c0fa9442d107",
   "metadata": {},
   "outputs": [
    {
     "name": "stdout",
     "output_type": "stream",
     "text": [
      "R-squared: 0.73\n"
     ]
    }
   ],
   "source": [
    "print(f\"R-squared: {scores.mean():.2f}\")"
   ]
  },
  {
   "cell_type": "code",
   "execution_count": null,
   "id": "dfe4c675-4403-4994-942f-c72816027ca9",
   "metadata": {},
   "outputs": [],
   "source": []
  },
  {
   "cell_type": "code",
   "execution_count": null,
   "id": "4fbc66b5-2dca-4462-ac61-5f69e1aa7f71",
   "metadata": {},
   "outputs": [],
   "source": []
  },
  {
   "cell_type": "code",
   "execution_count": null,
   "id": "f94beacb-3258-4e46-816a-516dc077e100",
   "metadata": {},
   "outputs": [],
   "source": []
  },
  {
   "cell_type": "markdown",
   "id": "551cce64-8eac-4d5f-a5c4-b781cd5d6194",
   "metadata": {
    "jp-MarkdownHeadingCollapsed": true
   },
   "source": [
    "### Generate Feature Importance Metric"
   ]
  },
  {
   "cell_type": "code",
   "execution_count": 95,
   "id": "914b17d5-e4a8-4ee7-9278-08da1b646e1a",
   "metadata": {},
   "outputs": [],
   "source": [
    "importances = regr.feature_importances_"
   ]
  },
  {
   "cell_type": "code",
   "execution_count": 96,
   "id": "d129aaec-8f9e-4272-999b-c96ebe1b4fff",
   "metadata": {},
   "outputs": [
    {
     "data": {
      "text/plain": [
       "array([0.01721741, 0.01420299, 0.02594423, 0.01299907, 0.0151963 ,\n",
       "       0.01728294, 0.01612414, 0.01876236, 0.02745314, 0.01791339,\n",
       "       0.01687323, 0.06980259, 0.03891692, 0.02163108, 0.02603807,\n",
       "       0.02079324, 0.05048608, 0.05677588, 0.07135536, 0.35978703,\n",
       "       0.01299303, 0.01955864, 0.01942037, 0.0161259 , 0.01634664])"
      ]
     },
     "execution_count": 96,
     "metadata": {},
     "output_type": "execute_result"
    }
   ],
   "source": [
    "importances"
   ]
  },
  {
   "cell_type": "code",
   "execution_count": 97,
   "id": "9e8ce37b-e383-485b-94b9-942e3b81b410",
   "metadata": {},
   "outputs": [],
   "source": [
    "indices = np.argsort(importances)[::-1][:10]"
   ]
  },
  {
   "cell_type": "code",
   "execution_count": null,
   "id": "ea5dede1-0809-485f-974d-51586306c8f3",
   "metadata": {},
   "outputs": [],
   "source": [
    "indices"
   ]
  },
  {
   "cell_type": "code",
   "execution_count": 98,
   "id": "ec75897b-320c-4a13-baf4-eb7eed462b56",
   "metadata": {},
   "outputs": [],
   "source": [
    "names = [X_train.columns[i] for i in indices]"
   ]
  },
  {
   "cell_type": "code",
   "execution_count": 99,
   "id": "057d2956-2562-403f-97f8-08cf7d4bf55d",
   "metadata": {},
   "outputs": [
    {
     "data": {
      "image/png": "[encoded data removed]",
      "text/plain": [
       "<Figure size 1000x700 with 1 Axes>"
      ]
     },
     "metadata": {},
     "output_type": "display_data"
    }
   ],
   "source": [
    "plt.figure(figsize=(10, 7))\n",
    "plt.title(\"(28 Features) Feature Importance\")\n",
    "plt.barh(range(10), importances[indices], align='center')\n",
    "plt.yticks(range(10), names, size=12)\n",
    "plt.gca().invert_yaxis()  # Invert y-axis to have the highest importance at the top\n",
    "plt.tight_layout()\n",
    "# plt.savefig('Feature_importance/20 features importance.jpg')\n",
    "plt.show()"
   ]
  },
  {
   "cell_type": "code",
   "execution_count": null,
   "id": "a40967b1-5eb3-4126-8db2-2bc279ca142b",
   "metadata": {},
   "outputs": [],
   "source": []
  }
 ],
 "metadata": {
  "kernelspec": {
   "display_name": "Python 3 (ipykernel)",
   "language": "python",
   "name": "python3"
  },
  "language_info": {
   "codemirror_mode": {
    "name": "ipython",
    "version": 3
   },
   "file_extension": ".py",
   "mimetype": "text/x-python",
   "name": "python",
   "nbconvert_exporter": "python",
   "pygments_lexer": "ipython3",
   "version": "3.12.0"
  }
 },
 "nbformat": 4,
 "nbformat_minor": 5
}
