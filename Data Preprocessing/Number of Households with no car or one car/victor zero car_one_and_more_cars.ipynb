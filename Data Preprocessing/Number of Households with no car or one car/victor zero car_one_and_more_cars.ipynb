{
 "cells": [
  {
   "cell_type": "code",
   "execution_count": 1,
   "id": "78fbc922-2c11-400a-8394-92eb2beef8db",
   "metadata": {},
   "outputs": [],
   "source": [
    "import os\n",
    "os.makedirs('output', exist_ok=True)\n",
    "\n",
    "import sys\n",
    "sys.path.append('../')\n",
    "\n",
    "from utils import load_walksheds, overlay_wks\n",
    "import pandas as pd\n",
    "import numpy as np\n",
    "import geopandas as gpd\n",
    "import warnings\n",
    "import os\n",
    "warnings.filterwarnings('ignore')"
   ]
  },
  {
   "cell_type": "markdown",
   "id": "52266da3-d623-4186-bf77-6399bcbeeaa2",
   "metadata": {},
   "source": [
    "* load in walkshed buffer and boundaries of md, dc and va to geopandas\n",
    "* also load in census block group and ACS income data for md, dc, va to geopandas\n",
    "* merge ACS and Block group data for md, dc, & va respectively\n",
    "* drop irrelevant columns\n",
    "* transform walkshed and ACS_Income to the same crs"
   ]
  },
  {
   "cell_type": "code",
   "execution_count": 2,
   "id": "21655955-1206-422c-92a5-49117e561456",
   "metadata": {},
   "outputs": [],
   "source": [
    "wksp5, wksp75 = load_walksheds()\n",
    "all_boundaries = gpd.read_file('../../Data/Merge Boundaries/MD_DC_VA/Block MD_DC_VA.shp')"
   ]
  },
  {
   "cell_type": "code",
   "execution_count": 3,
   "id": "3145464f-0a7d-44d5-844d-b484d4d65530",
   "metadata": {},
   "outputs": [],
   "source": [
    "## block group geodataframe MD, DC, VA\n",
    "\n",
    "gdb_MD_BG = gpd.read_file(\"../../Data/GDB states/tlgdb_2021_a_24_md.gdb\", driver='FileGDB', layer='Block_Group')\n",
    "\n",
    "gdb_DC_BG = gpd.read_file (\"../../Data/GDB states/tlgdb_2021_a_11_dc.gdb\", driver='FileGDB', layer='Block_Group')\n",
    "\n",
    "gdb_VA_BG = gpd.read_file (\"../../Data/GDB states/tlgdb_2021_a_51_va.gdb\", driver='FileGDB', layer='Block_Group')"
   ]
  },
  {
   "cell_type": "code",
   "execution_count": 4,
   "id": "05c4a35a-1769-44f0-8b68-1573db8e69d5",
   "metadata": {
    "scrolled": true
   },
   "outputs": [],
   "source": [
    "ACS_income_MD = gpd.read_file(\"../../Data/ACS_2020_5YR_BG_24_MARYLAND.gdb\", driver='FileGDB', layer='X25_HOUSING_CHARACTERISTICS')\n",
    "ACS_income_DC = gpd.read_file (\"../../Data/ACS_2020_5YR_BG_11_DISTRICT_OF_COLUMBIA.gdb\", driver='FileGDB', layer='X25_HOUSING_CHARACTERISTICS')\n",
    "ACS_income_VA = gpd.read_file(\"../../Data/ACS_2020_5YR_BG_51_VIRGINIA.gdb\",driver='FileGDB', layer='X25_HOUSING_CHARACTERISTICS')"
   ]
  },
  {
   "cell_type": "code",
   "execution_count": 5,
   "id": "3bd0a315-a4b5-4dfd-82a9-e37ca486de4d",
   "metadata": {},
   "outputs": [],
   "source": [
    "ACS_income_MD['GEOID'] = ACS_income_MD['GEOID'].str.replace('15000US', '')\n",
    "ACS_income_DC['GEOID'] = ACS_income_DC['GEOID'].str.replace('15000US', '')\n",
    "ACS_income_VA['GEOID'] = ACS_income_VA['GEOID'].str.replace('15000US', '')"
   ]
  },
  {
   "cell_type": "code",
   "execution_count": 6,
   "id": "a615bc16-942e-4f30-b64e-ce593cfcd0b1",
   "metadata": {},
   "outputs": [],
   "source": [
    "## join ACS to BG of three MD, DC, VA\n",
    "ACS_Income_MD = pd.merge(ACS_income_MD, gdb_MD_BG, on='GEOID', how='outer')\n",
    "\n",
    "ACS_Income_DC = pd.merge(ACS_income_DC, gdb_DC_BG, on='GEOID', how='outer')\n",
    "\n",
    "ACS_Income_VA = pd.merge(ACS_income_VA, gdb_VA_BG, on='GEOID',how='outer')"
   ]
  },
  {
   "cell_type": "code",
   "execution_count": 7,
   "id": "5dd35381-609f-4980-8f92-bb7a723edff4",
   "metadata": {},
   "outputs": [],
   "source": [
    "ACS_Income_VA.rename(columns = {'geometry_y':'geometry'}, inplace = True)\n",
    "ACS_Income_DC.rename(columns = {'geometry_y':'geometry'}, inplace = True)\n",
    "ACS_Income_MD.rename(columns = {'geometry_y':'geometry'}, inplace = True)\n",
    "\n",
    "ACS_Income_VA = ACS_Income_VA.drop(columns=['geometry_x'])\n",
    "ACS_Income_DC = ACS_Income_DC.drop(columns=['geometry_x'])\n",
    "ACS_Income_MD = ACS_Income_MD.drop(columns=['geometry_x'])"
   ]
  },
  {
   "cell_type": "code",
   "execution_count": 8,
   "id": "ada6b3b5-7ccb-4663-b418-6364e2bcd432",
   "metadata": {},
   "outputs": [],
   "source": [
    "ACS_Income = pd.concat([ACS_Income_VA, ACS_Income_DC, ACS_Income_MD], axis=0)"
   ]
  },
  {
   "cell_type": "code",
   "execution_count": 10,
   "id": "08d31e66-603f-4d08-a164-b8bae6b5566b",
   "metadata": {},
   "outputs": [],
   "source": [
    "ACS_Income = ACS_Income.to_crs('EPSG:4326')"
   ]
  },
  {
   "cell_type": "markdown",
   "id": "92517b0c-c4ed-40ec-a5b7-1a8acc09f7c4",
   "metadata": {},
   "source": [
    "* intersect hh income df with the walksheds"
   ]
  },
  {
   "cell_type": "code",
   "execution_count": 11,
   "id": "42278152-a280-43d9-8d43-b5a0d4c86256",
   "metadata": {},
   "outputs": [],
   "source": [
    "intersect_income_stations_p5, intersect_income_stations_p75 = overlay_wks(ACS_Income)"
   ]
  },
  {
   "cell_type": "code",
   "execution_count": null,
   "id": "2719a2b3-3219-4908-9130-b8606431c410",
   "metadata": {
    "scrolled": true
   },
   "outputs": [],
   "source": []
  },
  {
   "cell_type": "markdown",
   "id": "f73b801e-661c-40a7-a2ff-011c50e36660",
   "metadata": {},
   "source": [
    "### Number of households with exactly zero cars"
   ]
  },
  {
   "cell_type": "code",
   "execution_count": 12,
   "id": "14261692-0b6c-4079-b090-8cd1d479e8dd",
   "metadata": {},
   "outputs": [],
   "source": [
    "##rename B25044e3 column to household with no car\n",
    "intersect_income_stations_p5.rename(columns = {'B25044e3':\"Num_of_Household_with_No_Car_p5\"}, inplace = True)\n",
    "intersect_income_stations_p75.rename(columns = {'B25044e3':\"Num_of_Household_with_No_Car_p75\"}, inplace = True)"
   ]
  },
  {
   "cell_type": "code",
   "execution_count": 13,
   "id": "b70bdc30-1e6a-42a3-baaf-947e9e264570",
   "metadata": {},
   "outputs": [],
   "source": [
    "sum_income_stations_p5 = intersect_income_stations_p5.groupby([\"Name_1\"])[\"Num_of_Household_with_No_Car_p5\"].median().reset_index()\n",
    "sum_income_stations_p75 = intersect_income_stations_p75.groupby([\"Name_1\"])[\"Num_of_Household_with_No_Car_p75\"].median().reset_index()"
   ]
  },
  {
   "cell_type": "code",
   "execution_count": 14,
   "id": "cc45057c-0f9c-4d64-856d-d9547e2638c5",
   "metadata": {},
   "outputs": [
    {
     "data": {
      "text/html": [
       "<div>\n",
       "<style scoped>\n",
       "    .dataframe tbody tr th:only-of-type {\n",
       "        vertical-align: middle;\n",
       "    }\n",
       "\n",
       "    .dataframe tbody tr th {\n",
       "        vertical-align: top;\n",
       "    }\n",
       "\n",
       "    .dataframe thead th {\n",
       "        text-align: right;\n",
       "    }\n",
       "</style>\n",
       "<table border=\"1\" class=\"dataframe\">\n",
       "  <thead>\n",
       "    <tr style=\"text-align: right;\">\n",
       "      <th></th>\n",
       "      <th>Name_1</th>\n",
       "      <th>Num_of_Household_with_No_Car_p5</th>\n",
       "    </tr>\n",
       "  </thead>\n",
       "  <tbody>\n",
       "    <tr>\n",
       "      <th>0</th>\n",
       "      <td>ADDISON ROAD-SEAT PLEASANT</td>\n",
       "      <td>16.0</td>\n",
       "    </tr>\n",
       "    <tr>\n",
       "      <th>1</th>\n",
       "      <td>ANACOSTIA</td>\n",
       "      <td>9.0</td>\n",
       "    </tr>\n",
       "    <tr>\n",
       "      <th>2</th>\n",
       "      <td>ARCHIVES-NAVY MEMORIAL-PENN QUARTER</td>\n",
       "      <td>0.0</td>\n",
       "    </tr>\n",
       "    <tr>\n",
       "      <th>3</th>\n",
       "      <td>ARLINGTON CEMETERY</td>\n",
       "      <td>0.0</td>\n",
       "    </tr>\n",
       "    <tr>\n",
       "      <th>4</th>\n",
       "      <td>Ashburn</td>\n",
       "      <td>0.0</td>\n",
       "    </tr>\n",
       "    <tr>\n",
       "      <th>...</th>\n",
       "      <td>...</td>\n",
       "      <td>...</td>\n",
       "    </tr>\n",
       "    <tr>\n",
       "      <th>92</th>\n",
       "      <td>WHEATON</td>\n",
       "      <td>17.5</td>\n",
       "    </tr>\n",
       "    <tr>\n",
       "      <th>93</th>\n",
       "      <td>WHITE FLINT</td>\n",
       "      <td>10.0</td>\n",
       "    </tr>\n",
       "    <tr>\n",
       "      <th>94</th>\n",
       "      <td>WIEHLE-RESTON EAST</td>\n",
       "      <td>0.0</td>\n",
       "    </tr>\n",
       "    <tr>\n",
       "      <th>95</th>\n",
       "      <td>WOODLEY PARK-ZOO/ADAMS MORGAN</td>\n",
       "      <td>40.5</td>\n",
       "    </tr>\n",
       "    <tr>\n",
       "      <th>96</th>\n",
       "      <td>Washington Dulles International Airport</td>\n",
       "      <td>0.0</td>\n",
       "    </tr>\n",
       "  </tbody>\n",
       "</table>\n",
       "<p>97 rows × 2 columns</p>\n",
       "</div>"
      ],
      "text/plain": [
       "                                     Name_1  Num_of_Household_with_No_Car_p5\n",
       "0                ADDISON ROAD-SEAT PLEASANT                             16.0\n",
       "1                                 ANACOSTIA                              9.0\n",
       "2       ARCHIVES-NAVY MEMORIAL-PENN QUARTER                              0.0\n",
       "3                        ARLINGTON CEMETERY                              0.0\n",
       "4                                   Ashburn                              0.0\n",
       "..                                      ...                              ...\n",
       "92                                  WHEATON                             17.5\n",
       "93                              WHITE FLINT                             10.0\n",
       "94                       WIEHLE-RESTON EAST                              0.0\n",
       "95            WOODLEY PARK-ZOO/ADAMS MORGAN                             40.5\n",
       "96  Washington Dulles International Airport                              0.0\n",
       "\n",
       "[97 rows x 2 columns]"
      ]
     },
     "execution_count": 14,
     "metadata": {},
     "output_type": "execute_result"
    }
   ],
   "source": [
    "sum_income_stations_p5"
   ]
  },
  {
   "cell_type": "code",
   "execution_count": 15,
   "id": "f3b26eac-a28c-40bc-a3e3-52d4e40fcbfb",
   "metadata": {},
   "outputs": [],
   "source": [
    "sum_income_stations_p5.to_csv(\"output/victor-no of household w no car_p5.csv\", index=False)\n",
    "sum_income_stations_p75.to_csv(\"output/victor-no of household w no car_p75.csv\", index=False)"
   ]
  },
  {
   "cell_type": "code",
   "execution_count": null,
   "id": "ac2d7469-e6a5-4d9d-bd48-4771b52ed042",
   "metadata": {},
   "outputs": [],
   "source": []
  },
  {
   "cell_type": "markdown",
   "id": "e74000bc-9f34-47ec-93ca-dbca0a608575",
   "metadata": {},
   "source": [
    "### Number of households with exactly 1 car"
   ]
  },
  {
   "cell_type": "code",
   "execution_count": 16,
   "id": "c9c7742d-5fac-4ba5-933b-b372cdc0760c",
   "metadata": {},
   "outputs": [],
   "source": [
    "one_car_p5 = intersect_income_stations_p5.copy()\n",
    "one_car_p75 = intersect_income_stations_p75.copy()"
   ]
  },
  {
   "cell_type": "code",
   "execution_count": 17,
   "id": "6b748131-e1dc-4049-a34f-465ecff34cde",
   "metadata": {},
   "outputs": [],
   "source": [
    "##rename B25044e4 column to household with no car\n",
    "one_car_p5.rename(columns = {'B25044e4':\"Num_of_Household_with_1_Car_p5\"}, inplace = True)\n",
    "one_car_p75.rename(columns = {'B25044e4':\"Num_of_Household_with_1_Car_p75\"}, inplace = True)"
   ]
  },
  {
   "cell_type": "code",
   "execution_count": 18,
   "id": "ee2640d1-1b8e-4f4e-ad24-ab78cd223259",
   "metadata": {},
   "outputs": [],
   "source": [
    "sum_one_car_stations_p5 = one_car_p5.groupby([\"Name_1\"])[\"Num_of_Household_with_1_Car_p5\"].median().reset_index()\n",
    "sum_one_car_stations_p75 = one_car_p75.groupby([\"Name_1\"])[\"Num_of_Household_with_1_Car_p75\"].median().reset_index()"
   ]
  },
  {
   "cell_type": "code",
   "execution_count": 19,
   "id": "1bf2add5-2d7e-414f-aca2-a7d2aa58ec16",
   "metadata": {},
   "outputs": [
    {
     "data": {
      "text/html": [
       "<div>\n",
       "<style scoped>\n",
       "    .dataframe tbody tr th:only-of-type {\n",
       "        vertical-align: middle;\n",
       "    }\n",
       "\n",
       "    .dataframe tbody tr th {\n",
       "        vertical-align: top;\n",
       "    }\n",
       "\n",
       "    .dataframe thead th {\n",
       "        text-align: right;\n",
       "    }\n",
       "</style>\n",
       "<table border=\"1\" class=\"dataframe\">\n",
       "  <thead>\n",
       "    <tr style=\"text-align: right;\">\n",
       "      <th></th>\n",
       "      <th>Name_1</th>\n",
       "      <th>Num_of_Household_with_1_Car_p5</th>\n",
       "    </tr>\n",
       "  </thead>\n",
       "  <tbody>\n",
       "    <tr>\n",
       "      <th>0</th>\n",
       "      <td>ADDISON ROAD-SEAT PLEASANT</td>\n",
       "      <td>182.0</td>\n",
       "    </tr>\n",
       "    <tr>\n",
       "      <th>1</th>\n",
       "      <td>ANACOSTIA</td>\n",
       "      <td>62.5</td>\n",
       "    </tr>\n",
       "    <tr>\n",
       "      <th>2</th>\n",
       "      <td>ARCHIVES-NAVY MEMORIAL-PENN QUARTER</td>\n",
       "      <td>0.0</td>\n",
       "    </tr>\n",
       "    <tr>\n",
       "      <th>3</th>\n",
       "      <td>ARLINGTON CEMETERY</td>\n",
       "      <td>0.0</td>\n",
       "    </tr>\n",
       "    <tr>\n",
       "      <th>4</th>\n",
       "      <td>Ashburn</td>\n",
       "      <td>0.0</td>\n",
       "    </tr>\n",
       "  </tbody>\n",
       "</table>\n",
       "</div>"
      ],
      "text/plain": [
       "                                Name_1  Num_of_Household_with_1_Car_p5\n",
       "0           ADDISON ROAD-SEAT PLEASANT                           182.0\n",
       "1                            ANACOSTIA                            62.5\n",
       "2  ARCHIVES-NAVY MEMORIAL-PENN QUARTER                             0.0\n",
       "3                   ARLINGTON CEMETERY                             0.0\n",
       "4                              Ashburn                             0.0"
      ]
     },
     "execution_count": 19,
     "metadata": {},
     "output_type": "execute_result"
    }
   ],
   "source": [
    "sum_one_car_stations_p5.head()"
   ]
  },
  {
   "cell_type": "code",
   "execution_count": 20,
   "id": "71d5b1d5-6622-4513-a251-f0401471d830",
   "metadata": {},
   "outputs": [],
   "source": [
    "sum_one_car_stations_p5.to_csv(\"output/victor-no of household w 1 car_p5.csv\", index=False)\n",
    "sum_one_car_stations_p75.to_csv(\"output/victor-no of household w 1 car_p75.csv\", index=False)"
   ]
  },
  {
   "cell_type": "code",
   "execution_count": null,
   "id": "4175c7fb-fb7b-4724-bc30-fda8bf0ac41b",
   "metadata": {},
   "outputs": [],
   "source": []
  },
  {
   "cell_type": "markdown",
   "id": "68ca7882-846a-452f-83f9-17256182e0c2",
   "metadata": {},
   "source": [
    "### Number of households with more than 1 car"
   ]
  },
  {
   "cell_type": "code",
   "execution_count": 21,
   "id": "c300343c-8a65-4a24-a795-d50ae1fdc37d",
   "metadata": {},
   "outputs": [],
   "source": [
    "more_cars_p5 = intersect_income_stations_p5.copy()\n",
    "more_cars_p75 = intersect_income_stations_p75.copy()"
   ]
  },
  {
   "cell_type": "code",
   "execution_count": 22,
   "id": "996a9e98-935d-4cb2-8605-12afff658444",
   "metadata": {},
   "outputs": [],
   "source": [
    "more_cars_p5['Sum_Car'] = more_cars_p5[['B25044e5', 'B25044e6', 'B25044e7', 'B25044e8']].sum(axis=1)\n",
    "more_cars_p75['Sum_Car'] = more_cars_p75[['B25044e5', 'B25044e6', 'B25044e7', 'B25044e8']].sum(axis=1)"
   ]
  },
  {
   "cell_type": "code",
   "execution_count": 23,
   "id": "96590234-8e20-450e-b061-da7e1a0db277",
   "metadata": {},
   "outputs": [],
   "source": [
    "more_cars_p5.rename(columns = {'Sum_Car':\"Num_of_Household_with_More_than_One_Car_p5\"}, inplace = True)\n",
    "more_cars_p75.rename(columns = {'Sum_Car':\"Num_of_Household_with_More_than_One_Car_p75\"}, inplace = True)"
   ]
  },
  {
   "cell_type": "code",
   "execution_count": 24,
   "id": "bb61a59c-95c1-40e8-b096-cb2d4229160c",
   "metadata": {},
   "outputs": [],
   "source": [
    "more_cars_station_p5 = more_cars_p5.groupby([\"Name_1\"])[\"Num_of_Household_with_More_than_One_Car_p5\"].median().reset_index()\n",
    "more_cars_station_p75 = more_cars_p75.groupby([\"Name_1\"])[\"Num_of_Household_with_More_than_One_Car_p75\"].median().reset_index()\n"
   ]
  },
  {
   "cell_type": "code",
   "execution_count": 25,
   "id": "022d6bf3-465c-42f0-981e-6d3d861b8e1f",
   "metadata": {},
   "outputs": [],
   "source": [
    "more_cars_station_p5.to_csv('output/victor-no of household w more than 1cars_p5.csv', index=False)\n",
    "more_cars_station_p75.to_csv('output/victor-no of household w more than 1cars_p75.csv', index=False)"
   ]
  },
  {
   "cell_type": "code",
   "execution_count": null,
   "id": "296d1772-f383-488f-a99f-51ba45fac151",
   "metadata": {},
   "outputs": [],
   "source": []
  },
  {
   "cell_type": "code",
   "execution_count": null,
   "id": "b1cd8984-57fb-4ce2-8eaf-f294fa876ec0",
   "metadata": {},
   "outputs": [],
   "source": []
  }
 ],
 "metadata": {
  "kernelspec": {
   "display_name": "Python 3 (ipykernel)",
   "language": "python",
   "name": "python3"
  },
  "language_info": {
   "codemirror_mode": {
    "name": "ipython",
    "version": 3
   },
   "file_extension": ".py",
   "mimetype": "text/x-python",
   "name": "python",
   "nbconvert_exporter": "python",
   "pygments_lexer": "ipython3",
   "version": "3.12.0"
  }
 },
 "nbformat": 4,
 "nbformat_minor": 5
}
