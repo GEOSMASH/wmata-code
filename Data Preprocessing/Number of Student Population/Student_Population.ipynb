{
 "cells": [
  {
   "cell_type": "code",
   "execution_count": 1,
   "id": "655c2a0e-770e-422c-8b4c-3dbd794d6450",
   "metadata": {},
   "outputs": [],
   "source": [
    "import os\n",
    "os.makedirs('output', exist_ok=True)\n",
    "\n",
    "import sys\n",
    "sys.path.append('../')\n",
    "from utils import load_walksheds, overlay_wks\n",
    "\n",
    "import numpy as np\n",
    "import pandas as pd\n",
    "import geopandas as gpd\n",
    "from shapely.geometry import Point, Polygon, LineString\n",
    "import matplotlib.pyplot as plt\n",
    "import fiona\n",
    "import os"
   ]
  },
  {
   "cell_type": "code",
   "execution_count": 2,
   "id": "e80f15e7-2e22-4d75-a5a2-706476a00634",
   "metadata": {},
   "outputs": [],
   "source": [
    "wksp5, wksp75 = load_walksheds()\n",
    "all_boundaries= gpd.read_file(r\"../../Data/MD-DC-VA Boundaries.zip\")"
   ]
  },
  {
   "cell_type": "code",
   "execution_count": 3,
   "id": "24311f9f-4367-499c-81e1-155de946311b",
   "metadata": {},
   "outputs": [],
   "source": [
    "Table_gdb_MD = fiona.listlayers(r\"../../Data/GDB states/tlgdb_2021_a_24_md.gdb\")"
   ]
  },
  {
   "cell_type": "code",
   "execution_count": 4,
   "id": "1815e04d-e9f5-4a34-9842-d1358785f100",
   "metadata": {},
   "outputs": [
    {
     "data": {
      "text/plain": [
       "['Incorporated_Place',\n",
       " 'County',\n",
       " 'Census_Designated_Place',\n",
       " 'Block_Group',\n",
       " 'County_Subdivision',\n",
       " 'Census_Tract',\n",
       " 'Block20']"
      ]
     },
     "execution_count": 4,
     "metadata": {},
     "output_type": "execute_result"
    }
   ],
   "source": [
    "Table_gdb_MD"
   ]
  },
  {
   "cell_type": "code",
   "execution_count": 5,
   "id": "61f2f7b9-cc2f-4f6a-82a0-df47d3266342",
   "metadata": {},
   "outputs": [],
   "source": [
    "## block group geodataframe MD, DC, VA\n",
    "\n",
    "gdb_MD_BG = gpd.read_file(r\"../../Data/GDB states/tlgdb_2021_a_24_md.gdb\", driver='FileGDB', layer='Block_Group')\n",
    "\n",
    "gdb_DC_BG = gpd.read_file (r\"../../Data/GDB states/tlgdb_2021_a_11_dc.gdb\", driver='FileGDB', layer='Block_Group')\n",
    "\n",
    "gdb_VA_BG = gpd.read_file (r\"../../Data/GDB states/tlgdb_2021_a_51_va.gdb\", driver='FileGDB', layer='Block_Group')"
   ]
  },
  {
   "cell_type": "code",
   "execution_count": 6,
   "id": "5e452a6b-738d-408c-92e2-cf5c0a7a9f8f",
   "metadata": {
    "scrolled": true
   },
   "outputs": [],
   "source": [
    "## read enrollment layer of ACS ##\n",
    "ACS_enrollment_MD = gpd.read_file(r\"../../Data/ACS_2020_5YR_BG_24_MARYLAND.gdb\", driver='FileGDB', layer='Enrollment')\n",
    "ACS_enrollment_DC = gpd.read_file(r\"../../Data/ACS_2020_5YR_BG_11_DISTRICT_OF_COLUMBIA.gdb\", driver='FileGDB', layer='Enrollment')\n",
    "ACS_enrollment_VA = gpd.read_file(r\"../../Data/ACS_2020_5YR_BG_51_VIRGINIA.gdb\",driver='FileGDB', layer='Enrollment')"
   ]
  },
  {
   "cell_type": "code",
   "execution_count": 7,
   "id": "e05eb9d9-039a-47e0-841e-e5fbd2956c3e",
   "metadata": {},
   "outputs": [
    {
     "data": {
      "text/html": [
       "<div>\n",
       "<style scoped>\n",
       "    .dataframe tbody tr th:only-of-type {\n",
       "        vertical-align: middle;\n",
       "    }\n",
       "\n",
       "    .dataframe tbody tr th {\n",
       "        vertical-align: top;\n",
       "    }\n",
       "\n",
       "    .dataframe thead th {\n",
       "        text-align: right;\n",
       "    }\n",
       "</style>\n",
       "<table border=\"1\" class=\"dataframe\">\n",
       "  <thead>\n",
       "    <tr style=\"text-align: right;\">\n",
       "      <th></th>\n",
       "      <th>OBJECTID__</th>\n",
       "      <th>GEOID</th>\n",
       "      <th>No_Vehicle</th>\n",
       "      <th>High_School</th>\n",
       "      <th>Graduate</th>\n",
       "      <th>geometry</th>\n",
       "    </tr>\n",
       "  </thead>\n",
       "  <tbody>\n",
       "    <tr>\n",
       "      <th>0</th>\n",
       "      <td>97767.0</td>\n",
       "      <td>15000US240010001001</td>\n",
       "      <td>0.0</td>\n",
       "      <td>8.0</td>\n",
       "      <td>20.0</td>\n",
       "      <td>None</td>\n",
       "    </tr>\n",
       "    <tr>\n",
       "      <th>1</th>\n",
       "      <td>97768.0</td>\n",
       "      <td>15000US240010001002</td>\n",
       "      <td>33.0</td>\n",
       "      <td>346.0</td>\n",
       "      <td>40.0</td>\n",
       "      <td>None</td>\n",
       "    </tr>\n",
       "    <tr>\n",
       "      <th>2</th>\n",
       "      <td>97769.0</td>\n",
       "      <td>15000US240010001003</td>\n",
       "      <td>30.0</td>\n",
       "      <td>137.0</td>\n",
       "      <td>0.0</td>\n",
       "      <td>None</td>\n",
       "    </tr>\n",
       "    <tr>\n",
       "      <th>3</th>\n",
       "      <td>97770.0</td>\n",
       "      <td>15000US240010002001</td>\n",
       "      <td>0.0</td>\n",
       "      <td>107.0</td>\n",
       "      <td>36.0</td>\n",
       "      <td>None</td>\n",
       "    </tr>\n",
       "    <tr>\n",
       "      <th>4</th>\n",
       "      <td>97771.0</td>\n",
       "      <td>15000US240010002002</td>\n",
       "      <td>0.0</td>\n",
       "      <td>103.0</td>\n",
       "      <td>32.0</td>\n",
       "      <td>None</td>\n",
       "    </tr>\n",
       "  </tbody>\n",
       "</table>\n",
       "</div>"
      ],
      "text/plain": [
       "   OBJECTID__                GEOID  No_Vehicle  High_School  Graduate geometry\n",
       "0     97767.0  15000US240010001001         0.0          8.0      20.0     None\n",
       "1     97768.0  15000US240010001002        33.0        346.0      40.0     None\n",
       "2     97769.0  15000US240010001003        30.0        137.0       0.0     None\n",
       "3     97770.0  15000US240010002001         0.0        107.0      36.0     None\n",
       "4     97771.0  15000US240010002002         0.0        103.0      32.0     None"
      ]
     },
     "execution_count": 7,
     "metadata": {},
     "output_type": "execute_result"
    }
   ],
   "source": [
    "ACS_enrollment_MD.head()"
   ]
  },
  {
   "cell_type": "code",
   "execution_count": 8,
   "id": "a739b660-7801-4eb9-bb61-47e1d787347a",
   "metadata": {},
   "outputs": [],
   "source": [
    "ACS_enrollment_MD['GEOID'] = ACS_enrollment_MD['GEOID'].str.replace('15000US', '')\n",
    "ACS_enrollment_DC['GEOID'] = ACS_enrollment_DC['GEOID'].str.replace('15000US', '')\n",
    "ACS_enrollment_VA['GEOID'] = ACS_enrollment_VA['GEOID'].str.replace('15000US', '')"
   ]
  },
  {
   "cell_type": "code",
   "execution_count": 9,
   "id": "d7e2f87b",
   "metadata": {},
   "outputs": [],
   "source": [
    "## join ACS to BG of three MD, DC, VA\n",
    "ACS_Enrollment_MD = pd.merge(ACS_enrollment_MD, gdb_MD_BG, on='GEOID', how='outer')\n",
    "\n",
    "ACS_Enrollment_DC = pd.merge(ACS_enrollment_DC, gdb_DC_BG, on='GEOID', how='outer')\n",
    "\n",
    "ACS_Enrollment_VA = pd.merge(ACS_enrollment_VA, gdb_VA_BG, on='GEOID',how='outer')"
   ]
  },
  {
   "cell_type": "code",
   "execution_count": 10,
   "id": "2fafff94",
   "metadata": {},
   "outputs": [],
   "source": [
    "ACS_Enrollment_VA.rename(columns = {'geometry_y':'geometry'}, inplace = True)\n",
    "ACS_Enrollment_DC.rename(columns = {'geometry_y':'geometry'}, inplace = True)\n",
    "ACS_Enrollment_MD.rename(columns = {'geometry_y':'geometry'}, inplace = True)\n",
    "\n",
    "ACS_Enrollment_VA = ACS_Enrollment_VA.drop(columns=['geometry_x'])\n",
    "ACS_Enrollment_DC = ACS_Enrollment_DC.drop(columns=['geometry_x'])\n",
    "ACS_Enrollment_MD = ACS_Enrollment_MD.drop(columns=['geometry_x'])"
   ]
  },
  {
   "cell_type": "code",
   "execution_count": 11,
   "id": "75e9f6b9",
   "metadata": {},
   "outputs": [
    {
     "data": {
      "text/html": [
       "<div>\n",
       "<style scoped>\n",
       "    .dataframe tbody tr th:only-of-type {\n",
       "        vertical-align: middle;\n",
       "    }\n",
       "\n",
       "    .dataframe tbody tr th {\n",
       "        vertical-align: top;\n",
       "    }\n",
       "\n",
       "    .dataframe thead th {\n",
       "        text-align: right;\n",
       "    }\n",
       "</style>\n",
       "<table border=\"1\" class=\"dataframe\">\n",
       "  <thead>\n",
       "    <tr style=\"text-align: right;\">\n",
       "      <th></th>\n",
       "      <th>OBJECTID__</th>\n",
       "      <th>GEOID</th>\n",
       "      <th>No_Vehicle</th>\n",
       "      <th>High_School</th>\n",
       "      <th>Graduate</th>\n",
       "      <th>NAMELSAD</th>\n",
       "      <th>ALAND</th>\n",
       "      <th>AWATER</th>\n",
       "      <th>INTPTLAT</th>\n",
       "      <th>INTPTLON</th>\n",
       "      <th>geometry</th>\n",
       "    </tr>\n",
       "  </thead>\n",
       "  <tbody>\n",
       "    <tr>\n",
       "      <th>0</th>\n",
       "      <td>97767.0</td>\n",
       "      <td>240010001001</td>\n",
       "      <td>0.0</td>\n",
       "      <td>8.0</td>\n",
       "      <td>20.0</td>\n",
       "      <td>Block Group 1</td>\n",
       "      <td>114609102.0</td>\n",
       "      <td>2207428.0</td>\n",
       "      <td>+39.6704707</td>\n",
       "      <td>-78.3878895</td>\n",
       "      <td>MULTIPOLYGON (((-78.49625 39.60436, -78.49612 ...</td>\n",
       "    </tr>\n",
       "    <tr>\n",
       "      <th>1</th>\n",
       "      <td>97768.0</td>\n",
       "      <td>240010001002</td>\n",
       "      <td>33.0</td>\n",
       "      <td>346.0</td>\n",
       "      <td>40.0</td>\n",
       "      <td>Block Group 2</td>\n",
       "      <td>215159992.0</td>\n",
       "      <td>508136.0</td>\n",
       "      <td>+39.6796402</td>\n",
       "      <td>-78.5461225</td>\n",
       "      <td>MULTIPOLYGON (((-78.66648 39.64913, -78.66643 ...</td>\n",
       "    </tr>\n",
       "  </tbody>\n",
       "</table>\n",
       "</div>"
      ],
      "text/plain": [
       "   OBJECTID__         GEOID  No_Vehicle  High_School  Graduate       NAMELSAD  \\\n",
       "0     97767.0  240010001001         0.0          8.0      20.0  Block Group 1   \n",
       "1     97768.0  240010001002        33.0        346.0      40.0  Block Group 2   \n",
       "\n",
       "         ALAND     AWATER     INTPTLAT     INTPTLON  \\\n",
       "0  114609102.0  2207428.0  +39.6704707  -78.3878895   \n",
       "1  215159992.0   508136.0  +39.6796402  -78.5461225   \n",
       "\n",
       "                                            geometry  \n",
       "0  MULTIPOLYGON (((-78.49625 39.60436, -78.49612 ...  \n",
       "1  MULTIPOLYGON (((-78.66648 39.64913, -78.66643 ...  "
      ]
     },
     "execution_count": 11,
     "metadata": {},
     "output_type": "execute_result"
    }
   ],
   "source": [
    "ACS_Enrollment_MD.head(2)"
   ]
  },
  {
   "cell_type": "code",
   "execution_count": 12,
   "id": "f96c40f2",
   "metadata": {},
   "outputs": [],
   "source": [
    "ACS_Enrollment1 = pd.merge(ACS_Enrollment_MD, ACS_Enrollment_DC, how='outer')"
   ]
  },
  {
   "cell_type": "code",
   "execution_count": 13,
   "id": "759ddbd2",
   "metadata": {},
   "outputs": [],
   "source": [
    "ACS_enrollment = pd.merge(ACS_Enrollment1, ACS_Enrollment_VA, how='outer')"
   ]
  },
  {
   "cell_type": "code",
   "execution_count": 15,
   "id": "60410548",
   "metadata": {},
   "outputs": [],
   "source": [
    "ACS_enrollment = ACS_enrollment.to_crs('EPSG:4326')"
   ]
  },
  {
   "cell_type": "code",
   "execution_count": 16,
   "id": "7a52c31c",
   "metadata": {},
   "outputs": [],
   "source": [
    "from geopandas.tools import overlay\n",
    "\n",
    "intp5, intp75 = overlay_wks(ACS_enrollment)"
   ]
  },
  {
   "cell_type": "code",
   "execution_count": 17,
   "id": "a4f29aca",
   "metadata": {},
   "outputs": [],
   "source": [
    "#sum_enrollment_stations= intersect_enrollment_stations.groupby([\"STATIONNM\"])['Aggregate household enrollment'].sum()\n",
    "sum_HighSchool_stations_p5 = intp5.groupby([\"Name_1\"])[\"High_School\"].median().reset_index()\n",
    "sum_HighSchool_stations_p75 = intp75.groupby([\"Name_1\"])[\"High_School\"].median().reset_index()\n",
    "\n",
    "sum_Graduate_stations_p5 = intp5.groupby([\"Name_1\"])[\"Graduate\"].median().reset_index()\n",
    "sum_Graduate_stations_p75 = intp75.groupby([\"Name_1\"])[\"Graduate\"].median().reset_index()"
   ]
  },
  {
   "cell_type": "code",
   "execution_count": 20,
   "id": "a5ca0ccf",
   "metadata": {},
   "outputs": [
    {
     "data": {
      "text/html": [
       "<div>\n",
       "<style scoped>\n",
       "    .dataframe tbody tr th:only-of-type {\n",
       "        vertical-align: middle;\n",
       "    }\n",
       "\n",
       "    .dataframe tbody tr th {\n",
       "        vertical-align: top;\n",
       "    }\n",
       "\n",
       "    .dataframe thead th {\n",
       "        text-align: right;\n",
       "    }\n",
       "</style>\n",
       "<table border=\"1\" class=\"dataframe\">\n",
       "  <thead>\n",
       "    <tr style=\"text-align: right;\">\n",
       "      <th></th>\n",
       "      <th>Name_1</th>\n",
       "      <th>High_School</th>\n",
       "    </tr>\n",
       "  </thead>\n",
       "  <tbody>\n",
       "    <tr>\n",
       "      <th>0</th>\n",
       "      <td>ADDISON ROAD-SEAT PLEASANT</td>\n",
       "      <td>177.0</td>\n",
       "    </tr>\n",
       "    <tr>\n",
       "      <th>1</th>\n",
       "      <td>ANACOSTIA</td>\n",
       "      <td>NaN</td>\n",
       "    </tr>\n",
       "    <tr>\n",
       "      <th>2</th>\n",
       "      <td>ARCHIVES-NAVY MEMORIAL-PENN QUARTER</td>\n",
       "      <td>NaN</td>\n",
       "    </tr>\n",
       "    <tr>\n",
       "      <th>3</th>\n",
       "      <td>ARLINGTON CEMETERY</td>\n",
       "      <td>NaN</td>\n",
       "    </tr>\n",
       "    <tr>\n",
       "      <th>4</th>\n",
       "      <td>Ashburn</td>\n",
       "      <td>NaN</td>\n",
       "    </tr>\n",
       "  </tbody>\n",
       "</table>\n",
       "</div>"
      ],
      "text/plain": [
       "                                Name_1  High_School\n",
       "0           ADDISON ROAD-SEAT PLEASANT        177.0\n",
       "1                            ANACOSTIA          NaN\n",
       "2  ARCHIVES-NAVY MEMORIAL-PENN QUARTER          NaN\n",
       "3                   ARLINGTON CEMETERY          NaN\n",
       "4                              Ashburn          NaN"
      ]
     },
     "execution_count": 20,
     "metadata": {},
     "output_type": "execute_result"
    }
   ],
   "source": [
    "sum_HighSchool_stations_p75.head()"
   ]
  },
  {
   "cell_type": "code",
   "execution_count": 19,
   "id": "bf63dc7e",
   "metadata": {},
   "outputs": [
    {
     "data": {
      "text/html": [
       "<div>\n",
       "<style scoped>\n",
       "    .dataframe tbody tr th:only-of-type {\n",
       "        vertical-align: middle;\n",
       "    }\n",
       "\n",
       "    .dataframe tbody tr th {\n",
       "        vertical-align: top;\n",
       "    }\n",
       "\n",
       "    .dataframe thead th {\n",
       "        text-align: right;\n",
       "    }\n",
       "</style>\n",
       "<table border=\"1\" class=\"dataframe\">\n",
       "  <thead>\n",
       "    <tr style=\"text-align: right;\">\n",
       "      <th></th>\n",
       "      <th>Name_1</th>\n",
       "      <th>Graduate</th>\n",
       "    </tr>\n",
       "  </thead>\n",
       "  <tbody>\n",
       "    <tr>\n",
       "      <th>0</th>\n",
       "      <td>ADDISON ROAD-SEAT PLEASANT</td>\n",
       "      <td>32.0</td>\n",
       "    </tr>\n",
       "    <tr>\n",
       "      <th>1</th>\n",
       "      <td>ANACOSTIA</td>\n",
       "      <td>NaN</td>\n",
       "    </tr>\n",
       "    <tr>\n",
       "      <th>2</th>\n",
       "      <td>ARCHIVES-NAVY MEMORIAL-PENN QUARTER</td>\n",
       "      <td>NaN</td>\n",
       "    </tr>\n",
       "    <tr>\n",
       "      <th>3</th>\n",
       "      <td>ARLINGTON CEMETERY</td>\n",
       "      <td>NaN</td>\n",
       "    </tr>\n",
       "    <tr>\n",
       "      <th>4</th>\n",
       "      <td>Ashburn</td>\n",
       "      <td>NaN</td>\n",
       "    </tr>\n",
       "  </tbody>\n",
       "</table>\n",
       "</div>"
      ],
      "text/plain": [
       "                                Name_1  Graduate\n",
       "0           ADDISON ROAD-SEAT PLEASANT      32.0\n",
       "1                            ANACOSTIA       NaN\n",
       "2  ARCHIVES-NAVY MEMORIAL-PENN QUARTER       NaN\n",
       "3                   ARLINGTON CEMETERY       NaN\n",
       "4                              Ashburn       NaN"
      ]
     },
     "execution_count": 19,
     "metadata": {},
     "output_type": "execute_result"
    }
   ],
   "source": [
    "sum_Graduate_stations_p5.head()"
   ]
  },
  {
   "cell_type": "code",
   "execution_count": 22,
   "id": "8362271e",
   "metadata": {},
   "outputs": [],
   "source": [
    "sum_HighSchool_stations_p5.rename(columns={'High_School':'High_School_p5'}).to_csv(r\"output/High_school_student_population_Enrollment_p5.csv\", index=False)\n",
    "sum_HighSchool_stations_p75.rename(columns={'High_School':'High_School_p75'}).to_csv(r\"output/High_school_student_population_Enrollment_p75.csv\", index=False)\n",
    "\n",
    "sum_Graduate_stations_p5.rename(columns={'Graduate':'Graduate_p5'}).to_csv(r\"output/grad_student_population_Enrollment_p5.csv\", index=False)\n",
    "sum_Graduate_stations_p75.rename(columns={'Graduate':'Graduate_p75'}).to_csv(r\"output/grad_student_population_Enrollment_p75.csv\", index=False)"
   ]
  }
 ],
 "metadata": {
  "kernelspec": {
   "display_name": "Python 3 (ipykernel)",
   "language": "python",
   "name": "python3"
  },
  "language_info": {
   "codemirror_mode": {
    "name": "ipython",
    "version": 3
   },
   "file_extension": ".py",
   "mimetype": "text/x-python",
   "name": "python",
   "nbconvert_exporter": "python",
   "pygments_lexer": "ipython3",
   "version": "3.12.0"
  }
 },
 "nbformat": 4,
 "nbformat_minor": 5
}
