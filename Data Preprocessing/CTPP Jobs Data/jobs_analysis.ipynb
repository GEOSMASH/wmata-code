{
 "cells": [
  {
   "cell_type": "code",
   "execution_count": 1,
   "id": "34cefdb6-5ae4-40ba-9ac1-903b408ca8f8",
   "metadata": {},
   "outputs": [],
   "source": [
    "import os\n",
    "os.makedirs('output', exist_ok=True)\n",
    "\n",
    "import sys\n",
    "sys.path.append('../')\n",
    "\n",
    "from utils import load_walksheds, overlay_wks\n",
    "import geopandas as gpd\n",
    "import pandas as pd\n",
    "import matplotlib.pyplot as plt\n",
    "import warnings\n",
    "from geopandas.tools import overlay\n",
    "warnings.filterwarnings('ignore')"
   ]
  },
  {
   "cell_type": "markdown",
   "id": "5bef06a0-3392-4f0b-b250-6a207102c1d0",
   "metadata": {},
   "source": [
    "* ctpp_jobs contains the total workers 16 years old and over\n",
    "* dc_jobs, md_jobs, and va_jobs contain the Traffic Analysis Zone (taz) boundaries for DC, MD and VA\n",
    "* load in the walksheds contains the overlapping .5 mile walksheds and .75 miles for the study area\n",
    "* mstns contains the new station names and MSTN IDs"
   ]
  },
  {
   "cell_type": "code",
   "execution_count": 2,
   "id": "dbdfaa06-61c4-4605-b720-16f73a81de14",
   "metadata": {},
   "outputs": [],
   "source": [
    "ctpp_jobs= pd.read_csv(\"A202100 - Total Workers (1) (Workers 16 years and over).csv\", skiprows=[0,1])\n",
    "dc_jobs = gpd.read_file(\"../../Data/tl_2011_11_taz10_dc/\")\n",
    "md_jobs = gpd.read_file(\"../../Data/tl_2011_24_taz10_md\")\n",
    "va_jobs = gpd.read_file(\"../../Data/tl_2011_51_taz10_va\")\n",
    "mstns = pd.read_excel(\"../../Data/mstn_id_to_stn_name.xlsx\")"
   ]
  },
  {
   "cell_type": "code",
   "execution_count": 3,
   "id": "494383c0-c937-4135-a7ea-7f3d89259c10",
   "metadata": {},
   "outputs": [],
   "source": [
    "wksp5, wksp75 = load_walksheds()"
   ]
  },
  {
   "cell_type": "code",
   "execution_count": 4,
   "id": "d85dcadc-9ce9-4de0-a65d-64b145c6c515",
   "metadata": {},
   "outputs": [
    {
     "data": {
      "text/html": [
       "<div>\n",
       "<style scoped>\n",
       "    .dataframe tbody tr th:only-of-type {\n",
       "        vertical-align: middle;\n",
       "    }\n",
       "\n",
       "    .dataframe tbody tr th {\n",
       "        vertical-align: top;\n",
       "    }\n",
       "\n",
       "    .dataframe thead th {\n",
       "        text-align: right;\n",
       "    }\n",
       "</style>\n",
       "<table border=\"1\" class=\"dataframe\">\n",
       "  <thead>\n",
       "    <tr style=\"text-align: right;\">\n",
       "      <th></th>\n",
       "      <th>WORKPLACE</th>\n",
       "      <th>Output</th>\n",
       "      <th>Workers 16 and Over</th>\n",
       "      <th>Unnamed: 3</th>\n",
       "    </tr>\n",
       "  </thead>\n",
       "  <tbody>\n",
       "    <tr>\n",
       "      <th>0</th>\n",
       "      <td>Alabama</td>\n",
       "      <td>Estimate</td>\n",
       "      <td>1,967,290</td>\n",
       "      <td>NaN</td>\n",
       "    </tr>\n",
       "    <tr>\n",
       "      <th>1</th>\n",
       "      <td>Alabama</td>\n",
       "      <td>Margin of Error</td>\n",
       "      <td>6,980</td>\n",
       "      <td>NaN</td>\n",
       "    </tr>\n",
       "    <tr>\n",
       "      <th>2</th>\n",
       "      <td>Alaska</td>\n",
       "      <td>Estimate</td>\n",
       "      <td>368,140</td>\n",
       "      <td>NaN</td>\n",
       "    </tr>\n",
       "    <tr>\n",
       "      <th>3</th>\n",
       "      <td>Alaska</td>\n",
       "      <td>Margin of Error</td>\n",
       "      <td>2,066</td>\n",
       "      <td>NaN</td>\n",
       "    </tr>\n",
       "    <tr>\n",
       "      <th>4</th>\n",
       "      <td>Arizona</td>\n",
       "      <td>Estimate</td>\n",
       "      <td>2,816,865</td>\n",
       "      <td>NaN</td>\n",
       "    </tr>\n",
       "  </tbody>\n",
       "</table>\n",
       "</div>"
      ],
      "text/plain": [
       "  WORKPLACE           Output Workers 16 and Over  Unnamed: 3\n",
       "0   Alabama         Estimate           1,967,290         NaN\n",
       "1   Alabama  Margin of Error               6,980         NaN\n",
       "2    Alaska         Estimate             368,140         NaN\n",
       "3    Alaska  Margin of Error               2,066         NaN\n",
       "4   Arizona         Estimate           2,816,865         NaN"
      ]
     },
     "execution_count": 4,
     "metadata": {},
     "output_type": "execute_result"
    }
   ],
   "source": [
    "ctpp_jobs.head()"
   ]
  },
  {
   "cell_type": "markdown",
   "id": "4540575b-069e-4a98-87d9-2cfb3b2c3b38",
   "metadata": {},
   "source": [
    "* Concatenate all three of the regions into one boundaries geodataframe\n",
    "* Filter the ctpp_jobs for the estimates instead of the margin of errors\n",
    "* Filter the workplace geometries for those that\n",
    "* Take only the 4th-12th characters from the TAZ ID column so that the jobs csv can merge with the boundaries\n",
    "* Join the ctpp jobs data with the boundaries"
   ]
  },
  {
   "cell_type": "code",
   "execution_count": 5,
   "id": "0c57be52-a7c4-439f-bd58-8e23bcb6435f",
   "metadata": {},
   "outputs": [],
   "source": [
    "boundaries = [dc_jobs, md_jobs, va_jobs]\n",
    "all_boundaries = gpd.GeoDataFrame(pd.concat(boundaries, ignore_index=True) )"
   ]
  },
  {
   "cell_type": "code",
   "execution_count": 6,
   "id": "513bbaaf-23b2-4735-bbf9-39804c8f36ea",
   "metadata": {},
   "outputs": [],
   "source": [
    "ctpp_jobs2 = ctpp_jobs[ctpp_jobs['Output']=='Estimate']"
   ]
  },
  {
   "cell_type": "code",
   "execution_count": 7,
   "id": "9b5a8bd1-e480-4d5f-82db-723fe1aff8f6",
   "metadata": {},
   "outputs": [],
   "source": [
    "ctpp_jobs3 = ctpp_jobs2[ctpp_jobs2['WORKPLACE'].str.contains(\"TAZ\")]"
   ]
  },
  {
   "cell_type": "code",
   "execution_count": 8,
   "id": "9537d339-fd63-445c-93fa-d68bcdc71e5a",
   "metadata": {},
   "outputs": [],
   "source": [
    "ctpp_jobs3['TAZCE10'] = ctpp_jobs3['WORKPLACE'].str[4:12]"
   ]
  },
  {
   "cell_type": "code",
   "execution_count": 9,
   "id": "ecbf88e0-bae9-4403-8e0d-5f52e931ab3a",
   "metadata": {},
   "outputs": [],
   "source": [
    "Join_Jobs_Boundaries=pd.merge(all_boundaries, ctpp_jobs3, on='TAZCE10', how='left')"
   ]
  },
  {
   "cell_type": "code",
   "execution_count": 10,
   "id": "02cc90f5-e75f-40c2-9430-f819c8035e0b",
   "metadata": {},
   "outputs": [
    {
     "data": {
      "text/plain": [
       "<Axes: >"
      ]
     },
     "execution_count": 10,
     "metadata": {},
     "output_type": "execute_result"
    },
    {
     "data": {
      "image/png": "[encoded data removed]",
      "text/plain": [
       "<Figure size 640x480 with 1 Axes>"
      ]
     },
     "metadata": {},
     "output_type": "display_data"
    }
   ],
   "source": [
    "Join_Jobs_Boundaries.plot(column = 'Workers 16 and Over')"
   ]
  },
  {
   "cell_type": "markdown",
   "id": "ad549527-240a-41e3-bc3d-6f099914ccc0",
   "metadata": {},
   "source": [
    "* Change the crs of the combined jobs-boundaries to match with the walksheds\n",
    "* Create a column with the the full area of each TAZ\n",
    "* Intersect the walksheds with the boundaries\n",
    "* Create a column with the partial area of each TAZ after the intersection"
   ]
  },
  {
   "cell_type": "code",
   "execution_count": 11,
   "id": "29231a6e-4727-4574-bda3-321f342319fd",
   "metadata": {},
   "outputs": [],
   "source": [
    "Join_Jobs_Boundaries = Join_Jobs_Boundaries.to_crs(wksp5.crs)"
   ]
  },
  {
   "cell_type": "code",
   "execution_count": 12,
   "id": "bc500d66-97b7-4b1f-903f-14a8e87d45e4",
   "metadata": {
    "colab": {
     "base_uri": "https://localhost:8080/"
    },
    "executionInfo": {
     "elapsed": 147,
     "status": "ok",
     "timestamp": 1684385989937,
     "user": {
      "displayName": "Janna Chapman",
      "userId": "03316905486439216008"
     },
     "user_tz": 240
    },
    "id": "CoAlPHqax0ky",
    "outputId": "64687c75-0fd7-49e1-ea8d-58cf3863df28"
   },
   "outputs": [],
   "source": [
    "Join_Jobs_Boundaries['fullarea'] = Join_Jobs_Boundaries.area # square meter; blocks' areas"
   ]
  },
  {
   "cell_type": "code",
   "execution_count": 13,
   "id": "75bc372e-a582-4e1e-81dc-25fa3a98f804",
   "metadata": {},
   "outputs": [],
   "source": [
    "intp5_stations_Jobs, intp75_stations_Jobs = overlay_wks(Join_Jobs_Boundaries)"
   ]
  },
  {
   "cell_type": "code",
   "execution_count": 14,
   "id": "13058c5e-daea-4a52-9c74-176572c11ed3",
   "metadata": {
    "colab": {
     "base_uri": "https://localhost:8080/"
    },
    "executionInfo": {
     "elapsed": 159,
     "status": "ok",
     "timestamp": 1684386499757,
     "user": {
      "displayName": "Janna Chapman",
      "userId": "03316905486439216008"
     },
     "user_tz": 240
    },
    "id": "UdgzWqEOQP7C",
    "outputId": "421c11b3-023b-43ca-ad72-cc167f001e50"
   },
   "outputs": [],
   "source": [
    "intp5_stations_Jobs['partialarea'] = intp5_stations_Jobs.area  # each block is within which specific walkshedbuffer\n",
    "intp75_stations_Jobs['partialarea'] = intp75_stations_Jobs.area  "
   ]
  },
  {
   "cell_type": "markdown",
   "id": "fd9a98b5-39ed-46b5-85db-1f9bfc952246",
   "metadata": {},
   "source": [
    "* Remove extra strings from the station names\n",
    "* Convert the number of workers from a string to an integer by removing the commas and apply the integer type\n",
    "* Group the intersected walksheds and TAZ boundaries by the station names and sum the number of workers"
   ]
  },
  {
   "cell_type": "code",
   "execution_count": 15,
   "id": "e9121169-cb5b-4af1-a48c-3e418ef6a00a",
   "metadata": {},
   "outputs": [],
   "source": [
    "intp5_stations_Jobs['Workers 16 and Over'] = intp5_stations_Jobs['Workers 16 and Over'].replace(',','', regex=True)\n",
    "intp5_stations_Jobs['Workers 16 and Over'] = intp5_stations_Jobs['Workers 16 and Over'].astype(int)\n",
    "\n",
    "intp75_stations_Jobs['Workers 16 and Over'] = intp75_stations_Jobs['Workers 16 and Over'].replace(',','', regex=True)\n",
    "intp75_stations_Jobs['Workers 16 and Over'] = intp75_stations_Jobs['Workers 16 and Over'].astype(int)"
   ]
  },
  {
   "cell_type": "code",
   "execution_count": 16,
   "id": "59ab5a4a-b44b-4ff5-877c-c19b63093432",
   "metadata": {},
   "outputs": [],
   "source": [
    "Sum_job_bufstation_p5 = intp5_stations_Jobs.groupby(['Name_1'])[['Workers 16 and Over']].apply(sum)   \n",
    "Sum_job_bufstation_p75 = intp75_stations_Jobs.groupby(['Name_1'])[['Workers 16 and Over']].apply(sum)   "
   ]
  },
  {
   "cell_type": "code",
   "execution_count": 17,
   "id": "5181a406-086f-4523-ae95-88779abb10b1",
   "metadata": {},
   "outputs": [
    {
     "data": {
      "image/png": "[encoded data removed]",
      "text/plain": [
       "<Figure size 640x480 with 1 Axes>"
      ]
     },
     "metadata": {},
     "output_type": "display_data"
    }
   ],
   "source": [
    "plt.hist(Sum_job_bufstation_p5['Workers 16 and Over'])\n",
    "plt.title(\"CTPP Worker Counts @ 0.5 mile walkshed\");"
   ]
  },
  {
   "cell_type": "code",
   "execution_count": 18,
   "id": "1b84415e-5b07-43fa-bd05-9c04533b3746",
   "metadata": {},
   "outputs": [
    {
     "data": {
      "image/png": "[encoded data removed]",
      "text/plain": [
       "<Figure size 640x480 with 1 Axes>"
      ]
     },
     "metadata": {},
     "output_type": "display_data"
    }
   ],
   "source": [
    "plt.hist(Sum_job_bufstation_p75['Workers 16 and Over'])\n",
    "plt.title(\"CTPP Worker Counts @ 0.75 mile walkshed\");"
   ]
  },
  {
   "cell_type": "markdown",
   "id": "9de918be-4c4c-4ec4-8c3d-d49ffa2bc838",
   "metadata": {},
   "source": [
    "* Create the multiplier to get the percent full TAZ area within a walkshed\n",
    "* Multiply the multiplier by the number of workers\n",
    "* Reset the index\n",
    "* Create a column of old station names in the mstns dataframe for easy merging\n",
    "* Merge the mstn ids to the jobs\n",
    "* Export to Excel"
   ]
  },
  {
   "cell_type": "code",
   "execution_count": 19,
   "id": "5d33c6a4-ac74-4785-b2d3-8a27014b5a7d",
   "metadata": {
    "colab": {
     "base_uri": "https://localhost:8080/"
    },
    "executionInfo": {
     "elapsed": 264,
     "status": "ok",
     "timestamp": 1684386563963,
     "user": {
      "displayName": "Janna Chapman",
      "userId": "03316905486439216008"
     },
     "user_tz": 240
    },
    "id": "WzJtBK4nPC_E",
    "outputId": "7bc1397a-33de-4420-e35e-d637811623c0",
    "scrolled": true,
    "tags": []
   },
   "outputs": [],
   "source": [
    "totalarea_station_p5 = intp5_stations_Jobs.groupby(['Name_1'])[['fullarea']].apply(sum)\n",
    "partialarea_station_p5 = intp5_stations_Jobs.groupby(['Name_1'])[['partialarea']].apply(sum)\n",
    "multiplier_p5 = partialarea_station_p5['partialarea']/totalarea_station_p5['fullarea']\n",
    "\n",
    "\n",
    "totalarea_station_p75 = intp75_stations_Jobs.groupby(['Name_1'])[['fullarea']].apply(sum)\n",
    "partialarea_station_p75 = intp75_stations_Jobs.groupby(['Name_1'])[['partialarea']].apply(sum)\n",
    "multiplier_p75 = partialarea_station_p75['partialarea']/totalarea_station_p75['fullarea']"
   ]
  },
  {
   "cell_type": "code",
   "execution_count": 20,
   "id": "371968fd-c81c-4bee-a12f-36bc9b9d4d6d",
   "metadata": {
    "colab": {
     "base_uri": "https://localhost:8080/",
     "height": 1000
    },
    "executionInfo": {
     "elapsed": 110,
     "status": "ok",
     "timestamp": 1684386605037,
     "user": {
      "displayName": "Janna Chapman",
      "userId": "03316905486439216008"
     },
     "user_tz": 240
    },
    "id": "OEQiE-RQPJcH",
    "outputId": "9893425a-3ba7-48ef-b9d3-d406c22058ea",
    "tags": []
   },
   "outputs": [],
   "source": [
    "Sum_job_bufstation_p5['proportionjobs'] = Sum_job_bufstation_p5.multiply(multiplier_p5, axis=\"index\")\n",
    "\n",
    "Sum_job_bufstation_p75['proportionjobs'] = Sum_job_bufstation_p75.multiply(multiplier_p75, axis=\"index\")\n"
   ]
  },
  {
   "cell_type": "code",
   "execution_count": 21,
   "id": "96dbf3bc-f909-49fc-8ca0-87e6f12e2064",
   "metadata": {},
   "outputs": [
    {
     "data": {
      "text/html": [
       "<div>\n",
       "<style scoped>\n",
       "    .dataframe tbody tr th:only-of-type {\n",
       "        vertical-align: middle;\n",
       "    }\n",
       "\n",
       "    .dataframe tbody tr th {\n",
       "        vertical-align: top;\n",
       "    }\n",
       "\n",
       "    .dataframe thead th {\n",
       "        text-align: right;\n",
       "    }\n",
       "</style>\n",
       "<table border=\"1\" class=\"dataframe\">\n",
       "  <thead>\n",
       "    <tr style=\"text-align: right;\">\n",
       "      <th></th>\n",
       "      <th>Workers 16 and Over</th>\n",
       "      <th>proportionjobs</th>\n",
       "    </tr>\n",
       "    <tr>\n",
       "      <th>Name_1</th>\n",
       "      <th></th>\n",
       "      <th></th>\n",
       "    </tr>\n",
       "  </thead>\n",
       "  <tbody>\n",
       "    <tr>\n",
       "      <th>ADDISON ROAD-SEAT PLEASANT</th>\n",
       "      <td>1030</td>\n",
       "      <td>116.608128</td>\n",
       "    </tr>\n",
       "    <tr>\n",
       "      <th>ANACOSTIA</th>\n",
       "      <td>9715</td>\n",
       "      <td>1763.609330</td>\n",
       "    </tr>\n",
       "    <tr>\n",
       "      <th>ARCHIVES-NAVY MEMORIAL-PENN QUARTER</th>\n",
       "      <td>122395</td>\n",
       "      <td>56593.758076</td>\n",
       "    </tr>\n",
       "    <tr>\n",
       "      <th>ARLINGTON CEMETERY</th>\n",
       "      <td>295</td>\n",
       "      <td>35.889127</td>\n",
       "    </tr>\n",
       "    <tr>\n",
       "      <th>Ashburn</th>\n",
       "      <td>2790</td>\n",
       "      <td>278.607874</td>\n",
       "    </tr>\n",
       "    <tr>\n",
       "      <th>...</th>\n",
       "      <td>...</td>\n",
       "      <td>...</td>\n",
       "    </tr>\n",
       "    <tr>\n",
       "      <th>WHEATON</th>\n",
       "      <td>5990</td>\n",
       "      <td>1113.074724</td>\n",
       "    </tr>\n",
       "    <tr>\n",
       "      <th>WHITE FLINT</th>\n",
       "      <td>22075</td>\n",
       "      <td>2795.719321</td>\n",
       "    </tr>\n",
       "    <tr>\n",
       "      <th>WIEHLE-RESTON EAST</th>\n",
       "      <td>26325</td>\n",
       "      <td>1874.284731</td>\n",
       "    </tr>\n",
       "    <tr>\n",
       "      <th>WOODLEY PARK-ZOO/ADAMS MORGAN</th>\n",
       "      <td>7460</td>\n",
       "      <td>2435.708161</td>\n",
       "    </tr>\n",
       "    <tr>\n",
       "      <th>Washington Dulles International Airport</th>\n",
       "      <td>10875</td>\n",
       "      <td>53.859931</td>\n",
       "    </tr>\n",
       "  </tbody>\n",
       "</table>\n",
       "<p>97 rows × 2 columns</p>\n",
       "</div>"
      ],
      "text/plain": [
       "                                         Workers 16 and Over  proportionjobs\n",
       "Name_1                                                                      \n",
       "ADDISON ROAD-SEAT PLEASANT                              1030      116.608128\n",
       "ANACOSTIA                                               9715     1763.609330\n",
       "ARCHIVES-NAVY MEMORIAL-PENN QUARTER                   122395    56593.758076\n",
       "ARLINGTON CEMETERY                                       295       35.889127\n",
       "Ashburn                                                 2790      278.607874\n",
       "...                                                      ...             ...\n",
       "WHEATON                                                 5990     1113.074724\n",
       "WHITE FLINT                                            22075     2795.719321\n",
       "WIEHLE-RESTON EAST                                     26325     1874.284731\n",
       "WOODLEY PARK-ZOO/ADAMS MORGAN                           7460     2435.708161\n",
       "Washington Dulles International Airport                10875       53.859931\n",
       "\n",
       "[97 rows x 2 columns]"
      ]
     },
     "execution_count": 21,
     "metadata": {},
     "output_type": "execute_result"
    }
   ],
   "source": [
    "Sum_job_bufstation_p5"
   ]
  },
  {
   "cell_type": "code",
   "execution_count": 22,
   "id": "d25e630f-7ab7-4343-978e-14520fe25087",
   "metadata": {},
   "outputs": [],
   "source": [
    "Sum_job_bufstation_p5.reset_index(inplace=True)\n",
    "Sum_job_bufstation_p75.reset_index(inplace=True)"
   ]
  },
  {
   "cell_type": "code",
   "execution_count": 23,
   "id": "ce312fa7-d96e-4a5e-8830-6b686f109027",
   "metadata": {},
   "outputs": [],
   "source": [
    "mstns.sort_values(by = 'PRIMARY_NAME_FY23',inplace=True)\n",
    "mstns['walkshed_filename'] = ['ADDISON ROAD-SEAT PLEASANT','ANACOSTIA','ARCHIVES-NAVY MEMORIAL-PENN QUARTER','ARLINGTON CEMETERY','Ashburn','BALLSTON-MU',\n",
    "                              'BENNING ROAD','BETHESDA','BRADDOCK ROAD','BRANCH AVE','BROOKLAND-CUA','CAPITOL HEIGHTS','CAPITOL SOUTH','CHEVERLY',\n",
    "                              'CLARENDON','CLEVELAND PARK','COLLEGE PARK-U OF MD','COLUMBIA HEIGHTS','CONGRESS HEIGHTS','COURT HOUSE','CRYSTAL CITY',\n",
    "                              'DEANWOOD','LARGO TOWN CENTER','Washington Dulles International Airport', 'DUNN LORING-MERRIFIELD','DUPONT CIRCLE','EAST FALLS CHURCH','EASTERN MARKET','EISENHOWER AVENUE','FARRAGUT NORTH',\n",
    "                              'FARRAGUT WEST','FEDERAL CENTER SW','FEDERAL TRIANGLE','FOGGY BOTTOM-GWU','FOREST GLEN','FORT TOTTEN','FRANCONIA-SPRINGFIELD',\n",
    "                              'FRIENDSHIP HEIGHTS','GALLERY PL-CHINATOWN','GEORGIA AVE-PETWORTH','GLENMONT','GREENBELT','GREENSBORO','GROSVENOR-STRATHMORE',\n",
    "                              'Herndon','HUNTINGTON',\"PRINCE GEORGE'S PLAZA\",'Innovation Center','JUDICIARY SQUARE','KING ST-OLD TOWN',\"L'ENFANT PLAZA\",'LANDOVER',\n",
    "                              'Loudoun Gateway','MCLEAN','MCPHERSON SQUARE','MEDICAL CENTER','METRO CENTER','MINNESOTA AVE','MORGAN BOULEVARD',\n",
    "                              'MT VERNON SQ 7TH ST-CONVENTION CENTER','NAVY YARD-BALLPARK','NAYLOR ROAD','NEW CARROLLTON','NOMA-GALLAUDET','WHITE FLINT','PENTAGON',\n",
    "                              'PENTAGON CITY','POTOMAC AVE', \"\",'Reston Town Center','RHODE ISLAND AVE-BRENTWOOD','ROCKVILLE','RONALD REAGAN WASHINGTON NATIONAL AIRPORT',\n",
    "                              'ROSSLYN','SHADY GROVE','SHAW-HOWARD U','SILVER SPRING','SMITHSONIAN','SOUTHERN AVENUE','SPRING HILL',\n",
    "                              'STADIUM-ARMORY','SUITLAND','TAKOMA','TENLEYTOWN-AU','TWINBROOK','TYSONS CORNER','U STREET/AFRICAN-AMER CIVIL WAR MEMORIAL/CARDOZO',\n",
    "                              'UNION STATION','VAN DORN STREET','VAN NESS-UDC','VIENNA/FAIRFAX-GMU','VIRGINIA SQUARE-GMU','WATERFRONT','WEST FALLS CHURCH-VT/UVA',\n",
    "                              'WEST HYATTSVILLE','WHEATON','WIEHLE-RESTON EAST','WOODLEY PARK-ZOO/ADAMS MORGAN',]"
   ]
  },
  {
   "cell_type": "code",
   "execution_count": 24,
   "id": "0af6e47a-e4c9-4c6b-ac63-3cdb9915cb17",
   "metadata": {},
   "outputs": [],
   "source": [
    "jobs_mstns_p5 = mstns.merge(Sum_job_bufstation_p5, left_on = 'walkshed_filename', right_on='Name_1')\n",
    "jobs_mstns_p75 = mstns.merge(Sum_job_bufstation_p75, left_on = 'walkshed_filename', right_on='Name_1')"
   ]
  },
  {
   "cell_type": "code",
   "execution_count": 25,
   "id": "403731fb-2173-42cc-8cf4-14601c81ab8b",
   "metadata": {},
   "outputs": [
    {
     "data": {
      "text/html": [
       "<div>\n",
       "<style scoped>\n",
       "    .dataframe tbody tr th:only-of-type {\n",
       "        vertical-align: middle;\n",
       "    }\n",
       "\n",
       "    .dataframe tbody tr th {\n",
       "        vertical-align: top;\n",
       "    }\n",
       "\n",
       "    .dataframe thead th {\n",
       "        text-align: right;\n",
       "    }\n",
       "</style>\n",
       "<table border=\"1\" class=\"dataframe\">\n",
       "  <thead>\n",
       "    <tr style=\"text-align: right;\">\n",
       "      <th></th>\n",
       "      <th>ID</th>\n",
       "      <th>PRIMARY_NAME_FY23</th>\n",
       "      <th>walkshed_filename</th>\n",
       "      <th>Name_1</th>\n",
       "      <th>Workers 16 and Over</th>\n",
       "      <th>proportionjobs</th>\n",
       "    </tr>\n",
       "  </thead>\n",
       "  <tbody>\n",
       "    <tr>\n",
       "      <th>0</th>\n",
       "      <td>MSTN_062</td>\n",
       "      <td>Addison Road</td>\n",
       "      <td>ADDISON ROAD-SEAT PLEASANT</td>\n",
       "      <td>ADDISON ROAD-SEAT PLEASANT</td>\n",
       "      <td>1030</td>\n",
       "      <td>116.608128</td>\n",
       "    </tr>\n",
       "    <tr>\n",
       "      <th>1</th>\n",
       "      <td>MSTN_001</td>\n",
       "      <td>Anacostia</td>\n",
       "      <td>ANACOSTIA</td>\n",
       "      <td>ANACOSTIA</td>\n",
       "      <td>9715</td>\n",
       "      <td>1763.609330</td>\n",
       "    </tr>\n",
       "    <tr>\n",
       "      <th>2</th>\n",
       "      <td>MSTN_002</td>\n",
       "      <td>Archives</td>\n",
       "      <td>ARCHIVES-NAVY MEMORIAL-PENN QUARTER</td>\n",
       "      <td>ARCHIVES-NAVY MEMORIAL-PENN QUARTER</td>\n",
       "      <td>122395</td>\n",
       "      <td>56593.758076</td>\n",
       "    </tr>\n",
       "    <tr>\n",
       "      <th>3</th>\n",
       "      <td>MSTN_065</td>\n",
       "      <td>Arlington Cemetery</td>\n",
       "      <td>ARLINGTON CEMETERY</td>\n",
       "      <td>ARLINGTON CEMETERY</td>\n",
       "      <td>295</td>\n",
       "      <td>35.889127</td>\n",
       "    </tr>\n",
       "    <tr>\n",
       "      <th>4</th>\n",
       "      <td>MSTN_097</td>\n",
       "      <td>Ashburn</td>\n",
       "      <td>Ashburn</td>\n",
       "      <td>Ashburn</td>\n",
       "      <td>2790</td>\n",
       "      <td>278.607874</td>\n",
       "    </tr>\n",
       "    <tr>\n",
       "      <th>...</th>\n",
       "      <td>...</td>\n",
       "      <td>...</td>\n",
       "      <td>...</td>\n",
       "      <td>...</td>\n",
       "      <td>...</td>\n",
       "      <td>...</td>\n",
       "    </tr>\n",
       "    <tr>\n",
       "      <th>92</th>\n",
       "      <td>MSTN_059</td>\n",
       "      <td>West Falls Church</td>\n",
       "      <td>WEST FALLS CHURCH-VT/UVA</td>\n",
       "      <td>WEST FALLS CHURCH-VT/UVA</td>\n",
       "      <td>5815</td>\n",
       "      <td>496.849341</td>\n",
       "    </tr>\n",
       "    <tr>\n",
       "      <th>93</th>\n",
       "      <td>MSTN_055</td>\n",
       "      <td>West Hyattsville</td>\n",
       "      <td>WEST HYATTSVILLE</td>\n",
       "      <td>WEST HYATTSVILLE</td>\n",
       "      <td>2065</td>\n",
       "      <td>468.220423</td>\n",
       "    </tr>\n",
       "    <tr>\n",
       "      <th>94</th>\n",
       "      <td>MSTN_046</td>\n",
       "      <td>Wheaton</td>\n",
       "      <td>WHEATON</td>\n",
       "      <td>WHEATON</td>\n",
       "      <td>5990</td>\n",
       "      <td>1113.074724</td>\n",
       "    </tr>\n",
       "    <tr>\n",
       "      <th>95</th>\n",
       "      <td>MSTN_091</td>\n",
       "      <td>Wiehle-Reston East</td>\n",
       "      <td>WIEHLE-RESTON EAST</td>\n",
       "      <td>WIEHLE-RESTON EAST</td>\n",
       "      <td>26325</td>\n",
       "      <td>1874.284731</td>\n",
       "    </tr>\n",
       "    <tr>\n",
       "      <th>96</th>\n",
       "      <td>MSTN_040</td>\n",
       "      <td>Woodley Park</td>\n",
       "      <td>WOODLEY PARK-ZOO/ADAMS MORGAN</td>\n",
       "      <td>WOODLEY PARK-ZOO/ADAMS MORGAN</td>\n",
       "      <td>7460</td>\n",
       "      <td>2435.708161</td>\n",
       "    </tr>\n",
       "  </tbody>\n",
       "</table>\n",
       "<p>97 rows × 6 columns</p>\n",
       "</div>"
      ],
      "text/plain": [
       "          ID   PRIMARY_NAME_FY23                    walkshed_filename  \\\n",
       "0   MSTN_062        Addison Road           ADDISON ROAD-SEAT PLEASANT   \n",
       "1   MSTN_001           Anacostia                            ANACOSTIA   \n",
       "2   MSTN_002            Archives  ARCHIVES-NAVY MEMORIAL-PENN QUARTER   \n",
       "3   MSTN_065  Arlington Cemetery                   ARLINGTON CEMETERY   \n",
       "4   MSTN_097             Ashburn                              Ashburn   \n",
       "..       ...                 ...                                  ...   \n",
       "92  MSTN_059   West Falls Church             WEST FALLS CHURCH-VT/UVA   \n",
       "93  MSTN_055    West Hyattsville                     WEST HYATTSVILLE   \n",
       "94  MSTN_046             Wheaton                              WHEATON   \n",
       "95  MSTN_091  Wiehle-Reston East                   WIEHLE-RESTON EAST   \n",
       "96  MSTN_040        Woodley Park        WOODLEY PARK-ZOO/ADAMS MORGAN   \n",
       "\n",
       "                                 Name_1  Workers 16 and Over  proportionjobs  \n",
       "0            ADDISON ROAD-SEAT PLEASANT                 1030      116.608128  \n",
       "1                             ANACOSTIA                 9715     1763.609330  \n",
       "2   ARCHIVES-NAVY MEMORIAL-PENN QUARTER               122395    56593.758076  \n",
       "3                    ARLINGTON CEMETERY                  295       35.889127  \n",
       "4                               Ashburn                 2790      278.607874  \n",
       "..                                  ...                  ...             ...  \n",
       "92             WEST FALLS CHURCH-VT/UVA                 5815      496.849341  \n",
       "93                     WEST HYATTSVILLE                 2065      468.220423  \n",
       "94                              WHEATON                 5990     1113.074724  \n",
       "95                   WIEHLE-RESTON EAST                26325     1874.284731  \n",
       "96        WOODLEY PARK-ZOO/ADAMS MORGAN                 7460     2435.708161  \n",
       "\n",
       "[97 rows x 6 columns]"
      ]
     },
     "execution_count": 25,
     "metadata": {},
     "output_type": "execute_result"
    }
   ],
   "source": [
    "jobs_mstns_p5"
   ]
  },
  {
   "cell_type": "code",
   "execution_count": 26,
   "id": "aedd2d3f-6086-4082-b03b-916ae412326e",
   "metadata": {},
   "outputs": [],
   "source": [
    "\n",
    "jobs_mstns_p5.rename(columns={'Workers 16 and Over':'Workers 16 and Over_p5', \n",
    "                              'proportionjobs': 'proportionjobs_p5' }).to_csv('output/CTPP_jobs_p5.csv', index=False)"
   ]
  },
  {
   "cell_type": "code",
   "execution_count": 27,
   "id": "b1e0f52d-762b-49ff-940b-d1ffc474a53e",
   "metadata": {},
   "outputs": [],
   "source": [
    "jobs_mstns_p75.rename(columns={'Workers 16 and Over':'Workers 16 and Over_p75', \n",
    "                              'proportionjobs': 'proportionjobs_p75' }).to_csv('output/CTPP_jobs_p75.csv', index=False)"
   ]
  },
  {
   "cell_type": "code",
   "execution_count": null,
   "id": "8fceb419-c158-4efb-9422-25b178654c28",
   "metadata": {},
   "outputs": [],
   "source": []
  },
  {
   "cell_type": "code",
   "execution_count": null,
   "id": "774eec49-afd3-42b0-b909-8bad957c5a88",
   "metadata": {},
   "outputs": [],
   "source": []
  }
 ],
 "metadata": {
  "kernelspec": {
   "display_name": "Python 3 (ipykernel)",
   "language": "python",
   "name": "python3"
  },
  "language_info": {
   "codemirror_mode": {
    "name": "ipython",
    "version": 3
   },
   "file_extension": ".py",
   "mimetype": "text/x-python",
   "name": "python",
   "nbconvert_exporter": "python",
   "pygments_lexer": "ipython3",
   "version": "3.12.0"
  }
 },
 "nbformat": 4,
 "nbformat_minor": 5
}
