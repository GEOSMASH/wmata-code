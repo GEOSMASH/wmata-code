{
 "cells": [
  {
   "cell_type": "code",
   "execution_count": 1,
   "id": "b37f9834",
   "metadata": {
    "colab": {
     "base_uri": "https://localhost:8080/"
    },
    "executionInfo": {
     "elapsed": 20094,
     "status": "ok",
     "timestamp": 1684436634122,
     "user": {
      "displayName": "Janna Chapman",
      "userId": "03316905486439216008"
     },
     "user_tz": 240
    },
    "id": "b37f9834",
    "outputId": "693ff4ac-6589-4c96-c7b5-60e22a43ded8"
   },
   "outputs": [],
   "source": [
    "import geopandas as gpd\n",
    "import matplotlib.pyplot as plt\n",
    "import pandas as pd\n",
    "import numpy as np\n",
    "import openpyxl\n",
    "import warnings\n",
    "warnings.filterwarnings('ignore')\n",
    "from geopandas.tools import overlay"
   ]
  },
  {
   "cell_type": "markdown",
   "id": "5145bdef",
   "metadata": {},
   "source": [
    "#### Read in shapefiles\n"
   ]
  },
  {
   "cell_type": "markdown",
   "id": "a82099a3",
   "metadata": {},
   "source": [
    "- entrances is data on rail station entrances for the study area\n",
    "- walskhedbuffer is the Metro station walksheds with overlapping boundaries\n",
    "- all_boundaries is shapefile of counties that metro lines passed from them\n",
    "- read data of jobs for MD, DC, VA"
   ]
  },
  {
   "cell_type": "code",
   "execution_count": 2,
   "id": "daac9c5f",
   "metadata": {
    "executionInfo": {
     "elapsed": 39110,
     "status": "ok",
     "timestamp": 1684437361106,
     "user": {
      "displayName": "Janna Chapman",
      "userId": "03316905486439216008"
     },
     "user_tz": 240
    },
    "id": "daac9c5f"
   },
   "outputs": [],
   "source": [
    "entrances = gpd.read_file('../../Data/RailStationEntrances2023.zip')\n",
    "walkshedbuffer = gpd.read_file('../../Data/unions/Union_walkshades.shp')\n",
    "all_boundaries= gpd.read_file('../../Data/Merge Boundaries/MD_DC_VA/Block MD_DC_VA.shp')\n",
    "Alljobs_MDDCVA = pd.read_excel('../../Data/AlljobMDDCVA.xlsx')"
   ]
  },
  {
   "cell_type": "markdown",
   "id": "13a1afe1",
   "metadata": {},
   "source": [
    "#### Preprocessing"
   ]
  },
  {
   "cell_type": "markdown",
   "id": "78ed802b",
   "metadata": {},
   "source": [
    "- Bring the shapefiles into common cordinate system\n",
    "- rename w_geocode of job's table to GEOID20, ID name in block shapefile of DC, MD, VA\n",
    "- Join jobs to boundary of case study, use outer to keep stations if they have not any similarity on GeoID "
   ]
  },
  {
   "cell_type": "code",
   "execution_count": 3,
   "id": "0c4bd795",
   "metadata": {
    "executionInfo": {
     "elapsed": 222599,
     "status": "ok",
     "timestamp": 1684437585161,
     "user": {
      "displayName": "Janna Chapman",
      "userId": "03316905486439216008"
     },
     "user_tz": 240
    },
    "id": "0c4bd795"
   },
   "outputs": [],
   "source": [
    "#walkshedbuffer = walkshedbuffer.to_crs('EPSG:4326')\n",
    "entrances = entrances.to_crs(walkshedbuffer.crs)\n",
    "all_boundaries =all_boundaries.to_crs(walkshedbuffer.crs)"
   ]
  },
  {
   "cell_type": "code",
   "execution_count": 4,
   "id": "07d572bf",
   "metadata": {
    "executionInfo": {
     "elapsed": 27,
     "status": "ok",
     "timestamp": 1684437661912,
     "user": {
      "displayName": "Janna Chapman",
      "userId": "03316905486439216008"
     },
     "user_tz": 240
    },
    "id": "07d572bf"
   },
   "outputs": [],
   "source": [
    "Alljobs_MDDCVA.rename(columns = {'w_geocode':'GEOID20'}, inplace = True)\n",
    "Alljobs_MDDCVA.rename(columns = {'CNS15':'education_jobs'}, inplace = True)"
   ]
  },
  {
   "cell_type": "code",
   "execution_count": 5,
   "id": "8f02a971",
   "metadata": {
    "executionInfo": {
     "elapsed": 25,
     "status": "ok",
     "timestamp": 1684437661913,
     "user": {
      "displayName": "Janna Chapman",
      "userId": "03316905486439216008"
     },
     "user_tz": 240
    },
    "id": "8f02a971"
   },
   "outputs": [],
   "source": [
    "Alljobs_MDDCVA[\"GEOID20\"]= Alljobs_MDDCVA[\"GEOID20\"].astype('str')"
   ]
  },
  {
   "cell_type": "code",
   "execution_count": 6,
   "id": "bdb21602",
   "metadata": {
    "executionInfo": {
     "elapsed": 472,
     "status": "ok",
     "timestamp": 1684437919156,
     "user": {
      "displayName": "Janna Chapman",
      "userId": "03316905486439216008"
     },
     "user_tz": 240
    },
    "id": "bdb21602"
   },
   "outputs": [],
   "source": [
    "Join_Jobs_Boundaries=pd.merge(all_boundaries,Alljobs_MDDCVA, on=\"GEOID20\", how='left')"
   ]
  },
  {
   "cell_type": "code",
   "execution_count": 7,
   "id": "4efaa331",
   "metadata": {
    "colab": {
     "base_uri": "https://localhost:8080/"
    },
    "executionInfo": {
     "elapsed": 165,
     "status": "ok",
     "timestamp": 1684437931497,
     "user": {
      "displayName": "Janna Chapman",
      "userId": "03316905486439216008"
     },
     "user_tz": 240
    },
    "id": "4efaa331",
    "outputId": "84558d4d-a8c1-4fef-fbc5-ab71dc8d6117"
   },
   "outputs": [],
   "source": [
    "#Join_Jobs_Boundaries = Join_Jobs_Boundaries.to_crs ('EPSG:4326')\n",
    "Join_Jobs_Boundaries['fullarea'] = Join_Jobs_Boundaries.area"
   ]
  },
  {
   "cell_type": "markdown",
   "id": "bf3985f7",
   "metadata": {},
   "source": [
    "- intersect buffer of metro stations 0.5 miles with job boundaries\n",
    "- find the partial area of the intersected boundaries to get the proportional area\n"
   ]
  },
  {
   "cell_type": "code",
   "execution_count": 8,
   "id": "da68068c",
   "metadata": {
    "executionInfo": {
     "elapsed": 1899,
     "status": "ok",
     "timestamp": 1684437939448,
     "user": {
      "displayName": "Janna Chapman",
      "userId": "03316905486439216008"
     },
     "user_tz": 240
    },
    "id": "da68068c"
   },
   "outputs": [],
   "source": [
    "##intersect_stations_Jobs = overlay(stationsBuffer_half_miles, Join_Jobs_Boundaries, how=\"intersection\")\n",
    "intersect_stations_Jobs = walkshedbuffer. overlay(Join_Jobs_Boundaries, how=\"intersection\")"
   ]
  },
  {
   "cell_type": "code",
   "execution_count": 9,
   "id": "cx548Bv2UzRz",
   "metadata": {
    "colab": {
     "base_uri": "https://localhost:8080/"
    },
    "executionInfo": {
     "elapsed": 161,
     "status": "ok",
     "timestamp": 1684438054268,
     "user": {
      "displayName": "Janna Chapman",
      "userId": "03316905486439216008"
     },
     "user_tz": 240
    },
    "id": "cx548Bv2UzRz",
    "outputId": "f2d854e0-2f07-4678-f180-67d535672675"
   },
   "outputs": [],
   "source": [
    "intersect_stations_Jobs['partialarea'] = intersect_stations_Jobs.area\n",
    "intersect_stations_Jobs['Name_1']=intersect_stations_Jobs['Name_1'].str.replace(' : 0 - 2640','')\n",
    "intersect_stations_Jobs['Name_1']=intersect_stations_Jobs['Name_1'].str.replace(' : 0 - 22.4525758392805','')"
   ]
  },
  {
   "cell_type": "code",
   "execution_count": 10,
   "id": "aa81c463",
   "metadata": {
    "executionInfo": {
     "elapsed": 136,
     "status": "ok",
     "timestamp": 1684438065464,
     "user": {
      "displayName": "Janna Chapman",
      "userId": "03316905486439216008"
     },
     "user_tz": 240
    },
    "id": "aa81c463"
   },
   "outputs": [],
   "source": [
    "### education job from LEHD WAC data in SLD tutorial: NAICS sector 61\n",
    "### these codes is CNS15\n",
    "\n",
    "sum_education_job_bufstation= intersect_stations_Jobs.groupby(['Name_1'])[['education_jobs']].apply(sum)\n",
    "   "
   ]
  },
  {
   "cell_type": "code",
   "execution_count": 11,
   "id": "kJ98f2_DVUNj",
   "metadata": {
    "colab": {
     "base_uri": "https://localhost:8080/"
    },
    "executionInfo": {
     "elapsed": 350,
     "status": "ok",
     "timestamp": 1684438254451,
     "user": {
      "displayName": "Janna Chapman",
      "userId": "03316905486439216008"
     },
     "user_tz": 240
    },
    "id": "kJ98f2_DVUNj",
    "outputId": "f6c75e10-898f-470a-833b-be75fd9f47e9"
   },
   "outputs": [],
   "source": [
    "totalarea_station = intersect_stations_Jobs.groupby(['Name_1'])[['fullarea']].apply(sum)\n",
    "partialarea_station = intersect_stations_Jobs.groupby(['Name_1'])[['partialarea']].apply(sum)\n",
    "multiplier = partialarea_station['partialarea']/totalarea_station['fullarea']"
   ]
  },
  {
   "cell_type": "code",
   "execution_count": 12,
   "id": "LwbLq6iOVslN",
   "metadata": {
    "colab": {
     "base_uri": "https://localhost:8080/",
     "height": 455
    },
    "executionInfo": {
     "elapsed": 13,
     "status": "ok",
     "timestamp": 1684438814112,
     "user": {
      "displayName": "Janna Chapman",
      "userId": "03316905486439216008"
     },
     "user_tz": 240
    },
    "id": "LwbLq6iOVslN",
    "outputId": "441a6a5a-f9d1-4c0a-d6b8-fb5602f5c1a2",
    "scrolled": true
   },
   "outputs": [
    {
     "data": {
      "text/html": [
       "<div>\n",
       "<style scoped>\n",
       "    .dataframe tbody tr th:only-of-type {\n",
       "        vertical-align: middle;\n",
       "    }\n",
       "\n",
       "    .dataframe tbody tr th {\n",
       "        vertical-align: top;\n",
       "    }\n",
       "\n",
       "    .dataframe thead th {\n",
       "        text-align: right;\n",
       "    }\n",
       "</style>\n",
       "<table border=\"1\" class=\"dataframe\">\n",
       "  <thead>\n",
       "    <tr style=\"text-align: right;\">\n",
       "      <th></th>\n",
       "      <th>Proportion_education_jobs</th>\n",
       "    </tr>\n",
       "    <tr>\n",
       "      <th>Name_1</th>\n",
       "      <th></th>\n",
       "    </tr>\n",
       "  </thead>\n",
       "  <tbody>\n",
       "    <tr>\n",
       "      <th>ADDISON ROAD-SEAT PLEASANT</th>\n",
       "      <td>0.000000</td>\n",
       "    </tr>\n",
       "    <tr>\n",
       "      <th>ANACOSTIA</th>\n",
       "      <td>415.476872</td>\n",
       "    </tr>\n",
       "    <tr>\n",
       "      <th>ARCHIVES-NAVY MEMORIAL-PENN QUARTER</th>\n",
       "      <td>0.000000</td>\n",
       "    </tr>\n",
       "    <tr>\n",
       "      <th>ARLINGTON CEMETERY</th>\n",
       "      <td>0.000000</td>\n",
       "    </tr>\n",
       "    <tr>\n",
       "      <th>Ashburn</th>\n",
       "      <td>19.444313</td>\n",
       "    </tr>\n",
       "    <tr>\n",
       "      <th>...</th>\n",
       "      <td>...</td>\n",
       "    </tr>\n",
       "    <tr>\n",
       "      <th>WHEATON</th>\n",
       "      <td>0.000000</td>\n",
       "    </tr>\n",
       "    <tr>\n",
       "      <th>WHITE FLINT</th>\n",
       "      <td>87.673365</td>\n",
       "    </tr>\n",
       "    <tr>\n",
       "      <th>WIEHLE-RESTON EAST</th>\n",
       "      <td>23.879434</td>\n",
       "    </tr>\n",
       "    <tr>\n",
       "      <th>WOODLEY PARK-ZOO/ADAMS MORGAN</th>\n",
       "      <td>217.771698</td>\n",
       "    </tr>\n",
       "    <tr>\n",
       "      <th>Washington Dulles International Airport</th>\n",
       "      <td>0.000000</td>\n",
       "    </tr>\n",
       "  </tbody>\n",
       "</table>\n",
       "<p>97 rows × 1 columns</p>\n",
       "</div>"
      ],
      "text/plain": [
       "                                         Proportion_education_jobs\n",
       "Name_1                                                            \n",
       "ADDISON ROAD-SEAT PLEASANT                                0.000000\n",
       "ANACOSTIA                                               415.476872\n",
       "ARCHIVES-NAVY MEMORIAL-PENN QUARTER                       0.000000\n",
       "ARLINGTON CEMETERY                                        0.000000\n",
       "Ashburn                                                  19.444313\n",
       "...                                                            ...\n",
       "WHEATON                                                   0.000000\n",
       "WHITE FLINT                                              87.673365\n",
       "WIEHLE-RESTON EAST                                       23.879434\n",
       "WOODLEY PARK-ZOO/ADAMS MORGAN                           217.771698\n",
       "Washington Dulles International Airport                   0.000000\n",
       "\n",
       "[97 rows x 1 columns]"
      ]
     },
     "execution_count": 12,
     "metadata": {},
     "output_type": "execute_result"
    }
   ],
   "source": [
    "proportion_jobs_walkstation = sum_education_job_bufstation.multiply(multiplier, axis=\"index\")\n",
    "proportion_jobs_walkstation.rename(columns={'education_jobs': 'Proportion_education_jobs'}, inplace=True)\n",
    "proportion_jobs_walkstation\n",
    "#proportion_jobs_walkstation.to_excel(\"..../Summation_educationjobs_bufstation/proportion_education_jobs_stations.xlsx\", sheet_name='num of education_jobs_stations', index=True)\n"
   ]
  },
  {
   "cell_type": "markdown",
   "id": "1c516800-d93a-41c7-b2e1-066d6f260899",
   "metadata": {
    "id": "75942632"
   },
   "source": [
    "#### Variable Comparison"
   ]
  },
  {
   "cell_type": "code",
   "execution_count": 3,
   "id": "a9041cc2-aeb3-4712-9109-15ac3352261e",
   "metadata": {},
   "outputs": [],
   "source": [
    "new = pd.read_excel('../../Data/zhila_dataframes/Dataframe_od_AM.xlsx')"
   ]
  },
  {
   "cell_type": "code",
   "execution_count": 6,
   "id": "8be1310f-dd0c-448f-9f31-ab6470d1b58d",
   "metadata": {
    "tags": []
   },
   "outputs": [],
   "source": [
    "new = new.merge(proportion_jobs_walkstation, left_on = 'STATIONNM.x', right_on = 'Name_1', how = 'left')"
   ]
  },
  {
   "cell_type": "code",
   "execution_count": 5,
   "id": "4a544019-2397-499a-9d95-1aa84a358a9f",
   "metadata": {},
   "outputs": [],
   "source": [
    "old = pd.read_excel('../../Data/2015_files/100_AM_Peak_Other_Regular_Riders.xlsx')"
   ]
  },
  {
   "cell_type": "code",
   "execution_count": 16,
   "id": "8f2d20e4-7150-4134-bf86-c9eb00908ffe",
   "metadata": {},
   "outputs": [],
   "source": [
    "new['pairs'] = new.apply(lambda x: str(x['MSTN_ID_o'])+str(0)+str(x['MSTN_ID_d']), axis=1)\n"
   ]
  },
  {
   "cell_type": "code",
   "execution_count": 17,
   "id": "68f71c16-02bd-4203-a763-dd8cfd356326",
   "metadata": {},
   "outputs": [],
   "source": [
    "old['pairs'] = old['odpair_mstn'].astype(str)"
   ]
  },
  {
   "cell_type": "code",
   "execution_count": 18,
   "id": "35b28ca9-c11d-4d41-9f86-ccd0030f018c",
   "metadata": {},
   "outputs": [],
   "source": [
    "newjob = new[['pairs', 'education_jobs_o', 'Proportion_education_jobs']]"
   ]
  },
  {
   "cell_type": "code",
   "execution_count": 19,
   "id": "51c62e58-9b8c-4984-aba4-ccf1605a3ef8",
   "metadata": {},
   "outputs": [],
   "source": [
    "oldjob = old[['pairs', 'SchoolsJobsUp_O']] "
   ]
  },
  {
   "cell_type": "code",
   "execution_count": 20,
   "id": "10492fac-9d25-47a2-a984-a8a294012e8f",
   "metadata": {},
   "outputs": [],
   "source": [
    "merged = oldjob.merge(newjob, left_on='pairs', right_on='pairs')"
   ]
  },
  {
   "cell_type": "code",
   "execution_count": 21,
   "id": "8c15769f-2e7c-499e-b33a-1c774e556633",
   "metadata": {},
   "outputs": [
    {
     "data": {
      "text/plain": [
       "<AxesSubplot: xlabel='SchoolsJobsUp_O', ylabel='education_jobs_o'>"
      ]
     },
     "execution_count": 21,
     "metadata": {},
     "output_type": "execute_result"
    },
    {
     "data": {
      "image/png": "[encoded data removed]",
      "text/plain": [
       "<Figure size 640x480 with 1 Axes>"
      ]
     },
     "metadata": {},
     "output_type": "display_data"
    }
   ],
   "source": [
    "# 2015 vs Zhila\n",
    "merged.plot('SchoolsJobsUp_O', 'education_jobs_o', kind='scatter')"
   ]
  },
  {
   "cell_type": "markdown",
   "id": "aba7f7ac",
   "metadata": {},
   "source": [
    "####  2015 vs 2023"
   ]
  },
  {
   "cell_type": "code",
   "execution_count": 22,
   "id": "38465fa0-0d48-4961-ba70-9ae1f06e44ce",
   "metadata": {},
   "outputs": [
    {
     "data": {
      "image/png": "[encoded data removed]",
      "text/plain": [
       "<Figure size 640x480 with 1 Axes>"
      ]
     },
     "metadata": {},
     "output_type": "display_data"
    }
   ],
   "source": [
    "merged.plot('SchoolsJobsUp_O', 'Proportion_education_jobs', kind='scatter');"
   ]
  },
  {
   "cell_type": "markdown",
   "id": "1beb5e09",
   "metadata": {},
   "source": [
    "####  2015 vs 2023"
   ]
  },
  {
   "cell_type": "code",
   "execution_count": 23,
   "id": "481d6622-afb8-44ae-866d-7e6a92162b78",
   "metadata": {},
   "outputs": [
    {
     "data": {
      "image/png": "[encoded data removed]",
      "text/plain": [
       "<Figure size 640x480 with 1 Axes>"
      ]
     },
     "metadata": {},
     "output_type": "display_data"
    }
   ],
   "source": [
    "merged.plot('education_jobs_o', 'Proportion_education_jobs', kind='scatter');"
   ]
  },
  {
   "cell_type": "code",
   "execution_count": 24,
   "id": "db8f07ef-b8df-4b38-b713-5fac2e0843a7",
   "metadata": {
    "tags": []
   },
   "outputs": [],
   "source": [
    "new = new.groupby('MSTN_ID_O').agg({'education_jobs_o':np.sum}).reset_index()"
   ]
  },
  {
   "cell_type": "code",
   "execution_count": 25,
   "id": "b627b1b1-563a-4ea3-a54b-5d1b195bf0b5",
   "metadata": {
    "tags": []
   },
   "outputs": [
    {
     "data": {
      "text/html": [
       "<div>\n",
       "<style scoped>\n",
       "    .dataframe tbody tr th:only-of-type {\n",
       "        vertical-align: middle;\n",
       "    }\n",
       "\n",
       "    .dataframe tbody tr th {\n",
       "        vertical-align: top;\n",
       "    }\n",
       "\n",
       "    .dataframe thead th {\n",
       "        text-align: right;\n",
       "    }\n",
       "</style>\n",
       "<table border=\"1\" class=\"dataframe\">\n",
       "  <thead>\n",
       "    <tr style=\"text-align: right;\">\n",
       "      <th></th>\n",
       "      <th>SchoolsJobsUp_O</th>\n",
       "    </tr>\n",
       "    <tr>\n",
       "      <th>mstn_id_o</th>\n",
       "      <th></th>\n",
       "    </tr>\n",
       "  </thead>\n",
       "  <tbody>\n",
       "    <tr>\n",
       "      <th>1</th>\n",
       "      <td>32536.000</td>\n",
       "    </tr>\n",
       "    <tr>\n",
       "      <th>2</th>\n",
       "      <td>11600.000</td>\n",
       "    </tr>\n",
       "    <tr>\n",
       "      <th>3</th>\n",
       "      <td>17098.000</td>\n",
       "    </tr>\n",
       "    <tr>\n",
       "      <th>4</th>\n",
       "      <td>395412.000</td>\n",
       "    </tr>\n",
       "    <tr>\n",
       "      <th>5</th>\n",
       "      <td>13904.000</td>\n",
       "    </tr>\n",
       "    <tr>\n",
       "      <th>...</th>\n",
       "      <td>...</td>\n",
       "    </tr>\n",
       "    <tr>\n",
       "      <th>82</th>\n",
       "      <td>664.000</td>\n",
       "    </tr>\n",
       "    <tr>\n",
       "      <th>83</th>\n",
       "      <td>83.000</td>\n",
       "    </tr>\n",
       "    <tr>\n",
       "      <th>84</th>\n",
       "      <td>16683.000</td>\n",
       "    </tr>\n",
       "    <tr>\n",
       "      <th>85</th>\n",
       "      <td>913.000</td>\n",
       "    </tr>\n",
       "    <tr>\n",
       "      <th>86</th>\n",
       "      <td>0.083</td>\n",
       "    </tr>\n",
       "  </tbody>\n",
       "</table>\n",
       "<p>84 rows × 1 columns</p>\n",
       "</div>"
      ],
      "text/plain": [
       "           SchoolsJobsUp_O\n",
       "mstn_id_o                 \n",
       "1                32536.000\n",
       "2                11600.000\n",
       "3                17098.000\n",
       "4               395412.000\n",
       "5                13904.000\n",
       "...                    ...\n",
       "82                 664.000\n",
       "83                  83.000\n",
       "84               16683.000\n",
       "85                 913.000\n",
       "86                   0.083\n",
       "\n",
       "[84 rows x 1 columns]"
      ]
     },
     "execution_count": 25,
     "metadata": {},
     "output_type": "execute_result"
    }
   ],
   "source": [
    "old.groupby('mstn_id_o').agg({'SchoolsJobsUp_O':np.sum})"
   ]
  },
  {
   "cell_type": "code",
   "execution_count": 26,
   "id": "a5dce10f-a5f7-444e-9e19-1b9ca8f11472",
   "metadata": {},
   "outputs": [],
   "source": [
    "#new Variable \n",
    "# test = pd.read_csv('houses_station_code (1).csv')"
   ]
  },
  {
   "cell_type": "code",
   "execution_count": 27,
   "id": "34a61ca4-e3db-4f4d-ac6b-3af1056af9d5",
   "metadata": {},
   "outputs": [],
   "source": [
    "merged = oldjob.merge(newjob, left_on='pairs', right_on='pairs')\n",
    "#merged = merged.merge(test, left_on='MSTN_ID_D', right_on='ID')"
   ]
  },
  {
   "cell_type": "code",
   "execution_count": 28,
   "id": "c1246c7b-790c-4f25-8a13-c24871d1b49f",
   "metadata": {},
   "outputs": [
    {
     "data": {
      "text/html": [
       "<div>\n",
       "<style scoped>\n",
       "    .dataframe tbody tr th:only-of-type {\n",
       "        vertical-align: middle;\n",
       "    }\n",
       "\n",
       "    .dataframe tbody tr th {\n",
       "        vertical-align: top;\n",
       "    }\n",
       "\n",
       "    .dataframe thead th {\n",
       "        text-align: right;\n",
       "    }\n",
       "</style>\n",
       "<table border=\"1\" class=\"dataframe\">\n",
       "  <thead>\n",
       "    <tr style=\"text-align: right;\">\n",
       "      <th></th>\n",
       "      <th>SchoolsJobsUp_O</th>\n",
       "      <th>education_jobs_o</th>\n",
       "      <th>Proportion_education_jobs</th>\n",
       "    </tr>\n",
       "  </thead>\n",
       "  <tbody>\n",
       "    <tr>\n",
       "      <th>SchoolsJobsUp_O</th>\n",
       "      <td>1.000000</td>\n",
       "      <td>0.270614</td>\n",
       "      <td>0.271376</td>\n",
       "    </tr>\n",
       "    <tr>\n",
       "      <th>education_jobs_o</th>\n",
       "      <td>0.270614</td>\n",
       "      <td>1.000000</td>\n",
       "      <td>0.999990</td>\n",
       "    </tr>\n",
       "    <tr>\n",
       "      <th>Proportion_education_jobs</th>\n",
       "      <td>0.271376</td>\n",
       "      <td>0.999990</td>\n",
       "      <td>1.000000</td>\n",
       "    </tr>\n",
       "  </tbody>\n",
       "</table>\n",
       "</div>"
      ],
      "text/plain": [
       "                           SchoolsJobsUp_O  education_jobs_o  \\\n",
       "SchoolsJobsUp_O                   1.000000          0.270614   \n",
       "education_jobs_o                  0.270614          1.000000   \n",
       "Proportion_education_jobs         0.271376          0.999990   \n",
       "\n",
       "                           Proportion_education_jobs  \n",
       "SchoolsJobsUp_O                             0.271376  \n",
       "education_jobs_o                            0.999990  \n",
       "Proportion_education_jobs                   1.000000  "
      ]
     },
     "execution_count": 28,
     "metadata": {},
     "output_type": "execute_result"
    }
   ],
   "source": [
    "#merged = merged[['JOBSINWALKSHEDSOFSTATIONSWIUp_D', 'All_JObs']]\n",
    "merged.corr()"
   ]
  },
  {
   "cell_type": "code",
   "execution_count": null,
   "id": "3aff2ad3-2c61-43dc-be7c-9c79edfd4c59",
   "metadata": {},
   "outputs": [],
   "source": []
  }
 ],
 "metadata": {
  "colab": {
   "provenance": []
  },
  "kernelspec": {
   "display_name": "Python 3 (ipykernel)",
   "language": "python",
   "name": "python3"
  },
  "language_info": {
   "codemirror_mode": {
    "name": "ipython",
    "version": 3
   },
   "file_extension": ".py",
   "mimetype": "text/x-python",
   "name": "python",
   "nbconvert_exporter": "python",
   "pygments_lexer": "ipython3",
   "version": "3.10.8"
  }
 },
 "nbformat": 4,
 "nbformat_minor": 5
}
