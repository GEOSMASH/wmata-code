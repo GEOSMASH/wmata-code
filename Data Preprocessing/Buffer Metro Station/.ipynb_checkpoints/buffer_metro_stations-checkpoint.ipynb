{
 "cells": [
  {
   "cell_type": "markdown",
   "id": "dca46738",
   "metadata": {},
   "source": [
    "##  Creating a buffer of 0.5 Mile, 0.6 Mile, and 0.75 mile"
   ]
  },
  {
   "cell_type": "markdown",
   "id": "0061fd05",
   "metadata": {},
   "source": [
    "#### Loading and importing dependencies"
   ]
  },
  {
   "cell_type": "code",
   "execution_count": 1,
   "id": "00b986d0",
   "metadata": {},
   "outputs": [],
   "source": [
    "import os\n",
    "import pandas as pd\n",
    "import geopandas as gpd\n",
    "import matplotlib.pyplot as plt\n",
    "import networkx as nx\n",
    "import osmnx as ox\n",
    "from shapely.geometry import LineString\n",
    "from shapely.geometry import Point,MultiPoint\n",
    "from shapely.geometry import Polygon\n",
    "import alphashape\n",
    "import folium\n",
    "import warnings \n",
    "warnings.filterwarnings('ignore')"
   ]
  },
  {
   "cell_type": "code",
   "execution_count": 2,
   "id": "c8839e26",
   "metadata": {},
   "outputs": [],
   "source": [
    "entrances = gpd.read_file(\"../../Data/RailStationsEntrances/RailStationEntrances2023.shp\")"
   ]
  },
  {
   "cell_type": "markdown",
   "id": "19cf77e5",
   "metadata": {},
   "source": [
    "#### Preprocessing"
   ]
  },
  {
   "cell_type": "markdown",
   "id": "ba776891",
   "metadata": {},
   "source": [
    "- create sub directories"
   ]
  },
  {
   "cell_type": "code",
   "execution_count": 3,
   "id": "8432b6e6",
   "metadata": {},
   "outputs": [],
   "source": [
    "base1 = 'output/dissolvebuffer0.5'\n",
    "base2 = 'output/dissolvebuffer0.6'\n",
    "base3 = 'output/dissolvebuffer0.75'\n",
    "\n",
    "for i in [base1, base2, base3]:\n",
    "    os.makedirs(i, exist_ok=True)"
   ]
  },
  {
   "cell_type": "code",
   "execution_count": null,
   "id": "1ed6ae0b",
   "metadata": {},
   "outputs": [],
   "source": []
  },
  {
   "cell_type": "markdown",
   "id": "6ca0a757",
   "metadata": {},
   "source": [
    "###### Creating a buffer of 0.6 mile = 965.606 meter"
   ]
  },
  {
   "cell_type": "code",
   "execution_count": 4,
   "id": "c3c519a0",
   "metadata": {},
   "outputs": [],
   "source": [
    "buf_3 = entrances.to_crs('EPSG:3857').buffer(distance = 965.606)\n",
    "buf_3 = gpd.GeoDataFrame(entrances.copy(),geometry=buf_3).to_crs(\"EPSG:3857\")"
   ]
  },
  {
   "cell_type": "code",
   "execution_count": 5,
   "id": "28b2b9e1",
   "metadata": {},
   "outputs": [],
   "source": [
    "dissolve_buf_3= buf_3.dissolve(by='STATIONNM')"
   ]
  },
  {
   "cell_type": "code",
   "execution_count": 6,
   "id": "4019451d",
   "metadata": {},
   "outputs": [
    {
     "data": {
      "text/html": [
       "<div>\n",
       "<style scoped>\n",
       "    .dataframe tbody tr th:only-of-type {\n",
       "        vertical-align: middle;\n",
       "    }\n",
       "\n",
       "    .dataframe tbody tr th {\n",
       "        vertical-align: top;\n",
       "    }\n",
       "\n",
       "    .dataframe thead th {\n",
       "        text-align: right;\n",
       "    }\n",
       "</style>\n",
       "<table border=\"1\" class=\"dataframe\">\n",
       "  <thead>\n",
       "    <tr style=\"text-align: right;\">\n",
       "      <th></th>\n",
       "      <th>geometry</th>\n",
       "      <th>OBJECTID</th>\n",
       "      <th>ID</th>\n",
       "      <th>DESCRPTION</th>\n",
       "      <th>ENTRANCE_T</th>\n",
       "      <th>ADDRESS</th>\n",
       "      <th>ENTRANCEID</th>\n",
       "      <th>STATIONNAM</th>\n",
       "      <th>STATIONCOD</th>\n",
       "      <th>ENTRANCENA</th>\n",
       "      <th>...</th>\n",
       "      <th>SYMBOL_ROT</th>\n",
       "      <th>SERVICE_LI</th>\n",
       "      <th>SERVICE__1</th>\n",
       "      <th>SERVICE__2</th>\n",
       "      <th>ENTRANCE_1</th>\n",
       "      <th>SRVICELINE</th>\n",
       "      <th>ACCESS_TYP</th>\n",
       "      <th>RULEID</th>\n",
       "      <th>ENTRANCE_2</th>\n",
       "      <th>SERVICELIN</th>\n",
       "    </tr>\n",
       "    <tr>\n",
       "      <th>STATIONNM</th>\n",
       "      <th></th>\n",
       "      <th></th>\n",
       "      <th></th>\n",
       "      <th></th>\n",
       "      <th></th>\n",
       "      <th></th>\n",
       "      <th></th>\n",
       "      <th></th>\n",
       "      <th></th>\n",
       "      <th></th>\n",
       "      <th></th>\n",
       "      <th></th>\n",
       "      <th></th>\n",
       "      <th></th>\n",
       "      <th></th>\n",
       "      <th></th>\n",
       "      <th></th>\n",
       "      <th></th>\n",
       "      <th></th>\n",
       "      <th></th>\n",
       "      <th></th>\n",
       "    </tr>\n",
       "  </thead>\n",
       "  <tbody>\n",
       "    <tr>\n",
       "      <th>ADDISON ROAD-SEAT PLEASANT</th>\n",
       "      <td>POLYGON ((-8559030.018 4705457.639, -8559034.6...</td>\n",
       "      <td>833</td>\n",
       "      <td>0</td>\n",
       "      <td>Station entrance is reachable by the walkway f...</td>\n",
       "      <td>STREET</td>\n",
       "      <td>100 ADDISON ROAD S, CAPITOL HEIGHTS, MD 20743</td>\n",
       "      <td>21</td>\n",
       "      <td>ADDISON ROAD-SEAT PLEASANT</td>\n",
       "      <td>G03</td>\n",
       "      <td>MAIN ENTRANCE (ADDISON RD, SOUTH OF CENTRAL AVE)</td>\n",
       "      <td>...</td>\n",
       "      <td>90.0</td>\n",
       "      <td>BLUE</td>\n",
       "      <td>SILVER</td>\n",
       "      <td>None</td>\n",
       "      <td>ADDISON RD &amp; CENTRAL AVE</td>\n",
       "      <td>BS</td>\n",
       "      <td>STREET</td>\n",
       "      <td>4</td>\n",
       "      <td>ADDISON RD, SOUTH OF CENTRAL AVE</td>\n",
       "      <td>BS</td>\n",
       "    </tr>\n",
       "    <tr>\n",
       "      <th>ANACOSTIA</th>\n",
       "      <td>POLYGON ((-8570890.973 4700992.878, -8570984.7...</td>\n",
       "      <td>821</td>\n",
       "      <td>0</td>\n",
       "      <td>Station entrance from south side of Howard St ...</td>\n",
       "      <td>STREET</td>\n",
       "      <td>1101 HOWARD ROAD SE, WASHINGTON, DC 20020</td>\n",
       "      <td>10</td>\n",
       "      <td>ANACOSTIA</td>\n",
       "      <td>F06</td>\n",
       "      <td>SOUTH ENTRANCE 1 (HOWARD RD SE &amp; FIRTH STERING...</td>\n",
       "      <td>...</td>\n",
       "      <td>256.7</td>\n",
       "      <td>GREEN</td>\n",
       "      <td>None</td>\n",
       "      <td>None</td>\n",
       "      <td>HOWARD RD SE &amp; SHANNON PL SE (EAST)</td>\n",
       "      <td>G</td>\n",
       "      <td>STREET</td>\n",
       "      <td>6</td>\n",
       "      <td>HOWARD RD SE &amp; FIRTH STERING AVE SE</td>\n",
       "      <td>G</td>\n",
       "    </tr>\n",
       "  </tbody>\n",
       "</table>\n",
       "<p>2 rows × 35 columns</p>\n",
       "</div>"
      ],
      "text/plain": [
       "                                                                     geometry  \\\n",
       "STATIONNM                                                                       \n",
       "ADDISON ROAD-SEAT PLEASANT  POLYGON ((-8559030.018 4705457.639, -8559034.6...   \n",
       "ANACOSTIA                   POLYGON ((-8570890.973 4700992.878, -8570984.7...   \n",
       "\n",
       "                            OBJECTID  ID  \\\n",
       "STATIONNM                                  \n",
       "ADDISON ROAD-SEAT PLEASANT       833   0   \n",
       "ANACOSTIA                        821   0   \n",
       "\n",
       "                                                                   DESCRPTION  \\\n",
       "STATIONNM                                                                       \n",
       "ADDISON ROAD-SEAT PLEASANT  Station entrance is reachable by the walkway f...   \n",
       "ANACOSTIA                   Station entrance from south side of Howard St ...   \n",
       "\n",
       "                           ENTRANCE_T  \\\n",
       "STATIONNM                               \n",
       "ADDISON ROAD-SEAT PLEASANT     STREET   \n",
       "ANACOSTIA                      STREET   \n",
       "\n",
       "                                                                  ADDRESS  \\\n",
       "STATIONNM                                                                   \n",
       "ADDISON ROAD-SEAT PLEASANT  100 ADDISON ROAD S, CAPITOL HEIGHTS, MD 20743   \n",
       "ANACOSTIA                       1101 HOWARD ROAD SE, WASHINGTON, DC 20020   \n",
       "\n",
       "                            ENTRANCEID                  STATIONNAM STATIONCOD  \\\n",
       "STATIONNM                                                                       \n",
       "ADDISON ROAD-SEAT PLEASANT          21  ADDISON ROAD-SEAT PLEASANT        G03   \n",
       "ANACOSTIA                           10                   ANACOSTIA        F06   \n",
       "\n",
       "                                                                   ENTRANCENA  \\\n",
       "STATIONNM                                                                       \n",
       "ADDISON ROAD-SEAT PLEASANT   MAIN ENTRANCE (ADDISON RD, SOUTH OF CENTRAL AVE)   \n",
       "ANACOSTIA                   SOUTH ENTRANCE 1 (HOWARD RD SE & FIRTH STERING...   \n",
       "\n",
       "                            ... SYMBOL_ROT SERVICE_LI SERVICE__1 SERVICE__2  \\\n",
       "STATIONNM                   ...                                               \n",
       "ADDISON ROAD-SEAT PLEASANT  ...       90.0       BLUE     SILVER       None   \n",
       "ANACOSTIA                   ...      256.7      GREEN       None       None   \n",
       "\n",
       "                                                     ENTRANCE_1 SRVICELINE  \\\n",
       "STATIONNM                                                                    \n",
       "ADDISON ROAD-SEAT PLEASANT             ADDISON RD & CENTRAL AVE         BS   \n",
       "ANACOSTIA                   HOWARD RD SE & SHANNON PL SE (EAST)          G   \n",
       "\n",
       "                            ACCESS_TYP  RULEID  \\\n",
       "STATIONNM                                        \n",
       "ADDISON ROAD-SEAT PLEASANT      STREET       4   \n",
       "ANACOSTIA                       STREET       6   \n",
       "\n",
       "                                                     ENTRANCE_2  SERVICELIN  \n",
       "STATIONNM                                                                    \n",
       "ADDISON ROAD-SEAT PLEASANT     ADDISON RD, SOUTH OF CENTRAL AVE          BS  \n",
       "ANACOSTIA                   HOWARD RD SE & FIRTH STERING AVE SE           G  \n",
       "\n",
       "[2 rows x 35 columns]"
      ]
     },
     "execution_count": 6,
     "metadata": {},
     "output_type": "execute_result"
    }
   ],
   "source": [
    "dissolve_buf_3.head(2)"
   ]
  },
  {
   "cell_type": "markdown",
   "id": "0ff5ef7d",
   "metadata": {},
   "source": [
    "######  save to disk"
   ]
  },
  {
   "cell_type": "code",
   "execution_count": 7,
   "id": "1744b266",
   "metadata": {},
   "outputs": [],
   "source": [
    "dissolve_buf_3.to_file('output/dissolvebuffer0.6/disolvebuffer0.6M.shp')"
   ]
  },
  {
   "cell_type": "code",
   "execution_count": 8,
   "id": "7a01c529",
   "metadata": {},
   "outputs": [],
   "source": [
    "# import geopandas as gpd\n",
    "# entrances = gpd.read_file(\"/..../RailStationsEntrances/RailStationEntrances2023.shp\")\n",
    "  "
   ]
  },
  {
   "cell_type": "markdown",
   "id": "e9572aa6",
   "metadata": {},
   "source": [
    "###### Creating a buffer of 0.75 mile= 1207.008 meter"
   ]
  },
  {
   "cell_type": "code",
   "execution_count": 9,
   "id": "c6c533a1",
   "metadata": {},
   "outputs": [],
   "source": [
    "buf_4 = entrances.to_crs('EPSG:3857').buffer(distance = 1207.008)\n",
    "buf_4 = gpd.GeoDataFrame(entrances.copy(),geometry=buf_4).to_crs(\"EPSG:3857\")\n"
   ]
  },
  {
   "cell_type": "code",
   "execution_count": 10,
   "id": "ebeb9edb",
   "metadata": {},
   "outputs": [],
   "source": [
    "dissolve_buf_4= buf_4.dissolve(by='STATIONNM')"
   ]
  },
  {
   "cell_type": "markdown",
   "id": "0c00c612",
   "metadata": {},
   "source": [
    "######  save to disk"
   ]
  },
  {
   "cell_type": "code",
   "execution_count": 11,
   "id": "883226c5",
   "metadata": {},
   "outputs": [],
   "source": [
    "dissolve_buf_4.to_file('output/dissolvebuffer0.75/disolvebuffer0.75M.shp')"
   ]
  },
  {
   "cell_type": "markdown",
   "id": "0ab34ae8",
   "metadata": {},
   "source": [
    "###### Creating A buffer of 0.5 mile = 804.672m around stations\n"
   ]
  },
  {
   "cell_type": "code",
   "execution_count": 12,
   "id": "325f0f96",
   "metadata": {
    "scrolled": true
   },
   "outputs": [],
   "source": [
    "buf = entrances.to_crs('EPSG:3857').buffer(distance = 804.672)\n",
    "buf_22 = gpd.GeoDataFrame(entrances.copy(),geometry=buf).to_crs(\"EPSG:3857\")"
   ]
  },
  {
   "cell_type": "markdown",
   "id": "68393abe",
   "metadata": {},
   "source": [
    "##### save to disk"
   ]
  },
  {
   "cell_type": "code",
   "execution_count": 13,
   "id": "d9cb6cf9",
   "metadata": {},
   "outputs": [],
   "source": [
    "buf_22.to_file('output/dissolvebuffer0.5/buffer0.5M.shp')"
   ]
  },
  {
   "cell_type": "code",
   "execution_count": 14,
   "id": "3457e3f1",
   "metadata": {},
   "outputs": [],
   "source": [
    "dissolve_22= buf_22.dissolve(by='STATIONNM')"
   ]
  },
  {
   "cell_type": "code",
   "execution_count": 15,
   "id": "26513f21",
   "metadata": {},
   "outputs": [],
   "source": [
    "dissolve_22.to_file('output/dissolvebuffer0.5/disolvebuffer0.5M.shp')"
   ]
  },
  {
   "cell_type": "code",
   "execution_count": 16,
   "id": "e37c8882",
   "metadata": {},
   "outputs": [
    {
     "ename": "NameError",
     "evalue": "name 'c' is not defined",
     "output_type": "error",
     "traceback": [
      "\u001b[0;31m---------------------------------------------------------------------------\u001b[0m",
      "\u001b[0;31mNameError\u001b[0m                                 Traceback (most recent call last)",
      "Cell \u001b[0;32mIn[16], line 1\u001b[0m\n\u001b[0;32m----> 1\u001b[0m \u001b[43mc\u001b[49m\n",
      "\u001b[0;31mNameError\u001b[0m: name 'c' is not defined"
     ]
    }
   ],
   "source": [
    "c"
   ]
  },
  {
   "cell_type": "code",
   "execution_count": null,
   "id": "19290ac9",
   "metadata": {},
   "outputs": [],
   "source": [
    "## Add on map\n",
    "m = folium.Map(zoom_start=15)\n",
    "folium.GeoJson(data=dissolve_22[\"geometry\"]).add_to(m)\n",
    "m"
   ]
  },
  {
   "cell_type": "code",
   "execution_count": null,
   "id": "c955c495",
   "metadata": {},
   "outputs": [],
   "source": []
  }
 ],
 "metadata": {
  "kernelspec": {
   "display_name": "Python 3 (ipykernel)",
   "language": "python",
   "name": "python3"
  },
  "language_info": {
   "codemirror_mode": {
    "name": "ipython",
    "version": 3
   },
   "file_extension": ".py",
   "mimetype": "text/x-python",
   "name": "python",
   "nbconvert_exporter": "python",
   "pygments_lexer": "ipython3",
   "version": "3.12.0"
  }
 },
 "nbformat": 4,
 "nbformat_minor": 5
}
