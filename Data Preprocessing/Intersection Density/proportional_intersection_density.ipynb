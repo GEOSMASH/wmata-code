{
 "cells": [
  {
   "cell_type": "code",
   "execution_count": 1,
   "id": "34395273",
   "metadata": {
    "colab": {
     "base_uri": "https://localhost:8080/"
    },
    "executionInfo": {
     "elapsed": 90599,
     "status": "ok",
     "timestamp": 1684456944668,
     "user": {
      "displayName": "Janna Chapman",
      "userId": "03316905486439216008"
     },
     "user_tz": 240
    },
    "id": "34395273",
    "outputId": "62fb4659-1c30-4114-8b0c-6216341ea4b3"
   },
   "outputs": [],
   "source": [
    "import os\n",
    "os.makedirs('output', exist_ok=True)\n",
    "\n",
    "import sys\n",
    "sys.path.append('../')\n",
    "\n",
    "from utils import load_walksheds, overlay_wks\n",
    "import geopandas as gpd\n",
    "import matplotlib.pyplot as plt\n",
    "import pandas as pd\n",
    "import warnings\n",
    "warnings.filterwarnings('ignore')"
   ]
  },
  {
   "cell_type": "code",
   "execution_count": 2,
   "id": "0aa871d1",
   "metadata": {
    "id": "0aa871d1",
    "scrolled": true
   },
   "outputs": [],
   "source": [
    "# Read shapefiles\n",
    "wksp5, wksp75 = load_walksheds()\n",
    "all_boundaries= gpd.read_file('../../Data/Merge Boundaries/MD_DC_VA/Block MD_DC_VA.shp') ###Block data\n",
    "SLD_data = gpd.read_file(\"../../Data/SmartLocationDatabaseV3/SmartLocationDatabase.gdb\")\n",
    "Block_MD = gpd.read_file('../../Data/GDB states/tlgdb_2021_a_24_md.gdb')\n",
    "Block_DC = gpd.read_file('../../Data/GDB states/tlgdb_2021_a_11_dc.gdb')\n",
    "Block_VA = gpd.read_file('../../Data/GDB states/tlgdb_2021_a_51_va.gdb')"
   ]
  },
  {
   "cell_type": "code",
   "execution_count": 3,
   "id": "d09860ac",
   "metadata": {
    "id": "d09860ac"
   },
   "outputs": [],
   "source": [
    "## block group geodataframe MD, DC, VA\n",
    "\n",
    "gdb_MD_BG = gpd.read_file('../../Data/GDB states/tlgdb_2021_a_24_md.gdb',driver='FileGDB', layer='Block_Group')\n",
    "\n",
    "gdb_DC_BG = gpd.read_file ('../../Data/GDB states/tlgdb_2021_a_11_dc.gdb', driver='FileGDB', layer='Block_Group')\n",
    "\n",
    "gdb_VA_BG = gpd.read_file ('../../Data/GDB states/tlgdb_2021_a_51_va.gdb', driver='FileGDB', layer='Block_Group')\n"
   ]
  },
  {
   "cell_type": "code",
   "execution_count": 4,
   "id": "e282ab25",
   "metadata": {
    "id": "e282ab25"
   },
   "outputs": [],
   "source": [
    "SLD_data.rename(columns = {'GEOID10':\"GEOID\"}, inplace = True)"
   ]
  },
  {
   "cell_type": "code",
   "execution_count": 5,
   "id": "bbbf92a9",
   "metadata": {
    "id": "bbbf92a9"
   },
   "outputs": [],
   "source": [
    "SLD_data = SLD_data.to_crs('EPSG:4326')\n",
    "gdb_MD_BG = gdb_MD_BG.to_crs('EPSG:4326')\n",
    "gdb_DC_BG = gdb_DC_BG.to_crs('EPSG:4326')\n",
    "gdb_VA_BG = gdb_VA_BG.to_crs('EPSG:4326')"
   ]
  },
  {
   "cell_type": "code",
   "execution_count": 6,
   "id": "8772f664",
   "metadata": {
    "id": "8772f664",
    "scrolled": true
   },
   "outputs": [],
   "source": [
    "SLD_MD = gpd.clip(SLD_data, gdb_MD_BG)\n",
    "SLD_DC = gpd.clip(SLD_data, gdb_DC_BG)\n",
    "SLD_VA = gpd.clip(SLD_data, gdb_VA_BG)"
   ]
  },
  {
   "cell_type": "code",
   "execution_count": 7,
   "id": "74c9eb3e",
   "metadata": {
    "id": "74c9eb3e"
   },
   "outputs": [],
   "source": [
    "## merge three SLD for MD, DC, VA ###\n",
    "import pandas as pd\n",
    "SLD_1 = pd.merge(SLD_MD, SLD_DC, how='outer')\n",
    "SLD = pd.merge(SLD_1, SLD_VA, how='outer')"
   ]
  },
  {
   "cell_type": "code",
   "execution_count": 8,
   "id": "77-DI9FrijHr",
   "metadata": {
    "id": "77-DI9FrijHr"
   },
   "outputs": [],
   "source": [
    "SLD['fullarea'] = SLD.area"
   ]
  },
  {
   "cell_type": "code",
   "execution_count": 9,
   "id": "9b80649b",
   "metadata": {
    "id": "9b80649b"
   },
   "outputs": [],
   "source": [
    "SLD = SLD.to_crs('EPSG:4326')"
   ]
  },
  {
   "cell_type": "code",
   "execution_count": 10,
   "id": "ee776317",
   "metadata": {
    "id": "ee776317"
   },
   "outputs": [],
   "source": [
    "from geopandas.tools import overlay\n",
    "\n",
    "intersect_SLD_Boundaries_p5, intersect_SLD_Boundaries_p75 = overlay_wks(SLD)\n",
    "\n",
    "# intersect_SLD_Boundaries = walkshedbuffer.overlay(SLD, how=\"intersection\")\n"
   ]
  },
  {
   "cell_type": "code",
   "execution_count": 11,
   "id": "Jx7hN6uGitvD",
   "metadata": {
    "id": "Jx7hN6uGitvD"
   },
   "outputs": [],
   "source": [
    "#find the partial area of the intersected boundaries to get the proportional area\n",
    "\n",
    "intersect_SLD_Boundaries_p5['partialarea'] = intersect_SLD_Boundaries_p5.area\n",
    "intersect_SLD_Boundaries_p75['partialarea'] = intersect_SLD_Boundaries_p75.area\n",
    "\n",
    "# intersect_SLD_Boundaries['Name_1']=intersect_SLD_Boundaries['Name_1'].str.replace(' : 0 - 2640','')\n",
    "# intersect_SLD_Boundaries['Name_1']=intersect_SLD_Boundaries['Name_1'].str.replace(' : 0 - 22.4525758392805','')"
   ]
  },
  {
   "cell_type": "code",
   "execution_count": 13,
   "id": "efff169e",
   "metadata": {
    "id": "efff169e",
    "outputId": "5ca1172e-dba0-4b9a-eba1-5c3757b3fe6d",
    "scrolled": true
   },
   "outputs": [
    {
     "data": {
      "text/plain": [
       "array(['ADDISON ROAD-SEAT PLEASANT', 'CAPITOL HEIGHTS', 'ANACOSTIA',\n",
       "       'CONGRESS HEIGHTS', 'ARCHIVES-NAVY MEMORIAL-PENN QUARTER',\n",
       "       'ARLINGTON CEMETERY', 'CAPITOL SOUTH', 'EASTERN MARKET',\n",
       "       'FARRAGUT NORTH', 'FARRAGUT WEST', 'FEDERAL CENTER SW',\n",
       "       'FEDERAL TRIANGLE', 'FOGGY BOTTOM-GWU', 'GALLERY PL-CHINATOWN',\n",
       "       'JUDICIARY SQUARE', \"L'ENFANT PLAZA\", 'MCPHERSON SQUARE',\n",
       "       'METRO CENTER', 'PENTAGON', 'SMITHSONIAN', 'UNION STATION',\n",
       "       'NAVY YARD-BALLPARK', 'WATERFRONT',\n",
       "       'MT VERNON SQ 7TH ST-CONVENTION CENTER', 'ROSSLYN',\n",
       "       'PENTAGON CITY', 'BALLSTON-MU', 'VIRGINIA SQUARE-GMU', 'CLARENDON',\n",
       "       'BENNING ROAD', 'MINNESOTA AVE', 'BETHESDA', 'MEDICAL CENTER',\n",
       "       'BRADDOCK ROAD', 'KING ST-OLD TOWN', 'BRANCH AVE', 'BROOKLAND-CUA',\n",
       "       'RHODE ISLAND AVE-BRENTWOOD', 'GEORGIA AVE-PETWORTH', 'CHEVERLY',\n",
       "       'DEANWOOD', 'LANDOVER', 'COURT HOUSE', 'CLEVELAND PARK',\n",
       "       'WOODLEY PARK-ZOO/ADAMS MORGAN', 'VAN NESS-UDC', 'TENLEYTOWN-AU',\n",
       "       'COLLEGE PARK-U OF MD', 'COLUMBIA HEIGHTS',\n",
       "       'U STREET/AFRICAN-AMER CIVIL WAR MEMORIAL/CARDOZO',\n",
       "       'SOUTHERN AVENUE', 'CRYSTAL CITY',\n",
       "       'RONALD REAGAN WASHINGTON NATIONAL AIRPORT',\n",
       "       'DUNN LORING-MERRIFIELD', 'DUPONT CIRCLE', 'EAST FALLS CHURCH',\n",
       "       'POTOMAC AVE', 'STADIUM-ARMORY', 'EISENHOWER AVENUE', 'HUNTINGTON',\n",
       "       'FOREST GLEN', 'FORT TOTTEN', 'FRANCONIA-SPRINGFIELD',\n",
       "       'FRIENDSHIP HEIGHTS', 'NOMA-GALLAUDET', 'SHAW-HOWARD U',\n",
       "       'GLENMONT', 'GREENBELT', 'GREENSBORO', 'TYSONS CORNER',\n",
       "       'SPRING HILL', 'GROSVENOR-STRATHMORE', 'LARGO TOWN CENTER',\n",
       "       'MCLEAN', 'MORGAN BOULEVARD', 'NAYLOR ROAD', 'SUITLAND',\n",
       "       'NEW CARROLLTON', \"PRINCE GEORGE'S PLAZA\", 'WEST HYATTSVILLE',\n",
       "       'ROCKVILLE', 'TWINBROOK', 'SHADY GROVE', 'SILVER SPRING', 'TAKOMA',\n",
       "       'WHITE FLINT', 'VAN DORN STREET', 'VIENNA/FAIRFAX-GMU',\n",
       "       'WEST FALLS CHURCH-VT/UVA', 'WHEATON', 'WIEHLE-RESTON EAST',\n",
       "       'Reston Town Center', 'Herndon', 'Innovation Center',\n",
       "       'Washington Dulles International Airport', 'Loudoun Gateway',\n",
       "       'Ashburn'], dtype=object)"
      ]
     },
     "execution_count": 13,
     "metadata": {},
     "output_type": "execute_result"
    }
   ],
   "source": [
    "## 97 unique metro stations ####\n",
    "\n",
    "# intersect_SLD_Boundaries['Name_1'].unique()"
   ]
  },
  {
   "cell_type": "code",
   "execution_count": 12,
   "id": "da3b9967",
   "metadata": {
    "id": "da3b9967"
   },
   "outputs": [],
   "source": [
    "## total street intersection density (D3B)\n",
    "Sum_intersection_dens_bufstation_p5 = intersect_SLD_Boundaries_p5.groupby(['Name_1'])[['D3B']].apply(sum)\n",
    "Sum_intersection_dens_bufstation_p75 = intersect_SLD_Boundaries_p75.groupby(['Name_1'])[['D3B']].apply(sum)"
   ]
  },
  {
   "cell_type": "code",
   "execution_count": 13,
   "id": "RmvnIynFi4K9",
   "metadata": {
    "id": "RmvnIynFi4K9",
    "scrolled": true
   },
   "outputs": [],
   "source": [
    "totalarea_station_p5 = intersect_SLD_Boundaries_p5.groupby(['Name_1'])[['fullarea']].apply(sum)\n",
    "partialarea_station_p5 = intersect_SLD_Boundaries_p5.groupby(['Name_1'])[['partialarea']].apply(sum)\n",
    "multiplier_p5 = partialarea_station_p5['partialarea']/totalarea_station_p5['fullarea']\n",
    "\n",
    "# repeat for 0.75 miles\n",
    "totalarea_station_p75 = intersect_SLD_Boundaries_p75.groupby(['Name_1'])[['fullarea']].apply(sum)\n",
    "partialarea_station_p75 = intersect_SLD_Boundaries_p75.groupby(['Name_1'])[['partialarea']].apply(sum)\n",
    "multiplier_p75 = partialarea_station_p75['partialarea']/totalarea_station_p75['fullarea']"
   ]
  },
  {
   "cell_type": "code",
   "execution_count": 14,
   "id": "Jx1SvmgVi4Ru",
   "metadata": {
    "id": "Jx1SvmgVi4Ru",
    "scrolled": true
   },
   "outputs": [],
   "source": [
    "proportion_density_walkstation_p5 = Sum_intersection_dens_bufstation_p5.multiply(multiplier_p5, axis=\"index\")\n",
    "proportion_density_walkstation_p5.rename(columns={'D3B': 'proportional_street_density_p5'}, inplace=True)\n",
    "\n",
    "proportion_density_walkstation_p75 = Sum_intersection_dens_bufstation_p75.multiply(multiplier_p75, axis=\"index\")\n",
    "proportion_density_walkstation_p75.rename(columns={'D3B': 'proportional_street_density_p75'}, inplace=True)"
   ]
  },
  {
   "cell_type": "code",
   "execution_count": 15,
   "id": "061e6c85",
   "metadata": {
    "id": "061e6c85"
   },
   "outputs": [],
   "source": [
    "proportion_density_walkstation_p5.reset_index().to_csv(\"output/proportion_density_walkstation_p5.csv\",index=False)\n",
    "proportion_density_walkstation_p75.reset_index().to_csv(\"output/proportion_density_walkstation_p75.csv\",index=False)"
   ]
  },
  {
   "cell_type": "code",
   "execution_count": null,
   "id": "1f6af29e",
   "metadata": {
    "id": "1f6af29e"
   },
   "outputs": [],
   "source": []
  }
 ],
 "metadata": {
  "colab": {
   "provenance": []
  },
  "kernelspec": {
   "display_name": "Python 3 (ipykernel)",
   "language": "python",
   "name": "python3"
  },
  "language_info": {
   "codemirror_mode": {
    "name": "ipython",
    "version": 3
   },
   "file_extension": ".py",
   "mimetype": "text/x-python",
   "name": "python",
   "nbconvert_exporter": "python",
   "pygments_lexer": "ipython3",
   "version": "3.12.0"
  }
 },
 "nbformat": 4,
 "nbformat_minor": 5
}
