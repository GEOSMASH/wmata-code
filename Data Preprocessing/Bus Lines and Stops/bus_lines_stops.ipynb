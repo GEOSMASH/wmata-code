{
 "cells": [
  {
   "cell_type": "code",
   "execution_count": 1,
   "id": "d9352183-2fa6-4f52-90e0-a058b8b95429",
   "metadata": {
    "colab": {
     "base_uri": "https://localhost:8080/"
    },
    "executionInfo": {
     "elapsed": 25540,
     "status": "ok",
     "timestamp": 1684376764887,
     "user": {
      "displayName": "Janna Chapman",
      "userId": "03316905486439216008"
     },
     "user_tz": 240
    },
    "id": "cbaf3f9f",
    "outputId": "8fb175bf-716d-4245-d098-adc323e02420"
   },
   "outputs": [],
   "source": [
    "import geopandas as gpd\n",
    "import matplotlib.pyplot as plt\n",
    "import numpy as np\n",
    "import pandas as pd \n",
    "import warnings\n",
    "warnings.filterwarnings(\"ignore\")\n",
    "\n",
    "import gtfs_kit as gk\n",
    "from gtfs_functions import Feed\n",
    "from gtfs_functions import map_gdf"
   ]
  },
  {
   "cell_type": "markdown",
   "id": "634e43f3-2855-4b9d-a449-26f5dc09a1f4",
   "metadata": {},
   "source": [
    "#### Read in Datasets and Files"
   ]
  },
  {
   "cell_type": "markdown",
   "id": "b06ec57c-189b-4c6e-80ba-386e7bb2964f",
   "metadata": {},
   "source": [
    "* walskhedbuffer is the Metro station walksheds with overlapping boundaries\n",
    "* metro_walkshed_name contains the MSTN ID numbers and station names\n",
    "* feed contains GTFS bus data for the Washington Area"
   ]
  },
  {
   "cell_type": "code",
   "execution_count": 2,
   "id": "aa640870-6a15-4613-9dfa-cdf38a0d7eaa",
   "metadata": {},
   "outputs": [],
   "source": [
    "walkshedbuffer = gpd.read_file('../../Data/walksheds_overlapping.zip')\n",
    "metro_walkshed_name = pd.read_csv('../../Data/metro_walkshed_name.csv')\n",
    "feed = Feed('../../Data/gtfs.zip')"
   ]
  },
  {
   "cell_type": "markdown",
   "id": "c9b81d2d-f374-4aee-ab7d-f54d00639ee0",
   "metadata": {},
   "source": [
    "#### Preprocessing\n"
   ]
  },
  {
   "cell_type": "markdown",
   "id": "4bad226f-0648-4277-975a-da4721a74ba0",
   "metadata": {},
   "source": [
    "* Convert the CRS of the walkshed boundaries layer\n",
    "* Remove extra characters and numbers from the station names\n",
    "* Merge the walkshed buffer with the metro station names to bring in the MSTN IDs\n",
    "* Retrive the routes, trips, stops, stop times and shapes from the GTFS data"
   ]
  },
  {
   "cell_type": "code",
   "execution_count": 3,
   "id": "6576abee-5190-423d-93aa-a755a5044bdf",
   "metadata": {},
   "outputs": [],
   "source": [
    "walkshedbuffer = walkshedbuffer.to_crs(\"EPSG:4326\")\n",
    "walkshedbuffer['Name_1']=walkshedbuffer['Name_1'].str.replace(' : 0 - 2640','')\n",
    "walkshedbuffer['Name_1']=walkshedbuffer['Name_1'].str.replace(' : 0 - 22.4525758392805','')\n",
    "walkshedbuffer_MSTN = walkshedbuffer.merge(metro_walkshed_name,on='Name_1')"
   ]
  },
  {
   "cell_type": "code",
   "execution_count": 4,
   "id": "6797bdcc-7b6c-48e2-9322-a324340f2929",
   "metadata": {
    "id": "ac52f635"
   },
   "outputs": [
    {
     "name": "stderr",
     "output_type": "stream",
     "text": [
      "INFO:root:Reading \"routes.txt\".\n",
      "INFO:root:accessing trips\n",
      "INFO:root:Reading \"trips.txt\".\n",
      "INFO:root:Reading \"trips.txt\".\n",
      "INFO:root:computing patterns\n",
      "INFO:root:_trips is defined in stop_times\n",
      "INFO:root:Reading \"stops.txt\".\n",
      "INFO:root:Reading \"stop_times.txt\".\n",
      "INFO:root:Reading \"shapes.txt\".\n"
     ]
    }
   ],
   "source": [
    "routes = feed.routes\n",
    "trips = feed.trips\n",
    "stops = feed.stops\n",
    "stop_times = feed.stop_times\n",
    "shapes = feed.shapes\n"
   ]
  },
  {
   "cell_type": "markdown",
   "id": "0c91e879-3697-4bd7-b3c3-29141aa5f712",
   "metadata": {},
   "source": [
    "* Filter the shapes for when the shape is within the trips\n",
    "* Intersect the shapes of the bus routes with the walksheds, groupby the station and aggregate the number of lines by the number of unique lines\n",
    "*  Intersect the shapes of the bus routes with the walksheds, groupby the station and aggregate the number of spots by the number of unique stop names\n",
    "*  Merge the bus lines and the bus stops together\n",
    "*  Fill any NAs with 0\n",
    "*  Export only the bus lines, bus stops, station names and station IDs"
   ]
  },
  {
   "cell_type": "code",
   "execution_count": 5,
   "id": "60cd5b5a-5661-42f7-a2b1-2cd0d5795587",
   "metadata": {},
   "outputs": [],
   "source": [
    "route_shapes = shapes[shapes.shape_id.isin(trips.shape_id.unique())]"
   ]
  },
  {
   "cell_type": "code",
   "execution_count": 6,
   "id": "aa795ee4-61b0-492c-8331-7b2ea557944b",
   "metadata": {},
   "outputs": [
    {
     "data": {
      "text/html": [
       "<div>\n",
       "<style scoped>\n",
       "    .dataframe tbody tr th:only-of-type {\n",
       "        vertical-align: middle;\n",
       "    }\n",
       "\n",
       "    .dataframe tbody tr th {\n",
       "        vertical-align: top;\n",
       "    }\n",
       "\n",
       "    .dataframe thead th {\n",
       "        text-align: right;\n",
       "    }\n",
       "</style>\n",
       "<table border=\"1\" class=\"dataframe\">\n",
       "  <thead>\n",
       "    <tr style=\"text-align: right;\">\n",
       "      <th></th>\n",
       "      <th>stop_id</th>\n",
       "      <th>stop_code</th>\n",
       "      <th>stop_name</th>\n",
       "      <th>stop_desc</th>\n",
       "      <th>stop_lat</th>\n",
       "      <th>stop_lon</th>\n",
       "      <th>zone_id</th>\n",
       "      <th>geometry</th>\n",
       "    </tr>\n",
       "  </thead>\n",
       "  <tbody>\n",
       "    <tr>\n",
       "      <th>0</th>\n",
       "      <td>1</td>\n",
       "      <td>1002500</td>\n",
       "      <td>WISCONSIN AVE NW &amp; RIVER RD NW</td>\n",
       "      <td>NaN</td>\n",
       "      <td>38.949019</td>\n",
       "      <td>-77.080369</td>\n",
       "      <td>8</td>\n",
       "      <td>POINT (-77.08037 38.94902)</td>\n",
       "    </tr>\n",
       "    <tr>\n",
       "      <th>1</th>\n",
       "      <td>3</td>\n",
       "      <td>3002395</td>\n",
       "      <td>9TH ST &amp; RAILROAD AVE</td>\n",
       "      <td>NaN</td>\n",
       "      <td>39.008222</td>\n",
       "      <td>-76.780363</td>\n",
       "      <td>8</td>\n",
       "      <td>POINT (-76.78036 39.00822)</td>\n",
       "    </tr>\n",
       "    <tr>\n",
       "      <th>2</th>\n",
       "      <td>9</td>\n",
       "      <td>3002207</td>\n",
       "      <td>14TH AVE &amp; LANGLEY WAY</td>\n",
       "      <td>NaN</td>\n",
       "      <td>38.990257</td>\n",
       "      <td>-76.984353</td>\n",
       "      <td>5</td>\n",
       "      <td>POINT (-76.98435 38.99026)</td>\n",
       "    </tr>\n",
       "    <tr>\n",
       "      <th>3</th>\n",
       "      <td>10</td>\n",
       "      <td>3002213</td>\n",
       "      <td>14TH AVE &amp; LANGLEY WAY</td>\n",
       "      <td>NaN</td>\n",
       "      <td>38.990479</td>\n",
       "      <td>-76.984519</td>\n",
       "      <td>5</td>\n",
       "      <td>POINT (-76.98452 38.99048)</td>\n",
       "    </tr>\n",
       "    <tr>\n",
       "      <th>4</th>\n",
       "      <td>11</td>\n",
       "      <td>3002191</td>\n",
       "      <td>KANAWHA ST &amp; 14TH AVE</td>\n",
       "      <td>NaN</td>\n",
       "      <td>38.988320</td>\n",
       "      <td>-76.983581</td>\n",
       "      <td>5</td>\n",
       "      <td>POINT (-76.98358 38.98832)</td>\n",
       "    </tr>\n",
       "  </tbody>\n",
       "</table>\n",
       "</div>"
      ],
      "text/plain": [
       "  stop_id stop_code                       stop_name  stop_desc   stop_lat  \\\n",
       "0       1   1002500  WISCONSIN AVE NW & RIVER RD NW        NaN  38.949019   \n",
       "1       3   3002395           9TH ST & RAILROAD AVE        NaN  39.008222   \n",
       "2       9   3002207          14TH AVE & LANGLEY WAY        NaN  38.990257   \n",
       "3      10   3002213          14TH AVE & LANGLEY WAY        NaN  38.990479   \n",
       "4      11   3002191           KANAWHA ST & 14TH AVE        NaN  38.988320   \n",
       "\n",
       "    stop_lon  zone_id                    geometry  \n",
       "0 -77.080369        8  POINT (-77.08037 38.94902)  \n",
       "1 -76.780363        8  POINT (-76.78036 39.00822)  \n",
       "2 -76.984353        5  POINT (-76.98435 38.99026)  \n",
       "3 -76.984519        5  POINT (-76.98452 38.99048)  \n",
       "4 -76.983581        5  POINT (-76.98358 38.98832)  "
      ]
     },
     "execution_count": 6,
     "metadata": {},
     "output_type": "execute_result"
    }
   ],
   "source": [
    "stops.head()"
   ]
  },
  {
   "cell_type": "code",
   "execution_count": 7,
   "id": "450405a7-d7fa-4e4e-9278-8d98b43206eb",
   "metadata": {},
   "outputs": [
    {
     "data": {
      "text/html": [
       "<div>\n",
       "<style scoped>\n",
       "    .dataframe tbody tr th:only-of-type {\n",
       "        vertical-align: middle;\n",
       "    }\n",
       "\n",
       "    .dataframe tbody tr th {\n",
       "        vertical-align: top;\n",
       "    }\n",
       "\n",
       "    .dataframe thead th {\n",
       "        text-align: right;\n",
       "    }\n",
       "</style>\n",
       "<table border=\"1\" class=\"dataframe\">\n",
       "  <thead>\n",
       "    <tr style=\"text-align: right;\">\n",
       "      <th></th>\n",
       "      <th>MSTN</th>\n",
       "      <th>line_count</th>\n",
       "    </tr>\n",
       "  </thead>\n",
       "  <tbody>\n",
       "    <tr>\n",
       "      <th>0</th>\n",
       "      <td>MSTN_001</td>\n",
       "      <td>54</td>\n",
       "    </tr>\n",
       "    <tr>\n",
       "      <th>1</th>\n",
       "      <td>MSTN_002</td>\n",
       "      <td>68</td>\n",
       "    </tr>\n",
       "  </tbody>\n",
       "</table>\n",
       "</div>"
      ],
      "text/plain": [
       "       MSTN  line_count\n",
       "0  MSTN_001          54\n",
       "1  MSTN_002          68"
      ]
     },
     "execution_count": 7,
     "metadata": {},
     "output_type": "execute_result"
    }
   ],
   "source": [
    "walkshed_line_count = gpd.overlay(route_shapes,walkshedbuffer_MSTN,how='intersection').groupby('MSTN').agg({'shape_id':'nunique'})\\\n",
    ".reset_index().rename({'shape_id':'line_count'},axis=1)\n",
    "walkshed_line_count.head(2)"
   ]
  },
  {
   "cell_type": "code",
   "execution_count": 8,
   "id": "df8c206b-ec8c-404f-9c6a-f75f2f6f7f82",
   "metadata": {},
   "outputs": [
    {
     "data": {
      "text/html": [
       "<div>\n",
       "<style scoped>\n",
       "    .dataframe tbody tr th:only-of-type {\n",
       "        vertical-align: middle;\n",
       "    }\n",
       "\n",
       "    .dataframe tbody tr th {\n",
       "        vertical-align: top;\n",
       "    }\n",
       "\n",
       "    .dataframe thead th {\n",
       "        text-align: right;\n",
       "    }\n",
       "</style>\n",
       "<table border=\"1\" class=\"dataframe\">\n",
       "  <thead>\n",
       "    <tr style=\"text-align: right;\">\n",
       "      <th></th>\n",
       "      <th>MSTN</th>\n",
       "      <th>stop_count</th>\n",
       "    </tr>\n",
       "  </thead>\n",
       "  <tbody>\n",
       "    <tr>\n",
       "      <th>0</th>\n",
       "      <td>MSTN_001</td>\n",
       "      <td>36</td>\n",
       "    </tr>\n",
       "    <tr>\n",
       "      <th>1</th>\n",
       "      <td>MSTN_002</td>\n",
       "      <td>50</td>\n",
       "    </tr>\n",
       "  </tbody>\n",
       "</table>\n",
       "</div>"
      ],
      "text/plain": [
       "       MSTN  stop_count\n",
       "0  MSTN_001          36\n",
       "1  MSTN_002          50"
      ]
     },
     "execution_count": 8,
     "metadata": {},
     "output_type": "execute_result"
    }
   ],
   "source": [
    "walkshed_stop_count = gpd.overlay(stops,walkshedbuffer_MSTN,how='intersection').groupby('MSTN').agg({'stop_name':'nunique'})\\\n",
    ".reset_index().rename({'stop_name':'stop_count'},axis=1)\n",
    "walkshed_stop_count.head(2)"
   ]
  },
  {
   "cell_type": "code",
   "execution_count": 9,
   "id": "e1052be5-107c-4eac-8485-e47809c35c8c",
   "metadata": {},
   "outputs": [
    {
     "data": {
      "text/html": [
       "<div>\n",
       "<style scoped>\n",
       "    .dataframe tbody tr th:only-of-type {\n",
       "        vertical-align: middle;\n",
       "    }\n",
       "\n",
       "    .dataframe tbody tr th {\n",
       "        vertical-align: top;\n",
       "    }\n",
       "\n",
       "    .dataframe thead th {\n",
       "        text-align: right;\n",
       "    }\n",
       "</style>\n",
       "<table border=\"1\" class=\"dataframe\">\n",
       "  <thead>\n",
       "    <tr style=\"text-align: right;\">\n",
       "      <th></th>\n",
       "      <th>Name_1</th>\n",
       "      <th>Acres</th>\n",
       "      <th>Shape_Leng</th>\n",
       "      <th>Shape_Area</th>\n",
       "      <th>StnCode</th>\n",
       "      <th>geometry</th>\n",
       "      <th>SHED_NAME</th>\n",
       "      <th>MSTN</th>\n",
       "      <th>line_count</th>\n",
       "      <th>stop_count</th>\n",
       "    </tr>\n",
       "  </thead>\n",
       "  <tbody>\n",
       "    <tr>\n",
       "      <th>0</th>\n",
       "      <td>ADDISON ROAD-SEAT PLEASANT</td>\n",
       "      <td>246.285276</td>\n",
       "      <td>16545.122053</td>\n",
       "      <td>1.072814e+07</td>\n",
       "      <td>None</td>\n",
       "      <td>POLYGON ((-76.90003 38.89164, -76.89914 38.891...</td>\n",
       "      <td>Addison Road</td>\n",
       "      <td>MSTN_062</td>\n",
       "      <td>29.0</td>\n",
       "      <td>18.0</td>\n",
       "    </tr>\n",
       "    <tr>\n",
       "      <th>1</th>\n",
       "      <td>ANACOSTIA</td>\n",
       "      <td>333.682311</td>\n",
       "      <td>20554.034340</td>\n",
       "      <td>1.453514e+07</td>\n",
       "      <td>None</td>\n",
       "      <td>POLYGON ((-76.99650 38.86928, -76.99594 38.869...</td>\n",
       "      <td>Anacostia S</td>\n",
       "      <td>MSTN_001</td>\n",
       "      <td>54.0</td>\n",
       "      <td>36.0</td>\n",
       "    </tr>\n",
       "  </tbody>\n",
       "</table>\n",
       "</div>"
      ],
      "text/plain": [
       "                       Name_1       Acres    Shape_Leng    Shape_Area StnCode  \\\n",
       "0  ADDISON ROAD-SEAT PLEASANT  246.285276  16545.122053  1.072814e+07    None   \n",
       "1                   ANACOSTIA  333.682311  20554.034340  1.453514e+07    None   \n",
       "\n",
       "                                            geometry     SHED_NAME      MSTN  \\\n",
       "0  POLYGON ((-76.90003 38.89164, -76.89914 38.891...  Addison Road  MSTN_062   \n",
       "1  POLYGON ((-76.99650 38.86928, -76.99594 38.869...   Anacostia S  MSTN_001   \n",
       "\n",
       "   line_count  stop_count  \n",
       "0        29.0        18.0  \n",
       "1        54.0        36.0  "
      ]
     },
     "execution_count": 9,
     "metadata": {},
     "output_type": "execute_result"
    }
   ],
   "source": [
    "walkshedbuffer_line_stop = walkshedbuffer_MSTN.merge(walkshed_line_count,on='MSTN',how='left')\\\n",
    ".merge(walkshed_stop_count,on='MSTN',how='left')\n",
    "walkshedbuffer_line_stop[['line_count','stop_count']] = walkshedbuffer_line_stop[['line_count','stop_count']].fillna(0)\n",
    "walkshedbuffer_line_stop.head(2)"
   ]
  },
  {
   "cell_type": "code",
   "execution_count": 10,
   "id": "1fefeeac-8fcf-43c3-8997-53d755be54a7",
   "metadata": {},
   "outputs": [],
   "source": [
    "walkshedbuffer_line_stop[['Name_1','MSTN','line_count','stop_count']]\\\n",
    ".to_csv('output/bus_line_stop.csv',index=False)"
   ]
  }
 ],
 "metadata": {
  "kernelspec": {
   "display_name": "Python 3 (ipykernel)",
   "language": "python",
   "name": "python3"
  },
  "language_info": {
   "codemirror_mode": {
    "name": "ipython",
    "version": 3
   },
   "file_extension": ".py",
   "mimetype": "text/x-python",
   "name": "python",
   "nbconvert_exporter": "python",
   "pygments_lexer": "ipython3",
   "version": "3.10.8"
  }
 },
 "nbformat": 4,
 "nbformat_minor": 5
}
