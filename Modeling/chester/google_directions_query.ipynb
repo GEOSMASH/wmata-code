{
 "cells": [
  {
   "cell_type": "code",
   "execution_count": 1,
   "id": "05c16877-dc99-44f6-ae80-e0369e1d073f",
   "metadata": {},
   "outputs": [],
   "source": [
    "import geopandas as gpd\n",
    "import pandas as pd\n",
    "from google_geocoding import *\n",
    "from feature_dev import *\n",
    "from utils import *\n",
    "\n",
    "%load_ext autoreload\n",
    "%autoreload 2\n",
    "\n",
    "pd.set_option('display.max_rows', None)\n",
    "\n",
    "# df = develop_features()"
   ]
  },
  {
   "cell_type": "code",
   "execution_count": 2,
   "id": "b6304126-f142-4d50-a57c-98bb964ba53a",
   "metadata": {},
   "outputs": [],
   "source": [
    "# Get station points\n",
    "gdf = load_station_points()\n",
    "\n",
    "# Extract lats and lons\n",
    "gdf['lat'] = gdf.geometry.y\n",
    "gdf['lon'] = gdf.geometry.x\n",
    "\n",
    "# Make cartesian product of stations (all OD pairs)\n",
    "df = pd.merge(gdf[['station_name','lat','lon']], gdf[['station_name','lat','lon']], how='cross', suffixes=('_o', '_d'))\n",
    "\n",
    "# Remove diagonal\n",
    "df = df[df.station_name_o != df.station_name_d]"
   ]
  },
  {
   "cell_type": "code",
   "execution_count": 6,
   "id": "ae640f79-2db0-47c2-a46b-8a23277189c0",
   "metadata": {},
   "outputs": [
    {
     "data": {
      "text/plain": [
       "9312"
      ]
     },
     "execution_count": 6,
     "metadata": {},
     "output_type": "execute_result"
    }
   ],
   "source": [
    "len(df)"
   ]
  },
  {
   "cell_type": "code",
   "execution_count": 8,
   "id": "cf419a30-b37d-41f9-9696-5c7b5b188c7f",
   "metadata": {},
   "outputs": [],
   "source": [
    "dict = open_routing_results()"
   ]
  },
  {
   "cell_type": "code",
   "execution_count": 10,
   "id": "b8532b37-1bd0-4c3c-8421-365e5f2e9ffd",
   "metadata": {},
   "outputs": [],
   "source": [
    "df = summarize_routes(dict)"
   ]
  },
  {
   "cell_type": "code",
   "execution_count": 12,
   "id": "1244b834-f7bc-4782-ae88-42ab0d620a1f",
   "metadata": {},
   "outputs": [
    {
     "data": {
      "text/html": [
       "<div>\n",
       "<style scoped>\n",
       "    .dataframe tbody tr th:only-of-type {\n",
       "        vertical-align: middle;\n",
       "    }\n",
       "\n",
       "    .dataframe tbody tr th {\n",
       "        vertical-align: top;\n",
       "    }\n",
       "\n",
       "    .dataframe thead th {\n",
       "        text-align: right;\n",
       "    }\n",
       "</style>\n",
       "<table border=\"1\" class=\"dataframe\">\n",
       "  <thead>\n",
       "    <tr style=\"text-align: right;\">\n",
       "      <th></th>\n",
       "      <th>google_driving_minutes</th>\n",
       "      <th>google_transit_minutes</th>\n",
       "      <th>google_bicycling_minutes</th>\n",
       "      <th>google_walking_minutes</th>\n",
       "    </tr>\n",
       "  </thead>\n",
       "  <tbody>\n",
       "    <tr>\n",
       "      <th>1</th>\n",
       "      <td>20.05</td>\n",
       "      <td>36.20</td>\n",
       "      <td>47.57</td>\n",
       "      <td>141.25</td>\n",
       "    </tr>\n",
       "    <tr>\n",
       "      <th>2</th>\n",
       "      <td>26.68</td>\n",
       "      <td>32.15</td>\n",
       "      <td>52.35</td>\n",
       "      <td>158.78</td>\n",
       "    </tr>\n",
       "    <tr>\n",
       "      <th>3</th>\n",
       "      <td>25.37</td>\n",
       "      <td>40.25</td>\n",
       "      <td>68.00</td>\n",
       "      <td>218.35</td>\n",
       "    </tr>\n",
       "    <tr>\n",
       "      <th>4</th>\n",
       "      <td>55.47</td>\n",
       "      <td>91.53</td>\n",
       "      <td>235.27</td>\n",
       "      <td>840.38</td>\n",
       "    </tr>\n",
       "    <tr>\n",
       "      <th>5</th>\n",
       "      <td>33.87</td>\n",
       "      <td>45.75</td>\n",
       "      <td>91.72</td>\n",
       "      <td>293.57</td>\n",
       "    </tr>\n",
       "  </tbody>\n",
       "</table>\n",
       "</div>"
      ],
      "text/plain": [
       "   google_driving_minutes  google_transit_minutes  google_bicycling_minutes  \\\n",
       "1                   20.05                   36.20                     47.57   \n",
       "2                   26.68                   32.15                     52.35   \n",
       "3                   25.37                   40.25                     68.00   \n",
       "4                   55.47                   91.53                    235.27   \n",
       "5                   33.87                   45.75                     91.72   \n",
       "\n",
       "   google_walking_minutes  \n",
       "1                  141.25  \n",
       "2                  158.78  \n",
       "3                  218.35  \n",
       "4                  840.38  \n",
       "5                  293.57  "
      ]
     },
     "execution_count": 12,
     "metadata": {},
     "output_type": "execute_result"
    }
   ],
   "source": [
    "df[[\n",
    "    'google_driving_minutes',\n",
    "    'google_transit_minutes',\n",
    "    'google_bicycling_minutes',\n",
    "    'google_walking_minutes',\n",
    "]]"
   ]
  },
  {
   "cell_type": "code",
   "execution_count": null,
   "id": "20e2cd41-ba25-4ab5-ab3f-09f0af626f10",
   "metadata": {},
   "outputs": [],
   "source": []
  }
 ],
 "metadata": {
  "kernelspec": {
   "display_name": "Python 3 (ipykernel)",
   "language": "python",
   "name": "python3"
  },
  "language_info": {
   "codemirror_mode": {
    "name": "ipython",
    "version": 3
   },
   "file_extension": ".py",
   "mimetype": "text/x-python",
   "name": "python",
   "nbconvert_exporter": "python",
   "pygments_lexer": "ipython3",
   "version": "3.11.3"
  }
 },
 "nbformat": 4,
 "nbformat_minor": 5
}
