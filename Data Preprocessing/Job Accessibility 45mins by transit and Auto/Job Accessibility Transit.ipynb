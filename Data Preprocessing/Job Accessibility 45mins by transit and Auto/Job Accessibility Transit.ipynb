{
 "cells": [
  {
   "cell_type": "code",
   "execution_count": 1,
   "id": "baf5e1db-36c6-4bad-850d-fa765f7aa685",
   "metadata": {},
   "outputs": [],
   "source": [
    "import os\n",
    "os.makedirs('output', exist_ok=True)\n",
    "\n",
    "import sys\n",
    "sys.path.append('../')\n",
    "\n",
    "from utils import load_walksheds, overlay_wks\n",
    "import pandas as pd\n",
    "import numpy as np\n",
    "import geopandas as gpd\n",
    "import os"
   ]
  },
  {
   "cell_type": "markdown",
   "id": "4baa5e72-e79f-40aa-a128-f03e2f3b1db9",
   "metadata": {},
   "source": [
    "* wksp5, wksp75  are the Metro station walksheds with overlapping boundaries at 0.5 and 0.75 miles respectively\n",
    "* all_boundaries All boundaries for census blocks in MD, DC and VA\n",
    "* sld is the dataframe for the EPA smartlocation dataset"
   ]
  },
  {
   "cell_type": "code",
   "execution_count": 2,
   "id": "f7fe3694-627c-461d-9e29-543f7879e81c",
   "metadata": {},
   "outputs": [],
   "source": [
    "from IPython.display import Audio\n",
    "\n",
    "def play_sound():\n",
    "    display(Audio(url='https://proxy.notificationsounds.com/free-jingles-and-logos/light-hearted-message-tone/download/file-sounds-1351-light-hearted.mp3', autoplay=True))\n",
    "\n",
    "\n",
    "# play_sound()"
   ]
  },
  {
   "cell_type": "code",
   "execution_count": 3,
   "id": "5bda29ba-0c23-488f-b245-3424237b7437",
   "metadata": {},
   "outputs": [],
   "source": [
    "wksp5, wksp75 = load_walksheds()\n",
    "all_boundaries= gpd.read_file('../../Data/Merge Boundaries/MD_DC_VA/Block MD_DC_VA.shp')\n",
    "sld = pd.read_csv(\"../../Data/EPA_SmartLocationDatabase_V3_Jan_2021_Final.csv\")"
   ]
  },
  {
   "cell_type": "markdown",
   "id": "a9de10df-94ab-4682-b6dc-3fa1cb1a6385",
   "metadata": {},
   "source": [
    "* transauto is a subset of the sld dataframe with the accessibility by transit and auto variable as well as the geo identifiers <br/>\n",
    "\n",
    "* used zfill to ensure that the values in the statefp, countyfp, and tractce, must be 2 digit, 3 diigits and 6 digits respectively, by adding zeros in front of the values\n",
    "\n",
    "* join_sld_Boundaries is a merge of the transauto dataframe and the all_boundaries dataframe on their geo-identifiers. Keep boundaries where there are no jobs\n",
    "\n",
    "* Change the CRS of the boundaries to match the walksheds"
   ]
  },
  {
   "cell_type": "code",
   "execution_count": 4,
   "id": "8d6aaed4-473e-4f92-b00e-85ebf6b1933a",
   "metadata": {
    "scrolled": true
   },
   "outputs": [],
   "source": [
    "transauto = sld[['GEOID20', 'COUNTYFP', 'STATEFP', 'TRACTCE', 'D5BR', 'D5AR', 'Shape_Area']].copy()\n",
    "transauto[\"STATEFP\"] = transauto[\"STATEFP\"].astype('str').str.zfill(2)\n",
    "transauto[\"COUNTYFP\"] = transauto[\"COUNTYFP\"].astype('str').str.zfill(3)\n",
    "transauto[\"TRACTCE\"] = transauto[\"TRACTCE\"].astype('str').str.zfill(6)\n",
    "transauto['GEOID20'] = transauto['STATEFP'] + transauto['COUNTYFP'] + transauto['TRACTCE']"
   ]
  },
  {
   "cell_type": "code",
   "execution_count": 5,
   "id": "7fd4c9d2-98bb-4905-b72a-e3d1a0702b6e",
   "metadata": {},
   "outputs": [],
   "source": [
    "all_boundaries['GEOID200'] = all_boundaries['STATEFP20'] + all_boundaries['COUNTYFP20'] + all_boundaries['TRACTCE20']\n",
    "Join_sld_Boundaries=pd.merge(all_boundaries, transauto, left_on=\"GEOID200\", right_on = \"GEOID20\", how='outer')\n",
    "\n",
    "import warnings # comment this out to show Janna warning \n",
    "warnings.filterwarnings('ignore')\n",
    "Join_sld_Boundaries = Join_sld_Boundaries.to_crs('EPSG:4326')\n",
    "Join_sld_Boundaries['fullarea'] = Join_sld_Boundaries.area"
   ]
  },
  {
   "cell_type": "markdown",
   "id": "5ada45f3-c44d-4f97-bbd7-29c841ee1e18",
   "metadata": {},
   "source": [
    "* Create a column of the full area of the jobs* Intersect the jobs with the walksheds\n",
    "* Create a partial area column to get the block area that is within a walkshed\n",
    "* Fix the names of the stations by removing extra numbers/characters at the end"
   ]
  },
  {
   "cell_type": "code",
   "execution_count": 6,
   "id": "afc809fb-f41d-4af8-947d-be0e48ea2178",
   "metadata": {},
   "outputs": [],
   "source": [
    "intersect_stations_sld_p5, intersect_stations_sld_p75 = overlay_wks(Join_sld_Boundaries)"
   ]
  },
  {
   "cell_type": "code",
   "execution_count": 7,
   "id": "18d12fd2-22fb-45c3-a7b3-7a47121e6a6b",
   "metadata": {},
   "outputs": [],
   "source": [
    "intersect_stations_sld_p5['D5BR'].loc[intersect_stations_sld_p5['D5BR'] < 0] = np.nan\n",
    "intersect_stations_sld_p5['D5AR'].loc[intersect_stations_sld_p5['D5BR'] < 0] = np.nan\n",
    "\n",
    "intersect_stations_sld_p75['D5BR'].loc[intersect_stations_sld_p75['D5BR'] < 0] = np.nan\n",
    "intersect_stations_sld_p75['D5AR'].loc[intersect_stations_sld_p75['D5BR'] < 0] = np.nan"
   ]
  },
  {
   "cell_type": "markdown",
   "id": "9b8f6f20-2e79-4e1c-8275-2bbae9a8b1c6",
   "metadata": {},
   "source": [
    "* Sum of Jobs accessible in 45mins by Auto"
   ]
  },
  {
   "cell_type": "markdown",
   "id": "009fe1c6-072f-4a16-8314-9af64d09913c",
   "metadata": {},
   "source": [
    "#### Measure of jobs or working age population within a 45 minute commute by transit or by auto"
   ]
  },
  {
   "cell_type": "code",
   "execution_count": 8,
   "id": "e282b80f-9da2-4674-9e71-e86b21e03449",
   "metadata": {},
   "outputs": [],
   "source": [
    "auto_trans_p5 = intersect_stations_sld_p5.groupby(['Name_1'])[['D5AR', 'D5BR']].apply(sum, axis=0)\n",
    "auto_trans_p75 = intersect_stations_sld_p75.groupby(['Name_1'])[['D5AR', 'D5BR']].apply(sum, axis=0)"
   ]
  },
  {
   "cell_type": "code",
   "execution_count": 9,
   "id": "a3a29ad7-4cda-40ed-a30a-c2f8c144fe2f",
   "metadata": {},
   "outputs": [],
   "source": [
    "auto_trans_p5 = auto_trans_p5.rename(columns={\"D5AR\": \"Jobs_auto\",\"D5BR\": \"Jobs_transit_p5\" })\n",
    "auto_trans_p75 = auto_trans_p75.rename(columns={\"D5AR\": \"Jobs_auto\",\"D5BR\": \"Jobs_transit_p75\" })"
   ]
  },
  {
   "cell_type": "code",
   "execution_count": 10,
   "id": "3cdf3ca6-c015-4ea6-8409-74be120d33a6",
   "metadata": {},
   "outputs": [],
   "source": [
    "auto_trans_p5.to_csv(\"output/job_auto_and_transit_accessibity45mins_p5.csv\")\n",
    "auto_trans_p75.to_csv(\"output/job_auto_and_transit_accessibity45mins_p75.csv\")"
   ]
  },
  {
   "cell_type": "code",
   "execution_count": null,
   "id": "fe14141e-b52b-4b4f-84c3-e8777a25c666",
   "metadata": {},
   "outputs": [],
   "source": []
  },
  {
   "cell_type": "code",
   "execution_count": null,
   "id": "0d1ed16f-7fb5-4bd1-958a-26c5df741f89",
   "metadata": {},
   "outputs": [],
   "source": []
  },
  {
   "cell_type": "code",
   "execution_count": null,
   "id": "067be016-fb3e-4d1b-a8c8-2b32396170af",
   "metadata": {},
   "outputs": [],
   "source": []
  },
  {
   "cell_type": "code",
   "execution_count": null,
   "id": "7477cc57-5745-4476-9de7-49f299d00147",
   "metadata": {},
   "outputs": [],
   "source": []
  },
  {
   "cell_type": "raw",
   "id": "d162973c-bb4a-4ca1-9c6c-b683d08d9ecc",
   "metadata": {},
   "source": [
    "# transauto = sld[['GEOID20', 'COUNTYFP', 'D5BR', 'D5AR', 'Shape_Area']].copy()\n",
    "# transauto['GEOID20'] = transauto['GEOID20'].astype('str').str[:6]\n",
    "# transauto['GEOID20'] = transauto['GEOID20'] + all_boundaries.TRACTCE20.astype('str')\n",
    "\n",
    "# transauto.dropna(subset=['GEOID20'], inplace=True)\n",
    "# all_boundaries[\"GEOID20\"]= all_boundaries[\"GEOID20\"].astype(np.int64)\n",
    "\n",
    "# transauto['GEOID20'] = transauto['GEOID20'].astype(np.int64)\n",
    "\n",
    "# Join_sld_Boundaries=pd.merge(all_boundaries, transauto, on=\"GEOID20\", how='outer')\n",
    "# Join_sld_Boundaries\n",
    "\n",
    "=========\n",
    "\n",
    "# transauto = sld[['GEOID20', 'COUNTYFP', 'D5BR', 'D5AR', 'Shape_Area']].copy()\n",
    "# transauto['GEOID20'] = transauto['GEOID20'].astype('int').astype('str')how t\n",
    "# transauto['COUNTYFP'] = transauto['COUNTYFP'].astype('str').str.zfill(3)\n",
    "# transauto['GEOID20'] = transauto['GEOID20'] + transauto['COUNTYFP']\n",
    "# transauto['GEOID20'] = transauto['GEOID20'].astype(np.int64)\n",
    "# transauto['GEOID20'][transauto['GEOID20'].astype('str').str.startswith('240317')]"
   ]
  }
 ],
 "metadata": {
  "kernelspec": {
   "display_name": "Python 3 (ipykernel)",
   "language": "python",
   "name": "python3"
  },
  "language_info": {
   "codemirror_mode": {
    "name": "ipython",
    "version": 3
   },
   "file_extension": ".py",
   "mimetype": "text/x-python",
   "name": "python",
   "nbconvert_exporter": "python",
   "pygments_lexer": "ipython3",
   "version": "3.12.0"
  }
 },
 "nbformat": 4,
 "nbformat_minor": 5
}
