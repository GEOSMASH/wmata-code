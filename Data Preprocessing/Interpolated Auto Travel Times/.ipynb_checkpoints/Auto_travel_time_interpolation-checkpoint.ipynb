{
 "cells": [
  {
   "cell_type": "code",
   "execution_count": null,
   "id": "a01f07ea-fd1f-40b9-bf12-51d1c38bac9e",
   "metadata": {},
   "outputs": [],
   "source": [
    "import pandas as pd\n",
    "import geopandas as gpd\n",
    "import numpy as np\n",
    "import statsmodels.api as sm\n",
    "import matplotlib.pyplot as plt\n",
    "import networkx as nx\n",
    "import osmnx as ox\n",
    "from shapely.geometry import LineString, Point, MultiPoint, Polygon\n",
    "import itertools\n",
    "import warnings\n",
    "warnings.filterwarnings(\"ignore\")"
   ]
  },
  {
   "cell_type": "markdown",
   "id": "c78b3f05-f76a-4eb6-81a9-b85cd99c464c",
   "metadata": {},
   "source": [
    "#### Read In Datasets and Files"
   ]
  },
  {
   "cell_type": "markdown",
   "id": "22a9c9cb-eb16-4c4a-9f64-8f823373cc5b",
   "metadata": {},
   "source": [
    "* am2015 is the AM dataframe that was created previously\n",
    "* pm2015 is the PM dataframe that was created previously\n",
    "* off2015 is the Off-Peak dataframe that was created previously\n",
    "* track_miles is contains the track distance in miles between OD pairs\n",
    "* mstns contains the station names and ID numbers"
   ]
  },
  {
   "cell_type": "code",
   "execution_count": null,
   "id": "893140df-1305-4573-8969-c2644ddcf607",
   "metadata": {},
   "outputs": [],
   "source": [
    "am2015 = pd.read_excel(\"../../Data/100_AM_Peak_Other_Regular_Riders.xlsx\")\n",
    "pm2015 = pd.read_excel(\"../../Data/200_PMPeak_Model_Long_file.xlsx\")\n",
    "off2015 = pd.read_excel(\"../../Data/300_OffPeak_Other_Regular_Riders.xlsx\")\n",
    "track_miles = pd.read_excel(\"../../Data/railOD_trackMiles_spring2022.xlsx\", header=1, index_col=0)\n",
    "mstns = pd.read_excel(\"../../Data/mstn_id_to_stn_name.xlsx\")"
   ]
  },
  {
   "cell_type": "markdown",
   "id": "b7d3000b-af63-4a97-bcc0-cd12fbfcc061",
   "metadata": {},
   "source": [
    "#### AM Preprocessing"
   ]
  },
  {
   "cell_type": "markdown",
   "id": "a1f66120-cf39-448c-bdf4-810794c4c73c",
   "metadata": {},
   "source": [
    "* Create a names column for the station names in mstns so that track_miles and the mstns can merge easily\n",
    "* Format the track_miles into OD pairs\n",
    "* Merge the station IDs into track_miles, drop unnecessary columns\n",
    "* Create an OD pair column in the track_miles dataframe that can be used to merge track_miles and 2015 dataframes together\n",
    "* Format the 2015 OD pair column into strings\n",
    "* Subset am 2015 by the OD Pair column, auto travel time, auto travel time per mile and log auto travel time per mile columns\n",
    "* Merge the track_miles and 2015 AM dataframes together by the od pairs columns"
   ]
  },
  {
   "cell_type": "code",
   "execution_count": null,
   "id": "ccbef2dc-b1b5-4251-a474-8e87df5ae2ce",
   "metadata": {},
   "outputs": [],
   "source": [
    "mstns.sort_values(by=\"PRIMARY_NAME_FY23\", inplace=True)\n",
    "mstns['track_miles_names'] = ['Addison Road', 'Anacostia', 'Archives', 'Arlington Cemetery', \"\",\n",
    "       'Ballston-MU', 'Benning Road', 'Bethesda', 'Braddock Road',\n",
    "       'Branch Ave', 'Brookland-CUA', 'Capitol Heights', 'Capitol South',\n",
    "       'Cheverly', 'Clarendon', 'Cleveland Park', 'College Park-U of Md',\n",
    "       'Columbia Heights', 'Congress Heights', 'Court House',\n",
    "       'Crystal City', 'Deanwood', 'Largo Town Center', \"\", 'Dunn Loring', 'Dupont Circle',\n",
    "       'East Falls Church', 'Eastern Market', 'Eisenhower Ave',\n",
    "       'Farragut North', 'Farragut West', 'Federal Center SW',\n",
    "       'Federal Triangle', 'Foggy Bottom-GWU', 'Forest Glen',\n",
    "       'Fort Totten', 'Franconia-Springfield', 'Friendship Heights',\n",
    "       'Gallery Place', 'Georgia Ave-Petworth', 'Glenmont', 'Greenbelt',\n",
    "       'Greensboro', 'Grosvenor-Strathmore', \"\",'Huntington',\"Prince George's Plaza\", \"\",\n",
    "       'Judiciary Square', 'King St-Old Town', \"L'Enfant Plaza\",\n",
    "       'Landover',\"\", 'McLean', 'McPherson Square',\n",
    "       'Medical Center', 'Metro Center', 'Minnesota Ave',\n",
    "       'Morgan Boulevard', 'Mt Vernon Sq', 'Navy Yard-Ballpark',\n",
    "       'Naylor Road', 'New Carrollton', 'NoMa-Gallaudet U','White Flint', 'Pentagon',\n",
    "       'Pentagon City', 'Potomac Ave', \"\",\"\",\n",
    "       'Rhode Island Ave', 'Rockville',\n",
    "       'Ronald Reagan Washington National Airport', 'Rosslyn',\n",
    "       'Shady Grove', 'Shaw-Howard Univ', 'Silver Spring', 'Smithsonian',\n",
    "       'Southern Ave', 'Spring Hill', 'Stadium-Armory', 'Suitland',\n",
    "       'Takoma', 'Tenleytown-AU', 'Twinbrook', 'Tysons Corner',\n",
    "       'U Street', 'Union Station', 'Van Dorn Street', 'Van Ness-UDC',\n",
    "       'Vienna', 'Virginia Square-GMU', 'Waterfront', 'West Falls Church',\n",
    "       'West Hyattsville', 'Wheaton',  'Wiehle',\n",
    "       'Woodley Park']"
   ]
  },
  {
   "cell_type": "code",
   "execution_count": null,
   "id": "e29e2609-0cf2-4805-8d7b-2e15102727d4",
   "metadata": {},
   "outputs": [],
   "source": [
    "track_miles = track_miles.stack().rename_axis(('O', 'D')).reset_index(name=\"track_miles\")\n",
    "track_miles.head()"
   ]
  },
  {
   "cell_type": "code",
   "execution_count": null,
   "id": "4c8833cb-c44e-4957-97e8-83bef47b63d9",
   "metadata": {},
   "outputs": [],
   "source": [
    "track_miles2 = mstns.merge(track_miles, left_on ='track_miles_names' , right_on= 'O')\n",
    "track_miles2 = mstns.merge(track_miles2, left_on ='track_miles_names' , right_on='D' )"
   ]
  },
  {
   "cell_type": "code",
   "execution_count": null,
   "id": "f36d431c-ef95-4f15-90b0-4a9a8cfa3123",
   "metadata": {},
   "outputs": [],
   "source": [
    "track_miles2.drop([\"PRIMARY_NAME_FY23_x\", \"PRIMARY_NAME_FY23_y\", \"track_miles_names_x\", \"track_miles_names_y\"], axis=1, inplace=True)"
   ]
  },
  {
   "cell_type": "code",
   "execution_count": null,
   "id": "5b8c334b-e153-4be6-9915-519acc039f42",
   "metadata": {},
   "outputs": [],
   "source": [
    "track_miles2['pairs'] = track_miles2.apply(lambda x: str(x['ID_y'])+str(0)+str(x['ID_x']), axis=1)\n",
    "track_miles2['ID1'] = track_miles2['ID_y'].replace('[A-Z]{4}_0', '', regex=True)\n",
    "track_miles2['ID2'] = track_miles2['ID_x'].replace('[A-Z]{4}_0', '', regex=True)\n",
    "track_miles2['ID1'] = track_miles2['ID1'].str.lstrip(\"0\")\n",
    "track_miles2['ID2'] = track_miles2['ID2'].str.lstrip(\"0\")\n",
    "track_miles2['pairs2'] = track_miles2.apply(lambda x: str(x['ID1'])+str(0)+str(x['ID2']), axis=1)\n",
    "track_miles2.head()"
   ]
  },
  {
   "cell_type": "code",
   "execution_count": null,
   "id": "9236f0c3-acac-4687-9257-6be9c1ec8638",
   "metadata": {},
   "outputs": [],
   "source": [
    "am2015['odpair_mstn'] = am2015['odpair_mstn'].astype(str)"
   ]
  },
  {
   "cell_type": "code",
   "execution_count": null,
   "id": "1d5ffcf8-7d8a-46b6-86d7-cd132391ad86",
   "metadata": {},
   "outputs": [],
   "source": [
    "subset = am2015[['odpair_mstn', 'auto_tt', 'auto_tt_per_mile', 'log_auto_tt_per_mile']]\n",
    "subset.head()"
   ]
  },
  {
   "cell_type": "code",
   "execution_count": null,
   "id": "33864d03-e94f-4c33-946a-1122bea14e6c",
   "metadata": {},
   "outputs": [],
   "source": [
    "am_merged = track_miles2.merge(subset, left_on='pairs2', right_on='odpair_mstn', how = 'left')"
   ]
  },
  {
   "cell_type": "markdown",
   "id": "c757c174-173b-46fb-9444-90f561370498",
   "metadata": {},
   "source": [
    "* Filter the rows that are NA in the auto_tt_per_mile column\n",
    "* Fit a simple linear regression between auto travel time per mile and track miles\n",
    "* fit the regression to get a new auto travel time column in the dataframe where auto travel time per mile was missing\n",
    "* Divide the new auto travel time by track miles to get the new auto travel time per mile\n",
    "* Subset only the required variable names in am_merged2 \n",
    "* Merge am_merged and am_merged2, then fill the values of auto travel time and auto travel time per mile with the missing values\n",
    "* Plot the relationship between the old auto travel time and the new travel time\n",
    "* Export"
   ]
  },
  {
   "cell_type": "code",
   "execution_count": null,
   "id": "5828b587-706b-465d-8c42-cb92d2b2d2d5",
   "metadata": {},
   "outputs": [],
   "source": [
    "am_merged2 = am_merged[am_merged['auto_tt_per_mile'].isna()]"
   ]
  },
  {
   "cell_type": "code",
   "execution_count": null,
   "id": "4e75b3ef-67f8-4a3d-be04-f9f59906e0f3",
   "metadata": {},
   "outputs": [],
   "source": [
    "Y = am2015['auto_tt']\n",
    "X = am2015['track_mile']\n",
    "X = sm.add_constant(X)\n",
    "model = sm.OLS(Y,X)\n",
    "results = model.fit()\n",
    "results.summary()"
   ]
  },
  {
   "cell_type": "code",
   "execution_count": null,
   "id": "8a3efc44-c40a-493e-bdca-6670decf8216",
   "metadata": {},
   "outputs": [],
   "source": [
    "am_merged2.columns"
   ]
  },
  {
   "cell_type": "code",
   "execution_count": null,
   "id": "4143ff2c-21e4-46cc-8bfa-fe1f424cc0f2",
   "metadata": {},
   "outputs": [],
   "source": [
    "am_merged2['new_auto_tt'] = 6.488705 + 2.111382*am_merged2['track_miles']\n",
    "am_merged2['new_auto_tt_per_mile'] =am_merged2['new_auto_tt'] / am_merged2['track_miles']\n",
    "am_merged2 = am_merged2[['pairs2', 'new_auto_tt', 'new_auto_tt_per_mile']]"
   ]
  },
  {
   "cell_type": "code",
   "execution_count": null,
   "id": "0a73f823-ebd7-4d5f-8ee1-74248f419995",
   "metadata": {},
   "outputs": [],
   "source": [
    "am_merged2.head()"
   ]
  },
  {
   "cell_type": "code",
   "execution_count": null,
   "id": "bfa04413-8ab0-487f-9a7b-ae3a1e8c8a0f",
   "metadata": {},
   "outputs": [],
   "source": [
    "am_merged3 = am_merged.merge(am_merged2, on='pairs2', how='left')"
   ]
  },
  {
   "cell_type": "code",
   "execution_count": null,
   "id": "b0d6493b-c581-4201-81e4-c0c245916313",
   "metadata": {},
   "outputs": [],
   "source": [
    "am_merged3['new_auto_tt_per_mile2'] = am_merged3['auto_tt_per_mile'].fillna(am_merged3['new_auto_tt_per_mile'])\n",
    "am_merged3['new_auto_tt2'] = am_merged3['auto_tt'].fillna(am_merged3['new_auto_tt'])\n",
    "am_merged3.head(2)"
   ]
  },
  {
   "cell_type": "code",
   "execution_count": null,
   "id": "7f89a2c0-e21c-4585-adbc-2fcb8bc263d1",
   "metadata": {},
   "outputs": [],
   "source": [
    "am_merged3.plot('auto_tt_per_mile', 'new_auto_tt_per_mile2', kind='scatter')"
   ]
  },
  {
   "cell_type": "code",
   "execution_count": null,
   "id": "0dd8575e-1b30-4d74-aea3-56ca17ff82c7",
   "metadata": {},
   "outputs": [],
   "source": [
    "am_interpolated_times = am_merged3[['pairs','new_auto_tt2','new_auto_tt_per_mile2']]\n",
    "am_interpolated_times.to_csv(\"output/am_interpolated_auto_times.csv\")"
   ]
  },
  {
   "cell_type": "markdown",
   "id": "278ebc2e-ceaa-4386-b55c-fe2510deb34e",
   "metadata": {},
   "source": [
    "#### PM Preprocessing"
   ]
  },
  {
   "cell_type": "markdown",
   "id": "38b573de-aa0a-40f7-9f72-32871fe4af7b",
   "metadata": {},
   "source": [
    "* Format the 2015 OD pair column into strings\n",
    "* Subset pm 2015 by the OD Pair column, auto travel time, auto travel time per mile and log auto travel time per mile columns\n",
    "* Merge the track_miles and 2015 AM dataframes together by the od pairs columns"
   ]
  },
  {
   "cell_type": "code",
   "execution_count": null,
   "id": "3878f965-ab97-49eb-b363-672458930bfe",
   "metadata": {},
   "outputs": [],
   "source": [
    "pm2015['odpair_mstn'] = pm2015['odpair_mstn'].astype(str)"
   ]
  },
  {
   "cell_type": "code",
   "execution_count": null,
   "id": "8c19cde4-2a0a-4455-a857-3df4cc1a501c",
   "metadata": {},
   "outputs": [],
   "source": [
    "subset = pm2015[['odpair_mstn', 'auto_tt', 'auto_tt_per_mile', 'log_auto_tt_per_mile']]\n",
    "subset"
   ]
  },
  {
   "cell_type": "code",
   "execution_count": null,
   "id": "b2bb870c-4a84-4f81-a6de-71dfc63b0265",
   "metadata": {},
   "outputs": [],
   "source": [
    "pm_merged = track_miles2.merge(subset, left_on='pairs2', right_on='odpair_mstn', how = 'left')"
   ]
  },
  {
   "cell_type": "markdown",
   "id": "9730a45d-64ba-4c13-9176-c4f41b95abbf",
   "metadata": {},
   "source": [
    "* Filter the rows that are NA in the auto_tt_per_mile column\n",
    "* Fit a simple linear regression between auto travel time per mile and track miles\n",
    "* fit the regression to get a new auto travel time column in the dataframe where auto travel time per mile was missing\n",
    "* Divide the new auto travel time by track miles to get the new auto travel time per mile\n",
    "* Subset only the required variable names in am_merged2 \n",
    "* Merge am_merged and am_merged2, then fill the values of auto travel time and auto travel time per mile with the missing values\n",
    "* Plot the relationship between the old auto travel time and the new travel time\n",
    "* Export"
   ]
  },
  {
   "cell_type": "code",
   "execution_count": null,
   "id": "e1142a0a-3ecd-4131-bfe8-e03bb31c1293",
   "metadata": {},
   "outputs": [],
   "source": [
    "pm_merged2 = pm_merged[pm_merged['auto_tt_per_mile'].isna()]\n",
    "pm_merged2['track_miles']"
   ]
  },
  {
   "cell_type": "code",
   "execution_count": null,
   "id": "e0ea67af-9014-4db7-8660-1075d47291aa",
   "metadata": {},
   "outputs": [],
   "source": [
    "Y = pm2015['auto_tt'][pm2015['auto_tt'].notna()]\n",
    "X = pm2015['track_mile'][pm2015['auto_tt'].notna()]\n",
    "X = sm.add_constant(X)\n",
    "model = sm.OLS(Y,X)\n",
    "results = model.fit()\n",
    "results.summary()"
   ]
  },
  {
   "cell_type": "code",
   "execution_count": null,
   "id": "287b2f7f-5ad2-487f-a1c3-b8afe3f336e0",
   "metadata": {},
   "outputs": [],
   "source": [
    "pm_merged2['new_auto_tt'] = 6.5882\t+ 2.0964*pm_merged2['track_miles']\n",
    "pm_merged2['new_auto_tt_per_mile'] =pm_merged2['new_auto_tt'] / pm_merged2['track_miles']\n",
    "pm_merged2 = pm_merged2[['pairs2', 'new_auto_tt', 'new_auto_tt_per_mile']]"
   ]
  },
  {
   "cell_type": "code",
   "execution_count": null,
   "id": "7f38def5-f00a-4769-b655-8f6e9d522aab",
   "metadata": {},
   "outputs": [],
   "source": [
    "pm_merged2.head()"
   ]
  },
  {
   "cell_type": "code",
   "execution_count": null,
   "id": "e8019bdd-6572-4726-b89c-ada66396883c",
   "metadata": {},
   "outputs": [],
   "source": [
    "pm_merged3 = pm_merged.merge(pm_merged2, on='pairs2', how='left')"
   ]
  },
  {
   "cell_type": "code",
   "execution_count": null,
   "id": "a813c399-218c-413d-8c99-7cdb7a440260",
   "metadata": {},
   "outputs": [],
   "source": [
    "pm_merged3['new_auto_tt_per_mile2'] = pm_merged3['auto_tt_per_mile'].fillna(pm_merged3['new_auto_tt_per_mile'])\n",
    "pm_merged3['new_auto_tt2'] = pm_merged3['auto_tt'].fillna(pm_merged3['new_auto_tt'])\n",
    "pm_merged3.head()"
   ]
  },
  {
   "cell_type": "code",
   "execution_count": null,
   "id": "045e7f30-45fa-49d3-9c7a-c0e6c780b928",
   "metadata": {},
   "outputs": [],
   "source": [
    "pm_merged3.plot('auto_tt_per_mile', 'new_auto_tt_per_mile2', kind='scatter')"
   ]
  },
  {
   "cell_type": "code",
   "execution_count": null,
   "id": "a428381a-3e44-4738-a110-00f77a031d67",
   "metadata": {},
   "outputs": [],
   "source": [
    "pm_interpolated_times = pm_merged3[['pairs','new_auto_tt2','new_auto_tt_per_mile2']]\n",
    "pm_interpolated_times.to_csv(\"output/pm_interpolated_auto_times.csv\")"
   ]
  },
  {
   "cell_type": "markdown",
   "id": "84696d7d-084e-4a0f-8f51-3c34a1200077",
   "metadata": {},
   "source": [
    "#### Off-Peak Preprocessing"
   ]
  },
  {
   "cell_type": "markdown",
   "id": "9be082ec-e28a-43dd-be28-230509ce1d38",
   "metadata": {},
   "source": [
    "* Format the 2015 OD pair column into strings\n",
    "* Subset off 2015 by the OD Pair column, auto travel time, auto travel time per mile and log auto travel time per mile columns\n",
    "* Merge the track_miles and 2015 AM dataframes together by the od pairs columns"
   ]
  },
  {
   "cell_type": "code",
   "execution_count": null,
   "id": "3588002d-1347-4428-9503-8bff697834cc",
   "metadata": {},
   "outputs": [],
   "source": [
    "off2015['odpair_mstn'] = off2015['odpair_mstn'].astype(str)"
   ]
  },
  {
   "cell_type": "code",
   "execution_count": null,
   "id": "631342ac-b0c8-402d-a5d4-5b13db60e0b3",
   "metadata": {},
   "outputs": [],
   "source": [
    "subset = off2015[['odpair_mstn', 'auto_tt', 'auto_tt_per_mile', 'log_auto_tt_per_mile']]\n",
    "subset"
   ]
  },
  {
   "cell_type": "code",
   "execution_count": null,
   "id": "8f7cb0b8-219c-472c-b9f8-63c547940e93",
   "metadata": {},
   "outputs": [],
   "source": [
    "off_merged = track_miles2.merge(subset, left_on='pairs2', right_on='odpair_mstn', how = 'left')"
   ]
  },
  {
   "cell_type": "markdown",
   "id": "3947555b-2147-468a-b40c-56e5aed5f0ab",
   "metadata": {},
   "source": [
    "* Filter the rows that are NA in the auto_tt_per_mile column\n",
    "* Fit a simple linear regression between auto travel time per mile and track miles\n",
    "* fit the regression to get a new auto travel time column in the dataframe where auto travel time per mile was missing\n",
    "* Divide the new auto travel time by track miles to get the new auto travel time per mile\n",
    "* Subset only the required variable names in am_merged2 \n",
    "* Merge am_merged and am_merged2, then fill the values of auto travel time and auto travel time per mile with the missing values\n",
    "* Plot the relationship between the old auto travel time and the new travel time\n",
    "* Export"
   ]
  },
  {
   "cell_type": "code",
   "execution_count": null,
   "id": "d54a8e45-2014-4c57-99ea-09a970d95c7e",
   "metadata": {},
   "outputs": [],
   "source": [
    "off_merged2 = off_merged[off_merged['auto_tt_per_mile'].isna()]\n",
    "off_merged2['track_miles']"
   ]
  },
  {
   "cell_type": "code",
   "execution_count": null,
   "id": "5e17123f-bed4-4cdd-aada-23874a159761",
   "metadata": {},
   "outputs": [],
   "source": [
    "Y = off2015['auto_tt'][off2015['auto_tt'].notna()]\n",
    "X = off2015['track_mile'][off2015['auto_tt'].notna()]\n",
    "X = sm.add_constant(X)\n",
    "model = sm.OLS(Y,X)\n",
    "results = model.fit()\n",
    "results.summary()"
   ]
  },
  {
   "cell_type": "code",
   "execution_count": null,
   "id": "7d55a24c-a0b4-439b-94a6-b9b23a41c2c8",
   "metadata": {},
   "outputs": [],
   "source": [
    "off_merged2['new_auto_tt'] = 5.1336\t+ 1.4237*off_merged2['track_miles']\n",
    "off_merged2['new_auto_tt_per_mile'] =off_merged2['new_auto_tt'] / off_merged2['track_miles']\n",
    "off_merged2 = off_merged2[['pairs2', 'new_auto_tt', 'new_auto_tt_per_mile']]"
   ]
  },
  {
   "cell_type": "code",
   "execution_count": null,
   "id": "b7a27b6a-84cd-4805-a23f-16784e4100d6",
   "metadata": {},
   "outputs": [],
   "source": [
    "off_merged2.head()"
   ]
  },
  {
   "cell_type": "code",
   "execution_count": null,
   "id": "d01a4749-c944-4fbe-9994-373dc7bf64df",
   "metadata": {},
   "outputs": [],
   "source": [
    "off_merged3 = off_merged.merge(off_merged2, on='pairs2', how='left')"
   ]
  },
  {
   "cell_type": "code",
   "execution_count": null,
   "id": "54002830-d861-422b-8ead-cf2369de3c0b",
   "metadata": {},
   "outputs": [],
   "source": [
    "off_merged3['new_auto_tt_per_mile2'] = off_merged3['auto_tt_per_mile'].fillna(off_merged3['new_auto_tt_per_mile'])\n",
    "off_merged3['new_auto_tt2'] = off_merged3['auto_tt'].fillna(off_merged3['new_auto_tt'])\n",
    "off_merged3"
   ]
  },
  {
   "cell_type": "code",
   "execution_count": null,
   "id": "0da805f5-c225-44ed-a0fc-9346bb9b98c1",
   "metadata": {},
   "outputs": [],
   "source": [
    "off_merged3.plot('auto_tt_per_mile', 'new_auto_tt_per_mile2', kind='scatter')"
   ]
  },
  {
   "cell_type": "code",
   "execution_count": null,
   "id": "5fc5a364-961a-4293-aaa7-b26c991809e7",
   "metadata": {},
   "outputs": [],
   "source": [
    "off_interpolated_times = off_merged3[['pairs','new_auto_tt2','new_auto_tt_per_mile2']]\n",
    "off_interpolated_times.to_csv(\"output/off_interpolated_auto_times.csv\")"
   ]
  }
 ],
 "metadata": {
  "kernelspec": {
   "display_name": "Python 3 (ipykernel)",
   "language": "python",
   "name": "python3"
  },
  "language_info": {
   "codemirror_mode": {
    "name": "ipython",
    "version": 3
   },
   "file_extension": ".py",
   "mimetype": "text/x-python",
   "name": "python",
   "nbconvert_exporter": "python",
   "pygments_lexer": "ipython3",
   "version": "3.12.0"
  }
 },
 "nbformat": 4,
 "nbformat_minor": 5
}
