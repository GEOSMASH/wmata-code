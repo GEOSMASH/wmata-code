{
 "cells": [
  {
   "cell_type": "code",
   "execution_count": 3,
   "metadata": {
    "id": "LuLXdA1Qv3A3"
   },
   "outputs": [],
   "source": [
    "import numpy as np\n",
    "import pandas as pd\n",
    "import geopandas as gpd\n",
    "from shapely.geometry import Point, Polygon, LineString\n",
    "import matplotlib.pyplot as plt"
   ]
  },
  {
   "cell_type": "markdown",
   "metadata": {},
   "source": [
    "#### Read in Datasets and Files"
   ]
  },
  {
   "cell_type": "markdown",
   "metadata": {},
   "source": [
    "* metroentrances contains a shapefile of all of the entrances to metro stations"
   ]
  },
  {
   "cell_type": "code",
   "execution_count": 4,
   "metadata": {
    "id": "JhqB3J-U15CG"
   },
   "outputs": [],
   "source": [
    "metroentrances = gpd.read_file(\"../../Data/RailStationEntrances2023.zip\")"
   ]
  },
  {
   "cell_type": "markdown",
   "metadata": {},
   "source": [
    "#### Preprocessing\n"
   ]
  },
  {
   "cell_type": "markdown",
   "metadata": {},
   "source": [
    "* dissolve the metro entrances into multipoints of stations based on the station name\n",
    "* Make the geometry of the multipoint the centroid\n",
    "* Change the CRS into a projected coordinate system with meters"
   ]
  },
  {
   "cell_type": "code",
   "execution_count": 5,
   "metadata": {
    "colab": {
     "base_uri": "https://localhost:8080/",
     "height": 1000
    },
    "id": "vj9Nix7hNHIe",
    "outputId": "af560276-8aa9-4240-dec1-1b581368c3da"
   },
   "outputs": [
    {
     "data": {
      "text/html": [
       "<div>\n",
       "<style scoped>\n",
       "    .dataframe tbody tr th:only-of-type {\n",
       "        vertical-align: middle;\n",
       "    }\n",
       "\n",
       "    .dataframe tbody tr th {\n",
       "        vertical-align: top;\n",
       "    }\n",
       "\n",
       "    .dataframe thead th {\n",
       "        text-align: right;\n",
       "    }\n",
       "</style>\n",
       "<table border=\"1\" class=\"dataframe\">\n",
       "  <thead>\n",
       "    <tr style=\"text-align: right;\">\n",
       "      <th></th>\n",
       "      <th>geometry</th>\n",
       "      <th>OBJECTID</th>\n",
       "      <th>ID</th>\n",
       "      <th>STATIONNM</th>\n",
       "      <th>DESCRPTION</th>\n",
       "      <th>ENTRANCE_T</th>\n",
       "      <th>ADDRESS</th>\n",
       "      <th>ENTRANCEID</th>\n",
       "      <th>STATIONCOD</th>\n",
       "      <th>ENTRANCENA</th>\n",
       "      <th>...</th>\n",
       "      <th>SYMBOL_ROT</th>\n",
       "      <th>SERVICE_LI</th>\n",
       "      <th>SERVICE__1</th>\n",
       "      <th>SERVICE__2</th>\n",
       "      <th>ENTRANCE_1</th>\n",
       "      <th>SRVICELINE</th>\n",
       "      <th>ACCESS_TYP</th>\n",
       "      <th>RULEID</th>\n",
       "      <th>ENTRANCE_2</th>\n",
       "      <th>SERVICELIN</th>\n",
       "    </tr>\n",
       "    <tr>\n",
       "      <th>STATIONNAM</th>\n",
       "      <th></th>\n",
       "      <th></th>\n",
       "      <th></th>\n",
       "      <th></th>\n",
       "      <th></th>\n",
       "      <th></th>\n",
       "      <th></th>\n",
       "      <th></th>\n",
       "      <th></th>\n",
       "      <th></th>\n",
       "      <th></th>\n",
       "      <th></th>\n",
       "      <th></th>\n",
       "      <th></th>\n",
       "      <th></th>\n",
       "      <th></th>\n",
       "      <th></th>\n",
       "      <th></th>\n",
       "      <th></th>\n",
       "      <th></th>\n",
       "      <th></th>\n",
       "    </tr>\n",
       "  </thead>\n",
       "  <tbody>\n",
       "    <tr>\n",
       "      <th>ADDISON ROAD-SEAT PLEASANT</th>\n",
       "      <td>POINT (335575.906 4305913.519)</td>\n",
       "      <td>833</td>\n",
       "      <td>0</td>\n",
       "      <td>ADDISON ROAD-SEAT PLEASANT</td>\n",
       "      <td>Station entrance is reachable by the walkway f...</td>\n",
       "      <td>STREET</td>\n",
       "      <td>100 ADDISON ROAD S, CAPITOL HEIGHTS, MD 20743</td>\n",
       "      <td>21</td>\n",
       "      <td>G03</td>\n",
       "      <td>MAIN ENTRANCE (ADDISON RD, SOUTH OF CENTRAL AVE)</td>\n",
       "      <td>...</td>\n",
       "      <td>90.0</td>\n",
       "      <td>BLUE</td>\n",
       "      <td>SILVER</td>\n",
       "      <td>None</td>\n",
       "      <td>ADDISON RD &amp; CENTRAL AVE</td>\n",
       "      <td>BS</td>\n",
       "      <td>STREET</td>\n",
       "      <td>4</td>\n",
       "      <td>ADDISON RD, SOUTH OF CENTRAL AVE</td>\n",
       "      <td>BS</td>\n",
       "    </tr>\n",
       "    <tr>\n",
       "      <th>ANACOSTIA</th>\n",
       "      <td>POINT (326869.085 4303461.041)</td>\n",
       "      <td>821</td>\n",
       "      <td>0</td>\n",
       "      <td>ANACOSTIA</td>\n",
       "      <td>Station entrance from south side of Howard St ...</td>\n",
       "      <td>STREET</td>\n",
       "      <td>1101 HOWARD ROAD SE, WASHINGTON, DC 20020</td>\n",
       "      <td>10</td>\n",
       "      <td>F06</td>\n",
       "      <td>SOUTH ENTRANCE 1 (HOWARD RD SE &amp; FIRTH STERING...</td>\n",
       "      <td>...</td>\n",
       "      <td>256.7</td>\n",
       "      <td>GREEN</td>\n",
       "      <td>None</td>\n",
       "      <td>None</td>\n",
       "      <td>HOWARD RD SE &amp; SHANNON PL SE (EAST)</td>\n",
       "      <td>G</td>\n",
       "      <td>STREET</td>\n",
       "      <td>6</td>\n",
       "      <td>HOWARD RD SE &amp; FIRTH STERING AVE SE</td>\n",
       "      <td>G</td>\n",
       "    </tr>\n",
       "  </tbody>\n",
       "</table>\n",
       "<p>2 rows × 35 columns</p>\n",
       "</div>"
      ],
      "text/plain": [
       "                                                  geometry  OBJECTID  ID  \\\n",
       "STATIONNAM                                                                 \n",
       "ADDISON ROAD-SEAT PLEASANT  POINT (335575.906 4305913.519)       833   0   \n",
       "ANACOSTIA                   POINT (326869.085 4303461.041)       821   0   \n",
       "\n",
       "                                             STATIONNM  \\\n",
       "STATIONNAM                                               \n",
       "ADDISON ROAD-SEAT PLEASANT  ADDISON ROAD-SEAT PLEASANT   \n",
       "ANACOSTIA                                    ANACOSTIA   \n",
       "\n",
       "                                                                   DESCRPTION  \\\n",
       "STATIONNAM                                                                      \n",
       "ADDISON ROAD-SEAT PLEASANT  Station entrance is reachable by the walkway f...   \n",
       "ANACOSTIA                   Station entrance from south side of Howard St ...   \n",
       "\n",
       "                           ENTRANCE_T  \\\n",
       "STATIONNAM                              \n",
       "ADDISON ROAD-SEAT PLEASANT     STREET   \n",
       "ANACOSTIA                      STREET   \n",
       "\n",
       "                                                                  ADDRESS  \\\n",
       "STATIONNAM                                                                  \n",
       "ADDISON ROAD-SEAT PLEASANT  100 ADDISON ROAD S, CAPITOL HEIGHTS, MD 20743   \n",
       "ANACOSTIA                       1101 HOWARD ROAD SE, WASHINGTON, DC 20020   \n",
       "\n",
       "                            ENTRANCEID STATIONCOD  \\\n",
       "STATIONNAM                                          \n",
       "ADDISON ROAD-SEAT PLEASANT          21        G03   \n",
       "ANACOSTIA                           10        F06   \n",
       "\n",
       "                                                                   ENTRANCENA  \\\n",
       "STATIONNAM                                                                      \n",
       "ADDISON ROAD-SEAT PLEASANT   MAIN ENTRANCE (ADDISON RD, SOUTH OF CENTRAL AVE)   \n",
       "ANACOSTIA                   SOUTH ENTRANCE 1 (HOWARD RD SE & FIRTH STERING...   \n",
       "\n",
       "                            ... SYMBOL_ROT SERVICE_LI SERVICE__1 SERVICE__2  \\\n",
       "STATIONNAM                  ...                                               \n",
       "ADDISON ROAD-SEAT PLEASANT  ...       90.0       BLUE     SILVER       None   \n",
       "ANACOSTIA                   ...      256.7      GREEN       None       None   \n",
       "\n",
       "                                                     ENTRANCE_1 SRVICELINE  \\\n",
       "STATIONNAM                                                                   \n",
       "ADDISON ROAD-SEAT PLEASANT             ADDISON RD & CENTRAL AVE         BS   \n",
       "ANACOSTIA                   HOWARD RD SE & SHANNON PL SE (EAST)          G   \n",
       "\n",
       "                            ACCESS_TYP  RULEID  \\\n",
       "STATIONNAM                                       \n",
       "ADDISON ROAD-SEAT PLEASANT      STREET       4   \n",
       "ANACOSTIA                       STREET       6   \n",
       "\n",
       "                                                     ENTRANCE_2  SERVICELIN  \n",
       "STATIONNAM                                                                   \n",
       "ADDISON ROAD-SEAT PLEASANT     ADDISON RD, SOUTH OF CENTRAL AVE          BS  \n",
       "ANACOSTIA                   HOWARD RD SE & FIRTH STERING AVE SE           G  \n",
       "\n",
       "[2 rows x 35 columns]"
      ]
     },
     "execution_count": 5,
     "metadata": {},
     "output_type": "execute_result"
    }
   ],
   "source": [
    "stations = metroentrances.dissolve(by='STATIONNAM')\n",
    "stations['geometry'] = stations.centroid\n",
    "stations=stations.to_crs(\"EPSG:32618\")\n",
    "stations.head(2)"
   ]
  },
  {
   "cell_type": "markdown",
   "metadata": {},
   "source": [
    "* Find the Metro Center station and report its geometry\n",
    "* Using geopandas, find the euclidean distance in meters from each of the stations to the metro center station\n",
    "* Divide the euclidean distance by 1609 to get the distance in miles\n",
    "* Subset the dataframe to only the station names and the distance in miles\n",
    "* Export"
   ]
  },
  {
   "cell_type": "code",
   "execution_count": 6,
   "metadata": {
    "colab": {
     "base_uri": "https://localhost:8080/"
    },
    "id": "fye6jZ323Ur5",
    "outputId": "3328fbe7-33fb-47fd-db4c-1e0fbedf6bcb"
   },
   "outputs": [
    {
     "data": {
      "text/plain": [
       "55    POINT (324123.612 4307446.652)\n",
       "Name: geometry, dtype: geometry"
      ]
     },
     "execution_count": 6,
     "metadata": {},
     "output_type": "execute_result"
    }
   ],
   "source": [
    "metrocenter = stations.reset_index()\n",
    "metrocenter = metrocenter[metrocenter['STATIONNM'] == 'METRO CENTER']\n",
    "metrocenter['geometry']"
   ]
  },
  {
   "cell_type": "code",
   "execution_count": 7,
   "metadata": {
    "colab": {
     "base_uri": "https://localhost:8080/",
     "height": 122
    },
    "id": "MVrCIvleEUYb",
    "outputId": "0d15b649-55e1-4eab-994a-66fbbd4a8e20"
   },
   "outputs": [
    {
     "data": {
      "image/svg+xml": [
       "<svg xmlns=\"http://www.w3.org/2000/svg\" xmlns:xlink=\"http://www.w3.org/1999/xlink\" width=\"100.0\" height=\"100.0\" viewBox=\"324122.612 4307445.652 2.0 2.0\" preserveAspectRatio=\"xMinYMin meet\"><g transform=\"matrix(1,0,0,-1,0,8614893.304)\"><circle cx=\"324123.612\" cy=\"4307446.652\" r=\"0.06\" stroke=\"#555555\" stroke-width=\"0.02\" fill=\"#66cc99\" opacity=\"0.6\" /></g></svg>"
      ],
      "text/plain": [
       "<POINT (324123.612 4307446.652)>"
      ]
     },
     "execution_count": 7,
     "metadata": {},
     "output_type": "execute_result"
    }
   ],
   "source": [
    "metrocenter2 = Point(324123.612, 4307446.652)\n",
    "metrocenter2"
   ]
  },
  {
   "cell_type": "code",
   "execution_count": 8,
   "metadata": {
    "id": "m41_JXTKCNmT"
   },
   "outputs": [],
   "source": [
    "stations['distance'] = stations.distance(metrocenter2)\n",
    "stations['distance_miles'] = stations['distance'] /1609"
   ]
  },
  {
   "cell_type": "code",
   "execution_count": 9,
   "metadata": {},
   "outputs": [],
   "source": [
    "stations.reset_index(inplace=True)\n",
    "stations = stations[['STATIONNAM', 'distance_miles']]"
   ]
  },
  {
   "cell_type": "code",
   "execution_count": 10,
   "metadata": {
    "id": "XF0TNIyJIWzI"
   },
   "outputs": [],
   "source": [
    "stations.to_excel(\"output/stations.xlsx\", sheet_name='stations', index=True)"
   ]
  }
 ],
 "metadata": {
  "colab": {
   "provenance": []
  },
  "kernelspec": {
   "display_name": "Python 3 (ipykernel)",
   "language": "python",
   "name": "python3"
  },
  "language_info": {
   "codemirror_mode": {
    "name": "ipython",
    "version": 3
   },
   "file_extension": ".py",
   "mimetype": "text/x-python",
   "name": "python",
   "nbconvert_exporter": "python",
   "pygments_lexer": "ipython3",
   "version": "3.10.8"
  }
 },
 "nbformat": 4,
 "nbformat_minor": 4
}
