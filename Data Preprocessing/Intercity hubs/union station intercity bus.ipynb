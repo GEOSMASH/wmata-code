{
 "cells": [
  {
   "cell_type": "code",
   "execution_count": 1,
   "id": "32d3ba2d-e39f-4eb4-9e11-a2bc4d22e667",
   "metadata": {},
   "outputs": [],
   "source": [
    "import os\n",
    "os.makedirs('output', exist_ok=True)\n",
    "\n",
    "import sys\n",
    "sys.path.append('../')\n",
    "\n",
    "from utils import load_walksheds, overlay_wks\n",
    "\n",
    "import pandas as pd\n",
    "import numpy as np\n",
    "import geopandas as gpd\n",
    "import warnings\n",
    "from fuzzywuzzy import process\n",
    "warnings.filterwarnings('ignore')"
   ]
  },
  {
   "cell_type": "markdown",
   "id": "5ba8086f-cc56-4642-b54f-38c7b84348d8",
   "metadata": {},
   "source": [
    "* load the walksheds at 0.5 and 0.75 mile \n",
    "\n",
    "* Read IPCD data to geopandas https://data-usdot.opendata.arcgis.com/datasets/usdot::intermodal-passenger-connectivity-database-ipcd/explore?filters=eyJzdGF0ZSI6WyJEQyIsIk1EIiwiVkEiXX0%3D&location=41.815415%2C-121.815535%2C3.99&showTable=true\n",
    "  \n",
    "* Read in Amtrak stations dataset https://data-usdot.opendata.arcgis.com/datasets/amtrak-stations/explore\n",
    "\n",
    "* Read in Amtrak ridership data for DC, MD, and VA from https://www.amtrak.com/state-fact-sheets\n",
    "\n",
    "* Read in MTA MARC data https://data.imap.maryland.gov/datasets/e476dcb6dc154683ab63f23472bed5d6/about\n",
    "\n",
    "* Read in WMATA bus ridership data \n"
   ]
  },
  {
   "cell_type": "code",
   "execution_count": 2,
   "id": "7dddec88-dd27-4ed2-b3e1-64e18f5d493c",
   "metadata": {
    "scrolled": true
   },
   "outputs": [],
   "source": [
    "wksp5, wksp75 = load_walksheds()\n",
    "\n",
    "amtrak = pd.read_excel('../../Data/dmv_amtrak_ridership.xlsx', engine='openpyxl')\n",
    "amtrak_geocode = gpd.read_file('../../Data/Amtrak_Stations.geojson')\n",
    "amtrak_geocode = amtrak_geocode[(amtrak_geocode['state']=='MD') | (amtrak_geocode['state']=='DC') | (amtrak_geocode['state']=='VA')].reset_index(drop=True)\n",
    "\n",
    "ipcd = gpd.read_file('../../Data/Intermodal_Passenger_Connectivity_Database_(IPCD).geojson')\n",
    "marc = gpd.read_file('../../Data/MTA MARC train stations.geojson')\n",
    "\n",
    "bus = pd.read_csv('../../Data/Jan 2017 metro ridership.csv')[['stations_name', 'sum']]\n",
    "bus2022 = pd.read_excel('../All Ridership/output/all_ridership.xlsx', engine='openpyxl')\n",
    "bus2022 = bus2022.groupby('START_PLACE_NAME').agg({'COUNT': 'sum'}).reset_index()\n",
    "stn = gpd.read_file('../../Data/stations_all.geojson')\n",
    "\n"
   ]
  },
  {
   "cell_type": "code",
   "execution_count": null,
   "id": "65791640-384f-4af8-98ac-d26768cb1bdb",
   "metadata": {
    "scrolled": true
   },
   "outputs": [],
   "source": []
  },
  {
   "cell_type": "markdown",
   "id": "e47314e9-af2a-43ff-96dd-b3a7eccc96cd",
   "metadata": {},
   "source": [
    "### Bus mode Ridership"
   ]
  },
  {
   "cell_type": "markdown",
   "id": "d929643b-38b0-4b3b-8069-c8f1b298a245",
   "metadata": {},
   "source": [
    "##### Redundant code, using more recent data. Here I used Jan 2017 WMATA ridership data"
   ]
  },
  {
   "cell_type": "code",
   "execution_count": 3,
   "id": "a479cfcc-806d-4a85-995b-7309191281f8",
   "metadata": {
    "scrolled": true
   },
   "outputs": [],
   "source": [
    "bus['ridership'] = bus['sum'].str.replace(',', '').astype(np.int64)\n",
    "bus.drop('sum', axis=1, inplace=True)\n",
    "bus = bus.groupby('stations_name').agg({'ridership': 'sum'}).reset_index()\n",
    "\n",
    "threshold = 85\n",
    "matches = bus['stations_name'].apply(lambda x: process.extractOne(x, stn['Name'], score_cutoff=threshold))\n",
    "\n",
    "bus['matched_key'] = [match[0] if match else None for match in matches]\n"
   ]
  },
  {
   "cell_type": "code",
   "execution_count": 4,
   "id": "1e2af671-49f3-4457-b505-d2b64815c9f6",
   "metadata": {},
   "outputs": [],
   "source": [
    "bus = bus[[\n",
    "    'matched_key', 'ridership'\n",
    "]]"
   ]
  },
  {
   "cell_type": "code",
   "execution_count": 5,
   "id": "ac1e28f8-0bf9-49bf-83f3-bdad9df37b7f",
   "metadata": {},
   "outputs": [],
   "source": [
    "bus = bus.rename(columns={'matched_key':'Name_1'})"
   ]
  },
  {
   "cell_type": "markdown",
   "id": "a541621d-da37-44bb-879f-cd0c3fc73057",
   "metadata": {},
   "source": [
    "##### April - May 2022 WMATA ridership data "
   ]
  },
  {
   "cell_type": "markdown",
   "id": "6abe6273-1dd4-4810-8476-fa2777f4120c",
   "metadata": {},
   "source": [
    "-"
   ]
  },
  {
   "cell_type": "code",
   "execution_count": 6,
   "id": "8d1e07a5-c28b-4c56-800b-3ebe433bc99f",
   "metadata": {},
   "outputs": [],
   "source": [
    "bus2022 = bus2022.rename(columns={'START_PLACE_NAME':'Name_1', 'COUNT': 'ridership' })"
   ]
  },
  {
   "cell_type": "code",
   "execution_count": 7,
   "id": "2fb2d5f9-3017-4718-8d7f-a6c514f8b36c",
   "metadata": {},
   "outputs": [],
   "source": [
    "bus2022['Name_1'] = bus2022['Name_1'].str.upper()"
   ]
  },
  {
   "cell_type": "code",
   "execution_count": 8,
   "id": "e08a628d-3b10-4a43-84c5-4318cc2e1863",
   "metadata": {},
   "outputs": [
    {
     "data": {
      "text/html": [
       "<div>\n",
       "<style scoped>\n",
       "    .dataframe tbody tr th:only-of-type {\n",
       "        vertical-align: middle;\n",
       "    }\n",
       "\n",
       "    .dataframe tbody tr th {\n",
       "        vertical-align: top;\n",
       "    }\n",
       "\n",
       "    .dataframe thead th {\n",
       "        text-align: right;\n",
       "    }\n",
       "</style>\n",
       "<table border=\"1\" class=\"dataframe\">\n",
       "  <thead>\n",
       "    <tr style=\"text-align: right;\">\n",
       "      <th></th>\n",
       "      <th>Name_1</th>\n",
       "      <th>ridership</th>\n",
       "    </tr>\n",
       "  </thead>\n",
       "  <tbody>\n",
       "    <tr>\n",
       "      <th>0</th>\n",
       "      <td>ADDISON ROAD</td>\n",
       "      <td>19259</td>\n",
       "    </tr>\n",
       "    <tr>\n",
       "      <th>1</th>\n",
       "      <td>ANACOSTIA</td>\n",
       "      <td>40970</td>\n",
       "    </tr>\n",
       "    <tr>\n",
       "      <th>2</th>\n",
       "      <td>ARCHIVES-NAVY MEMORIAL</td>\n",
       "      <td>76961</td>\n",
       "    </tr>\n",
       "    <tr>\n",
       "      <th>3</th>\n",
       "      <td>ARLINGTON CEMETERY</td>\n",
       "      <td>27714</td>\n",
       "    </tr>\n",
       "    <tr>\n",
       "      <th>4</th>\n",
       "      <td>BALLSTON</td>\n",
       "      <td>87634</td>\n",
       "    </tr>\n",
       "  </tbody>\n",
       "</table>\n",
       "</div>"
      ],
      "text/plain": [
       "                   Name_1  ridership\n",
       "0            ADDISON ROAD      19259\n",
       "1               ANACOSTIA      40970\n",
       "2  ARCHIVES-NAVY MEMORIAL      76961\n",
       "3      ARLINGTON CEMETERY      27714\n",
       "4                BALLSTON      87634"
      ]
     },
     "execution_count": 8,
     "metadata": {},
     "output_type": "execute_result"
    }
   ],
   "source": [
    "bus2022.head()"
   ]
  },
  {
   "cell_type": "markdown",
   "id": "9d489309-be31-4feb-a9f8-507407426cda",
   "metadata": {},
   "source": [
    "### Air mode Ridership"
   ]
  },
  {
   "cell_type": "markdown",
   "id": "7b148fea-3725-4ae0-84aa-92b5aced1e30",
   "metadata": {},
   "source": [
    "* Flight data for year 2022. obtained from: https://www.transtats.bts.gov/Data_Elements.aspx?Data=1\n",
    "* create dataframe with the stations name and their respective flight ridership"
   ]
  },
  {
   "cell_type": "code",
   "execution_count": 9,
   "id": "da5128d1-3465-4b89-a194-cc2a22fa10b0",
   "metadata": {},
   "outputs": [],
   "source": [
    "dca = pd.read_excel('../../Data/Airport DCA.xlsx', engine='openpyxl')\n",
    "dulles = pd.read_excel('../../Data/aiport (Dulles).xlsx', engine='openpyxl')"
   ]
  },
  {
   "cell_type": "code",
   "execution_count": 10,
   "id": "da7cd191-a04f-4eff-b490-196325b00209",
   "metadata": {},
   "outputs": [],
   "source": [
    "flight = pd.DataFrame({'Name_1': ['Reagan Washington National Airport', 'Washington Dulles International Airport'], \n",
    "                                                              'ridership':[dca['total'].sum(), dulles['Total'].sum()]})"
   ]
  },
  {
   "cell_type": "code",
   "execution_count": 11,
   "id": "5cdd0982-1ba0-4c09-b1c0-f21987f6b552",
   "metadata": {},
   "outputs": [
    {
     "data": {
      "text/html": [
       "<div>\n",
       "<style scoped>\n",
       "    .dataframe tbody tr th:only-of-type {\n",
       "        vertical-align: middle;\n",
       "    }\n",
       "\n",
       "    .dataframe tbody tr th {\n",
       "        vertical-align: top;\n",
       "    }\n",
       "\n",
       "    .dataframe thead th {\n",
       "        text-align: right;\n",
       "    }\n",
       "</style>\n",
       "<table border=\"1\" class=\"dataframe\">\n",
       "  <thead>\n",
       "    <tr style=\"text-align: right;\">\n",
       "      <th></th>\n",
       "      <th>Name_1</th>\n",
       "      <th>ridership</th>\n",
       "    </tr>\n",
       "  </thead>\n",
       "  <tbody>\n",
       "    <tr>\n",
       "      <th>0</th>\n",
       "      <td>REAGAN WASHINGTON NATIONAL AIRPORT</td>\n",
       "      <td>11540151</td>\n",
       "    </tr>\n",
       "    <tr>\n",
       "      <th>1</th>\n",
       "      <td>WASHINGTON DULLES INTERNATIONAL AIRPORT</td>\n",
       "      <td>10250900</td>\n",
       "    </tr>\n",
       "  </tbody>\n",
       "</table>\n",
       "</div>"
      ],
      "text/plain": [
       "                                    Name_1  ridership\n",
       "0       REAGAN WASHINGTON NATIONAL AIRPORT   11540151\n",
       "1  WASHINGTON DULLES INTERNATIONAL AIRPORT   10250900"
      ]
     },
     "execution_count": 11,
     "metadata": {},
     "output_type": "execute_result"
    }
   ],
   "source": [
    "flight['Name_1'] = flight['Name_1'].str.upper()\n",
    "flight"
   ]
  },
  {
   "cell_type": "markdown",
   "id": "4d151298-4849-4d10-834c-9f436edc237c",
   "metadata": {},
   "source": [
    "\n",
    "### Rail mode Ridership "
   ]
  },
  {
   "cell_type": "markdown",
   "id": "016eecb9-5169-432e-a8d5-ddb19e0de868",
   "metadata": {},
   "source": [
    "* process ridership for AMTRAK and MARC \n",
    "* concat bus, rail and flight mode ridership\n",
    "* rename KING ST to KING ST-OLD TOWN\n",
    "* Convert to csv "
   ]
  },
  {
   "cell_type": "code",
   "execution_count": 12,
   "id": "9687f9d8-b565-4d5e-bceb-90f1b4ac2529",
   "metadata": {},
   "outputs": [],
   "source": [
    "marc_metro_p5, marc_metro_p75 = overlay_wks(marc)\n",
    "\n",
    "marc_metro_p5 = marc_metro_p5[['Name_1', 'Avg_Wkdy', 'Avg_Wknd', 'geometry']].fillna(0)\n",
    "marc_metro_p75 = marc_metro_p75[['Name_1', 'Avg_Wkdy', 'Avg_Wknd', 'geometry']].fillna(0)\n",
    "\n",
    "marc_metro_p5['ridership_p5'] = marc_metro_p5['Avg_Wkdy'] + marc_metro_p5['Avg_Wknd']\n",
    "marc_metro_p75['ridership_p75'] = marc_metro_p75['Avg_Wkdy'] + marc_metro_p75['Avg_Wknd']\n",
    "\n",
    "marc_metro_p5.drop(['Avg_Wkdy', 'Avg_Wknd'], axis=1, inplace=True)\n",
    "marc_metro_p75.drop(['Avg_Wkdy', 'Avg_Wknd'], axis=1, inplace=True)"
   ]
  },
  {
   "cell_type": "code",
   "execution_count": 13,
   "id": "1d0f2c98-6c86-49fe-adca-a18f294d6ee6",
   "metadata": {},
   "outputs": [
    {
     "data": {
      "text/html": [
       "<div>\n",
       "<style scoped>\n",
       "    .dataframe tbody tr th:only-of-type {\n",
       "        vertical-align: middle;\n",
       "    }\n",
       "\n",
       "    .dataframe tbody tr th {\n",
       "        vertical-align: top;\n",
       "    }\n",
       "\n",
       "    .dataframe thead th {\n",
       "        text-align: right;\n",
       "    }\n",
       "</style>\n",
       "<table border=\"1\" class=\"dataframe\">\n",
       "  <thead>\n",
       "    <tr style=\"text-align: right;\">\n",
       "      <th></th>\n",
       "      <th>Name_1</th>\n",
       "      <th>geometry</th>\n",
       "      <th>ridership_p75</th>\n",
       "    </tr>\n",
       "  </thead>\n",
       "  <tbody>\n",
       "    <tr>\n",
       "      <th>0</th>\n",
       "      <td>NEW CARROLLTON</td>\n",
       "      <td>POINT (-76.87231 38.94814)</td>\n",
       "      <td>322.0</td>\n",
       "    </tr>\n",
       "    <tr>\n",
       "      <th>1</th>\n",
       "      <td>JUDICIARY SQUARE</td>\n",
       "      <td>POINT (-77.00616 38.89781)</td>\n",
       "      <td>1452.0</td>\n",
       "    </tr>\n",
       "  </tbody>\n",
       "</table>\n",
       "</div>"
      ],
      "text/plain": [
       "             Name_1                    geometry  ridership_p75\n",
       "0    NEW CARROLLTON  POINT (-76.87231 38.94814)          322.0\n",
       "1  JUDICIARY SQUARE  POINT (-77.00616 38.89781)         1452.0"
      ]
     },
     "execution_count": 13,
     "metadata": {},
     "output_type": "execute_result"
    }
   ],
   "source": [
    "marc_metro_p75.head(2)"
   ]
  },
  {
   "cell_type": "code",
   "execution_count": 14,
   "id": "6929f46a-f55e-4895-b86e-e48feb65eab4",
   "metadata": {
    "scrolled": true
   },
   "outputs": [],
   "source": [
    "amtrak_geocode['stationnam'] = amtrak_geocode.stationnam.str.split(',').str[0]"
   ]
  },
  {
   "cell_type": "code",
   "execution_count": 15,
   "id": "0700ec1b-431b-4b55-8d72-56fc282e841a",
   "metadata": {},
   "outputs": [],
   "source": [
    "amtrak_met = amtrak_geocode.merge(amtrak, left_on='stationnam', right_on='City')[['stationnam', 'Ridership', 'geometry' ]]"
   ]
  },
  {
   "cell_type": "code",
   "execution_count": 16,
   "id": "2cd11ae0-d116-45d1-86d5-6a7b7b4e22c1",
   "metadata": {},
   "outputs": [],
   "source": [
    "amtrak_metro_p5, amtrak_metro_p75 = overlay_wks(amtrak_met)"
   ]
  },
  {
   "cell_type": "code",
   "execution_count": 17,
   "id": "ac997ab5-4864-46e8-b7d7-9c2d976de8c9",
   "metadata": {},
   "outputs": [],
   "source": [
    "amtrak_metro_p5.drop(['Acres', 'Shape_Leng', 'Shape_Area', 'StnCode', 'stationnam'], axis=1, inplace=True)\n",
    "amtrak_metro_p75.drop(['Acres', 'Shape_Leng', 'Shape_Area', 'StnCode', 'stationnam'], axis=1, inplace=True)"
   ]
  },
  {
   "cell_type": "code",
   "execution_count": 18,
   "id": "caabfeb9-a95b-42ce-a824-83849c4c5d49",
   "metadata": {},
   "outputs": [],
   "source": [
    "amtrak_metro_p5 = amtrak_metro_p5.rename(columns={'Ridership':'ridership_p5'})\n",
    "amtrak_metro_p75 = amtrak_metro_p75.rename(columns={'Ridership':'ridership_p75'})"
   ]
  },
  {
   "cell_type": "code",
   "execution_count": 19,
   "id": "58fb787a-3aaa-4c18-985d-c39bb54e1043",
   "metadata": {},
   "outputs": [],
   "source": [
    "rail_p5 = pd.concat([amtrak_metro_p5, marc_metro_p5])\n",
    "rail_p75 = pd.concat([amtrak_metro_p75, marc_metro_p75])"
   ]
  },
  {
   "cell_type": "code",
   "execution_count": 20,
   "id": "90a6abf7-e352-4798-b560-9fb573c736dc",
   "metadata": {},
   "outputs": [
    {
     "data": {
      "text/html": [
       "<div>\n",
       "<style scoped>\n",
       "    .dataframe tbody tr th:only-of-type {\n",
       "        vertical-align: middle;\n",
       "    }\n",
       "\n",
       "    .dataframe tbody tr th {\n",
       "        vertical-align: top;\n",
       "    }\n",
       "\n",
       "    .dataframe thead th {\n",
       "        text-align: right;\n",
       "    }\n",
       "</style>\n",
       "<table border=\"1\" class=\"dataframe\">\n",
       "  <thead>\n",
       "    <tr style=\"text-align: right;\">\n",
       "      <th></th>\n",
       "      <th>ridership_p5</th>\n",
       "      <th>Name_1</th>\n",
       "      <th>geometry</th>\n",
       "    </tr>\n",
       "  </thead>\n",
       "  <tbody>\n",
       "    <tr>\n",
       "      <th>0</th>\n",
       "      <td>211971.0</td>\n",
       "      <td>KING ST-OLD TOWN</td>\n",
       "      <td>POINT (-77.06233 38.80651)</td>\n",
       "    </tr>\n",
       "    <tr>\n",
       "      <th>1</th>\n",
       "      <td>169699.0</td>\n",
       "      <td>NEW CARROLLTON</td>\n",
       "      <td>POINT (-76.87150 38.94811)</td>\n",
       "    </tr>\n",
       "    <tr>\n",
       "      <th>2</th>\n",
       "      <td>4058.0</td>\n",
       "      <td>ROCKVILLE</td>\n",
       "      <td>POINT (-77.14600 39.08455)</td>\n",
       "    </tr>\n",
       "    <tr>\n",
       "      <th>3</th>\n",
       "      <td>3631677.0</td>\n",
       "      <td>UNION STATION</td>\n",
       "      <td>POINT (-77.00642 38.89700)</td>\n",
       "    </tr>\n",
       "    <tr>\n",
       "      <th>0</th>\n",
       "      <td>322.0</td>\n",
       "      <td>NEW CARROLLTON</td>\n",
       "      <td>POINT (-76.87231 38.94814)</td>\n",
       "    </tr>\n",
       "    <tr>\n",
       "      <th>1</th>\n",
       "      <td>1452.0</td>\n",
       "      <td>UNION STATION</td>\n",
       "      <td>POINT (-77.00616 38.89781)</td>\n",
       "    </tr>\n",
       "    <tr>\n",
       "      <th>2</th>\n",
       "      <td>91.0</td>\n",
       "      <td>UNION STATION</td>\n",
       "      <td>POINT (-77.00616 38.89781)</td>\n",
       "    </tr>\n",
       "    <tr>\n",
       "      <th>3</th>\n",
       "      <td>107.0</td>\n",
       "      <td>UNION STATION</td>\n",
       "      <td>POINT (-77.00617 38.89781)</td>\n",
       "    </tr>\n",
       "    <tr>\n",
       "      <th>4</th>\n",
       "      <td>9.0</td>\n",
       "      <td>GREENBELT</td>\n",
       "      <td>POINT (-76.91259 39.00994)</td>\n",
       "    </tr>\n",
       "    <tr>\n",
       "      <th>5</th>\n",
       "      <td>12.0</td>\n",
       "      <td>COLLEGE PARK-U OF MD</td>\n",
       "      <td>POINT (-76.92874 38.97794)</td>\n",
       "    </tr>\n",
       "    <tr>\n",
       "      <th>6</th>\n",
       "      <td>34.0</td>\n",
       "      <td>ROCKVILLE</td>\n",
       "      <td>POINT (-77.14610 39.08431)</td>\n",
       "    </tr>\n",
       "    <tr>\n",
       "      <th>7</th>\n",
       "      <td>22.0</td>\n",
       "      <td>SILVER SPRING</td>\n",
       "      <td>POINT (-77.03043 38.99319)</td>\n",
       "    </tr>\n",
       "  </tbody>\n",
       "</table>\n",
       "</div>"
      ],
      "text/plain": [
       "   ridership_p5                Name_1                    geometry\n",
       "0      211971.0      KING ST-OLD TOWN  POINT (-77.06233 38.80651)\n",
       "1      169699.0        NEW CARROLLTON  POINT (-76.87150 38.94811)\n",
       "2        4058.0             ROCKVILLE  POINT (-77.14600 39.08455)\n",
       "3     3631677.0         UNION STATION  POINT (-77.00642 38.89700)\n",
       "0         322.0        NEW CARROLLTON  POINT (-76.87231 38.94814)\n",
       "1        1452.0         UNION STATION  POINT (-77.00616 38.89781)\n",
       "2          91.0         UNION STATION  POINT (-77.00616 38.89781)\n",
       "3         107.0         UNION STATION  POINT (-77.00617 38.89781)\n",
       "4           9.0             GREENBELT  POINT (-76.91259 39.00994)\n",
       "5          12.0  COLLEGE PARK-U OF MD  POINT (-76.92874 38.97794)\n",
       "6          34.0             ROCKVILLE  POINT (-77.14610 39.08431)\n",
       "7          22.0         SILVER SPRING  POINT (-77.03043 38.99319)"
      ]
     },
     "execution_count": 20,
     "metadata": {},
     "output_type": "execute_result"
    }
   ],
   "source": [
    "rail_p5"
   ]
  },
  {
   "cell_type": "code",
   "execution_count": 21,
   "id": "3f82f7cb-0e15-4517-96bc-6f4802a5d308",
   "metadata": {
    "scrolled": true
   },
   "outputs": [],
   "source": [
    "rail_p5 = rail_p5.groupby('Name_1').agg({'ridership_p5':'sum'}).reset_index(False)\n",
    "rail_p75 = rail_p75.groupby('Name_1').agg({'ridership_p75':'sum'}).reset_index(False)"
   ]
  },
  {
   "cell_type": "code",
   "execution_count": 22,
   "id": "bb630a41-e236-433f-a1cb-e066c00abb37",
   "metadata": {},
   "outputs": [],
   "source": [
    "bus_flight = pd.concat([flight, bus2022]).reset_index(drop=True)"
   ]
  },
  {
   "cell_type": "code",
   "execution_count": 23,
   "id": "3a3f0c43-bdf6-40d4-b30d-9c536b74f9a1",
   "metadata": {},
   "outputs": [],
   "source": [
    "bus_flight = bus_flight.groupby('Name_1').sum().reset_index()"
   ]
  },
  {
   "cell_type": "code",
   "execution_count": 24,
   "id": "2ceb42ad-b4a0-404d-80d9-6bee5a948bef",
   "metadata": {},
   "outputs": [],
   "source": [
    "bus_flight = bus_flight.rename(columns={'ridership':'ridership_p5'})\n",
    "intercity_p5 = pd.concat([bus_flight, rail_p5]).reset_index(drop=True)\n",
    "\n",
    "bus_flight = bus_flight.rename(columns={'ridership_p5':'ridership_p75'})\n",
    "intercity_p75 = pd.concat([bus_flight, rail_p75]).reset_index(drop=True)"
   ]
  },
  {
   "cell_type": "code",
   "execution_count": 25,
   "id": "82a98ebd-4bc9-4d68-bf72-882972a271d5",
   "metadata": {},
   "outputs": [],
   "source": [
    "intercity_p5.loc[intercity_p5['Name_1'] == 'KING STREET', 'Name_1'] = 'KING ST-OLD TOWN'\n",
    "intercity_p75.loc[intercity_p75['Name_1'] == 'KING STREET', 'Name_1'] = 'KING ST-OLD TOWN'"
   ]
  },
  {
   "cell_type": "code",
   "execution_count": 26,
   "id": "b499e8d0-1785-4ada-990a-7aefbb21b0fa",
   "metadata": {},
   "outputs": [],
   "source": [
    "intercity_p5 = intercity_p5.groupby('Name_1').agg({'ridership_p5': 'sum'}).reset_index(False)\n",
    "intercity_p75 = intercity_p75.groupby('Name_1').agg({'ridership_p75': 'sum'}).reset_index(False)"
   ]
  },
  {
   "cell_type": "code",
   "execution_count": 27,
   "id": "4def48b9-52d1-4a81-86ba-b973804be342",
   "metadata": {
    "scrolled": true
   },
   "outputs": [],
   "source": [
    "# pd.set_option('display.max_rows', None)\n",
    "intercity_p5.to_csv('output/inter_cityhub_p5.csv', index=False)\n",
    "intercity_p75.to_csv('output/inter_cityhub_p75.csv', index=False)"
   ]
  },
  {
   "cell_type": "code",
   "execution_count": null,
   "id": "1c0b1322-00ea-47f1-b1aa-1e3dd966ff13",
   "metadata": {},
   "outputs": [],
   "source": []
  }
 ],
 "metadata": {
  "kernelspec": {
   "display_name": "Python 3 (ipykernel)",
   "language": "python",
   "name": "python3"
  },
  "language_info": {
   "codemirror_mode": {
    "name": "ipython",
    "version": 3
   },
   "file_extension": ".py",
   "mimetype": "text/x-python",
   "name": "python",
   "nbconvert_exporter": "python",
   "pygments_lexer": "ipython3",
   "version": "3.12.0"
  }
 },
 "nbformat": 4,
 "nbformat_minor": 5
}
