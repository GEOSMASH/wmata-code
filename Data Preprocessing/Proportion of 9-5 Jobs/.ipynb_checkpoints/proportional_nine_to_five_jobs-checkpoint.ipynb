{
 "cells": [
  {
   "cell_type": "code",
   "execution_count": 1,
   "id": "2badc65a",
   "metadata": {
    "colab": {
     "base_uri": "https://localhost:8080/"
    },
    "executionInfo": {
     "elapsed": 123465,
     "status": "ok",
     "timestamp": 1684439878959,
     "user": {
      "displayName": "Janna Chapman",
      "userId": "03316905486439216008"
     },
     "user_tz": 240
    },
    "id": "2badc65a",
    "outputId": "d8d4fc06-bae1-4c99-b4eb-953b4fb1812c"
   },
   "outputs": [],
   "source": [
    "import geopandas as gpd\n",
    "import matplotlib.pyplot as plt\n",
    "import pandas as pd\n",
    "import numpy as np\n",
    "import warnings\n",
    "from geopandas.tools import overlay\n",
    "warnings.filterwarnings('ignore')"
   ]
  },
  {
   "cell_type": "markdown",
   "id": "8d46f7fd",
   "metadata": {},
   "source": [
    "#### Read in dataset and shapefiles."
   ]
  },
  {
   "cell_type": "markdown",
   "id": "d681061f",
   "metadata": {},
   "source": [
    "- entrances is shapefile for the metro rail station entrances\n",
    "- walkshedbuffer is..\n",
    "- all_boundaries is shapefile of counties that metro lines passed from them\n",
    "- Alljobs_MDDCVA is data of jobs for MD, DC, VA"
   ]
  },
  {
   "cell_type": "code",
   "execution_count": 2,
   "id": "5d6664a1",
   "metadata": {
    "executionInfo": {
     "elapsed": 39490,
     "status": "ok",
     "timestamp": 1684439925065,
     "user": {
      "displayName": "Janna Chapman",
      "userId": "03316905486439216008"
     },
     "user_tz": 240
    },
    "id": "5d6664a1"
   },
   "outputs": [],
   "source": [
    "entrances = gpd.read_file('../../Data/RailStationsEntrances/RailStationEntrances2023.shp')\n",
    "walkshedbuffer = gpd.read_file('../../Data/unions/Union_walkshades.shp')\n",
    "all_boundaries= gpd.read_file('../../Data/MD_DC_VA/Block MD_DC_VA.shp')\n",
    "Alljobs_MDDCVA = pd.read_excel('../../Data/AlljobMDDCVA.xlsx')"
   ]
  },
  {
   "cell_type": "markdown",
   "id": "d6483329",
   "metadata": {},
   "source": [
    "#### Preprocessing"
   ]
  },
  {
   "cell_type": "markdown",
   "id": "decc0303",
   "metadata": {},
   "source": [
    "- Bring the shapefiles into common cordinate system\n",
    "- rename w_geocode of job's table to GEOID20, ID name in block shapefile of DC, MD, VA\n",
    "- Join jobs to boundary of case study, use outer to keep stations if they have not any similarity on GeoID\n",
    "- intersect buffer of metro stations 0.5 miles with job boundaries"
   ]
  },
  {
   "cell_type": "code",
   "execution_count": 3,
   "id": "1902ddce",
   "metadata": {
    "executionInfo": {
     "elapsed": 246551,
     "status": "ok",
     "timestamp": 1684440247798,
     "user": {
      "displayName": "Janna Chapman",
      "userId": "03316905486439216008"
     },
     "user_tz": 240
    },
    "id": "1902ddce"
   },
   "outputs": [],
   "source": [
    "walkshedbuffer= walkshedbuffer.to_crs('EPSG:4326')\n",
    "entrances = entrances.to_crs('EPSG:4326')\n",
    "all_boundaries =all_boundaries.to_crs('EPSG:4326')"
   ]
  },
  {
   "cell_type": "code",
   "execution_count": 4,
   "id": "38e2e43e",
   "metadata": {
    "executionInfo": {
     "elapsed": 15,
     "status": "ok",
     "timestamp": 1684440488761,
     "user": {
      "displayName": "Janna Chapman",
      "userId": "03316905486439216008"
     },
     "user_tz": 240
    },
    "id": "38e2e43e"
   },
   "outputs": [],
   "source": [
    "Alljobs_MDDCVA.rename(columns = {'w_geocode':'GEOID20'}, inplace = True)\n",
    "\n",
    "all_boundaries[\"GEOID20\"]= all_boundaries[\"GEOID20\"].astype(np.int64)"
   ]
  },
  {
   "cell_type": "code",
   "execution_count": 5,
   "id": "644c7d79",
   "metadata": {
    "executionInfo": {
     "elapsed": 404,
     "status": "ok",
     "timestamp": 1684440489156,
     "user": {
      "displayName": "Janna Chapman",
      "userId": "03316905486439216008"
     },
     "user_tz": 240
    },
    "id": "644c7d79"
   },
   "outputs": [],
   "source": [
    "Join_Jobs_Boundaries=pd.merge(all_boundaries,Alljobs_MDDCVA, on=\"GEOID20\", how='outer')"
   ]
  },
  {
   "cell_type": "code",
   "execution_count": 6,
   "id": "c42483d8",
   "metadata": {
    "colab": {
     "base_uri": "https://localhost:8080/"
    },
    "executionInfo": {
     "elapsed": 447,
     "status": "ok",
     "timestamp": 1684440489595,
     "user": {
      "displayName": "Janna Chapman",
      "userId": "03316905486439216008"
     },
     "user_tz": 240
    },
    "id": "c42483d8",
    "outputId": "95ae2008-6d85-461e-d318-2f5cce45734a"
   },
   "outputs": [],
   "source": [
    "walkshedbuffer = walkshedbuffer.to_crs ('EPSG:4326')\n",
    "Join_Jobs_Boundaries = Join_Jobs_Boundaries.to_crs ('EPSG:4326')\n",
    "Join_Jobs_Boundaries['fullarea'] = Join_Jobs_Boundaries.area"
   ]
  },
  {
   "cell_type": "markdown",
   "id": "25be5087",
   "metadata": {},
   "source": [
    "- get stations that intersects\n",
    "- find the partial area of the intersected boundaries to get the proportional area\n"
   ]
  },
  {
   "cell_type": "code",
   "execution_count": 7,
   "id": "b02605f8",
   "metadata": {
    "executionInfo": {
     "elapsed": 907,
     "status": "ok",
     "timestamp": 1684440490500,
     "user": {
      "displayName": "Janna Chapman",
      "userId": "03316905486439216008"
     },
     "user_tz": 240
    },
    "id": "b02605f8"
   },
   "outputs": [],
   "source": [
    "intersect_stations_Jobs = walkshedbuffer.overlay(Join_Jobs_Boundaries, how=\"intersection\")"
   ]
  },
  {
   "cell_type": "code",
   "execution_count": 8,
   "id": "c4e2672c",
   "metadata": {
    "colab": {
     "base_uri": "https://localhost:8080/",
     "height": 1000
    },
    "executionInfo": {
     "elapsed": 163,
     "status": "ok",
     "timestamp": 1684440490652,
     "user": {
      "displayName": "Janna Chapman",
      "userId": "03316905486439216008"
     },
     "user_tz": 240
    },
    "id": "c4e2672c",
    "outputId": "b0b61e21-32ad-40e0-c127-6aa6eed1692e"
   },
   "outputs": [
    {
     "data": {
      "text/html": [
       "<div>\n",
       "<style scoped>\n",
       "    .dataframe tbody tr th:only-of-type {\n",
       "        vertical-align: middle;\n",
       "    }\n",
       "\n",
       "    .dataframe tbody tr th {\n",
       "        vertical-align: top;\n",
       "    }\n",
       "\n",
       "    .dataframe thead th {\n",
       "        text-align: right;\n",
       "    }\n",
       "</style>\n",
       "<table border=\"1\" class=\"dataframe\">\n",
       "  <thead>\n",
       "    <tr style=\"text-align: right;\">\n",
       "      <th></th>\n",
       "      <th>Name_1</th>\n",
       "      <th>Acres</th>\n",
       "      <th>Shape_Leng_1</th>\n",
       "      <th>Shape_Area_1</th>\n",
       "      <th>StnCode</th>\n",
       "      <th>STATEFP20</th>\n",
       "      <th>COUNTYFP20</th>\n",
       "      <th>TRACTCE20</th>\n",
       "      <th>BLOCKCE20</th>\n",
       "      <th>GEOID20</th>\n",
       "      <th>NAME20</th>\n",
       "      <th>ALAND20</th>\n",
       "      <th>AWATER20</th>\n",
       "      <th>INTPTLAT20</th>\n",
       "      <th>INTPTLON20</th>\n",
       "      <th>HOUSING20</th>\n",
       "      <th>POP20</th>\n",
       "      <th>Shape_Leng_2</th>\n",
       "      <th>Shape_Area_2</th>\n",
       "      <th>C000</th>\n",
       "      <th>CA01</th>\n",
       "      <th>CA02</th>\n",
       "      <th>CA03</th>\n",
       "      <th>CE01</th>\n",
       "      <th>CE02</th>\n",
       "      <th>CE03</th>\n",
       "      <th>CNS01</th>\n",
       "      <th>CNS02</th>\n",
       "      <th>CNS03</th>\n",
       "      <th>CNS04</th>\n",
       "      <th>CNS05</th>\n",
       "      <th>CNS06</th>\n",
       "      <th>CNS07</th>\n",
       "      <th>CNS08</th>\n",
       "      <th>CNS09</th>\n",
       "      <th>CNS10</th>\n",
       "      <th>CNS11</th>\n",
       "      <th>CNS12</th>\n",
       "      <th>CNS13</th>\n",
       "      <th>CNS14</th>\n",
       "      <th>CNS15</th>\n",
       "      <th>CNS16</th>\n",
       "      <th>CNS17</th>\n",
       "      <th>CNS18</th>\n",
       "      <th>CNS19</th>\n",
       "      <th>CNS20</th>\n",
       "      <th>CR01</th>\n",
       "      <th>CR02</th>\n",
       "      <th>CR03</th>\n",
       "      <th>CR04</th>\n",
       "      <th>CR05</th>\n",
       "      <th>CR07</th>\n",
       "      <th>CT01</th>\n",
       "      <th>CT02</th>\n",
       "      <th>CD01</th>\n",
       "      <th>CD02</th>\n",
       "      <th>CD03</th>\n",
       "      <th>CD04</th>\n",
       "      <th>CS01</th>\n",
       "      <th>CS02</th>\n",
       "      <th>CFA01</th>\n",
       "      <th>CFA02</th>\n",
       "      <th>CFA03</th>\n",
       "      <th>CFA04</th>\n",
       "      <th>CFA05</th>\n",
       "      <th>CFS01</th>\n",
       "      <th>CFS02</th>\n",
       "      <th>CFS03</th>\n",
       "      <th>CFS04</th>\n",
       "      <th>CFS05</th>\n",
       "      <th>createdate</th>\n",
       "      <th>fullarea</th>\n",
       "      <th>geometry</th>\n",
       "    </tr>\n",
       "  </thead>\n",
       "  <tbody>\n",
       "    <tr>\n",
       "      <th>0</th>\n",
       "      <td>ADDISON ROAD-SEAT PLEASANT : 0 - 2640</td>\n",
       "      <td>246.285276</td>\n",
       "      <td>16545.122053</td>\n",
       "      <td>1.072814e+07</td>\n",
       "      <td>NaN</td>\n",
       "      <td>24</td>\n",
       "      <td>033</td>\n",
       "      <td>802700</td>\n",
       "      <td>1000</td>\n",
       "      <td>240338027001000</td>\n",
       "      <td>Block 1000</td>\n",
       "      <td>2490.0</td>\n",
       "      <td>0.0</td>\n",
       "      <td>+38.8868395</td>\n",
       "      <td>-076.9011164</td>\n",
       "      <td>0.0</td>\n",
       "      <td>0.0</td>\n",
       "      <td>0.003912</td>\n",
       "      <td>2.584900e-07</td>\n",
       "      <td>NaN</td>\n",
       "      <td>NaN</td>\n",
       "      <td>NaN</td>\n",
       "      <td>NaN</td>\n",
       "      <td>NaN</td>\n",
       "      <td>NaN</td>\n",
       "      <td>NaN</td>\n",
       "      <td>NaN</td>\n",
       "      <td>NaN</td>\n",
       "      <td>NaN</td>\n",
       "      <td>NaN</td>\n",
       "      <td>NaN</td>\n",
       "      <td>NaN</td>\n",
       "      <td>NaN</td>\n",
       "      <td>NaN</td>\n",
       "      <td>NaN</td>\n",
       "      <td>NaN</td>\n",
       "      <td>NaN</td>\n",
       "      <td>NaN</td>\n",
       "      <td>NaN</td>\n",
       "      <td>NaN</td>\n",
       "      <td>NaN</td>\n",
       "      <td>NaN</td>\n",
       "      <td>NaN</td>\n",
       "      <td>NaN</td>\n",
       "      <td>NaN</td>\n",
       "      <td>NaN</td>\n",
       "      <td>NaN</td>\n",
       "      <td>NaN</td>\n",
       "      <td>NaN</td>\n",
       "      <td>NaN</td>\n",
       "      <td>NaN</td>\n",
       "      <td>NaN</td>\n",
       "      <td>NaN</td>\n",
       "      <td>NaN</td>\n",
       "      <td>NaN</td>\n",
       "      <td>NaN</td>\n",
       "      <td>NaN</td>\n",
       "      <td>NaN</td>\n",
       "      <td>NaN</td>\n",
       "      <td>NaN</td>\n",
       "      <td>NaN</td>\n",
       "      <td>NaN</td>\n",
       "      <td>NaN</td>\n",
       "      <td>NaN</td>\n",
       "      <td>NaN</td>\n",
       "      <td>NaN</td>\n",
       "      <td>NaN</td>\n",
       "      <td>NaN</td>\n",
       "      <td>NaN</td>\n",
       "      <td>NaN</td>\n",
       "      <td>NaN</td>\n",
       "      <td>2.584900e-07</td>\n",
       "      <td>POLYGON ((-76.90028 38.88671, -76.90097 38.886...</td>\n",
       "    </tr>\n",
       "    <tr>\n",
       "      <th>1</th>\n",
       "      <td>ADDISON ROAD-SEAT PLEASANT : 0 - 2640</td>\n",
       "      <td>246.285276</td>\n",
       "      <td>16545.122053</td>\n",
       "      <td>1.072814e+07</td>\n",
       "      <td>NaN</td>\n",
       "      <td>24</td>\n",
       "      <td>033</td>\n",
       "      <td>802805</td>\n",
       "      <td>2004</td>\n",
       "      <td>240338028052004</td>\n",
       "      <td>Block 2004</td>\n",
       "      <td>132809.0</td>\n",
       "      <td>0.0</td>\n",
       "      <td>+38.8889868</td>\n",
       "      <td>-076.8872501</td>\n",
       "      <td>351.0</td>\n",
       "      <td>938.0</td>\n",
       "      <td>0.016098</td>\n",
       "      <td>1.378871e-05</td>\n",
       "      <td>NaN</td>\n",
       "      <td>NaN</td>\n",
       "      <td>NaN</td>\n",
       "      <td>NaN</td>\n",
       "      <td>NaN</td>\n",
       "      <td>NaN</td>\n",
       "      <td>NaN</td>\n",
       "      <td>NaN</td>\n",
       "      <td>NaN</td>\n",
       "      <td>NaN</td>\n",
       "      <td>NaN</td>\n",
       "      <td>NaN</td>\n",
       "      <td>NaN</td>\n",
       "      <td>NaN</td>\n",
       "      <td>NaN</td>\n",
       "      <td>NaN</td>\n",
       "      <td>NaN</td>\n",
       "      <td>NaN</td>\n",
       "      <td>NaN</td>\n",
       "      <td>NaN</td>\n",
       "      <td>NaN</td>\n",
       "      <td>NaN</td>\n",
       "      <td>NaN</td>\n",
       "      <td>NaN</td>\n",
       "      <td>NaN</td>\n",
       "      <td>NaN</td>\n",
       "      <td>NaN</td>\n",
       "      <td>NaN</td>\n",
       "      <td>NaN</td>\n",
       "      <td>NaN</td>\n",
       "      <td>NaN</td>\n",
       "      <td>NaN</td>\n",
       "      <td>NaN</td>\n",
       "      <td>NaN</td>\n",
       "      <td>NaN</td>\n",
       "      <td>NaN</td>\n",
       "      <td>NaN</td>\n",
       "      <td>NaN</td>\n",
       "      <td>NaN</td>\n",
       "      <td>NaN</td>\n",
       "      <td>NaN</td>\n",
       "      <td>NaN</td>\n",
       "      <td>NaN</td>\n",
       "      <td>NaN</td>\n",
       "      <td>NaN</td>\n",
       "      <td>NaN</td>\n",
       "      <td>NaN</td>\n",
       "      <td>NaN</td>\n",
       "      <td>NaN</td>\n",
       "      <td>NaN</td>\n",
       "      <td>NaN</td>\n",
       "      <td>NaN</td>\n",
       "      <td>1.378871e-05</td>\n",
       "      <td>POLYGON ((-76.88975 38.88900, -76.88853 38.888...</td>\n",
       "    </tr>\n",
       "  </tbody>\n",
       "</table>\n",
       "</div>"
      ],
      "text/plain": [
       "                                  Name_1       Acres  Shape_Leng_1  \\\n",
       "0  ADDISON ROAD-SEAT PLEASANT : 0 - 2640  246.285276  16545.122053   \n",
       "1  ADDISON ROAD-SEAT PLEASANT : 0 - 2640  246.285276  16545.122053   \n",
       "\n",
       "   Shape_Area_1 StnCode STATEFP20 COUNTYFP20 TRACTCE20 BLOCKCE20  \\\n",
       "0  1.072814e+07     NaN        24        033    802700      1000   \n",
       "1  1.072814e+07     NaN        24        033    802805      2004   \n",
       "\n",
       "           GEOID20      NAME20   ALAND20  AWATER20   INTPTLAT20    INTPTLON20  \\\n",
       "0  240338027001000  Block 1000    2490.0       0.0  +38.8868395  -076.9011164   \n",
       "1  240338028052004  Block 2004  132809.0       0.0  +38.8889868  -076.8872501   \n",
       "\n",
       "   HOUSING20  POP20  Shape_Leng_2  Shape_Area_2  C000  CA01  CA02  CA03  CE01  \\\n",
       "0        0.0    0.0      0.003912  2.584900e-07   NaN   NaN   NaN   NaN   NaN   \n",
       "1      351.0  938.0      0.016098  1.378871e-05   NaN   NaN   NaN   NaN   NaN   \n",
       "\n",
       "   CE02  CE03  CNS01  CNS02  CNS03  CNS04  CNS05  CNS06  CNS07  CNS08  CNS09  \\\n",
       "0   NaN   NaN    NaN    NaN    NaN    NaN    NaN    NaN    NaN    NaN    NaN   \n",
       "1   NaN   NaN    NaN    NaN    NaN    NaN    NaN    NaN    NaN    NaN    NaN   \n",
       "\n",
       "   CNS10  CNS11  CNS12  CNS13  CNS14  CNS15  CNS16  CNS17  CNS18  CNS19  \\\n",
       "0    NaN    NaN    NaN    NaN    NaN    NaN    NaN    NaN    NaN    NaN   \n",
       "1    NaN    NaN    NaN    NaN    NaN    NaN    NaN    NaN    NaN    NaN   \n",
       "\n",
       "   CNS20  CR01  CR02  CR03  CR04  CR05  CR07  CT01  CT02  CD01  CD02  CD03  \\\n",
       "0    NaN   NaN   NaN   NaN   NaN   NaN   NaN   NaN   NaN   NaN   NaN   NaN   \n",
       "1    NaN   NaN   NaN   NaN   NaN   NaN   NaN   NaN   NaN   NaN   NaN   NaN   \n",
       "\n",
       "   CD04  CS01  CS02  CFA01  CFA02  CFA03  CFA04  CFA05  CFS01  CFS02  CFS03  \\\n",
       "0   NaN   NaN   NaN    NaN    NaN    NaN    NaN    NaN    NaN    NaN    NaN   \n",
       "1   NaN   NaN   NaN    NaN    NaN    NaN    NaN    NaN    NaN    NaN    NaN   \n",
       "\n",
       "   CFS04  CFS05  createdate      fullarea  \\\n",
       "0    NaN    NaN         NaN  2.584900e-07   \n",
       "1    NaN    NaN         NaN  1.378871e-05   \n",
       "\n",
       "                                            geometry  \n",
       "0  POLYGON ((-76.90028 38.88671, -76.90097 38.886...  \n",
       "1  POLYGON ((-76.88975 38.88900, -76.88853 38.888...  "
      ]
     },
     "execution_count": 8,
     "metadata": {},
     "output_type": "execute_result"
    }
   ],
   "source": [
    "pd.set_option('display.max_columns', None)\n",
    "intersect_stations_Jobs.head(2)"
   ]
  },
  {
   "cell_type": "code",
   "execution_count": 9,
   "id": "loylJ0AxdAxX",
   "metadata": {
    "colab": {
     "base_uri": "https://localhost:8080/"
    },
    "executionInfo": {
     "elapsed": 229,
     "status": "ok",
     "timestamp": 1684440589158,
     "user": {
      "displayName": "Janna Chapman",
      "userId": "03316905486439216008"
     },
     "user_tz": 240
    },
    "id": "loylJ0AxdAxX",
    "outputId": "3be83fb1-2d4c-477d-aeaf-18e646fa9eef"
   },
   "outputs": [],
   "source": [
    "intersect_stations_Jobs['partialarea'] = intersect_stations_Jobs.area\n",
    "intersect_stations_Jobs['Name_1']=intersect_stations_Jobs['Name_1'].str.replace(' : 0 - 2640','')\n",
    "intersect_stations_Jobs['Name_1']=intersect_stations_Jobs['Name_1'].str.replace(' : 0 - 22.4525758392805','')"
   ]
  },
  {
   "cell_type": "code",
   "execution_count": 10,
   "id": "f0d7f607",
   "metadata": {
    "executionInfo": {
     "elapsed": 784,
     "status": "ok",
     "timestamp": 1684440592525,
     "user": {
      "displayName": "Janna Chapman",
      "userId": "03316905486439216008"
     },
     "user_tz": 240
    },
    "id": "f0d7f607"
   },
   "outputs": [],
   "source": [
    "### education job from LEHD WAC data in SLD tutorial: NAICS sector 61\n",
    "### these codes is CNS15\n",
    "\n",
    "sum_ninetofive_workers_bufstation= intersect_stations_Jobs.groupby(['Name_1'])[['CNS05','CNS09','CNS10','CNS11','CNS12'\n",
    "                                                                             ,'CNS13','CNS14','CNS20']].apply(sum)\n",
    "   "
   ]
  },
  {
   "cell_type": "code",
   "execution_count": 11,
   "id": "50ce8bf8",
   "metadata": {
    "executionInfo": {
     "elapsed": 167,
     "status": "ok",
     "timestamp": 1684440601605,
     "user": {
      "displayName": "Janna Chapman",
      "userId": "03316905486439216008"
     },
     "user_tz": 240
    },
    "id": "50ce8bf8"
   },
   "outputs": [],
   "source": [
    "sum_ninetofive_workers_bufstation['Total Nine to Five workers']= sum_ninetofive_workers_bufstation.iloc[:, -8:-1].sum(axis=1)\n"
   ]
  },
  {
   "cell_type": "code",
   "execution_count": 12,
   "id": "8ed0a866",
   "metadata": {
    "colab": {
     "base_uri": "https://localhost:8080/",
     "height": 455
    },
    "executionInfo": {
     "elapsed": 144,
     "status": "ok",
     "timestamp": 1684440604645,
     "user": {
      "displayName": "Janna Chapman",
      "userId": "03316905486439216008"
     },
     "user_tz": 240
    },
    "id": "8ed0a866",
    "outputId": "156f13a0-f2fa-42b9-e598-e8dad9a10cde"
   },
   "outputs": [
    {
     "data": {
      "text/html": [
       "<div>\n",
       "<style scoped>\n",
       "    .dataframe tbody tr th:only-of-type {\n",
       "        vertical-align: middle;\n",
       "    }\n",
       "\n",
       "    .dataframe tbody tr th {\n",
       "        vertical-align: top;\n",
       "    }\n",
       "\n",
       "    .dataframe thead th {\n",
       "        text-align: right;\n",
       "    }\n",
       "</style>\n",
       "<table border=\"1\" class=\"dataframe\">\n",
       "  <thead>\n",
       "    <tr style=\"text-align: right;\">\n",
       "      <th></th>\n",
       "      <th>CNS05</th>\n",
       "      <th>CNS09</th>\n",
       "      <th>CNS10</th>\n",
       "      <th>CNS11</th>\n",
       "      <th>CNS12</th>\n",
       "      <th>CNS13</th>\n",
       "      <th>CNS14</th>\n",
       "      <th>CNS20</th>\n",
       "      <th>Total Nine to Five workers</th>\n",
       "    </tr>\n",
       "    <tr>\n",
       "      <th>Name_1</th>\n",
       "      <th></th>\n",
       "      <th></th>\n",
       "      <th></th>\n",
       "      <th></th>\n",
       "      <th></th>\n",
       "      <th></th>\n",
       "      <th></th>\n",
       "      <th></th>\n",
       "      <th></th>\n",
       "    </tr>\n",
       "  </thead>\n",
       "  <tbody>\n",
       "    <tr>\n",
       "      <th>ADDISON ROAD-SEAT PLEASANT</th>\n",
       "      <td>0.0</td>\n",
       "      <td>0.0</td>\n",
       "      <td>0.0</td>\n",
       "      <td>0.0</td>\n",
       "      <td>0.0</td>\n",
       "      <td>0.0</td>\n",
       "      <td>0.0</td>\n",
       "      <td>0.0</td>\n",
       "      <td>0.0</td>\n",
       "    </tr>\n",
       "    <tr>\n",
       "      <th>ANACOSTIA</th>\n",
       "      <td>0.0</td>\n",
       "      <td>0.0</td>\n",
       "      <td>24.0</td>\n",
       "      <td>28.0</td>\n",
       "      <td>268.0</td>\n",
       "      <td>16.0</td>\n",
       "      <td>532.0</td>\n",
       "      <td>888.0</td>\n",
       "      <td>868.0</td>\n",
       "    </tr>\n",
       "  </tbody>\n",
       "</table>\n",
       "</div>"
      ],
      "text/plain": [
       "                            CNS05  CNS09  CNS10  CNS11  CNS12  CNS13  CNS14  \\\n",
       "Name_1                                                                        \n",
       "ADDISON ROAD-SEAT PLEASANT    0.0    0.0    0.0    0.0    0.0    0.0    0.0   \n",
       "ANACOSTIA                     0.0    0.0   24.0   28.0  268.0   16.0  532.0   \n",
       "\n",
       "                            CNS20  Total Nine to Five workers  \n",
       "Name_1                                                         \n",
       "ADDISON ROAD-SEAT PLEASANT    0.0                         0.0  \n",
       "ANACOSTIA                   888.0                       868.0  "
      ]
     },
     "execution_count": 12,
     "metadata": {},
     "output_type": "execute_result"
    }
   ],
   "source": [
    "sum_ninetofive_workers_bufstation.head(2)"
   ]
  },
  {
   "cell_type": "code",
   "execution_count": 13,
   "id": "bbbd312c",
   "metadata": {
    "executionInfo": {
     "elapsed": 3,
     "status": "ok",
     "timestamp": 1684440606420,
     "user": {
      "displayName": "Janna Chapman",
      "userId": "03316905486439216008"
     },
     "user_tz": 240
    },
    "id": "bbbd312c"
   },
   "outputs": [],
   "source": [
    "sum_ninetofive_workers_bufstation = sum_ninetofive_workers_bufstation.drop(['CNS05','CNS09','CNS10','CNS11','CNS12'\n",
    "                                                                             ,'CNS13','CNS14','CNS20'],axis = 1)"
   ]
  },
  {
   "cell_type": "code",
   "execution_count": 14,
   "id": "3fb820cf",
   "metadata": {
    "colab": {
     "base_uri": "https://localhost:8080/",
     "height": 455
    },
    "executionInfo": {
     "elapsed": 166,
     "status": "ok",
     "timestamp": 1684440607487,
     "user": {
      "displayName": "Janna Chapman",
      "userId": "03316905486439216008"
     },
     "user_tz": 240
    },
    "id": "3fb820cf",
    "outputId": "56d69504-8baf-4013-d3ec-63725ed729ed"
   },
   "outputs": [
    {
     "data": {
      "text/html": [
       "<div>\n",
       "<style scoped>\n",
       "    .dataframe tbody tr th:only-of-type {\n",
       "        vertical-align: middle;\n",
       "    }\n",
       "\n",
       "    .dataframe tbody tr th {\n",
       "        vertical-align: top;\n",
       "    }\n",
       "\n",
       "    .dataframe thead th {\n",
       "        text-align: right;\n",
       "    }\n",
       "</style>\n",
       "<table border=\"1\" class=\"dataframe\">\n",
       "  <thead>\n",
       "    <tr style=\"text-align: right;\">\n",
       "      <th></th>\n",
       "      <th>Total Nine to Five workers</th>\n",
       "    </tr>\n",
       "    <tr>\n",
       "      <th>Name_1</th>\n",
       "      <th></th>\n",
       "    </tr>\n",
       "  </thead>\n",
       "  <tbody>\n",
       "    <tr>\n",
       "      <th>ADDISON ROAD-SEAT PLEASANT</th>\n",
       "      <td>0.0</td>\n",
       "    </tr>\n",
       "    <tr>\n",
       "      <th>ANACOSTIA</th>\n",
       "      <td>868.0</td>\n",
       "    </tr>\n",
       "    <tr>\n",
       "      <th>ARCHIVES-NAVY MEMORIAL-PENN QUARTER</th>\n",
       "      <td>0.0</td>\n",
       "    </tr>\n",
       "  </tbody>\n",
       "</table>\n",
       "</div>"
      ],
      "text/plain": [
       "                                     Total Nine to Five workers\n",
       "Name_1                                                         \n",
       "ADDISON ROAD-SEAT PLEASANT                                  0.0\n",
       "ANACOSTIA                                                 868.0\n",
       "ARCHIVES-NAVY MEMORIAL-PENN QUARTER                         0.0"
      ]
     },
     "execution_count": 14,
     "metadata": {},
     "output_type": "execute_result"
    }
   ],
   "source": [
    "sum_ninetofive_workers_bufstation.head(3)"
   ]
  },
  {
   "cell_type": "code",
   "execution_count": 15,
   "id": "06d07f89",
   "metadata": {
    "colab": {
     "base_uri": "https://localhost:8080/"
    },
    "executionInfo": {
     "elapsed": 439,
     "status": "ok",
     "timestamp": 1684440613538,
     "user": {
      "displayName": "Janna Chapman",
      "userId": "03316905486439216008"
     },
     "user_tz": 240
    },
    "id": "06d07f89",
    "outputId": "33afeade-f708-410d-bd48-406e2eba4bc0"
   },
   "outputs": [
    {
     "data": {
      "text/plain": [
       "Name_1\n",
       "ADDISON ROAD-SEAT PLEASANT             0.290270\n",
       "ANACOSTIA                              0.396427\n",
       "ARCHIVES-NAVY MEMORIAL-PENN QUARTER    0.714782\n",
       "dtype: float64"
      ]
     },
     "execution_count": 15,
     "metadata": {},
     "output_type": "execute_result"
    }
   ],
   "source": [
    "totalarea_station = intersect_stations_Jobs.groupby(['Name_1'])[['fullarea']].apply(sum)\n",
    "partialarea_station = intersect_stations_Jobs.groupby(['Name_1'])[['partialarea']].apply(sum)\n",
    "multiplier = partialarea_station['partialarea']/totalarea_station['fullarea']\n",
    "multiplier.head(3)"
   ]
  },
  {
   "cell_type": "code",
   "execution_count": 16,
   "id": "4658a8b8",
   "metadata": {
    "colab": {
     "base_uri": "https://localhost:8080/",
     "height": 455
    },
    "executionInfo": {
     "elapsed": 147,
     "status": "ok",
     "timestamp": 1684440615411,
     "user": {
      "displayName": "Janna Chapman",
      "userId": "03316905486439216008"
     },
     "user_tz": 240
    },
    "id": "4658a8b8",
    "outputId": "1ead0a60-35dd-494e-a464-32ab96859732"
   },
   "outputs": [
    {
     "data": {
      "text/html": [
       "<div>\n",
       "<style scoped>\n",
       "    .dataframe tbody tr th:only-of-type {\n",
       "        vertical-align: middle;\n",
       "    }\n",
       "\n",
       "    .dataframe tbody tr th {\n",
       "        vertical-align: top;\n",
       "    }\n",
       "\n",
       "    .dataframe thead th {\n",
       "        text-align: right;\n",
       "    }\n",
       "</style>\n",
       "<table border=\"1\" class=\"dataframe\">\n",
       "  <thead>\n",
       "    <tr style=\"text-align: right;\">\n",
       "      <th></th>\n",
       "      <th>Total Nine to Five workers</th>\n",
       "    </tr>\n",
       "    <tr>\n",
       "      <th>Name_1</th>\n",
       "      <th></th>\n",
       "    </tr>\n",
       "  </thead>\n",
       "  <tbody>\n",
       "    <tr>\n",
       "      <th>ADDISON ROAD-SEAT PLEASANT</th>\n",
       "      <td>0.000000</td>\n",
       "    </tr>\n",
       "    <tr>\n",
       "      <th>ANACOSTIA</th>\n",
       "      <td>344.098476</td>\n",
       "    </tr>\n",
       "  </tbody>\n",
       "</table>\n",
       "</div>"
      ],
      "text/plain": [
       "                            Total Nine to Five workers\n",
       "Name_1                                                \n",
       "ADDISON ROAD-SEAT PLEASANT                    0.000000\n",
       "ANACOSTIA                                   344.098476"
      ]
     },
     "execution_count": 16,
     "metadata": {},
     "output_type": "execute_result"
    }
   ],
   "source": [
    "proportion_jobs_walkstation = sum_ninetofive_workers_bufstation.multiply(multiplier, axis=\"index\")\n",
    "proportion_jobs_walkstation.rename(columns={'Total night and Weekend Jobs': 'Proportion night weekend jobs'}, inplace=True)\n",
    "proportion_jobs_walkstation.head(2)"
   ]
  },
  {
   "cell_type": "code",
   "execution_count": 17,
   "id": "4a6c620f",
   "metadata": {
    "executionInfo": {
     "elapsed": 7,
     "status": "ok",
     "timestamp": 1684440652426,
     "user": {
      "displayName": "Janna Chapman",
      "userId": "03316905486439216008"
     },
     "user_tz": 240
    },
    "id": "4a6c620f"
   },
   "outputs": [],
   "source": [
    "proportion_jobs_walkstation.to_excel(\"output/proportional_ninetofive_workers_stations.xlsx\", sheet_name='ninetofive_workers_stations', index=True)"
   ]
  },
  {
   "cell_type": "code",
   "execution_count": null,
   "id": "a5beffe4",
   "metadata": {
    "id": "a5beffe4"
   },
   "outputs": [],
   "source": []
  }
 ],
 "metadata": {
  "colab": {
   "provenance": []
  },
  "kernelspec": {
   "display_name": "Python 3 (ipykernel)",
   "language": "python",
   "name": "python3"
  },
  "language_info": {
   "codemirror_mode": {
    "name": "ipython",
    "version": 3
   },
   "file_extension": ".py",
   "mimetype": "text/x-python",
   "name": "python",
   "nbconvert_exporter": "python",
   "pygments_lexer": "ipython3",
   "version": "3.12.0"
  }
 },
 "nbformat": 4,
 "nbformat_minor": 5
}
