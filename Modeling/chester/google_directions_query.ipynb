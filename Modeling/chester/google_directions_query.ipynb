{
 "cells": [
  {
   "cell_type": "code",
   "execution_count": 1,
   "id": "05c16877-dc99-44f6-ae80-e0369e1d073f",
   "metadata": {},
   "outputs": [],
   "source": [
    "import geopandas as gpd\n",
    "import pandas as pd\n",
    "from google_geocoding import *\n",
    "from feature_dev import *\n",
    "from utils import *\n",
    "\n",
    "%load_ext autoreload\n",
    "%autoreload 2\n",
    "\n",
    "pd.set_option('display.max_rows', None)\n",
    "\n",
    "# df = develop_features()"
   ]
  },
  {
   "cell_type": "code",
   "execution_count": 2,
   "id": "a1499f40-62a0-4e91-93b1-e3012792ed8d",
   "metadata": {},
   "outputs": [],
   "source": [
    "gdf = load_station_points()"
   ]
  },
  {
   "cell_type": "code",
   "execution_count": 3,
   "id": "e15e3165-f952-49ca-b306-eb8230a4b3f5",
   "metadata": {},
   "outputs": [
    {
     "data": {
      "text/html": [
       "<div>\n",
       "<style scoped>\n",
       "    .dataframe tbody tr th:only-of-type {\n",
       "        vertical-align: middle;\n",
       "    }\n",
       "\n",
       "    .dataframe tbody tr th {\n",
       "        vertical-align: top;\n",
       "    }\n",
       "\n",
       "    .dataframe thead th {\n",
       "        text-align: right;\n",
       "    }\n",
       "</style>\n",
       "<table border=\"1\" class=\"dataframe\">\n",
       "  <thead>\n",
       "    <tr style=\"text-align: right;\">\n",
       "      <th></th>\n",
       "      <th>station_name</th>\n",
       "      <th>geometry</th>\n",
       "    </tr>\n",
       "  </thead>\n",
       "  <tbody>\n",
       "    <tr>\n",
       "      <th>0</th>\n",
       "      <td>Addison Road</td>\n",
       "      <td>POINT (-76.89575 38.88672)</td>\n",
       "    </tr>\n",
       "    <tr>\n",
       "      <th>1</th>\n",
       "      <td>Anacostia</td>\n",
       "      <td>POINT (-76.99546 38.86296)</td>\n",
       "    </tr>\n",
       "    <tr>\n",
       "      <th>2</th>\n",
       "      <td>Archives</td>\n",
       "      <td>POINT (-77.02230 38.89391)</td>\n",
       "    </tr>\n",
       "    <tr>\n",
       "      <th>3</th>\n",
       "      <td>Arlington Cemetery</td>\n",
       "      <td>POINT (-77.06344 38.88458)</td>\n",
       "    </tr>\n",
       "    <tr>\n",
       "      <th>4</th>\n",
       "      <td>Ashburn</td>\n",
       "      <td>POINT (-77.49094 39.00468)</td>\n",
       "    </tr>\n",
       "  </tbody>\n",
       "</table>\n",
       "</div>"
      ],
      "text/plain": [
       "         station_name                    geometry\n",
       "0        Addison Road  POINT (-76.89575 38.88672)\n",
       "1           Anacostia  POINT (-76.99546 38.86296)\n",
       "2            Archives  POINT (-77.02230 38.89391)\n",
       "3  Arlington Cemetery  POINT (-77.06344 38.88458)\n",
       "4             Ashburn  POINT (-77.49094 39.00468)"
      ]
     },
     "execution_count": 3,
     "metadata": {},
     "output_type": "execute_result"
    }
   ],
   "source": [
    "gdf.head()"
   ]
  },
  {
   "cell_type": "code",
   "execution_count": null,
   "id": "cf419a30-b37d-41f9-9696-5c7b5b188c7f",
   "metadata": {},
   "outputs": [],
   "source": []
  }
 ],
 "metadata": {
  "kernelspec": {
   "display_name": "Python 3 (ipykernel)",
   "language": "python",
   "name": "python3"
  },
  "language_info": {
   "codemirror_mode": {
    "name": "ipython",
    "version": 3
   },
   "file_extension": ".py",
   "mimetype": "text/x-python",
   "name": "python",
   "nbconvert_exporter": "python",
   "pygments_lexer": "ipython3",
   "version": "3.11.3"
  }
 },
 "nbformat": 4,
 "nbformat_minor": 5
}
