{
 "cells": [
  {
   "cell_type": "markdown",
   "id": "1c7e9a67-a4df-4ce3-bafd-a8cd0822db96",
   "metadata": {},
   "source": [
    "### Number of trees GridSearch and RFE - CV"
   ]
  },
  {
   "cell_type": "code",
   "execution_count": 32,
   "id": "6de9b162-0b33-404b-a981-ff05abfbfa23",
   "metadata": {},
   "outputs": [],
   "source": [
    "import pandas as pd\n",
    "import numpy as np\n",
    "import matplotlib.pyplot as plt\n",
    "import seaborn as sns\n",
    "from tqdm import tqdm\n",
    "\n",
    "# machine learning\n",
    "import xgboost as xgb\n",
    "from sklearn.metrics import mean_squared_error, r2_score\n",
    "from xgboost import plot_importance, plot_tree\n",
    "from math import sqrt\n",
    "from sklearn.model_selection import train_test_split, KFold, cross_val_score ,RandomizedSearchCV, GridSearchCV\n",
    "from statsmodels.stats.outliers_influence import variance_inflation_factor\n",
    "from sklearn.ensemble import RandomForestRegressor\n",
    "from sklearn.impute import SimpleImputer, KNNImputer\n",
    "from sklearn.feature_selection import RFE, RFECV\n",
    "from catboost import CatBoostRegressor\n",
    "\n",
    "import warnings\n",
    "warnings.filterwarnings('ignore')"
   ]
  },
  {
   "cell_type": "markdown",
   "id": "44715ae3-33a6-4966-8431-e9545d50581c",
   "metadata": {
    "jp-MarkdownHeadingCollapsed": true
   },
   "source": [
    "### Load and view data"
   ]
  },
  {
   "cell_type": "code",
   "execution_count": 2,
   "id": "a704dd73-9dfc-4fbc-a625-efd535f59b3f",
   "metadata": {},
   "outputs": [],
   "source": [
    "OD = pd.read_excel(\"../Updated Variable list github/gabe/Modeling/Outputs/all_riders_vars_dataframe.xlsx\").drop('Unnamed: 0', axis=1)"
   ]
  },
  {
   "cell_type": "markdown",
   "id": "2121d06d-84fe-4ff6-a092-fb7f4efe294e",
   "metadata": {},
   "source": [
    "* Split the dataset into train, test, and val set"
   ]
  },
  {
   "cell_type": "code",
   "execution_count": 3,
   "id": "567ebed7-696b-4eff-8dca-7dd76f9b8d2d",
   "metadata": {},
   "outputs": [],
   "source": [
    "pd.reset_option('all')"
   ]
  },
  {
   "cell_type": "code",
   "execution_count": 4,
   "id": "2a471c1e-df71-41a1-bf46-7394fc4c01ee",
   "metadata": {},
   "outputs": [],
   "source": [
    "OD = OD.groupby('pairs').first().reset_index()"
   ]
  },
  {
   "cell_type": "code",
   "execution_count": 5,
   "id": "68e42948-dbdd-4057-891f-073278c6e4ef",
   "metadata": {},
   "outputs": [],
   "source": [
    "OD.rename({'proportionhouses_O': 'proportion_of_households_O', \n",
    "           'proportionhouses_D': 'proportion_of_households_D'}, axis=1, inplace=True)"
   ]
  },
  {
   "cell_type": "code",
   "execution_count": 6,
   "id": "65888f8b-9c08-40a8-869d-a72555fc3f1a",
   "metadata": {},
   "outputs": [
    {
     "data": {
      "text/html": [
       "<div>\n",
       "<style scoped>\n",
       "    .dataframe tbody tr th:only-of-type {\n",
       "        vertical-align: middle;\n",
       "    }\n",
       "\n",
       "    .dataframe tbody tr th {\n",
       "        vertical-align: top;\n",
       "    }\n",
       "\n",
       "    .dataframe thead th {\n",
       "        text-align: right;\n",
       "    }\n",
       "</style>\n",
       "<table border=\"1\" class=\"dataframe\">\n",
       "  <thead>\n",
       "    <tr style=\"text-align: right;\">\n",
       "      <th></th>\n",
       "      <th>pairs</th>\n",
       "      <th>passengers</th>\n",
       "      <th>ID_D</th>\n",
       "      <th>PRIMARY_NAME_FY23_D</th>\n",
       "      <th>walkshed_filename_D</th>\n",
       "      <th>WMATA_filename_D</th>\n",
       "      <th>track_miles_names_D</th>\n",
       "      <th>auto_filename_D</th>\n",
       "      <th>ID_O</th>\n",
       "      <th>PRIMARY_NAME_FY23_O</th>\n",
       "      <th>...</th>\n",
       "      <th>highschoolenroll_O</th>\n",
       "      <th>college_enroll_O</th>\n",
       "      <th>High_School_hh_O</th>\n",
       "      <th>college_hh_O</th>\n",
       "      <th>HH_0_car_O</th>\n",
       "      <th>HH_1_car_O</th>\n",
       "      <th>HH_more1_car_O</th>\n",
       "      <th>pub_admin_jobs_O</th>\n",
       "      <th>housing_units_afford_O</th>\n",
       "      <th>urban_dummy_O</th>\n",
       "    </tr>\n",
       "  </thead>\n",
       "  <tbody>\n",
       "    <tr>\n",
       "      <th>0</th>\n",
       "      <td>MSTN_0010MSTN_002</td>\n",
       "      <td>1418</td>\n",
       "      <td>MSTN_002</td>\n",
       "      <td>Archives</td>\n",
       "      <td>ARCHIVES-NAVY MEMORIAL-PENN QUARTER</td>\n",
       "      <td>Archives-Navy Memorial</td>\n",
       "      <td>Archives</td>\n",
       "      <td>ARCHIVES-NAVY MEMORIAL-PENN QUARTER</td>\n",
       "      <td>MSTN_001</td>\n",
       "      <td>Anacostia</td>\n",
       "      <td>...</td>\n",
       "      <td>3634.0</td>\n",
       "      <td>NaN</td>\n",
       "      <td>NaN</td>\n",
       "      <td>NaN</td>\n",
       "      <td>8.0</td>\n",
       "      <td>49.0</td>\n",
       "      <td>15.0</td>\n",
       "      <td>514.938876</td>\n",
       "      <td>4013.0</td>\n",
       "      <td>0</td>\n",
       "    </tr>\n",
       "    <tr>\n",
       "      <th>1</th>\n",
       "      <td>MSTN_0010MSTN_003</td>\n",
       "      <td>156</td>\n",
       "      <td>MSTN_003</td>\n",
       "      <td>Benning Road</td>\n",
       "      <td>BENNING ROAD</td>\n",
       "      <td>Benning Road</td>\n",
       "      <td>Benning Road</td>\n",
       "      <td>BENNING ROAD</td>\n",
       "      <td>MSTN_001</td>\n",
       "      <td>Anacostia</td>\n",
       "      <td>...</td>\n",
       "      <td>3634.0</td>\n",
       "      <td>NaN</td>\n",
       "      <td>NaN</td>\n",
       "      <td>NaN</td>\n",
       "      <td>8.0</td>\n",
       "      <td>49.0</td>\n",
       "      <td>15.0</td>\n",
       "      <td>514.938876</td>\n",
       "      <td>4013.0</td>\n",
       "      <td>0</td>\n",
       "    </tr>\n",
       "    <tr>\n",
       "      <th>2</th>\n",
       "      <td>MSTN_0010MSTN_004</td>\n",
       "      <td>425</td>\n",
       "      <td>MSTN_004</td>\n",
       "      <td>Brookland-CUA</td>\n",
       "      <td>BROOKLAND-CUA</td>\n",
       "      <td>Brookland</td>\n",
       "      <td>Brookland-CUA</td>\n",
       "      <td>BROOKLAND-CUA</td>\n",
       "      <td>MSTN_001</td>\n",
       "      <td>Anacostia</td>\n",
       "      <td>...</td>\n",
       "      <td>3634.0</td>\n",
       "      <td>NaN</td>\n",
       "      <td>NaN</td>\n",
       "      <td>NaN</td>\n",
       "      <td>8.0</td>\n",
       "      <td>49.0</td>\n",
       "      <td>15.0</td>\n",
       "      <td>514.938876</td>\n",
       "      <td>4013.0</td>\n",
       "      <td>0</td>\n",
       "    </tr>\n",
       "    <tr>\n",
       "      <th>3</th>\n",
       "      <td>MSTN_0010MSTN_005</td>\n",
       "      <td>146</td>\n",
       "      <td>MSTN_005</td>\n",
       "      <td>Capitol South</td>\n",
       "      <td>CAPITOL SOUTH</td>\n",
       "      <td>Capitol South</td>\n",
       "      <td>Capitol South</td>\n",
       "      <td>CAPITOL SOUTH</td>\n",
       "      <td>MSTN_001</td>\n",
       "      <td>Anacostia</td>\n",
       "      <td>...</td>\n",
       "      <td>3634.0</td>\n",
       "      <td>NaN</td>\n",
       "      <td>NaN</td>\n",
       "      <td>NaN</td>\n",
       "      <td>8.0</td>\n",
       "      <td>49.0</td>\n",
       "      <td>15.0</td>\n",
       "      <td>514.938876</td>\n",
       "      <td>4013.0</td>\n",
       "      <td>0</td>\n",
       "    </tr>\n",
       "    <tr>\n",
       "      <th>4</th>\n",
       "      <td>MSTN_0010MSTN_006</td>\n",
       "      <td>124</td>\n",
       "      <td>MSTN_006</td>\n",
       "      <td>Cleveland Park</td>\n",
       "      <td>CLEVELAND PARK</td>\n",
       "      <td>Cleveland Park</td>\n",
       "      <td>Cleveland Park</td>\n",
       "      <td>CLEVELAND PARK</td>\n",
       "      <td>MSTN_001</td>\n",
       "      <td>Anacostia</td>\n",
       "      <td>...</td>\n",
       "      <td>3634.0</td>\n",
       "      <td>NaN</td>\n",
       "      <td>NaN</td>\n",
       "      <td>NaN</td>\n",
       "      <td>8.0</td>\n",
       "      <td>49.0</td>\n",
       "      <td>15.0</td>\n",
       "      <td>514.938876</td>\n",
       "      <td>4013.0</td>\n",
       "      <td>0</td>\n",
       "    </tr>\n",
       "  </tbody>\n",
       "</table>\n",
       "<p>5 rows × 122 columns</p>\n",
       "</div>"
      ],
      "text/plain": [
       "               pairs  passengers      ID_D PRIMARY_NAME_FY23_D  \\\n",
       "0  MSTN_0010MSTN_002        1418  MSTN_002            Archives   \n",
       "1  MSTN_0010MSTN_003         156  MSTN_003        Benning Road   \n",
       "2  MSTN_0010MSTN_004         425  MSTN_004       Brookland-CUA   \n",
       "3  MSTN_0010MSTN_005         146  MSTN_005       Capitol South   \n",
       "4  MSTN_0010MSTN_006         124  MSTN_006      Cleveland Park   \n",
       "\n",
       "                   walkshed_filename_D        WMATA_filename_D  \\\n",
       "0  ARCHIVES-NAVY MEMORIAL-PENN QUARTER  Archives-Navy Memorial   \n",
       "1                         BENNING ROAD            Benning Road   \n",
       "2                        BROOKLAND-CUA               Brookland   \n",
       "3                        CAPITOL SOUTH           Capitol South   \n",
       "4                       CLEVELAND PARK          Cleveland Park   \n",
       "\n",
       "  track_miles_names_D                      auto_filename_D      ID_O  \\\n",
       "0            Archives  ARCHIVES-NAVY MEMORIAL-PENN QUARTER  MSTN_001   \n",
       "1        Benning Road                         BENNING ROAD  MSTN_001   \n",
       "2       Brookland-CUA                        BROOKLAND-CUA  MSTN_001   \n",
       "3       Capitol South                        CAPITOL SOUTH  MSTN_001   \n",
       "4      Cleveland Park                       CLEVELAND PARK  MSTN_001   \n",
       "\n",
       "  PRIMARY_NAME_FY23_O  ... highschoolenroll_O college_enroll_O  \\\n",
       "0           Anacostia  ...             3634.0              NaN   \n",
       "1           Anacostia  ...             3634.0              NaN   \n",
       "2           Anacostia  ...             3634.0              NaN   \n",
       "3           Anacostia  ...             3634.0              NaN   \n",
       "4           Anacostia  ...             3634.0              NaN   \n",
       "\n",
       "  High_School_hh_O college_hh_O HH_0_car_O HH_1_car_O  HH_more1_car_O  \\\n",
       "0              NaN          NaN        8.0       49.0            15.0   \n",
       "1              NaN          NaN        8.0       49.0            15.0   \n",
       "2              NaN          NaN        8.0       49.0            15.0   \n",
       "3              NaN          NaN        8.0       49.0            15.0   \n",
       "4              NaN          NaN        8.0       49.0            15.0   \n",
       "\n",
       "   pub_admin_jobs_O  housing_units_afford_O  urban_dummy_O  \n",
       "0        514.938876                  4013.0              0  \n",
       "1        514.938876                  4013.0              0  \n",
       "2        514.938876                  4013.0              0  \n",
       "3        514.938876                  4013.0              0  \n",
       "4        514.938876                  4013.0              0  \n",
       "\n",
       "[5 rows x 122 columns]"
      ]
     },
     "execution_count": 6,
     "metadata": {},
     "output_type": "execute_result"
    }
   ],
   "source": [
    "OD.head()"
   ]
  },
  {
   "cell_type": "code",
   "execution_count": 7,
   "id": "fbb2ecc5-9b12-4fb7-9ba3-6e9ce6d6c1a3",
   "metadata": {},
   "outputs": [
    {
     "data": {
      "text/plain": [
       "(8187, 122)"
      ]
     },
     "execution_count": 7,
     "metadata": {},
     "output_type": "execute_result"
    }
   ],
   "source": [
    "OD.shape"
   ]
  },
  {
   "cell_type": "code",
   "execution_count": 8,
   "id": "921e9438-9a45-4d4a-84b9-ea68a655103a",
   "metadata": {
    "scrolled": true
   },
   "outputs": [
    {
     "data": {
      "text/plain": [
       "(8187, 72)"
      ]
     },
     "execution_count": 8,
     "metadata": {},
     "output_type": "execute_result"
    }
   ],
   "source": [
    "OD.drop(['pairs', 'ID_D', 'PRIMARY_NAME_FY23_D', 'walkshed_filename_D', 'WMATA_filename_D', \n",
    "           'track_miles_names_D', 'auto_filename_D', 'ID_O', 'PRIMARY_NAME_FY23_O', 'walkshed_filename_O', \n",
    "             'WMATA_filename_O', 'track_miles_names_O', 'auto_filename_O', 'O', 'D', 'O_MSTN_ID', 'D_MSTN_ID', \n",
    "             'MSTN_ID_D', 'STATION_ID_D', 'Name_1_D', 'MSTN_D', 'MSTN_ID_O', 'STATION_ID_O', 'Name_1_O', 'MSTN_O', \n",
    "              'Total Households_O', 'Total Households_D', 'COMP_MILE', 'track_miles', 'SD_FARE', 'TRAVEL_TIME', 'pub_admin_jobs_O', \n",
    "            'pub_admin_jobs_D', 'bus_tt_per_mile', 'am_parking_user', 'pm_parking_user', 'off_parking_user', 'peak_fare_per_mile2',\n",
    "            'off_peak_fare_per_mile', 'google_driving_miles', 'am_new_auto_tt_per_mile2', 'pm_new_auto_tt_per_mile2', 'off_new_auto_tt_per_mile2',\n",
    "             'OFF_PEAK_FARE', 'PEAK_FARE', 'HH_1_car_O', 'HH_1_car_D', 'HH_more1_car_O', 'HH_more1_car_D', 'metro_swipe_tt'\n",
    "          ], axis=1, inplace=True)\n",
    "\n",
    "OD.shape"
   ]
  },
  {
   "cell_type": "markdown",
   "id": "893a1e6f-c8e0-4ac7-ad5a-c567ec12a065",
   "metadata": {
    "jp-MarkdownHeadingCollapsed": true
   },
   "source": [
    "### Preprocessing"
   ]
  },
  {
   "cell_type": "code",
   "execution_count": 9,
   "id": "6e9de52d-d15b-4968-9baa-0c2b215d6e96",
   "metadata": {
    "scrolled": true
   },
   "outputs": [],
   "source": [
    "X = OD.drop('passengers', axis=1)\n",
    "y = OD['passengers']"
   ]
  },
  {
   "cell_type": "code",
   "execution_count": 10,
   "id": "98cabca3-879b-4cc3-bd9e-6a13cf33b9e2",
   "metadata": {},
   "outputs": [],
   "source": [
    "pd.set_option('display.max_rows', None)\n",
    "pd.set_option('display.max_columns', None)\n",
    "# pd.reset_option('all')"
   ]
  },
  {
   "cell_type": "code",
   "execution_count": 11,
   "id": "756f62a6-9f7a-4084-a459-9b04860d4f51",
   "metadata": {},
   "outputs": [
    {
     "data": {
      "text/plain": [
       "30"
      ]
     },
     "execution_count": 11,
     "metadata": {},
     "output_type": "execute_result"
    }
   ],
   "source": [
    "X.isna().any().sum()"
   ]
  },
  {
   "cell_type": "code",
   "execution_count": 12,
   "id": "6049b2c3-7132-47b1-a6e1-2a36414bdd76",
   "metadata": {},
   "outputs": [
    {
     "data": {
      "text/plain": [
       "0"
      ]
     },
     "execution_count": 12,
     "metadata": {},
     "output_type": "execute_result"
    }
   ],
   "source": [
    "y.isna().any().sum()"
   ]
  },
  {
   "cell_type": "code",
   "execution_count": 13,
   "id": "95f651ce-1406-426f-827d-6af863d1915a",
   "metadata": {},
   "outputs": [],
   "source": [
    "X = X.fillna(0.000001)"
   ]
  },
  {
   "cell_type": "markdown",
   "id": "8663b65f-0281-4f45-bbfa-5a1260685b62",
   "metadata": {
    "jp-MarkdownHeadingCollapsed": true
   },
   "source": [
    "### Remove highly collinear variables"
   ]
  },
  {
   "cell_type": "markdown",
   "id": "44fea7c4-3f8b-42de-8ef1-512802213f4d",
   "metadata": {},
   "source": [
    "* 16 of these variables were dropped and due to very high multicollinearity and risk of endogeneity problem"
   ]
  },
  {
   "cell_type": "code",
   "execution_count": 14,
   "id": "de72dd86-ac73-455f-98ea-9f10e8d74a8c",
   "metadata": {
    "scrolled": true
   },
   "outputs": [],
   "source": [
    "# Xcorr = X.corr()\n",
    "# plt.figure(figsize=(35, 30))\n",
    "# sns.heatmap(Xcorr, cmap='coolwarm')"
   ]
  },
  {
   "cell_type": "code",
   "execution_count": 15,
   "id": "c9e16e49-5b08-4df5-96ae-fab935c6cd4d",
   "metadata": {},
   "outputs": [],
   "source": [
    "X1 = X.copy()\n",
    "\n",
    "X1 = X1.drop(['All_Jobs_O', 'All_Jobs_D', 'ctpp_jobs_O', 'ctpp_jobs_D', 'urban_dummy_O', 'urban_dummy_D', 'terminal_dummy_2023_O', \n",
    "              'terminal_dummy_2023_D', 'AM_AVG_TRAINS_O',  'AM_AVG_TRAINS_D', 'PM_AVG_TRAINS_O', 'PM_AVG_TRAINS_D', 'am_new_auto_tt2', \n",
    "              'pm_new_auto_tt2', 'off_new_auto_tt2','bus_transit_minutes', ], axis=1)\n"
   ]
  },
  {
   "cell_type": "markdown",
   "id": "07c5fa7a-950a-4bb2-ae55-9e6f78716afa",
   "metadata": {
    "jp-MarkdownHeadingCollapsed": true
   },
   "source": [
    "##### commenting/hiding old code"
   ]
  },
  {
   "cell_type": "code",
   "execution_count": 16,
   "id": "75e7a14b-746b-44b5-b6ff-7bad48bbdf76",
   "metadata": {
    "scrolled": true
   },
   "outputs": [],
   "source": [
    "# corr_matrix1 = X1.corr()\n",
    "# plt.figure(figsize=(35, 30))\n",
    "# mask1 = np.triu(np.ones_like(corr_matrix1, dtype=bool))\n",
    "# sns.heatmap(corr_matrix1, mask=mask1, annot=True, fmt='.1f', cmap='coolwarm', cbar=True)\n",
    "# plt.savefig('1corr_mat.png')\n",
    "# plt.show()"
   ]
  },
  {
   "cell_type": "code",
   "execution_count": 17,
   "id": "9b0eb894-0f60-45b7-8a59-e5d8974a88d6",
   "metadata": {
    "scrolled": true
   },
   "outputs": [],
   "source": [
    "# mask1 = (corr_matrix1 > 0.6) & (corr_matrix1 < 1)\n",
    "# pairs1 = corr_matrix[mask1].stack().reset_index()\n",
    "# pairs1.columns = ['Variable1', 'Variable2', 'Correlation']\n",
    "# pairs1.sort_values(by='Correlation', ascending=False).reset_index(drop=True)"
   ]
  },
  {
   "cell_type": "code",
   "execution_count": 18,
   "id": "8d52d160-bdd1-4dea-a2e7-11e665cf57fe",
   "metadata": {
    "scrolled": true
   },
   "outputs": [],
   "source": [
    "# vif_data1 = pd.DataFrame()\n",
    "# vif_data1[\"feature\"] = X1.columns\n",
    "\n",
    "# vif_data1[\"VIF\"] = [variance_inflation_factor(X1.values, i) for i in range(len(X1.columns))]\n",
    "\n",
    "# vif_data1[\"VIF\"] = vif_data1[\"VIF\"].astype('float')\n",
    "# vif_data1 = vif_data1.sort_values(by='VIF').reset_index(drop=True)\n",
    "# vif_data1[\"VIF\"] = vif_data1[\"VIF\"].astype('str')\n",
    "# vif_data1"
   ]
  },
  {
   "cell_type": "code",
   "execution_count": null,
   "id": "7775a34c-b76f-4313-843b-de288f491917",
   "metadata": {},
   "outputs": [],
   "source": []
  },
  {
   "cell_type": "markdown",
   "id": "ccf46377-f3ed-48ca-b5af-9d78c1e8113c",
   "metadata": {},
   "source": [
    "### Modelling"
   ]
  },
  {
   "cell_type": "markdown",
   "id": "7e8cbcd1-5b76-46c1-916a-a29deb2c4327",
   "metadata": {
    "jp-MarkdownHeadingCollapsed": true
   },
   "source": [
    "#### Feature dict from 30 - 55"
   ]
  },
  {
   "cell_type": "code",
   "execution_count": 19,
   "id": "4ce728ae-7d1f-43cc-a74b-ccf794563fea",
   "metadata": {},
   "outputs": [],
   "source": [
    "pd.reset_option('all')"
   ]
  },
  {
   "cell_type": "code",
   "execution_count": 20,
   "id": "2989ca03-984f-46a8-914a-e59cf1aae1fb",
   "metadata": {},
   "outputs": [
    {
     "data": {
      "text/plain": [
       "(8187, 55)"
      ]
     },
     "execution_count": 20,
     "metadata": {},
     "output_type": "execute_result"
    }
   ],
   "source": [
    "X1.shape"
   ]
  },
  {
   "cell_type": "code",
   "execution_count": 21,
   "id": "028f08d2-163b-4df2-bb70-4603b59277ac",
   "metadata": {},
   "outputs": [],
   "source": [
    "feat_dic = {30: ['bus_tt', 'bike_traveltime', 'google_driving_minutes',\n",
    "                'metro_transit_minutes', 'bus_competativeness_index',\n",
    "                'ALLPERIODS_AVG_TRAINS_D', 'proportion_of_households_D',\n",
    "                'PARKING_CAPACITY_D', 'bus_line_count_D', 'distance_to_core_D',\n",
    "                'Proportion_night_weekend_jobs_D', 'Total_Nine_to_Five_workers_D',\n",
    "                'Proportion_education_jobs_D', 'bike_cap_D', 'hotelcount_D',\n",
    "                'restaurantcount_D', 'intercityhub_D', 'HH_0_car_D',\n",
    "                'ALLPERIODS_AVG_TRAINS_O', 'proportion_of_households_O',\n",
    "                'PARKING_CAPACITY_O', 'distance_to_core_O',\n",
    "                'Total_Nine_to_Five_workers_O', 'Median_household_income_O',\n",
    "                'bike_cap_O', 'hotelcount_O', 'restaurantcount_O', 'intercityhub_O',\n",
    "                'prop_str_dens_O', 'HH_0_car_O'], \n",
    "            40: ['bus_tt', 'bike_traveltime', 'google_driving_minutes',\n",
    "                'metro_transit_minutes', 'bus_competativeness_index',\n",
    "                'ALLPERIODS_AVG_TRAINS_D', 'proportion_of_households_D',\n",
    "                'PARKING_CAPACITY_D', 'bus_line_count_D', 'bus_stop_count_D',\n",
    "                'distance_to_core_D', 'Proportion_night_weekend_jobs_D',\n",
    "                'Total_Nine_to_Five_workers_D', 'Proportion_education_jobs_D',\n",
    "                'Median_household_income_D', 'bike_cap_D', 'hotelcount_D',\n",
    "                'restaurantcount_D', 'intercityhub_D', 'prop_str_dens_D', 'HH_0_car_D',\n",
    "                'housing_units_afford_D', 'ALLPERIODS_AVG_TRAINS_O',\n",
    "                'proportion_of_households_O', 'PARKING_CAPACITY_O', 'bus_line_count_O',\n",
    "                'distance_to_core_O', 'Proportion_night_weekend_jobs_O',\n",
    "                'Total_Nine_to_Five_workers_O', 'Proportion_education_jobs_O',\n",
    "                'Median_household_income_O', 'bike_cap_O', 'hotelcount_O',\n",
    "                'entertainmentcount_O', 'restaurantcount_O', 'intercityhub_O',\n",
    "                'prop_str_dens_O', 'Jobs_transit_O', 'HH_0_car_O',\n",
    "                'housing_units_afford_O'], \n",
    "            45: ['bus_tt', 'bike_traveltime', 'google_driving_minutes',\n",
    "                'metro_transit_minutes', 'bus_competativeness_index',\n",
    "                'ALLPERIODS_AVG_TRAINS_D', 'proportion_of_households_D',\n",
    "                'PARKING_CAPACITY_D', 'bus_line_count_D', 'bus_stop_count_D',\n",
    "                'distance_to_core_D', 'Proportion_night_weekend_jobs_D',\n",
    "                'Total_Nine_to_Five_workers_D', 'Proportion_education_jobs_D',\n",
    "                'Median_household_income_D', 'bike_cap_D', 'hotelcount_D',\n",
    "                'entertainmentcount_D', 'restaurantcount_D', 'intercityhub_D',\n",
    "                'prop_str_dens_D', 'Jobs_transit_D', 'highschoolenroll_D', 'HH_0_car_D',\n",
    "                'housing_units_afford_D', 'ALLPERIODS_AVG_TRAINS_O',\n",
    "                'proportion_of_households_O', 'PARKING_CAPACITY_O', 'bus_line_count_O',\n",
    "                'bus_stop_count_O', 'distance_to_core_O',\n",
    "                'Proportion_night_weekend_jobs_O', 'Total_Nine_to_Five_workers_O',\n",
    "                'Proportion_education_jobs_O', 'Median_household_income_O',\n",
    "                'bike_cap_O', 'HH_below_50k_O', 'hotelcount_O', 'entertainmentcount_O',\n",
    "                'restaurantcount_O', 'intercityhub_O', 'prop_str_dens_O',\n",
    "                'Jobs_transit_O', 'HH_0_car_O', 'housing_units_afford_O'], \n",
    "            50: ['bus_tt', 'bike_traveltime', 'google_driving_minutes',\n",
    "                'metro_transit_minutes', 'bus_competativeness_index',\n",
    "                'ALLPERIODS_AVG_TRAINS_D', 'proportion_of_households_D',\n",
    "                'PARKING_CAPACITY_D', 'bus_line_count_D', 'bus_stop_count_D',\n",
    "                'distance_to_core_D', 'Proportion_night_weekend_jobs_D',\n",
    "                'Total_Nine_to_Five_workers_D', 'Proportion_education_jobs_D',\n",
    "                'Median_household_income_D', 'bike_cap_D', 'HH_below_50k_D',\n",
    "                'hotelcount_D', 'entertainmentcount_D', 'restaurantcount_D',\n",
    "                'intercityhub_D', 'prop_str_dens_D', 'Jobs_transit_D',\n",
    "                'convenience_storecount_D', 'highschoolenroll_D', 'college_enroll_D',\n",
    "                'HH_0_car_D', 'housing_units_afford_D', 'ALLPERIODS_AVG_TRAINS_O',\n",
    "                'proportion_of_households_O', 'PARKING_CAPACITY_O', 'bus_line_count_O',\n",
    "                'bus_stop_count_O', 'distance_to_core_O',\n",
    "                'Proportion_night_weekend_jobs_O', 'Total_Nine_to_Five_workers_O',\n",
    "                'Proportion_education_jobs_O', 'Median_household_income_O',\n",
    "                'bike_cap_O', 'HH_below_50k_O', 'hotelcount_O', 'entertainmentcount_O',\n",
    "                'restaurantcount_O', 'intercityhub_O', 'prop_str_dens_O',\n",
    "                'Jobs_transit_O', 'highschoolenroll_O', 'college_enroll_O',\n",
    "                'HH_0_car_O', 'housing_units_afford_O'], \n",
    "            55: ['bus_tt', 'bike_traveltime', 'google_driving_minutes',\n",
    "                'metro_transit_minutes', 'bus_competativeness_index',\n",
    "                'ALLPERIODS_AVG_TRAINS_D', 'proportion_of_households_D',\n",
    "                'PARKING_CAPACITY_D', 'bus_line_count_D', 'bus_stop_count_D',\n",
    "                'distance_to_core_D', 'Proportion_night_weekend_jobs_D',\n",
    "                'Total_Nine_to_Five_workers_D', 'Proportion_education_jobs_D',\n",
    "                'Median_household_income_D', 'bike_cap_D', 'HH_below_50k_D',\n",
    "                'hotelcount_D', 'entertainmentcount_D', 'restaurantcount_D',\n",
    "                'intercityhub_D', 'prop_str_dens_D', 'Jobs_transit_D',\n",
    "                'convenience_storecount_D', 'highschoolenroll_D', 'college_enroll_D',\n",
    "                'High_School_hh_D', 'college_hh_D', 'HH_0_car_D',\n",
    "                'housing_units_afford_D', 'ALLPERIODS_AVG_TRAINS_O',\n",
    "                'proportion_of_households_O', 'PARKING_CAPACITY_O', 'bus_line_count_O',\n",
    "                'bus_stop_count_O', 'distance_to_core_O',\n",
    "                'Proportion_night_weekend_jobs_O', 'Total_Nine_to_Five_workers_O',\n",
    "                'Proportion_education_jobs_O', 'Median_household_income_O',\n",
    "                'bike_cap_O', 'HH_below_50k_O', 'hotelcount_O', 'entertainmentcount_O',\n",
    "                'restaurantcount_O', 'intercityhub_O', 'prop_str_dens_O',\n",
    "                'Jobs_transit_O', 'convenience_storecount_O', 'highschoolenroll_O',\n",
    "                'college_enroll_O', 'High_School_hh_O', 'college_hh_O', 'HH_0_car_O',\n",
    "                'housing_units_afford_O']\n",
    "                   \n",
    "           }\n",
    "\n"
   ]
  },
  {
   "cell_type": "markdown",
   "id": "10316947-4c68-41fa-af6c-ac0ea488a987",
   "metadata": {
    "jp-MarkdownHeadingCollapsed": true
   },
   "source": [
    "#### Varying number of trees from 50 - 1500"
   ]
  },
  {
   "cell_type": "code",
   "execution_count": 22,
   "id": "8894eed9-1e7f-43fe-b5b2-84dfac9f689e",
   "metadata": {
    "scrolled": true
   },
   "outputs": [],
   "source": [
    "# for k,v in feat_dic.items():\n",
    "#     feat_dic[k] = X1[feat_dic[k]]"
   ]
  },
  {
   "cell_type": "code",
   "execution_count": 23,
   "id": "e13b681a-ed76-425c-8362-64f9058154c1",
   "metadata": {},
   "outputs": [],
   "source": [
    "# feat_dic[55]"
   ]
  },
  {
   "cell_type": "code",
   "execution_count": 24,
   "id": "ed3313d0-47bf-485d-9b57-c53bea34cfa1",
   "metadata": {
    "scrolled": true
   },
   "outputs": [],
   "source": [
    "# rmse, r2, bestparams = {}, {}, {}\n",
    "# gridr2, gridrmse, test_r2, test_rmse = {}, {}, {}, {}\n",
    "\n",
    "# param_grid = {\n",
    "#     'n_estimators': np.arange(50, 1550, 50),  # from 50 - 1500\n",
    "# }\n",
    "\n",
    "# for k, v in tqdm(feat_dic.items(), desc='Gridsearch Progress'):\n",
    "#     # Initialize inner dictionaries\n",
    "#     rmse[k], r2[k], gridrmse[k], gridr2[k], test_rmse[k], test_r2[k], bestparams[k] = {}, {}, {}, {}, {}, {}, {}\n",
    "\n",
    "#     # Split the data\n",
    "#     X_train_temp, X_test, y_train_temp, y_test = train_test_split(v, y, test_size=0.10, random_state=10)\n",
    "#     X_train, X_val, y_train, y_val = train_test_split(X_train_temp, y_train_temp, test_size=0.15, random_state=10)\n",
    "\n",
    "#     # Simple model training and validation\n",
    "#     for n_est in param_grid['n_estimators']:\n",
    "#         simple_model = RandomForestRegressor(n_estimators=n_est, random_state=10)\n",
    "#         simple_model.fit(X_train, y_train)\n",
    "#         y_pred_val = simple_model.predict(X_val)\n",
    "#         rmse[k][n_est] = sqrt(mean_squared_error(y_val, y_pred_val))\n",
    "#         r2[k][n_est] = np.round(r2_score(y_val, y_pred_val), 3)\n",
    "\n",
    "#     # Grid search\n",
    "#     regr_model = RandomForestRegressor(random_state=10)\n",
    "#     grid_search = GridSearchCV(estimator=regr_model, param_grid=param_grid, scoring='r2', cv=5, verbose=2, n_jobs=-1)\n",
    "#     grid_search.fit(X_train, y_train)\n",
    "\n",
    "#     # Store best parameters and perform evaluation using them\n",
    "#     best_n_estimators = grid_search.best_params_['n_estimators']\n",
    "#     bestparams[k] = {'n_estimators': best_n_estimators}\n",
    "    \n",
    "#     # Reevaluate on validation set with the best found parameters\n",
    "#     y_pred_val = grid_search.predict(X_val)\n",
    "#     gridrmse[k][best_n_estimators] = sqrt(mean_squared_error(y_val, y_pred_val))\n",
    "#     gridr2[k][best_n_estimators] = np.round(r2_score(y_val, y_pred_val), 3)\n",
    "\n",
    "#     # Evaluation on test set\n",
    "#     y_pred_test = grid_search.predict(X_test)\n",
    "#     test_rmse[k][best_n_estimators] = sqrt(mean_squared_error(y_test, y_pred_test))\n",
    "#     test_r2[k][best_n_estimators] = np.round(r2_score(y_test, y_pred_test), 3)\n"
   ]
  },
  {
   "cell_type": "code",
   "execution_count": null,
   "id": "392aa0a9-0c11-4264-8c8b-fe7379b26694",
   "metadata": {},
   "outputs": [],
   "source": []
  },
  {
   "cell_type": "code",
   "execution_count": 25,
   "id": "4eadc522-5d02-48da-800c-41139bc6b50a",
   "metadata": {},
   "outputs": [],
   "source": [
    "# gridr2\n",
    "# r2.keys()"
   ]
  },
  {
   "cell_type": "code",
   "execution_count": 26,
   "id": "790d2eda-4c3f-46ae-a0a9-60ade09e7207",
   "metadata": {},
   "outputs": [],
   "source": [
    "# sns.set_theme(style='darkgrid') \n",
    "# sns.lineplot(x=r2[55].keys(), y=r2[55].values())\n",
    "# plt.title('(55 Features) Number of trees vs R2')\n",
    "# plt.xlabel('Number of trees')\n",
    "# plt.ylabel('R2')\n",
    "# plt.savefig('Tuning/55treesR2.jpg')\n",
    "# plt.show()\n",
    "# # plt.xticks(np.arange(50, 1550, 100))"
   ]
  },
  {
   "cell_type": "code",
   "execution_count": null,
   "id": "cbf56516-5996-4f32-87d5-d6d9a0669d1d",
   "metadata": {},
   "outputs": [],
   "source": []
  },
  {
   "cell_type": "code",
   "execution_count": null,
   "id": "8f26e185-ce03-4bbf-97a2-56aeafce29f5",
   "metadata": {},
   "outputs": [],
   "source": []
  },
  {
   "cell_type": "code",
   "execution_count": null,
   "id": "290430d5-a2ec-4713-b9e7-8a23e8231282",
   "metadata": {},
   "outputs": [],
   "source": []
  },
  {
   "cell_type": "markdown",
   "id": "c6921e8e-0421-4e0d-afd5-9c15c311d8d3",
   "metadata": {},
   "source": [
    "#### RFE - CV"
   ]
  },
  {
   "cell_type": "code",
   "execution_count": 27,
   "id": "ea67bc38-e00d-4b22-82c8-7ee671c4bcbf",
   "metadata": {},
   "outputs": [
    {
     "data": {
      "text/plain": [
       "(8187, 55)"
      ]
     },
     "execution_count": 27,
     "metadata": {},
     "output_type": "execute_result"
    }
   ],
   "source": [
    "X1.shape"
   ]
  },
  {
   "cell_type": "code",
   "execution_count": 28,
   "id": "7d40aab8-8afb-42a5-ad47-fe4dfc5f0af3",
   "metadata": {},
   "outputs": [],
   "source": [
    "X_train_temp, X_test, y_train_temp, y_test = train_test_split(X1, y, test_size=0.10, random_state = 10)"
   ]
  },
  {
   "cell_type": "code",
   "execution_count": 29,
   "id": "e1ef349d-3474-4d41-9f3e-e7488aebefdf",
   "metadata": {},
   "outputs": [],
   "source": [
    "X_train, X_val, y_train, y_val = train_test_split(X_train_temp, y_train_temp, test_size=0.15, random_state=10)"
   ]
  },
  {
   "cell_type": "code",
   "execution_count": 30,
   "id": "03540558-1332-4095-a68e-17cdad43129e",
   "metadata": {},
   "outputs": [
    {
     "data": {
      "text/plain": [
       "((6262, 55), (1106, 55), (819, 55))"
      ]
     },
     "execution_count": 30,
     "metadata": {},
     "output_type": "execute_result"
    }
   ],
   "source": [
    "X_train.shape, X_val.shape, X_test.shape"
   ]
  },
  {
   "cell_type": "code",
   "execution_count": null,
   "id": "420d8e50-7000-498c-9c39-828fe96b0aaf",
   "metadata": {},
   "outputs": [],
   "source": [
    "# rfecv, rfecv_cols, X_train_rfecv = {}, {}, {}\n",
    "\n",
    "# for i in tqdm(range(5, 60, 5), desc='RFE Progress'):\n",
    "#     rfe_baseModel = RandomForestRegressor(random_state=10)\n",
    "#     kfold = KFold(n_splits=5, shuffle=True, random_state=10)\n",
    "    \n",
    "#     rfecv = RFECV(estimator=rfe_baseModel, n_features_to_select=i, step=1)\n",
    "#     rfecv.fit(X_train, y_train)  # This step might take some time for each iteration\n",
    "\n",
    "#     rfecv[i] = rfe_model\n",
    "#     selected_features = X1.columns[rfe_model.support_]\n",
    "#     rfecv_cols[i] = selected_features\n",
    "#     X_train_rfecv[i] = X_train[selected_features]"
   ]
  },
  {
   "cell_type": "code",
   "execution_count": 33,
   "id": "1503c8e5-de04-44ac-a92e-6f5881efe2e8",
   "metadata": {},
   "outputs": [
    {
     "data": {
      "text/html": [
       "<style>#sk-container-id-1 {color: black;}#sk-container-id-1 pre{padding: 0;}#sk-container-id-1 div.sk-toggleable {background-color: white;}#sk-container-id-1 label.sk-toggleable__label {cursor: pointer;display: block;width: 100%;margin-bottom: 0;padding: 0.3em;box-sizing: border-box;text-align: center;}#sk-container-id-1 label.sk-toggleable__label-arrow:before {content: \"▸\";float: left;margin-right: 0.25em;color: #696969;}#sk-container-id-1 label.sk-toggleable__label-arrow:hover:before {color: black;}#sk-container-id-1 div.sk-estimator:hover label.sk-toggleable__label-arrow:before {color: black;}#sk-container-id-1 div.sk-toggleable__content {max-height: 0;max-width: 0;overflow: hidden;text-align: left;background-color: #f0f8ff;}#sk-container-id-1 div.sk-toggleable__content pre {margin: 0.2em;color: black;border-radius: 0.25em;background-color: #f0f8ff;}#sk-container-id-1 input.sk-toggleable__control:checked~div.sk-toggleable__content {max-height: 200px;max-width: 100%;overflow: auto;}#sk-container-id-1 input.sk-toggleable__control:checked~label.sk-toggleable__label-arrow:before {content: \"▾\";}#sk-container-id-1 div.sk-estimator input.sk-toggleable__control:checked~label.sk-toggleable__label {background-color: #d4ebff;}#sk-container-id-1 div.sk-label input.sk-toggleable__control:checked~label.sk-toggleable__label {background-color: #d4ebff;}#sk-container-id-1 input.sk-hidden--visually {border: 0;clip: rect(1px 1px 1px 1px);clip: rect(1px, 1px, 1px, 1px);height: 1px;margin: -1px;overflow: hidden;padding: 0;position: absolute;width: 1px;}#sk-container-id-1 div.sk-estimator {font-family: monospace;background-color: #f0f8ff;border: 1px dotted black;border-radius: 0.25em;box-sizing: border-box;margin-bottom: 0.5em;}#sk-container-id-1 div.sk-estimator:hover {background-color: #d4ebff;}#sk-container-id-1 div.sk-parallel-item::after {content: \"\";width: 100%;border-bottom: 1px solid gray;flex-grow: 1;}#sk-container-id-1 div.sk-label:hover label.sk-toggleable__label {background-color: #d4ebff;}#sk-container-id-1 div.sk-serial::before {content: \"\";position: absolute;border-left: 1px solid gray;box-sizing: border-box;top: 0;bottom: 0;left: 50%;z-index: 0;}#sk-container-id-1 div.sk-serial {display: flex;flex-direction: column;align-items: center;background-color: white;padding-right: 0.2em;padding-left: 0.2em;position: relative;}#sk-container-id-1 div.sk-item {position: relative;z-index: 1;}#sk-container-id-1 div.sk-parallel {display: flex;align-items: stretch;justify-content: center;background-color: white;position: relative;}#sk-container-id-1 div.sk-item::before, #sk-container-id-1 div.sk-parallel-item::before {content: \"\";position: absolute;border-left: 1px solid gray;box-sizing: border-box;top: 0;bottom: 0;left: 50%;z-index: -1;}#sk-container-id-1 div.sk-parallel-item {display: flex;flex-direction: column;z-index: 1;position: relative;background-color: white;}#sk-container-id-1 div.sk-parallel-item:first-child::after {align-self: flex-end;width: 50%;}#sk-container-id-1 div.sk-parallel-item:last-child::after {align-self: flex-start;width: 50%;}#sk-container-id-1 div.sk-parallel-item:only-child::after {width: 0;}#sk-container-id-1 div.sk-dashed-wrapped {border: 1px dashed gray;margin: 0 0.4em 0.5em 0.4em;box-sizing: border-box;padding-bottom: 0.4em;background-color: white;}#sk-container-id-1 div.sk-label label {font-family: monospace;font-weight: bold;display: inline-block;line-height: 1.2em;}#sk-container-id-1 div.sk-label-container {text-align: center;}#sk-container-id-1 div.sk-container {/* jupyter's `normalize.less` sets `[hidden] { display: none; }` but bootstrap.min.css set `[hidden] { display: none !important; }` so we also need the `!important` here to be able to override the default hidden behavior on the sphinx rendered scikit-learn.org. See: https://github.com/scikit-learn/scikit-learn/issues/21755 */display: inline-block !important;position: relative;}#sk-container-id-1 div.sk-text-repr-fallback {display: none;}</style><div id=\"sk-container-id-1\" class=\"sk-top-container\"><div class=\"sk-text-repr-fallback\"><pre>RFECV(cv=KFold(n_splits=5, random_state=10, shuffle=True),\n",
       "      estimator=RandomForestRegressor(random_state=10), n_jobs=-1,\n",
       "      scoring=&#x27;r2&#x27;)</pre><b>In a Jupyter environment, please rerun this cell to show the HTML representation or trust the notebook. <br />On GitHub, the HTML representation is unable to render, please try loading this page with nbviewer.org.</b></div><div class=\"sk-container\" hidden><div class=\"sk-item sk-dashed-wrapped\"><div class=\"sk-label-container\"><div class=\"sk-label sk-toggleable\"><input class=\"sk-toggleable__control sk-hidden--visually\" id=\"sk-estimator-id-1\" type=\"checkbox\" ><label for=\"sk-estimator-id-1\" class=\"sk-toggleable__label sk-toggleable__label-arrow\">RFECV</label><div class=\"sk-toggleable__content\"><pre>RFECV(cv=KFold(n_splits=5, random_state=10, shuffle=True),\n",
       "      estimator=RandomForestRegressor(random_state=10), n_jobs=-1,\n",
       "      scoring=&#x27;r2&#x27;)</pre></div></div></div><div class=\"sk-parallel\"><div class=\"sk-parallel-item\"><div class=\"sk-item\"><div class=\"sk-label-container\"><div class=\"sk-label sk-toggleable\"><input class=\"sk-toggleable__control sk-hidden--visually\" id=\"sk-estimator-id-2\" type=\"checkbox\" ><label for=\"sk-estimator-id-2\" class=\"sk-toggleable__label sk-toggleable__label-arrow\">estimator: RandomForestRegressor</label><div class=\"sk-toggleable__content\"><pre>RandomForestRegressor(random_state=10)</pre></div></div></div><div class=\"sk-serial\"><div class=\"sk-item\"><div class=\"sk-estimator sk-toggleable\"><input class=\"sk-toggleable__control sk-hidden--visually\" id=\"sk-estimator-id-3\" type=\"checkbox\" ><label for=\"sk-estimator-id-3\" class=\"sk-toggleable__label sk-toggleable__label-arrow\">RandomForestRegressor</label><div class=\"sk-toggleable__content\"><pre>RandomForestRegressor(random_state=10)</pre></div></div></div></div></div></div></div></div></div></div>"
      ],
      "text/plain": [
       "RFECV(cv=KFold(n_splits=5, random_state=10, shuffle=True),\n",
       "      estimator=RandomForestRegressor(random_state=10), n_jobs=-1,\n",
       "      scoring='r2')"
      ]
     },
     "execution_count": 33,
     "metadata": {},
     "output_type": "execute_result"
    }
   ],
   "source": [
    "rfe_baseModel = RandomForestRegressor(random_state=10)\n",
    "kfold = KFold(n_splits=5, shuffle=True, random_state=10)\n",
    "\n",
    "rfecv = RFECV(estimator=rfe_baseModel, step=1, cv=kfold, scoring='r2', n_jobs=-1)\n",
    "rfecv.fit(X_train, y_train)"
   ]
  },
  {
   "cell_type": "code",
   "execution_count": 34,
   "id": "8566123a-8469-4e97-975b-bc13630db17f",
   "metadata": {},
   "outputs": [
    {
     "name": "stdout",
     "output_type": "stream",
     "text": [
      "Optimal number of features: 28\n",
      "Best features: Index(['bus_tt', 'bike_traveltime', 'google_driving_minutes',\n",
      "       'metro_transit_minutes', 'bus_competativeness_index',\n",
      "       'ALLPERIODS_AVG_TRAINS_D', 'proportion_of_households_D',\n",
      "       'PARKING_CAPACITY_D', 'distance_to_core_D',\n",
      "       'Total_Nine_to_Five_workers_D', 'Proportion_education_jobs_D',\n",
      "       'bike_cap_D', 'hotelcount_D', 'restaurantcount_D', 'intercityhub_D',\n",
      "       'HH_0_car_D', 'ALLPERIODS_AVG_TRAINS_O', 'proportion_of_households_O',\n",
      "       'PARKING_CAPACITY_O', 'distance_to_core_O',\n",
      "       'Proportion_night_weekend_jobs_O', 'Total_Nine_to_Five_workers_O',\n",
      "       'Median_household_income_O', 'bike_cap_O', 'restaurantcount_O',\n",
      "       'intercityhub_O', 'prop_str_dens_O', 'HH_0_car_O'],\n",
      "      dtype='object')\n"
     ]
    }
   ],
   "source": [
    "print(\"Optimal number of features:\", rfecv.n_features_)\n",
    "print(\"Best features:\", X_train.columns[rfecv.support_])"
   ]
  },
  {
   "cell_type": "code",
   "execution_count": 35,
   "id": "06e40380-28c7-4ac6-9514-9d6311033950",
   "metadata": {},
   "outputs": [
    {
     "data": {
      "text/plain": [
       "['ALLPERIODS_AVG_TRAINS_D',\n",
       " 'ALLPERIODS_AVG_TRAINS_O',\n",
       " 'HH_0_car_D',\n",
       " 'HH_0_car_O',\n",
       " 'Median_household_income_O',\n",
       " 'PARKING_CAPACITY_D',\n",
       " 'PARKING_CAPACITY_O',\n",
       " 'Proportion_education_jobs_D',\n",
       " 'Proportion_night_weekend_jobs_O',\n",
       " 'Total_Nine_to_Five_workers_D',\n",
       " 'Total_Nine_to_Five_workers_O',\n",
       " 'bike_cap_D',\n",
       " 'bike_cap_O',\n",
       " 'bike_traveltime',\n",
       " 'bus_competativeness_index',\n",
       " 'bus_tt',\n",
       " 'distance_to_core_D',\n",
       " 'distance_to_core_O',\n",
       " 'google_driving_minutes',\n",
       " 'hotelcount_D',\n",
       " 'intercityhub_D',\n",
       " 'intercityhub_O',\n",
       " 'metro_transit_minutes',\n",
       " 'prop_str_dens_O',\n",
       " 'proportion_of_households_D',\n",
       " 'proportion_of_households_O',\n",
       " 'restaurantcount_D',\n",
       " 'restaurantcount_O']"
      ]
     },
     "execution_count": 35,
     "metadata": {},
     "output_type": "execute_result"
    }
   ],
   "source": [
    "sorted( X_train.columns[rfecv.support_].to_list())"
   ]
  },
  {
   "cell_type": "code",
   "execution_count": null,
   "id": "c6b96a74-2fd8-456e-97ca-50495a7405fb",
   "metadata": {},
   "outputs": [],
   "source": []
  },
  {
   "cell_type": "code",
   "execution_count": null,
   "id": "e568934b-88b7-439e-be54-13f828dc3bae",
   "metadata": {},
   "outputs": [],
   "source": []
  },
  {
   "cell_type": "code",
   "execution_count": null,
   "id": "2626e7db-c8e9-4efc-8053-f8cf5a448e86",
   "metadata": {},
   "outputs": [],
   "source": []
  },
  {
   "cell_type": "code",
   "execution_count": null,
   "id": "be92f532-0cb9-4947-9c56-a22e64cc3b34",
   "metadata": {},
   "outputs": [],
   "source": []
  },
  {
   "cell_type": "code",
   "execution_count": null,
   "id": "ecbdd591-992e-4930-adce-79efbb003004",
   "metadata": {},
   "outputs": [],
   "source": []
  }
 ],
 "metadata": {
  "kernelspec": {
   "display_name": "Python 3 (ipykernel)",
   "language": "python",
   "name": "python3"
  },
  "language_info": {
   "codemirror_mode": {
    "name": "ipython",
    "version": 3
   },
   "file_extension": ".py",
   "mimetype": "text/x-python",
   "name": "python",
   "nbconvert_exporter": "python",
   "pygments_lexer": "ipython3",
   "version": "3.12.0"
  }
 },
 "nbformat": 4,
 "nbformat_minor": 5
}
