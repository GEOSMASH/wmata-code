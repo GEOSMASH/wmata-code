{
 "cells": [
  {
   "cell_type": "code",
   "execution_count": 1,
   "id": "d9352183-2fa6-4f52-90e0-a058b8b95429",
   "metadata": {
    "colab": {
     "base_uri": "https://localhost:8080/"
    },
    "executionInfo": {
     "elapsed": 25540,
     "status": "ok",
     "timestamp": 1684376764887,
     "user": {
      "displayName": "Janna Chapman",
      "userId": "03316905486439216008"
     },
     "user_tz": 240
    },
    "id": "cbaf3f9f",
    "outputId": "8fb175bf-716d-4245-d098-adc323e02420"
   },
   "outputs": [],
   "source": [
    "import os\n",
    "os.makedirs('output', exist_ok=True)\n",
    "\n",
    "import sys\n",
    "sys.path.append('../')\n",
    "\n",
    "from utils import load_walksheds, overlay_wks\n",
    "\n",
    "import geopandas as gpd\n",
    "import matplotlib.pyplot as plt\n",
    "import numpy as np\n",
    "import pandas as pd \n",
    "import warnings\n",
    "warnings.filterwarnings(\"ignore\")\n",
    "\n",
    "import gtfs_kit as gk\n",
    "from gtfs_functions import Feed"
   ]
  },
  {
   "cell_type": "markdown",
   "id": "634e43f3-2855-4b9d-a449-26f5dc09a1f4",
   "metadata": {},
   "source": [
    "#### Read in Datasets and Files"
   ]
  },
  {
   "cell_type": "markdown",
   "id": "b06ec57c-189b-4c6e-80ba-386e7bb2964f",
   "metadata": {},
   "source": [
    "* walskhedbuffer is the Metro station walksheds with overlapping boundaries\n",
    "* metro_walkshed_name contains the MSTN ID numbers and station names\n",
    "* feed contains GTFS bus data for the Washington Area"
   ]
  },
  {
   "cell_type": "code",
   "execution_count": 2,
   "id": "16718bff-f7cb-49b6-84d2-95aae0e1aec1",
   "metadata": {},
   "outputs": [],
   "source": [
    "wksp5, wksp75 = load_walksheds()"
   ]
  },
  {
   "cell_type": "code",
   "execution_count": 3,
   "id": "aa640870-6a15-4613-9dfa-cdf38a0d7eaa",
   "metadata": {},
   "outputs": [],
   "source": [
    "metro_walkshed_name = pd.read_csv('../../Data/metro_walkshed_name.csv')\n",
    "feed = Feed('../../Data/gtfs.zip')"
   ]
  },
  {
   "cell_type": "markdown",
   "id": "c9b81d2d-f374-4aee-ab7d-f54d00639ee0",
   "metadata": {},
   "source": [
    "#### Preprocessing\n"
   ]
  },
  {
   "cell_type": "markdown",
   "id": "4bad226f-0648-4277-975a-da4721a74ba0",
   "metadata": {},
   "source": [
    "* Merge the walkshed buffer with the metro station names to bring in the MSTN IDs\n",
    "* Retrive the routes, trips, stops, stop times and shapes from the GTFS data"
   ]
  },
  {
   "cell_type": "code",
   "execution_count": 4,
   "id": "6576abee-5190-423d-93aa-a755a5044bdf",
   "metadata": {},
   "outputs": [],
   "source": [
    "wksp5_MSTN, wksp75_MSTN = wksp5.merge(metro_walkshed_name,on='Name_1'), wksp75.merge(metro_walkshed_name,on='Name_1')"
   ]
  },
  {
   "cell_type": "code",
   "execution_count": 5,
   "id": "6797bdcc-7b6c-48e2-9322-a324340f2929",
   "metadata": {
    "id": "ac52f635"
   },
   "outputs": [
    {
     "name": "stderr",
     "output_type": "stream",
     "text": [
      "INFO:root:Reading \"routes.txt\".\n",
      "INFO:root:accessing trips\n",
      "INFO:root:Start date is None. You should either specify a start date or set busiest_date to True.\n",
      "INFO:root:Reading \"trips.txt\".\n",
      "INFO:root:File \"calendar.txt\" not found.\n",
      "INFO:root:Reading \"calendar_dates.txt\".\n",
      "INFO:root:The busiest date/s of this feed or your selected date range is/are:  ['2020-07-17', '2020-06-19', '2020-08-07', '2020-05-08', '2020-07-31', '2020-07-03', '2020-06-05', '2020-05-15', '2020-10-02', '2020-08-14', '2020-09-25', '2020-05-29', '2020-08-21', '2020-09-11', '2020-09-18', '2020-06-12', '2020-08-28', '2020-06-26', '2020-07-24', '2020-10-09', '2020-09-04', '2020-07-10'] with 16380 trips.\n",
      "INFO:root:In the case that more than one busiest date was found, the first one will be considered.\n",
      "INFO:root:In this case is 2020-07-17.\n",
      "INFO:root:Reading \"stop_times.txt\".\n",
      "INFO:root:_trips is defined in stop_times\n",
      "INFO:root:Reading \"stops.txt\".\n",
      "INFO:root:computing patterns\n",
      "INFO:root:Reading \"shapes.txt\".\n"
     ]
    }
   ],
   "source": [
    "routes = feed.routes\n",
    "trips = feed.trips\n",
    "stops = feed.stops\n",
    "stop_times = feed.stop_times\n",
    "shapes = feed.shapes\n"
   ]
  },
  {
   "cell_type": "markdown",
   "id": "0c91e879-3697-4bd7-b3c3-29141aa5f712",
   "metadata": {},
   "source": [
    "* Filter the shapes for when the shape is within the trips\n",
    "* Intersect the shapes of the bus routes with the walksheds, groupby the station and aggregate the number of lines by the number of unique lines\n",
    "*  Intersect the shapes of the bus routes with the walksheds, groupby the station and aggregate the number of spots by the number of unique stop names\n",
    "*  Merge the bus lines and the bus stops together\n",
    "*  Fill any NAs with 0\n",
    "*  Export only the bus lines, bus stops, station names and station IDs\n",
    "*  All of these steps are repeated for the 0.5 and 0.75 walksheds"
   ]
  },
  {
   "cell_type": "code",
   "execution_count": 6,
   "id": "60cd5b5a-5661-42f7-a2b1-2cd0d5795587",
   "metadata": {},
   "outputs": [],
   "source": [
    "route_shapes = shapes[shapes.shape_id.isin(trips.shape_id.unique())]"
   ]
  },
  {
   "cell_type": "code",
   "execution_count": 7,
   "id": "aa795ee4-61b0-492c-8331-7b2ea557944b",
   "metadata": {},
   "outputs": [
    {
     "data": {
      "text/html": [
       "<div>\n",
       "<style scoped>\n",
       "    .dataframe tbody tr th:only-of-type {\n",
       "        vertical-align: middle;\n",
       "    }\n",
       "\n",
       "    .dataframe tbody tr th {\n",
       "        vertical-align: top;\n",
       "    }\n",
       "\n",
       "    .dataframe thead th {\n",
       "        text-align: right;\n",
       "    }\n",
       "</style>\n",
       "<table border=\"1\" class=\"dataframe\">\n",
       "  <thead>\n",
       "    <tr style=\"text-align: right;\">\n",
       "      <th></th>\n",
       "      <th>stop_id</th>\n",
       "      <th>stop_code</th>\n",
       "      <th>stop_name</th>\n",
       "      <th>stop_desc</th>\n",
       "      <th>stop_lat</th>\n",
       "      <th>stop_lon</th>\n",
       "      <th>zone_id</th>\n",
       "      <th>geometry</th>\n",
       "    </tr>\n",
       "  </thead>\n",
       "  <tbody>\n",
       "    <tr>\n",
       "      <th>0</th>\n",
       "      <td>1</td>\n",
       "      <td>1002500</td>\n",
       "      <td>WISCONSIN AVE NW &amp; RIVER RD NW</td>\n",
       "      <td>NaN</td>\n",
       "      <td>38.949019</td>\n",
       "      <td>-77.080369</td>\n",
       "      <td>8</td>\n",
       "      <td>POINT (-77.08037 38.94902)</td>\n",
       "    </tr>\n",
       "    <tr>\n",
       "      <th>1</th>\n",
       "      <td>3</td>\n",
       "      <td>3002395</td>\n",
       "      <td>9TH ST &amp; RAILROAD AVE</td>\n",
       "      <td>NaN</td>\n",
       "      <td>39.008222</td>\n",
       "      <td>-76.780363</td>\n",
       "      <td>8</td>\n",
       "      <td>POINT (-76.78036 39.00822)</td>\n",
       "    </tr>\n",
       "    <tr>\n",
       "      <th>2</th>\n",
       "      <td>9</td>\n",
       "      <td>3002207</td>\n",
       "      <td>14TH AVE &amp; LANGLEY WAY</td>\n",
       "      <td>NaN</td>\n",
       "      <td>38.990257</td>\n",
       "      <td>-76.984353</td>\n",
       "      <td>5</td>\n",
       "      <td>POINT (-76.98435 38.99026)</td>\n",
       "    </tr>\n",
       "    <tr>\n",
       "      <th>3</th>\n",
       "      <td>10</td>\n",
       "      <td>3002213</td>\n",
       "      <td>14TH AVE &amp; LANGLEY WAY</td>\n",
       "      <td>NaN</td>\n",
       "      <td>38.990479</td>\n",
       "      <td>-76.984519</td>\n",
       "      <td>5</td>\n",
       "      <td>POINT (-76.98452 38.99048)</td>\n",
       "    </tr>\n",
       "    <tr>\n",
       "      <th>4</th>\n",
       "      <td>11</td>\n",
       "      <td>3002191</td>\n",
       "      <td>KANAWHA ST &amp; 14TH AVE</td>\n",
       "      <td>NaN</td>\n",
       "      <td>38.988320</td>\n",
       "      <td>-76.983581</td>\n",
       "      <td>5</td>\n",
       "      <td>POINT (-76.98358 38.98832)</td>\n",
       "    </tr>\n",
       "  </tbody>\n",
       "</table>\n",
       "</div>"
      ],
      "text/plain": [
       "  stop_id stop_code                       stop_name  stop_desc   stop_lat  \\\n",
       "0       1   1002500  WISCONSIN AVE NW & RIVER RD NW        NaN  38.949019   \n",
       "1       3   3002395           9TH ST & RAILROAD AVE        NaN  39.008222   \n",
       "2       9   3002207          14TH AVE & LANGLEY WAY        NaN  38.990257   \n",
       "3      10   3002213          14TH AVE & LANGLEY WAY        NaN  38.990479   \n",
       "4      11   3002191           KANAWHA ST & 14TH AVE        NaN  38.988320   \n",
       "\n",
       "    stop_lon  zone_id                    geometry  \n",
       "0 -77.080369        8  POINT (-77.08037 38.94902)  \n",
       "1 -76.780363        8  POINT (-76.78036 39.00822)  \n",
       "2 -76.984353        5  POINT (-76.98435 38.99026)  \n",
       "3 -76.984519        5  POINT (-76.98452 38.99048)  \n",
       "4 -76.983581        5  POINT (-76.98358 38.98832)  "
      ]
     },
     "execution_count": 7,
     "metadata": {},
     "output_type": "execute_result"
    }
   ],
   "source": [
    "stops.head()"
   ]
  },
  {
   "cell_type": "code",
   "execution_count": 8,
   "id": "42611d13-0bd0-4667-b1d0-83ec1e652242",
   "metadata": {},
   "outputs": [],
   "source": [
    "walkshed_line_count_p5, walkshed_line_count_p75 = overlay_wks(route_shapes)"
   ]
  },
  {
   "cell_type": "code",
   "execution_count": 9,
   "id": "29736aba-6468-41ab-9f49-39f3dd455582",
   "metadata": {},
   "outputs": [],
   "source": [
    "walkshed_line_count_p5_MSTN, walkshed_line_count_p75_MSTN = walkshed_line_count_p5.merge(metro_walkshed_name,on='Name_1'), walkshed_line_count_p75.merge(metro_walkshed_name,on='Name_1')"
   ]
  },
  {
   "cell_type": "code",
   "execution_count": 10,
   "id": "450405a7-d7fa-4e4e-9278-8d98b43206eb",
   "metadata": {},
   "outputs": [],
   "source": [
    "walkshed_line_count_p5_MSTN = walkshed_line_count_p5_MSTN.groupby('MSTN').agg({'shape_id':'nunique'})\\\n",
    ".reset_index().rename({'shape_id':'line_count_p5'},axis=1)\n",
    "\n",
    "walkshed_line_count_p75_MSTN = walkshed_line_count_p75_MSTN.groupby('MSTN').agg({'shape_id':'nunique'})\\\n",
    ".reset_index().rename({'shape_id':'line_count_p75'},axis=1)\n"
   ]
  },
  {
   "cell_type": "code",
   "execution_count": 11,
   "id": "41e8cc5c-4c3f-419b-94c1-86d05df7630a",
   "metadata": {},
   "outputs": [],
   "source": [
    "walkshed_stop_count_p5, walkshed_stop_count_p75 = overlay_wks(stops)"
   ]
  },
  {
   "cell_type": "code",
   "execution_count": 12,
   "id": "749afb45-a69e-449e-8062-baae0845a89c",
   "metadata": {},
   "outputs": [],
   "source": [
    "walkshed_stop_count_p5_MSTN, walkshed_stop_count_p75_MSTN = walkshed_stop_count_p5.merge(metro_walkshed_name,on='Name_1'), walkshed_stop_count_p75.merge(metro_walkshed_name,on='Name_1')"
   ]
  },
  {
   "cell_type": "code",
   "execution_count": 13,
   "id": "aab8137e-997e-470c-9074-28fa7c5393cc",
   "metadata": {},
   "outputs": [],
   "source": [
    "walkshed_stop_count_p5_MSTN = walkshed_stop_count_p5_MSTN.groupby('MSTN').agg({'stop_name':'nunique'})\\\n",
    ".reset_index().rename({'stop_name':'stop_count_p5'},axis=1)\n",
    "\n",
    "walkshed_stop_count_p75_MSTN = walkshed_stop_count_p75_MSTN.groupby('MSTN').agg({'stop_name':'nunique'})\\\n",
    ".reset_index().rename({'stop_name':'stop_count_p75'},axis=1)"
   ]
  },
  {
   "cell_type": "code",
   "execution_count": 16,
   "id": "e1052be5-107c-4eac-8485-e47809c35c8c",
   "metadata": {},
   "outputs": [
    {
     "data": {
      "text/html": [
       "<div>\n",
       "<style scoped>\n",
       "    .dataframe tbody tr th:only-of-type {\n",
       "        vertical-align: middle;\n",
       "    }\n",
       "\n",
       "    .dataframe tbody tr th {\n",
       "        vertical-align: top;\n",
       "    }\n",
       "\n",
       "    .dataframe thead th {\n",
       "        text-align: right;\n",
       "    }\n",
       "</style>\n",
       "<table border=\"1\" class=\"dataframe\">\n",
       "  <thead>\n",
       "    <tr style=\"text-align: right;\">\n",
       "      <th></th>\n",
       "      <th>Name_1</th>\n",
       "      <th>Acres</th>\n",
       "      <th>Shape_Leng</th>\n",
       "      <th>Shape_Area</th>\n",
       "      <th>StnCode</th>\n",
       "      <th>geometry</th>\n",
       "      <th>SHED_NAME</th>\n",
       "      <th>MSTN</th>\n",
       "      <th>line_count_p75</th>\n",
       "      <th>stop_count_p75</th>\n",
       "    </tr>\n",
       "  </thead>\n",
       "  <tbody>\n",
       "    <tr>\n",
       "      <th>0</th>\n",
       "      <td>ADDISON ROAD-SEAT PLEASANT</td>\n",
       "      <td>246.285276</td>\n",
       "      <td>16545.122053</td>\n",
       "      <td>1.072814e+07</td>\n",
       "      <td>None</td>\n",
       "      <td>POLYGON ((-76.88310 38.88655, -76.88313 38.885...</td>\n",
       "      <td>Addison Road</td>\n",
       "      <td>MSTN_062</td>\n",
       "      <td>36.0</td>\n",
       "      <td>33.0</td>\n",
       "    </tr>\n",
       "    <tr>\n",
       "      <th>1</th>\n",
       "      <td>ANACOSTIA</td>\n",
       "      <td>333.682311</td>\n",
       "      <td>20554.034340</td>\n",
       "      <td>1.453514e+07</td>\n",
       "      <td>None</td>\n",
       "      <td>POLYGON ((-76.98076 38.86278, -76.98079 38.861...</td>\n",
       "      <td>Anacostia S</td>\n",
       "      <td>MSTN_001</td>\n",
       "      <td>69.0</td>\n",
       "      <td>75.0</td>\n",
       "    </tr>\n",
       "  </tbody>\n",
       "</table>\n",
       "</div>"
      ],
      "text/plain": [
       "                       Name_1       Acres    Shape_Leng    Shape_Area StnCode  \\\n",
       "0  ADDISON ROAD-SEAT PLEASANT  246.285276  16545.122053  1.072814e+07    None   \n",
       "1                   ANACOSTIA  333.682311  20554.034340  1.453514e+07    None   \n",
       "\n",
       "                                            geometry     SHED_NAME      MSTN  \\\n",
       "0  POLYGON ((-76.88310 38.88655, -76.88313 38.885...  Addison Road  MSTN_062   \n",
       "1  POLYGON ((-76.98076 38.86278, -76.98079 38.861...   Anacostia S  MSTN_001   \n",
       "\n",
       "   line_count_p75  stop_count_p75  \n",
       "0            36.0            33.0  \n",
       "1            69.0            75.0  "
      ]
     },
     "execution_count": 16,
     "metadata": {},
     "output_type": "execute_result"
    }
   ],
   "source": [
    "walkshedbuffer_line_stop_p5 = wksp5_MSTN.merge(walkshed_line_count_p5_MSTN,on='MSTN',how='left')\\\n",
    ".merge(walkshed_stop_count_p5_MSTN,on='MSTN',how='left')\n",
    "\n",
    "walkshedbuffer_line_stop_p75 = wksp75_MSTN.merge(walkshed_line_count_p75_MSTN,on='MSTN',how='left')\\\n",
    ".merge(walkshed_stop_count_p75_MSTN,on='MSTN',how='left')\n",
    "\n",
    "\n",
    "walkshedbuffer_line_stop_p5[['line_count_p5','stop_count_p5']] = walkshedbuffer_line_stop_p5[['line_count_p5','stop_count_p5']].fillna(0)\n",
    "\n",
    "walkshedbuffer_line_stop_p75[['line_count_p75','stop_count_p75']] = walkshedbuffer_line_stop_p75[['line_count_p75','stop_count_p75']].fillna(0)\n",
    "\n",
    "walkshedbuffer_line_stop_p75.head(2)"
   ]
  },
  {
   "cell_type": "code",
   "execution_count": 17,
   "id": "1fefeeac-8fcf-43c3-8997-53d755be54a7",
   "metadata": {},
   "outputs": [],
   "source": [
    "walkshedbuffer_line_stop_p5[['Name_1','MSTN','line_count_p5','stop_count_p5']]\\\n",
    ".to_csv('output/bus_line_stop_p5.csv',index=False)\n",
    "\n",
    "walkshedbuffer_line_stop_p75[['Name_1','MSTN','line_count_p75','stop_count_p75']]\\\n",
    ".to_csv('output/bus_line_stop_p75.csv',index=False)"
   ]
  },
  {
   "cell_type": "code",
   "execution_count": null,
   "id": "fb7d4e3a-b91a-4279-bfa2-e7fb47c848af",
   "metadata": {},
   "outputs": [],
   "source": []
  },
  {
   "cell_type": "code",
   "execution_count": null,
   "id": "d5565a6e-9f19-41fe-96da-c274e19fd0e5",
   "metadata": {},
   "outputs": [],
   "source": []
  },
  {
   "cell_type": "code",
   "execution_count": null,
   "id": "65d4e9b8-fb5c-4637-9749-98f132905f71",
   "metadata": {},
   "outputs": [],
   "source": []
  }
 ],
 "metadata": {
  "kernelspec": {
   "display_name": "Python 3 (ipykernel)",
   "language": "python",
   "name": "python3"
  },
  "language_info": {
   "codemirror_mode": {
    "name": "ipython",
    "version": 3
   },
   "file_extension": ".py",
   "mimetype": "text/x-python",
   "name": "python",
   "nbconvert_exporter": "python",
   "pygments_lexer": "ipython3",
   "version": "3.11.4"
  }
 },
 "nbformat": 4,
 "nbformat_minor": 5
}
