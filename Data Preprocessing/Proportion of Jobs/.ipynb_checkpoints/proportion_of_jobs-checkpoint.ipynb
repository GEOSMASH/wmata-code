{
 "cells": [
  {
   "cell_type": "code",
   "execution_count": 1,
   "id": "880ed593",
   "metadata": {
    "colab": {
     "base_uri": "https://localhost:8080/"
    },
    "executionInfo": {
     "elapsed": 35124,
     "status": "ok",
     "timestamp": 1684385524974,
     "user": {
      "displayName": "Janna Chapman",
      "userId": "03316905486439216008"
     },
     "user_tz": 240
    },
    "id": "880ed593",
    "outputId": "be4ebda0-97be-4739-a242-1b5a304e9daa"
   },
   "outputs": [],
   "source": [
    "import geopandas as gpd\n",
    "from geopandas.tools import overlay\n",
    "import pandas as pd\n",
    "import matplotlib.pyplot as plt\n",
    "import openpyxl\n",
    "import warnings\n",
    "import os\n",
    "warnings.filterwarnings(\"ignore\")"
   ]
  },
  {
   "cell_type": "markdown",
   "id": "56950ea2-663e-44ec-9462-69df6936146c",
   "metadata": {},
   "source": [
    "#### Read in Datasets and Files"
   ]
  },
  {
   "cell_type": "markdown",
   "id": "712911d5-9f78-4bfb-86bd-1e01eb643b60",
   "metadata": {},
   "source": [
    "* walskhedbuffer is the Metro station walksheds with overlapping boundaries\n",
    "* all_boundaries All boundaries for census blocks in MD, DC and VA\n",
    "* Alljobs_MDDCVA contains information for all jobs in MD, DC and VA "
   ]
  },
  {
   "cell_type": "code",
   "execution_count": 3,
   "id": "6f2e49cf",
   "metadata": {
    "executionInfo": {
     "elapsed": 32320,
     "status": "ok",
     "timestamp": 1684385586655,
     "user": {
      "displayName": "Janna Chapman",
      "userId": "03316905486439216008"
     },
     "user_tz": 240
    },
    "id": "6f2e49cf",
    "tags": []
   },
   "outputs": [],
   "source": [
    "walkshedbuffer = gpd.read_file(\"../../Data/walksheds_overlapping.zip\")\n",
    "all_boundaries= gpd.read_file(\"../../Data/Block MD_DC_VA.zip\")\n",
    "Alljobs_MDDCVA = pd.read_excel(\"../../Data/AlljobMDDCVA.xlsx\")"
   ]
  },
  {
   "cell_type": "markdown",
   "id": "5eec7247-094a-470d-adfc-bec43075f843",
   "metadata": {},
   "source": [
    "#### Preprocessing\n"
   ]
  },
  {
   "cell_type": "markdown",
   "id": "7e1e440a-7f95-4eb4-8279-b9c21617c757",
   "metadata": {},
   "source": [
    "* Rename the w_geocode column from jobs table to GEOID20 to match the ID column name in the block shapefile of DC, MD, VA\n",
    "* Convert the GEOID20 column in the jobs table to strings "
   ]
  },
  {
   "cell_type": "code",
   "execution_count": 4,
   "id": "dc34c0c3",
   "metadata": {
    "executionInfo": {
     "elapsed": 132,
     "status": "ok",
     "timestamp": 1684385973705,
     "user": {
      "displayName": "Janna Chapman",
      "userId": "03316905486439216008"
     },
     "user_tz": 240
    },
    "id": "dc34c0c3"
   },
   "outputs": [],
   "source": [
    "Alljobs_MDDCVA.rename(columns = {'w_geocode':'GEOID20'}, inplace = True)\n",
    "Alljobs_MDDCVA[\"GEOID20\"]= Alljobs_MDDCVA[\"GEOID20\"].astype('str')"
   ]
  },
  {
   "cell_type": "markdown",
   "id": "320d8ee5-ffc3-4965-92dd-64744dce13c5",
   "metadata": {},
   "source": [
    "* Join jobs to all_boundaries. Keep boundaries where there are no jobs"
   ]
  },
  {
   "cell_type": "code",
   "execution_count": 5,
   "id": "b3405c3b",
   "metadata": {
    "executionInfo": {
     "elapsed": 198,
     "status": "ok",
     "timestamp": 1684385982655,
     "user": {
      "displayName": "Janna Chapman",
      "userId": "03316905486439216008"
     },
     "user_tz": 240
    },
    "id": "b3405c3b"
   },
   "outputs": [
    {
     "data": {
      "text/html": [
       "<div>\n",
       "<style scoped>\n",
       "    .dataframe tbody tr th:only-of-type {\n",
       "        vertical-align: middle;\n",
       "    }\n",
       "\n",
       "    .dataframe tbody tr th {\n",
       "        vertical-align: top;\n",
       "    }\n",
       "\n",
       "    .dataframe thead th {\n",
       "        text-align: right;\n",
       "    }\n",
       "</style>\n",
       "<table border=\"1\" class=\"dataframe\">\n",
       "  <thead>\n",
       "    <tr style=\"text-align: right;\">\n",
       "      <th></th>\n",
       "      <th>STATEFP20</th>\n",
       "      <th>COUNTYFP20</th>\n",
       "      <th>TRACTCE20</th>\n",
       "      <th>BLOCKCE20</th>\n",
       "      <th>GEOID20</th>\n",
       "      <th>NAME20</th>\n",
       "      <th>ALAND20</th>\n",
       "      <th>AWATER20</th>\n",
       "      <th>INTPTLAT20</th>\n",
       "      <th>INTPTLON20</th>\n",
       "      <th>...</th>\n",
       "      <th>CFA02</th>\n",
       "      <th>CFA03</th>\n",
       "      <th>CFA04</th>\n",
       "      <th>CFA05</th>\n",
       "      <th>CFS01</th>\n",
       "      <th>CFS02</th>\n",
       "      <th>CFS03</th>\n",
       "      <th>CFS04</th>\n",
       "      <th>CFS05</th>\n",
       "      <th>createdate</th>\n",
       "    </tr>\n",
       "  </thead>\n",
       "  <tbody>\n",
       "    <tr>\n",
       "      <th>0</th>\n",
       "      <td>24</td>\n",
       "      <td>031</td>\n",
       "      <td>700204</td>\n",
       "      <td>1016</td>\n",
       "      <td>240317002041016</td>\n",
       "      <td>Block 1016</td>\n",
       "      <td>2882692.0</td>\n",
       "      <td>10982.0</td>\n",
       "      <td>+39.3110468</td>\n",
       "      <td>-077.1894440</td>\n",
       "      <td>...</td>\n",
       "      <td>NaN</td>\n",
       "      <td>NaN</td>\n",
       "      <td>NaN</td>\n",
       "      <td>NaN</td>\n",
       "      <td>NaN</td>\n",
       "      <td>NaN</td>\n",
       "      <td>NaN</td>\n",
       "      <td>NaN</td>\n",
       "      <td>NaN</td>\n",
       "      <td>NaN</td>\n",
       "    </tr>\n",
       "    <tr>\n",
       "      <th>1</th>\n",
       "      <td>24</td>\n",
       "      <td>031</td>\n",
       "      <td>705902</td>\n",
       "      <td>1008</td>\n",
       "      <td>240317059021008</td>\n",
       "      <td>Block 1008</td>\n",
       "      <td>112639.0</td>\n",
       "      <td>502.0</td>\n",
       "      <td>+38.9700155</td>\n",
       "      <td>-077.1364633</td>\n",
       "      <td>...</td>\n",
       "      <td>0.0</td>\n",
       "      <td>0.0</td>\n",
       "      <td>0.0</td>\n",
       "      <td>0.0</td>\n",
       "      <td>0.0</td>\n",
       "      <td>0.0</td>\n",
       "      <td>0.0</td>\n",
       "      <td>0.0</td>\n",
       "      <td>0.0</td>\n",
       "      <td>20211018.0</td>\n",
       "    </tr>\n",
       "  </tbody>\n",
       "</table>\n",
       "<p>2 rows × 67 columns</p>\n",
       "</div>"
      ],
      "text/plain": [
       "  STATEFP20 COUNTYFP20 TRACTCE20 BLOCKCE20          GEOID20      NAME20  \\\n",
       "0        24        031    700204      1016  240317002041016  Block 1016   \n",
       "1        24        031    705902      1008  240317059021008  Block 1008   \n",
       "\n",
       "     ALAND20  AWATER20   INTPTLAT20    INTPTLON20  ...  CFA02  CFA03  CFA04  \\\n",
       "0  2882692.0   10982.0  +39.3110468  -077.1894440  ...    NaN    NaN    NaN   \n",
       "1   112639.0     502.0  +38.9700155  -077.1364633  ...    0.0    0.0    0.0   \n",
       "\n",
       "   CFA05 CFS01  CFS02  CFS03  CFS04  CFS05  createdate  \n",
       "0    NaN   NaN    NaN    NaN    NaN    NaN         NaN  \n",
       "1    0.0   0.0    0.0    0.0    0.0    0.0  20211018.0  \n",
       "\n",
       "[2 rows x 67 columns]"
      ]
     },
     "execution_count": 5,
     "metadata": {},
     "output_type": "execute_result"
    }
   ],
   "source": [
    "Join_Jobs_Boundaries=pd.merge(all_boundaries, Alljobs_MDDCVA, on=\"GEOID20\", how='left')\n",
    "Join_Jobs_Boundaries.head(2)"
   ]
  },
  {
   "cell_type": "markdown",
   "id": "c7bb18cd-d1cd-4a16-b330-f79079c8096b",
   "metadata": {},
   "source": [
    "* Change the CRS of the boundaries to match the walksheds\n",
    "* Create a column of the full area of the jobs"
   ]
  },
  {
   "cell_type": "code",
   "execution_count": 6,
   "id": "CoAlPHqax0ky",
   "metadata": {
    "colab": {
     "base_uri": "https://localhost:8080/"
    },
    "executionInfo": {
     "elapsed": 147,
     "status": "ok",
     "timestamp": 1684385989937,
     "user": {
      "displayName": "Janna Chapman",
      "userId": "03316905486439216008"
     },
     "user_tz": 240
    },
    "id": "CoAlPHqax0ky",
    "outputId": "64687c75-0fd7-49e1-ea8d-58cf3863df28"
   },
   "outputs": [],
   "source": [
    "walkshedbuffer= walkshedbuffer.to_crs('EPSG:4326')\n",
    "Join_Jobs_Boundaries = Join_Jobs_Boundaries.to_crs('EPSG:4326')\n",
    "Join_Jobs_Boundaries['fullarea'] = Join_Jobs_Boundaries.area"
   ]
  },
  {
   "cell_type": "markdown",
   "id": "da2c2753-1e32-4e18-9ba7-99bebd500a2c",
   "metadata": {},
   "source": [
    "* Intersect the jobs with the walksheds\n",
    "* Create a partial area column to get the block area that is within a walkshed\n",
    "* Fix the names of the stations by removing extra numbers/characters at the end"
   ]
  },
  {
   "cell_type": "code",
   "execution_count": 7,
   "id": "f5f36638",
   "metadata": {
    "executionInfo": {
     "elapsed": 796,
     "status": "ok",
     "timestamp": 1684386498340,
     "user": {
      "displayName": "Janna Chapman",
      "userId": "03316905486439216008"
     },
     "user_tz": 240
    },
    "id": "f5f36638"
   },
   "outputs": [],
   "source": [
    "intersect_stations_Jobs = walkshedbuffer.overlay(Join_Jobs_Boundaries, how=\"intersection\")"
   ]
  },
  {
   "cell_type": "code",
   "execution_count": 8,
   "id": "UdgzWqEOQP7C",
   "metadata": {
    "colab": {
     "base_uri": "https://localhost:8080/"
    },
    "executionInfo": {
     "elapsed": 159,
     "status": "ok",
     "timestamp": 1684386499757,
     "user": {
      "displayName": "Janna Chapman",
      "userId": "03316905486439216008"
     },
     "user_tz": 240
    },
    "id": "UdgzWqEOQP7C",
    "outputId": "421c11b3-023b-43ca-ad72-cc167f001e50"
   },
   "outputs": [],
   "source": [
    "intersect_stations_Jobs['partialarea'] = intersect_stations_Jobs.area  # each block is within which specific walkshedbuffer"
   ]
  },
  {
   "cell_type": "code",
   "execution_count": 9,
   "id": "c4f60a9e-d2ff-4532-b26b-b52249119a13",
   "metadata": {
    "tags": []
   },
   "outputs": [
    {
     "data": {
      "text/html": [
       "<div>\n",
       "<style scoped>\n",
       "    .dataframe tbody tr th:only-of-type {\n",
       "        vertical-align: middle;\n",
       "    }\n",
       "\n",
       "    .dataframe tbody tr th {\n",
       "        vertical-align: top;\n",
       "    }\n",
       "\n",
       "    .dataframe thead th {\n",
       "        text-align: right;\n",
       "    }\n",
       "</style>\n",
       "<table border=\"1\" class=\"dataframe\">\n",
       "  <thead>\n",
       "    <tr style=\"text-align: right;\">\n",
       "      <th></th>\n",
       "      <th>Name_1</th>\n",
       "      <th>Acres</th>\n",
       "      <th>Shape_Leng_1</th>\n",
       "      <th>Shape_Area_1</th>\n",
       "      <th>StnCode</th>\n",
       "      <th>STATEFP20</th>\n",
       "      <th>COUNTYFP20</th>\n",
       "      <th>TRACTCE20</th>\n",
       "      <th>BLOCKCE20</th>\n",
       "      <th>GEOID20</th>\n",
       "      <th>...</th>\n",
       "      <th>CFA05</th>\n",
       "      <th>CFS01</th>\n",
       "      <th>CFS02</th>\n",
       "      <th>CFS03</th>\n",
       "      <th>CFS04</th>\n",
       "      <th>CFS05</th>\n",
       "      <th>createdate</th>\n",
       "      <th>fullarea</th>\n",
       "      <th>geometry</th>\n",
       "      <th>partialarea</th>\n",
       "    </tr>\n",
       "  </thead>\n",
       "  <tbody>\n",
       "    <tr>\n",
       "      <th>0</th>\n",
       "      <td>ADDISON ROAD-SEAT PLEASANT : 0 - 2640</td>\n",
       "      <td>246.285276</td>\n",
       "      <td>16545.122053</td>\n",
       "      <td>1.072814e+07</td>\n",
       "      <td>None</td>\n",
       "      <td>24</td>\n",
       "      <td>033</td>\n",
       "      <td>802700</td>\n",
       "      <td>1000</td>\n",
       "      <td>240338027001000</td>\n",
       "      <td>...</td>\n",
       "      <td>NaN</td>\n",
       "      <td>NaN</td>\n",
       "      <td>NaN</td>\n",
       "      <td>NaN</td>\n",
       "      <td>NaN</td>\n",
       "      <td>NaN</td>\n",
       "      <td>NaN</td>\n",
       "      <td>2.584903e-07</td>\n",
       "      <td>POLYGON ((-76.90028 38.88671, -76.90097 38.886...</td>\n",
       "      <td>2.584903e-07</td>\n",
       "    </tr>\n",
       "    <tr>\n",
       "      <th>1</th>\n",
       "      <td>ADDISON ROAD-SEAT PLEASANT : 0 - 2640</td>\n",
       "      <td>246.285276</td>\n",
       "      <td>16545.122053</td>\n",
       "      <td>1.072814e+07</td>\n",
       "      <td>None</td>\n",
       "      <td>24</td>\n",
       "      <td>033</td>\n",
       "      <td>802805</td>\n",
       "      <td>2004</td>\n",
       "      <td>240338028052004</td>\n",
       "      <td>...</td>\n",
       "      <td>NaN</td>\n",
       "      <td>NaN</td>\n",
       "      <td>NaN</td>\n",
       "      <td>NaN</td>\n",
       "      <td>NaN</td>\n",
       "      <td>NaN</td>\n",
       "      <td>NaN</td>\n",
       "      <td>1.378872e-05</td>\n",
       "      <td>POLYGON ((-76.88975 38.88900, -76.88853 38.888...</td>\n",
       "      <td>1.786500e-06</td>\n",
       "    </tr>\n",
       "  </tbody>\n",
       "</table>\n",
       "<p>2 rows × 74 columns</p>\n",
       "</div>"
      ],
      "text/plain": [
       "                                  Name_1       Acres  Shape_Leng_1  \\\n",
       "0  ADDISON ROAD-SEAT PLEASANT : 0 - 2640  246.285276  16545.122053   \n",
       "1  ADDISON ROAD-SEAT PLEASANT : 0 - 2640  246.285276  16545.122053   \n",
       "\n",
       "   Shape_Area_1 StnCode STATEFP20 COUNTYFP20 TRACTCE20 BLOCKCE20  \\\n",
       "0  1.072814e+07    None        24        033    802700      1000   \n",
       "1  1.072814e+07    None        24        033    802805      2004   \n",
       "\n",
       "           GEOID20  ... CFA05  CFS01  CFS02 CFS03 CFS04  CFS05  createdate  \\\n",
       "0  240338027001000  ...   NaN    NaN    NaN   NaN   NaN    NaN         NaN   \n",
       "1  240338028052004  ...   NaN    NaN    NaN   NaN   NaN    NaN         NaN   \n",
       "\n",
       "       fullarea                                           geometry  \\\n",
       "0  2.584903e-07  POLYGON ((-76.90028 38.88671, -76.90097 38.886...   \n",
       "1  1.378872e-05  POLYGON ((-76.88975 38.88900, -76.88853 38.888...   \n",
       "\n",
       "    partialarea  \n",
       "0  2.584903e-07  \n",
       "1  1.786500e-06  \n",
       "\n",
       "[2 rows x 74 columns]"
      ]
     },
     "execution_count": 9,
     "metadata": {},
     "output_type": "execute_result"
    }
   ],
   "source": [
    "intersect_stations_Jobs.head(2)"
   ]
  },
  {
   "cell_type": "code",
   "execution_count": 10,
   "id": "XRZKjBJSQm38",
   "metadata": {
    "executionInfo": {
     "elapsed": 94,
     "status": "ok",
     "timestamp": 1684386551190,
     "user": {
      "displayName": "Janna Chapman",
      "userId": "03316905486439216008"
     },
     "user_tz": 240
    },
    "id": "XRZKjBJSQm38"
   },
   "outputs": [],
   "source": [
    "intersect_stations_Jobs['Name_1']=intersect_stations_Jobs['Name_1'].str.replace(' : 0 - 2640','')\n",
    "intersect_stations_Jobs['Name_1']=intersect_stations_Jobs['Name_1'].str.replace(' : 0 - 22.4525758392805','')\n"
   ]
  },
  {
   "cell_type": "markdown",
   "id": "1e6f3a11-768f-467d-843a-cdc9a2f591ed",
   "metadata": {},
   "source": [
    "* Sum all of the jobs within the buffer of each station\n",
    "* Rename the jobs column\n",
    "* For each station, calculate the percent area of blocks that are within each station walkshed\n",
    "* Multiply that percentage (multiplier) by the total number of jobs (Sum_job_bufstation) to get the proportional number of jobs\n",
    "* Export the proporional number of jobs"
   ]
  },
  {
   "cell_type": "code",
   "execution_count": 11,
   "id": "48a9175a",
   "metadata": {
    "executionInfo": {
     "elapsed": 101,
     "status": "ok",
     "timestamp": 1684386555206,
     "user": {
      "displayName": "Janna Chapman",
      "userId": "03316905486439216008"
     },
     "user_tz": 240
    },
    "id": "48a9175a"
   },
   "outputs": [],
   "source": [
    "### summation all jobs for each intersection###\n",
    "Sum_job_bufstation = intersect_stations_Jobs.groupby(['Name_1'])[['C000']].apply(sum) \n",
    "Sum_job_bufstation.rename(columns = {'C000':'All_Jobs'}, inplace = True)"
   ]
  },
  {
   "cell_type": "code",
   "execution_count": 12,
   "id": "WzJtBK4nPC_E",
   "metadata": {
    "colab": {
     "base_uri": "https://localhost:8080/"
    },
    "executionInfo": {
     "elapsed": 264,
     "status": "ok",
     "timestamp": 1684386563963,
     "user": {
      "displayName": "Janna Chapman",
      "userId": "03316905486439216008"
     },
     "user_tz": 240
    },
    "id": "WzJtBK4nPC_E",
    "outputId": "7bc1397a-33de-4420-e35e-d637811623c0",
    "scrolled": true,
    "tags": []
   },
   "outputs": [],
   "source": [
    "totalarea_station = intersect_stations_Jobs.groupby(['Name_1'])[['fullarea']].apply(sum)\n",
    "partialarea_station = intersect_stations_Jobs.groupby(['Name_1'])[['partialarea']].apply(sum)\n",
    "multiplier = partialarea_station['partialarea']/totalarea_station['fullarea']"
   ]
  },
  {
   "cell_type": "code",
   "execution_count": 13,
   "id": "OEQiE-RQPJcH",
   "metadata": {
    "colab": {
     "base_uri": "https://localhost:8080/",
     "height": 1000
    },
    "executionInfo": {
     "elapsed": 110,
     "status": "ok",
     "timestamp": 1684386605037,
     "user": {
      "displayName": "Janna Chapman",
      "userId": "03316905486439216008"
     },
     "user_tz": 240
    },
    "id": "OEQiE-RQPJcH",
    "outputId": "9893425a-3ba7-48ef-b9d3-d406c22058ea",
    "tags": []
   },
   "outputs": [
    {
     "data": {
      "text/html": [
       "<div>\n",
       "<style scoped>\n",
       "    .dataframe tbody tr th:only-of-type {\n",
       "        vertical-align: middle;\n",
       "    }\n",
       "\n",
       "    .dataframe tbody tr th {\n",
       "        vertical-align: top;\n",
       "    }\n",
       "\n",
       "    .dataframe thead th {\n",
       "        text-align: right;\n",
       "    }\n",
       "</style>\n",
       "<table border=\"1\" class=\"dataframe\">\n",
       "  <thead>\n",
       "    <tr style=\"text-align: right;\">\n",
       "      <th></th>\n",
       "      <th>All_Jobs</th>\n",
       "    </tr>\n",
       "    <tr>\n",
       "      <th>Name_1</th>\n",
       "      <th></th>\n",
       "    </tr>\n",
       "  </thead>\n",
       "  <tbody>\n",
       "    <tr>\n",
       "      <th>ADDISON ROAD-SEAT PLEASANT</th>\n",
       "      <td>205.510639</td>\n",
       "    </tr>\n",
       "    <tr>\n",
       "      <th>ANACOSTIA</th>\n",
       "      <td>2332.571897</td>\n",
       "    </tr>\n",
       "  </tbody>\n",
       "</table>\n",
       "</div>"
      ],
      "text/plain": [
       "                               All_Jobs\n",
       "Name_1                                 \n",
       "ADDISON ROAD-SEAT PLEASANT   205.510639\n",
       "ANACOSTIA                   2332.571897"
      ]
     },
     "execution_count": 13,
     "metadata": {},
     "output_type": "execute_result"
    }
   ],
   "source": [
    "proportion_Jobs_walkstation = Sum_job_bufstation.multiply(multiplier, axis=\"index\")\n",
    "proportion_Jobs_walkstation.rename(columns={'All Jobs': 'Proportion Jobs'}, inplace=True)\n",
    "proportion_Jobs_walkstation.head(2)"
   ]
  },
  {
   "cell_type": "code",
   "execution_count": 14,
   "id": "e82a653c-212b-4050-8fe8-d4662a696eb2",
   "metadata": {},
   "outputs": [],
   "source": [
    "proportion_Jobs_walkstation.to_excel(\"output/proportional_jobs_stations.xlsx\", sheet_name='num of jobs_stations', index=True)"
   ]
  }
 ],
 "metadata": {
  "colab": {
   "provenance": []
  },
  "kernelspec": {
   "display_name": "Python 3 (ipykernel)",
   "language": "python",
   "name": "python3"
  },
  "language_info": {
   "codemirror_mode": {
    "name": "ipython",
    "version": 3
   },
   "file_extension": ".py",
   "mimetype": "text/x-python",
   "name": "python",
   "nbconvert_exporter": "python",
   "pygments_lexer": "ipython3",
   "version": "3.10.8"
  }
 },
 "nbformat": 4,
 "nbformat_minor": 5
}
