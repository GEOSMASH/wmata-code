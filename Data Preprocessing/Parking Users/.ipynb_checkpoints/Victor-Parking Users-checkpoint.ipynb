{
 "cells": [
  {
   "cell_type": "code",
   "execution_count": 1,
   "id": "a11ce4fe",
   "metadata": {},
   "outputs": [],
   "source": [
    "import pandas as pd\n",
    "import numpy as np\n",
    "import matplotlib.pyplot as plt\n",
    "import warnings\n",
    "warnings.filterwarnings('ignore')"
   ]
  },
  {
   "cell_type": "markdown",
   "id": "5b4d4816",
   "metadata": {},
   "source": [
    "#### Load the parking data for April - May"
   ]
  },
  {
   "cell_type": "code",
   "execution_count": 2,
   "id": "36e9e093",
   "metadata": {},
   "outputs": [],
   "source": [
    "load_data = pd.concat(pd.read_excel(\"../../Data/railTrips_withBusParkingFlags_04152022-05152022.xlsx\", sheet_name=None), ignore_index=True)"
   ]
  },
  {
   "cell_type": "code",
   "execution_count": 3,
   "id": "ad7dd982",
   "metadata": {},
   "outputs": [],
   "source": [
    "data = load_data.copy()"
   ]
  },
  {
   "cell_type": "code",
   "execution_count": 4,
   "id": "9effc7a3",
   "metadata": {},
   "outputs": [
    {
     "data": {
      "text/plain": [
       "Index(['SVC_DATE', 'SERIAL_NBR', 'JNY_KEY', 'SUBSYSTEM', 'START_PLACE_NAME',\n",
       "       'START_TIME', 'END_PLACE_NAME', 'END_TIME', 'FARE_INSTRUMENT_ID',\n",
       "       'DESCRIPTION', 'RIDER_CLASS', 'FUND_TYPE', 'FARE_CENTS',\n",
       "       'PRIOR_TRIP_BUS_FLAG', 'PRIOR_BUS_TRIP_START_TIME',\n",
       "       'NEXT_TRIP_BUS_FLAG', 'NEXT_BUS_TRIP_START_TIME', 'PARKED_AT_ORIGIN',\n",
       "       'AUTO_START_TIME', 'PARKED_AT_DESTINATION', 'AUTO_END_TIME',\n",
       "       'Unnamed: 0', 'Unnamed: 1', 'Unnamed: 2', 'Unnamed: 3', 'Unnamed: 4',\n",
       "       'Unnamed: 5', 'Unnamed: 6', 'Unnamed: 7', 'Unnamed: 8', 'Unnamed: 9',\n",
       "       'Unnamed: 10', 'Unnamed: 11', 'Unnamed: 12', 'Unnamed: 13',\n",
       "       'Unnamed: 14', 'Unnamed: 15', 'Unnamed: 16', 'Unnamed: 17',\n",
       "       'Unnamed: 18', 'Unnamed: 19', 'Unnamed: 20'],\n",
       "      dtype='object')"
      ]
     },
     "execution_count": 4,
     "metadata": {},
     "output_type": "execute_result"
    }
   ],
   "source": [
    "data.columns"
   ]
  },
  {
   "cell_type": "markdown",
   "id": "e89755ea",
   "metadata": {},
   "source": [
    "####  handle NaNs \n",
    "\n",
    "- The Excel dataset has 5 sheets, it seems like pandas reads just the first sheet and the last 4 sheets separately. hence the nans and unamed columns in the above dataframe"
   ]
  },
  {
   "cell_type": "code",
   "execution_count": 5,
   "id": "57f8aa36",
   "metadata": {},
   "outputs": [],
   "source": [
    "first = data[['SVC_DATE', 'SERIAL_NBR', 'JNY_KEY', 'SUBSYSTEM', 'START_PLACE_NAME',\n",
    "       'START_TIME', 'END_PLACE_NAME', 'END_TIME', 'FARE_INSTRUMENT_ID',\n",
    "       'DESCRIPTION', 'RIDER_CLASS', 'FUND_TYPE', 'FARE_CENTS',\n",
    "       'PRIOR_TRIP_BUS_FLAG', 'PRIOR_BUS_TRIP_START_TIME',\n",
    "       'NEXT_TRIP_BUS_FLAG', 'NEXT_BUS_TRIP_START_TIME', 'PARKED_AT_ORIGIN',\n",
    "       'AUTO_START_TIME', 'PARKED_AT_DESTINATION', 'AUTO_END_TIME' ]]"
   ]
  },
  {
   "cell_type": "code",
   "execution_count": 6,
   "id": "db81afb3",
   "metadata": {},
   "outputs": [],
   "source": [
    "rest = data[data.columns[~data.columns.isin(first.columns)]]"
   ]
  },
  {
   "cell_type": "code",
   "execution_count": 7,
   "id": "12d043b3",
   "metadata": {},
   "outputs": [],
   "source": [
    "rest = rest.copy()\n",
    "rest.rename(columns=dict(zip(rest.columns, first.columns)), inplace=True)"
   ]
  },
  {
   "cell_type": "code",
   "execution_count": 8,
   "id": "8186137e",
   "metadata": {},
   "outputs": [],
   "source": [
    "rest = rest.drop(['PRIOR_TRIP_BUS_FLAG', 'PRIOR_BUS_TRIP_START_TIME', \n",
    "           'NEXT_BUS_TRIP_START_TIME', 'AUTO_START_TIME','AUTO_END_TIME'], axis=1).dropna()\n",
    "\n",
    "first = first.drop(['PRIOR_TRIP_BUS_FLAG', 'PRIOR_BUS_TRIP_START_TIME', \n",
    "           'NEXT_BUS_TRIP_START_TIME', 'AUTO_START_TIME','AUTO_END_TIME'], axis=1).dropna()"
   ]
  },
  {
   "cell_type": "code",
   "execution_count": 9,
   "id": "b7930c1d",
   "metadata": {},
   "outputs": [],
   "source": [
    "data = pd.concat([first, rest])#.isna().any().sum()  # uncomment to check if there is any NaN"
   ]
  },
  {
   "cell_type": "code",
   "execution_count": 10,
   "id": "04223262",
   "metadata": {},
   "outputs": [
    {
     "data": {
      "text/html": [
       "<div>\n",
       "<style scoped>\n",
       "    .dataframe tbody tr th:only-of-type {\n",
       "        vertical-align: middle;\n",
       "    }\n",
       "\n",
       "    .dataframe tbody tr th {\n",
       "        vertical-align: top;\n",
       "    }\n",
       "\n",
       "    .dataframe thead th {\n",
       "        text-align: right;\n",
       "    }\n",
       "</style>\n",
       "<table border=\"1\" class=\"dataframe\">\n",
       "  <thead>\n",
       "    <tr style=\"text-align: right;\">\n",
       "      <th></th>\n",
       "      <th>SVC_DATE</th>\n",
       "      <th>SERIAL_NBR</th>\n",
       "      <th>JNY_KEY</th>\n",
       "      <th>SUBSYSTEM</th>\n",
       "      <th>START_PLACE_NAME</th>\n",
       "      <th>START_TIME</th>\n",
       "      <th>END_PLACE_NAME</th>\n",
       "      <th>END_TIME</th>\n",
       "      <th>FARE_INSTRUMENT_ID</th>\n",
       "      <th>DESCRIPTION</th>\n",
       "      <th>RIDER_CLASS</th>\n",
       "      <th>FUND_TYPE</th>\n",
       "      <th>FARE_CENTS</th>\n",
       "      <th>NEXT_TRIP_BUS_FLAG</th>\n",
       "      <th>PARKED_AT_ORIGIN</th>\n",
       "      <th>PARKED_AT_DESTINATION</th>\n",
       "    </tr>\n",
       "  </thead>\n",
       "  <tbody>\n",
       "    <tr>\n",
       "      <th>0</th>\n",
       "      <td>2022-04-15 00:00:00</td>\n",
       "      <td>1.670036e+18</td>\n",
       "      <td>1.170965e+10</td>\n",
       "      <td>Metrorail</td>\n",
       "      <td>Foggy Bottom</td>\n",
       "      <td>2022-04-15 21:42:48</td>\n",
       "      <td>Silver Spring, S</td>\n",
       "      <td>2022-04-15 22:12:25</td>\n",
       "      <td>65606.0</td>\n",
       "      <td>University Spring Pass</td>\n",
       "      <td>University Student</td>\n",
       "      <td>Self Funded</td>\n",
       "      <td>0.0</td>\n",
       "      <td>0.0</td>\n",
       "      <td>0.0</td>\n",
       "      <td>0.0</td>\n",
       "    </tr>\n",
       "    <tr>\n",
       "      <th>1</th>\n",
       "      <td>2022-04-15 00:00:00</td>\n",
       "      <td>1.670036e+18</td>\n",
       "      <td>1.170965e+10</td>\n",
       "      <td>Metrorail</td>\n",
       "      <td>Silver Spring, S</td>\n",
       "      <td>2022-04-16 00:35:53</td>\n",
       "      <td>Foggy Bottom</td>\n",
       "      <td>2022-04-16 01:33:16</td>\n",
       "      <td>65606.0</td>\n",
       "      <td>University Spring Pass</td>\n",
       "      <td>University Student</td>\n",
       "      <td>Self Funded</td>\n",
       "      <td>0.0</td>\n",
       "      <td>0.0</td>\n",
       "      <td>0.0</td>\n",
       "      <td>0.0</td>\n",
       "    </tr>\n",
       "    <tr>\n",
       "      <th>2</th>\n",
       "      <td>2022-04-16 00:00:00</td>\n",
       "      <td>1.670036e+18</td>\n",
       "      <td>1.171067e+10</td>\n",
       "      <td>Metrorail</td>\n",
       "      <td>Foggy Bottom</td>\n",
       "      <td>2022-04-16 18:48:31</td>\n",
       "      <td>Navy Yard, W</td>\n",
       "      <td>2022-04-16 19:14:57</td>\n",
       "      <td>65606.0</td>\n",
       "      <td>University Spring Pass</td>\n",
       "      <td>University Student</td>\n",
       "      <td>Self Funded</td>\n",
       "      <td>0.0</td>\n",
       "      <td>0.0</td>\n",
       "      <td>0.0</td>\n",
       "      <td>0.0</td>\n",
       "    </tr>\n",
       "    <tr>\n",
       "      <th>3</th>\n",
       "      <td>2022-04-16 00:00:00</td>\n",
       "      <td>1.670036e+18</td>\n",
       "      <td>1.171067e+10</td>\n",
       "      <td>Metrorail</td>\n",
       "      <td>Navy Yard, W</td>\n",
       "      <td>2022-04-16 22:29:04</td>\n",
       "      <td>Foggy Bottom</td>\n",
       "      <td>2022-04-16 22:51:19</td>\n",
       "      <td>65606.0</td>\n",
       "      <td>University Spring Pass</td>\n",
       "      <td>University Student</td>\n",
       "      <td>Self Funded</td>\n",
       "      <td>0.0</td>\n",
       "      <td>0.0</td>\n",
       "      <td>0.0</td>\n",
       "      <td>0.0</td>\n",
       "    </tr>\n",
       "    <tr>\n",
       "      <th>4</th>\n",
       "      <td>2022-04-28 00:00:00</td>\n",
       "      <td>1.670036e+18</td>\n",
       "      <td>1.172890e+10</td>\n",
       "      <td>Metrorail</td>\n",
       "      <td>Foggy Bottom</td>\n",
       "      <td>2022-04-28 17:58:15</td>\n",
       "      <td>Reagan Washington National Airport, S</td>\n",
       "      <td>2022-04-28 18:22:56</td>\n",
       "      <td>65606.0</td>\n",
       "      <td>University Spring Pass</td>\n",
       "      <td>University Student</td>\n",
       "      <td>Self Funded</td>\n",
       "      <td>0.0</td>\n",
       "      <td>0.0</td>\n",
       "      <td>0.0</td>\n",
       "      <td>0.0</td>\n",
       "    </tr>\n",
       "  </tbody>\n",
       "</table>\n",
       "</div>"
      ],
      "text/plain": [
       "              SVC_DATE    SERIAL_NBR       JNY_KEY  SUBSYSTEM  \\\n",
       "0  2022-04-15 00:00:00  1.670036e+18  1.170965e+10  Metrorail   \n",
       "1  2022-04-15 00:00:00  1.670036e+18  1.170965e+10  Metrorail   \n",
       "2  2022-04-16 00:00:00  1.670036e+18  1.171067e+10  Metrorail   \n",
       "3  2022-04-16 00:00:00  1.670036e+18  1.171067e+10  Metrorail   \n",
       "4  2022-04-28 00:00:00  1.670036e+18  1.172890e+10  Metrorail   \n",
       "\n",
       "   START_PLACE_NAME          START_TIME  \\\n",
       "0      Foggy Bottom 2022-04-15 21:42:48   \n",
       "1  Silver Spring, S 2022-04-16 00:35:53   \n",
       "2      Foggy Bottom 2022-04-16 18:48:31   \n",
       "3      Navy Yard, W 2022-04-16 22:29:04   \n",
       "4      Foggy Bottom 2022-04-28 17:58:15   \n",
       "\n",
       "                          END_PLACE_NAME            END_TIME  \\\n",
       "0                       Silver Spring, S 2022-04-15 22:12:25   \n",
       "1                           Foggy Bottom 2022-04-16 01:33:16   \n",
       "2                           Navy Yard, W 2022-04-16 19:14:57   \n",
       "3                           Foggy Bottom 2022-04-16 22:51:19   \n",
       "4  Reagan Washington National Airport, S 2022-04-28 18:22:56   \n",
       "\n",
       "   FARE_INSTRUMENT_ID             DESCRIPTION         RIDER_CLASS  \\\n",
       "0             65606.0  University Spring Pass  University Student   \n",
       "1             65606.0  University Spring Pass  University Student   \n",
       "2             65606.0  University Spring Pass  University Student   \n",
       "3             65606.0  University Spring Pass  University Student   \n",
       "4             65606.0  University Spring Pass  University Student   \n",
       "\n",
       "     FUND_TYPE  FARE_CENTS  NEXT_TRIP_BUS_FLAG  PARKED_AT_ORIGIN  \\\n",
       "0  Self Funded         0.0                 0.0               0.0   \n",
       "1  Self Funded         0.0                 0.0               0.0   \n",
       "2  Self Funded         0.0                 0.0               0.0   \n",
       "3  Self Funded         0.0                 0.0               0.0   \n",
       "4  Self Funded         0.0                 0.0               0.0   \n",
       "\n",
       "   PARKED_AT_DESTINATION  \n",
       "0                    0.0  \n",
       "1                    0.0  \n",
       "2                    0.0  \n",
       "3                    0.0  \n",
       "4                    0.0  "
      ]
     },
     "execution_count": 10,
     "metadata": {},
     "output_type": "execute_result"
    }
   ],
   "source": [
    "data.head()"
   ]
  },
  {
   "cell_type": "markdown",
   "id": "4906d7e0",
   "metadata": {},
   "source": [
    "#### Remove duplicates from start and end location names"
   ]
  },
  {
   "cell_type": "markdown",
   "id": "94b7c3ec",
   "metadata": {},
   "source": [
    "- The location names are duplicated because of their different entrances, e.g New York Ave, W and New York Ave, E. should be just New York Ave. "
   ]
  },
  {
   "cell_type": "code",
   "execution_count": 11,
   "id": "6079fc34",
   "metadata": {},
   "outputs": [],
   "source": [
    "data[\"START_PLACE_NAME\"] = data.START_PLACE_NAME.str.split(',').str.get(0).replace({'New York Ave. W': \n",
    "                                        'New York Ave','New York Ave. E': 'New York Ave',\n",
    "                                        'Rosslyn East': 'Rosslyn'})"
   ]
  },
  {
   "cell_type": "code",
   "execution_count": 12,
   "id": "54298eba",
   "metadata": {},
   "outputs": [],
   "source": [
    "data[\"END_PLACE_NAME\"] = data.END_PLACE_NAME.str.split(',').str.get(0).replace({'New York Ave. W': \n",
    "                                        'New York Ave','New York Ave. E': 'New York Ave',\n",
    "                                        'Rosslyn East': 'Rosslyn'})"
   ]
  },
  {
   "cell_type": "markdown",
   "id": "b3114e68",
   "metadata": {},
   "source": [
    "#### Keep only weekdays and exclude weekends"
   ]
  },
  {
   "cell_type": "code",
   "execution_count": 13,
   "id": "1f35f460",
   "metadata": {},
   "outputs": [],
   "source": [
    "data['Date'] = data['START_TIME'].dt.dayofweek\n",
    "data = data[data['Date']<5] # keep only rows that are weekdays"
   ]
  },
  {
   "cell_type": "markdown",
   "id": "b956af22",
   "metadata": {},
   "source": [
    "#### Creating the AM peak, PM peak, Offpeak and Night time bins from the start and end times"
   ]
  },
  {
   "cell_type": "code",
   "execution_count": 14,
   "id": "c3660817",
   "metadata": {},
   "outputs": [],
   "source": [
    "def categorize_time(time_value):\n",
    "    hour = time_value.hour\n",
    "    if 5 <= hour < 9 or (hour == 9 and time_value.minute < 30):\n",
    "        return 'Morning Peak'\n",
    "    elif 15 <= hour < 19:\n",
    "        return 'Evening Peak'\n",
    "    elif 21 <= hour or hour < 5:\n",
    "        return 'Late Nights'\n",
    "    else:\n",
    "        return 'Off-Peak'\n",
    "# Apply the categorization function to create a new column\n",
    "data['Period_start'] = data['START_TIME'].apply(categorize_time)\n",
    "data['Period_end'] = data['END_TIME'].apply(categorize_time)\n"
   ]
  },
  {
   "cell_type": "markdown",
   "id": "23b07f0e",
   "metadata": {},
   "source": [
    "#### Get rid of late nights     \n"
   ]
  },
  {
   "cell_type": "code",
   "execution_count": 15,
   "id": "b7fc9bca",
   "metadata": {},
   "outputs": [],
   "source": [
    "data = data[data.Period_end!= 'Late Nights']\n",
    "data = data[data.Period_start!= 'Late Nights']"
   ]
  },
  {
   "cell_type": "markdown",
   "id": "bed43231",
   "metadata": {},
   "source": [
    "#### Extract the Full fare from rider class ###"
   ]
  },
  {
   "cell_type": "code",
   "execution_count": 16,
   "id": "9f2623c8",
   "metadata": {},
   "outputs": [],
   "source": [
    "data = data[data['DESCRIPTION'] ==\"Stored Value, FULL_FARE\"]"
   ]
  },
  {
   "cell_type": "code",
   "execution_count": 17,
   "id": "58ff56ec",
   "metadata": {},
   "outputs": [
    {
     "data": {
      "text/plain": [
       "Evening Peak    967277\n",
       "Off-Peak        819093\n",
       "Morning Peak    681759\n",
       "Name: Period_start, dtype: int64"
      ]
     },
     "execution_count": 17,
     "metadata": {},
     "output_type": "execute_result"
    }
   ],
   "source": [
    "data['Period_start'].value_counts()"
   ]
  },
  {
   "cell_type": "code",
   "execution_count": 18,
   "id": "2facb0b8",
   "metadata": {},
   "outputs": [
    {
     "data": {
      "text/plain": [
       "0.0    2396912\n",
       "1.0      71217\n",
       "Name: PARKED_AT_ORIGIN, dtype: int64"
      ]
     },
     "execution_count": 18,
     "metadata": {},
     "output_type": "execute_result"
    }
   ],
   "source": [
    "data['PARKED_AT_ORIGIN'].value_counts()"
   ]
  },
  {
   "cell_type": "markdown",
   "id": "1273df4b",
   "metadata": {},
   "source": [
    "#### Extract morning, evening and off-peaks at start and end location"
   ]
  },
  {
   "cell_type": "code",
   "execution_count": 19,
   "id": "3b6502f9",
   "metadata": {},
   "outputs": [],
   "source": [
    "def determine__morn_period(row):\n",
    "    if row['Period_start'] == 'Morning Peak' and row['Period_end'] in [ 'Morning Peak', 'Off-Peak']:\n",
    "        return 'Morning Peak'\n",
    "    else:\n",
    "        return 'Other'\n",
    "    \n",
    "def determine__eve_period(row):\n",
    "    if row['Period_start'] == 'Evening Peak' and row['Period_end'] in [ 'Evening Peak', 'Off-Peak']:\n",
    "        return 'Evening Peak'\n",
    "    else:\n",
    "        return 'Other'\n",
    "    \n",
    "def determine__off_period(row):\n",
    "    if row['Period_start'] == 'Off-Peak' and row['Period_end'] in [ 'Off-Peak', 'Evening Peak']:\n",
    "        return 'Off-Peak'\n",
    "    else:\n",
    "        return 'Other'\n",
    "\n",
    "# Apply the function to create a new 'period' column\n",
    "am = data.copy()\n",
    "pm = data.copy()\n",
    "off = data.copy()\n",
    "\n",
    "am['period'] = am.apply(determine__morn_period, axis=1)\n",
    "pm['period'] = pm.apply(determine__eve_period, axis=1)\n",
    "off['period'] = off.apply(determine__off_period, axis=1)"
   ]
  },
  {
   "cell_type": "code",
   "execution_count": 20,
   "id": "26fb8ffc",
   "metadata": {},
   "outputs": [],
   "source": [
    "am = am[am['period'] ==\"Morning Peak\"]\n",
    "pm = pm[pm['period'] ==\"Evening Peak\"]\n",
    "off = off[off['period'] ==\"Off-Peak\"]"
   ]
  },
  {
   "cell_type": "markdown",
   "id": "74374c50",
   "metadata": {},
   "source": [
    "#### keep rows where origin and destination stations are not the same\n"
   ]
  },
  {
   "cell_type": "code",
   "execution_count": 21,
   "id": "b8b8ad7d",
   "metadata": {},
   "outputs": [],
   "source": [
    "am = am[am['START_PLACE_NAME'] != am['END_PLACE_NAME']]\n",
    "\n",
    "off = off[off['START_PLACE_NAME'] != off['END_PLACE_NAME']]\n",
    "\n",
    "pm = pm[pm['START_PLACE_NAME'] != pm['END_PLACE_NAME']]"
   ]
  },
  {
   "cell_type": "code",
   "execution_count": 22,
   "id": "6c11cd93",
   "metadata": {},
   "outputs": [
    {
     "data": {
      "text/html": [
       "<div>\n",
       "<style scoped>\n",
       "    .dataframe tbody tr th:only-of-type {\n",
       "        vertical-align: middle;\n",
       "    }\n",
       "\n",
       "    .dataframe tbody tr th {\n",
       "        vertical-align: top;\n",
       "    }\n",
       "\n",
       "    .dataframe thead th {\n",
       "        text-align: right;\n",
       "    }\n",
       "</style>\n",
       "<table border=\"1\" class=\"dataframe\">\n",
       "  <thead>\n",
       "    <tr style=\"text-align: right;\">\n",
       "      <th></th>\n",
       "      <th>SVC_DATE</th>\n",
       "      <th>SERIAL_NBR</th>\n",
       "      <th>JNY_KEY</th>\n",
       "      <th>SUBSYSTEM</th>\n",
       "      <th>START_PLACE_NAME</th>\n",
       "      <th>START_TIME</th>\n",
       "      <th>END_PLACE_NAME</th>\n",
       "      <th>END_TIME</th>\n",
       "      <th>FARE_INSTRUMENT_ID</th>\n",
       "      <th>DESCRIPTION</th>\n",
       "      <th>RIDER_CLASS</th>\n",
       "      <th>FUND_TYPE</th>\n",
       "      <th>FARE_CENTS</th>\n",
       "      <th>NEXT_TRIP_BUS_FLAG</th>\n",
       "      <th>PARKED_AT_ORIGIN</th>\n",
       "      <th>PARKED_AT_DESTINATION</th>\n",
       "      <th>Date</th>\n",
       "      <th>Period_start</th>\n",
       "      <th>Period_end</th>\n",
       "      <th>period</th>\n",
       "    </tr>\n",
       "  </thead>\n",
       "  <tbody>\n",
       "    <tr>\n",
       "      <th>29</th>\n",
       "      <td>2022-04-26 00:00:00</td>\n",
       "      <td>1.670036e+18</td>\n",
       "      <td>1.172528e+10</td>\n",
       "      <td>Metrorail</td>\n",
       "      <td>Union Station</td>\n",
       "      <td>2022-04-26 07:49:22</td>\n",
       "      <td>Dupont Circle</td>\n",
       "      <td>2022-04-26 08:01:17</td>\n",
       "      <td>16385.0</td>\n",
       "      <td>Stored Value, FULL_FARE</td>\n",
       "      <td>Full Fare</td>\n",
       "      <td>Self Funded</td>\n",
       "      <td>-225.0</td>\n",
       "      <td>0.0</td>\n",
       "      <td>0.0</td>\n",
       "      <td>0.0</td>\n",
       "      <td>1</td>\n",
       "      <td>Morning Peak</td>\n",
       "      <td>Morning Peak</td>\n",
       "      <td>Morning Peak</td>\n",
       "    </tr>\n",
       "    <tr>\n",
       "      <th>43</th>\n",
       "      <td>2022-04-21 00:00:00</td>\n",
       "      <td>1.670036e+18</td>\n",
       "      <td>1.171790e+10</td>\n",
       "      <td>Metrorail</td>\n",
       "      <td>Woodley Park-Zoo</td>\n",
       "      <td>2022-04-21 09:10:52</td>\n",
       "      <td>Metro Center</td>\n",
       "      <td>2022-04-21 09:30:07</td>\n",
       "      <td>16385.0</td>\n",
       "      <td>Stored Value, FULL_FARE</td>\n",
       "      <td>Full Fare</td>\n",
       "      <td>Self Funded</td>\n",
       "      <td>-225.0</td>\n",
       "      <td>0.0</td>\n",
       "      <td>0.0</td>\n",
       "      <td>0.0</td>\n",
       "      <td>3</td>\n",
       "      <td>Morning Peak</td>\n",
       "      <td>Off-Peak</td>\n",
       "      <td>Morning Peak</td>\n",
       "    </tr>\n",
       "    <tr>\n",
       "      <th>54</th>\n",
       "      <td>2022-05-02 00:00:00</td>\n",
       "      <td>1.670036e+18</td>\n",
       "      <td>1.173435e+10</td>\n",
       "      <td>Metrorail</td>\n",
       "      <td>Rockville</td>\n",
       "      <td>2022-05-02 05:00:59</td>\n",
       "      <td>Woodley Park-Zoo</td>\n",
       "      <td>2022-05-02 05:31:18</td>\n",
       "      <td>16385.0</td>\n",
       "      <td>Stored Value, FULL_FARE</td>\n",
       "      <td>Full Fare</td>\n",
       "      <td>Self Funded</td>\n",
       "      <td>-505.0</td>\n",
       "      <td>0.0</td>\n",
       "      <td>0.0</td>\n",
       "      <td>0.0</td>\n",
       "      <td>0</td>\n",
       "      <td>Morning Peak</td>\n",
       "      <td>Morning Peak</td>\n",
       "      <td>Morning Peak</td>\n",
       "    </tr>\n",
       "  </tbody>\n",
       "</table>\n",
       "</div>"
      ],
      "text/plain": [
       "               SVC_DATE    SERIAL_NBR       JNY_KEY  SUBSYSTEM  \\\n",
       "29  2022-04-26 00:00:00  1.670036e+18  1.172528e+10  Metrorail   \n",
       "43  2022-04-21 00:00:00  1.670036e+18  1.171790e+10  Metrorail   \n",
       "54  2022-05-02 00:00:00  1.670036e+18  1.173435e+10  Metrorail   \n",
       "\n",
       "    START_PLACE_NAME          START_TIME    END_PLACE_NAME  \\\n",
       "29     Union Station 2022-04-26 07:49:22     Dupont Circle   \n",
       "43  Woodley Park-Zoo 2022-04-21 09:10:52      Metro Center   \n",
       "54         Rockville 2022-05-02 05:00:59  Woodley Park-Zoo   \n",
       "\n",
       "              END_TIME  FARE_INSTRUMENT_ID              DESCRIPTION  \\\n",
       "29 2022-04-26 08:01:17             16385.0  Stored Value, FULL_FARE   \n",
       "43 2022-04-21 09:30:07             16385.0  Stored Value, FULL_FARE   \n",
       "54 2022-05-02 05:31:18             16385.0  Stored Value, FULL_FARE   \n",
       "\n",
       "   RIDER_CLASS    FUND_TYPE  FARE_CENTS  NEXT_TRIP_BUS_FLAG  PARKED_AT_ORIGIN  \\\n",
       "29   Full Fare  Self Funded      -225.0                 0.0               0.0   \n",
       "43   Full Fare  Self Funded      -225.0                 0.0               0.0   \n",
       "54   Full Fare  Self Funded      -505.0                 0.0               0.0   \n",
       "\n",
       "    PARKED_AT_DESTINATION  Date  Period_start    Period_end        period  \n",
       "29                    0.0     1  Morning Peak  Morning Peak  Morning Peak  \n",
       "43                    0.0     3  Morning Peak      Off-Peak  Morning Peak  \n",
       "54                    0.0     0  Morning Peak  Morning Peak  Morning Peak  "
      ]
     },
     "execution_count": 22,
     "metadata": {},
     "output_type": "execute_result"
    }
   ],
   "source": [
    "am.head(3)"
   ]
  },
  {
   "cell_type": "markdown",
   "id": "bfb71b91",
   "metadata": {},
   "source": [
    "### Create AM, PM and OFF peak dataframes"
   ]
  },
  {
   "cell_type": "code",
   "execution_count": 23,
   "id": "ed8d3472",
   "metadata": {},
   "outputs": [],
   "source": [
    "am['parking_user'] = am['PARKED_AT_ORIGIN'] + am['PARKED_AT_DESTINATION']\n",
    "\n",
    "pm['parking_user'] = pm['PARKED_AT_ORIGIN'] + pm['PARKED_AT_DESTINATION']\n",
    "\n",
    "off['parking_user'] = off['PARKED_AT_ORIGIN'] + off['PARKED_AT_DESTINATION']"
   ]
  },
  {
   "cell_type": "code",
   "execution_count": 24,
   "id": "1f5f5b3e",
   "metadata": {},
   "outputs": [],
   "source": [
    "vic_AM = am.groupby(['START_PLACE_NAME', 'END_PLACE_NAME'])['parking_user'].sum().reset_index()\n",
    "\n",
    "\n",
    "vic_PM = pm.groupby(['START_PLACE_NAME', 'END_PLACE_NAME'])['parking_user'].sum().reset_index()\n",
    "\n",
    "\n",
    "vic_OFF = off.groupby(['START_PLACE_NAME', 'END_PLACE_NAME'])['parking_user'].sum().reset_index()\n"
   ]
  },
  {
   "cell_type": "code",
   "execution_count": 25,
   "id": "f68c227f-a69f-4080-9e4e-3d486b6dcba5",
   "metadata": {},
   "outputs": [],
   "source": [
    "vic_AM.to_csv(\"output/am_parking_updated.csv\")\n",
    "vic_PM.to_csv(\"output/pm_parking_updated.csv\")\n",
    "vic_OFF.to_csv(\"output/off_parking_updated.csv\")"
   ]
  },
  {
   "cell_type": "code",
   "execution_count": 26,
   "id": "ba38b637",
   "metadata": {},
   "outputs": [],
   "source": [
    "# am = am.copy()\n",
    "# am['parking_user'] = morn_peak['PARKED_AT_ORIGIN'] + morn_peak['PARKED_AT_DESTINATION']\n",
    "\n",
    "# eve_peak = eve_peak.copy()\n",
    "# eve_peak['parking_user'] = eve_peak['PARKED_AT_ORIGIN'] + eve_peak['PARKED_AT_DESTINATION']\n",
    "\n",
    "# eve_peak = eve_peak[['START_PLACE_NAME', 'END_PLACE_NAME', \n",
    "#                               'parking_user']].groupby(['START_PLACE_NAME',\n",
    "#                                 'END_PLACE_NAME'])['parking_user'].sum().reset_index()\n",
    "\n",
    "# morn_peak_victor = morn_peak[['START_PLACE_NAME', 'END_PLACE_NAME', \n",
    "#                               'parking_user']].groupby(['START_PLACE_NAME',\n",
    "#                                 'END_PLACE_NAME'])['parking_user'].sum().reset_index()"
   ]
  },
  {
   "cell_type": "markdown",
   "id": "e85de365",
   "metadata": {},
   "source": [
    "### compare  "
   ]
  },
  {
   "cell_type": "code",
   "execution_count": 27,
   "id": "36f39a96",
   "metadata": {},
   "outputs": [],
   "source": [
    "zhilaAM = pd.read_excel('../../Data/parkingusers_AM.xlsx', usecols=lambda column: column != 'Unnamed: 0')\n",
    "\n",
    "zhilaPM = pd.read_excel('../../Data/parkingusers_PM.xlsx', usecols=lambda column: column != 'Unnamed: 0')\n",
    "\n",
    "zhilaOFF = pd.read_excel('../../Data/parkingusers_OFF.xlsx', usecols=lambda column: column != 'Unnamed: 0')"
   ]
  },
  {
   "cell_type": "markdown",
   "id": "3610f38d",
   "metadata": {},
   "source": [
    "#### AM peak Victor <> Zhila"
   ]
  },
  {
   "cell_type": "code",
   "execution_count": 28,
   "id": "a0c4bc7f",
   "metadata": {},
   "outputs": [
    {
     "data": {
      "text/plain": [
       "0.999985969191462"
      ]
     },
     "execution_count": 28,
     "metadata": {},
     "output_type": "execute_result"
    }
   ],
   "source": [
    "viczila_AM = vic_AM.merge(zhilaAM, left_on=['START_PLACE_NAME', 'END_PLACE_NAME'],\n",
    "             right_on=['START_PLACE_NAME', 'END_PLACE_NAME'], how='inner')\n",
    "\n",
    "viczila_AM['parking_user_x'].corr(viczila_AM['parking_user_y'])"
   ]
  },
  {
   "cell_type": "markdown",
   "id": "8856525b",
   "metadata": {},
   "source": [
    "#### PM peak Victor <> Zhila"
   ]
  },
  {
   "cell_type": "code",
   "execution_count": 29,
   "id": "bb84404b",
   "metadata": {},
   "outputs": [
    {
     "data": {
      "text/plain": [
       "0.9999813706742954"
      ]
     },
     "execution_count": 29,
     "metadata": {},
     "output_type": "execute_result"
    }
   ],
   "source": [
    "viczila_PM = vic_PM.merge(zhilaPM, left_on=['START_PLACE_NAME', 'END_PLACE_NAME'],\n",
    "             right_on=['START_PLACE_NAME', 'END_PLACE_NAME'], how='inner')\n",
    "\n",
    "viczila_PM['parking_user_x'].corr(viczila_PM['parking_user_y'])"
   ]
  },
  {
   "cell_type": "markdown",
   "id": "04e64926",
   "metadata": {},
   "source": [
    "#### Off peak Victor <> Zhila"
   ]
  },
  {
   "cell_type": "code",
   "execution_count": 30,
   "id": "332e91cd",
   "metadata": {},
   "outputs": [
    {
     "data": {
      "text/plain": [
       "0.9978589615018861"
      ]
     },
     "execution_count": 30,
     "metadata": {},
     "output_type": "execute_result"
    }
   ],
   "source": [
    "viczila_OFF = vic_OFF.merge(zhilaOFF, left_on=['START_PLACE_NAME', 'END_PLACE_NAME'],\n",
    "             right_on=['START_PLACE_NAME', 'END_PLACE_NAME'], how='inner')\n",
    "\n",
    "viczila_OFF['parking_user_x'].corr(viczila_OFF['parking_user_y'])"
   ]
  },
  {
   "cell_type": "code",
   "execution_count": 31,
   "id": "e7e87701",
   "metadata": {},
   "outputs": [],
   "source": [
    "# vic_AM.parking_user.sum(), zhilaAM.parking_user.sum(), old2015am.parking_users.sum()\n",
    "# vic_PM.parking_user.sum(), zhilaPM.parking_user.sum(), old2015pm.parking_users.sum()\n",
    "# vic_OFF.parking_user.sum(), zhilaOFF.parking_user.sum(), old2015off.parking_users.sum()"
   ]
  },
  {
   "cell_type": "markdown",
   "id": "0ae03639",
   "metadata": {},
   "source": [
    "### Compare with 2015"
   ]
  },
  {
   "cell_type": "code",
   "execution_count": 32,
   "id": "95fca831",
   "metadata": {},
   "outputs": [],
   "source": [
    "old2015am = pd.read_excel('../../Data/100_AM_Peak_Other_Regular_Riders.xlsx')\n",
    "old2015pm = pd.read_excel('../../Data/200_PMPeak_Model_Long_file.xlsx')\n",
    "old2015off = pd.read_excel('../../Data/300_oFFPeak_Other_Regular_Riders.xlsx')"
   ]
  },
  {
   "cell_type": "markdown",
   "id": "1b090548",
   "metadata": {},
   "source": [
    "#### AM peak Victor <> 2015"
   ]
  },
  {
   "cell_type": "code",
   "execution_count": 33,
   "id": "3ad16ae2",
   "metadata": {},
   "outputs": [],
   "source": [
    "compareVIC = vic_AM.merge(old2015am, left_on=['START_PLACE_NAME'],\n",
    "             right_on=['SHED_NAME'], how='inner')"
   ]
  },
  {
   "cell_type": "code",
   "execution_count": 34,
   "id": "164b9d35",
   "metadata": {},
   "outputs": [
    {
     "data": {
      "text/plain": [
       "((7472, 3), (520356, 410))"
      ]
     },
     "execution_count": 34,
     "metadata": {},
     "output_type": "execute_result"
    }
   ],
   "source": [
    "vic_AM.shape, compareVIC.shape"
   ]
  },
  {
   "cell_type": "code",
   "execution_count": 35,
   "id": "79036428",
   "metadata": {},
   "outputs": [],
   "source": [
    "compareVIC = compareVIC[['parking_user','START_PLACE_NAME', 'END_PLACE_NAME',\n",
    "                         'SHED_NAME','parking_users']].drop_duplicates()"
   ]
  },
  {
   "cell_type": "code",
   "execution_count": 36,
   "id": "be01e454",
   "metadata": {},
   "outputs": [
    {
     "data": {
      "text/plain": [
       "0.1105488964507336"
      ]
     },
     "execution_count": 36,
     "metadata": {},
     "output_type": "execute_result"
    }
   ],
   "source": [
    "compareVIC['parking_user'].corr(compareVIC['parking_users'])"
   ]
  },
  {
   "cell_type": "markdown",
   "id": "55cc1d88",
   "metadata": {},
   "source": [
    "#### PM peak Victor <> 2015"
   ]
  },
  {
   "cell_type": "code",
   "execution_count": 37,
   "id": "f9992df2",
   "metadata": {},
   "outputs": [
    {
     "data": {
      "text/plain": [
       "0.9013788221730447"
      ]
     },
     "execution_count": 37,
     "metadata": {},
     "output_type": "execute_result"
    }
   ],
   "source": [
    "compareVIC  = vic_PM.merge(old2015pm, left_on=['START_PLACE_NAME', 'END_PLACE_NAME'],\n",
    "             right_on=['SHED_NAME_orig', 'SHED_NAME_dest'], how='inner')\n",
    "\n",
    "compareVIC['parking_user'].corr(compareVIC['parking_users'])"
   ]
  },
  {
   "cell_type": "code",
   "execution_count": 38,
   "id": "c4f37fd1",
   "metadata": {},
   "outputs": [
    {
     "data": {
      "image/png": "[encoded data removed]",
      "text/plain": [
       "<Figure size 640x480 with 1 Axes>"
      ]
     },
     "metadata": {},
     "output_type": "display_data"
    }
   ],
   "source": [
    "plt.scatter(compareVIC['parking_users'], compareVIC['parking_user'])\n",
    "plt.title('Parking Users - Evening Peak')\n",
    "plt.xlabel('2015')\n",
    "plt.ylabel('2022');"
   ]
  },
  {
   "cell_type": "markdown",
   "id": "b9048d81",
   "metadata": {},
   "source": [
    "### Get the log plots"
   ]
  },
  {
   "cell_type": "code",
   "execution_count": 39,
   "id": "f0ca1cf8",
   "metadata": {},
   "outputs": [],
   "source": [
    "log_compareVIC = compareVIC.copy()\n",
    "log_compareVIC['parking_user'] = log_compareVIC.parking_user.replace(0,1)\n",
    "log_compareVIC['parking_users'] = log_compareVIC.parking_users.replace(0,1)"
   ]
  },
  {
   "cell_type": "code",
   "execution_count": 40,
   "id": "3d8c4a8a",
   "metadata": {},
   "outputs": [
    {
     "data": {
      "text/plain": [
       "0.800567684296242"
      ]
     },
     "execution_count": 40,
     "metadata": {},
     "output_type": "execute_result"
    }
   ],
   "source": [
    "np.log(log_compareVIC['parking_user']).corr(np.log(log_compareVIC['parking_users']))"
   ]
  },
  {
   "cell_type": "code",
   "execution_count": 41,
   "id": "acb2516e",
   "metadata": {},
   "outputs": [
    {
     "data": {
      "image/png": "[encoded data removed]",
      "text/plain": [
       "<Figure size 640x480 with 1 Axes>"
      ]
     },
     "metadata": {},
     "output_type": "display_data"
    }
   ],
   "source": [
    "plt.scatter(log_compareVIC['parking_users'], log_compareVIC['parking_user'])\n",
    "plt.title('Log Parking Users - Evening Peak')\n",
    "plt.xlabel('2015')\n",
    "plt.ylabel('2022');"
   ]
  },
  {
   "cell_type": "markdown",
   "id": "17b1b752",
   "metadata": {},
   "source": [
    "#### Off peak Victor <> 2015"
   ]
  },
  {
   "cell_type": "code",
   "execution_count": 42,
   "id": "868c8e52",
   "metadata": {},
   "outputs": [
    {
     "data": {
      "text/plain": [
       "0.7173638836977375"
      ]
     },
     "execution_count": 42,
     "metadata": {},
     "output_type": "execute_result"
    }
   ],
   "source": [
    "compareVIC  = vic_OFF.merge(old2015off, left_on=['START_PLACE_NAME', 'END_PLACE_NAME'],\n",
    "             right_on=['SHED_NAME_orig', 'SHED_NAME_dest'], how='inner')\n",
    "\n",
    "compareVIC['parking_user'].corr(compareVIC['parking_users'])"
   ]
  },
  {
   "cell_type": "code",
   "execution_count": 43,
   "id": "694640e7",
   "metadata": {},
   "outputs": [
    {
     "data": {
      "image/png": "[encoded data removed]",
      "text/plain": [
       "<Figure size 640x480 with 1 Axes>"
      ]
     },
     "metadata": {},
     "output_type": "display_data"
    }
   ],
   "source": [
    "plt.scatter(compareVIC['parking_users'], compareVIC['parking_user'])\n",
    "plt.title('Parking Users - Off Peak')\n",
    "plt.xlabel('2015')\n",
    "plt.ylabel('2022');"
   ]
  },
  {
   "cell_type": "markdown",
   "id": "21fd4fd9",
   "metadata": {},
   "source": [
    "#### Get the log for Off Peak"
   ]
  },
  {
   "cell_type": "code",
   "execution_count": 44,
   "id": "a08a81d8",
   "metadata": {},
   "outputs": [
    {
     "data": {
      "text/plain": [
       "0.6350924392564884"
      ]
     },
     "execution_count": 44,
     "metadata": {},
     "output_type": "execute_result"
    }
   ],
   "source": [
    "log_compareVIC = compareVIC.copy()\n",
    "log_compareVIC['parking_user'] = log_compareVIC.parking_user.replace(0,1)\n",
    "log_compareVIC['parking_users'] = log_compareVIC.parking_users.replace(0,1)\n",
    "\n",
    "np.log(log_compareVIC['parking_user']).corr(np.log(log_compareVIC['parking_users']))"
   ]
  },
  {
   "cell_type": "code",
   "execution_count": 45,
   "id": "b4b25b07",
   "metadata": {},
   "outputs": [
    {
     "data": {
      "image/png": "[encoded data removed]",
      "text/plain": [
       "<Figure size 640x480 with 1 Axes>"
      ]
     },
     "metadata": {},
     "output_type": "display_data"
    }
   ],
   "source": [
    "plt.scatter(log_compareVIC['parking_users'], log_compareVIC['parking_user'])\n",
    "plt.title('Log Parking Users - Off Peak')\n",
    "plt.xlabel('2015')\n",
    "plt.ylabel('2022');"
   ]
  },
  {
   "cell_type": "markdown",
   "id": "0899fea1",
   "metadata": {},
   "source": [
    "## Same for Zhila's since we're both correlated with >99%"
   ]
  },
  {
   "cell_type": "markdown",
   "id": "0874fa1d",
   "metadata": {},
   "source": [
    "\n",
    "#### Merging the MSTN with shednames to get AM data"
   ]
  },
  {
   "cell_type": "code",
   "execution_count": 46,
   "id": "b024d548",
   "metadata": {},
   "outputs": [],
   "source": [
    "am15 = old2015am.copy()\n"
   ]
  },
  {
   "cell_type": "code",
   "execution_count": 47,
   "id": "05d48719",
   "metadata": {},
   "outputs": [],
   "source": [
    "am15 = am15[['parking_users', 'mstn_id_o', \n",
    "             'mstn_id_d', 'SHED_NAME', 'MSTN']].sort_values(by='SHED_NAME').reset_index(drop=True)"
   ]
  },
  {
   "cell_type": "code",
   "execution_count": 48,
   "id": "b4f26e69",
   "metadata": {},
   "outputs": [],
   "source": [
    "# am15['MSTN_dest'] = am15.MSTN.str.split('_').str.get(1).astype(int)"
   ]
  },
  {
   "cell_type": "code",
   "execution_count": 49,
   "id": "aa27d636",
   "metadata": {},
   "outputs": [
    {
     "data": {
      "text/html": [
       "<div>\n",
       "<style scoped>\n",
       "    .dataframe tbody tr th:only-of-type {\n",
       "        vertical-align: middle;\n",
       "    }\n",
       "\n",
       "    .dataframe tbody tr th {\n",
       "        vertical-align: top;\n",
       "    }\n",
       "\n",
       "    .dataframe thead th {\n",
       "        text-align: right;\n",
       "    }\n",
       "</style>\n",
       "<table border=\"1\" class=\"dataframe\">\n",
       "  <thead>\n",
       "    <tr style=\"text-align: right;\">\n",
       "      <th></th>\n",
       "      <th>parking_users</th>\n",
       "      <th>mstn_id_o</th>\n",
       "      <th>mstn_id_d</th>\n",
       "      <th>SHED_NAME</th>\n",
       "      <th>MSTN</th>\n",
       "    </tr>\n",
       "  </thead>\n",
       "  <tbody>\n",
       "    <tr>\n",
       "      <th>0</th>\n",
       "      <td>1</td>\n",
       "      <td>62</td>\n",
       "      <td>72</td>\n",
       "      <td>Addison Road</td>\n",
       "      <td>MSTN_062</td>\n",
       "    </tr>\n",
       "    <tr>\n",
       "      <th>1</th>\n",
       "      <td>0</td>\n",
       "      <td>62</td>\n",
       "      <td>82</td>\n",
       "      <td>Addison Road</td>\n",
       "      <td>MSTN_062</td>\n",
       "    </tr>\n",
       "  </tbody>\n",
       "</table>\n",
       "</div>"
      ],
      "text/plain": [
       "   parking_users  mstn_id_o  mstn_id_d     SHED_NAME      MSTN\n",
       "0              1         62         72  Addison Road  MSTN_062\n",
       "1              0         62         82  Addison Road  MSTN_062"
      ]
     },
     "execution_count": 49,
     "metadata": {},
     "output_type": "execute_result"
    }
   ],
   "source": [
    "am15.head(2)"
   ]
  },
  {
   "cell_type": "code",
   "execution_count": 50,
   "id": "10093fcd",
   "metadata": {},
   "outputs": [],
   "source": [
    "am15['MSTN_dest'] = 'MSTN_' +am15.mstn_id_d.astype(str).str.zfill(3)"
   ]
  },
  {
   "cell_type": "code",
   "execution_count": 51,
   "id": "d4cb5b99",
   "metadata": {},
   "outputs": [],
   "source": [
    "names = pd.read_excel('../../Ridership data/mstn_id_to_stn_name.xlsx')"
   ]
  },
  {
   "cell_type": "code",
   "execution_count": 52,
   "id": "e6858ba1",
   "metadata": {
    "scrolled": true
   },
   "outputs": [],
   "source": [
    "dest = am15[['MSTN_dest']]"
   ]
  },
  {
   "cell_type": "code",
   "execution_count": 53,
   "id": "2c1e866c",
   "metadata": {},
   "outputs": [],
   "source": [
    "# names.loc[names['ID']=='MSTN_030']"
   ]
  },
  {
   "cell_type": "code",
   "execution_count": 54,
   "id": "1a2f976d",
   "metadata": {},
   "outputs": [],
   "source": [
    "dest = pd.merge(dest, names, left_on='MSTN_dest', right_on='ID', how='left', sort=False)"
   ]
  },
  {
   "cell_type": "code",
   "execution_count": 55,
   "id": "4ec98530",
   "metadata": {},
   "outputs": [],
   "source": [
    "dest.drop(['MSTN_dest', 'ID'], axis=1, inplace=True)"
   ]
  },
  {
   "cell_type": "code",
   "execution_count": 56,
   "id": "35c268f2",
   "metadata": {},
   "outputs": [
    {
     "data": {
      "text/html": [
       "<div>\n",
       "<style scoped>\n",
       "    .dataframe tbody tr th:only-of-type {\n",
       "        vertical-align: middle;\n",
       "    }\n",
       "\n",
       "    .dataframe tbody tr th {\n",
       "        vertical-align: top;\n",
       "    }\n",
       "\n",
       "    .dataframe thead th {\n",
       "        text-align: right;\n",
       "    }\n",
       "</style>\n",
       "<table border=\"1\" class=\"dataframe\">\n",
       "  <thead>\n",
       "    <tr style=\"text-align: right;\">\n",
       "      <th></th>\n",
       "      <th>parking_users</th>\n",
       "      <th>mstn_id_o</th>\n",
       "      <th>mstn_id_d</th>\n",
       "      <th>SHED_NAME</th>\n",
       "      <th>MSTN</th>\n",
       "      <th>MSTN_dest</th>\n",
       "    </tr>\n",
       "  </thead>\n",
       "  <tbody>\n",
       "    <tr>\n",
       "      <th>0</th>\n",
       "      <td>1</td>\n",
       "      <td>62</td>\n",
       "      <td>72</td>\n",
       "      <td>Addison Road</td>\n",
       "      <td>MSTN_062</td>\n",
       "      <td>MSTN_072</td>\n",
       "    </tr>\n",
       "    <tr>\n",
       "      <th>1</th>\n",
       "      <td>0</td>\n",
       "      <td>62</td>\n",
       "      <td>82</td>\n",
       "      <td>Addison Road</td>\n",
       "      <td>MSTN_062</td>\n",
       "      <td>MSTN_082</td>\n",
       "    </tr>\n",
       "  </tbody>\n",
       "</table>\n",
       "</div>"
      ],
      "text/plain": [
       "   parking_users  mstn_id_o  mstn_id_d     SHED_NAME      MSTN MSTN_dest\n",
       "0              1         62         72  Addison Road  MSTN_062  MSTN_072\n",
       "1              0         62         82  Addison Road  MSTN_062  MSTN_082"
      ]
     },
     "execution_count": 56,
     "metadata": {},
     "output_type": "execute_result"
    }
   ],
   "source": [
    "am15.head(2)"
   ]
  },
  {
   "cell_type": "code",
   "execution_count": 57,
   "id": "52a734b4",
   "metadata": {},
   "outputs": [],
   "source": [
    "amdata = pd.concat([am15, dest], axis=1)"
   ]
  },
  {
   "cell_type": "code",
   "execution_count": 58,
   "id": "3f07d479",
   "metadata": {},
   "outputs": [
    {
     "data": {
      "text/html": [
       "<div>\n",
       "<style scoped>\n",
       "    .dataframe tbody tr th:only-of-type {\n",
       "        vertical-align: middle;\n",
       "    }\n",
       "\n",
       "    .dataframe tbody tr th {\n",
       "        vertical-align: top;\n",
       "    }\n",
       "\n",
       "    .dataframe thead th {\n",
       "        text-align: right;\n",
       "    }\n",
       "</style>\n",
       "<table border=\"1\" class=\"dataframe\">\n",
       "  <thead>\n",
       "    <tr style=\"text-align: right;\">\n",
       "      <th></th>\n",
       "      <th>parking_users</th>\n",
       "      <th>mstn_id_o</th>\n",
       "      <th>mstn_id_d</th>\n",
       "      <th>SHED_NAME</th>\n",
       "      <th>MSTN</th>\n",
       "      <th>MSTN_dest</th>\n",
       "      <th>PRIMARY_NAME_FY23</th>\n",
       "    </tr>\n",
       "  </thead>\n",
       "  <tbody>\n",
       "    <tr>\n",
       "      <th>0</th>\n",
       "      <td>1</td>\n",
       "      <td>62</td>\n",
       "      <td>72</td>\n",
       "      <td>Addison Road</td>\n",
       "      <td>MSTN_062</td>\n",
       "      <td>MSTN_072</td>\n",
       "      <td>Crystal City</td>\n",
       "    </tr>\n",
       "    <tr>\n",
       "      <th>1</th>\n",
       "      <td>0</td>\n",
       "      <td>62</td>\n",
       "      <td>82</td>\n",
       "      <td>Addison Road</td>\n",
       "      <td>MSTN_062</td>\n",
       "      <td>MSTN_082</td>\n",
       "      <td>Huntington</td>\n",
       "    </tr>\n",
       "  </tbody>\n",
       "</table>\n",
       "</div>"
      ],
      "text/plain": [
       "   parking_users  mstn_id_o  mstn_id_d     SHED_NAME      MSTN MSTN_dest  \\\n",
       "0              1         62         72  Addison Road  MSTN_062  MSTN_072   \n",
       "1              0         62         82  Addison Road  MSTN_062  MSTN_082   \n",
       "\n",
       "  PRIMARY_NAME_FY23  \n",
       "0      Crystal City  \n",
       "1        Huntington  "
      ]
     },
     "execution_count": 58,
     "metadata": {},
     "output_type": "execute_result"
    }
   ],
   "source": [
    "amdata.head(2)"
   ]
  },
  {
   "cell_type": "code",
   "execution_count": 59,
   "id": "3c9ee714",
   "metadata": {},
   "outputs": [
    {
     "data": {
      "text/plain": [
       "0.7770603139781439"
      ]
     },
     "execution_count": 59,
     "metadata": {},
     "output_type": "execute_result"
    }
   ],
   "source": [
    "compareVIC  = zhilaAM.merge(amdata, left_on=['START_PLACE_NAME', 'END_PLACE_NAME'],\n",
    "             right_on=['SHED_NAME', 'PRIMARY_NAME_FY23'], how='inner')\n",
    "\n",
    "compareVIC['parking_user'].corr(compareVIC['parking_users'])"
   ]
  },
  {
   "cell_type": "code",
   "execution_count": 60,
   "id": "bd86cb53",
   "metadata": {},
   "outputs": [
    {
     "data": {
      "text/html": [
       "<div>\n",
       "<style scoped>\n",
       "    .dataframe tbody tr th:only-of-type {\n",
       "        vertical-align: middle;\n",
       "    }\n",
       "\n",
       "    .dataframe tbody tr th {\n",
       "        vertical-align: top;\n",
       "    }\n",
       "\n",
       "    .dataframe thead th {\n",
       "        text-align: right;\n",
       "    }\n",
       "</style>\n",
       "<table border=\"1\" class=\"dataframe\">\n",
       "  <thead>\n",
       "    <tr style=\"text-align: right;\">\n",
       "      <th></th>\n",
       "      <th>START_PLACE_NAME</th>\n",
       "      <th>END_PLACE_NAME</th>\n",
       "      <th>parking_user</th>\n",
       "      <th>parking_users</th>\n",
       "      <th>mstn_id_o</th>\n",
       "      <th>mstn_id_d</th>\n",
       "      <th>SHED_NAME</th>\n",
       "      <th>MSTN</th>\n",
       "      <th>MSTN_dest</th>\n",
       "      <th>PRIMARY_NAME_FY23</th>\n",
       "    </tr>\n",
       "  </thead>\n",
       "  <tbody>\n",
       "    <tr>\n",
       "      <th>0</th>\n",
       "      <td>Addison Road</td>\n",
       "      <td>Anacostia</td>\n",
       "      <td>0</td>\n",
       "      <td>0</td>\n",
       "      <td>62</td>\n",
       "      <td>1</td>\n",
       "      <td>Addison Road</td>\n",
       "      <td>MSTN_062</td>\n",
       "      <td>MSTN_001</td>\n",
       "      <td>Anacostia</td>\n",
       "    </tr>\n",
       "    <tr>\n",
       "      <th>1</th>\n",
       "      <td>Addison Road</td>\n",
       "      <td>Benning Road</td>\n",
       "      <td>0</td>\n",
       "      <td>0</td>\n",
       "      <td>62</td>\n",
       "      <td>3</td>\n",
       "      <td>Addison Road</td>\n",
       "      <td>MSTN_062</td>\n",
       "      <td>MSTN_003</td>\n",
       "      <td>Benning Road</td>\n",
       "    </tr>\n",
       "  </tbody>\n",
       "</table>\n",
       "</div>"
      ],
      "text/plain": [
       "  START_PLACE_NAME END_PLACE_NAME  parking_user  parking_users  mstn_id_o  \\\n",
       "0     Addison Road      Anacostia             0              0         62   \n",
       "1     Addison Road   Benning Road             0              0         62   \n",
       "\n",
       "   mstn_id_d     SHED_NAME      MSTN MSTN_dest PRIMARY_NAME_FY23  \n",
       "0          1  Addison Road  MSTN_062  MSTN_001         Anacostia  \n",
       "1          3  Addison Road  MSTN_062  MSTN_003      Benning Road  "
      ]
     },
     "execution_count": 60,
     "metadata": {},
     "output_type": "execute_result"
    }
   ],
   "source": [
    "compareVIC.head(2)"
   ]
  },
  {
   "cell_type": "code",
   "execution_count": 61,
   "id": "c6785b9a",
   "metadata": {},
   "outputs": [
    {
     "data": {
      "image/png": "[encoded data removed]",
      "text/plain": [
       "<Figure size 640x480 with 1 Axes>"
      ]
     },
     "metadata": {},
     "output_type": "display_data"
    }
   ],
   "source": [
    "plt.scatter(compareVIC['parking_users'],compareVIC['parking_user'])\n",
    "plt.title('Parking Users - Morning Peak')\n",
    "plt.xlabel('2015')\n",
    "plt.ylabel('2022');"
   ]
  },
  {
   "cell_type": "markdown",
   "id": "90d51661",
   "metadata": {},
   "source": [
    "#### Get the log plots"
   ]
  },
  {
   "cell_type": "code",
   "execution_count": 62,
   "id": "b3332733",
   "metadata": {},
   "outputs": [
    {
     "data": {
      "text/plain": [
       "0.7394952046805104"
      ]
     },
     "execution_count": 62,
     "metadata": {},
     "output_type": "execute_result"
    }
   ],
   "source": [
    "log_compareVIC = compareVIC.copy()\n",
    "log_compareVIC['parking_user'] = log_compareVIC.parking_user.replace(0,1)\n",
    "log_compareVIC['parking_users'] = log_compareVIC.parking_users.replace(0,1)\n",
    "\n",
    "np.log(log_compareVIC['parking_user']).corr(np.log(log_compareVIC['parking_users']))"
   ]
  },
  {
   "cell_type": "code",
   "execution_count": 63,
   "id": "28942bbd",
   "metadata": {},
   "outputs": [
    {
     "data": {
      "image/png": "[encoded data removed]",
      "text/plain": [
       "<Figure size 640x480 with 1 Axes>"
      ]
     },
     "metadata": {},
     "output_type": "display_data"
    }
   ],
   "source": [
    "plt.scatter(log_compareVIC['parking_users'], log_compareVIC['parking_user'])\n",
    "plt.title('Log Parking Users - Morning Peak')\n",
    "plt.xlabel('2015')\n",
    "plt.ylabel('2022');"
   ]
  }
 ],
 "metadata": {
  "kernelspec": {
   "display_name": "Python 3 (ipykernel)",
   "language": "python",
   "name": "python3"
  },
  "language_info": {
   "codemirror_mode": {
    "name": "ipython",
    "version": 3
   },
   "file_extension": ".py",
   "mimetype": "text/x-python",
   "name": "python",
   "nbconvert_exporter": "python",
   "pygments_lexer": "ipython3",
   "version": "3.10.8"
  }
 },
 "nbformat": 4,
 "nbformat_minor": 5
}
