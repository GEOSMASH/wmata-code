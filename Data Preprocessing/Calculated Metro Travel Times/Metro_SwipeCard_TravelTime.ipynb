{
 "cells": [
  {
   "cell_type": "code",
   "execution_count": 1,
   "id": "726f748f-2376-4d67-9b2a-d948ce263b6f",
   "metadata": {},
   "outputs": [],
   "source": [
    "import pandas as pd\n",
    "import numpy as np"
   ]
  },
  {
   "cell_type": "markdown",
   "id": "0a3b096c-ca2f-451a-9bf2-c36ebd804ef9",
   "metadata": {},
   "source": [
    "* ridership_data contains all of the trip information from April-May 2022 provided by WMATA"
   ]
  },
  {
   "cell_type": "code",
   "execution_count": 3,
   "id": "99074411-4007-49ff-a1ab-2f6e80cbcccd",
   "metadata": {},
   "outputs": [],
   "source": [
    "ridership_data = pd.concat(pd.read_excel(\"../../Data/railTrips-Apr-May2022.xlsx\", sheet_name=None), ignore_index=True)"
   ]
  },
  {
   "cell_type": "markdown",
   "id": "862a2fc4-a4c5-4590-8862-34322086cecf",
   "metadata": {},
   "source": [
    "* Combine end point and start point of stations while having different entrances\n",
    "* Remove trips where the start and end station are the same\n",
    "* Group by the start and end locations and sum the passengers and export to get the passengers"
   ]
  },
  {
   "cell_type": "code",
   "execution_count": 4,
   "id": "8e2e4df1-1e21-457a-8a1d-afaf202bbcda",
   "metadata": {},
   "outputs": [
    {
     "data": {
      "text/plain": [
       "array(['Cheverly', \"Prince George's Plaza\", 'Takoma', 'West Falls Church',\n",
       "       'Arlington Cemetery', 'Greensboro', 'New Carrollton',\n",
       "       'Shaw-Howard University', 'Greenbelt', 'Branch Avenue',\n",
       "       'Potomac Avenue', 'Braddock Road', 'Silver Spring', 'Landover',\n",
       "       'Judiciary Square', 'Largo Town Center', 'West Hyattsville',\n",
       "       'Shady Grove', 'Rhode Island Avenue', 'Stadium-Armory', 'Vienna',\n",
       "       'Glenmont', 'Franconia-Springfield', 'Rockville', 'Huntington',\n",
       "       'Addison Road', 'Suitland', 'Farragut West', 'Morgan Blvd.',\n",
       "       'Forest Glen', \"L'Enfant Plaza\", 'Wheaton', 'Eisenhower Avenue',\n",
       "       'Wiehle', 'Capitol Heights', 'Crystal City', 'Dunn Loring',\n",
       "       'Van Dorn Street', 'Van Ness-UDC', 'Naylor Road', 'Benning Road',\n",
       "       'Southern Avenue', 'Friendship Heights', 'Twinbrook',\n",
       "       'College Park-U of MD', 'Fort Totten', 'King Street', 'Pentagon',\n",
       "       'Anacostia', 'White Flint', 'New York Ave', 'East Falls Church',\n",
       "       'Reagan Washington National Airport', 'U Street-Cardozo',\n",
       "       'Court House', 'Minnesota Avenue', 'Spring Hill', 'Deanwood',\n",
       "       'Pentagon City', 'McLean', 'Clarendon', 'Union Station',\n",
       "       'Tysons Corner', 'Eastern Market', 'Foggy Bottom',\n",
       "       'Virginia Square-GMU', 'Waterfront', 'Ballston',\n",
       "       'Georgia Avenue-Petworth', 'Grosvenor', 'Navy Yard',\n",
       "       'Congress Heights', 'Gallery Place-Chinatown', 'Brookland',\n",
       "       'Columbia Heights', 'Medical Center', 'Capitol South',\n",
       "       'McPherson Square', 'Rosslyn', 'Archives-Navy Memorial',\n",
       "       'Metro Center', 'Bethesda', 'Tenleytown-AU',\n",
       "       'Mt. Vernon Square-UDC', 'Cleveland Park', 'Smithsonian',\n",
       "       'Farragut North', 'Dupont Circle', 'Federal Center SW',\n",
       "       'Woodley Park-Zoo', 'Federal Triangle'], dtype=object)"
      ]
     },
     "execution_count": 4,
     "metadata": {},
     "output_type": "execute_result"
    }
   ],
   "source": [
    "ridership_data['START_PLACE_NAME'] = ridership_data['START_PLACE_NAME'].replace({'Anacostia, N': 'Anacostia', 'Anacostia, S':'Anacostia',\n",
    "                          'Dupont Circle, N':'Dupont Circle','Dupont Circle, S':'Dupont Circle',\n",
    "                          'Farragut North, NE':'Farragut North', 'Farragut North, NW':'Farragut North', 'Farragut North, SE':'Farragut North',\n",
    "                          'Farragut West, E':'Farragut West','Farragut West, W':'Farragut West',\n",
    "                          'Friendship Heights, N':'Friendship Heights','Friendship Heights, S':'Friendship Heights',\n",
    "                          'Gallery Place-Chinatown, E':'Gallery Place-Chinatown','Gallery Place-Chinatown, N':'Gallery Place-Chinatown','Gallery Place-Chinatown, W':'Gallery Place-Chinatown',\n",
    "                          'Huntington, N':'Huntington','Huntington, S':'Huntington',\n",
    "                          'Judiciary Square, E':'Judiciary Square','Judiciary Square, W':'Judiciary Square',\n",
    "                          'King Street, N':'King Street',\n",
    "                          \"L'Enfant Plaza, E\":\"L'Enfant Plaza\",\"L'Enfant Plaza, N\":\"L'Enfant Plaza\",\"L'Enfant Plaza, W\":\"L'Enfant Plaza\",\n",
    "                          \"McPherson Square, E\":\"McPherson Square\",\"McPherson Square, W\":\"McPherson Square\",\n",
    "                          \"Metro Center, E\":\"Metro Center\",\"Metro Center, W\":\"Metro Center\",\"Metro Center, S\":\"Metro Center\",\"Metro Center, N\":\"Metro Center\",\n",
    "                          \"Navy Yard, E\":\"Navy Yard\",\"Navy Yard, W\":\"Navy Yard\",\n",
    "                          \"New York Ave. E\":\"New York Ave\",\"New York Ave. W\":\"New York Ave\",\n",
    "                          \"Shaw-Howard University, N\":\"Shaw-Howard University\",\"Shaw-Howard University, S\":\"Shaw-Howard University\",\n",
    "                          \"Silver Spring, N\":\"Silver Spring\",\"Silver Spring, S\":\"Silver Spring\",\n",
    "                          \"Smithsonian, N\":\"Smithsonian\",\"Smithsonian, S\":\"Smithsonian\",\n",
    "                          \"Stadium-Armory, N\":\"Stadium-Armory\",\"Stadium-Armory, S\":\"Stadium-Armory\",\n",
    "                          \"U Street-Cardozo, E\":\"U Street-Cardozo\",\"U Street-Cardozo, W\":\"U Street-Cardozo\",\n",
    "                          \"Union Station, N\":\"Union Station\",\"Union Station, S\":\"Union Station\",\n",
    "                          \"Rosslyn East\":\"Rosslyn\",\n",
    "                          \"Farragut North\":\"Farragut\",\"Farragut West\":\"Farragut\",\n",
    "                           \"Reagan Washington National Airport, N\":\"Reagan Washington National Airport\",\"Reagan Washington National Airport, S\":\"Reagan Washington National Airport\"                                                     \n",
    "      })\n",
    "\n",
    "\n",
    "ridership_data['END_PLACE_NAME'] = ridership_data['END_PLACE_NAME'].replace({'Anacostia, N': 'Anacostia', 'Anacostia, S':'Anacostia',\n",
    "                          'Dupont Circle, N':'Dupont Circle','Dupont Circle, S':'Dupont Circle',\n",
    "                          'Farragut North, NE':'Farragut North', 'Farragut North, NW':'Farragut North', 'Farragut North, SE':'Farragut North',\n",
    "                          'Farragut West, E':'Farragut West','Farragut West, W':'Farragut West',\n",
    "                          'Friendship Heights, N':'Friendship Heights','Friendship Heights, S':'Friendship Heights',\n",
    "                          'Gallery Place-Chinatown, E':'Gallery Place-Chinatown','Gallery Place-Chinatown, N':'Gallery Place-Chinatown','Gallery Place-Chinatown, W':'Gallery Place-Chinatown',\n",
    "                          'Huntington, N':'Huntington','Huntington, S':'Huntington',\n",
    "                          'Judiciary Square, E':'Judiciary Square','Judiciary Square, W':'Judiciary Square',\n",
    "                          'King Street, N':'King Street',\n",
    "                          \"L'Enfant Plaza, E\":\"L'Enfant Plaza\",\"L'Enfant Plaza, N\":\"L'Enfant Plaza\",\"L'Enfant Plaza, W\":\"L'Enfant Plaza\",\n",
    "                          \"McPherson Square, E\":\"McPherson Square\",\"McPherson Square, W\":\"McPherson Square\",\n",
    "                          \"Metro Center, E\":\"Metro Center\",\"Metro Center, W\":\"Metro Center\",\"Metro Center, S\":\"Metro Center\",\"Metro Center, N\":\"Metro Center\",\n",
    "                          \"Navy Yard, E\":\"Navy Yard\",\"Navy Yard, W\":\"Navy Yard\",\n",
    "                          \"New York Ave. E\":\"New York Ave\",\"New York Ave. W\":\"New York Ave\",\n",
    "                          \"Shaw-Howard University, N\":\"Shaw-Howard University\",\"Shaw-Howard University, S\":\"Shaw-Howard University\",\n",
    "                          \"Silver Spring, N\":\"Silver Spring\",\"Silver Spring, S\":\"Silver Spring\",\n",
    "                          \"Smithsonian, N\":\"Smithsonian\",\"Smithsonian, S\":\"Smithsonian\",\n",
    "                          \"Stadium-Armory, N\":\"Stadium-Armory\",\"Stadium-Armory, S\":\"Stadium-Armory\",\n",
    "                          \"U Street-Cardozo, E\":\"U Street-Cardozo\",\"U Street-Cardozo, W\":\"U Street-Cardozo\",\n",
    "                          \"Union Station, N\":\"Union Station\",\"Union Station, S\":\"Union Station\",\n",
    "                           \"Rosslyn East\":\"Rosslyn\",\n",
    "                          \"Farragut North\":\"Farragut\",\"Farragut West\":\"Farragut\",\n",
    "                        \"Reagan Washington National Airport, N\":\"Reagan Washington National Airport\",\n",
    "                        \"Reagan Washington National Airport, S\":\"Reagan Washington National Airport\"\n",
    "                                                                            })\n",
    "ridership_data['START_PLACE_NAME'].unique()"
   ]
  },
  {
   "cell_type": "code",
   "execution_count": 5,
   "id": "848c8ddf-f1a1-46dd-83e6-76b9afb12890",
   "metadata": {},
   "outputs": [],
   "source": [
    "ridership_data = ridership_data[ridership_data['START_PLACE_NAME'] != ridership_data['END_PLACE_NAME']]"
   ]
  },
  {
   "cell_type": "markdown",
   "id": "94ceedc4-a9d0-4afa-96ea-fd7230a3d182",
   "metadata": {},
   "source": [
    "* Get the total trip time for each trip as a timedelta data type\n",
    "* Get the total trip time for each trip in seconds\n",
    "* Divide the trip time in seconds by 60 to get the trip time in minute"
   ]
  },
  {
   "cell_type": "code",
   "execution_count": 6,
   "id": "21db7e8e-2423-4486-b330-caac05a1118d",
   "metadata": {},
   "outputs": [],
   "source": [
    "ridership_data['trip_time'] = ridership_data[\"END_TIME\"] - ridership_data['START_TIME']"
   ]
  },
  {
   "cell_type": "code",
   "execution_count": 7,
   "id": "d7d4d415-1c53-4ff7-af31-71d6ad8e4110",
   "metadata": {},
   "outputs": [],
   "source": [
    "ridership_data['trip_time_secs'] = ridership_data['trip_time'].dt.total_seconds()"
   ]
  },
  {
   "cell_type": "code",
   "execution_count": 8,
   "id": "f523b514-7442-4f4e-ad7a-ae06d51ad340",
   "metadata": {},
   "outputs": [],
   "source": [
    "ridership_data['trip_time_mins'] = ridership_data['trip_time_secs'] / 60"
   ]
  },
  {
   "cell_type": "code",
   "execution_count": 9,
   "id": "dbf13220-5023-42d3-b354-18f8fa2bc3e3",
   "metadata": {},
   "outputs": [
    {
     "data": {
      "text/plain": [
       "0    34.550000\n",
       "1    22.566667\n",
       "2    20.733333\n",
       "3    20.733333\n",
       "4    14.533333\n",
       "Name: trip_time_mins, dtype: float64"
      ]
     },
     "execution_count": 9,
     "metadata": {},
     "output_type": "execute_result"
    }
   ],
   "source": [
    "ridership_data['trip_time_mins'].head()"
   ]
  },
  {
   "cell_type": "markdown",
   "id": "7ea2870b-bf65-4255-bf8d-09c40736523f",
   "metadata": {},
   "source": [
    "* Create a grouby object with the start and end station IDs and names\n",
    "* Summarize to get the average trip time in mins and the total number of passengers\n",
    "* Create a pairs column for easy merging\n",
    "* Export only the pairs and trip_time_mins columns"
   ]
  },
  {
   "cell_type": "code",
   "execution_count": 10,
   "id": "ecf82789-7fa4-4d98-ad81-15db8bf59c85",
   "metadata": {},
   "outputs": [
    {
     "data": {
      "text/html": [
       "<div>\n",
       "<style scoped>\n",
       "    .dataframe tbody tr th:only-of-type {\n",
       "        vertical-align: middle;\n",
       "    }\n",
       "\n",
       "    .dataframe tbody tr th {\n",
       "        vertical-align: top;\n",
       "    }\n",
       "\n",
       "    .dataframe thead th {\n",
       "        text-align: right;\n",
       "    }\n",
       "</style>\n",
       "<table border=\"1\" class=\"dataframe\">\n",
       "  <thead>\n",
       "    <tr style=\"text-align: right;\">\n",
       "      <th></th>\n",
       "      <th>ID</th>\n",
       "      <th>ID_1</th>\n",
       "      <th>START_PLACE_NAME</th>\n",
       "      <th>END_PLACE_NAME</th>\n",
       "      <th>trip_time_mins</th>\n",
       "      <th>COUNT</th>\n",
       "    </tr>\n",
       "  </thead>\n",
       "  <tbody>\n",
       "    <tr>\n",
       "      <th>0</th>\n",
       "      <td>MSTN_001</td>\n",
       "      <td>MSTN_002</td>\n",
       "      <td>Anacostia</td>\n",
       "      <td>Archives-Navy Memorial</td>\n",
       "      <td>18.423072</td>\n",
       "      <td>1418</td>\n",
       "    </tr>\n",
       "    <tr>\n",
       "      <th>1</th>\n",
       "      <td>MSTN_001</td>\n",
       "      <td>MSTN_003</td>\n",
       "      <td>Anacostia</td>\n",
       "      <td>Benning Road</td>\n",
       "      <td>40.364957</td>\n",
       "      <td>156</td>\n",
       "    </tr>\n",
       "    <tr>\n",
       "      <th>2</th>\n",
       "      <td>MSTN_001</td>\n",
       "      <td>MSTN_004</td>\n",
       "      <td>Anacostia</td>\n",
       "      <td>Brookland</td>\n",
       "      <td>41.718431</td>\n",
       "      <td>425</td>\n",
       "    </tr>\n",
       "    <tr>\n",
       "      <th>3</th>\n",
       "      <td>MSTN_001</td>\n",
       "      <td>MSTN_005</td>\n",
       "      <td>Anacostia</td>\n",
       "      <td>Capitol South</td>\n",
       "      <td>23.641438</td>\n",
       "      <td>146</td>\n",
       "    </tr>\n",
       "    <tr>\n",
       "      <th>4</th>\n",
       "      <td>MSTN_001</td>\n",
       "      <td>MSTN_006</td>\n",
       "      <td>Anacostia</td>\n",
       "      <td>Cleveland Park</td>\n",
       "      <td>38.703360</td>\n",
       "      <td>124</td>\n",
       "    </tr>\n",
       "    <tr>\n",
       "      <th>...</th>\n",
       "      <td>...</td>\n",
       "      <td>...</td>\n",
       "      <td>...</td>\n",
       "      <td>...</td>\n",
       "      <td>...</td>\n",
       "      <td>...</td>\n",
       "    </tr>\n",
       "    <tr>\n",
       "      <th>8182</th>\n",
       "      <td>MSTN_091</td>\n",
       "      <td>MSTN_086</td>\n",
       "      <td>Wiehle</td>\n",
       "      <td>Morgan Blvd.</td>\n",
       "      <td>85.645274</td>\n",
       "      <td>67</td>\n",
       "    </tr>\n",
       "    <tr>\n",
       "      <th>8183</th>\n",
       "      <td>MSTN_091</td>\n",
       "      <td>MSTN_087</td>\n",
       "      <td>Wiehle</td>\n",
       "      <td>McLean</td>\n",
       "      <td>29.043024</td>\n",
       "      <td>841</td>\n",
       "    </tr>\n",
       "    <tr>\n",
       "      <th>8184</th>\n",
       "      <td>MSTN_091</td>\n",
       "      <td>MSTN_088</td>\n",
       "      <td>Wiehle</td>\n",
       "      <td>Tysons Corner</td>\n",
       "      <td>24.039563</td>\n",
       "      <td>2721</td>\n",
       "    </tr>\n",
       "    <tr>\n",
       "      <th>8185</th>\n",
       "      <td>MSTN_091</td>\n",
       "      <td>MSTN_089</td>\n",
       "      <td>Wiehle</td>\n",
       "      <td>Greensboro</td>\n",
       "      <td>22.129439</td>\n",
       "      <td>843</td>\n",
       "    </tr>\n",
       "    <tr>\n",
       "      <th>8186</th>\n",
       "      <td>MSTN_091</td>\n",
       "      <td>MSTN_090</td>\n",
       "      <td>Wiehle</td>\n",
       "      <td>Spring Hill</td>\n",
       "      <td>20.903743</td>\n",
       "      <td>895</td>\n",
       "    </tr>\n",
       "  </tbody>\n",
       "</table>\n",
       "<p>8187 rows × 6 columns</p>\n",
       "</div>"
      ],
      "text/plain": [
       "            ID      ID_1 START_PLACE_NAME          END_PLACE_NAME  \\\n",
       "0     MSTN_001  MSTN_002        Anacostia  Archives-Navy Memorial   \n",
       "1     MSTN_001  MSTN_003        Anacostia            Benning Road   \n",
       "2     MSTN_001  MSTN_004        Anacostia               Brookland   \n",
       "3     MSTN_001  MSTN_005        Anacostia           Capitol South   \n",
       "4     MSTN_001  MSTN_006        Anacostia          Cleveland Park   \n",
       "...        ...       ...              ...                     ...   \n",
       "8182  MSTN_091  MSTN_086           Wiehle            Morgan Blvd.   \n",
       "8183  MSTN_091  MSTN_087           Wiehle                  McLean   \n",
       "8184  MSTN_091  MSTN_088           Wiehle           Tysons Corner   \n",
       "8185  MSTN_091  MSTN_089           Wiehle              Greensboro   \n",
       "8186  MSTN_091  MSTN_090           Wiehle             Spring Hill   \n",
       "\n",
       "      trip_time_mins  COUNT  \n",
       "0          18.423072   1418  \n",
       "1          40.364957    156  \n",
       "2          41.718431    425  \n",
       "3          23.641438    146  \n",
       "4          38.703360    124  \n",
       "...              ...    ...  \n",
       "8182       85.645274     67  \n",
       "8183       29.043024    841  \n",
       "8184       24.039563   2721  \n",
       "8185       22.129439    843  \n",
       "8186       20.903743    895  \n",
       "\n",
       "[8187 rows x 6 columns]"
      ]
     },
     "execution_count": 10,
     "metadata": {},
     "output_type": "execute_result"
    }
   ],
   "source": [
    "the_group = ridership_data.groupby([\"ID\", \"ID_1\",\"START_PLACE_NAME\",\"END_PLACE_NAME\"])\n",
    "all_riders = the_group.agg({'trip_time_mins': np.mean}).reset_index()\n",
    "all_riders['COUNT'] = the_group.size().reset_index(name = 'COUNT')['COUNT']\n",
    "all_riders\n",
    "#all_riders.to_excel(\"output/all_ridership.xlsx\")"
   ]
  },
  {
   "cell_type": "code",
   "execution_count": 11,
   "id": "7a268ee3-9ef9-4bfe-a598-e472330f426d",
   "metadata": {},
   "outputs": [],
   "source": [
    "all_riders['pairs'] = all_riders.apply(lambda x: str(x['ID'])+str(0)+str(x['ID_1']), axis=1)"
   ]
  },
  {
   "cell_type": "code",
   "execution_count": 12,
   "id": "9a7c8323-a342-4ea2-b01b-e04babc59bd4",
   "metadata": {},
   "outputs": [],
   "source": [
    "all_riders[['pairs', 'trip_time_mins']].to_excel(\"output/metro_swipecard_tt.xlsx\")"
   ]
  },
  {
   "cell_type": "code",
   "execution_count": null,
   "id": "1d9d7bdd-fe57-4dc6-b652-def773349f3f",
   "metadata": {},
   "outputs": [],
   "source": []
  }
 ],
 "metadata": {
  "kernelspec": {
   "display_name": "Python 3 (ipykernel)",
   "language": "python",
   "name": "python3"
  },
  "language_info": {
   "codemirror_mode": {
    "name": "ipython",
    "version": 3
   },
   "file_extension": ".py",
   "mimetype": "text/x-python",
   "name": "python",
   "nbconvert_exporter": "python",
   "pygments_lexer": "ipython3",
   "version": "3.12.0"
  }
 },
 "nbformat": 4,
 "nbformat_minor": 5
}
