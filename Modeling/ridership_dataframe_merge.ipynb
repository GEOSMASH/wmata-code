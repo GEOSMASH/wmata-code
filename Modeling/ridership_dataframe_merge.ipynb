{
 "cells": [
  {
   "cell_type": "code",
   "execution_count": 1,
   "id": "4b96aed2-0cd0-441e-8764-865596f7d004",
   "metadata": {},
   "outputs": [],
   "source": [
    "import numpy as np\n",
    "import pandas as pd\n",
    "import geopandas as gpd\n",
    "import openpyxl\n",
    "import warnings\n",
    "warnings.filterwarnings(\"ignore\")"
   ]
  },
  {
   "cell_type": "markdown",
   "id": "b8e6bc04-ba89-40bd-b7ee-016446ea5997",
   "metadata": {},
   "source": [
    "* all_vars contains the dataframe with all of the variables\n",
    "* all_riders contains all of the ridership in all time periods\n",
    "* full_fare_riders contains the ridership counts for full fare riders split by time period"
   ]
  },
  {
   "cell_type": "code",
   "execution_count": 2,
   "id": "a57d5193-c5eb-4edd-b70e-aa9a5c6f70a9",
   "metadata": {},
   "outputs": [],
   "source": [
    "all_vars = pd.read_csv('Outputs/allvars_dataframe_new.csv', index_col=0)\n",
    "all_riders = pd.read_excel('../Data Preprocessing/All Ridership/output/all_ridership.xlsx', index_col=0)\n",
    "full_fare_riders = pd.read_excel(\"../Data Preprocessing/Ridership Data/output/full_fare_ridership.xlsx\", index_col=0)"
   ]
  },
  {
   "cell_type": "markdown",
   "id": "02034b9d-0ec8-451b-89f6-cf9b6538ab9c",
   "metadata": {},
   "source": [
    "# All Ridership Merge"
   ]
  },
  {
   "cell_type": "code",
   "execution_count": 3,
   "id": "2d0e4a02-2651-4fc7-affd-3ce80a4fe3c9",
   "metadata": {},
   "outputs": [
    {
     "data": {
      "text/html": [
       "<div>\n",
       "<style scoped>\n",
       "    .dataframe tbody tr th:only-of-type {\n",
       "        vertical-align: middle;\n",
       "    }\n",
       "\n",
       "    .dataframe tbody tr th {\n",
       "        vertical-align: top;\n",
       "    }\n",
       "\n",
       "    .dataframe thead th {\n",
       "        text-align: right;\n",
       "    }\n",
       "</style>\n",
       "<table border=\"1\" class=\"dataframe\">\n",
       "  <thead>\n",
       "    <tr style=\"text-align: right;\">\n",
       "      <th></th>\n",
       "      <th>ID</th>\n",
       "      <th>ID_1</th>\n",
       "      <th>START_PLACE_NAME</th>\n",
       "      <th>END_PLACE_NAME</th>\n",
       "      <th>COUNT</th>\n",
       "    </tr>\n",
       "  </thead>\n",
       "  <tbody>\n",
       "    <tr>\n",
       "      <th>0</th>\n",
       "      <td>MSTN_001</td>\n",
       "      <td>MSTN_002</td>\n",
       "      <td>Anacostia</td>\n",
       "      <td>Archives-Navy Memorial</td>\n",
       "      <td>1418</td>\n",
       "    </tr>\n",
       "    <tr>\n",
       "      <th>1</th>\n",
       "      <td>MSTN_001</td>\n",
       "      <td>MSTN_003</td>\n",
       "      <td>Anacostia</td>\n",
       "      <td>Benning Road</td>\n",
       "      <td>156</td>\n",
       "    </tr>\n",
       "    <tr>\n",
       "      <th>2</th>\n",
       "      <td>MSTN_001</td>\n",
       "      <td>MSTN_004</td>\n",
       "      <td>Anacostia</td>\n",
       "      <td>Brookland</td>\n",
       "      <td>425</td>\n",
       "    </tr>\n",
       "    <tr>\n",
       "      <th>3</th>\n",
       "      <td>MSTN_001</td>\n",
       "      <td>MSTN_005</td>\n",
       "      <td>Anacostia</td>\n",
       "      <td>Capitol South</td>\n",
       "      <td>146</td>\n",
       "    </tr>\n",
       "    <tr>\n",
       "      <th>4</th>\n",
       "      <td>MSTN_001</td>\n",
       "      <td>MSTN_006</td>\n",
       "      <td>Anacostia</td>\n",
       "      <td>Cleveland Park</td>\n",
       "      <td>124</td>\n",
       "    </tr>\n",
       "  </tbody>\n",
       "</table>\n",
       "</div>"
      ],
      "text/plain": [
       "         ID      ID_1 START_PLACE_NAME          END_PLACE_NAME  COUNT\n",
       "0  MSTN_001  MSTN_002        Anacostia  Archives-Navy Memorial   1418\n",
       "1  MSTN_001  MSTN_003        Anacostia            Benning Road    156\n",
       "2  MSTN_001  MSTN_004        Anacostia               Brookland    425\n",
       "3  MSTN_001  MSTN_005        Anacostia           Capitol South    146\n",
       "4  MSTN_001  MSTN_006        Anacostia          Cleveland Park    124"
      ]
     },
     "execution_count": 3,
     "metadata": {},
     "output_type": "execute_result"
    }
   ],
   "source": [
    "all_riders.head()"
   ]
  },
  {
   "cell_type": "code",
   "execution_count": 4,
   "id": "2d1c5fe5-23b6-411e-b592-8192207f6aad",
   "metadata": {},
   "outputs": [],
   "source": [
    "all_riders['pairs'] = all_riders.apply(lambda x: str(x['ID'])+str(0)+str(x['ID_1']), axis=1)\n",
    "all_riders.rename(columns={'COUNT':'passengers'}, inplace=True)\n",
    "all_riders  = all_riders[['pairs', 'passengers']]"
   ]
  },
  {
   "cell_type": "code",
   "execution_count": 5,
   "id": "00533e40-b14c-4d8c-975e-0d0c4cfdca1e",
   "metadata": {},
   "outputs": [],
   "source": [
    "all_riders_vars = all_riders.merge(all_vars, on = 'pairs', how = 'left')"
   ]
  },
  {
   "cell_type": "code",
   "execution_count": 6,
   "id": "c022bf11-6a5d-4a8b-b245-f32953ad2240",
   "metadata": {},
   "outputs": [],
   "source": [
    "all_riders_vars.to_excel('Outputs/all_riders_vars_dataframe.xlsx') "
   ]
  },
  {
   "cell_type": "code",
   "execution_count": 7,
   "id": "2196c75a-9888-4ca8-8809-8515b60b75bf",
   "metadata": {},
   "outputs": [
    {
     "data": {
      "text/plain": [
       "(8187, 148)"
      ]
     },
     "execution_count": 7,
     "metadata": {},
     "output_type": "execute_result"
    }
   ],
   "source": [
    "all_riders_vars.shape"
   ]
  },
  {
   "cell_type": "markdown",
   "id": "76401d40-8375-4228-bd97-28989c2fa675",
   "metadata": {},
   "source": [
    "# AM Peak Ridership Merge"
   ]
  },
  {
   "cell_type": "code",
   "execution_count": 8,
   "id": "bc6b069a-d877-4364-ae69-55f002678856",
   "metadata": {},
   "outputs": [],
   "source": [
    "full_fare_riders['pairs'] = full_fare_riders.apply(lambda x: str(x['ID'])+str(0)+str(x['ID_1']), axis=1)\n",
    "full_fare_riders.rename(columns={'COUNT':'passengers'}, inplace=True)"
   ]
  },
  {
   "cell_type": "code",
   "execution_count": 9,
   "id": "2fcdc369-e74c-4242-b7e5-76854e590acc",
   "metadata": {},
   "outputs": [
    {
     "data": {
      "text/html": [
       "<div>\n",
       "<style scoped>\n",
       "    .dataframe tbody tr th:only-of-type {\n",
       "        vertical-align: middle;\n",
       "    }\n",
       "\n",
       "    .dataframe tbody tr th {\n",
       "        vertical-align: top;\n",
       "    }\n",
       "\n",
       "    .dataframe thead th {\n",
       "        text-align: right;\n",
       "    }\n",
       "</style>\n",
       "<table border=\"1\" class=\"dataframe\">\n",
       "  <thead>\n",
       "    <tr style=\"text-align: right;\">\n",
       "      <th></th>\n",
       "      <th>ID</th>\n",
       "      <th>ID_1</th>\n",
       "      <th>START_PLACE_NAME</th>\n",
       "      <th>END_PLACE_NAME</th>\n",
       "      <th>period</th>\n",
       "      <th>passengers</th>\n",
       "      <th>pairs</th>\n",
       "    </tr>\n",
       "  </thead>\n",
       "  <tbody>\n",
       "    <tr>\n",
       "      <th>0</th>\n",
       "      <td>MSTN_001</td>\n",
       "      <td>MSTN_002</td>\n",
       "      <td>Anacostia</td>\n",
       "      <td>Archives-Navy Memorial</td>\n",
       "      <td>AM Peak</td>\n",
       "      <td>436</td>\n",
       "      <td>MSTN_0010MSTN_002</td>\n",
       "    </tr>\n",
       "    <tr>\n",
       "      <th>4</th>\n",
       "      <td>MSTN_001</td>\n",
       "      <td>MSTN_003</td>\n",
       "      <td>Anacostia</td>\n",
       "      <td>Benning Road</td>\n",
       "      <td>AM Peak</td>\n",
       "      <td>12</td>\n",
       "      <td>MSTN_0010MSTN_003</td>\n",
       "    </tr>\n",
       "    <tr>\n",
       "      <th>8</th>\n",
       "      <td>MSTN_001</td>\n",
       "      <td>MSTN_004</td>\n",
       "      <td>Anacostia</td>\n",
       "      <td>Brookland</td>\n",
       "      <td>AM Peak</td>\n",
       "      <td>77</td>\n",
       "      <td>MSTN_0010MSTN_004</td>\n",
       "    </tr>\n",
       "    <tr>\n",
       "      <th>12</th>\n",
       "      <td>MSTN_001</td>\n",
       "      <td>MSTN_005</td>\n",
       "      <td>Anacostia</td>\n",
       "      <td>Capitol South</td>\n",
       "      <td>AM Peak</td>\n",
       "      <td>2</td>\n",
       "      <td>MSTN_0010MSTN_005</td>\n",
       "    </tr>\n",
       "    <tr>\n",
       "      <th>15</th>\n",
       "      <td>MSTN_001</td>\n",
       "      <td>MSTN_006</td>\n",
       "      <td>Anacostia</td>\n",
       "      <td>Cleveland Park</td>\n",
       "      <td>AM Peak</td>\n",
       "      <td>23</td>\n",
       "      <td>MSTN_0010MSTN_006</td>\n",
       "    </tr>\n",
       "  </tbody>\n",
       "</table>\n",
       "</div>"
      ],
      "text/plain": [
       "          ID      ID_1 START_PLACE_NAME          END_PLACE_NAME   period  \\\n",
       "0   MSTN_001  MSTN_002        Anacostia  Archives-Navy Memorial  AM Peak   \n",
       "4   MSTN_001  MSTN_003        Anacostia            Benning Road  AM Peak   \n",
       "8   MSTN_001  MSTN_004        Anacostia               Brookland  AM Peak   \n",
       "12  MSTN_001  MSTN_005        Anacostia           Capitol South  AM Peak   \n",
       "15  MSTN_001  MSTN_006        Anacostia          Cleveland Park  AM Peak   \n",
       "\n",
       "    passengers              pairs  \n",
       "0          436  MSTN_0010MSTN_002  \n",
       "4           12  MSTN_0010MSTN_003  \n",
       "8           77  MSTN_0010MSTN_004  \n",
       "12           2  MSTN_0010MSTN_005  \n",
       "15          23  MSTN_0010MSTN_006  "
      ]
     },
     "execution_count": 9,
     "metadata": {},
     "output_type": "execute_result"
    }
   ],
   "source": [
    "am_full_fare = full_fare_riders[full_fare_riders['period']=='AM Peak']\n",
    "am_full_fare.head()"
   ]
  },
  {
   "cell_type": "code",
   "execution_count": 10,
   "id": "55e47ef4-8703-4ddf-8eb5-10b652c0d6fa",
   "metadata": {},
   "outputs": [],
   "source": [
    "am_full_fare = am_full_fare[['pairs', 'passengers']]"
   ]
  },
  {
   "cell_type": "code",
   "execution_count": 11,
   "id": "5a0f8cb3-49d9-4f1e-a0d0-15eb928e3185",
   "metadata": {},
   "outputs": [],
   "source": [
    "am_full_fare_vars = am_full_fare.merge(all_vars, on = 'pairs', how = 'left')"
   ]
  },
  {
   "cell_type": "code",
   "execution_count": 12,
   "id": "d49e7f66-c606-4b08-b790-53d37d2c8579",
   "metadata": {},
   "outputs": [],
   "source": [
    "am_full_fare_vars.to_excel('Outputs/am_full_fare_vars_dataframe.xlsx') "
   ]
  },
  {
   "cell_type": "markdown",
   "id": "8fb763a2-2eb4-4dcd-ad98-53603d570abc",
   "metadata": {},
   "source": [
    "# PM Peak Ridership Merge"
   ]
  },
  {
   "cell_type": "code",
   "execution_count": 13,
   "id": "29ae5afb-d588-49d9-8318-80db0076ca5b",
   "metadata": {},
   "outputs": [
    {
     "data": {
      "text/html": [
       "<div>\n",
       "<style scoped>\n",
       "    .dataframe tbody tr th:only-of-type {\n",
       "        vertical-align: middle;\n",
       "    }\n",
       "\n",
       "    .dataframe tbody tr th {\n",
       "        vertical-align: top;\n",
       "    }\n",
       "\n",
       "    .dataframe thead th {\n",
       "        text-align: right;\n",
       "    }\n",
       "</style>\n",
       "<table border=\"1\" class=\"dataframe\">\n",
       "  <thead>\n",
       "    <tr style=\"text-align: right;\">\n",
       "      <th></th>\n",
       "      <th>ID</th>\n",
       "      <th>ID_1</th>\n",
       "      <th>START_PLACE_NAME</th>\n",
       "      <th>END_PLACE_NAME</th>\n",
       "      <th>period</th>\n",
       "      <th>passengers</th>\n",
       "      <th>pairs</th>\n",
       "    </tr>\n",
       "  </thead>\n",
       "  <tbody>\n",
       "    <tr>\n",
       "      <th>3</th>\n",
       "      <td>MSTN_001</td>\n",
       "      <td>MSTN_002</td>\n",
       "      <td>Anacostia</td>\n",
       "      <td>Archives-Navy Memorial</td>\n",
       "      <td>PM Peak</td>\n",
       "      <td>99</td>\n",
       "      <td>MSTN_0010MSTN_002</td>\n",
       "    </tr>\n",
       "    <tr>\n",
       "      <th>7</th>\n",
       "      <td>MSTN_001</td>\n",
       "      <td>MSTN_003</td>\n",
       "      <td>Anacostia</td>\n",
       "      <td>Benning Road</td>\n",
       "      <td>PM Peak</td>\n",
       "      <td>20</td>\n",
       "      <td>MSTN_0010MSTN_003</td>\n",
       "    </tr>\n",
       "    <tr>\n",
       "      <th>11</th>\n",
       "      <td>MSTN_001</td>\n",
       "      <td>MSTN_004</td>\n",
       "      <td>Anacostia</td>\n",
       "      <td>Brookland</td>\n",
       "      <td>PM Peak</td>\n",
       "      <td>43</td>\n",
       "      <td>MSTN_0010MSTN_004</td>\n",
       "    </tr>\n",
       "    <tr>\n",
       "      <th>14</th>\n",
       "      <td>MSTN_001</td>\n",
       "      <td>MSTN_005</td>\n",
       "      <td>Anacostia</td>\n",
       "      <td>Capitol South</td>\n",
       "      <td>PM Peak</td>\n",
       "      <td>2</td>\n",
       "      <td>MSTN_0010MSTN_005</td>\n",
       "    </tr>\n",
       "    <tr>\n",
       "      <th>17</th>\n",
       "      <td>MSTN_001</td>\n",
       "      <td>MSTN_006</td>\n",
       "      <td>Anacostia</td>\n",
       "      <td>Cleveland Park</td>\n",
       "      <td>PM Peak</td>\n",
       "      <td>4</td>\n",
       "      <td>MSTN_0010MSTN_006</td>\n",
       "    </tr>\n",
       "  </tbody>\n",
       "</table>\n",
       "</div>"
      ],
      "text/plain": [
       "          ID      ID_1 START_PLACE_NAME          END_PLACE_NAME   period  \\\n",
       "3   MSTN_001  MSTN_002        Anacostia  Archives-Navy Memorial  PM Peak   \n",
       "7   MSTN_001  MSTN_003        Anacostia            Benning Road  PM Peak   \n",
       "11  MSTN_001  MSTN_004        Anacostia               Brookland  PM Peak   \n",
       "14  MSTN_001  MSTN_005        Anacostia           Capitol South  PM Peak   \n",
       "17  MSTN_001  MSTN_006        Anacostia          Cleveland Park  PM Peak   \n",
       "\n",
       "    passengers              pairs  \n",
       "3           99  MSTN_0010MSTN_002  \n",
       "7           20  MSTN_0010MSTN_003  \n",
       "11          43  MSTN_0010MSTN_004  \n",
       "14           2  MSTN_0010MSTN_005  \n",
       "17           4  MSTN_0010MSTN_006  "
      ]
     },
     "execution_count": 13,
     "metadata": {},
     "output_type": "execute_result"
    }
   ],
   "source": [
    "pm_full_fare = full_fare_riders[full_fare_riders['period']=='PM Peak']\n",
    "pm_full_fare.head()"
   ]
  },
  {
   "cell_type": "code",
   "execution_count": 14,
   "id": "6451395b-2b4a-4e1e-82a4-14e088ed0d8a",
   "metadata": {},
   "outputs": [],
   "source": [
    "pm_full_fare = pm_full_fare[['pairs', 'passengers']]"
   ]
  },
  {
   "cell_type": "code",
   "execution_count": 15,
   "id": "fc034467-f6ac-40a7-9a75-56a19ce444c3",
   "metadata": {},
   "outputs": [],
   "source": [
    "pm_full_fare_vars = pm_full_fare.merge(all_vars, on = 'pairs', how = 'left')"
   ]
  },
  {
   "cell_type": "code",
   "execution_count": 16,
   "id": "3516e47e-ed6b-4003-b5ea-e2701d9e29f8",
   "metadata": {},
   "outputs": [],
   "source": [
    "pm_full_fare_vars.to_excel('Outputs/pm_full_fare_vars_dataframe.xlsx') "
   ]
  },
  {
   "cell_type": "markdown",
   "id": "123ccdae-7328-4e8e-b392-71177ec153e9",
   "metadata": {},
   "source": [
    "# Off Peak Ridership Merge"
   ]
  },
  {
   "cell_type": "code",
   "execution_count": 17,
   "id": "0bc20bfd-999f-4ddb-a5b8-38fd4b76cc21",
   "metadata": {},
   "outputs": [
    {
     "data": {
      "text/html": [
       "<div>\n",
       "<style scoped>\n",
       "    .dataframe tbody tr th:only-of-type {\n",
       "        vertical-align: middle;\n",
       "    }\n",
       "\n",
       "    .dataframe tbody tr th {\n",
       "        vertical-align: top;\n",
       "    }\n",
       "\n",
       "    .dataframe thead th {\n",
       "        text-align: right;\n",
       "    }\n",
       "</style>\n",
       "<table border=\"1\" class=\"dataframe\">\n",
       "  <thead>\n",
       "    <tr style=\"text-align: right;\">\n",
       "      <th></th>\n",
       "      <th>ID</th>\n",
       "      <th>ID_1</th>\n",
       "      <th>START_PLACE_NAME</th>\n",
       "      <th>END_PLACE_NAME</th>\n",
       "      <th>period</th>\n",
       "      <th>passengers</th>\n",
       "      <th>pairs</th>\n",
       "    </tr>\n",
       "  </thead>\n",
       "  <tbody>\n",
       "    <tr>\n",
       "      <th>1</th>\n",
       "      <td>MSTN_001</td>\n",
       "      <td>MSTN_002</td>\n",
       "      <td>Anacostia</td>\n",
       "      <td>Archives-Navy Memorial</td>\n",
       "      <td>Off Peak</td>\n",
       "      <td>206</td>\n",
       "      <td>MSTN_0010MSTN_002</td>\n",
       "    </tr>\n",
       "    <tr>\n",
       "      <th>5</th>\n",
       "      <td>MSTN_001</td>\n",
       "      <td>MSTN_003</td>\n",
       "      <td>Anacostia</td>\n",
       "      <td>Benning Road</td>\n",
       "      <td>Off Peak</td>\n",
       "      <td>19</td>\n",
       "      <td>MSTN_0010MSTN_003</td>\n",
       "    </tr>\n",
       "    <tr>\n",
       "      <th>9</th>\n",
       "      <td>MSTN_001</td>\n",
       "      <td>MSTN_004</td>\n",
       "      <td>Anacostia</td>\n",
       "      <td>Brookland</td>\n",
       "      <td>Off Peak</td>\n",
       "      <td>42</td>\n",
       "      <td>MSTN_0010MSTN_004</td>\n",
       "    </tr>\n",
       "    <tr>\n",
       "      <th>13</th>\n",
       "      <td>MSTN_001</td>\n",
       "      <td>MSTN_005</td>\n",
       "      <td>Anacostia</td>\n",
       "      <td>Capitol South</td>\n",
       "      <td>Off Peak</td>\n",
       "      <td>31</td>\n",
       "      <td>MSTN_0010MSTN_005</td>\n",
       "    </tr>\n",
       "    <tr>\n",
       "      <th>16</th>\n",
       "      <td>MSTN_001</td>\n",
       "      <td>MSTN_006</td>\n",
       "      <td>Anacostia</td>\n",
       "      <td>Cleveland Park</td>\n",
       "      <td>Off Peak</td>\n",
       "      <td>13</td>\n",
       "      <td>MSTN_0010MSTN_006</td>\n",
       "    </tr>\n",
       "  </tbody>\n",
       "</table>\n",
       "</div>"
      ],
      "text/plain": [
       "          ID      ID_1 START_PLACE_NAME          END_PLACE_NAME    period  \\\n",
       "1   MSTN_001  MSTN_002        Anacostia  Archives-Navy Memorial  Off Peak   \n",
       "5   MSTN_001  MSTN_003        Anacostia            Benning Road  Off Peak   \n",
       "9   MSTN_001  MSTN_004        Anacostia               Brookland  Off Peak   \n",
       "13  MSTN_001  MSTN_005        Anacostia           Capitol South  Off Peak   \n",
       "16  MSTN_001  MSTN_006        Anacostia          Cleveland Park  Off Peak   \n",
       "\n",
       "    passengers              pairs  \n",
       "1          206  MSTN_0010MSTN_002  \n",
       "5           19  MSTN_0010MSTN_003  \n",
       "9           42  MSTN_0010MSTN_004  \n",
       "13          31  MSTN_0010MSTN_005  \n",
       "16          13  MSTN_0010MSTN_006  "
      ]
     },
     "execution_count": 17,
     "metadata": {},
     "output_type": "execute_result"
    }
   ],
   "source": [
    "off_full_fare = full_fare_riders[full_fare_riders['period']=='Off Peak']\n",
    "off_full_fare.head()"
   ]
  },
  {
   "cell_type": "code",
   "execution_count": 18,
   "id": "d7dbe92d-ef3c-4e78-8376-3abd0073fbd7",
   "metadata": {},
   "outputs": [],
   "source": [
    "off_full_fare = off_full_fare[['pairs', 'passengers']]"
   ]
  },
  {
   "cell_type": "code",
   "execution_count": 19,
   "id": "618055db-8b18-40c3-9636-3959d1f41727",
   "metadata": {},
   "outputs": [],
   "source": [
    "off_full_fare_vars = off_full_fare.merge(all_vars, on = 'pairs', how = 'left')"
   ]
  },
  {
   "cell_type": "code",
   "execution_count": 20,
   "id": "1ecc7a1f-0747-44c6-b120-7c59bd5c4959",
   "metadata": {},
   "outputs": [],
   "source": [
    "off_full_fare_vars.to_excel('Outputs/off_full_fare_vars_dataframe.xlsx') "
   ]
  }
 ],
 "metadata": {
  "kernelspec": {
   "display_name": "Python 3 (ipykernel)",
   "language": "python",
   "name": "python3"
  },
  "language_info": {
   "codemirror_mode": {
    "name": "ipython",
    "version": 3
   },
   "file_extension": ".py",
   "mimetype": "text/x-python",
   "name": "python",
   "nbconvert_exporter": "python",
   "pygments_lexer": "ipython3",
   "version": "3.11.4"
  }
 },
 "nbformat": 4,
 "nbformat_minor": 5
}
