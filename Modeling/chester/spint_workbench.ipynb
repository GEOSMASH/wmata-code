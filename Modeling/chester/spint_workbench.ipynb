{
 "cells": [
  {
   "cell_type": "code",
   "execution_count": 1,
   "id": "b64dc384-2f6b-4d82-8839-7e8f77beb329",
   "metadata": {},
   "outputs": [],
   "source": [
    "from modeling import *\n",
    "from feature_dev import *\n",
    "from utils import configs\n",
    "\n",
    "%load_ext autoreload\n",
    "%autoreload 2"
   ]
  },
  {
   "cell_type": "code",
   "execution_count": 2,
   "id": "8cebd9fc-0217-45f8-b006-cd699e8936c9",
   "metadata": {},
   "outputs": [
    {
     "data": {
      "text/plain": [
       "'/Users/cwharvey/odrive/Box (UMD)/WMATA_DATA'"
      ]
     },
     "execution_count": 2,
     "metadata": {},
     "output_type": "execute_result"
    }
   ],
   "source": [
    "configs.box_data_dir"
   ]
  },
  {
   "cell_type": "code",
   "execution_count": 3,
   "id": "a41b0d62-dfd2-49bf-b798-33b6442022c7",
   "metadata": {},
   "outputs": [],
   "source": [
    "df = develop_features()\n",
    "# df.columns.tolist()"
   ]
  },
  {
   "cell_type": "code",
   "execution_count": 4,
   "id": "6ba01d06-64a6-4812-9eb8-70f3add893f8",
   "metadata": {},
   "outputs": [
    {
     "data": {
      "text/html": [
       "<div>\n",
       "<style scoped>\n",
       "    .dataframe tbody tr th:only-of-type {\n",
       "        vertical-align: middle;\n",
       "    }\n",
       "\n",
       "    .dataframe tbody tr th {\n",
       "        vertical-align: top;\n",
       "    }\n",
       "\n",
       "    .dataframe thead tr th {\n",
       "        text-align: left;\n",
       "    }\n",
       "</style>\n",
       "<table border=\"1\" class=\"dataframe\">\n",
       "  <thead>\n",
       "    <tr>\n",
       "      <th></th>\n",
       "      <th colspan=\"2\" halign=\"left\">Gravity</th>\n",
       "      <th colspan=\"2\" halign=\"left\">OLS</th>\n",
       "    </tr>\n",
       "    <tr>\n",
       "      <th></th>\n",
       "      <th>coef</th>\n",
       "      <th>P</th>\n",
       "      <th>coef</th>\n",
       "      <th>P</th>\n",
       "    </tr>\n",
       "  </thead>\n",
       "  <tbody>\n",
       "    <tr>\n",
       "      <th>const</th>\n",
       "      <td>5.33</td>\n",
       "      <td>0.0</td>\n",
       "      <td>715.5</td>\n",
       "      <td>0.0</td>\n",
       "    </tr>\n",
       "    <tr>\n",
       "      <th>total households_o</th>\n",
       "      <td>0.06</td>\n",
       "      <td>0.0</td>\n",
       "      <td>0.01</td>\n",
       "      <td>0.0</td>\n",
       "    </tr>\n",
       "    <tr>\n",
       "      <th>all_jobs_o</th>\n",
       "      <td>0.06</td>\n",
       "      <td>0.0</td>\n",
       "      <td>0.0</td>\n",
       "      <td>0.0</td>\n",
       "    </tr>\n",
       "    <tr>\n",
       "      <th>total households_d</th>\n",
       "      <td>0.09</td>\n",
       "      <td>0.0</td>\n",
       "      <td>0.01</td>\n",
       "      <td>0.0</td>\n",
       "    </tr>\n",
       "    <tr>\n",
       "      <th>all_jobs_d</th>\n",
       "      <td>0.06</td>\n",
       "      <td>0.0</td>\n",
       "      <td>0.0</td>\n",
       "      <td>0.0</td>\n",
       "    </tr>\n",
       "    <tr>\n",
       "      <th>track_miles_od</th>\n",
       "      <td>-0.26</td>\n",
       "      <td>0.0</td>\n",
       "      <td>-26.07</td>\n",
       "      <td>0.0</td>\n",
       "    </tr>\n",
       "    <tr>\n",
       "      <th>peak_fare_od</th>\n",
       "      <td>-0.24</td>\n",
       "      <td>0.0</td>\n",
       "      <td>-35.51</td>\n",
       "      <td>0.117</td>\n",
       "    </tr>\n",
       "    <tr>\n",
       "      <th>AIC</th>\n",
       "      <td>4591459.82</td>\n",
       "      <td></td>\n",
       "      <td>115583.23</td>\n",
       "      <td></td>\n",
       "    </tr>\n",
       "    <tr>\n",
       "      <th>pseudoR2</th>\n",
       "      <td>0.25</td>\n",
       "      <td></td>\n",
       "      <td></td>\n",
       "      <td></td>\n",
       "    </tr>\n",
       "    <tr>\n",
       "      <th>R2</th>\n",
       "      <td></td>\n",
       "      <td></td>\n",
       "      <td>0.17</td>\n",
       "      <td></td>\n",
       "    </tr>\n",
       "  </tbody>\n",
       "</table>\n",
       "</div>"
      ],
      "text/plain": [
       "                       Gravity             OLS       \n",
       "                          coef    P       coef      P\n",
       "const                     5.33  0.0      715.5    0.0\n",
       "total households_o        0.06  0.0       0.01    0.0\n",
       "all_jobs_o                0.06  0.0        0.0    0.0\n",
       "total households_d        0.09  0.0       0.01    0.0\n",
       "all_jobs_d                0.06  0.0        0.0    0.0\n",
       "track_miles_od           -0.26  0.0     -26.07    0.0\n",
       "peak_fare_od             -0.24  0.0     -35.51  0.117\n",
       "AIC                 4591459.82       115583.23       \n",
       "pseudoR2                  0.25                       \n",
       "R2                                        0.17       "
      ]
     },
     "execution_count": 4,
     "metadata": {},
     "output_type": "execute_result"
    }
   ],
   "source": [
    "flows = 'total_ridership'\n",
    "o_vars = [\n",
    "    'total households_o',\n",
    "    'all_jobs_o',\n",
    "]\n",
    "d_vars = [\n",
    "    'total households_d',\n",
    "    'all_jobs_d',\n",
    "]\n",
    "od_vars = [\n",
    "    'track_miles_od',\n",
    "]\n",
    "# cost = 'off_peak_fare_od'\n",
    "cost = 'peak_fare_od'\n",
    "# cost = 'sd_fare_od',\n",
    "\n",
    "estimate_models(df, flows, o_vars, d_vars, od_vars, cost)"
   ]
  }
 ],
 "metadata": {
  "kernelspec": {
   "display_name": "Python 3 (ipykernel)",
   "language": "python",
   "name": "python3"
  },
  "language_info": {
   "codemirror_mode": {
    "name": "ipython",
    "version": 3
   },
   "file_extension": ".py",
   "mimetype": "text/x-python",
   "name": "python",
   "nbconvert_exporter": "python",
   "pygments_lexer": "ipython3",
   "version": "3.11.3"
  }
 },
 "nbformat": 4,
 "nbformat_minor": 5
}
