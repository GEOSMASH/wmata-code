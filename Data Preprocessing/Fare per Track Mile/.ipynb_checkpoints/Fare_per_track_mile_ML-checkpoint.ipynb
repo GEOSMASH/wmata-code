{
 "cells": [
  {
   "cell_type": "markdown",
   "id": "87e13b40-cf76-4500-a450-da6c6c0517eb",
   "metadata": {},
   "source": [
    "# Variable Creation"
   ]
  },
  {
   "cell_type": "code",
   "execution_count": 1,
   "id": "b37f9834",
   "metadata": {
    "colab": {
     "base_uri": "https://localhost:8080/"
    },
    "executionInfo": {
     "elapsed": 20094,
     "status": "ok",
     "timestamp": 1684436634122,
     "user": {
      "displayName": "Janna Chapman",
      "userId": "03316905486439216008"
     },
     "user_tz": 240
    },
    "id": "b37f9834",
    "outputId": "693ff4ac-6589-4c96-c7b5-60e22a43ded8"
   },
   "outputs": [],
   "source": [
    "import geopandas as gpd\n",
    "import matplotlib.pyplot as plt\n",
    "import pandas as pd\n",
    "import numpy as np\n"
   ]
  },
  {
   "cell_type": "code",
   "execution_count": 2,
   "id": "575bd66c-a977-4a24-9bb0-4c1b8d729107",
   "metadata": {},
   "outputs": [],
   "source": [
    "## read the rail fare and OD distances data\n",
    "railOD_tt_fare = pd.read_excel(r\"C:\\Users\\janna\\Box\\WMATA_DATA\\Ridership data/railOD_TravelTimesAndFares.xlsx\")\n",
    "stndists = pd.read_excel(r'C:\\Users\\janna\\Box\\WMATA_DATA\\25_35_drive_times_distances.xlsx').iloc[:,  [1, 2, 3, 5]]"
   ]
  },
  {
   "cell_type": "code",
   "execution_count": 3,
   "id": "f075e440-7ad5-47b2-b2e1-5f529e93f3dc",
   "metadata": {},
   "outputs": [],
   "source": [
    "#create pairs\n",
    "railOD_tt_fare['mstn_id_o'] = railOD_tt_fare['O_MSTN_ID'].str[-2:].str.lstrip('0')\n",
    "railOD_tt_fare['mstn_id_d'] = railOD_tt_fare['D_MSTN_ID'].str[-2:].str.lstrip('0')\n",
    "railOD_tt_fare['pairs'] = railOD_tt_fare['mstn_id_o']+str(0)+railOD_tt_fare['mstn_id_d']"
   ]
  },
  {
   "cell_type": "code",
   "execution_count": 4,
   "id": "6d357c4a-20c0-4b17-b31a-163e27d57086",
   "metadata": {},
   "outputs": [
    {
     "data": {
      "text/html": [
       "<div>\n",
       "<style scoped>\n",
       "    .dataframe tbody tr th:only-of-type {\n",
       "        vertical-align: middle;\n",
       "    }\n",
       "\n",
       "    .dataframe tbody tr th {\n",
       "        vertical-align: top;\n",
       "    }\n",
       "\n",
       "    .dataframe thead th {\n",
       "        text-align: right;\n",
       "    }\n",
       "</style>\n",
       "<table border=\"1\" class=\"dataframe\">\n",
       "  <thead>\n",
       "    <tr style=\"text-align: right;\">\n",
       "      <th></th>\n",
       "      <th>O_MSTN_ID</th>\n",
       "      <th>D_MSTN_ID</th>\n",
       "      <th>O_PRIMARY_NAME</th>\n",
       "      <th>D_PRIMARY_NAME</th>\n",
       "      <th>COMP_MILE</th>\n",
       "      <th>PEAK_FARE</th>\n",
       "      <th>OFF_PEAK_FARE</th>\n",
       "      <th>SD_FARE</th>\n",
       "      <th>TRAVEL_TIME</th>\n",
       "      <th>mstn_id_o</th>\n",
       "      <th>mstn_id_d</th>\n",
       "      <th>pairs</th>\n",
       "    </tr>\n",
       "  </thead>\n",
       "  <tbody>\n",
       "    <tr>\n",
       "      <th>0</th>\n",
       "      <td>MSTN_001</td>\n",
       "      <td>MSTN_001</td>\n",
       "      <td>Anacostia</td>\n",
       "      <td>Anacostia</td>\n",
       "      <td>0.05</td>\n",
       "      <td>2.25</td>\n",
       "      <td>2.00</td>\n",
       "      <td>1.10</td>\n",
       "      <td>0</td>\n",
       "      <td>1</td>\n",
       "      <td>1</td>\n",
       "      <td>101</td>\n",
       "    </tr>\n",
       "    <tr>\n",
       "      <th>1</th>\n",
       "      <td>MSTN_001</td>\n",
       "      <td>MSTN_002</td>\n",
       "      <td>Anacostia</td>\n",
       "      <td>Archives</td>\n",
       "      <td>2.83</td>\n",
       "      <td>2.25</td>\n",
       "      <td>2.00</td>\n",
       "      <td>1.10</td>\n",
       "      <td>9</td>\n",
       "      <td>1</td>\n",
       "      <td>2</td>\n",
       "      <td>102</td>\n",
       "    </tr>\n",
       "    <tr>\n",
       "      <th>2</th>\n",
       "      <td>MSTN_001</td>\n",
       "      <td>MSTN_003</td>\n",
       "      <td>Anacostia</td>\n",
       "      <td>Benning Road</td>\n",
       "      <td>5.76</td>\n",
       "      <td>3.15</td>\n",
       "      <td>2.60</td>\n",
       "      <td>1.55</td>\n",
       "      <td>26</td>\n",
       "      <td>1</td>\n",
       "      <td>3</td>\n",
       "      <td>103</td>\n",
       "    </tr>\n",
       "    <tr>\n",
       "      <th>3</th>\n",
       "      <td>MSTN_001</td>\n",
       "      <td>MSTN_004</td>\n",
       "      <td>Anacostia</td>\n",
       "      <td>Brookland-CUA</td>\n",
       "      <td>5.98</td>\n",
       "      <td>3.20</td>\n",
       "      <td>2.60</td>\n",
       "      <td>1.60</td>\n",
       "      <td>27</td>\n",
       "      <td>1</td>\n",
       "      <td>4</td>\n",
       "      <td>104</td>\n",
       "    </tr>\n",
       "    <tr>\n",
       "      <th>4</th>\n",
       "      <td>MSTN_001</td>\n",
       "      <td>MSTN_005</td>\n",
       "      <td>Anacostia</td>\n",
       "      <td>Capitol South</td>\n",
       "      <td>2.55</td>\n",
       "      <td>2.25</td>\n",
       "      <td>2.00</td>\n",
       "      <td>1.10</td>\n",
       "      <td>16</td>\n",
       "      <td>1</td>\n",
       "      <td>5</td>\n",
       "      <td>105</td>\n",
       "    </tr>\n",
       "    <tr>\n",
       "      <th>...</th>\n",
       "      <td>...</td>\n",
       "      <td>...</td>\n",
       "      <td>...</td>\n",
       "      <td>...</td>\n",
       "      <td>...</td>\n",
       "      <td>...</td>\n",
       "      <td>...</td>\n",
       "      <td>...</td>\n",
       "      <td>...</td>\n",
       "      <td>...</td>\n",
       "      <td>...</td>\n",
       "      <td>...</td>\n",
       "    </tr>\n",
       "    <tr>\n",
       "      <th>9404</th>\n",
       "      <td>MSTN_097</td>\n",
       "      <td>MSTN_093</td>\n",
       "      <td>Ashburn</td>\n",
       "      <td>Herndon</td>\n",
       "      <td>7.71</td>\n",
       "      <td>3.70</td>\n",
       "      <td>3.10</td>\n",
       "      <td>1.85</td>\n",
       "      <td>17</td>\n",
       "      <td>97</td>\n",
       "      <td>93</td>\n",
       "      <td>97093</td>\n",
       "    </tr>\n",
       "    <tr>\n",
       "      <th>9405</th>\n",
       "      <td>MSTN_097</td>\n",
       "      <td>MSTN_094</td>\n",
       "      <td>Ashburn</td>\n",
       "      <td>Innovation Center</td>\n",
       "      <td>6.02</td>\n",
       "      <td>3.25</td>\n",
       "      <td>2.60</td>\n",
       "      <td>1.60</td>\n",
       "      <td>14</td>\n",
       "      <td>97</td>\n",
       "      <td>94</td>\n",
       "      <td>97094</td>\n",
       "    </tr>\n",
       "    <tr>\n",
       "      <th>9406</th>\n",
       "      <td>MSTN_097</td>\n",
       "      <td>MSTN_095</td>\n",
       "      <td>Ashburn</td>\n",
       "      <td>Dulles Airport</td>\n",
       "      <td>4.48</td>\n",
       "      <td>2.75</td>\n",
       "      <td>2.35</td>\n",
       "      <td>1.35</td>\n",
       "      <td>10</td>\n",
       "      <td>97</td>\n",
       "      <td>95</td>\n",
       "      <td>97095</td>\n",
       "    </tr>\n",
       "    <tr>\n",
       "      <th>9407</th>\n",
       "      <td>MSTN_097</td>\n",
       "      <td>MSTN_096</td>\n",
       "      <td>Ashburn</td>\n",
       "      <td>Loudoun Gateway</td>\n",
       "      <td>1.93</td>\n",
       "      <td>2.25</td>\n",
       "      <td>2.00</td>\n",
       "      <td>1.10</td>\n",
       "      <td>4</td>\n",
       "      <td>97</td>\n",
       "      <td>96</td>\n",
       "      <td>97096</td>\n",
       "    </tr>\n",
       "    <tr>\n",
       "      <th>9408</th>\n",
       "      <td>MSTN_097</td>\n",
       "      <td>MSTN_097</td>\n",
       "      <td>Ashburn</td>\n",
       "      <td>Ashburn</td>\n",
       "      <td>0.00</td>\n",
       "      <td>2.25</td>\n",
       "      <td>2.00</td>\n",
       "      <td>1.10</td>\n",
       "      <td>0</td>\n",
       "      <td>97</td>\n",
       "      <td>97</td>\n",
       "      <td>97097</td>\n",
       "    </tr>\n",
       "  </tbody>\n",
       "</table>\n",
       "<p>9409 rows × 12 columns</p>\n",
       "</div>"
      ],
      "text/plain": [
       "     O_MSTN_ID D_MSTN_ID O_PRIMARY_NAME     D_PRIMARY_NAME  COMP_MILE  \\\n",
       "0     MSTN_001  MSTN_001      Anacostia          Anacostia       0.05   \n",
       "1     MSTN_001  MSTN_002      Anacostia           Archives       2.83   \n",
       "2     MSTN_001  MSTN_003      Anacostia       Benning Road       5.76   \n",
       "3     MSTN_001  MSTN_004      Anacostia      Brookland-CUA       5.98   \n",
       "4     MSTN_001  MSTN_005      Anacostia      Capitol South       2.55   \n",
       "...        ...       ...            ...                ...        ...   \n",
       "9404  MSTN_097  MSTN_093        Ashburn            Herndon       7.71   \n",
       "9405  MSTN_097  MSTN_094        Ashburn  Innovation Center       6.02   \n",
       "9406  MSTN_097  MSTN_095        Ashburn     Dulles Airport       4.48   \n",
       "9407  MSTN_097  MSTN_096        Ashburn    Loudoun Gateway       1.93   \n",
       "9408  MSTN_097  MSTN_097        Ashburn            Ashburn       0.00   \n",
       "\n",
       "      PEAK_FARE  OFF_PEAK_FARE  SD_FARE  TRAVEL_TIME mstn_id_o mstn_id_d  \\\n",
       "0          2.25           2.00     1.10            0         1         1   \n",
       "1          2.25           2.00     1.10            9         1         2   \n",
       "2          3.15           2.60     1.55           26         1         3   \n",
       "3          3.20           2.60     1.60           27         1         4   \n",
       "4          2.25           2.00     1.10           16         1         5   \n",
       "...         ...            ...      ...          ...       ...       ...   \n",
       "9404       3.70           3.10     1.85           17        97        93   \n",
       "9405       3.25           2.60     1.60           14        97        94   \n",
       "9406       2.75           2.35     1.35           10        97        95   \n",
       "9407       2.25           2.00     1.10            4        97        96   \n",
       "9408       2.25           2.00     1.10            0        97        97   \n",
       "\n",
       "      pairs  \n",
       "0       101  \n",
       "1       102  \n",
       "2       103  \n",
       "3       104  \n",
       "4       105  \n",
       "...     ...  \n",
       "9404  97093  \n",
       "9405  97094  \n",
       "9406  97095  \n",
       "9407  97096  \n",
       "9408  97097  \n",
       "\n",
       "[9409 rows x 12 columns]"
      ]
     },
     "execution_count": 4,
     "metadata": {},
     "output_type": "execute_result"
    }
   ],
   "source": [
    "railOD_tt_fare"
   ]
  },
  {
   "cell_type": "code",
   "execution_count": 5,
   "id": "859f67dd-8fe8-4c20-a705-4cb1b1e71e3f",
   "metadata": {},
   "outputs": [],
   "source": [
    "#filter the necessary columns\n",
    "railOD_peak_fare = railOD_tt_fare[['O_MSTN_ID', 'D_MSTN_ID', 'pairs', 'PEAK_FARE']]\n",
    "railOD_off_peak_fare = railOD_tt_fare[['O_MSTN_ID', 'D_MSTN_ID','pairs', 'OFF_PEAK_FARE']]"
   ]
  },
  {
   "cell_type": "code",
   "execution_count": 8,
   "id": "392f5c99-b06d-4710-ad86-792a81572698",
   "metadata": {},
   "outputs": [],
   "source": [
    "# read Zhila's dataframes\n",
    "amzhila = pd.read_excel(r'C:\\Users\\janna\\Box\\WMATA_DATA\\zhila_dataframes/Dataframe_od_AM.xlsx')\n",
    "offzhila = pd.read_excel(r'C:\\Users\\janna\\Box\\WMATA_DATA\\zhila_dataframes/Dataframe_od_Off.xlsx')\n",
    "pmzhila = pd.read_excel(r'C:\\Users\\janna\\Box\\WMATA_DATA\\zhila_dataframes/Dataframe_od_PM.xlsx')"
   ]
  },
  {
   "cell_type": "code",
   "execution_count": 9,
   "id": "f541b4e7-a27d-4c9c-8c0c-b45c574c3507",
   "metadata": {},
   "outputs": [],
   "source": [
    "# get the MSTN for stndists\n",
    "nm_mstn_am = amzhila[['STATIONNM.x','MSTN_ID_O','STATIONNM.y', 'MSTN_ID_D']]\n",
    "nm_mstn = nm_mstn_am.drop_duplicates(subset='STATIONNM.x').reset_index()[['STATIONNM.x', 'MSTN_ID_O']].rename(columns = {'STATIONNM.x': 'NM', 'MSTN_ID_O': 'MSTN'})"
   ]
  },
  {
   "cell_type": "code",
   "execution_count": 10,
   "id": "49962521-0f33-4e5b-b85d-69ad72d3409f",
   "metadata": {},
   "outputs": [
    {
     "data": {
      "text/html": [
       "<div>\n",
       "<style scoped>\n",
       "    .dataframe tbody tr th:only-of-type {\n",
       "        vertical-align: middle;\n",
       "    }\n",
       "\n",
       "    .dataframe tbody tr th {\n",
       "        vertical-align: top;\n",
       "    }\n",
       "\n",
       "    .dataframe thead th {\n",
       "        text-align: right;\n",
       "    }\n",
       "</style>\n",
       "<table border=\"1\" class=\"dataframe\">\n",
       "  <thead>\n",
       "    <tr style=\"text-align: right;\">\n",
       "      <th></th>\n",
       "      <th>NM</th>\n",
       "      <th>MSTN</th>\n",
       "    </tr>\n",
       "  </thead>\n",
       "  <tbody>\n",
       "    <tr>\n",
       "      <th>0</th>\n",
       "      <td>ADDISON ROAD-SEAT PLEASANT</td>\n",
       "      <td>MSTN_062</td>\n",
       "    </tr>\n",
       "    <tr>\n",
       "      <th>1</th>\n",
       "      <td>ANACOSTIA</td>\n",
       "      <td>MSTN_001</td>\n",
       "    </tr>\n",
       "    <tr>\n",
       "      <th>2</th>\n",
       "      <td>ARCHIVES-NAVY MEMORIAL-PENN QUARTER</td>\n",
       "      <td>MSTN_002</td>\n",
       "    </tr>\n",
       "    <tr>\n",
       "      <th>3</th>\n",
       "      <td>ARLINGTON CEMETERY</td>\n",
       "      <td>MSTN_065</td>\n",
       "    </tr>\n",
       "    <tr>\n",
       "      <th>4</th>\n",
       "      <td>BALLSTON-MU</td>\n",
       "      <td>MSTN_068</td>\n",
       "    </tr>\n",
       "    <tr>\n",
       "      <th>...</th>\n",
       "      <td>...</td>\n",
       "      <td>...</td>\n",
       "    </tr>\n",
       "    <tr>\n",
       "      <th>86</th>\n",
       "      <td>WEST HYATTSVILLE</td>\n",
       "      <td>MSTN_055</td>\n",
       "    </tr>\n",
       "    <tr>\n",
       "      <th>87</th>\n",
       "      <td>WHEATON</td>\n",
       "      <td>MSTN_046</td>\n",
       "    </tr>\n",
       "    <tr>\n",
       "      <th>88</th>\n",
       "      <td>NORTH BETHESDA</td>\n",
       "      <td>MSTN_045</td>\n",
       "    </tr>\n",
       "    <tr>\n",
       "      <th>89</th>\n",
       "      <td>WIEHLE-RESTON EAST</td>\n",
       "      <td>MSTN_091</td>\n",
       "    </tr>\n",
       "    <tr>\n",
       "      <th>90</th>\n",
       "      <td>WOODLEY PARK-ZOO/ADAMS MORGAN</td>\n",
       "      <td>MSTN_040</td>\n",
       "    </tr>\n",
       "  </tbody>\n",
       "</table>\n",
       "<p>91 rows × 2 columns</p>\n",
       "</div>"
      ],
      "text/plain": [
       "                                     NM      MSTN\n",
       "0            ADDISON ROAD-SEAT PLEASANT  MSTN_062\n",
       "1                             ANACOSTIA  MSTN_001\n",
       "2   ARCHIVES-NAVY MEMORIAL-PENN QUARTER  MSTN_002\n",
       "3                    ARLINGTON CEMETERY  MSTN_065\n",
       "4                           BALLSTON-MU  MSTN_068\n",
       "..                                  ...       ...\n",
       "86                     WEST HYATTSVILLE  MSTN_055\n",
       "87                              WHEATON  MSTN_046\n",
       "88                       NORTH BETHESDA  MSTN_045\n",
       "89                   WIEHLE-RESTON EAST  MSTN_091\n",
       "90        WOODLEY PARK-ZOO/ADAMS MORGAN  MSTN_040\n",
       "\n",
       "[91 rows x 2 columns]"
      ]
     },
     "execution_count": 10,
     "metadata": {},
     "output_type": "execute_result"
    }
   ],
   "source": [
    "nm_mstn"
   ]
  },
  {
   "cell_type": "code",
   "execution_count": 11,
   "id": "43a134e3-4857-4dc7-af31-80e12631c3fe",
   "metadata": {},
   "outputs": [],
   "source": [
    "# assign the MSTN for stndists table\n",
    "stndists = stndists.merge(nm_mstn, left_on = 'origins', right_on = 'NM').rename(columns = {'MSTN': 'O_MSTN_ID'})[['index', 'origins', 'destinations', 'distance', 'O_MSTN_ID']]\n",
    "stndists = stndists.merge(nm_mstn, left_on = 'destinations', right_on = 'NM').rename(columns = {'MSTN': 'D_MSTN_ID'})[['index', 'origins', 'destinations', 'O_MSTN_ID', 'D_MSTN_ID', 'distance']]"
   ]
  },
  {
   "cell_type": "code",
   "execution_count": 12,
   "id": "4d7ef8da-d176-40e3-8838-a687db3d68b1",
   "metadata": {},
   "outputs": [
    {
     "data": {
      "text/html": [
       "<div>\n",
       "<style scoped>\n",
       "    .dataframe tbody tr th:only-of-type {\n",
       "        vertical-align: middle;\n",
       "    }\n",
       "\n",
       "    .dataframe tbody tr th {\n",
       "        vertical-align: top;\n",
       "    }\n",
       "\n",
       "    .dataframe thead th {\n",
       "        text-align: right;\n",
       "    }\n",
       "</style>\n",
       "<table border=\"1\" class=\"dataframe\">\n",
       "  <thead>\n",
       "    <tr style=\"text-align: right;\">\n",
       "      <th></th>\n",
       "      <th>index</th>\n",
       "      <th>origins</th>\n",
       "      <th>destinations</th>\n",
       "      <th>O_MSTN_ID</th>\n",
       "      <th>D_MSTN_ID</th>\n",
       "      <th>distance</th>\n",
       "    </tr>\n",
       "  </thead>\n",
       "  <tbody>\n",
       "    <tr>\n",
       "      <th>0</th>\n",
       "      <td>0</td>\n",
       "      <td>ANACOSTIA</td>\n",
       "      <td>ADDISON ROAD-SEAT PLEASANT</td>\n",
       "      <td>MSTN_001</td>\n",
       "      <td>MSTN_062</td>\n",
       "      <td>6.664029</td>\n",
       "    </tr>\n",
       "    <tr>\n",
       "      <th>1</th>\n",
       "      <td>1</td>\n",
       "      <td>ARCHIVES-NAVY MEMORIAL-PENN QUARTER</td>\n",
       "      <td>ADDISON ROAD-SEAT PLEASANT</td>\n",
       "      <td>MSTN_002</td>\n",
       "      <td>MSTN_062</td>\n",
       "      <td>7.358313</td>\n",
       "    </tr>\n",
       "    <tr>\n",
       "      <th>2</th>\n",
       "      <td>2</td>\n",
       "      <td>ARLINGTON CEMETERY</td>\n",
       "      <td>ADDISON ROAD-SEAT PLEASANT</td>\n",
       "      <td>MSTN_065</td>\n",
       "      <td>MSTN_062</td>\n",
       "      <td>9.583608</td>\n",
       "    </tr>\n",
       "    <tr>\n",
       "      <th>3</th>\n",
       "      <td>4</td>\n",
       "      <td>BALLSTON-MU</td>\n",
       "      <td>ADDISON ROAD-SEAT PLEASANT</td>\n",
       "      <td>MSTN_068</td>\n",
       "      <td>MSTN_062</td>\n",
       "      <td>12.456791</td>\n",
       "    </tr>\n",
       "    <tr>\n",
       "      <th>4</th>\n",
       "      <td>5</td>\n",
       "      <td>BENNING ROAD</td>\n",
       "      <td>ADDISON ROAD-SEAT PLEASANT</td>\n",
       "      <td>MSTN_003</td>\n",
       "      <td>MSTN_062</td>\n",
       "      <td>2.611865</td>\n",
       "    </tr>\n",
       "    <tr>\n",
       "      <th>...</th>\n",
       "      <td>...</td>\n",
       "      <td>...</td>\n",
       "      <td>...</td>\n",
       "      <td>...</td>\n",
       "      <td>...</td>\n",
       "      <td>...</td>\n",
       "    </tr>\n",
       "    <tr>\n",
       "      <th>8185</th>\n",
       "      <td>187</td>\n",
       "      <td>WEST HYATTSVILLE</td>\n",
       "      <td>ANACOSTIA</td>\n",
       "      <td>MSTN_055</td>\n",
       "      <td>MSTN_001</td>\n",
       "      <td>7.542770</td>\n",
       "    </tr>\n",
       "    <tr>\n",
       "      <th>8186</th>\n",
       "      <td>188</td>\n",
       "      <td>WHEATON</td>\n",
       "      <td>ANACOSTIA</td>\n",
       "      <td>MSTN_046</td>\n",
       "      <td>MSTN_001</td>\n",
       "      <td>13.347712</td>\n",
       "    </tr>\n",
       "    <tr>\n",
       "      <th>8187</th>\n",
       "      <td>189</td>\n",
       "      <td>WIEHLE-RESTON EAST</td>\n",
       "      <td>ANACOSTIA</td>\n",
       "      <td>MSTN_091</td>\n",
       "      <td>MSTN_001</td>\n",
       "      <td>21.737546</td>\n",
       "    </tr>\n",
       "    <tr>\n",
       "      <th>8188</th>\n",
       "      <td>190</td>\n",
       "      <td>WOODLEY PARK-ZOO/ADAMS MORGAN</td>\n",
       "      <td>ANACOSTIA</td>\n",
       "      <td>MSTN_040</td>\n",
       "      <td>MSTN_001</td>\n",
       "      <td>6.156750</td>\n",
       "    </tr>\n",
       "    <tr>\n",
       "      <th>8189</th>\n",
       "      <td>4656</td>\n",
       "      <td>ADDISON ROAD-SEAT PLEASANT</td>\n",
       "      <td>ANACOSTIA</td>\n",
       "      <td>MSTN_062</td>\n",
       "      <td>MSTN_001</td>\n",
       "      <td>6.488766</td>\n",
       "    </tr>\n",
       "  </tbody>\n",
       "</table>\n",
       "<p>8190 rows × 6 columns</p>\n",
       "</div>"
      ],
      "text/plain": [
       "      index                              origins                destinations  \\\n",
       "0         0                            ANACOSTIA  ADDISON ROAD-SEAT PLEASANT   \n",
       "1         1  ARCHIVES-NAVY MEMORIAL-PENN QUARTER  ADDISON ROAD-SEAT PLEASANT   \n",
       "2         2                   ARLINGTON CEMETERY  ADDISON ROAD-SEAT PLEASANT   \n",
       "3         4                          BALLSTON-MU  ADDISON ROAD-SEAT PLEASANT   \n",
       "4         5                         BENNING ROAD  ADDISON ROAD-SEAT PLEASANT   \n",
       "...     ...                                  ...                         ...   \n",
       "8185    187                     WEST HYATTSVILLE                   ANACOSTIA   \n",
       "8186    188                              WHEATON                   ANACOSTIA   \n",
       "8187    189                   WIEHLE-RESTON EAST                   ANACOSTIA   \n",
       "8188    190        WOODLEY PARK-ZOO/ADAMS MORGAN                   ANACOSTIA   \n",
       "8189   4656           ADDISON ROAD-SEAT PLEASANT                   ANACOSTIA   \n",
       "\n",
       "     O_MSTN_ID D_MSTN_ID   distance  \n",
       "0     MSTN_001  MSTN_062   6.664029  \n",
       "1     MSTN_002  MSTN_062   7.358313  \n",
       "2     MSTN_065  MSTN_062   9.583608  \n",
       "3     MSTN_068  MSTN_062  12.456791  \n",
       "4     MSTN_003  MSTN_062   2.611865  \n",
       "...        ...       ...        ...  \n",
       "8185  MSTN_055  MSTN_001   7.542770  \n",
       "8186  MSTN_046  MSTN_001  13.347712  \n",
       "8187  MSTN_091  MSTN_001  21.737546  \n",
       "8188  MSTN_040  MSTN_001   6.156750  \n",
       "8189  MSTN_062  MSTN_001   6.488766  \n",
       "\n",
       "[8190 rows x 6 columns]"
      ]
     },
     "execution_count": 12,
     "metadata": {},
     "output_type": "execute_result"
    }
   ],
   "source": [
    "stndists"
   ]
  },
  {
   "cell_type": "code",
   "execution_count": 13,
   "id": "ac91d75d-e44a-4378-bcb8-15fa5688034d",
   "metadata": {},
   "outputs": [],
   "source": [
    "# merge the stndists and railOD_peak_fare and calculate \n",
    "railOD_peak_fare_per_mile = railOD_peak_fare.merge(stndists, left_on=['O_MSTN_ID', 'D_MSTN_ID'], right_on=['O_MSTN_ID', 'D_MSTN_ID'])\n",
    "railOD_peak_fare_per_mile['peak_fare_per_mile'] = railOD_peak_fare_per_mile['PEAK_FARE']/railOD_peak_fare_per_mile['distance']\n",
    "railOD_peak_fare_per_mile = railOD_peak_fare_per_mile[['pairs', 'O_MSTN_ID', 'D_MSTN_ID', 'peak_fare_per_mile']]"
   ]
  },
  {
   "cell_type": "code",
   "execution_count": 14,
   "id": "58310816-45bd-45a2-8419-abeb77491d9a",
   "metadata": {},
   "outputs": [
    {
     "data": {
      "text/html": [
       "<div>\n",
       "<style scoped>\n",
       "    .dataframe tbody tr th:only-of-type {\n",
       "        vertical-align: middle;\n",
       "    }\n",
       "\n",
       "    .dataframe tbody tr th {\n",
       "        vertical-align: top;\n",
       "    }\n",
       "\n",
       "    .dataframe thead th {\n",
       "        text-align: right;\n",
       "    }\n",
       "</style>\n",
       "<table border=\"1\" class=\"dataframe\">\n",
       "  <thead>\n",
       "    <tr style=\"text-align: right;\">\n",
       "      <th></th>\n",
       "      <th>pairs</th>\n",
       "      <th>O_MSTN_ID</th>\n",
       "      <th>D_MSTN_ID</th>\n",
       "      <th>peak_fare_per_mile</th>\n",
       "    </tr>\n",
       "  </thead>\n",
       "  <tbody>\n",
       "    <tr>\n",
       "      <th>0</th>\n",
       "      <td>102</td>\n",
       "      <td>MSTN_001</td>\n",
       "      <td>MSTN_002</td>\n",
       "      <td>0.747972</td>\n",
       "    </tr>\n",
       "    <tr>\n",
       "      <th>1</th>\n",
       "      <td>103</td>\n",
       "      <td>MSTN_001</td>\n",
       "      <td>MSTN_003</td>\n",
       "      <td>0.758510</td>\n",
       "    </tr>\n",
       "    <tr>\n",
       "      <th>2</th>\n",
       "      <td>104</td>\n",
       "      <td>MSTN_001</td>\n",
       "      <td>MSTN_004</td>\n",
       "      <td>0.539648</td>\n",
       "    </tr>\n",
       "    <tr>\n",
       "      <th>3</th>\n",
       "      <td>105</td>\n",
       "      <td>MSTN_001</td>\n",
       "      <td>MSTN_005</td>\n",
       "      <td>1.063716</td>\n",
       "    </tr>\n",
       "    <tr>\n",
       "      <th>4</th>\n",
       "      <td>106</td>\n",
       "      <td>MSTN_001</td>\n",
       "      <td>MSTN_006</td>\n",
       "      <td>0.489141</td>\n",
       "    </tr>\n",
       "  </tbody>\n",
       "</table>\n",
       "</div>"
      ],
      "text/plain": [
       "  pairs O_MSTN_ID D_MSTN_ID  peak_fare_per_mile\n",
       "0   102  MSTN_001  MSTN_002            0.747972\n",
       "1   103  MSTN_001  MSTN_003            0.758510\n",
       "2   104  MSTN_001  MSTN_004            0.539648\n",
       "3   105  MSTN_001  MSTN_005            1.063716\n",
       "4   106  MSTN_001  MSTN_006            0.489141"
      ]
     },
     "execution_count": 14,
     "metadata": {},
     "output_type": "execute_result"
    }
   ],
   "source": [
    "railOD_peak_fare_per_mile.head()"
   ]
  },
  {
   "cell_type": "code",
   "execution_count": 15,
   "id": "3a4458a3-45ad-44e8-8d6f-9606c0c2e2c4",
   "metadata": {},
   "outputs": [],
   "source": [
    "# merge the stndists and railOD_off_peak_fare and calculate \n",
    "railOD_off_peak_fare_per_mile = railOD_off_peak_fare.merge(stndists, left_on=['O_MSTN_ID', 'D_MSTN_ID'], right_on=['O_MSTN_ID', 'D_MSTN_ID'])\n",
    "railOD_off_peak_fare_per_mile['off_peak_fare_per_mile'] = railOD_off_peak_fare_per_mile['OFF_PEAK_FARE']/railOD_off_peak_fare_per_mile['distance']\n",
    "railOD_off_peak_fare_per_mile = railOD_off_peak_fare_per_mile[['pairs', 'O_MSTN_ID', 'D_MSTN_ID', 'off_peak_fare_per_mile']]"
   ]
  },
  {
   "cell_type": "code",
   "execution_count": 16,
   "id": "c6b9bf25-63b9-4be3-851a-a9116c4a8d0b",
   "metadata": {},
   "outputs": [
    {
     "data": {
      "text/html": [
       "<div>\n",
       "<style scoped>\n",
       "    .dataframe tbody tr th:only-of-type {\n",
       "        vertical-align: middle;\n",
       "    }\n",
       "\n",
       "    .dataframe tbody tr th {\n",
       "        vertical-align: top;\n",
       "    }\n",
       "\n",
       "    .dataframe thead th {\n",
       "        text-align: right;\n",
       "    }\n",
       "</style>\n",
       "<table border=\"1\" class=\"dataframe\">\n",
       "  <thead>\n",
       "    <tr style=\"text-align: right;\">\n",
       "      <th></th>\n",
       "      <th>pairs</th>\n",
       "      <th>O_MSTN_ID</th>\n",
       "      <th>D_MSTN_ID</th>\n",
       "      <th>off_peak_fare_per_mile</th>\n",
       "    </tr>\n",
       "  </thead>\n",
       "  <tbody>\n",
       "    <tr>\n",
       "      <th>0</th>\n",
       "      <td>102</td>\n",
       "      <td>MSTN_001</td>\n",
       "      <td>MSTN_002</td>\n",
       "      <td>0.664864</td>\n",
       "    </tr>\n",
       "    <tr>\n",
       "      <th>1</th>\n",
       "      <td>103</td>\n",
       "      <td>MSTN_001</td>\n",
       "      <td>MSTN_003</td>\n",
       "      <td>0.626072</td>\n",
       "    </tr>\n",
       "    <tr>\n",
       "      <th>2</th>\n",
       "      <td>104</td>\n",
       "      <td>MSTN_001</td>\n",
       "      <td>MSTN_004</td>\n",
       "      <td>0.438464</td>\n",
       "    </tr>\n",
       "    <tr>\n",
       "      <th>3</th>\n",
       "      <td>105</td>\n",
       "      <td>MSTN_001</td>\n",
       "      <td>MSTN_005</td>\n",
       "      <td>0.945526</td>\n",
       "    </tr>\n",
       "    <tr>\n",
       "      <th>4</th>\n",
       "      <td>106</td>\n",
       "      <td>MSTN_001</td>\n",
       "      <td>MSTN_006</td>\n",
       "      <td>0.379632</td>\n",
       "    </tr>\n",
       "  </tbody>\n",
       "</table>\n",
       "</div>"
      ],
      "text/plain": [
       "  pairs O_MSTN_ID D_MSTN_ID  off_peak_fare_per_mile\n",
       "0   102  MSTN_001  MSTN_002                0.664864\n",
       "1   103  MSTN_001  MSTN_003                0.626072\n",
       "2   104  MSTN_001  MSTN_004                0.438464\n",
       "3   105  MSTN_001  MSTN_005                0.945526\n",
       "4   106  MSTN_001  MSTN_006                0.379632"
      ]
     },
     "execution_count": 16,
     "metadata": {},
     "output_type": "execute_result"
    }
   ],
   "source": [
    "railOD_off_peak_fare_per_mile.head()"
   ]
  },
  {
   "cell_type": "code",
   "execution_count": 17,
   "id": "ebb633f0-002d-4600-abee-80d0caf91011",
   "metadata": {},
   "outputs": [],
   "source": [
    "railOD_off_peak_fare_per_mile.to_excel(r\"C:\\Users\\janna\\Box\\WMATA_DATA\\new_scripts_2023\\WMATA_ODLURM-main\\final variable sheets\\railOD_off_peak_fare_per_mile_ML.xlsx\", sheet_name='railOD_off_peak_fare_per_mile', index=True)"
   ]
  },
  {
   "cell_type": "code",
   "execution_count": 18,
   "id": "b24575ea-e3f7-48f1-96a8-227d3a6d9ba8",
   "metadata": {},
   "outputs": [],
   "source": [
    "railOD_peak_fare_per_mile.to_excel(r\"C:\\Users\\janna\\Box\\WMATA_DATA\\new_scripts_2023\\WMATA_ODLURM-main\\final variable sheets\\railOD_peak_fare_per_mile.xlsx\", sheet_name='railOD_peak_fare_per_mile', index=True)"
   ]
  },
  {
   "cell_type": "markdown",
   "id": "26bdbce2-4a3b-4e50-85df-439255662ed5",
   "metadata": {
    "id": "75942632",
    "tags": []
   },
   "source": [
    "# Variable Comparison"
   ]
  },
  {
   "cell_type": "markdown",
   "id": "d60f0bdd-ce67-4d94-bcad-d73a854b13ad",
   "metadata": {},
   "source": [
    "## AM Peak"
   ]
  },
  {
   "cell_type": "code",
   "execution_count": 23,
   "id": "7ac4c2eb-b7d0-4d5e-b583-d0e27a47894f",
   "metadata": {},
   "outputs": [],
   "source": [
    "amnew = amzhila.copy()"
   ]
  },
  {
   "cell_type": "code",
   "execution_count": 24,
   "id": "c2a7eed1-658c-4130-8765-9b4164fd8eb0",
   "metadata": {},
   "outputs": [],
   "source": [
    "amnew['pairs'] = amnew.apply(lambda x: str(x['MSTN_ID_o'])+str(0)+str(x['MSTN_ID_d']), axis=1)"
   ]
  },
  {
   "cell_type": "code",
   "execution_count": 25,
   "id": "e99fae1d-592f-48fa-be38-c337fc15d893",
   "metadata": {},
   "outputs": [],
   "source": [
    "amnew = amnew.merge(railOD_peak_fare_per_mile, left_on = 'pairs', right_on = 'pairs', how = 'left')"
   ]
  },
  {
   "cell_type": "code",
   "execution_count": 27,
   "id": "4a544019-2397-499a-9d95-1aa84a358a9f",
   "metadata": {},
   "outputs": [],
   "source": [
    "amold = pd.read_excel('2015_files/100_AM_Peak_Other_Regular_Riders.xlsx')"
   ]
  },
  {
   "cell_type": "code",
   "execution_count": 28,
   "id": "aeea6e77-e91c-4137-9bcc-1d049fe4b08f",
   "metadata": {},
   "outputs": [],
   "source": [
    "amold['pairs'] = amold['odpair_mstn'].astype(str)"
   ]
  },
  {
   "cell_type": "code",
   "execution_count": 35,
   "id": "35b28ca9-c11d-4d41-9f86-ccd0030f018c",
   "metadata": {},
   "outputs": [],
   "source": [
    "amnew_rail_peak_fare_per_mile = amnew[['pairs', 'fare_track_mile', 'peak_fare_per_mile']]"
   ]
  },
  {
   "cell_type": "code",
   "execution_count": 39,
   "id": "51c62e58-9b8c-4984-aba4-ccf1605a3ef8",
   "metadata": {},
   "outputs": [],
   "source": [
    "amold_rail_peak_fare_per_mile = amold[['pairs', 'peak_fare_per_mile_track']].rename(columns = {'peak_fare_per_mile_track': 'peak_fare_per_mile_track_2015'})"
   ]
  },
  {
   "cell_type": "code",
   "execution_count": 45,
   "id": "10492fac-9d25-47a2-a984-a8a294012e8f",
   "metadata": {},
   "outputs": [],
   "source": [
    "am_merged = amold_rail_peak_fare_per_mile.merge(amnew_rail_peak_fare_per_mile, left_on='pairs', right_on='pairs')"
   ]
  },
  {
   "cell_type": "code",
   "execution_count": 46,
   "id": "8c15769f-2e7c-499e-b33a-1c774e556633",
   "metadata": {},
   "outputs": [
    {
     "data": {
      "text/plain": [
       "<AxesSubplot:xlabel='peak_fare_per_mile_track_2015', ylabel='fare_track_mile'>"
      ]
     },
     "execution_count": 46,
     "metadata": {},
     "output_type": "execute_result"
    },
    {
     "data": {
      "image/png": "[encoded data removed]",
      "text/plain": [
       "<Figure size 432x288 with 1 Axes>"
      ]
     },
     "metadata": {
      "needs_background": "light"
     },
     "output_type": "display_data"
    }
   ],
   "source": [
    "# 2015 vs Zhila\n",
    "am_merged.plot('peak_fare_per_mile_track_2015', 'fare_track_mile', kind='scatter')"
   ]
  },
  {
   "cell_type": "code",
   "execution_count": 90,
   "id": "38465fa0-0d48-4961-ba70-9ae1f06e44ce",
   "metadata": {},
   "outputs": [
    {
     "data": {
      "image/png": "[encoded data removed]",
      "text/plain": [
       "<Figure size 432x288 with 1 Axes>"
      ]
     },
     "metadata": {
      "needs_background": "light"
     },
     "output_type": "display_data"
    }
   ],
   "source": [
    "# 2015 VS 2023\n",
    "am_merged.plot('peak_fare_per_mile_track_2015','peak_fare_per_mile',  kind='scatter')\n",
    "plt.title('AM Peak Fare per Mile')\n",
    "plt.xlabel('2015')  \n",
    "plt.ylabel('2022') \n",
    "plt.savefig('AM Peak Fare per Mile.png', dpi=500)  \n",
    "plt.show()"
   ]
  },
  {
   "cell_type": "code",
   "execution_count": 48,
   "id": "481d6622-afb8-44ae-866d-7e6a92162b78",
   "metadata": {},
   "outputs": [
    {
     "data": {
      "text/plain": [
       "<AxesSubplot:xlabel='fare_track_mile', ylabel='peak_fare_per_mile'>"
      ]
     },
     "execution_count": 48,
     "metadata": {},
     "output_type": "execute_result"
    },
    {
     "data": {
      "image/png": "[encoded data removed]",
      "text/plain": [
       "<Figure size 432x288 with 1 Axes>"
      ]
     },
     "metadata": {
      "needs_background": "light"
     },
     "output_type": "display_data"
    }
   ],
   "source": [
    "# Zhila vs 2023\n",
    "am_merged.plot('fare_track_mile', 'peak_fare_per_mile', kind='scatter')"
   ]
  },
  {
   "cell_type": "code",
   "execution_count": 49,
   "id": "c1246c7b-790c-4f25-8a13-c24871d1b49f",
   "metadata": {},
   "outputs": [
    {
     "data": {
      "text/html": [
       "<div>\n",
       "<style scoped>\n",
       "    .dataframe tbody tr th:only-of-type {\n",
       "        vertical-align: middle;\n",
       "    }\n",
       "\n",
       "    .dataframe tbody tr th {\n",
       "        vertical-align: top;\n",
       "    }\n",
       "\n",
       "    .dataframe thead th {\n",
       "        text-align: right;\n",
       "    }\n",
       "</style>\n",
       "<table border=\"1\" class=\"dataframe\">\n",
       "  <thead>\n",
       "    <tr style=\"text-align: right;\">\n",
       "      <th></th>\n",
       "      <th>peak_fare_per_mile_track_2015</th>\n",
       "      <th>fare_track_mile</th>\n",
       "      <th>peak_fare_per_mile</th>\n",
       "    </tr>\n",
       "  </thead>\n",
       "  <tbody>\n",
       "    <tr>\n",
       "      <th>peak_fare_per_mile_track_2015</th>\n",
       "      <td>1.000000</td>\n",
       "      <td>0.992927</td>\n",
       "      <td>0.909357</td>\n",
       "    </tr>\n",
       "    <tr>\n",
       "      <th>fare_track_mile</th>\n",
       "      <td>0.992927</td>\n",
       "      <td>1.000000</td>\n",
       "      <td>0.915373</td>\n",
       "    </tr>\n",
       "    <tr>\n",
       "      <th>peak_fare_per_mile</th>\n",
       "      <td>0.909357</td>\n",
       "      <td>0.915373</td>\n",
       "      <td>1.000000</td>\n",
       "    </tr>\n",
       "  </tbody>\n",
       "</table>\n",
       "</div>"
      ],
      "text/plain": [
       "                               peak_fare_per_mile_track_2015  fare_track_mile  \\\n",
       "peak_fare_per_mile_track_2015                       1.000000         0.992927   \n",
       "fare_track_mile                                     0.992927         1.000000   \n",
       "peak_fare_per_mile                                  0.909357         0.915373   \n",
       "\n",
       "                               peak_fare_per_mile  \n",
       "peak_fare_per_mile_track_2015            0.909357  \n",
       "fare_track_mile                          0.915373  \n",
       "peak_fare_per_mile                       1.000000  "
      ]
     },
     "execution_count": 49,
     "metadata": {},
     "output_type": "execute_result"
    }
   ],
   "source": [
    "#merged = merged[['JOBSINWALKSHEDSOFSTATIONSWIUp_D', 'All_JObs']]\n",
    "am_merged.corr()"
   ]
  },
  {
   "cell_type": "markdown",
   "id": "4fe2dcfb-da23-409f-bc04-641cdb4924b7",
   "metadata": {},
   "source": [
    "## PM Peak"
   ]
  },
  {
   "cell_type": "code",
   "execution_count": 50,
   "id": "679a14bf-586e-4355-849b-0f5092ea6c8b",
   "metadata": {},
   "outputs": [],
   "source": [
    "pmnew = pmzhila.copy()"
   ]
  },
  {
   "cell_type": "code",
   "execution_count": 51,
   "id": "6a8498c8-a8f1-4d72-b155-f010c3459b14",
   "metadata": {},
   "outputs": [],
   "source": [
    "pmnew['pairs'] = pmnew.apply(lambda x: str(x['MSTN_ID_o'])+str(0)+str(x['MSTN_ID_d']), axis=1)"
   ]
  },
  {
   "cell_type": "code",
   "execution_count": 52,
   "id": "dcfadf88-f3ff-404a-8519-0b850199c95e",
   "metadata": {},
   "outputs": [],
   "source": [
    "pmnew = pmnew.merge(railOD_peak_fare_per_mile, left_on = 'pairs', right_on = 'pairs', how = 'left')"
   ]
  },
  {
   "cell_type": "code",
   "execution_count": 53,
   "id": "ea94ff91-c2f6-4a75-ad42-ad25ed40e98b",
   "metadata": {},
   "outputs": [],
   "source": [
    "pmold = pd.read_excel('2015_files/200_PMPeak_Model_Long_file.xlsx')"
   ]
  },
  {
   "cell_type": "code",
   "execution_count": 54,
   "id": "1538a060-b615-4028-a165-2e9046823ff2",
   "metadata": {},
   "outputs": [],
   "source": [
    "pmold['pairs'] = pmold['odpair_mstn'].astype(str)"
   ]
  },
  {
   "cell_type": "code",
   "execution_count": 55,
   "id": "2d4ca2bd-8604-4449-8d7f-e01230475e1e",
   "metadata": {},
   "outputs": [],
   "source": [
    "pmnew_rail_peak_fare_per_mile = pmnew[['pairs', 'fare_track_mile', 'peak_fare_per_mile']]"
   ]
  },
  {
   "cell_type": "code",
   "execution_count": 56,
   "id": "21f01ba3-a478-47a2-840d-a3e04b2a5082",
   "metadata": {},
   "outputs": [],
   "source": [
    "pmold_rail_peak_fare_per_mile = pmold[['pairs', 'peak_fare_per_mile_track']].rename(columns = {'peak_fare_per_mile_track': 'peak_fare_per_mile_track_2015'})"
   ]
  },
  {
   "cell_type": "code",
   "execution_count": 57,
   "id": "73f80ce9-226f-49e5-afb4-b3b18582de49",
   "metadata": {},
   "outputs": [],
   "source": [
    "pm_merged = pmold_rail_peak_fare_per_mile.merge(pmnew_rail_peak_fare_per_mile, left_on='pairs', right_on='pairs')"
   ]
  },
  {
   "cell_type": "code",
   "execution_count": 58,
   "id": "e253e194-eea5-4b07-b485-3359cb3bc8c6",
   "metadata": {},
   "outputs": [
    {
     "data": {
      "text/plain": [
       "<AxesSubplot:xlabel='peak_fare_per_mile_track_2015', ylabel='fare_track_mile'>"
      ]
     },
     "execution_count": 58,
     "metadata": {},
     "output_type": "execute_result"
    },
    {
     "data": {
      "image/png": "[encoded data removed]",
      "text/plain": [
       "<Figure size 432x288 with 1 Axes>"
      ]
     },
     "metadata": {
      "needs_background": "light"
     },
     "output_type": "display_data"
    }
   ],
   "source": [
    "# 2015 vs Zhila\n",
    "pm_merged.plot('peak_fare_per_mile_track_2015', 'fare_track_mile', kind='scatter')"
   ]
  },
  {
   "cell_type": "code",
   "execution_count": 91,
   "id": "cc26ed5b-d6fd-4dad-86e3-855471c6305a",
   "metadata": {},
   "outputs": [
    {
     "data": {
      "image/png": "[encoded data removed]",
      "text/plain": [
       "<Figure size 432x288 with 1 Axes>"
      ]
     },
     "metadata": {
      "needs_background": "light"
     },
     "output_type": "display_data"
    }
   ],
   "source": [
    "# 2023 vs 2015\n",
    "pm_merged.plot('peak_fare_per_mile_track_2015', 'peak_fare_per_mile', kind='scatter')\n",
    "plt.title('PM Peak Fare per Mile') \n",
    "plt.xlabel('2015') \n",
    "plt.ylabel('2022')  \n",
    "plt.savefig('PM Peak Fare per Mile.png', dpi=500)  \n",
    "plt.show()"
   ]
  },
  {
   "cell_type": "code",
   "execution_count": 60,
   "id": "a7e9e52d-deac-49a8-ac80-4683b8e85a6c",
   "metadata": {},
   "outputs": [
    {
     "data": {
      "text/plain": [
       "<AxesSubplot:xlabel='fare_track_mile', ylabel='peak_fare_per_mile'>"
      ]
     },
     "execution_count": 60,
     "metadata": {},
     "output_type": "execute_result"
    },
    {
     "data": {
      "image/png": "[encoded data removed]",
      "text/plain": [
       "<Figure size 432x288 with 1 Axes>"
      ]
     },
     "metadata": {
      "needs_background": "light"
     },
     "output_type": "display_data"
    }
   ],
   "source": [
    "# Zhila vs 2023\n",
    "pm_merged.plot('fare_track_mile', 'peak_fare_per_mile', kind='scatter')"
   ]
  },
  {
   "cell_type": "code",
   "execution_count": 61,
   "id": "8ffad008-746a-4d7a-a876-0fcaf901ea7a",
   "metadata": {},
   "outputs": [
    {
     "data": {
      "text/html": [
       "<div>\n",
       "<style scoped>\n",
       "    .dataframe tbody tr th:only-of-type {\n",
       "        vertical-align: middle;\n",
       "    }\n",
       "\n",
       "    .dataframe tbody tr th {\n",
       "        vertical-align: top;\n",
       "    }\n",
       "\n",
       "    .dataframe thead th {\n",
       "        text-align: right;\n",
       "    }\n",
       "</style>\n",
       "<table border=\"1\" class=\"dataframe\">\n",
       "  <thead>\n",
       "    <tr style=\"text-align: right;\">\n",
       "      <th></th>\n",
       "      <th>peak_fare_per_mile_track_2015</th>\n",
       "      <th>fare_track_mile</th>\n",
       "      <th>peak_fare_per_mile</th>\n",
       "    </tr>\n",
       "  </thead>\n",
       "  <tbody>\n",
       "    <tr>\n",
       "      <th>peak_fare_per_mile_track_2015</th>\n",
       "      <td>1.000000</td>\n",
       "      <td>0.993173</td>\n",
       "      <td>0.893091</td>\n",
       "    </tr>\n",
       "    <tr>\n",
       "      <th>fare_track_mile</th>\n",
       "      <td>0.993173</td>\n",
       "      <td>1.000000</td>\n",
       "      <td>0.898466</td>\n",
       "    </tr>\n",
       "    <tr>\n",
       "      <th>peak_fare_per_mile</th>\n",
       "      <td>0.893091</td>\n",
       "      <td>0.898466</td>\n",
       "      <td>1.000000</td>\n",
       "    </tr>\n",
       "  </tbody>\n",
       "</table>\n",
       "</div>"
      ],
      "text/plain": [
       "                               peak_fare_per_mile_track_2015  fare_track_mile  \\\n",
       "peak_fare_per_mile_track_2015                       1.000000         0.993173   \n",
       "fare_track_mile                                     0.993173         1.000000   \n",
       "peak_fare_per_mile                                  0.893091         0.898466   \n",
       "\n",
       "                               peak_fare_per_mile  \n",
       "peak_fare_per_mile_track_2015            0.893091  \n",
       "fare_track_mile                          0.898466  \n",
       "peak_fare_per_mile                       1.000000  "
      ]
     },
     "execution_count": 61,
     "metadata": {},
     "output_type": "execute_result"
    }
   ],
   "source": [
    "#merged = merged[['JOBSINWALKSHEDSOFSTATIONSWIUp_D', 'All_JObs']]\n",
    "pm_merged.corr()"
   ]
  },
  {
   "cell_type": "markdown",
   "id": "a7899030-95e3-4bfb-94ec-1823dbfdb66d",
   "metadata": {},
   "source": [
    "## Off Peak"
   ]
  },
  {
   "cell_type": "code",
   "execution_count": 69,
   "id": "5795667b-6efc-4d19-a8c6-12ae7d8c9cd8",
   "metadata": {},
   "outputs": [],
   "source": [
    "offnew = offzhila.copy()"
   ]
  },
  {
   "cell_type": "code",
   "execution_count": 70,
   "id": "f82913cc-d790-4f96-8296-4043aea0319d",
   "metadata": {},
   "outputs": [],
   "source": [
    "offnew['pairs'] = offnew.apply(lambda x: str(x['MSTN_ID_o'])+str(0)+str(x['MSTN_ID_d']), axis=1)"
   ]
  },
  {
   "cell_type": "code",
   "execution_count": 71,
   "id": "bff939ee-d5ff-439a-8a04-a530e3901d63",
   "metadata": {},
   "outputs": [],
   "source": [
    "offnew = offnew.merge(railOD_off_peak_fare_per_mile, left_on = 'pairs', right_on = 'pairs', how = 'left')"
   ]
  },
  {
   "cell_type": "code",
   "execution_count": 72,
   "id": "dc9ab3e8-235a-4a74-b2be-dea47968476d",
   "metadata": {},
   "outputs": [],
   "source": [
    "offold = pd.read_excel('2015_files/300_OffPeak_Other_Regular_Riders.xlsx')"
   ]
  },
  {
   "cell_type": "code",
   "execution_count": 73,
   "id": "b408e115-196e-49ff-9db6-87a6e8d19e16",
   "metadata": {},
   "outputs": [],
   "source": [
    "offold['pairs'] = offold['odpair_mstn'].astype(str)"
   ]
  },
  {
   "cell_type": "code",
   "execution_count": 75,
   "id": "c8d514dc-0c3e-40ee-a3b2-4e40e7f7c7d6",
   "metadata": {},
   "outputs": [],
   "source": [
    "offnew_rail_fare_per_mile = offnew[['pairs', 'fare_track_mile', 'off_peak_fare_per_mile']]"
   ]
  },
  {
   "cell_type": "code",
   "execution_count": 78,
   "id": "f0373163-cec8-4dbf-9579-4dec9ea28a0e",
   "metadata": {},
   "outputs": [],
   "source": [
    "offold_rail_fare_per_mile = offold[['pairs', 'off_peak_fare_per_mile_track']].rename(columns = {'off_peak_fare_per_mile_track': 'off_peak_fare_per_mile_track_2015'})"
   ]
  },
  {
   "cell_type": "code",
   "execution_count": 79,
   "id": "5966d670-2a9f-460f-bfdd-17fda591a56e",
   "metadata": {},
   "outputs": [],
   "source": [
    "off_merged = offold_rail_fare_per_mile.merge(offnew_rail_fare_per_mile, left_on='pairs', right_on='pairs')"
   ]
  },
  {
   "cell_type": "code",
   "execution_count": 80,
   "id": "ec4e9a95-b847-4f71-87f3-bc54830d8cdb",
   "metadata": {},
   "outputs": [
    {
     "data": {
      "text/plain": [
       "<AxesSubplot:xlabel='off_peak_fare_per_mile_track_2015', ylabel='fare_track_mile'>"
      ]
     },
     "execution_count": 80,
     "metadata": {},
     "output_type": "execute_result"
    },
    {
     "data": {
      "image/png": "[encoded data removed]",
      "text/plain": [
       "<Figure size 432x288 with 1 Axes>"
      ]
     },
     "metadata": {
      "needs_background": "light"
     },
     "output_type": "display_data"
    }
   ],
   "source": [
    "# 2015 vs Zhila\n",
    "off_merged.plot('off_peak_fare_per_mile_track_2015', 'fare_track_mile', kind='scatter')"
   ]
  },
  {
   "cell_type": "code",
   "execution_count": 92,
   "id": "ad54e790-2bbc-465c-97a7-50026edaa091",
   "metadata": {},
   "outputs": [
    {
     "data": {
      "image/png": "[encoded data removed]",
      "text/plain": [
       "<Figure size 432x288 with 1 Axes>"
      ]
     },
     "metadata": {
      "needs_background": "light"
     },
     "output_type": "display_data"
    }
   ],
   "source": [
    "# 2015 VS 2023\n",
    "off_merged.plot('off_peak_fare_per_mile_track_2015', 'off_peak_fare_per_mile', kind='scatter')\n",
    "plt.title('Off Peak Fare per Mile')\n",
    "plt.xlabel('2015') \n",
    "plt.ylabel('2022')  \n",
    "plt.savefig('Off Peak Fare per Mile.png', dpi=500)  \n",
    "plt.show()"
   ]
  },
  {
   "cell_type": "code",
   "execution_count": 82,
   "id": "94ce0dac-3021-4fcb-9ab2-57d862669dd1",
   "metadata": {},
   "outputs": [
    {
     "data": {
      "text/plain": [
       "<AxesSubplot:xlabel='fare_track_mile', ylabel='off_peak_fare_per_mile'>"
      ]
     },
     "execution_count": 82,
     "metadata": {},
     "output_type": "execute_result"
    },
    {
     "data": {
      "image/png": "[encoded data removed]",
      "text/plain": [
       "<Figure size 432x288 with 1 Axes>"
      ]
     },
     "metadata": {
      "needs_background": "light"
     },
     "output_type": "display_data"
    }
   ],
   "source": [
    "# Zhila vs 2023\n",
    "off_merged.plot('fare_track_mile', 'off_peak_fare_per_mile', kind='scatter')"
   ]
  },
  {
   "cell_type": "code",
   "execution_count": 84,
   "id": "bca158e4-f882-477c-ae44-ad2cb8b7f04e",
   "metadata": {},
   "outputs": [
    {
     "data": {
      "text/html": [
       "<div>\n",
       "<style scoped>\n",
       "    .dataframe tbody tr th:only-of-type {\n",
       "        vertical-align: middle;\n",
       "    }\n",
       "\n",
       "    .dataframe tbody tr th {\n",
       "        vertical-align: top;\n",
       "    }\n",
       "\n",
       "    .dataframe thead th {\n",
       "        text-align: right;\n",
       "    }\n",
       "</style>\n",
       "<table border=\"1\" class=\"dataframe\">\n",
       "  <thead>\n",
       "    <tr style=\"text-align: right;\">\n",
       "      <th></th>\n",
       "      <th>off_peak_fare_per_mile_track_2015</th>\n",
       "      <th>fare_track_mile</th>\n",
       "      <th>off_peak_fare_per_mile</th>\n",
       "    </tr>\n",
       "  </thead>\n",
       "  <tbody>\n",
       "    <tr>\n",
       "      <th>off_peak_fare_per_mile_track_2015</th>\n",
       "      <td>1.000000</td>\n",
       "      <td>0.993076</td>\n",
       "      <td>0.898517</td>\n",
       "    </tr>\n",
       "    <tr>\n",
       "      <th>fare_track_mile</th>\n",
       "      <td>0.993076</td>\n",
       "      <td>1.000000</td>\n",
       "      <td>0.904702</td>\n",
       "    </tr>\n",
       "    <tr>\n",
       "      <th>off_peak_fare_per_mile</th>\n",
       "      <td>0.898517</td>\n",
       "      <td>0.904702</td>\n",
       "      <td>1.000000</td>\n",
       "    </tr>\n",
       "  </tbody>\n",
       "</table>\n",
       "</div>"
      ],
      "text/plain": [
       "                                   off_peak_fare_per_mile_track_2015  \\\n",
       "off_peak_fare_per_mile_track_2015                           1.000000   \n",
       "fare_track_mile                                             0.993076   \n",
       "off_peak_fare_per_mile                                      0.898517   \n",
       "\n",
       "                                   fare_track_mile  off_peak_fare_per_mile  \n",
       "off_peak_fare_per_mile_track_2015         0.993076                0.898517  \n",
       "fare_track_mile                           1.000000                0.904702  \n",
       "off_peak_fare_per_mile                    0.904702                1.000000  "
      ]
     },
     "execution_count": 84,
     "metadata": {},
     "output_type": "execute_result"
    }
   ],
   "source": [
    "#merged = merged[['JOBSINWALKSHEDSOFSTATIONSWIUp_D', 'All_JObs']]\n",
    "off_merged.corr()"
   ]
  },
  {
   "cell_type": "code",
   "execution_count": null,
   "id": "f2c4e229-d73c-4fe3-a703-cd2e2c385cd9",
   "metadata": {},
   "outputs": [],
   "source": []
  }
 ],
 "metadata": {
  "colab": {
   "provenance": []
  },
  "kernelspec": {
   "display_name": "Python 3 (ipykernel)",
   "language": "python",
   "name": "python3"
  },
  "language_info": {
   "codemirror_mode": {
    "name": "ipython",
    "version": 3
   },
   "file_extension": ".py",
   "mimetype": "text/x-python",
   "name": "python",
   "nbconvert_exporter": "python",
   "pygments_lexer": "ipython3",
   "version": "3.11.4"
  }
 },
 "nbformat": 4,
 "nbformat_minor": 5
}
