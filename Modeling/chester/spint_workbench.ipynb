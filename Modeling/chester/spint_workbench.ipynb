{
 "cells": [
  {
   "cell_type": "code",
   "execution_count": null,
   "id": "9ca6fada-71e1-41e0-93ef-847f22541a28",
   "metadata": {},
   "outputs": [],
   "source": [
    "# Install fork of spint with modifications to accept multiple cost variables\n",
    "# !pip install git+https://github.com/chesterharvey/spint"
   ]
  },
  {
   "cell_type": "code",
   "execution_count": 1,
   "id": "3c394eb8-f34b-435d-add3-3e1afa09e3da",
   "metadata": {},
   "outputs": [
    {
     "name": "stdout",
     "output_type": "stream",
     "text": [
      "8190 initial records\n",
      "8190 complete records from load_travel_time_and_fares\n",
      "8190 complete records from load_track_miles\n",
      "8190 complete records from load_am_ridership\n",
      "8190 complete records from load_pm_ridership\n",
      "8190 complete records from load_off_peak_ridership\n",
      "8190 complete records from calculate_total_ridership_and_parking_users\n",
      "8190 complete records from load_am_auto_travel_time\n",
      "8190 complete records from load_pm_auto_travel_time\n",
      "8190 complete records from load_off_peak_auto_travel_time\n",
      "8190 complete records from load_bus_travel_time\n",
      "8190 complete records from load_auto_miles\n",
      "8190 complete records from load_m25_stations\n",
      "8190 complete records from load_median_hh_income\n",
      "8190 complete records from load_nine_to_five_jobs\n",
      "8190 complete records from load_night_and_weekend_jobs\n",
      "8190 complete records from load_school_jobs\n",
      "8190 complete records from load_sop\n",
      "8190 complete records from calculate_sums_from_columns\n",
      "8190 complete records from calculate_rates_from_constants\n",
      "8190 complete records from calculate_rates_from_columns\n",
      "8190 complete records from calculate_interactions\n",
      "8190 complete records from calculate_ln_transformations\n"
     ]
    }
   ],
   "source": [
    "from modeling import *\n",
    "from feature_dev import *\n",
    "from utils import configs\n",
    "\n",
    "%load_ext autoreload\n",
    "%autoreload 2\n",
    "\n",
    "pd.set_option('display.max_rows', None)\n",
    "\n",
    "df = develop_features()\n",
    "# df.columns.tolist()"
   ]
  },
  {
   "cell_type": "code",
   "execution_count": null,
   "id": "3442e683-3d44-4499-9774-ed4398cf5174",
   "metadata": {},
   "outputs": [],
   "source": [
    "output_df, grav_model = estimate_models(df, cost_func='pow', **task_2_no_track_mile_model_spec)\n",
    "output_df"
   ]
  },
  {
   "cell_type": "code",
   "execution_count": null,
   "id": "08cd6c3b-4b96-47f7-bf31-43a30cdc681a",
   "metadata": {},
   "outputs": [],
   "source": [
    "dir(grav_model)"
   ]
  },
  {
   "cell_type": "code",
   "execution_count": null,
   "id": "c47e98e2-d766-4e6b-b301-f156f8bb6660",
   "metadata": {},
   "outputs": [],
   "source": [
    "yhat = grav_model.yhat"
   ]
  },
  {
   "cell_type": "code",
   "execution_count": null,
   "id": "919940b3-7388-4086-a7f7-6c2a7f0dff59",
   "metadata": {},
   "outputs": [],
   "source": [
    "y = np.transpose(grav_model.y)[0]"
   ]
  },
  {
   "cell_type": "code",
   "execution_count": null,
   "id": "fec89c66-625b-4515-8a3f-05ba053fc840",
   "metadata": {},
   "outputs": [],
   "source": [
    "r = np.corrcoef(yhat, y)[0,1]"
   ]
  },
  {
   "cell_type": "code",
   "execution_count": null,
   "id": "7360ffc3-dacc-40f9-ad93-a0db55b51ed6",
   "metadata": {},
   "outputs": [],
   "source": [
    "r * r"
   ]
  },
  {
   "cell_type": "markdown",
   "id": "bd99bcca-8159-4660-b75d-70f689cd9279",
   "metadata": {},
   "source": [
    "Why not combine flows at times of day as units of analysis and then control for am, pm, and off peak and fixed effects?\n",
    "\n",
    "Count flows within hours of the day (or maybe 3-hour chunks?) for each day of the week (or maybe weekdays/weekends?)"
   ]
  },
  {
   "cell_type": "markdown",
   "id": "68bcd230-fb38-40f3-8320-c760d05b7e20",
   "metadata": {
    "jp-MarkdownHeadingCollapsed": true
   },
   "source": [
    "# Vars to investigate\n",
    "- Parking spaces per station\n",
    "- Land uses per station\n",
    "    - Job types may be best proxy\n",
    "- Percent of users who parked"
   ]
  },
  {
   "cell_type": "code",
   "execution_count": null,
   "id": "a8358337-bad0-4119-9610-b4b02f0f5a84",
   "metadata": {},
   "outputs": [],
   "source": [
    "from flow_counts import *"
   ]
  },
  {
   "cell_type": "code",
   "execution_count": null,
   "id": "49b3125d-a25f-4c54-91a1-5c3de151120c",
   "metadata": {},
   "outputs": [],
   "source": [
    "df = load_trips_record()"
   ]
  },
  {
   "cell_type": "code",
   "execution_count": null,
   "id": "a6fac250-bb88-4cb1-b55a-2c3d4f362bb6",
   "metadata": {},
   "outputs": [],
   "source": [
    "df.head(2).T"
   ]
  },
  {
   "cell_type": "code",
   "execution_count": null,
   "id": "95eb2ad4-411a-4562-a431-4bc2a1efc7a0",
   "metadata": {},
   "outputs": [],
   "source": [
    "df.to_parquet(path='rail_trips.parquet')"
   ]
  },
  {
   "cell_type": "code",
   "execution_count": null,
   "id": "ce6203b4-7339-4622-863b-f22be9a0ec07",
   "metadata": {},
   "outputs": [],
   "source": [
    "path = os.path.join(configs.box_data_dir, 'Data/railTrips_withBusParkingFlags_04152022-05152022.xlsx')\n",
    "df = pd.read_excel(path)"
   ]
  },
  {
   "cell_type": "code",
   "execution_count": null,
   "id": "a49e4a4f-6f18-4077-8307-4de94e1c475e",
   "metadata": {},
   "outputs": [],
   "source": [
    "df.head().columns.tolist()"
   ]
  },
  {
   "cell_type": "code",
   "execution_count": null,
   "id": "596d9e3e-6fc7-42da-9e47-e9ecfb10f039",
   "metadata": {},
   "outputs": [],
   "source": [
    "df.head()"
   ]
  },
  {
   "cell_type": "code",
   "execution_count": null,
   "id": "4e6f2667-d124-4751-9e3d-7653ed5bbc2b",
   "metadata": {},
   "outputs": [],
   "source": [
    "df['day_of_week'] = df.START_TIME.dt.day_name().value_counts()"
   ]
  },
  {
   "cell_type": "code",
   "execution_count": null,
   "id": "91e162a0-2c1b-4bc7-95a8-c3ad6f40b30f",
   "metadata": {},
   "outputs": [],
   "source": [
    "df.START_TIME.iloc[0].time()"
   ]
  },
  {
   "cell_type": "code",
   "execution_count": null,
   "id": "0da2d272-9f4b-4f3b-9211-df94a7064450",
   "metadata": {},
   "outputs": [],
   "source": [
    "breaks = [\n",
    "        ('off peak', '05:00'),\n",
    "        ('am', '12:00'),\n",
    "        ('pm', '21:30'),\n",
    "        ('off peak', '23:59'),\n",
    "    ]\n",
    "bins = [pd.to_datetime('00:00').time()] + [pd.to_datetime(x).time() for x in [b for (_, b) in breaks]]\n",
    "minute_bins = [(x.hour * 60) + x.minute for x in bins]\n",
    "labels = [a for (a, _) in breaks]\n",
    "minute_col = df['START_TIME'].dt.hour * 60 + df['START_TIME'].dt.minute\n",
    "df['start_time_category'] = pd.cut(minute_col, bins=minute_bins, labels=labels, include_lowest=True, ordered=False)\n",
    "\n",
    "df.start_time_category.value_counts()"
   ]
  },
  {
   "cell_type": "code",
   "execution_count": null,
   "id": "613e9078-3a4b-49d5-8243-5d1af0690484",
   "metadata": {},
   "outputs": [],
   "source": [
    "[(x.hour * 60) + x.minute for x in bins]"
   ]
  },
  {
   "cell_type": "code",
   "execution_count": null,
   "id": "6cfba5d3-2ff0-4d58-a899-e92a84a34777",
   "metadata": {},
   "outputs": [],
   "source": []
  }
 ],
 "metadata": {
  "kernelspec": {
   "display_name": "Python 3 (ipykernel)",
   "language": "python",
   "name": "python3"
  },
  "language_info": {
   "codemirror_mode": {
    "name": "ipython",
    "version": 3
   },
   "file_extension": ".py",
   "mimetype": "text/x-python",
   "name": "python",
   "nbconvert_exporter": "python",
   "pygments_lexer": "ipython3",
   "version": "3.11.3"
  }
 },
 "nbformat": 4,
 "nbformat_minor": 5
}
