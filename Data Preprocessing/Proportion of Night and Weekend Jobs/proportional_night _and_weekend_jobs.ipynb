{
 "cells": [
  {
   "cell_type": "code",
   "execution_count": 1,
   "id": "59149af6",
   "metadata": {
    "colab": {
     "base_uri": "https://localhost:8080/"
    },
    "executionInfo": {
     "elapsed": 22349,
     "status": "ok",
     "timestamp": 1684439066064,
     "user": {
      "displayName": "Janna Chapman",
      "userId": "03316905486439216008"
     },
     "user_tz": 240
    },
    "id": "59149af6",
    "outputId": "fb4ad935-86d5-403c-9882-488a248dc14f"
   },
   "outputs": [],
   "source": [
    "import os\n",
    "os.makedirs('output', exist_ok=True)\n",
    "\n",
    "import sys\n",
    "sys.path.append('../')\n",
    "from utils import load_walksheds, overlay_wks\n",
    "\n",
    "import geopandas as gpd\n",
    "from geopandas.tools import overlay\n",
    "import matplotlib.pyplot as plt\n",
    "import pandas as pd\n",
    "import numpy as np\n",
    "import warnings\n",
    "warnings.filterwarnings(\"ignore\")"
   ]
  },
  {
   "cell_type": "markdown",
   "id": "034de387-c0cb-4602-99c6-38eb04515b72",
   "metadata": {},
   "source": [
    "#### Read in Datasets and Files"
   ]
  },
  {
   "cell_type": "markdown",
   "id": "320271f2-82ba-4718-b98f-db455a0cda9c",
   "metadata": {},
   "source": [
    "* walskhedbuffer is the Metro station walksheds with overlapping boundaries\n",
    "* all_boundaries All boundaries for census blocks in MD, DC and VA\n",
    "* Alljobs_MDDCVA contains information for all jobs in MD, DC and VA "
   ]
  },
  {
   "cell_type": "code",
   "execution_count": 2,
   "id": "5a77154a",
   "metadata": {
    "executionInfo": {
     "elapsed": 39505,
     "status": "ok",
     "timestamp": 1684439121606,
     "user": {
      "displayName": "Janna Chapman",
      "userId": "03316905486439216008"
     },
     "user_tz": 240
    },
    "id": "5a77154a"
   },
   "outputs": [],
   "source": [
    "wksp5, wksp75 = load_walksheds()\n",
    "all_boundaries= gpd.read_file(\"../../Data/Block MD_DC_VA.zip\")\n",
    "Alljobs_MDDCVA = pd.read_excel(\"../../Data/AlljobMDDCVA.xlsx\")"
   ]
  },
  {
   "cell_type": "markdown",
   "id": "178236f5-4bf8-4746-9599-938bff3a06f6",
   "metadata": {},
   "source": [
    "#### Preprocessing\n"
   ]
  },
  {
   "cell_type": "markdown",
   "id": "89ee7639-b7b3-409f-b0f6-e6dff84f8a28",
   "metadata": {},
   "source": [
    "* Convert the walkshed boundaries into the same CRS as the all boundaries layer\n",
    "* Rename the w_geocode column from jobs table to GEOID20 to match the ID column name in the block shapefile of DC, MD, VA\n",
    "* Convert the GEOID20 column in the jobs table to strings "
   ]
  },
  {
   "cell_type": "code",
   "execution_count": 3,
   "id": "44e5eba3",
   "metadata": {
    "executionInfo": {
     "elapsed": 243449,
     "status": "ok",
     "timestamp": 1684439366477,
     "user": {
      "displayName": "Janna Chapman",
      "userId": "03316905486439216008"
     },
     "user_tz": 240
    },
    "id": "44e5eba3"
   },
   "outputs": [],
   "source": [
    "all_boundaries =all_boundaries.to_crs(wksp5.crs)"
   ]
  },
  {
   "cell_type": "code",
   "execution_count": 4,
   "id": "b6b3f520",
   "metadata": {
    "executionInfo": {
     "elapsed": 27,
     "status": "ok",
     "timestamp": 1684439727304,
     "user": {
      "displayName": "Janna Chapman",
      "userId": "03316905486439216008"
     },
     "user_tz": 240
    },
    "id": "b6b3f520"
   },
   "outputs": [],
   "source": [
    "Alljobs_MDDCVA.rename(columns = {'w_geocode':'GEOID20'}, inplace = True)\n",
    "Alljobs_MDDCVA[\"GEOID20\"]= Alljobs_MDDCVA[\"GEOID20\"].astype(str)"
   ]
  },
  {
   "cell_type": "markdown",
   "id": "1e754ba5-5a8b-43c8-afe0-d34a4f88ddaa",
   "metadata": {},
   "source": [
    "* Join jobs to all_boundaries. Keep boundaries where there are no jobs\n",
    "* Create a column of the full area of the jobs"
   ]
  },
  {
   "cell_type": "code",
   "execution_count": 5,
   "id": "58d8ebcb",
   "metadata": {
    "executionInfo": {
     "elapsed": 532,
     "status": "ok",
     "timestamp": 1684439897492,
     "user": {
      "displayName": "Janna Chapman",
      "userId": "03316905486439216008"
     },
     "user_tz": 240
    },
    "id": "58d8ebcb"
   },
   "outputs": [],
   "source": [
    "Join_Jobs_Boundaries=pd.merge(all_boundaries,Alljobs_MDDCVA, on=\"GEOID20\", how='left')\n",
    "\n",
    "Join_Jobs_Boundaries['fullarea'] = Join_Jobs_Boundaries.area"
   ]
  },
  {
   "cell_type": "markdown",
   "id": "2ad92bf0-9d29-4d65-a9ce-3717fa1aa9c3",
   "metadata": {},
   "source": [
    "* Intersect the jobs with the walksheds\n",
    "* Create a partial area column to get the block area that is within a walkshed\n",
    "* Fix the names of the stations by removing extra numbers/characters at the end"
   ]
  },
  {
   "cell_type": "code",
   "execution_count": 6,
   "id": "11bfff95",
   "metadata": {
    "executionInfo": {
     "elapsed": 1085,
     "status": "ok",
     "timestamp": 1684439904631,
     "user": {
      "displayName": "Janna Chapman",
      "userId": "03316905486439216008"
     },
     "user_tz": 240
    },
    "id": "11bfff95"
   },
   "outputs": [],
   "source": [
    "intp5, intp75 = overlay_wks(Join_Jobs_Boundaries)"
   ]
  },
  {
   "cell_type": "code",
   "execution_count": 7,
   "id": "uX8Hr0vqZpRi",
   "metadata": {
    "colab": {
     "base_uri": "https://localhost:8080/"
    },
    "executionInfo": {
     "elapsed": 127,
     "status": "ok",
     "timestamp": 1684439905959,
     "user": {
      "displayName": "Janna Chapman",
      "userId": "03316905486439216008"
     },
     "user_tz": 240
    },
    "id": "uX8Hr0vqZpRi",
    "outputId": "b6fb2178-23a2-492e-a834-fce15853598c"
   },
   "outputs": [],
   "source": [
    "intp5['partialarea'] = intp5.area\n",
    "intp75['partialarea'] = intp75.area"
   ]
  },
  {
   "cell_type": "markdown",
   "id": "4783c40b-9d63-4c42-9380-c533238794bc",
   "metadata": {},
   "source": [
    "* Group all of the jobs that apply to the night and weekend jobs category within the buffer of each station (these codes are CNS07 (retail jobs), CNS17, and CNS18 for resturants and entertainment)\n",
    "* Sum the jobs within each group and delete the individual job category columns\n",
    "* For each station, calculate the percent area of blocks that are within each station walkshed\n",
    "* Multiply that percentage (multiplier) by the total number of jobs (Sum_nightjob_bufstation) to get the proportional number of night and weekend jobs\n",
    "* Export the proporional number of night and weekend jobs"
   ]
  },
  {
   "cell_type": "code",
   "execution_count": 8,
   "id": "07c06083",
   "metadata": {
    "executionInfo": {
     "elapsed": 149,
     "status": "ok",
     "timestamp": 1684439914230,
     "user": {
      "displayName": "Janna Chapman",
      "userId": "03316905486439216008"
     },
     "user_tz": 240
    },
    "id": "07c06083"
   },
   "outputs": [],
   "source": [
    "Sum_nightjob_bufstation_p5 = intp5.groupby(['Name_1'])[['CNS07','CNS17','CNS18']].apply(sum)\n",
    "Sum_nightjob_bufstation_p75 = intp75.groupby(['Name_1'])[['CNS07','CNS17','CNS18']].apply(sum)\n"
   ]
  },
  {
   "cell_type": "code",
   "execution_count": 9,
   "id": "1c8d1584",
   "metadata": {
    "executionInfo": {
     "elapsed": 155,
     "status": "ok",
     "timestamp": 1684439964259,
     "user": {
      "displayName": "Janna Chapman",
      "userId": "03316905486439216008"
     },
     "user_tz": 240
    },
    "id": "1c8d1584"
   },
   "outputs": [
    {
     "data": {
      "text/html": [
       "<div>\n",
       "<style scoped>\n",
       "    .dataframe tbody tr th:only-of-type {\n",
       "        vertical-align: middle;\n",
       "    }\n",
       "\n",
       "    .dataframe tbody tr th {\n",
       "        vertical-align: top;\n",
       "    }\n",
       "\n",
       "    .dataframe thead th {\n",
       "        text-align: right;\n",
       "    }\n",
       "</style>\n",
       "<table border=\"1\" class=\"dataframe\">\n",
       "  <thead>\n",
       "    <tr style=\"text-align: right;\">\n",
       "      <th></th>\n",
       "      <th>Total night and Weekend Jobs</th>\n",
       "    </tr>\n",
       "    <tr>\n",
       "      <th>Name_1</th>\n",
       "      <th></th>\n",
       "    </tr>\n",
       "  </thead>\n",
       "  <tbody>\n",
       "    <tr>\n",
       "      <th>ADDISON ROAD-SEAT PLEASANT</th>\n",
       "      <td>36.0</td>\n",
       "    </tr>\n",
       "    <tr>\n",
       "      <th>ANACOSTIA</th>\n",
       "      <td>340.0</td>\n",
       "    </tr>\n",
       "  </tbody>\n",
       "</table>\n",
       "</div>"
      ],
      "text/plain": [
       "                            Total night and Weekend Jobs\n",
       "Name_1                                                  \n",
       "ADDISON ROAD-SEAT PLEASANT                          36.0\n",
       "ANACOSTIA                                          340.0"
      ]
     },
     "execution_count": 9,
     "metadata": {},
     "output_type": "execute_result"
    }
   ],
   "source": [
    "Sum_nightjob_bufstation_p5['Total night and Weekend Jobs']= Sum_nightjob_bufstation_p5.iloc[:, 0:3].sum(axis=1)\n",
    "Sum_nightjob_bufstation_p5 = Sum_nightjob_bufstation_p5.drop(['CNS07','CNS17','CNS18'], axis=1)\n",
    "\n",
    "Sum_nightjob_bufstation_p75['Total night and Weekend Jobs']= Sum_nightjob_bufstation_p75.iloc[:, 0:3].sum(axis=1)\n",
    "Sum_nightjob_bufstation_p75 = Sum_nightjob_bufstation_p75.drop(['CNS07','CNS17','CNS18'], axis=1)\n",
    "Sum_nightjob_bufstation_p5.head(2)"
   ]
  },
  {
   "cell_type": "code",
   "execution_count": 10,
   "id": "06d07f89",
   "metadata": {
    "colab": {
     "base_uri": "https://localhost:8080/"
    },
    "executionInfo": {
     "elapsed": 146,
     "status": "ok",
     "timestamp": 1684439976123,
     "user": {
      "displayName": "Janna Chapman",
      "userId": "03316905486439216008"
     },
     "user_tz": 240
    },
    "id": "06d07f89",
    "outputId": "0f65bedb-b3b3-474b-be37-a9d236ab8a01"
   },
   "outputs": [],
   "source": [
    "totalarea_station_p5 = intp5.groupby(['Name_1'])[['fullarea']].apply(sum)\n",
    "totalarea_station_p75 = intp75.groupby(['Name_1'])[['fullarea']].apply(sum)\n",
    "\n",
    "partialarea_station_p5 = intp5.groupby(['Name_1'])[['partialarea']].apply(sum)\n",
    "partialarea_station_p75 = intp75.groupby(['Name_1'])[['partialarea']].apply(sum)\n",
    "\n",
    "multiplier_p5 = partialarea_station_p5['partialarea']/totalarea_station_p5['fullarea']\n",
    "multiplier_p75 = partialarea_station_p75['partialarea']/totalarea_station_p75['fullarea']\n"
   ]
  },
  {
   "cell_type": "code",
   "execution_count": 11,
   "id": "4658a8b8",
   "metadata": {
    "colab": {
     "base_uri": "https://localhost:8080/",
     "height": 455
    },
    "executionInfo": {
     "elapsed": 155,
     "status": "ok",
     "timestamp": 1684439984006,
     "user": {
      "displayName": "Janna Chapman",
      "userId": "03316905486439216008"
     },
     "user_tz": 240
    },
    "id": "4658a8b8",
    "outputId": "d6e4edaa-a58b-46c7-cdf9-ea6d44406b9c"
   },
   "outputs": [
    {
     "data": {
      "text/html": [
       "<div>\n",
       "<style scoped>\n",
       "    .dataframe tbody tr th:only-of-type {\n",
       "        vertical-align: middle;\n",
       "    }\n",
       "\n",
       "    .dataframe tbody tr th {\n",
       "        vertical-align: top;\n",
       "    }\n",
       "\n",
       "    .dataframe thead th {\n",
       "        text-align: right;\n",
       "    }\n",
       "</style>\n",
       "<table border=\"1\" class=\"dataframe\">\n",
       "  <thead>\n",
       "    <tr style=\"text-align: right;\">\n",
       "      <th></th>\n",
       "      <th>Proportion_night_weekend_jobs_p5</th>\n",
       "    </tr>\n",
       "    <tr>\n",
       "      <th>Name_1</th>\n",
       "      <th></th>\n",
       "    </tr>\n",
       "  </thead>\n",
       "  <tbody>\n",
       "    <tr>\n",
       "      <th>ADDISON ROAD-SEAT PLEASANT</th>\n",
       "      <td>10.449694</td>\n",
       "    </tr>\n",
       "    <tr>\n",
       "      <th>ANACOSTIA</th>\n",
       "      <td>134.784916</td>\n",
       "    </tr>\n",
       "    <tr>\n",
       "      <th>ARCHIVES-NAVY MEMORIAL-PENN QUARTER</th>\n",
       "      <td>0.000000</td>\n",
       "    </tr>\n",
       "    <tr>\n",
       "      <th>ARLINGTON CEMETERY</th>\n",
       "      <td>63.155243</td>\n",
       "    </tr>\n",
       "    <tr>\n",
       "      <th>Ashburn</th>\n",
       "      <td>471.516448</td>\n",
       "    </tr>\n",
       "    <tr>\n",
       "      <th>...</th>\n",
       "      <td>...</td>\n",
       "    </tr>\n",
       "    <tr>\n",
       "      <th>WHEATON</th>\n",
       "      <td>1388.708404</td>\n",
       "    </tr>\n",
       "    <tr>\n",
       "      <th>WHITE FLINT</th>\n",
       "      <td>2257.603743</td>\n",
       "    </tr>\n",
       "    <tr>\n",
       "      <th>WIEHLE-RESTON EAST</th>\n",
       "      <td>0.000000</td>\n",
       "    </tr>\n",
       "    <tr>\n",
       "      <th>WOODLEY PARK-ZOO/ADAMS MORGAN</th>\n",
       "      <td>3147.825035</td>\n",
       "    </tr>\n",
       "    <tr>\n",
       "      <th>Washington Dulles International Airport</th>\n",
       "      <td>0.000000</td>\n",
       "    </tr>\n",
       "  </tbody>\n",
       "</table>\n",
       "<p>97 rows × 1 columns</p>\n",
       "</div>"
      ],
      "text/plain": [
       "                                         Proportion_night_weekend_jobs_p5\n",
       "Name_1                                                                   \n",
       "ADDISON ROAD-SEAT PLEASANT                                      10.449694\n",
       "ANACOSTIA                                                      134.784916\n",
       "ARCHIVES-NAVY MEMORIAL-PENN QUARTER                              0.000000\n",
       "ARLINGTON CEMETERY                                              63.155243\n",
       "Ashburn                                                        471.516448\n",
       "...                                                                   ...\n",
       "WHEATON                                                       1388.708404\n",
       "WHITE FLINT                                                   2257.603743\n",
       "WIEHLE-RESTON EAST                                               0.000000\n",
       "WOODLEY PARK-ZOO/ADAMS MORGAN                                 3147.825035\n",
       "Washington Dulles International Airport                          0.000000\n",
       "\n",
       "[97 rows x 1 columns]"
      ]
     },
     "execution_count": 11,
     "metadata": {},
     "output_type": "execute_result"
    }
   ],
   "source": [
    "proportion_jobs_walkstation_p5 = Sum_nightjob_bufstation_p5.multiply(multiplier_p5, axis=\"index\")\n",
    "proportion_jobs_walkstation_p5.rename(columns={'Total night and Weekend Jobs': 'Proportion_night_weekend_jobs_p5'}, inplace=True)\n",
    "\n",
    "proportion_jobs_walkstation_p75 = Sum_nightjob_bufstation_p75.multiply(multiplier_p75, axis=\"index\")\n",
    "proportion_jobs_walkstation_p75.rename(columns={'Total night and Weekend Jobs': 'Proportion_night_weekend_jobs_p75'}, inplace=True)\n",
    "proportion_jobs_walkstation_p5"
   ]
  },
  {
   "cell_type": "code",
   "execution_count": 12,
   "id": "def1f7ac",
   "metadata": {
    "executionInfo": {
     "elapsed": 141,
     "status": "ok",
     "timestamp": 1684440142308,
     "user": {
      "displayName": "Janna Chapman",
      "userId": "03316905486439216008"
     },
     "user_tz": 240
    },
    "id": "def1f7ac",
    "tags": []
   },
   "outputs": [],
   "source": [
    "proportion_jobs_walkstation_p5.to_excel(\"output/Proportional_night_weekend_jobs_ML_p5.xlsx\", sheet_name='num of night jobs_stations', index=True)\n",
    "proportion_jobs_walkstation_p75.to_excel(\"output/Proportional_night_weekend_jobs_ML_p75.xlsx\", sheet_name='num of night jobs_stations', index=True)\n"
   ]
  }
 ],
 "metadata": {
  "colab": {
   "provenance": []
  },
  "kernelspec": {
   "display_name": "Python 3 (ipykernel)",
   "language": "python",
   "name": "python3"
  },
  "language_info": {
   "codemirror_mode": {
    "name": "ipython",
    "version": 3
   },
   "file_extension": ".py",
   "mimetype": "text/x-python",
   "name": "python",
   "nbconvert_exporter": "python",
   "pygments_lexer": "ipython3",
   "version": "3.12.0"
  }
 },
 "nbformat": 4,
 "nbformat_minor": 5
}
