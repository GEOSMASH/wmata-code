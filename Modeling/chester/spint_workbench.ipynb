{
 "cells": [
  {
   "cell_type": "code",
   "execution_count": null,
   "id": "9ca6fada-71e1-41e0-93ef-847f22541a28",
   "metadata": {},
   "outputs": [],
   "source": [
    "# Install fork of spint with modifications to accept multiple cost variables\n",
    "# !pip install git+https://github.com/chesterharvey/spint"
   ]
  },
  {
   "cell_type": "code",
   "execution_count": 62,
   "id": "3c394eb8-f34b-435d-add3-3e1afa09e3da",
   "metadata": {},
   "outputs": [
    {
     "name": "stdout",
     "output_type": "stream",
     "text": [
      "The autoreload extension is already loaded. To reload it, use:\n",
      "  %reload_ext autoreload\n",
      "8190 initial records\n",
      "8190 complete records from load_travel_time_and_fares\n",
      "8190 complete records from load_track_miles\n",
      "8190 complete records from load_am_ridership\n",
      "8190 complete records from load_pm_ridership\n",
      "8190 complete records from load_off_peak_ridership\n",
      "8190 complete records from calculate_total_ridership_and_parking_users\n",
      "8190 complete records from load_bus_travel_time\n",
      "8190 complete records from load_am_auto_travel_time\n",
      "8190 complete records from load_pm_auto_travel_time\n",
      "8190 complete records from load_off_peak_auto_travel_time\n",
      "8190 complete records from load_m25_stations\n",
      "8190 complete records from load_median_hh_income\n",
      "8190 complete records from load_nine_to_five_jobs\n",
      "8190 complete records from load_night_and_weekend_jobs\n",
      "8190 complete records from load_school_jobs\n",
      "8190 complete records from load_sop\n",
      "8190 complete records from calculate_interactions\n"
     ]
    }
   ],
   "source": [
    "from modeling import *\n",
    "from feature_dev import *\n",
    "from utils import configs\n",
    "\n",
    "%load_ext autoreload\n",
    "%autoreload 2\n",
    "\n",
    "df = develop_features()\n",
    "# df.columns.tolist()"
   ]
  },
  {
   "cell_type": "code",
   "execution_count": 68,
   "id": "dfc06552-5330-4ef7-b5b8-f632465a776e",
   "metadata": {},
   "outputs": [
    {
     "data": {
      "text/plain": [
       "['composite_miles_od',\n",
       " 'peak_fare_od',\n",
       " 'off_peak_fare_od',\n",
       " 'sd_fare_od',\n",
       " 'travel_time_od',\n",
       " 'track_miles_od',\n",
       " 'am_ridership_od',\n",
       " 'am_parking_user_od',\n",
       " 'pm_ridership_od',\n",
       " 'pm_parking_user_od',\n",
       " 'off_peak_ridership_od',\n",
       " 'off_peak_parking_user_od',\n",
       " 'total_ridership_od',\n",
       " 'total_parking_user_od',\n",
       " 'bus_tt_od',\n",
       " 'bus_transfers_od',\n",
       " 'am_auto_tt_od',\n",
       " 'pm_auto_tt_od',\n",
       " 'off_peak_auto_tt_od']"
      ]
     },
     "execution_count": 68,
     "metadata": {},
     "output_type": "execute_result"
    }
   ],
   "source": [
    "[x for x in df.columns if x[-3:] == '_od']"
   ]
  },
  {
   "cell_type": "code",
   "execution_count": 71,
   "id": "21b9034b-83f1-478f-8c15-3791b66819d6",
   "metadata": {},
   "outputs": [
    {
     "data": {
      "text/plain": [
       "0       741.0\n",
       "1       121.0\n",
       "2        44.0\n",
       "3       122.0\n",
       "4        18.0\n",
       "        ...  \n",
       "8185     53.0\n",
       "8186     19.0\n",
       "8187     14.0\n",
       "8188     59.0\n",
       "8189    654.0\n",
       "Name: total_ridership_od, Length: 8190, dtype: float64"
      ]
     },
     "execution_count": 71,
     "metadata": {},
     "output_type": "execute_result"
    }
   ],
   "source": [
    "df.total_ridership_od"
   ]
  },
  {
   "cell_type": "code",
   "execution_count": 72,
   "id": "7ee6b555-820e-47b1-a91a-27b699159f1f",
   "metadata": {},
   "outputs": [
    {
     "ename": "TypeError",
     "evalue": "Dependent variable (y) must be composed of integers",
     "output_type": "error",
     "traceback": [
      "\u001b[0;31m---------------------------------------------------------------------------\u001b[0m",
      "\u001b[0;31mTypeError\u001b[0m                                 Traceback (most recent call last)",
      "Cell \u001b[0;32mIn[72], line 81\u001b[0m\n\u001b[1;32m     56\u001b[0m od_vars \u001b[38;5;241m=\u001b[39m [\n\u001b[1;32m     57\u001b[0m     \u001b[38;5;66;03m# 'composite_miles_od',\u001b[39;00m\n\u001b[1;32m     58\u001b[0m     \u001b[38;5;124m'\u001b[39m\u001b[38;5;124mpeak_fare_od\u001b[39m\u001b[38;5;124m'\u001b[39m,\n\u001b[0;32m   (...)\u001b[0m\n\u001b[1;32m     76\u001b[0m     \u001b[38;5;66;03m# 'm25_station_o*m25_station_d',\u001b[39;00m\n\u001b[1;32m     77\u001b[0m ]\n\u001b[1;32m     79\u001b[0m \u001b[38;5;66;03m# flows, o_vars, d_vars, od_vars = inputs(df, flows, o_vars, d_vars, od_vars)\u001b[39;00m\n\u001b[0;32m---> 81\u001b[0m \u001b[43mestimate_models\u001b[49m\u001b[43m(\u001b[49m\u001b[43mdf\u001b[49m\u001b[43m,\u001b[49m\u001b[43m \u001b[49m\u001b[43mflows\u001b[49m\u001b[43m,\u001b[49m\u001b[43m \u001b[49m\u001b[43mo_vars\u001b[49m\u001b[43m,\u001b[49m\u001b[43m \u001b[49m\u001b[43md_vars\u001b[49m\u001b[43m,\u001b[49m\u001b[43m \u001b[49m\u001b[43mod_vars\u001b[49m\u001b[43m)\u001b[49m\n",
      "File \u001b[0;32m~/github/wmata-code/Modeling/chester/modeling.py:34\u001b[0m, in \u001b[0;36mestimate_models\u001b[0;34m(df, flows, o_vars, d_vars, od_vars, constant)\u001b[0m\n\u001b[1;32m     33\u001b[0m \u001b[38;5;28;01mdef\u001b[39;00m \u001b[38;5;21mestimate_models\u001b[39m(df, flows, o_vars, d_vars, od_vars, constant\u001b[38;5;241m=\u001b[39m\u001b[38;5;28;01mTrue\u001b[39;00m):\n\u001b[0;32m---> 34\u001b[0m     grav_model, grav_summary \u001b[38;5;241m=\u001b[39m \u001b[43mgravity\u001b[49m\u001b[43m(\u001b[49m\u001b[43mdf\u001b[49m\u001b[43m,\u001b[49m\u001b[43m \u001b[49m\u001b[43mflows\u001b[49m\u001b[43m,\u001b[49m\u001b[43m \u001b[49m\u001b[43mo_vars\u001b[49m\u001b[43m,\u001b[49m\u001b[43m \u001b[49m\u001b[43md_vars\u001b[49m\u001b[43m,\u001b[49m\u001b[43m \u001b[49m\u001b[43mod_vars\u001b[49m\u001b[43m,\u001b[49m\u001b[43m \u001b[49m\u001b[43mconstant\u001b[49m\u001b[38;5;241;43m=\u001b[39;49m\u001b[43mconstant\u001b[49m\u001b[43m)\u001b[49m\n\u001b[1;32m     35\u001b[0m     ols_model, ols_summary \u001b[38;5;241m=\u001b[39m ols(df, flows, o_vars, d_vars, od_vars, constant\u001b[38;5;241m=\u001b[39mconstant)\n\u001b[1;32m     36\u001b[0m     df \u001b[38;5;241m=\u001b[39m combine_model_summaries(\n\u001b[1;32m     37\u001b[0m         [grav_summary, ols_summary],\n\u001b[1;32m     38\u001b[0m         [\u001b[38;5;124m'\u001b[39m\u001b[38;5;124mGravity\u001b[39m\u001b[38;5;124m'\u001b[39m, \u001b[38;5;124m'\u001b[39m\u001b[38;5;124mOLS\u001b[39m\u001b[38;5;124m'\u001b[39m])\n",
      "File \u001b[0;32m~/github/wmata-code/Modeling/chester/modeling.py:20\u001b[0m, in \u001b[0;36mgravity\u001b[0;34m(df, flows, o_vars, d_vars, od_vars, constant)\u001b[0m\n\u001b[1;32m     18\u001b[0m     covars \u001b[38;5;241m=\u001b[39m o_vars \u001b[38;5;241m+\u001b[39m d_vars \u001b[38;5;241m+\u001b[39m od_vars\n\u001b[1;32m     19\u001b[0m flows, o_vars, d_vars, od_vars \u001b[38;5;241m=\u001b[39m inputs(df, flows, o_vars, d_vars, od_vars)\n\u001b[0;32m---> 20\u001b[0m model \u001b[38;5;241m=\u001b[39m \u001b[43mGravity\u001b[49m\u001b[43m(\u001b[49m\u001b[43mflows\u001b[49m\u001b[43m,\u001b[49m\u001b[43m \u001b[49m\u001b[43mo_vars\u001b[49m\u001b[43m,\u001b[49m\u001b[43m \u001b[49m\u001b[43md_vars\u001b[49m\u001b[43m,\u001b[49m\u001b[43m \u001b[49m\u001b[43mod_vars\u001b[49m\u001b[43m,\u001b[49m\u001b[43m \u001b[49m\u001b[38;5;124;43m'\u001b[39;49m\u001b[38;5;124;43mexp\u001b[39;49m\u001b[38;5;124;43m'\u001b[39;49m\u001b[43m,\u001b[49m\u001b[43m \u001b[49m\u001b[43mconstant\u001b[49m\u001b[38;5;241;43m=\u001b[39;49m\u001b[43mconstant\u001b[49m\u001b[43m)\u001b[49m\n\u001b[1;32m     21\u001b[0m summary \u001b[38;5;241m=\u001b[39m summarize_gravity_model(model, covars)\n\u001b[1;32m     22\u001b[0m \u001b[38;5;28;01mreturn\u001b[39;00m model, summary\n",
      "File \u001b[0;32m~/github/spint/spint/gravity.py:484\u001b[0m, in \u001b[0;36mGravity.__init__\u001b[0;34m(self, flows, o_vars, d_vars, costs, cost_func, constant, framework, SF, CD, Lag, Quasi)\u001b[0m\n\u001b[1;32m    480\u001b[0m \u001b[38;5;28mself\u001b[39m\u001b[38;5;241m.\u001b[39mc \u001b[38;5;241m=\u001b[39m np\u001b[38;5;241m.\u001b[39mreshape(costs, (\u001b[38;5;241m-\u001b[39m\u001b[38;5;241m1\u001b[39m, p))\n\u001b[1;32m    482\u001b[0m \u001b[38;5;66;03m#User.check_arrays(self.f, self.ov, self.dv, self.c)\u001b[39;00m\n\u001b[0;32m--> 484\u001b[0m \u001b[43mBaseGravity\u001b[49m\u001b[38;5;241;43m.\u001b[39;49m\u001b[38;5;21;43m__init__\u001b[39;49m\u001b[43m(\u001b[49m\n\u001b[1;32m    485\u001b[0m \u001b[43m    \u001b[49m\u001b[38;5;28;43mself\u001b[39;49m\u001b[43m,\u001b[49m\n\u001b[1;32m    486\u001b[0m \u001b[43m    \u001b[49m\u001b[38;5;28;43mself\u001b[39;49m\u001b[38;5;241;43m.\u001b[39;49m\u001b[43mf\u001b[49m\u001b[43m,\u001b[49m\n\u001b[1;32m    487\u001b[0m \u001b[43m    \u001b[49m\u001b[38;5;28;43mself\u001b[39;49m\u001b[38;5;241;43m.\u001b[39;49m\u001b[43mc\u001b[49m\u001b[43m,\u001b[49m\n\u001b[1;32m    488\u001b[0m \u001b[43m    \u001b[49m\u001b[43mcost_func\u001b[49m\u001b[38;5;241;43m=\u001b[39;49m\u001b[43mcost_func\u001b[49m\u001b[43m,\u001b[49m\n\u001b[1;32m    489\u001b[0m \u001b[43m    \u001b[49m\u001b[43mo_vars\u001b[49m\u001b[38;5;241;43m=\u001b[39;49m\u001b[38;5;28;43mself\u001b[39;49m\u001b[38;5;241;43m.\u001b[39;49m\u001b[43mov\u001b[49m\u001b[43m,\u001b[49m\n\u001b[1;32m    490\u001b[0m \u001b[43m    \u001b[49m\u001b[43md_vars\u001b[49m\u001b[38;5;241;43m=\u001b[39;49m\u001b[38;5;28;43mself\u001b[39;49m\u001b[38;5;241;43m.\u001b[39;49m\u001b[43mdv\u001b[49m\u001b[43m,\u001b[49m\n\u001b[1;32m    491\u001b[0m \u001b[43m    \u001b[49m\u001b[43mconstant\u001b[49m\u001b[38;5;241;43m=\u001b[39;49m\u001b[43mconstant\u001b[49m\u001b[43m,\u001b[49m\n\u001b[1;32m    492\u001b[0m \u001b[43m    \u001b[49m\u001b[43mframework\u001b[49m\u001b[38;5;241;43m=\u001b[39;49m\u001b[43mframework\u001b[49m\u001b[43m,\u001b[49m\n\u001b[1;32m    493\u001b[0m \u001b[43m    \u001b[49m\u001b[43mSF\u001b[49m\u001b[38;5;241;43m=\u001b[39;49m\u001b[43mSF\u001b[49m\u001b[43m,\u001b[49m\n\u001b[1;32m    494\u001b[0m \u001b[43m    \u001b[49m\u001b[43mCD\u001b[49m\u001b[38;5;241;43m=\u001b[39;49m\u001b[43mCD\u001b[49m\u001b[43m,\u001b[49m\n\u001b[1;32m    495\u001b[0m \u001b[43m    \u001b[49m\u001b[43mLag\u001b[49m\u001b[38;5;241;43m=\u001b[39;49m\u001b[43mLag\u001b[49m\u001b[43m,\u001b[49m\n\u001b[1;32m    496\u001b[0m \u001b[43m    \u001b[49m\u001b[43mQuasi\u001b[49m\u001b[38;5;241;43m=\u001b[39;49m\u001b[43mQuasi\u001b[49m\u001b[43m)\u001b[49m\n",
      "File \u001b[0;32m~/github/spint/spint/gravity.py:290\u001b[0m, in \u001b[0;36mBaseGravity.__init__\u001b[0;34m(self, flows, costs, cost_func, o_vars, d_vars, origins, destinations, constant, framework, SF, CD, Lag, Quasi)\u001b[0m\n\u001b[1;32m    286\u001b[0m \u001b[38;5;28;01mif\u001b[39;00m Lag:\n\u001b[1;32m    287\u001b[0m     \u001b[38;5;28;01mraise\u001b[39;00m \u001b[38;5;167;01mNotImplementedError\u001b[39;00m(\n\u001b[1;32m    288\u001b[0m         \u001b[38;5;124m\"\u001b[39m\u001b[38;5;124mSpatial Lag autoregressive model not yet implemented\u001b[39m\u001b[38;5;124m\"\u001b[39m)\n\u001b[0;32m--> 290\u001b[0m \u001b[43mCountModel\u001b[49m\u001b[38;5;241;43m.\u001b[39;49m\u001b[38;5;21;43m__init__\u001b[39;49m\u001b[43m(\u001b[49m\u001b[38;5;28;43mself\u001b[39;49m\u001b[43m,\u001b[49m\u001b[43m \u001b[49m\u001b[43my\u001b[49m\u001b[43m,\u001b[49m\u001b[43m \u001b[49m\u001b[43mX\u001b[49m\u001b[43m,\u001b[49m\u001b[43m \u001b[49m\u001b[43mconstant\u001b[49m\u001b[38;5;241;43m=\u001b[39;49m\u001b[43mconstant\u001b[49m\u001b[43m)\u001b[49m\n\u001b[1;32m    291\u001b[0m \u001b[38;5;28;01mif\u001b[39;00m (framework\u001b[38;5;241m.\u001b[39mlower() \u001b[38;5;241m==\u001b[39m \u001b[38;5;124m'\u001b[39m\u001b[38;5;124mglm\u001b[39m\u001b[38;5;124m'\u001b[39m):\n\u001b[1;32m    292\u001b[0m     \u001b[38;5;28;01mif\u001b[39;00m \u001b[38;5;129;01mnot\u001b[39;00m Quasi:\n",
      "File \u001b[0;32m~/github/spint/spint/count_model.py:64\u001b[0m, in \u001b[0;36mCountModel.__init__\u001b[0;34m(self, y, X, family, constant)\u001b[0m\n\u001b[1;32m     63\u001b[0m \u001b[38;5;28;01mdef\u001b[39;00m \u001b[38;5;21m__init__\u001b[39m(\u001b[38;5;28mself\u001b[39m, y, X, family\u001b[38;5;241m=\u001b[39mPoisson(), constant\u001b[38;5;241m=\u001b[39m\u001b[38;5;28;01mTrue\u001b[39;00m):\n\u001b[0;32m---> 64\u001b[0m     \u001b[38;5;28mself\u001b[39m\u001b[38;5;241m.\u001b[39my \u001b[38;5;241m=\u001b[39m \u001b[38;5;28;43mself\u001b[39;49m\u001b[38;5;241;43m.\u001b[39;49m\u001b[43m_check_counts\u001b[49m\u001b[43m(\u001b[49m\u001b[43my\u001b[49m\u001b[43m)\u001b[49m\n\u001b[1;32m     65\u001b[0m     \u001b[38;5;28mself\u001b[39m\u001b[38;5;241m.\u001b[39mX \u001b[38;5;241m=\u001b[39m X\n\u001b[1;32m     66\u001b[0m     \u001b[38;5;28mself\u001b[39m\u001b[38;5;241m.\u001b[39mconstant \u001b[38;5;241m=\u001b[39m constant\n",
      "File \u001b[0;32m~/github/spint/spint/count_model.py:72\u001b[0m, in \u001b[0;36mCountModel._check_counts\u001b[0;34m(self, y)\u001b[0m\n\u001b[1;32m     70\u001b[0m     \u001b[38;5;28;01mreturn\u001b[39;00m y\n\u001b[1;32m     71\u001b[0m \u001b[38;5;28;01melse\u001b[39;00m:\n\u001b[0;32m---> 72\u001b[0m     \u001b[38;5;28;01mraise\u001b[39;00m \u001b[38;5;167;01mTypeError\u001b[39;00m(\n\u001b[1;32m     73\u001b[0m         \u001b[38;5;124m'\u001b[39m\u001b[38;5;124mDependent variable (y) must be composed of integers\u001b[39m\u001b[38;5;124m'\u001b[39m)\n",
      "\u001b[0;31mTypeError\u001b[0m: Dependent variable (y) must be composed of integers"
     ]
    }
   ],
   "source": [
    "flows = 'total_ridership_od'\n",
    "o_vars = [\n",
    "    # 'trains_per_hr_peak_o',\n",
    "    # 'proportion_houses_o',\n",
    "    # 'total_households_within_half_mi_o',\n",
    "    # 'parking_capacity_o',\n",
    "    'bus_line_count_o',\n",
    "    # 'bus_stop_count_o',\n",
    "    # 'total_jobs_within_half_mi_o',\n",
    "    # 'miles_to_core_o',\n",
    "    # 'terminal_dummy_2023_o',\n",
    "    # 'm25_station_o',\n",
    "    # 'median_hh_income_o',\n",
    "    # 'nine_to_five_jobs_o',\n",
    "    # 'night_weekend_jobs_o',\n",
    "    # 'school_jobs_o',\n",
    "    # 'sop_form_norm_o',\n",
    "    # 'sop_dens_norm_o',\n",
    "    # 'sop_prox_norm_o',\n",
    "    # 'sop_conn_norm_o',\n",
    "    # 'sop_park_norm_o',\n",
    "    # 'sop_peds_norm_o',\n",
    "    # 'sop_safe_norm_o',\n",
    "    # 'sop_traf_norm_o',\n",
    "    # 'sop_aest_norm_o',\n",
    "    # 'sop_recr_norm_o',\n",
    "    # 'sop_totl_norm_o',\n",
    "]\n",
    "d_vars = [\n",
    "    # 'trains_per_hr_peak_d',\n",
    "    # 'proportion_houses_d',\n",
    "    # 'total_households_within_half_mi_d',\n",
    "    # 'parking_capacity_d',\n",
    "    'bus_line_count_d',\n",
    "    # 'bus_stop_count_d',\n",
    "    # 'total_jobs_within_half_mi_d',\n",
    "    # 'miles_to_core_d',\n",
    "    # 'terminal_dummy_2023_d',\n",
    "    # 'm25_station_d',\n",
    "    # 'median_hh_income_d',\n",
    "    # 'nine_to_five_jobs_d',\n",
    "    # 'night_weekend_jobs_d',\n",
    "    # 'school_jobs_d',\n",
    "    # 'sop_form_norm_d',\n",
    "    # 'sop_dens_norm_d',\n",
    "    # 'sop_prox_norm_d',\n",
    "    # 'sop_conn_norm_d',\n",
    "    # 'sop_park_norm_d',\n",
    "    # 'sop_peds_norm_d',\n",
    "    # 'sop_safe_norm_d',\n",
    "    # 'sop_traf_norm_d',\n",
    "    # 'sop_aest_norm_d',\n",
    "    # 'sop_recr_norm_d',\n",
    "    # 'sop_totl_norm_d',\n",
    "]\n",
    "od_vars = [\n",
    "    # 'composite_miles_od',\n",
    "    'peak_fare_od',\n",
    "    # 'off_peak_fare_od',\n",
    "    # 'sd_fare_od',\n",
    "    # 'travel_time_od',\n",
    "    # 'track_miles_od',\n",
    "    # 'am_ridership_od',\n",
    "    # 'am_parking_user_od',\n",
    "    # 'pm_ridership_od',\n",
    "    # 'pm_parking_user_od',\n",
    "    # 'off_peak_ridership_od',\n",
    "    # 'off_peak_parking_user_od',\n",
    "    # 'total_ridership_od',\n",
    "    # 'total_parking_user_od',\n",
    "    # 'bus_tt_od',\n",
    "    # 'bus_transfers_od',\n",
    "    # 'am_auto_tt_od',\n",
    "    # 'pm_auto_tt_od',\n",
    "    # 'off_peak_auto_tt_od',\n",
    "    # 'm25_station_o*m25_station_d',\n",
    "]\n",
    "\n",
    "# flows, o_vars, d_vars, od_vars = inputs(df, flows, o_vars, d_vars, od_vars)\n",
    "\n",
    "estimate_models(df, flows, o_vars, d_vars, od_vars)"
   ]
  },
  {
   "cell_type": "code",
   "execution_count": null,
   "id": "4b7f31a4-3e24-47f1-a4e5-2ef07f7c21cc",
   "metadata": {},
   "outputs": [],
   "source": []
  },
  {
   "cell_type": "code",
   "execution_count": null,
   "id": "8559c129-0ca9-4f76-abbd-4516808420fa",
   "metadata": {},
   "outputs": [],
   "source": [
    "from utils import *\n",
    "path = os.path.join(box_data_dir, 'Data Preprocessing/Bus Travel Time/output/busttpermile_ML.xlsx')\n",
    "df = pd.read_excel(path)"
   ]
  },
  {
   "cell_type": "code",
   "execution_count": null,
   "id": "05d4c543-e81f-404a-9963-296c6da4b9bd",
   "metadata": {},
   "outputs": [],
   "source": [
    "df"
   ]
  },
  {
   "cell_type": "code",
   "execution_count": null,
   "id": "d7f5b3ed-f059-4cd5-b916-c248400a4b98",
   "metadata": {},
   "outputs": [],
   "source": []
  }
 ],
 "metadata": {
  "kernelspec": {
   "display_name": "Python 3 (ipykernel)",
   "language": "python",
   "name": "python3"
  },
  "language_info": {
   "codemirror_mode": {
    "name": "ipython",
    "version": 3
   },
   "file_extension": ".py",
   "mimetype": "text/x-python",
   "name": "python",
   "nbconvert_exporter": "python",
   "pygments_lexer": "ipython3",
   "version": "3.11.3"
  }
 },
 "nbformat": 4,
 "nbformat_minor": 5
}
